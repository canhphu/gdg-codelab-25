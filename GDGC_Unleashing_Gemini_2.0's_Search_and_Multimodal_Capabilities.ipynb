{
  "nbformat": 4,
  "nbformat_minor": 0,
  "metadata": {
    "colab": {
      "provenance": [],
      "toc_visible": true,
      "authorship_tag": "ABX9TyMVBNGbz5Hn4OFTQC9CfwEm",
      "include_colab_link": true
    },
    "kernelspec": {
      "name": "python3",
      "display_name": "Python 3"
    },
    "language_info": {
      "name": "python"
    }
  },
  "cells": [
    {
      "cell_type": "markdown",
      "metadata": {
        "id": "view-in-github",
        "colab_type": "text"
      },
      "source": [
        "<a href=\"https://colab.research.google.com/github/linhkid/gdg-codelab-25/blob/main/GDGC_Unleashing_Gemini_2.0's_Search_and_Multimodal_Capabilities.ipynb\" target=\"_parent\"><img src=\"https://colab.research.google.com/assets/colab-badge.svg\" alt=\"Open In Colab\"/></a>"
      ]
    },
    {
      "cell_type": "markdown",
      "source": [
        "# Introduction"
      ],
      "metadata": {
        "id": "9aMNWK97jGlo"
      }
    },
    {
      "cell_type": "markdown",
      "source": [
        "Welcome to this Codelab! We'll explore how to leverage Gemini 2.0's built-in Google Search tool for real-time information retrieval, combine it with multimodal capabilities, and build practical applications with the Google Gen AI SDK.\n"
      ],
      "metadata": {
        "id": "qJf-4L8DxhJD"
      }
    },
    {
      "cell_type": "markdown",
      "source": [
        "# Setup Section\n",
        "\n",
        "## 1. Install Dependencies and Setup Environment\n",
        "\n",
        "### Install the Google Gen AI SDK\n",
        "### !pip install -U -q google-genai matplotlib pandas plotly python-dateutil"
      ],
      "metadata": {
        "id": "SpM7TwYpxrgg"
      }
    },
    {
      "cell_type": "code",
      "source": [
        "!pip install -U -q google-genai matplotlib pandas plotly python-dateutil"
      ],
      "metadata": {
        "id": "8HgX5Rf68R_S"
      },
      "execution_count": 50,
      "outputs": []
    },
    {
      "cell_type": "code",
      "source": [
        "import os\n",
        "import json\n",
        "import time\n",
        "import numpy as np\n",
        "import pandas as pd\n",
        "import matplotlib.pyplot as plt\n",
        "from datetime import datetime, timedelta\n",
        "from IPython.display import display, HTML, Markdown\n",
        "from google.colab import userdata\n",
        "\n",
        "print(\"--- 1. Setting up environment ---\")\n",
        "print(\"# Required packages installed. Setting up your API key next.\")\n",
        "\n",
        "# Load the API key from Colab secrets\n",
        "# For security, we use Colab's userdata feature\n",
        "try:\n",
        "    # @markdown Make sure you have saved your Google AI API key as a Colab secret named 'GOOGLE_API_KEY'\n",
        "    os.environ['GOOGLE_API_KEY'] = userdata.get('GOOGLE_API_KEY')\n",
        "    print(\"✅ API key loaded successfully!\")\n",
        "except Exception as e:\n",
        "    print(f\"❌ Error loading API key: {e}\")\n",
        "    print(\"Please set up your API key by following these steps:\")\n",
        "    print(\"1. Go to https://ai.google.dev/ to get your API key\")\n",
        "    print(\"2. In Colab, go to 'Secrets' in the left sidebar\")\n",
        "    print(\"3. Add a new secret named 'GOOGLE_API_KEY' with your key as the value\")\n",
        "    print(\"4. Re-run this cell\")\n"
      ],
      "metadata": {
        "colab": {
          "base_uri": "https://localhost:8080/"
        },
        "id": "JMvkfvtUxzN5",
        "outputId": "9e19b394-fb70-4fce-de76-a90f3707a5a2"
      },
      "execution_count": null,
      "outputs": [
        {
          "output_type": "stream",
          "name": "stdout",
          "text": [
            "--- 1. Setting up environment ---\n",
            "# Required packages installed. Setting up your API key next.\n",
            "✅ API key loaded successfully!\n"
          ]
        }
      ]
    },
    {
      "cell_type": "markdown",
      "source": [
        "# Gemini Model Initialization\n",
        "## 2. Initialize Gemini 2.0 Model"
      ],
      "metadata": {
        "id": "P_pNvSeAyB98"
      }
    },
    {
      "cell_type": "code",
      "source": [
        "from google import genai\n",
        "\n",
        "# Initialize the client with your API key\n",
        "client = genai.Client(api_key=os.environ['GOOGLE_API_KEY'],\n",
        "                     http_options={'api_version': 'v1alpha'})\n",
        "\n",
        "\n",
        "# Available models - uncomment the one you want to use\n",
        "MODEL = 'gemini-2.0-flash'  # Fast, good for quick searches and responses\n",
        "#MODEL = 'gemini-2.5-pro-exp-03-25'  # More capable but slower, and often being overloaded\n",
        "#MODEL = 'gemini-2.0-flash-thinking-exp-01-21'\n",
        "\n",
        "print(f\"✅ Using model: {MODEL}\")\n",
        "print(\"# Note: Different models have different capabilities and pricing.\")\n",
        "print(\"# The 'flash' model is faster while 'pro' is more capable.\")"
      ],
      "metadata": {
        "colab": {
          "base_uri": "https://localhost:8080/"
        },
        "id": "4fL7Us04yHRW",
        "outputId": "5589a683-2a13-4c3d-9e53-e497a52d80d4"
      },
      "execution_count": null,
      "outputs": [
        {
          "output_type": "stream",
          "name": "stdout",
          "text": [
            "✅ Using model: gemini-2.0-flash\n",
            "# Note: Different models have different capabilities and pricing.\n",
            "# The 'flash' model is faster while 'pro' is more capable.\n"
          ]
        }
      ]
    },
    {
      "cell_type": "markdown",
      "source": [
        "# Helper Functions\n",
        "## 3. Define Helper Functions for Response Display"
      ],
      "metadata": {
        "id": "f6fisRqryJTL"
      }
    },
    {
      "cell_type": "code",
      "source": [
        "def show_parts(response):\n",
        "    \"\"\"Display various parts of a Gemini response including text, code, and search results.\"\"\"\n",
        "    parts = response.candidates[0].content.parts\n",
        "\n",
        "    if parts is None:\n",
        "        finish_reason = response.candidates[0].finish_reason\n",
        "        print(f'Finish reason: {finish_reason}')\n",
        "        return\n",
        "\n",
        "    for part in response.candidates[0].content.parts:\n",
        "        if part.text:\n",
        "            display(Markdown(part.text))\n",
        "        elif hasattr(part, 'executable_code') and part.executable_code:\n",
        "            display(Markdown(f'```python\\n{part.executable_code.code}\\n```'))\n",
        "        else:\n",
        "            print(\"Other part type:\")\n",
        "            print(json.dumps(part.model_dump(exclude_none=True), indent=2))\n",
        "\n",
        "    # Display search results if any\n",
        "    grounding_metadata = response.candidates[0].grounding_metadata\n",
        "    if grounding_metadata and grounding_metadata.search_entry_point:\n",
        "        print(\"\\n📊 Search Results Used:\")\n",
        "        display(HTML(grounding_metadata.search_entry_point.rendered_content))"
      ],
      "metadata": {
        "id": "jZW-8UAxyOZZ"
      },
      "execution_count": null,
      "outputs": []
    },
    {
      "cell_type": "code",
      "source": [
        "def visualize_search_usage(responses):\n",
        "    \"\"\"Create a visualization of how many searches were used in responses.\"\"\"\n",
        "    search_counts = []\n",
        "\n",
        "    # Process multiple responses to count search usage\n",
        "    for i, resp in enumerate(responses):\n",
        "        count = 0\n",
        "        if hasattr(resp.candidates[0], 'grounding_metadata') and resp.candidates[0].grounding_metadata:\n",
        "            meta = resp.candidates[0].grounding_metadata\n",
        "            if hasattr(meta, 'search_entry_point') and meta.search_entry_point:\n",
        "                # Count the number of search queries\n",
        "                count = len(meta.search_entry_point.references) if hasattr(meta.search_entry_point, 'references') else 1\n",
        "        search_counts.append(count)\n",
        "\n",
        "    # Create a simple bar chart\n",
        "    plt.figure(figsize=(10, 5))\n",
        "    plt.bar(range(len(search_counts)), search_counts, color='skyblue')\n",
        "    plt.xlabel('Query Number')\n",
        "    plt.ylabel('Number of Searches Used')\n",
        "    plt.title('Search Utilization per Query')\n",
        "    plt.xticks(range(len(search_counts)))\n",
        "    plt.grid(axis='y', linestyle='--', alpha=0.7)\n",
        "    plt.show()\n"
      ],
      "metadata": {
        "id": "p_uzGkQBySWk"
      },
      "execution_count": null,
      "outputs": []
    },
    {
      "cell_type": "code",
      "source": [
        "print(\"✅ Helper functions defined for displaying responses and visualizing search usage\")\n",
        "print(\"# These functions will help us examine how Gemini uses search and processes information.\")"
      ],
      "metadata": {
        "colab": {
          "base_uri": "https://localhost:8080/"
        },
        "id": "QpTh5bCWyW23",
        "outputId": "523c7fc7-a208-4545-9a6e-0b390267b391"
      },
      "execution_count": null,
      "outputs": [
        {
          "output_type": "stream",
          "name": "stdout",
          "text": [
            "✅ Helper functions defined for displaying responses and visualizing search usage\n",
            "# These functions will help us examine how Gemini uses search and processes information.\n"
          ]
        }
      ]
    },
    {
      "cell_type": "markdown",
      "source": [
        "# Basic Search Example\n",
        "\n",
        "## 4. Comparing Responses With and Without Search\n",
        "\n"
      ],
      "metadata": {
        "id": "w7SgKf6iyVBJ"
      }
    },
    {
      "cell_type": "code",
      "source": [
        "print(\"\\n--- 4. Basic Search Comparison Demo ---\")\n",
        "print(\"# Let's compare how Gemini responds with and without search capabilities\")\n",
        "\n",
        "# Chat without search\n",
        "regular_chat = client.chats.create(model=MODEL)\n",
        "\n",
        "print(\"\\n📝 Query without search: 'What are the latest developments in quantum computing?'\")\n",
        "regular_response = regular_chat.send_message('What are the latest developments in quantum computing?')\n",
        "print(\"\\n🤖 Response WITHOUT search tool:\")\n",
        "show_parts(regular_response)\n",
        "\n",
        "# Wait a moment before next query\n",
        "time.sleep(2)\n",
        "\n",
        "# Chat with search enabled\n",
        "search_tool = {'google_search': {}}\n",
        "search_chat = client.chats.create(model=MODEL, config={'tools': [search_tool]})\n",
        "\n",
        "print(\"\\n📝 Same query WITH search: 'What are the latest developments in quantum computing?'\")\n",
        "search_response = search_chat.send_message('What are the latest developments in quantum computing?')\n",
        "print(\"\\n🤖 Response WITH search tool:\")\n",
        "show_parts(search_response)\n",
        "\n",
        "print(\"\\n# Notice the differences in specificity, recency, and detail between the two responses.\")\n",
        "print(\"# The search-enabled response can cite recent developments and specific breakthroughs.\")"
      ],
      "metadata": {
        "colab": {
          "base_uri": "https://localhost:8080/",
          "height": 1000
        },
        "id": "RYz80tuJyasd",
        "outputId": "82b64331-92e4-4777-c78f-57398783b6b9"
      },
      "execution_count": null,
      "outputs": [
        {
          "output_type": "stream",
          "name": "stdout",
          "text": [
            "\n",
            "--- 4. Basic Search Comparison Demo ---\n",
            "# Let's compare how Gemini responds with and without search capabilities\n",
            "\n",
            "📝 Query without search: 'What are the latest developments in quantum computing?'\n",
            "\n",
            "🤖 Response WITHOUT search tool:\n"
          ]
        },
        {
          "output_type": "display_data",
          "data": {
            "text/plain": [
              "<IPython.core.display.Markdown object>"
            ],
            "text/markdown": "Quantum computing is a rapidly evolving field, and there are many exciting developments happening constantly. Here's a snapshot of some of the latest key areas and advancements:\n\n**1. Hardware Advancements:**\n\n*   **Increasing Qubit Counts & Quality:**\n    *   Companies like IBM, Google, Quantinuum, and IonQ are continuously working on building processors with more qubits.  Beyond just quantity, a major focus is on improving qubit quality (coherence, fidelity, connectivity).  Expect to see announcements about processors exceeding 1,000 qubits in the near future, but remember that usable qubits are the key metric.\n    *   Error mitigation and correction techniques are critical for leveraging these larger qubit counts.\n*   **Diverse Qubit Technologies:**\n    *   **Superconducting Qubits:** Remains the most mature technology, with leading companies like IBM and Google focusing on scaling and error correction.\n    *   **Trapped Ions:** Offers high fidelity and long coherence times, being actively developed by companies like IonQ and Quantinuum.\n    *   **Neutral Atoms:**  A promising approach gaining traction, with companies and research groups exploring scalability and coherence.\n    *   **Photonic Qubits:** Leveraging light for quantum computation, offering potential for room-temperature operation and strong connectivity. Companies like Xanadu are leading this area.\n    *   **Silicon Qubits:**  Leveraging existing semiconductor manufacturing infrastructure, with potential for highly scalable and compact qubits.\n*   **Cryogenics and Control Systems:**  Significant progress is being made in developing more efficient and robust cryogenic systems and control electronics to manage the complex requirements of quantum computers.  These systems need to scale alongside qubit numbers.\n\n**2. Software & Algorithm Development:**\n\n*   **Quantum Error Correction (QEC):**  Essential for fault-tolerant quantum computation.  Researchers are actively developing and testing various QEC codes and strategies. Progress is being made in demonstrating logical qubits (made up of multiple physical qubits) with improved performance over physical qubits.\n*   **Quantum Algorithms:**\n    *   Continued refinement and development of algorithms for specific applications like drug discovery, materials science, financial modeling, and optimization.\n    *   Hybrid quantum-classical algorithms (like Variational Quantum Eigensolver - VQE and Quantum Approximate Optimization Algorithm - QAOA) are gaining prominence for near-term applications.\n    *   Development of algorithms optimized for specific quantum hardware architectures.\n*   **Quantum Software Development Kits (SDKs):**\n    *   More user-friendly and powerful SDKs are emerging, such as Qiskit (IBM), Cirq (Google), PennyLane (Xanadu), and Braket SDK (Amazon). These tools help developers design, simulate, and execute quantum programs.\n    *   Efforts to integrate quantum computing into existing classical programming workflows and cloud platforms.\n\n**3. Applications and Use Cases:**\n\n*   **Drug Discovery and Materials Science:** Quantum computers are being explored for simulating molecular interactions, designing new drugs, and discovering novel materials with specific properties.\n*   **Financial Modeling:**  Quantum algorithms are being applied to portfolio optimization, risk management, and fraud detection.\n*   **Optimization Problems:** Quantum annealers and gate-based quantum computers are being used to tackle complex optimization problems in logistics, supply chain management, and machine learning.\n*   **Quantum Machine Learning:** Developing quantum algorithms for machine learning tasks like classification, clustering, and dimensionality reduction.\n*   **Cryptography:**  Developing quantum-resistant cryptographic algorithms to protect data from future quantum computer attacks.  This is a growing area of concern.\n\n**4. Cloud Quantum Computing:**\n\n*   Major cloud providers (Amazon, Microsoft, Google, IBM) are offering access to quantum computing hardware and software through their cloud platforms.\n*   This allows researchers and developers to experiment with quantum computing without the need to invest in expensive infrastructure.\n*   Focus on improving the accessibility, scalability, and usability of cloud quantum computing services.\n\n**5. Standardization and Benchmarking:**\n\n*   Efforts are underway to establish standards for quantum computing hardware, software, and benchmarks to compare the performance of different quantum computers.\n*   Organizations like the IEEE are working on developing quantum computing standards.\n*   Meaningful benchmarking is still a challenge, as performance depends heavily on the specific application.\n\n**Recent Headline Developments (Illustrative Examples - things change rapidly):**\n\n*   **IBM's 'Eagle' Processor:** A superconducting quantum processor with 127 qubits. It represents a significant step in scaling up quantum computers.\n*   **IonQ's Trapped Ion Systems:**  Known for high fidelity and all-to-all qubit connectivity. They continue to improve their systems' performance and qubit counts.\n*   **Quantum Error Correction Demonstrations:** Research groups are reporting breakthroughs in demonstrating logical qubits with improved performance compared to physical qubits, indicating progress toward fault-tolerant quantum computing.\n*   **New Quantum Algorithms for Specific Problems:** Publication of new algorithms that show potential advantages over classical algorithms for specific computational problems.\n\n**Challenges and Future Directions:**\n\n*   **Error Correction:** Overcoming the limitations of noisy qubits and achieving fault-tolerant quantum computing remains a major challenge.\n*   **Scalability:** Building quantum computers with thousands or millions of qubits is a significant engineering feat.\n*   **Algorithm Development:** Developing practical quantum algorithms that can outperform classical algorithms for real-world problems is crucial.\n*   **Quantum Supremacy/Advantage:**  Demonstrating a clear and sustained advantage of quantum computers over classical computers for a useful problem is an ongoing pursuit.\n*   **Workforce Development:** Training a skilled workforce in quantum computing is essential for the field's growth.\n*   **Ethical Considerations:** Addressing the ethical and societal implications of quantum computing, such as its impact on cryptography and privacy.\n\n**Staying Updated:**\n\n*   **Scientific Journals:** *Nature*, *Science*, *Physical Review Letters*, *Quantum*, etc.\n*   **Quantum Computing News Websites:** Quantum Computing Report, The Quantum Insider, Inside Quantum Technology.\n*   **Company Blogs and Announcements:** Follow the announcements from companies like IBM, Google, Quantinuum, IonQ, Xanadu, etc.\n*   **Conferences:** Attend quantum computing conferences to learn about the latest research and developments.\n\nQuantum computing is still in its early stages, but the progress being made is remarkable.  Keep an eye on these areas as the field continues to evolve.\n"
          },
          "metadata": {}
        },
        {
          "output_type": "stream",
          "name": "stdout",
          "text": [
            "\n",
            "📝 Same query WITH search: 'What are the latest developments in quantum computing?'\n",
            "\n",
            "🤖 Response WITH search tool:\n"
          ]
        },
        {
          "output_type": "display_data",
          "data": {
            "text/plain": [
              "<IPython.core.display.Markdown object>"
            ],
            "text/markdown": "Here are some of the latest developments in quantum computing:\n\n**Key Breakthroughs and Advancements:**\n\n*   **Improved Qubit Stability and Error Correction:** Researchers have made notable advancements in error correction techniques, which are essential for stabilizing qubits and reducing errors during quantum computations. Improved error correction codes and the development of more stable qubits, such as topological qubits, have pushed the boundaries of what is possible, bringing us closer to achieving reliable quantum computing. Google's new quantum chip, Willow, reduces errors exponentially as it scales up, achieving a breakthrough in quantum error correction.\n*   **Quantum Supremacy Milestones:** Google's Willow chip performed a computation in under five minutes that would take a supercomputer 10 septillion years.\n*   **Advancements in Quantum Algorithms:** New quantum algorithms are being developed to leverage quantum computing's unique capabilities, offering potential solutions for cryptography, materials science, and machine learning. Advances in quantum algorithms for factoring large numbers have implications for breaking traditional encryption methods, which could reshape cybersecurity.\n*   **Commercial Quantum Cloud Services:** Quantum computing is becoming more accessible through quantum cloud services offered by tech giants like IBM, Google, and Amazon. These platforms have introduced more powerful quantum processors, allowing businesses and researchers to experiment with quantum computing without needing to build and maintain their own hardware.\n*   **Quantum-Classical Hybrid Systems:** Combining quantum and classical computing to leverage the strengths of both.\n*   **Quantum Networking and the Quantum Internet:** Development of technologies for secure communication and distributed quantum computing.\n*   **Quantum Machine Learning:** Researchers are developing quantum neural networks, quantum support vector machines, and quantum algorithms for complex tasks like image and natural language processing.\n\n**Applications & Research:**\n\n*   **Chemical Reactions Study:** Microsoft integrated HPC, quantum computing, and AI on the Azure Quantum Elements platform to study catalytic reactions, exploring applications of quantum simulations in quantum chemistry.\n*   **Drug Discovery:** Pasqal and Qubit Pharmaceuticals are using neutral atom QPUs to predict water molecule behavior in drug discovery.\n*   **Liver Transplant:** Quantum algorithms are outperforming current methods of identifying healthy livers for transplant.\n*   **Fusion Energy:** Riverlane and MIT researchers are working on quantum algorithms for fusion energy.\n*   **Fluid Dynamics:** BQP demonstrates the possibility of large-scale fluid dynamic simulations with quantum computing.\n\n**Challenges and Concerns:**\n\n*   **Scalability Issues:** Scaling up the number of qubits while maintaining their quality and coherence remains a significant challenge.\n*   **Quantum Error Correction:** Correcting errors in qubits is crucial for reliable quantum computation, but it is a complex and ongoing challenge.\n*   **Hardware Limitations:** Building and maintaining quantum hardware requires overcoming significant engineering and technical challenges.\n*   **Security Concerns:** Advances in quantum computing pose a threat to current encryption methods, necessitating the development of quantum-resistant cryptography.\n*   **High Costs and Accessibility:** The cost of developing and accessing quantum computing resources remains a barrier to wider adoption.\n\n**Other Key Points:**\n\n*   Optimization has emerged as a key focus, especially for industries like finance and logistics.\n*   Quantum computing remains largely experimental, with broad-scale applications likely still many years away.\n*   Investor attention has been diverted to the rise of generative AI, which may lead to a delay in the mainstream adoption of quantum computing.\n"
          },
          "metadata": {}
        },
        {
          "output_type": "stream",
          "name": "stdout",
          "text": [
            "\n",
            "📊 Search Results Used:\n"
          ]
        },
        {
          "output_type": "display_data",
          "data": {
            "text/plain": [
              "<IPython.core.display.HTML object>"
            ],
            "text/html": [
              "<style>\n",
              ".container {\n",
              "  align-items: center;\n",
              "  border-radius: 8px;\n",
              "  display: flex;\n",
              "  font-family: Google Sans, Roboto, sans-serif;\n",
              "  font-size: 14px;\n",
              "  line-height: 20px;\n",
              "  padding: 8px 12px;\n",
              "}\n",
              ".chip {\n",
              "  display: inline-block;\n",
              "  border: solid 1px;\n",
              "  border-radius: 16px;\n",
              "  min-width: 14px;\n",
              "  padding: 5px 16px;\n",
              "  text-align: center;\n",
              "  user-select: none;\n",
              "  margin: 0 8px;\n",
              "  -webkit-tap-highlight-color: transparent;\n",
              "}\n",
              ".carousel {\n",
              "  overflow: auto;\n",
              "  scrollbar-width: none;\n",
              "  white-space: nowrap;\n",
              "  margin-right: -12px;\n",
              "}\n",
              ".headline {\n",
              "  display: flex;\n",
              "  margin-right: 4px;\n",
              "}\n",
              ".gradient-container {\n",
              "  position: relative;\n",
              "}\n",
              ".gradient {\n",
              "  position: absolute;\n",
              "  transform: translate(3px, -9px);\n",
              "  height: 36px;\n",
              "  width: 9px;\n",
              "}\n",
              "@media (prefers-color-scheme: light) {\n",
              "  .container {\n",
              "    background-color: #fafafa;\n",
              "    box-shadow: 0 0 0 1px #0000000f;\n",
              "  }\n",
              "  .headline-label {\n",
              "    color: #1f1f1f;\n",
              "  }\n",
              "  .chip {\n",
              "    background-color: #ffffff;\n",
              "    border-color: #d2d2d2;\n",
              "    color: #5e5e5e;\n",
              "    text-decoration: none;\n",
              "  }\n",
              "  .chip:hover {\n",
              "    background-color: #f2f2f2;\n",
              "  }\n",
              "  .chip:focus {\n",
              "    background-color: #f2f2f2;\n",
              "  }\n",
              "  .chip:active {\n",
              "    background-color: #d8d8d8;\n",
              "    border-color: #b6b6b6;\n",
              "  }\n",
              "  .logo-dark {\n",
              "    display: none;\n",
              "  }\n",
              "  .gradient {\n",
              "    background: linear-gradient(90deg, #fafafa 15%, #fafafa00 100%);\n",
              "  }\n",
              "}\n",
              "@media (prefers-color-scheme: dark) {\n",
              "  .container {\n",
              "    background-color: #1f1f1f;\n",
              "    box-shadow: 0 0 0 1px #ffffff26;\n",
              "  }\n",
              "  .headline-label {\n",
              "    color: #fff;\n",
              "  }\n",
              "  .chip {\n",
              "    background-color: #2c2c2c;\n",
              "    border-color: #3c4043;\n",
              "    color: #fff;\n",
              "    text-decoration: none;\n",
              "  }\n",
              "  .chip:hover {\n",
              "    background-color: #353536;\n",
              "  }\n",
              "  .chip:focus {\n",
              "    background-color: #353536;\n",
              "  }\n",
              "  .chip:active {\n",
              "    background-color: #464849;\n",
              "    border-color: #53575b;\n",
              "  }\n",
              "  .logo-light {\n",
              "    display: none;\n",
              "  }\n",
              "  .gradient {\n",
              "    background: linear-gradient(90deg, #1f1f1f 15%, #1f1f1f00 100%);\n",
              "  }\n",
              "}\n",
              "</style>\n",
              "<div class=\"container\">\n",
              "  <div class=\"headline\">\n",
              "    <svg class=\"logo-light\" width=\"18\" height=\"18\" viewBox=\"9 9 35 35\" fill=\"none\" xmlns=\"http://www.w3.org/2000/svg\">\n",
              "      <path fill-rule=\"evenodd\" clip-rule=\"evenodd\" d=\"M42.8622 27.0064C42.8622 25.7839 42.7525 24.6084 42.5487 23.4799H26.3109V30.1568H35.5897C35.1821 32.3041 33.9596 34.1222 32.1258 35.3448V39.6864H37.7213C40.9814 36.677 42.8622 32.2571 42.8622 27.0064V27.0064Z\" fill=\"#4285F4\"/>\n",
              "      <path fill-rule=\"evenodd\" clip-rule=\"evenodd\" d=\"M26.3109 43.8555C30.9659 43.8555 34.8687 42.3195 37.7213 39.6863L32.1258 35.3447C30.5898 36.3792 28.6306 37.0061 26.3109 37.0061C21.8282 37.0061 18.0195 33.9811 16.6559 29.906H10.9194V34.3573C13.7563 39.9841 19.5712 43.8555 26.3109 43.8555V43.8555Z\" fill=\"#34A853\"/>\n",
              "      <path fill-rule=\"evenodd\" clip-rule=\"evenodd\" d=\"M16.6559 29.8904C16.3111 28.8559 16.1074 27.7588 16.1074 26.6146C16.1074 25.4704 16.3111 24.3733 16.6559 23.3388V18.8875H10.9194C9.74388 21.2072 9.06992 23.8247 9.06992 26.6146C9.06992 29.4045 9.74388 32.022 10.9194 34.3417L15.3864 30.8621L16.6559 29.8904V29.8904Z\" fill=\"#FBBC05\"/>\n",
              "      <path fill-rule=\"evenodd\" clip-rule=\"evenodd\" d=\"M26.3109 16.2386C28.85 16.2386 31.107 17.1164 32.9095 18.8091L37.8466 13.8719C34.853 11.082 30.9659 9.3736 26.3109 9.3736C19.5712 9.3736 13.7563 13.245 10.9194 18.8875L16.6559 23.3388C18.0195 19.2636 21.8282 16.2386 26.3109 16.2386V16.2386Z\" fill=\"#EA4335\"/>\n",
              "    </svg>\n",
              "    <svg class=\"logo-dark\" width=\"18\" height=\"18\" viewBox=\"0 0 48 48\" xmlns=\"http://www.w3.org/2000/svg\">\n",
              "      <circle cx=\"24\" cy=\"23\" fill=\"#FFF\" r=\"22\"/>\n",
              "      <path d=\"M33.76 34.26c2.75-2.56 4.49-6.37 4.49-11.26 0-.89-.08-1.84-.29-3H24.01v5.99h8.03c-.4 2.02-1.5 3.56-3.07 4.56v.75l3.91 2.97h.88z\" fill=\"#4285F4\"/>\n",
              "      <path d=\"M15.58 25.77A8.845 8.845 0 0 0 24 31.86c1.92 0 3.62-.46 4.97-1.31l4.79 3.71C31.14 36.7 27.65 38 24 38c-5.93 0-11.01-3.4-13.45-8.36l.17-1.01 4.06-2.85h.8z\" fill=\"#34A853\"/>\n",
              "      <path d=\"M15.59 20.21a8.864 8.864 0 0 0 0 5.58l-5.03 3.86c-.98-2-1.53-4.25-1.53-6.64 0-2.39.55-4.64 1.53-6.64l1-.22 3.81 2.98.22 1.08z\" fill=\"#FBBC05\"/>\n",
              "      <path d=\"M24 14.14c2.11 0 4.02.75 5.52 1.98l4.36-4.36C31.22 9.43 27.81 8 24 8c-5.93 0-11.01 3.4-13.45 8.36l5.03 3.85A8.86 8.86 0 0 1 24 14.14z\" fill=\"#EA4335\"/>\n",
              "    </svg>\n",
              "    <div class=\"gradient-container\"><div class=\"gradient\"></div></div>\n",
              "  </div>\n",
              "  <div class=\"carousel\">\n",
              "    <a class=\"chip\" href=\"https://vertexaisearch.cloud.google.com/grounding-api-redirect/AQXblrxVAksHKsOpPnGYuZrOS7jJ4OAHH2RjMG7VEvDUzoPTz_l9o2-P5CHMM6imaHr3QQj5Z4vXapchQ5IhAq0yxnrSp11x9jFjifHiTPFnZ5sSn_t51isjFvCt8vBsVTZH6h5XDe_B9-3hK9XBWe6l32i2TVrBO4bsM1GodAJw53soDo76HqBHC1iYepWUYGoD6VXXhZ99-5L2F_kt4qiibGDgc2MDwLxxV9Y4Hz1u3Q==\">latest developments quantum computing 2024</a>\n",
              "    <a class=\"chip\" href=\"https://vertexaisearch.cloud.google.com/grounding-api-redirect/AQXblryJWAKxq1lfTaxQFjDe_Cp3KPiF4JsXWx0YaYOjtyzpbDkrfE76pbJSfEBQ1JVuTlosi65zNXLKZkiYJboYT2yi14cqhF_ORan-F6936fR0TchH1a-76ZADqSUkLutSRlpyQdc0uoWURHF_xtMRVCzgimVot17lo7Hv1ZLj1vjh1zgleNzLHG1RWOW_UH9nl8je3rWeaByAUmKZRg0LDfcJ9AXpvdJ_ww==\">quantum computing breakthroughs 2024</a>\n",
              "  </div>\n",
              "</div>\n"
            ]
          },
          "metadata": {}
        },
        {
          "output_type": "stream",
          "name": "stdout",
          "text": [
            "\n",
            "# Notice the differences in specificity, recency, and detail between the two responses.\n",
            "# The search-enabled response can cite recent developments and specific breakthroughs.\n"
          ]
        }
      ]
    },
    {
      "cell_type": "markdown",
      "source": [
        "# Follow-up Questions Example\n",
        "## 5. Asking Follow-up Questions in a Search Context"
      ],
      "metadata": {
        "id": "wsywfUhgylVl"
      }
    },
    {
      "cell_type": "code",
      "source": [
        "print(\"\\n--- 5. Follow-up Questions with Search ---\")\n",
        "print(\"# Gemini can maintain context while using search for follow-up questions\")\n",
        "\n",
        "follow_up_chat = client.chats.create(model=MODEL, config={'tools': [search_tool]})\n",
        "\n",
        "# List to store responses for visualization\n",
        "follow_up_responses = []\n",
        "\n",
        "print(\"\\n📝 Initial Query: 'What are the top 3 electric vehicles with the longest range?'\")\n",
        "response1 = follow_up_chat.send_message('What are the top 3 electric vehicles with the longest range?')\n",
        "show_parts(response1)\n",
        "follow_up_responses.append(response1)\n",
        "\n",
        "time.sleep(2)\n",
        "\n",
        "print(\"\\n📝 Follow-up Query: 'How much do they cost?'\")\n",
        "response2 = follow_up_chat.send_message('How much do they cost?')\n",
        "show_parts(response2)\n",
        "follow_up_responses.append(response2)\n",
        "\n",
        "time.sleep(2)\n",
        "\n",
        "print(\"\\n📝 Another Follow-up: 'Compare their charging times'\")\n",
        "response3 = follow_up_chat.send_message('Compare their charging times')\n",
        "show_parts(response3)\n",
        "follow_up_responses.append(response3)\n",
        "\n",
        "# Visualize search usage across the conversation\n",
        "print(\"\\n📊 Search Usage Visualization:\")\n",
        "visualize_search_usage(follow_up_responses)\n",
        "\n",
        "print(\"\\n# Notice how Gemini maintains context about which vehicles we're discussing\")\n",
        "print(\"# while retrieving fresh information for each question.\")"
      ],
      "metadata": {
        "colab": {
          "base_uri": "https://localhost:8080/",
          "height": 1000
        },
        "id": "F8haY4-Nyt7q",
        "outputId": "cfa30aed-5199-4900-a50d-e0ee2a19b813"
      },
      "execution_count": null,
      "outputs": [
        {
          "output_type": "stream",
          "name": "stdout",
          "text": [
            "\n",
            "--- 5. Follow-up Questions with Search ---\n",
            "# Gemini can maintain context while using search for follow-up questions\n",
            "\n",
            "📝 Initial Query: 'What are the top 3 electric vehicles with the longest range?'\n"
          ]
        },
        {
          "output_type": "display_data",
          "data": {
            "text/plain": [
              "<IPython.core.display.Markdown object>"
            ],
            "text/markdown": "The top 3 electric vehicles with the longest range, based on available information for 2024 and 2025, are:\n\n1.  **Lucid Air:** This model consistently appears at the top of range lists. The Grand Touring trim with 19-inch wheels boasts an EPA-estimated range of **512 miles.**\n2.  **Mercedes EQS:** The Mercedes-Benz EQS 450+ saloon has a claimed range of **481 miles.**\n3.  **Chevrolet Silverado EV:** The Chevrolet Silverado EV - RST Max Range ranks second with a **460 miles range**.\n"
          },
          "metadata": {}
        },
        {
          "output_type": "stream",
          "name": "stdout",
          "text": [
            "\n",
            "📊 Search Results Used:\n"
          ]
        },
        {
          "output_type": "display_data",
          "data": {
            "text/plain": [
              "<IPython.core.display.HTML object>"
            ],
            "text/html": [
              "<style>\n",
              ".container {\n",
              "  align-items: center;\n",
              "  border-radius: 8px;\n",
              "  display: flex;\n",
              "  font-family: Google Sans, Roboto, sans-serif;\n",
              "  font-size: 14px;\n",
              "  line-height: 20px;\n",
              "  padding: 8px 12px;\n",
              "}\n",
              ".chip {\n",
              "  display: inline-block;\n",
              "  border: solid 1px;\n",
              "  border-radius: 16px;\n",
              "  min-width: 14px;\n",
              "  padding: 5px 16px;\n",
              "  text-align: center;\n",
              "  user-select: none;\n",
              "  margin: 0 8px;\n",
              "  -webkit-tap-highlight-color: transparent;\n",
              "}\n",
              ".carousel {\n",
              "  overflow: auto;\n",
              "  scrollbar-width: none;\n",
              "  white-space: nowrap;\n",
              "  margin-right: -12px;\n",
              "}\n",
              ".headline {\n",
              "  display: flex;\n",
              "  margin-right: 4px;\n",
              "}\n",
              ".gradient-container {\n",
              "  position: relative;\n",
              "}\n",
              ".gradient {\n",
              "  position: absolute;\n",
              "  transform: translate(3px, -9px);\n",
              "  height: 36px;\n",
              "  width: 9px;\n",
              "}\n",
              "@media (prefers-color-scheme: light) {\n",
              "  .container {\n",
              "    background-color: #fafafa;\n",
              "    box-shadow: 0 0 0 1px #0000000f;\n",
              "  }\n",
              "  .headline-label {\n",
              "    color: #1f1f1f;\n",
              "  }\n",
              "  .chip {\n",
              "    background-color: #ffffff;\n",
              "    border-color: #d2d2d2;\n",
              "    color: #5e5e5e;\n",
              "    text-decoration: none;\n",
              "  }\n",
              "  .chip:hover {\n",
              "    background-color: #f2f2f2;\n",
              "  }\n",
              "  .chip:focus {\n",
              "    background-color: #f2f2f2;\n",
              "  }\n",
              "  .chip:active {\n",
              "    background-color: #d8d8d8;\n",
              "    border-color: #b6b6b6;\n",
              "  }\n",
              "  .logo-dark {\n",
              "    display: none;\n",
              "  }\n",
              "  .gradient {\n",
              "    background: linear-gradient(90deg, #fafafa 15%, #fafafa00 100%);\n",
              "  }\n",
              "}\n",
              "@media (prefers-color-scheme: dark) {\n",
              "  .container {\n",
              "    background-color: #1f1f1f;\n",
              "    box-shadow: 0 0 0 1px #ffffff26;\n",
              "  }\n",
              "  .headline-label {\n",
              "    color: #fff;\n",
              "  }\n",
              "  .chip {\n",
              "    background-color: #2c2c2c;\n",
              "    border-color: #3c4043;\n",
              "    color: #fff;\n",
              "    text-decoration: none;\n",
              "  }\n",
              "  .chip:hover {\n",
              "    background-color: #353536;\n",
              "  }\n",
              "  .chip:focus {\n",
              "    background-color: #353536;\n",
              "  }\n",
              "  .chip:active {\n",
              "    background-color: #464849;\n",
              "    border-color: #53575b;\n",
              "  }\n",
              "  .logo-light {\n",
              "    display: none;\n",
              "  }\n",
              "  .gradient {\n",
              "    background: linear-gradient(90deg, #1f1f1f 15%, #1f1f1f00 100%);\n",
              "  }\n",
              "}\n",
              "</style>\n",
              "<div class=\"container\">\n",
              "  <div class=\"headline\">\n",
              "    <svg class=\"logo-light\" width=\"18\" height=\"18\" viewBox=\"9 9 35 35\" fill=\"none\" xmlns=\"http://www.w3.org/2000/svg\">\n",
              "      <path fill-rule=\"evenodd\" clip-rule=\"evenodd\" d=\"M42.8622 27.0064C42.8622 25.7839 42.7525 24.6084 42.5487 23.4799H26.3109V30.1568H35.5897C35.1821 32.3041 33.9596 34.1222 32.1258 35.3448V39.6864H37.7213C40.9814 36.677 42.8622 32.2571 42.8622 27.0064V27.0064Z\" fill=\"#4285F4\"/>\n",
              "      <path fill-rule=\"evenodd\" clip-rule=\"evenodd\" d=\"M26.3109 43.8555C30.9659 43.8555 34.8687 42.3195 37.7213 39.6863L32.1258 35.3447C30.5898 36.3792 28.6306 37.0061 26.3109 37.0061C21.8282 37.0061 18.0195 33.9811 16.6559 29.906H10.9194V34.3573C13.7563 39.9841 19.5712 43.8555 26.3109 43.8555V43.8555Z\" fill=\"#34A853\"/>\n",
              "      <path fill-rule=\"evenodd\" clip-rule=\"evenodd\" d=\"M16.6559 29.8904C16.3111 28.8559 16.1074 27.7588 16.1074 26.6146C16.1074 25.4704 16.3111 24.3733 16.6559 23.3388V18.8875H10.9194C9.74388 21.2072 9.06992 23.8247 9.06992 26.6146C9.06992 29.4045 9.74388 32.022 10.9194 34.3417L15.3864 30.8621L16.6559 29.8904V29.8904Z\" fill=\"#FBBC05\"/>\n",
              "      <path fill-rule=\"evenodd\" clip-rule=\"evenodd\" d=\"M26.3109 16.2386C28.85 16.2386 31.107 17.1164 32.9095 18.8091L37.8466 13.8719C34.853 11.082 30.9659 9.3736 26.3109 9.3736C19.5712 9.3736 13.7563 13.245 10.9194 18.8875L16.6559 23.3388C18.0195 19.2636 21.8282 16.2386 26.3109 16.2386V16.2386Z\" fill=\"#EA4335\"/>\n",
              "    </svg>\n",
              "    <svg class=\"logo-dark\" width=\"18\" height=\"18\" viewBox=\"0 0 48 48\" xmlns=\"http://www.w3.org/2000/svg\">\n",
              "      <circle cx=\"24\" cy=\"23\" fill=\"#FFF\" r=\"22\"/>\n",
              "      <path d=\"M33.76 34.26c2.75-2.56 4.49-6.37 4.49-11.26 0-.89-.08-1.84-.29-3H24.01v5.99h8.03c-.4 2.02-1.5 3.56-3.07 4.56v.75l3.91 2.97h.88z\" fill=\"#4285F4\"/>\n",
              "      <path d=\"M15.58 25.77A8.845 8.845 0 0 0 24 31.86c1.92 0 3.62-.46 4.97-1.31l4.79 3.71C31.14 36.7 27.65 38 24 38c-5.93 0-11.01-3.4-13.45-8.36l.17-1.01 4.06-2.85h.8z\" fill=\"#34A853\"/>\n",
              "      <path d=\"M15.59 20.21a8.864 8.864 0 0 0 0 5.58l-5.03 3.86c-.98-2-1.53-4.25-1.53-6.64 0-2.39.55-4.64 1.53-6.64l1-.22 3.81 2.98.22 1.08z\" fill=\"#FBBC05\"/>\n",
              "      <path d=\"M24 14.14c2.11 0 4.02.75 5.52 1.98l4.36-4.36C31.22 9.43 27.81 8 24 8c-5.93 0-11.01 3.4-13.45 8.36l5.03 3.85A8.86 8.86 0 0 1 24 14.14z\" fill=\"#EA4335\"/>\n",
              "    </svg>\n",
              "    <div class=\"gradient-container\"><div class=\"gradient\"></div></div>\n",
              "  </div>\n",
              "  <div class=\"carousel\">\n",
              "    <a class=\"chip\" href=\"https://vertexaisearch.cloud.google.com/grounding-api-redirect/AQXblryiQ8gn3BQhKnXZfaHztOB5PhMAPKvuBfLbCkYm43dVuoAlfKaM34MQVd30bzrxNHBmav3ydhkJJc_GsYr-xKrnyP1O_EStUjTkqM-3kk15aCxwMIkFk7dP34ZiOtkOIJfWuyYYTQRR01FqwG_BcL1NDXtxzN1KUGGPhtHxYYto5hd-q7BrtlorOJtSes2uj9w_v88ToxhfCtVy92tsd1XvjcxDB0WsiOfhF9vgJ_ARug==\">electric vehicles with the highest range 2024</a>\n",
              "    <a class=\"chip\" href=\"https://vertexaisearch.cloud.google.com/grounding-api-redirect/AQXblrxZTB7Js9HAjZIBwS0wfEQhnN0lfQInHYP4jgglbbUdq0i9OXRW34LT8b3S3JKZzt11ai7lljLSvCd2JXR_ZpaCeUnvZtLxBCkoKxCr2mkbMg2UW3c9UGkhQo7nbMtlBF5xJaqSYE2ubozr4s87sOyFp_1uxKDRpnXlnqxofOz5NqPDLAsliQ3tYlMD1kClGuXBfBGWPT_-n1_ReDXZmjasb7Xk267QS2Ln1YgN9w==\">top 3 electric vehicles longest range 2024</a>\n",
              "    <a class=\"chip\" href=\"https://vertexaisearch.cloud.google.com/grounding-api-redirect/AQXblryu81fIQS6-MNRF75E1-8j3TXGtKwXhbwatqHe7UVZx9VlChwMrAVwablI98Wdg3nzBQ4_871Yi_Pz3-NACONrZDExjZTAjwwz45Q4qoyw6urJB2pK5B5x8QfVdeCiuIsESBh1zfLifRW03eKVjS6PAAFbOlpnZ5AwjP54N5dbMTb05YKNl8cjZyRG9VZf0z4armnyxwlVaJzI=\">top electric car range</a>\n",
              "  </div>\n",
              "</div>\n"
            ]
          },
          "metadata": {}
        },
        {
          "output_type": "stream",
          "name": "stdout",
          "text": [
            "\n",
            "📝 Follow-up Query: 'How much do they cost?'\n"
          ]
        },
        {
          "output_type": "display_data",
          "data": {
            "text/plain": [
              "<IPython.core.display.Markdown object>"
            ],
            "text/markdown": "Here's an overview of the approximate costs for the top 3 EVs with the longest range:\n\n1.  **Lucid Air Grand Touring:** The 2024 Lucid Air Grand Touring has a starting price of around **$110,900**.\n2.  **Mercedes EQS 450+ Sedan:** The 2025 Mercedes EQS 450+ Sedan starts at approximately **$104,400**. However, the Edmunds suggested price is around **$90,603.**\n3.  **Chevrolet Silverado EV RST Max Range:** The 2025 Chevrolet Silverado EV RST Max Range has an MSRP of approximately **$97,895**.\n\nIt's important to note that these prices are MSRP and can vary based on options, trim levels, and dealer markups. Also, keep in mind that these prices do not include potential tax incentives or rebates that may be available for electric vehicle purchases, which could lower the final cost.\n"
          },
          "metadata": {}
        },
        {
          "output_type": "stream",
          "name": "stdout",
          "text": [
            "\n",
            "📊 Search Results Used:\n"
          ]
        },
        {
          "output_type": "display_data",
          "data": {
            "text/plain": [
              "<IPython.core.display.HTML object>"
            ],
            "text/html": [
              "<style>\n",
              ".container {\n",
              "  align-items: center;\n",
              "  border-radius: 8px;\n",
              "  display: flex;\n",
              "  font-family: Google Sans, Roboto, sans-serif;\n",
              "  font-size: 14px;\n",
              "  line-height: 20px;\n",
              "  padding: 8px 12px;\n",
              "}\n",
              ".chip {\n",
              "  display: inline-block;\n",
              "  border: solid 1px;\n",
              "  border-radius: 16px;\n",
              "  min-width: 14px;\n",
              "  padding: 5px 16px;\n",
              "  text-align: center;\n",
              "  user-select: none;\n",
              "  margin: 0 8px;\n",
              "  -webkit-tap-highlight-color: transparent;\n",
              "}\n",
              ".carousel {\n",
              "  overflow: auto;\n",
              "  scrollbar-width: none;\n",
              "  white-space: nowrap;\n",
              "  margin-right: -12px;\n",
              "}\n",
              ".headline {\n",
              "  display: flex;\n",
              "  margin-right: 4px;\n",
              "}\n",
              ".gradient-container {\n",
              "  position: relative;\n",
              "}\n",
              ".gradient {\n",
              "  position: absolute;\n",
              "  transform: translate(3px, -9px);\n",
              "  height: 36px;\n",
              "  width: 9px;\n",
              "}\n",
              "@media (prefers-color-scheme: light) {\n",
              "  .container {\n",
              "    background-color: #fafafa;\n",
              "    box-shadow: 0 0 0 1px #0000000f;\n",
              "  }\n",
              "  .headline-label {\n",
              "    color: #1f1f1f;\n",
              "  }\n",
              "  .chip {\n",
              "    background-color: #ffffff;\n",
              "    border-color: #d2d2d2;\n",
              "    color: #5e5e5e;\n",
              "    text-decoration: none;\n",
              "  }\n",
              "  .chip:hover {\n",
              "    background-color: #f2f2f2;\n",
              "  }\n",
              "  .chip:focus {\n",
              "    background-color: #f2f2f2;\n",
              "  }\n",
              "  .chip:active {\n",
              "    background-color: #d8d8d8;\n",
              "    border-color: #b6b6b6;\n",
              "  }\n",
              "  .logo-dark {\n",
              "    display: none;\n",
              "  }\n",
              "  .gradient {\n",
              "    background: linear-gradient(90deg, #fafafa 15%, #fafafa00 100%);\n",
              "  }\n",
              "}\n",
              "@media (prefers-color-scheme: dark) {\n",
              "  .container {\n",
              "    background-color: #1f1f1f;\n",
              "    box-shadow: 0 0 0 1px #ffffff26;\n",
              "  }\n",
              "  .headline-label {\n",
              "    color: #fff;\n",
              "  }\n",
              "  .chip {\n",
              "    background-color: #2c2c2c;\n",
              "    border-color: #3c4043;\n",
              "    color: #fff;\n",
              "    text-decoration: none;\n",
              "  }\n",
              "  .chip:hover {\n",
              "    background-color: #353536;\n",
              "  }\n",
              "  .chip:focus {\n",
              "    background-color: #353536;\n",
              "  }\n",
              "  .chip:active {\n",
              "    background-color: #464849;\n",
              "    border-color: #53575b;\n",
              "  }\n",
              "  .logo-light {\n",
              "    display: none;\n",
              "  }\n",
              "  .gradient {\n",
              "    background: linear-gradient(90deg, #1f1f1f 15%, #1f1f1f00 100%);\n",
              "  }\n",
              "}\n",
              "</style>\n",
              "<div class=\"container\">\n",
              "  <div class=\"headline\">\n",
              "    <svg class=\"logo-light\" width=\"18\" height=\"18\" viewBox=\"9 9 35 35\" fill=\"none\" xmlns=\"http://www.w3.org/2000/svg\">\n",
              "      <path fill-rule=\"evenodd\" clip-rule=\"evenodd\" d=\"M42.8622 27.0064C42.8622 25.7839 42.7525 24.6084 42.5487 23.4799H26.3109V30.1568H35.5897C35.1821 32.3041 33.9596 34.1222 32.1258 35.3448V39.6864H37.7213C40.9814 36.677 42.8622 32.2571 42.8622 27.0064V27.0064Z\" fill=\"#4285F4\"/>\n",
              "      <path fill-rule=\"evenodd\" clip-rule=\"evenodd\" d=\"M26.3109 43.8555C30.9659 43.8555 34.8687 42.3195 37.7213 39.6863L32.1258 35.3447C30.5898 36.3792 28.6306 37.0061 26.3109 37.0061C21.8282 37.0061 18.0195 33.9811 16.6559 29.906H10.9194V34.3573C13.7563 39.9841 19.5712 43.8555 26.3109 43.8555V43.8555Z\" fill=\"#34A853\"/>\n",
              "      <path fill-rule=\"evenodd\" clip-rule=\"evenodd\" d=\"M16.6559 29.8904C16.3111 28.8559 16.1074 27.7588 16.1074 26.6146C16.1074 25.4704 16.3111 24.3733 16.6559 23.3388V18.8875H10.9194C9.74388 21.2072 9.06992 23.8247 9.06992 26.6146C9.06992 29.4045 9.74388 32.022 10.9194 34.3417L15.3864 30.8621L16.6559 29.8904V29.8904Z\" fill=\"#FBBC05\"/>\n",
              "      <path fill-rule=\"evenodd\" clip-rule=\"evenodd\" d=\"M26.3109 16.2386C28.85 16.2386 31.107 17.1164 32.9095 18.8091L37.8466 13.8719C34.853 11.082 30.9659 9.3736 26.3109 9.3736C19.5712 9.3736 13.7563 13.245 10.9194 18.8875L16.6559 23.3388C18.0195 19.2636 21.8282 16.2386 26.3109 16.2386V16.2386Z\" fill=\"#EA4335\"/>\n",
              "    </svg>\n",
              "    <svg class=\"logo-dark\" width=\"18\" height=\"18\" viewBox=\"0 0 48 48\" xmlns=\"http://www.w3.org/2000/svg\">\n",
              "      <circle cx=\"24\" cy=\"23\" fill=\"#FFF\" r=\"22\"/>\n",
              "      <path d=\"M33.76 34.26c2.75-2.56 4.49-6.37 4.49-11.26 0-.89-.08-1.84-.29-3H24.01v5.99h8.03c-.4 2.02-1.5 3.56-3.07 4.56v.75l3.91 2.97h.88z\" fill=\"#4285F4\"/>\n",
              "      <path d=\"M15.58 25.77A8.845 8.845 0 0 0 24 31.86c1.92 0 3.62-.46 4.97-1.31l4.79 3.71C31.14 36.7 27.65 38 24 38c-5.93 0-11.01-3.4-13.45-8.36l.17-1.01 4.06-2.85h.8z\" fill=\"#34A853\"/>\n",
              "      <path d=\"M15.59 20.21a8.864 8.864 0 0 0 0 5.58l-5.03 3.86c-.98-2-1.53-4.25-1.53-6.64 0-2.39.55-4.64 1.53-6.64l1-.22 3.81 2.98.22 1.08z\" fill=\"#FBBC05\"/>\n",
              "      <path d=\"M24 14.14c2.11 0 4.02.75 5.52 1.98l4.36-4.36C31.22 9.43 27.81 8 24 8c-5.93 0-11.01 3.4-13.45 8.36l5.03 3.85A8.86 8.86 0 0 1 24 14.14z\" fill=\"#EA4335\"/>\n",
              "    </svg>\n",
              "    <div class=\"gradient-container\"><div class=\"gradient\"></div></div>\n",
              "  </div>\n",
              "  <div class=\"carousel\">\n",
              "    <a class=\"chip\" href=\"https://vertexaisearch.cloud.google.com/grounding-api-redirect/AQXblryPENb37sfhNsPa1wyC3JmxfMek7FY31RR6xjLScrYgQVxLuCe5gIebEDNBUBI63NOUKCxtu98dVvqWZFKWFvnCEvWVeTFxp-J4lPpyrzvYfZZhZxncevh4pvW7WXSHdz94J72waMW1Ic5IoPba616FQPcNoNZGaiEDTQ93D4N77ASu-zGdLuPzlrRqbgJBP2le0vl1qhjxHNGS5A==\">Mercedes EQS 450+ price</a>\n",
              "    <a class=\"chip\" href=\"https://vertexaisearch.cloud.google.com/grounding-api-redirect/AQXblrxe5khMEfRXYcrUGo6U9NznSPB8raaFVQbNvjwC6qZwereoWX9leWnmXaQcyQ66dek98-xEDTIWYappgpki9xkoGd4_BoSgSR222nvRpf9BPzB3J83GdkMsg5bZ2X8MWoW4jIgyJqJcM8bmZY5I4yys1PosCZWepWW37ahU_KCy1esfN917ezqC6d3lv0mPz2fkFvlCQbq7tq2JqtjJsII=\">Lucid Air Grand Touring price</a>\n",
              "    <a class=\"chip\" href=\"https://vertexaisearch.cloud.google.com/grounding-api-redirect/AQXblrzlUM37N94jCFeRYEr6jjw9f1RipES-4gdp3AXX-iB99E20uIodCp5JDvrgX2mrC30yD4MgWAeUSZ5aPde0x4ABgLfYG12VPwmpmwdKaTxu-t63Flou14SfUYkgFc4VLcM3TuMbeJCrFdt1BRg0UJgxTj4ppUXCBQ_OS1NTfMSSiXH3l2Y7TlaqDxoHV3UoCrWxlVVMUqhbn34V0g49faQvC_MXozqdOS96kN8q\">Chevrolet Silverado EV RST Max Range price</a>\n",
              "  </div>\n",
              "</div>\n"
            ]
          },
          "metadata": {}
        },
        {
          "output_type": "stream",
          "name": "stdout",
          "text": [
            "\n",
            "📝 Another Follow-up: 'Compare their charging times'\n"
          ]
        },
        {
          "output_type": "display_data",
          "data": {
            "text/plain": [
              "<IPython.core.display.Markdown object>"
            ],
            "text/markdown": "Here's a comparison of the charging times for the three EVs, based on the information gathered:\n\n**1. Lucid Air Grand Touring:**\n\n*   **AC Charging (Home):** With a 22 kW AC charging station, it takes approximately 5 hours and 39 minutes to charge from 0 to 100%. Using a typical 7kW home charging point it can take approximately 15 hours and 8 minutes to charge from 0 to full.\n*   **DC Fast Charging:** With a 300 kW DC fast charging station, it takes around 22 minutes to charge from 10 to 80%. Can add 200 miles in 12 minutes.\n\n**2. Mercedes EQS 450+ Sedan:**\n\n*   **AC Charging (Home):** At 9.6 kW, it takes approximately 12.75 hours to charge from 10-100%.\n*   **DC Fast Charging:** At 200 kW, it takes approximately 31 minutes to charge from 10 to 80%.\n\n**3. Chevrolet Silverado EV RST Max Range:**\n\n*   **AC Charging (Home):** With a 19.2-kW Level 2 charger, a 10 to 100 percent charge can take about 12 hours.\n*   **DC Fast Charging:** Supports up to 350 kW DC fast charging, adding 100 miles of range in about 10 minutes. It can charge from 10 to 80 percent in about 45 minutes.\n\n**Summary Table:**\n\n|                             | **Lucid Air Grand Touring**                     | **Mercedes EQS 450+ Sedan**            | **Chevrolet Silverado EV RST Max Range**   |\n| :-------------------------- | :---------------------------------------------- | :------------------------------------- | :----------------------------------------- |\n| **AC Charging (Home)**      | ~5.6 hours (22kW, 0-100%)                      | ~12.75 hours (9.6 kW, 10-100%)        | ~12 hours (19.2 kW, 10-100%)            |\n| **DC Fast Charging (10-80%)** | ~22 minutes (300 kW)                           | ~31 minutes (200 kW)                   | ~45 minutes (350 kW)                      |\n| **DC Fast Charging add range** | 200 miles in 12 minutes                         | Not specified                          | 100 miles in 10 minutes                  |\n\n**Important Considerations:**\n\n*   Charging times can vary depending on the charging station's output, the battery's initial state of charge, and ambient temperature.\n*   The Silverado EV boasts impressive DC fast-charging speeds, potentially adding range quicker than the other two, however, the EQS 450+ has a slightly faster 10-80% charging time.\n*   Lucid Air appears to have the fastest DC fast charging.\n"
          },
          "metadata": {}
        },
        {
          "output_type": "stream",
          "name": "stdout",
          "text": [
            "\n",
            "📊 Search Results Used:\n"
          ]
        },
        {
          "output_type": "display_data",
          "data": {
            "text/plain": [
              "<IPython.core.display.HTML object>"
            ],
            "text/html": [
              "<style>\n",
              ".container {\n",
              "  align-items: center;\n",
              "  border-radius: 8px;\n",
              "  display: flex;\n",
              "  font-family: Google Sans, Roboto, sans-serif;\n",
              "  font-size: 14px;\n",
              "  line-height: 20px;\n",
              "  padding: 8px 12px;\n",
              "}\n",
              ".chip {\n",
              "  display: inline-block;\n",
              "  border: solid 1px;\n",
              "  border-radius: 16px;\n",
              "  min-width: 14px;\n",
              "  padding: 5px 16px;\n",
              "  text-align: center;\n",
              "  user-select: none;\n",
              "  margin: 0 8px;\n",
              "  -webkit-tap-highlight-color: transparent;\n",
              "}\n",
              ".carousel {\n",
              "  overflow: auto;\n",
              "  scrollbar-width: none;\n",
              "  white-space: nowrap;\n",
              "  margin-right: -12px;\n",
              "}\n",
              ".headline {\n",
              "  display: flex;\n",
              "  margin-right: 4px;\n",
              "}\n",
              ".gradient-container {\n",
              "  position: relative;\n",
              "}\n",
              ".gradient {\n",
              "  position: absolute;\n",
              "  transform: translate(3px, -9px);\n",
              "  height: 36px;\n",
              "  width: 9px;\n",
              "}\n",
              "@media (prefers-color-scheme: light) {\n",
              "  .container {\n",
              "    background-color: #fafafa;\n",
              "    box-shadow: 0 0 0 1px #0000000f;\n",
              "  }\n",
              "  .headline-label {\n",
              "    color: #1f1f1f;\n",
              "  }\n",
              "  .chip {\n",
              "    background-color: #ffffff;\n",
              "    border-color: #d2d2d2;\n",
              "    color: #5e5e5e;\n",
              "    text-decoration: none;\n",
              "  }\n",
              "  .chip:hover {\n",
              "    background-color: #f2f2f2;\n",
              "  }\n",
              "  .chip:focus {\n",
              "    background-color: #f2f2f2;\n",
              "  }\n",
              "  .chip:active {\n",
              "    background-color: #d8d8d8;\n",
              "    border-color: #b6b6b6;\n",
              "  }\n",
              "  .logo-dark {\n",
              "    display: none;\n",
              "  }\n",
              "  .gradient {\n",
              "    background: linear-gradient(90deg, #fafafa 15%, #fafafa00 100%);\n",
              "  }\n",
              "}\n",
              "@media (prefers-color-scheme: dark) {\n",
              "  .container {\n",
              "    background-color: #1f1f1f;\n",
              "    box-shadow: 0 0 0 1px #ffffff26;\n",
              "  }\n",
              "  .headline-label {\n",
              "    color: #fff;\n",
              "  }\n",
              "  .chip {\n",
              "    background-color: #2c2c2c;\n",
              "    border-color: #3c4043;\n",
              "    color: #fff;\n",
              "    text-decoration: none;\n",
              "  }\n",
              "  .chip:hover {\n",
              "    background-color: #353536;\n",
              "  }\n",
              "  .chip:focus {\n",
              "    background-color: #353536;\n",
              "  }\n",
              "  .chip:active {\n",
              "    background-color: #464849;\n",
              "    border-color: #53575b;\n",
              "  }\n",
              "  .logo-light {\n",
              "    display: none;\n",
              "  }\n",
              "  .gradient {\n",
              "    background: linear-gradient(90deg, #1f1f1f 15%, #1f1f1f00 100%);\n",
              "  }\n",
              "}\n",
              "</style>\n",
              "<div class=\"container\">\n",
              "  <div class=\"headline\">\n",
              "    <svg class=\"logo-light\" width=\"18\" height=\"18\" viewBox=\"9 9 35 35\" fill=\"none\" xmlns=\"http://www.w3.org/2000/svg\">\n",
              "      <path fill-rule=\"evenodd\" clip-rule=\"evenodd\" d=\"M42.8622 27.0064C42.8622 25.7839 42.7525 24.6084 42.5487 23.4799H26.3109V30.1568H35.5897C35.1821 32.3041 33.9596 34.1222 32.1258 35.3448V39.6864H37.7213C40.9814 36.677 42.8622 32.2571 42.8622 27.0064V27.0064Z\" fill=\"#4285F4\"/>\n",
              "      <path fill-rule=\"evenodd\" clip-rule=\"evenodd\" d=\"M26.3109 43.8555C30.9659 43.8555 34.8687 42.3195 37.7213 39.6863L32.1258 35.3447C30.5898 36.3792 28.6306 37.0061 26.3109 37.0061C21.8282 37.0061 18.0195 33.9811 16.6559 29.906H10.9194V34.3573C13.7563 39.9841 19.5712 43.8555 26.3109 43.8555V43.8555Z\" fill=\"#34A853\"/>\n",
              "      <path fill-rule=\"evenodd\" clip-rule=\"evenodd\" d=\"M16.6559 29.8904C16.3111 28.8559 16.1074 27.7588 16.1074 26.6146C16.1074 25.4704 16.3111 24.3733 16.6559 23.3388V18.8875H10.9194C9.74388 21.2072 9.06992 23.8247 9.06992 26.6146C9.06992 29.4045 9.74388 32.022 10.9194 34.3417L15.3864 30.8621L16.6559 29.8904V29.8904Z\" fill=\"#FBBC05\"/>\n",
              "      <path fill-rule=\"evenodd\" clip-rule=\"evenodd\" d=\"M26.3109 16.2386C28.85 16.2386 31.107 17.1164 32.9095 18.8091L37.8466 13.8719C34.853 11.082 30.9659 9.3736 26.3109 9.3736C19.5712 9.3736 13.7563 13.245 10.9194 18.8875L16.6559 23.3388C18.0195 19.2636 21.8282 16.2386 26.3109 16.2386V16.2386Z\" fill=\"#EA4335\"/>\n",
              "    </svg>\n",
              "    <svg class=\"logo-dark\" width=\"18\" height=\"18\" viewBox=\"0 0 48 48\" xmlns=\"http://www.w3.org/2000/svg\">\n",
              "      <circle cx=\"24\" cy=\"23\" fill=\"#FFF\" r=\"22\"/>\n",
              "      <path d=\"M33.76 34.26c2.75-2.56 4.49-6.37 4.49-11.26 0-.89-.08-1.84-.29-3H24.01v5.99h8.03c-.4 2.02-1.5 3.56-3.07 4.56v.75l3.91 2.97h.88z\" fill=\"#4285F4\"/>\n",
              "      <path d=\"M15.58 25.77A8.845 8.845 0 0 0 24 31.86c1.92 0 3.62-.46 4.97-1.31l4.79 3.71C31.14 36.7 27.65 38 24 38c-5.93 0-11.01-3.4-13.45-8.36l.17-1.01 4.06-2.85h.8z\" fill=\"#34A853\"/>\n",
              "      <path d=\"M15.59 20.21a8.864 8.864 0 0 0 0 5.58l-5.03 3.86c-.98-2-1.53-4.25-1.53-6.64 0-2.39.55-4.64 1.53-6.64l1-.22 3.81 2.98.22 1.08z\" fill=\"#FBBC05\"/>\n",
              "      <path d=\"M24 14.14c2.11 0 4.02.75 5.52 1.98l4.36-4.36C31.22 9.43 27.81 8 24 8c-5.93 0-11.01 3.4-13.45 8.36l5.03 3.85A8.86 8.86 0 0 1 24 14.14z\" fill=\"#EA4335\"/>\n",
              "    </svg>\n",
              "    <div class=\"gradient-container\"><div class=\"gradient\"></div></div>\n",
              "  </div>\n",
              "  <div class=\"carousel\">\n",
              "    <a class=\"chip\" href=\"https://vertexaisearch.cloud.google.com/grounding-api-redirect/AQXblrzuAE_0dC5zOq7xUmxTknNbbkuk3e_oZQlg84izr01PFN3RaWJrABW6bN3W34VALsUiN3rNSnpdHxe-45urL_QHzfAxmhC5UJftikB1ddQ2XTeGSMuiSHqi1oWbplSkQQPcxSprsmwQawN5SfG-b_YIPMiYIJCJNvtDk-ufqv56dQv7SwCZNk9jK9AMxCIhZGJOJVMbT78sWjDCjkGiNahWOhz9VJGmsA_I9VHS_WjAPRgPkKP4EQ==\">Chevrolet Silverado EV RST Max Range charging time</a>\n",
              "    <a class=\"chip\" href=\"https://vertexaisearch.cloud.google.com/grounding-api-redirect/AQXblryx6KIOH7tNPVHasZD3UV9Ru5v4raVD8V-g1Pi4AV-FeNy0DGgSxsO7UanPumapvlvda-Xxg5KGJ7mvlERglDWSgV3E9dRnqApOX1EMcwfOG7_NpU4ElGgoTrXlnBTHu8srGn7utYdXS1A_GsTIq_j-Vt5OqBvVm4WPTKu0EgSmKmKMbCH543niYzTdX8lmk-LAL9KOgf-UsOaMwn6zQ1Q0yyGR4Pc9tZs=\">Lucid Air Grand Touring charging time</a>\n",
              "    <a class=\"chip\" href=\"https://vertexaisearch.cloud.google.com/grounding-api-redirect/AQXblrwuCYpUTJVpbmqQ42seRiMW1pyG-XGZpQ1ykPIsL-otB4Z7veEV4OYdtYMwJbxbklPkpIcfMQB8KWN9fLh24KgoHIm8D7KzDNMj9ci9vJndkqdURRRgM30IE5uokkr9pF-x3fhNPVZu3CBldOCRWuBk5z_9E1PpDihvW4z1YLqA1MrIvhTjSWH3FuCOTGJzUuZNLD5V-H7tynCZtgmeOtyGk4coS44rc8vr0Q==\">Mercedes EQS 450+ Sedan charging time</a>\n",
              "  </div>\n",
              "</div>\n"
            ]
          },
          "metadata": {}
        },
        {
          "output_type": "stream",
          "name": "stdout",
          "text": [
            "\n",
            "📊 Search Usage Visualization:\n"
          ]
        },
        {
          "output_type": "display_data",
          "data": {
            "text/plain": [
              "<Figure size 1000x500 with 1 Axes>"
            ],
            "image/png": "[encoded data removed]"
          },
          "metadata": {}
        },
        {
          "output_type": "stream",
          "name": "stdout",
          "text": [
            "\n",
            "# Notice how Gemini maintains context about which vehicles we're discussing\n",
            "# while retrieving fresh information for each question.\n"
          ]
        }
      ]
    },
    {
      "cell_type": "markdown",
      "source": [
        "# Combining Search with Data Visualization\n",
        "## 6. Creating Data Visualizations with Search-Sourced Data"
      ],
      "metadata": {
        "id": "7pY6_atuyvQP"
      }
    },
    {
      "cell_type": "code",
      "source": [
        "print(\"\\n--- 6. Data Visualization with Search-Sourced Data ---\")\n",
        "print(\"# Gemini can use search to find data and generate code to visualize it\")\n",
        "\n",
        "# Create a new chat with search enabled for data visualization\n",
        "viz_chat = client.chats.create(model=MODEL, config={'tools': [search_tool]})\n",
        "\n",
        "# Explicitly ask for Python code to visualize the data\n",
        "viz_prompt = \"\"\"\n",
        "Find the GDP growth rates for the world's top 5 economies for the most recent year.\n",
        "Then write executable Python code that:\n",
        "1. Creates a pandas DataFrame with this data\n",
        "2. Uses matplotlib to generate a bar chart comparing the growth rates\n",
        "3. Includes proper labels, title, and color coding\n",
        "4. Formats the chart for clear visualization\n",
        "\n",
        "Make sure the code is complete and can be executed directly in a Jupyter notebook without modification.\n",
        "\"\"\"\n",
        "\n",
        "print(f\"\\n📝 Query: '{viz_prompt}'\")\n",
        "viz_response = viz_chat.send_message(viz_prompt)\n",
        "show_parts(viz_response)\n",
        "\n",
        "print(\"\\n# The code above can be copied into a code cell and executed to create the visualization.\")\n",
        "print(\"# Gemini has sourced recent economic data and created visualization code.\")"
      ],
      "metadata": {
        "colab": {
          "base_uri": "https://localhost:8080/",
          "height": 1000
        },
        "id": "ptmwb_5Oy0QM",
        "outputId": "d1f98ec8-5ebe-44c1-9623-b8a169cb4166"
      },
      "execution_count": null,
      "outputs": [
        {
          "output_type": "stream",
          "name": "stdout",
          "text": [
            "\n",
            "--- 6. Data Visualization with Search-Sourced Data ---\n",
            "# Gemini can use search to find data and generate code to visualize it\n",
            "\n",
            "📝 Query: '\n",
            "Find the GDP growth rates for the world's top 5 economies for the most recent year.\n",
            "Then write executable Python code that:\n",
            "1. Creates a pandas DataFrame with this data\n",
            "2. Uses matplotlib to generate a bar chart comparing the growth rates\n",
            "3. Includes proper labels, title, and color coding\n",
            "4. Formats the chart for clear visualization\n",
            "\n",
            "Make sure the code is complete and can be executed directly in a Jupyter notebook without modification.\n",
            "'\n"
          ]
        },
        {
          "output_type": "display_data",
          "data": {
            "text/plain": [
              "<IPython.core.display.Markdown object>"
            ],
            "text/markdown": "Okay, I can help you with that. I will find the GDP growth rates for the world's top 5 economies for the most recent year, create a pandas DataFrame, and generate a bar chart using matplotlib.\n\n"
          },
          "metadata": {}
        },
        {
          "output_type": "display_data",
          "data": {
            "text/plain": [
              "<IPython.core.display.Markdown object>"
            ],
            "text/markdown": "Based on the search results, here are the GDP growth rates for the world's top 5 economies for the most recent year (2024), along with projections for 2025, and then I will provide the Python code to generate the bar chart. Note that different sources provide slightly different figures, so I'm using a combination of the more recent estimates. Also, some provide Q3 or full year estimates.\n\n**Top 5 Economies (by nominal GDP) and their GDP Growth Rates:**\n\nHere, I'm taking the most recently available data (mostly estimates for the full year 2024) from the search results:\n\n1.  **United States:** 2.5% (Trading Economics, Q4)\n2.  **China:** 5.4% (Trading Economics, Q4)\n3.  **Germany:** -0.2% (Trading Economics, Q4)\n4.  **Japan:** 1.2% (Trading Economics, Q4)\n5.  **India:** 6.2% (Trading Economics, Q4)\n\nNow, here is the Python code to generate the bar chart:\n\n"
          },
          "metadata": {}
        },
        {
          "output_type": "display_data",
          "data": {
            "text/plain": [
              "<IPython.core.display.Markdown object>"
            ],
            "text/markdown": "```python\nimport pandas as pd\nimport matplotlib.pyplot as plt\nimport numpy as np\n\n# Data\ndata = {'Country': ['United States', 'China', 'Germany', 'Japan', 'India'],\n        'GDP Growth Rate': [2.5, 5.4, -0.2, 1.2, 6.2]}\n\ndf = pd.DataFrame(data)\n\n# Plotting\nplt.figure(figsize=(10, 6))  # Adjust figure size for better visualization\ncolors = ['skyblue', 'lightgreen', 'lightcoral', 'lightsalmon', 'lightseagreen']  # Define colors\n\nbars = plt.bar(df['Country'], df['GDP Growth Rate'], color=colors)\n\n# Adding labels and title\nplt.xlabel('Country', fontsize=12)\nplt.ylabel('GDP Growth Rate (%)', fontsize=12)\nplt.title('GDP Growth Rates of Top 5 Economies (2024)', fontsize=14)\nplt.ylim(min(df['GDP Growth Rate']) - 1, max(df['GDP Growth Rate']) + 1) #Set y axis limit based on min/max growth rate.\n\n# Adding value labels on top of bars\nfor bar in bars:\n    yval = bar.get_height()\n    plt.text(bar.get_x() + bar.get_width()/2, yval, round(yval, 1), ha='center', va='bottom')\n\nplt.xticks(rotation=45, ha='right')  # Rotate x-axis labels for readability\nplt.tight_layout()  # Adjust layout to prevent labels from overlapping\nplt.grid(axis='y', linestyle='--')  # Add a grid for better readability\n\n# Show plot\nplt.show()\n```"
          },
          "metadata": {}
        },
        {
          "output_type": "display_data",
          "data": {
            "text/plain": [
              "<IPython.core.display.Markdown object>"
            ],
            "text/markdown": "\n\n**Explanation:**\n\n1.  **Import Libraries:** Imports `pandas` for creating a DataFrame and `matplotlib.pyplot` for plotting.\n2.  **Data:** Creates a dictionary containing the country names and their corresponding GDP growth rates.\n3.  **DataFrame:** Converts the dictionary into a pandas DataFrame for easier manipulation.\n4.  **Plotting:**\n    *   Creates a figure and axes using `plt.figure()` and `plt.bar()`.\n    *   Specifies the countries on the x-axis and the growth rates on the y-axis.\n    *   Sets custom colors for each bar.\n5.  **Labels and Title:** Adds a title, x-axis label, and y-axis label to the chart.\n6.  **Value Labels:** Iterates through each bar and adds the corresponding growth rate value on top.\n7.  **Formatting:**\n    *   Rotates the x-axis labels for better readability using `plt.xticks(rotation=45, ha='right')`.\n    *   Uses `plt.tight_layout()` to adjust the layout and prevent labels from overlapping.\n    *   Adds a y-axis grid for enhanced readability.\n8.  **Show Plot:** Displays the generated bar chart using `plt.show()`.\n\nThis code will produce a bar chart showing the GDP growth rates for the top 5 economies, with appropriate labels, title, colors, and formatting for clear visualization. You can copy and paste this code directly into a Jupyter Notebook and run it without any modifications.\n"
          },
          "metadata": {}
        },
        {
          "output_type": "stream",
          "name": "stdout",
          "text": [
            "\n",
            "📊 Search Results Used:\n"
          ]
        },
        {
          "output_type": "display_data",
          "data": {
            "text/plain": [
              "<IPython.core.display.HTML object>"
            ],
            "text/html": [
              "<style>\n",
              ".container {\n",
              "  align-items: center;\n",
              "  border-radius: 8px;\n",
              "  display: flex;\n",
              "  font-family: Google Sans, Roboto, sans-serif;\n",
              "  font-size: 14px;\n",
              "  line-height: 20px;\n",
              "  padding: 8px 12px;\n",
              "}\n",
              ".chip {\n",
              "  display: inline-block;\n",
              "  border: solid 1px;\n",
              "  border-radius: 16px;\n",
              "  min-width: 14px;\n",
              "  padding: 5px 16px;\n",
              "  text-align: center;\n",
              "  user-select: none;\n",
              "  margin: 0 8px;\n",
              "  -webkit-tap-highlight-color: transparent;\n",
              "}\n",
              ".carousel {\n",
              "  overflow: auto;\n",
              "  scrollbar-width: none;\n",
              "  white-space: nowrap;\n",
              "  margin-right: -12px;\n",
              "}\n",
              ".headline {\n",
              "  display: flex;\n",
              "  margin-right: 4px;\n",
              "}\n",
              ".gradient-container {\n",
              "  position: relative;\n",
              "}\n",
              ".gradient {\n",
              "  position: absolute;\n",
              "  transform: translate(3px, -9px);\n",
              "  height: 36px;\n",
              "  width: 9px;\n",
              "}\n",
              "@media (prefers-color-scheme: light) {\n",
              "  .container {\n",
              "    background-color: #fafafa;\n",
              "    box-shadow: 0 0 0 1px #0000000f;\n",
              "  }\n",
              "  .headline-label {\n",
              "    color: #1f1f1f;\n",
              "  }\n",
              "  .chip {\n",
              "    background-color: #ffffff;\n",
              "    border-color: #d2d2d2;\n",
              "    color: #5e5e5e;\n",
              "    text-decoration: none;\n",
              "  }\n",
              "  .chip:hover {\n",
              "    background-color: #f2f2f2;\n",
              "  }\n",
              "  .chip:focus {\n",
              "    background-color: #f2f2f2;\n",
              "  }\n",
              "  .chip:active {\n",
              "    background-color: #d8d8d8;\n",
              "    border-color: #b6b6b6;\n",
              "  }\n",
              "  .logo-dark {\n",
              "    display: none;\n",
              "  }\n",
              "  .gradient {\n",
              "    background: linear-gradient(90deg, #fafafa 15%, #fafafa00 100%);\n",
              "  }\n",
              "}\n",
              "@media (prefers-color-scheme: dark) {\n",
              "  .container {\n",
              "    background-color: #1f1f1f;\n",
              "    box-shadow: 0 0 0 1px #ffffff26;\n",
              "  }\n",
              "  .headline-label {\n",
              "    color: #fff;\n",
              "  }\n",
              "  .chip {\n",
              "    background-color: #2c2c2c;\n",
              "    border-color: #3c4043;\n",
              "    color: #fff;\n",
              "    text-decoration: none;\n",
              "  }\n",
              "  .chip:hover {\n",
              "    background-color: #353536;\n",
              "  }\n",
              "  .chip:focus {\n",
              "    background-color: #353536;\n",
              "  }\n",
              "  .chip:active {\n",
              "    background-color: #464849;\n",
              "    border-color: #53575b;\n",
              "  }\n",
              "  .logo-light {\n",
              "    display: none;\n",
              "  }\n",
              "  .gradient {\n",
              "    background: linear-gradient(90deg, #1f1f1f 15%, #1f1f1f00 100%);\n",
              "  }\n",
              "}\n",
              "</style>\n",
              "<div class=\"container\">\n",
              "  <div class=\"headline\">\n",
              "    <svg class=\"logo-light\" width=\"18\" height=\"18\" viewBox=\"9 9 35 35\" fill=\"none\" xmlns=\"http://www.w3.org/2000/svg\">\n",
              "      <path fill-rule=\"evenodd\" clip-rule=\"evenodd\" d=\"M42.8622 27.0064C42.8622 25.7839 42.7525 24.6084 42.5487 23.4799H26.3109V30.1568H35.5897C35.1821 32.3041 33.9596 34.1222 32.1258 35.3448V39.6864H37.7213C40.9814 36.677 42.8622 32.2571 42.8622 27.0064V27.0064Z\" fill=\"#4285F4\"/>\n",
              "      <path fill-rule=\"evenodd\" clip-rule=\"evenodd\" d=\"M26.3109 43.8555C30.9659 43.8555 34.8687 42.3195 37.7213 39.6863L32.1258 35.3447C30.5898 36.3792 28.6306 37.0061 26.3109 37.0061C21.8282 37.0061 18.0195 33.9811 16.6559 29.906H10.9194V34.3573C13.7563 39.9841 19.5712 43.8555 26.3109 43.8555V43.8555Z\" fill=\"#34A853\"/>\n",
              "      <path fill-rule=\"evenodd\" clip-rule=\"evenodd\" d=\"M16.6559 29.8904C16.3111 28.8559 16.1074 27.7588 16.1074 26.6146C16.1074 25.4704 16.3111 24.3733 16.6559 23.3388V18.8875H10.9194C9.74388 21.2072 9.06992 23.8247 9.06992 26.6146C9.06992 29.4045 9.74388 32.022 10.9194 34.3417L15.3864 30.8621L16.6559 29.8904V29.8904Z\" fill=\"#FBBC05\"/>\n",
              "      <path fill-rule=\"evenodd\" clip-rule=\"evenodd\" d=\"M26.3109 16.2386C28.85 16.2386 31.107 17.1164 32.9095 18.8091L37.8466 13.8719C34.853 11.082 30.9659 9.3736 26.3109 9.3736C19.5712 9.3736 13.7563 13.245 10.9194 18.8875L16.6559 23.3388C18.0195 19.2636 21.8282 16.2386 26.3109 16.2386V16.2386Z\" fill=\"#EA4335\"/>\n",
              "    </svg>\n",
              "    <svg class=\"logo-dark\" width=\"18\" height=\"18\" viewBox=\"0 0 48 48\" xmlns=\"http://www.w3.org/2000/svg\">\n",
              "      <circle cx=\"24\" cy=\"23\" fill=\"#FFF\" r=\"22\"/>\n",
              "      <path d=\"M33.76 34.26c2.75-2.56 4.49-6.37 4.49-11.26 0-.89-.08-1.84-.29-3H24.01v5.99h8.03c-.4 2.02-1.5 3.56-3.07 4.56v.75l3.91 2.97h.88z\" fill=\"#4285F4\"/>\n",
              "      <path d=\"M15.58 25.77A8.845 8.845 0 0 0 24 31.86c1.92 0 3.62-.46 4.97-1.31l4.79 3.71C31.14 36.7 27.65 38 24 38c-5.93 0-11.01-3.4-13.45-8.36l.17-1.01 4.06-2.85h.8z\" fill=\"#34A853\"/>\n",
              "      <path d=\"M15.59 20.21a8.864 8.864 0 0 0 0 5.58l-5.03 3.86c-.98-2-1.53-4.25-1.53-6.64 0-2.39.55-4.64 1.53-6.64l1-.22 3.81 2.98.22 1.08z\" fill=\"#FBBC05\"/>\n",
              "      <path d=\"M24 14.14c2.11 0 4.02.75 5.52 1.98l4.36-4.36C31.22 9.43 27.81 8 24 8c-5.93 0-11.01 3.4-13.45 8.36l5.03 3.85A8.86 8.86 0 0 1 24 14.14z\" fill=\"#EA4335\"/>\n",
              "    </svg>\n",
              "    <div class=\"gradient-container\"><div class=\"gradient\"></div></div>\n",
              "  </div>\n",
              "  <div class=\"carousel\">\n",
              "    <a class=\"chip\" href=\"https://vertexaisearch.cloud.google.com/grounding-api-redirect/AQXblrxX07Peq2sVUHaNw0NDM6KQGPMr4V0WGL434TMNdMoZEa0YitKd-Yz_3loARrS55JAbkz9aevDpsJ9mKNzAx3fFl81aB8EIkbyVqNLGX7KGHOakY2HqId50oM4Dm92SDCXsdMGAjcGFkZiaadabvhe2TiRmtRYZ59xzwFX4mbvEM6gsqg9aaRePvXOW2wRp51Fiey-Jesf3Bg==\">world GDP growth 2024</a>\n",
              "    <a class=\"chip\" href=\"https://vertexaisearch.cloud.google.com/grounding-api-redirect/AQXblrwgbCKbDHImlYV7nOV5bKai-Dpim_8JH3ZEjpXbK-QO93oHFFXesIvRE7J3zZA-J-QyG8WFSOn-tV2T_nB-ttZCFWzRbS-yl1UWQv6ZZRibrfUQtfKdsHvIONyxlQlu9K8q_Y6jWFu7TCxyFPyYqjS3z4_r8I_n_9DKYftL5-lHwFfeJI5aw1FfmzHCkqP52QjvpUcw1v099mkCVUDuqOoWxLeFecbLY7ET4hoj\">GDP growth rates for top 5 economies 2024</a>\n",
              "    <a class=\"chip\" href=\"https://vertexaisearch.cloud.google.com/grounding-api-redirect/AQXblryyfYPCFQszm4b21uq-gycEa0mGhOHOgnhnOc8qGCppYjSpzqWJA-xGlUH57rZyka7N5tveB_E4EPN6PpskbUOWl9s4dxJT_1iFqJ3y0e-75Ut08fJVI-YiK9cIWCWiRKPKlOlAHwE3Gjq9VBBGrheK-Kc-Yi6MRbdjnpnhimkGsBu2vk0njF36liW2SafBz2n9-SoT3JrKVR5Dv-Eccdzu2CI=\">top 5 economies GDP growth 2024</a>\n",
              "  </div>\n",
              "</div>\n"
            ]
          },
          "metadata": {}
        },
        {
          "output_type": "stream",
          "name": "stdout",
          "text": [
            "\n",
            "# The code above can be copied into a code cell and executed to create the visualization.\n",
            "# Gemini has sourced recent economic data and created visualization code.\n"
          ]
        }
      ]
    },
    {
      "cell_type": "code",
      "source": [
        "#Visualized the generated code\n",
        "\n",
        "import pandas as pd\n",
        "import matplotlib.pyplot as plt\n",
        "import numpy as np\n",
        "\n",
        "# Data\n",
        "data = {'Country': ['United States', 'China', 'Germany', 'Japan', 'India'],\n",
        "        'GDP Growth Rate': [2.5, 5.4, -0.2, 1.2, 6.2]}\n",
        "\n",
        "df = pd.DataFrame(data)\n",
        "\n",
        "# Plotting\n",
        "plt.figure(figsize=(10, 6))  # Adjust figure size for better visualization\n",
        "colors = ['skyblue', 'lightgreen', 'lightcoral', 'lightsalmon', 'lightseagreen']  # Define colors\n",
        "\n",
        "bars = plt.bar(df['Country'], df['GDP Growth Rate'], color=colors)\n",
        "\n",
        "# Adding labels and title\n",
        "plt.xlabel('Country', fontsize=12)\n",
        "plt.ylabel('GDP Growth Rate (%)', fontsize=12)\n",
        "plt.title('GDP Growth Rates of Top 5 Economies (2024)', fontsize=14)\n",
        "plt.ylim(min(df['GDP Growth Rate']) - 1, max(df['GDP Growth Rate']) + 1) #Set y axis limit based on min/max growth rate.\n",
        "\n",
        "# Adding value labels on top of bars\n",
        "for bar in bars:\n",
        "    yval = bar.get_height()\n",
        "    plt.text(bar.get_x() + bar.get_width()/2, yval, round(yval, 1), ha='center', va='bottom')\n",
        "\n",
        "plt.xticks(rotation=45, ha='right')  # Rotate x-axis labels for readability\n",
        "plt.tight_layout()  # Adjust layout to prevent labels from overlapping\n",
        "plt.grid(axis='y', linestyle='--')  # Add a grid for better readability\n",
        "\n",
        "# Show plot\n",
        "plt.show()"
      ],
      "metadata": {
        "colab": {
          "base_uri": "https://localhost:8080/",
          "height": 607
        },
        "id": "l6gn_5g7eN8v",
        "outputId": "dea81ca1-5782-4273-de02-7e6b8b02ddbc"
      },
      "execution_count": null,
      "outputs": [
        {
          "output_type": "display_data",
          "data": {
            "text/plain": [
              "<Figure size 1000x600 with 1 Axes>"
            ],
            "image/png": "[encoded data removed]"
          },
          "metadata": {}
        }
      ]
    },
    {
      "cell_type": "markdown",
      "source": [
        "# Multimodal Search Example\n",
        "## 7. Combining Search with Multimodal Capabilities"
      ],
      "metadata": {
        "id": "KhO2BMLTy3ec"
      }
    },
    {
      "cell_type": "code",
      "source": [
        "print(\"\\n--- 7. Multimodal Search Exploration ---\")\n",
        "print(\"# Gemini 2.0 can combine search with analysis of uploaded images\")\n",
        "\n",
        "from IPython.display import display, Image\n",
        "from google.colab import files\n",
        "import base64\n",
        "import io\n",
        "\n",
        "def encode_image(image_path):\n",
        "    \"\"\"Encode image to base64 string\"\"\"\n",
        "    with open(image_path, \"rb\") as image_file:\n",
        "        return base64.b64encode(image_file.read()).decode('utf-8')\n",
        "\n",
        "def upload_and_analyze_image():\n",
        "    \"\"\"Upload an image and analyze it with Gemini + Search\"\"\"\n",
        "    print(\"Please upload an image (landmark, artwork, product, etc.)\")\n",
        "    uploaded = files.upload()\n",
        "\n",
        "    if not uploaded:\n",
        "        print(\"No image uploaded. Skipping image analysis.\")\n",
        "        return\n",
        "\n",
        "    # Get the first uploaded file\n",
        "    image_path = list(uploaded.keys())[0]\n",
        "\n",
        "    # Display the uploaded image\n",
        "    print(\"Uploaded image:\")\n",
        "    display(Image(filename=image_path))\n",
        "\n",
        "    # Encode the image to base64\n",
        "    base64_image = encode_image(image_path)\n",
        "\n",
        "    # Create a new multimodal message with the image\n",
        "    multimodal_chat = client.chats.create(model=MODEL, config={'tools': [search_tool]})\n",
        "\n",
        "    # First prompt to identify the image\n",
        "    identification_prompt = f\"\"\"\n",
        "    data:image/jpeg;base64,{base64_image}\n",
        "\n",
        "    What is shown in this image? Please identify the main subject and provide a brief description.\n",
        "    \"\"\"\n",
        "\n",
        "    print(\"\\n🔍 Analyzing image...\")\n",
        "    identification_response = multimodal_chat.send_message(identification_prompt)\n",
        "    show_parts(identification_response)\n",
        "\n",
        "    # Second prompt to get more detailed information with search\n",
        "    detail_prompt = \"Please search for more detailed information about this subject, including when it was created/built, its history, and interesting facts.\"\n",
        "\n",
        "    print(\"\\n🔍 Searching for detailed information...\")\n",
        "    detail_response = multimodal_chat.send_message(detail_prompt)\n",
        "    show_parts(detail_response)\n",
        "\n",
        "    return multimodal_chat\n",
        "\n",
        "# Explanation for workshop participants\n",
        "print(\"\\nIn this section, you'll upload an image and Gemini will:\")\n",
        "print(\"1. Analyze the visual content to identify what's in the image\")\n",
        "print(\"2. Use Google Search to find accurate, detailed information about the subject\")\n",
        "print(\"3. Allow you to ask follow-up questions in the same conversation context\")\n",
        "print(\"\\nThis demonstrates how Gemini combines visual understanding with search capabilities.\")\n",
        "\n",
        "# Run the interactive image upload and analysis\n",
        "print(\"\\n📸 Let's try this out!\")\n",
        "multimodal_chat = upload_and_analyze_image()\n",
        "\n",
        "# Provide instructions for follow-up questions\n",
        "if multimodal_chat:\n",
        "    print(\"\\n📝 You can now ask follow-up questions about the image!\")\n",
        "    print(\"Example follow-up questions:\")\n",
        "    print(\"- 'How does it compare to similar examples?'\")\n",
        "    print(\"- 'What are common misconceptions about it?'\")\n",
        "    print(\"- 'When was the last major renovation or change?'\")\n",
        "\n",
        "    # Option to ask a follow-up question\n",
        "    follow_up = input(\"Enter a follow-up question (or press Enter to skip): \")\n",
        "    if follow_up:\n",
        "        print(f\"\\n🔍 Searching for answer to: '{follow_up}'\")\n",
        "        follow_up_response = multimodal_chat.send_message(follow_up)\n",
        "        show_parts(follow_up_response)"
      ],
      "metadata": {
        "colab": {
          "base_uri": "https://localhost:8080/",
          "height": 1000
        },
        "id": "asBvKeVGy9Dm",
        "outputId": "d88baca8-0908-41dd-e04c-304a430ed0a8"
      },
      "execution_count": null,
      "outputs": [
        {
          "output_type": "stream",
          "name": "stdout",
          "text": [
            "\n",
            "--- 7. Multimodal Search Exploration ---\n",
            "# Gemini 2.0 can combine search with analysis of uploaded images\n",
            "\n",
            "In this section, you'll upload an image and Gemini will:\n",
            "1. Analyze the visual content to identify what's in the image\n",
            "2. Use Google Search to find accurate, detailed information about the subject\n",
            "3. Allow you to ask follow-up questions in the same conversation context\n",
            "\n",
            "This demonstrates how Gemini combines visual understanding with search capabilities.\n",
            "\n",
            "📸 Let's try this out!\n",
            "Please upload an image (landmark, artwork, product, etc.)\n"
          ]
        },
        {
          "output_type": "display_data",
          "data": {
            "text/plain": [
              "<IPython.core.display.HTML object>"
            ],
            "text/html": [
              "\n",
              "     <input type=\"file\" id=\"files-ab5b8d15-b0d1-4b50-9fa1-4f7167119a41\" name=\"files[]\" multiple disabled\n",
              "        style=\"border:none\" />\n",
              "     <output id=\"result-ab5b8d15-b0d1-4b50-9fa1-4f7167119a41\">\n",
              "      Upload widget is only available when the cell has been executed in the\n",
              "      current browser session. Please rerun this cell to enable.\n",
              "      </output>\n",
              "      <script>// Copyright 2017 Google LLC\n",
              "//\n",
              "// Licensed under the Apache License, Version 2.0 (the \"License\");\n",
              "// you may not use this file except in compliance with the License.\n",
              "// You may obtain a copy of the License at\n",
              "//\n",
              "//      http://www.apache.org/licenses/LICENSE-2.0\n",
              "//\n",
              "// Unless required by applicable law or agreed to in writing, software\n",
              "// distributed under the License is distributed on an \"AS IS\" BASIS,\n",
              "// WITHOUT WARRANTIES OR CONDITIONS OF ANY KIND, either express or implied.\n",
              "// See the License for the specific language governing permissions and\n",
              "// limitations under the License.\n",
              "\n",
              "/**\n",
              " * @fileoverview Helpers for google.colab Python module.\n",
              " */\n",
              "(function(scope) {\n",
              "function span(text, styleAttributes = {}) {\n",
              "  const element = document.createElement('span');\n",
              "  element.textContent = text;\n",
              "  for (const key of Object.keys(styleAttributes)) {\n",
              "    element.style[key] = styleAttributes[key];\n",
              "  }\n",
              "  return element;\n",
              "}\n",
              "\n",
              "// Max number of bytes which will be uploaded at a time.\n",
              "const MAX_PAYLOAD_SIZE = 100 * 1024;\n",
              "\n",
              "function _uploadFiles(inputId, outputId) {\n",
              "  const steps = uploadFilesStep(inputId, outputId);\n",
              "  const outputElement = document.getElementById(outputId);\n",
              "  // Cache steps on the outputElement to make it available for the next call\n",
              "  // to uploadFilesContinue from Python.\n",
              "  outputElement.steps = steps;\n",
              "\n",
              "  return _uploadFilesContinue(outputId);\n",
              "}\n",
              "\n",
              "// This is roughly an async generator (not supported in the browser yet),\n",
              "// where there are multiple asynchronous steps and the Python side is going\n",
              "// to poll for completion of each step.\n",
              "// This uses a Promise to block the python side on completion of each step,\n",
              "// then passes the result of the previous step as the input to the next step.\n",
              "function _uploadFilesContinue(outputId) {\n",
              "  const outputElement = document.getElementById(outputId);\n",
              "  const steps = outputElement.steps;\n",
              "\n",
              "  const next = steps.next(outputElement.lastPromiseValue);\n",
              "  return Promise.resolve(next.value.promise).then((value) => {\n",
              "    // Cache the last promise value to make it available to the next\n",
              "    // step of the generator.\n",
              "    outputElement.lastPromiseValue = value;\n",
              "    return next.value.response;\n",
              "  });\n",
              "}\n",
              "\n",
              "/**\n",
              " * Generator function which is called between each async step of the upload\n",
              " * process.\n",
              " * @param {string} inputId Element ID of the input file picker element.\n",
              " * @param {string} outputId Element ID of the output display.\n",
              " * @return {!Iterable<!Object>} Iterable of next steps.\n",
              " */\n",
              "function* uploadFilesStep(inputId, outputId) {\n",
              "  const inputElement = document.getElementById(inputId);\n",
              "  inputElement.disabled = false;\n",
              "\n",
              "  const outputElement = document.getElementById(outputId);\n",
              "  outputElement.innerHTML = '';\n",
              "\n",
              "  const pickedPromise = new Promise((resolve) => {\n",
              "    inputElement.addEventListener('change', (e) => {\n",
              "      resolve(e.target.files);\n",
              "    });\n",
              "  });\n",
              "\n",
              "  const cancel = document.createElement('button');\n",
              "  inputElement.parentElement.appendChild(cancel);\n",
              "  cancel.textContent = 'Cancel upload';\n",
              "  const cancelPromise = new Promise((resolve) => {\n",
              "    cancel.onclick = () => {\n",
              "      resolve(null);\n",
              "    };\n",
              "  });\n",
              "\n",
              "  // Wait for the user to pick the files.\n",
              "  const files = yield {\n",
              "    promise: Promise.race([pickedPromise, cancelPromise]),\n",
              "    response: {\n",
              "      action: 'starting',\n",
              "    }\n",
              "  };\n",
              "\n",
              "  cancel.remove();\n",
              "\n",
              "  // Disable the input element since further picks are not allowed.\n",
              "  inputElement.disabled = true;\n",
              "\n",
              "  if (!files) {\n",
              "    return {\n",
              "      response: {\n",
              "        action: 'complete',\n",
              "      }\n",
              "    };\n",
              "  }\n",
              "\n",
              "  for (const file of files) {\n",
              "    const li = document.createElement('li');\n",
              "    li.append(span(file.name, {fontWeight: 'bold'}));\n",
              "    li.append(span(\n",
              "        `(${file.type || 'n/a'}) - ${file.size} bytes, ` +\n",
              "        `last modified: ${\n",
              "            file.lastModifiedDate ? file.lastModifiedDate.toLocaleDateString() :\n",
              "                                    'n/a'} - `));\n",
              "    const percent = span('0% done');\n",
              "    li.appendChild(percent);\n",
              "\n",
              "    outputElement.appendChild(li);\n",
              "\n",
              "    const fileDataPromise = new Promise((resolve) => {\n",
              "      const reader = new FileReader();\n",
              "      reader.onload = (e) => {\n",
              "        resolve(e.target.result);\n",
              "      };\n",
              "      reader.readAsArrayBuffer(file);\n",
              "    });\n",
              "    // Wait for the data to be ready.\n",
              "    let fileData = yield {\n",
              "      promise: fileDataPromise,\n",
              "      response: {\n",
              "        action: 'continue',\n",
              "      }\n",
              "    };\n",
              "\n",
              "    // Use a chunked sending to avoid message size limits. See b/62115660.\n",
              "    let position = 0;\n",
              "    do {\n",
              "      const length = Math.min(fileData.byteLength - position, MAX_PAYLOAD_SIZE);\n",
              "      const chunk = new Uint8Array(fileData, position, length);\n",
              "      position += length;\n",
              "\n",
              "      const base64 = btoa(String.fromCharCode.apply(null, chunk));\n",
              "      yield {\n",
              "        response: {\n",
              "          action: 'append',\n",
              "          file: file.name,\n",
              "          data: base64,\n",
              "        },\n",
              "      };\n",
              "\n",
              "      let percentDone = fileData.byteLength === 0 ?\n",
              "          100 :\n",
              "          Math.round((position / fileData.byteLength) * 100);\n",
              "      percent.textContent = `${percentDone}% done`;\n",
              "\n",
              "    } while (position < fileData.byteLength);\n",
              "  }\n",
              "\n",
              "  // All done.\n",
              "  yield {\n",
              "    response: {\n",
              "      action: 'complete',\n",
              "    }\n",
              "  };\n",
              "}\n",
              "\n",
              "scope.google = scope.google || {};\n",
              "scope.google.colab = scope.google.colab || {};\n",
              "scope.google.colab._files = {\n",
              "  _uploadFiles,\n",
              "  _uploadFilesContinue,\n",
              "};\n",
              "})(self);\n",
              "</script> "
            ]
          },
          "metadata": {}
        },
        {
          "output_type": "stream",
          "name": "stdout",
          "text": [
            "Saving Dog_Breeds.jpg to Dog_Breeds (1).jpg\n",
            "Uploaded image:\n"
          ]
        },
        {
          "output_type": "display_data",
          "data": {
            "image/jpeg": "[encoded data removed]",
            "text/plain": [
              "<IPython.core.display.Image object>"
            ]
          },
          "metadata": {}
        },
        {
          "output_type": "stream",
          "name": "stdout",
          "text": [
            "\n",
            "🔍 Analyzing image...\n"
          ]
        },
        {
          "output_type": "display_data",
          "data": {
            "text/plain": [
              "<IPython.core.display.Markdown object>"
            ],
            "text/markdown": "Here's a breakdown of the image you sent:\n\n*   **Main Subject:** The image seems to show some sort of decorative or patterned tile or fabric.\n\n*   **Description:** It has an intricate, repeating design with a focus on geometric shapes and floral elements. The color scheme seems to involve shades of brown, tan, and possibly some muted greens or blues. The overall impression is a vintage or possibly antique aesthetic.\n"
          },
          "metadata": {}
        },
        {
          "output_type": "stream",
          "name": "stdout",
          "text": [
            "\n",
            "🔍 Searching for detailed information...\n"
          ]
        },
        {
          "output_type": "display_data",
          "data": {
            "text/plain": [
              "<IPython.core.display.Markdown object>"
            ],
            "text/markdown": "Based on the search results, here's some detailed information about the subject of the image:\n\n**Main Features:**\n\n*   The design combines geometric patterns (such as squares, circles, and sometimes more angular shapes) with floral motifs.\n*   Common colors include earthy tones like browns, tans, terracotta, and often blues, greens, reds, yellows, or black and white for contrast.\n*   These tiles are found in various settings, including floors, walls, and decorative elements.\n\n**Historical Context:**\n\n*   **Ancient Origins:** Geometric patterns in tiles date back to ancient civilizations like Mesopotamia and Egypt (around 4000 BC). Egyptians used faience tiles, glazed with bright blue and green, in temples and tombs. The Greeks and Romans also used geometric patterns extensively in mosaics for floors and walls.\n*   **Islamic Influence:** Islamic art made significant contributions, particularly in Persia (Iran), Turkey, and Spain. Islamic tiles are known for elaborate geometric and floral patterns with rich, vivid colors. Techniques like cuerda seca and zellige (mosaic tilework) became prominent.\n*   **Byzantine Period:** Decorative tiles rose in popularity in churches and public buildings, often featuring religious iconography and complex geometric patterns.\n*   **Renaissance Europe:** There was a revival of classical art and architecture. Italian maiolica tiles and Delftware (Dutch blue and white tiles) became popular, often depicting pastoral scenes and floral motifs.\n*   **Art Nouveau and Art Deco:** Art Nouveau (late 19th to early 20th century) used flowing lines, organic forms, and floral patterns with geometric elements. Art Deco (1920s-1930s) took a more angular approach with clean lines, symmetrical patterns, and bold shapes like chevrons and zigzags.\n*   **Victorian Era:** Mass production made tiles more affordable, and encaustic tiles with intricate patterns and vibrant colors became common in public spaces.\n\n**Key Characteristics & Styles:**\n\n*   **Materials:** Early tiles were made from terracotta or clay. Later, materials included stone, glass, marble, and glazed ceramics (faience, maiolica).\n*   **Patterns:** Common patterns include:\n    *   Geometric (squares, triangles, diamonds, chevrons, zigzags, etc.)\n    *   Floral (flowers, leaves, vines)\n    *   A combination of geometric and floral elements\n    *   Mosaic patterns with small pieces arranged to form larger designs\n*   **Use:** Historically used in temples, palaces, tombs, churches, public buildings, and homes.\n*   **Modern Usage:** Still popular in contemporary design for bathrooms, kitchens, living rooms, and as accent walls. They can complement rustic, traditional, and modern styles.\n\n**Interesting Facts:**\n\n*   The Romans perfected the art of creating durable and colorful mosaic designs.\n*   Islamic cultures emphasized intricate craftsmanship with elaborate geometric and floral designs.\n*   The Industrial Revolution made tiles more accessible to the middle class.\n*   Today, patterned tiles come in a variety of shapes, sizes, and designs.\n\n"
          },
          "metadata": {}
        },
        {
          "output_type": "stream",
          "name": "stdout",
          "text": [
            "\n",
            "📊 Search Results Used:\n"
          ]
        },
        {
          "output_type": "display_data",
          "data": {
            "text/plain": [
              "<IPython.core.display.HTML object>"
            ],
            "text/html": [
              "<style>\n",
              ".container {\n",
              "  align-items: center;\n",
              "  border-radius: 8px;\n",
              "  display: flex;\n",
              "  font-family: Google Sans, Roboto, sans-serif;\n",
              "  font-size: 14px;\n",
              "  line-height: 20px;\n",
              "  padding: 8px 12px;\n",
              "}\n",
              ".chip {\n",
              "  display: inline-block;\n",
              "  border: solid 1px;\n",
              "  border-radius: 16px;\n",
              "  min-width: 14px;\n",
              "  padding: 5px 16px;\n",
              "  text-align: center;\n",
              "  user-select: none;\n",
              "  margin: 0 8px;\n",
              "  -webkit-tap-highlight-color: transparent;\n",
              "}\n",
              ".carousel {\n",
              "  overflow: auto;\n",
              "  scrollbar-width: none;\n",
              "  white-space: nowrap;\n",
              "  margin-right: -12px;\n",
              "}\n",
              ".headline {\n",
              "  display: flex;\n",
              "  margin-right: 4px;\n",
              "}\n",
              ".gradient-container {\n",
              "  position: relative;\n",
              "}\n",
              ".gradient {\n",
              "  position: absolute;\n",
              "  transform: translate(3px, -9px);\n",
              "  height: 36px;\n",
              "  width: 9px;\n",
              "}\n",
              "@media (prefers-color-scheme: light) {\n",
              "  .container {\n",
              "    background-color: #fafafa;\n",
              "    box-shadow: 0 0 0 1px #0000000f;\n",
              "  }\n",
              "  .headline-label {\n",
              "    color: #1f1f1f;\n",
              "  }\n",
              "  .chip {\n",
              "    background-color: #ffffff;\n",
              "    border-color: #d2d2d2;\n",
              "    color: #5e5e5e;\n",
              "    text-decoration: none;\n",
              "  }\n",
              "  .chip:hover {\n",
              "    background-color: #f2f2f2;\n",
              "  }\n",
              "  .chip:focus {\n",
              "    background-color: #f2f2f2;\n",
              "  }\n",
              "  .chip:active {\n",
              "    background-color: #d8d8d8;\n",
              "    border-color: #b6b6b6;\n",
              "  }\n",
              "  .logo-dark {\n",
              "    display: none;\n",
              "  }\n",
              "  .gradient {\n",
              "    background: linear-gradient(90deg, #fafafa 15%, #fafafa00 100%);\n",
              "  }\n",
              "}\n",
              "@media (prefers-color-scheme: dark) {\n",
              "  .container {\n",
              "    background-color: #1f1f1f;\n",
              "    box-shadow: 0 0 0 1px #ffffff26;\n",
              "  }\n",
              "  .headline-label {\n",
              "    color: #fff;\n",
              "  }\n",
              "  .chip {\n",
              "    background-color: #2c2c2c;\n",
              "    border-color: #3c4043;\n",
              "    color: #fff;\n",
              "    text-decoration: none;\n",
              "  }\n",
              "  .chip:hover {\n",
              "    background-color: #353536;\n",
              "  }\n",
              "  .chip:focus {\n",
              "    background-color: #353536;\n",
              "  }\n",
              "  .chip:active {\n",
              "    background-color: #464849;\n",
              "    border-color: #53575b;\n",
              "  }\n",
              "  .logo-light {\n",
              "    display: none;\n",
              "  }\n",
              "  .gradient {\n",
              "    background: linear-gradient(90deg, #1f1f1f 15%, #1f1f1f00 100%);\n",
              "  }\n",
              "}\n",
              "</style>\n",
              "<div class=\"container\">\n",
              "  <div class=\"headline\">\n",
              "    <svg class=\"logo-light\" width=\"18\" height=\"18\" viewBox=\"9 9 35 35\" fill=\"none\" xmlns=\"http://www.w3.org/2000/svg\">\n",
              "      <path fill-rule=\"evenodd\" clip-rule=\"evenodd\" d=\"M42.8622 27.0064C42.8622 25.7839 42.7525 24.6084 42.5487 23.4799H26.3109V30.1568H35.5897C35.1821 32.3041 33.9596 34.1222 32.1258 35.3448V39.6864H37.7213C40.9814 36.677 42.8622 32.2571 42.8622 27.0064V27.0064Z\" fill=\"#4285F4\"/>\n",
              "      <path fill-rule=\"evenodd\" clip-rule=\"evenodd\" d=\"M26.3109 43.8555C30.9659 43.8555 34.8687 42.3195 37.7213 39.6863L32.1258 35.3447C30.5898 36.3792 28.6306 37.0061 26.3109 37.0061C21.8282 37.0061 18.0195 33.9811 16.6559 29.906H10.9194V34.3573C13.7563 39.9841 19.5712 43.8555 26.3109 43.8555V43.8555Z\" fill=\"#34A853\"/>\n",
              "      <path fill-rule=\"evenodd\" clip-rule=\"evenodd\" d=\"M16.6559 29.8904C16.3111 28.8559 16.1074 27.7588 16.1074 26.6146C16.1074 25.4704 16.3111 24.3733 16.6559 23.3388V18.8875H10.9194C9.74388 21.2072 9.06992 23.8247 9.06992 26.6146C9.06992 29.4045 9.74388 32.022 10.9194 34.3417L15.3864 30.8621L16.6559 29.8904V29.8904Z\" fill=\"#FBBC05\"/>\n",
              "      <path fill-rule=\"evenodd\" clip-rule=\"evenodd\" d=\"M26.3109 16.2386C28.85 16.2386 31.107 17.1164 32.9095 18.8091L37.8466 13.8719C34.853 11.082 30.9659 9.3736 26.3109 9.3736C19.5712 9.3736 13.7563 13.245 10.9194 18.8875L16.6559 23.3388C18.0195 19.2636 21.8282 16.2386 26.3109 16.2386V16.2386Z\" fill=\"#EA4335\"/>\n",
              "    </svg>\n",
              "    <svg class=\"logo-dark\" width=\"18\" height=\"18\" viewBox=\"0 0 48 48\" xmlns=\"http://www.w3.org/2000/svg\">\n",
              "      <circle cx=\"24\" cy=\"23\" fill=\"#FFF\" r=\"22\"/>\n",
              "      <path d=\"M33.76 34.26c2.75-2.56 4.49-6.37 4.49-11.26 0-.89-.08-1.84-.29-3H24.01v5.99h8.03c-.4 2.02-1.5 3.56-3.07 4.56v.75l3.91 2.97h.88z\" fill=\"#4285F4\"/>\n",
              "      <path d=\"M15.58 25.77A8.845 8.845 0 0 0 24 31.86c1.92 0 3.62-.46 4.97-1.31l4.79 3.71C31.14 36.7 27.65 38 24 38c-5.93 0-11.01-3.4-13.45-8.36l.17-1.01 4.06-2.85h.8z\" fill=\"#34A853\"/>\n",
              "      <path d=\"M15.59 20.21a8.864 8.864 0 0 0 0 5.58l-5.03 3.86c-.98-2-1.53-4.25-1.53-6.64 0-2.39.55-4.64 1.53-6.64l1-.22 3.81 2.98.22 1.08z\" fill=\"#FBBC05\"/>\n",
              "      <path d=\"M24 14.14c2.11 0 4.02.75 5.52 1.98l4.36-4.36C31.22 9.43 27.81 8 24 8c-5.93 0-11.01 3.4-13.45 8.36l5.03 3.85A8.86 8.86 0 0 1 24 14.14z\" fill=\"#EA4335\"/>\n",
              "    </svg>\n",
              "    <div class=\"gradient-container\"><div class=\"gradient\"></div></div>\n",
              "  </div>\n",
              "  <div class=\"carousel\">\n",
              "    <a class=\"chip\" href=\"https://vertexaisearch.cloud.google.com/grounding-api-redirect/AQXblrzqnCsVN26bs28iUk61sD50z3E7GcElVifb1p011eIqWMfqIh2ihRCyACPfoLqFArc-T5M1S3CmzdALgcwG5RkQG6hRQj2ggL-w5PC-JBPq-tQu8bqyFQhOV-NoIITwpNmuoU5HRx-ASsHu_aBGHO6CkKHioxQB85OTYsaVGuLcFZ-JH9lZHpbKaK1ZF9mvz4c8HDHWT_J3h0AXP4P2wA3SiazwUtWGHFG_\">geometric floral patterned tile design</a>\n",
              "    <a class=\"chip\" href=\"https://vertexaisearch.cloud.google.com/grounding-api-redirect/AQXblrzprV8YA3-32tlsMUBbCyW2ym3CyuzLN6pxlFJhNtddVTEqJph4GNMCpd-5XOybmHzacrLmPNhGwbR1Ww9LsUuBovUv3kmeZaMDa23nxWwEaKJp2axF8ndpYAM4LLYgRMCdViD7cvla8H6chIEnzgBqFxuW57fIhJz6is449G5dYfLOD8vdXm1z0Tff-8_Or6iSqm2uCObcEn6x2fjvH9sMQaR5kBcaHM-A658=\">geometric floral patterned tiles antique</a>\n",
              "    <a class=\"chip\" href=\"https://vertexaisearch.cloud.google.com/grounding-api-redirect/AQXblrzwBQnhPB-A9GiJHjsVCh0mmTc1JADqokzefrucLeoDUDEDV-shYJYnftLBnG_Jgk7xq1d3ShIiOGtVFGL0dhtWLlWDlIlCeA5XnCINtVu6lrkqrLWlNI_wv-lx5MfOXJ-Xx1cZLin7goGr4sWSErkUvuWrkNadyDl9gbwI_tkfyLHScGW8E3Z2O79KiJxvQZKgLuQY7HNROz7YTIdeKbgzceUBib9EzKQrtIOe4LU=\">history of geometric floral patterned tiles</a>\n",
              "    <a class=\"chip\" href=\"https://vertexaisearch.cloud.google.com/grounding-api-redirect/AQXblrx2_MoBYq8itXDlESanOCOJgYrmpsbUaR7mwdpI9xvBSUfLGYK0uoM3clzOCJu7j8DsHxWLzeOvgxg6272lzBuoV_GyANcznacGRZeKIRLwaAFKhAaLAojMY4jNeK78vDaQLkex6z2mx2x2XcnJHYkJ6Hxfm4XGMQ6yzK9seBkcCIX1aLFwwp_1bHQ1FRKM9J7s_5qYK46GOfduy2F_QhnMIjDm0KLmdy5mx1M=\">geometric floral patterned tiles vintage</a>\n",
              "  </div>\n",
              "</div>\n"
            ]
          },
          "metadata": {}
        },
        {
          "output_type": "stream",
          "name": "stdout",
          "text": [
            "\n",
            "📝 You can now ask follow-up questions about the image!\n",
            "Example follow-up questions:\n",
            "- 'How does it compare to similar examples?'\n",
            "- 'What are common misconceptions about it?'\n",
            "- 'When was the last major renovation or change?'\n",
            "Enter a follow-up question (or press Enter to skip): This is actually a picture of an animal, can you guess what kind?\n",
            "\n",
            "🔍 Searching for answer to: 'This is actually a picture of an animal, can you guess what kind?'\n"
          ]
        },
        {
          "output_type": "display_data",
          "data": {
            "text/plain": [
              "<IPython.core.display.Markdown object>"
            ],
            "text/markdown": "Okay, I understand! If that image is indeed of an animal and not tile or fabric, I will make a new attempt to identify the animal. I will analyze the patterns, colors, and any discernible shapes to determine the most likely animal depicted. One moment.\n\nBased on the image, the animal shown is most likely a **giraffe**. The patterns and color scheme in the image match the giraffe's distinctive coat pattern. While abstract, the patches, spots, and earthy tones with some light background color strongly suggest this animal.\n"
          },
          "metadata": {}
        }
      ]
    },
    {
      "cell_type": "markdown",
      "source": [
        "# Practical Applications\n",
        "\n",
        "## 8. Practical Applications of Search-Enabled AI"
      ],
      "metadata": {
        "id": "oim702B-y_SG"
      }
    },
    {
      "cell_type": "code",
      "source": [
        "print(\"\\n--- 8. Practical Applications Workshop ---\")\n",
        "print(\"# Let's explore practical real-world applications of search-enabled AI\")\n",
        "\n",
        "# Create a chat for practical applications\n",
        "practical_chat = client.chats.create(model=MODEL, config={'tools': [search_tool]})\n",
        "\n",
        "application_scenarios = [\n",
        "    \"Research Assistant: Gemini can help gather information, summarize findings, and cite sources for academic papers.\",\n",
        "    \"Market Analysis: Search for latest trends, competitors, and customer sentiment for business strategy.\",\n",
        "    \"Travel Planning: Get up-to-date information on destinations, travel requirements, and local recommendations.\",\n",
        "    \"Health Information: Find recent medical research and health guidelines (with appropriate disclaimers).\",\n",
        "    \"Educational Tool: Create learning materials with current facts, figures, and examples.\"\n",
        "]\n",
        "\n",
        "for i, scenario in enumerate(application_scenarios):\n",
        "    print(f\"\\n{i+1}. {scenario}\")\n",
        "\n",
        "# Example of market analysis application\n",
        "print(\"\\n📝 Market Analysis Example Query: 'Analyze the current state of the electric vehicle market in Europe. Include major players, market share, and growth trends.'\")\n",
        "market_response = practical_chat.send_message('Analyze the current state of the electric vehicle market in Europe. Include major players, market share, and growth trends.')\n",
        "show_parts(market_response)"
      ],
      "metadata": {
        "colab": {
          "base_uri": "https://localhost:8080/",
          "height": 1000
        },
        "id": "cnddSVe9y-yv",
        "outputId": "07537f10-4015-4d91-866d-d78dd8143020"
      },
      "execution_count": null,
      "outputs": [
        {
          "output_type": "stream",
          "name": "stdout",
          "text": [
            "\n",
            "--- 8. Practical Applications Workshop ---\n",
            "# Let's explore practical real-world applications of search-enabled AI\n",
            "\n",
            "1. Research Assistant: Gemini can help gather information, summarize findings, and cite sources for academic papers.\n",
            "\n",
            "2. Market Analysis: Search for latest trends, competitors, and customer sentiment for business strategy.\n",
            "\n",
            "3. Travel Planning: Get up-to-date information on destinations, travel requirements, and local recommendations.\n",
            "\n",
            "4. Health Information: Find recent medical research and health guidelines (with appropriate disclaimers).\n",
            "\n",
            "5. Educational Tool: Create learning materials with current facts, figures, and examples.\n",
            "\n",
            "📝 Market Analysis Example Query: 'Analyze the current state of the electric vehicle market in Europe. Include major players, market share, and growth trends.'\n"
          ]
        },
        {
          "output_type": "display_data",
          "data": {
            "text/plain": [
              "<IPython.core.display.Markdown object>"
            ],
            "text/markdown": "Okay, I can analyze the current state of the electric vehicle (EV) market in Europe for you, including major players, market share, and growth trends.\n\n"
          },
          "metadata": {}
        },
        {
          "output_type": "display_data",
          "data": {
            "text/plain": [
              "<IPython.core.display.Markdown object>"
            ],
            "text/markdown": "Here's an analysis of the current state of the electric vehicle market in Europe, incorporating major players, market share, and growth trends, based on the latest available information:\n\n**Overall Market Trends:**\n\n*   **Growth:** The European EV market continues to grow overall. Sales of battery-electric vehicles (BEVs) in the EU surged by 28.4% in the first two months of 2025 compared to the same period in 2024. Overall, EV sales in Western Europe, including the UK, are expected to rise 40% in 2025, reaching 2.7 million vehicles.\n*   **Market Share:** BEVs accounted for 15.2% of the total EU market share in early 2025, up from 11.5% in the same period of 2024. Including plug-in hybrids, the combined BEV and PHEV market share averaged 23% in Europe in February 2025.\n*   **Hybrid Popularity:** Hybrid-electric vehicles (HEVs) are very popular, comprising 35.2% of the EU market.\n*   **Decline of Petrol and Diesel:** The combined market share of petrol and diesel cars has declined significantly, falling to 38.8% in early 2025 from 48.5% in early 2024.\n\n**Key National Markets:**\n\n*   **Germany:** Germany is a key market, with BEV registrations increasing by 41% in early 2025. Approximately 873,000 electric cars are expected to be newly registered in Germany in 2025, marking a 53% increase compared to 2024.\n*   **Other Strong Markets:** Belgium and the Netherlands also show strong growth in BEV registrations, with increases of 38% and 25% respectively in early 2025.\n*   **France:** France experienced a slight decline of 1.3% in BEV sales in early 2025.\n*   **UK:** The UK is expected to remain one of Europe's largest EV markets in 2025, with new EV registrations projected to reach 660,000.\n\n**Leading Brands and Manufacturers:**\n\n*   **Tesla:** Tesla topped the European EV market in 2024 for the third year in a row. However, Tesla's deliveries have declined significantly in early 2025. Tesla's market share fell to 9.6% in February 2025.\n*   **BMW:** BMW secured second place in EV sales in 2024, with a 10.7% increase in registrations.\n*   **Mercedes-Benz:** Mercedes-Benz improved its position to third place in 2024.\n*   **Volkswagen Group:** Volkswagen Group is performing strongly, with several models in the top 20 and a significant increase in BEV sales. Volkswagen leads the market with models such as the ID.7.\n*    **Renault Group:** Renault Group was a top performer in February 2025, with a 12% increase in volumes, driven by strong BEV sales.\n\n**Vehicle Types:**\n\n*   **BEVs Dominating:** Battery-electric vehicles (BEVs) account for the majority of the EV market.\n*   **PHEV Decline:** Plug-in hybrid electric vehicles (PHEVs) are experiencing a decline in sales and market share. In early 2025, PHEV sales dropped by 5% in the EU.\n\n**Factors Influencing the Market:**\n\n*   **Government Regulations:** Stricter CO2 emission standards are driving EV adoption.\n*   **Consumer Adoption:** Increasing consumer acceptance of EVs is contributing to market growth.\n*   **Infrastructure:** Expanding charging infrastructure is supporting EV sales.\n*   **Affordable Models:** The introduction of new, more affordable EV models is helping to drive adoption.\n*   **Competition:** Increasing competition from Chinese automakers is impacting the market.\n\n**Challenges and Considerations:**\n\n*   **Incentive Changes:** Changes in government subsidy policies can impact EV sales in specific countries.\n*   **Tesla's Performance:** Tesla is experiencing a period of change, with declining registrations and market share.\n*   **PHEV Decline:** The declining interest in PHEVs poses a challenge for manufacturers.\n\n**In summary,** the European electric vehicle market is continuing to grow, with BEVs leading the charge. While Tesla remains a major player, other manufacturers are gaining ground, and the market is becoming increasingly competitive. Government regulations, consumer demand, and expanding infrastructure are all contributing to the growth of the EV market in Europe.\n"
          },
          "metadata": {}
        },
        {
          "output_type": "stream",
          "name": "stdout",
          "text": [
            "\n",
            "📊 Search Results Used:\n"
          ]
        },
        {
          "output_type": "display_data",
          "data": {
            "text/plain": [
              "<IPython.core.display.HTML object>"
            ],
            "text/html": [
              "<style>\n",
              ".container {\n",
              "  align-items: center;\n",
              "  border-radius: 8px;\n",
              "  display: flex;\n",
              "  font-family: Google Sans, Roboto, sans-serif;\n",
              "  font-size: 14px;\n",
              "  line-height: 20px;\n",
              "  padding: 8px 12px;\n",
              "}\n",
              ".chip {\n",
              "  display: inline-block;\n",
              "  border: solid 1px;\n",
              "  border-radius: 16px;\n",
              "  min-width: 14px;\n",
              "  padding: 5px 16px;\n",
              "  text-align: center;\n",
              "  user-select: none;\n",
              "  margin: 0 8px;\n",
              "  -webkit-tap-highlight-color: transparent;\n",
              "}\n",
              ".carousel {\n",
              "  overflow: auto;\n",
              "  scrollbar-width: none;\n",
              "  white-space: nowrap;\n",
              "  margin-right: -12px;\n",
              "}\n",
              ".headline {\n",
              "  display: flex;\n",
              "  margin-right: 4px;\n",
              "}\n",
              ".gradient-container {\n",
              "  position: relative;\n",
              "}\n",
              ".gradient {\n",
              "  position: absolute;\n",
              "  transform: translate(3px, -9px);\n",
              "  height: 36px;\n",
              "  width: 9px;\n",
              "}\n",
              "@media (prefers-color-scheme: light) {\n",
              "  .container {\n",
              "    background-color: #fafafa;\n",
              "    box-shadow: 0 0 0 1px #0000000f;\n",
              "  }\n",
              "  .headline-label {\n",
              "    color: #1f1f1f;\n",
              "  }\n",
              "  .chip {\n",
              "    background-color: #ffffff;\n",
              "    border-color: #d2d2d2;\n",
              "    color: #5e5e5e;\n",
              "    text-decoration: none;\n",
              "  }\n",
              "  .chip:hover {\n",
              "    background-color: #f2f2f2;\n",
              "  }\n",
              "  .chip:focus {\n",
              "    background-color: #f2f2f2;\n",
              "  }\n",
              "  .chip:active {\n",
              "    background-color: #d8d8d8;\n",
              "    border-color: #b6b6b6;\n",
              "  }\n",
              "  .logo-dark {\n",
              "    display: none;\n",
              "  }\n",
              "  .gradient {\n",
              "    background: linear-gradient(90deg, #fafafa 15%, #fafafa00 100%);\n",
              "  }\n",
              "}\n",
              "@media (prefers-color-scheme: dark) {\n",
              "  .container {\n",
              "    background-color: #1f1f1f;\n",
              "    box-shadow: 0 0 0 1px #ffffff26;\n",
              "  }\n",
              "  .headline-label {\n",
              "    color: #fff;\n",
              "  }\n",
              "  .chip {\n",
              "    background-color: #2c2c2c;\n",
              "    border-color: #3c4043;\n",
              "    color: #fff;\n",
              "    text-decoration: none;\n",
              "  }\n",
              "  .chip:hover {\n",
              "    background-color: #353536;\n",
              "  }\n",
              "  .chip:focus {\n",
              "    background-color: #353536;\n",
              "  }\n",
              "  .chip:active {\n",
              "    background-color: #464849;\n",
              "    border-color: #53575b;\n",
              "  }\n",
              "  .logo-light {\n",
              "    display: none;\n",
              "  }\n",
              "  .gradient {\n",
              "    background: linear-gradient(90deg, #1f1f1f 15%, #1f1f1f00 100%);\n",
              "  }\n",
              "}\n",
              "</style>\n",
              "<div class=\"container\">\n",
              "  <div class=\"headline\">\n",
              "    <svg class=\"logo-light\" width=\"18\" height=\"18\" viewBox=\"9 9 35 35\" fill=\"none\" xmlns=\"http://www.w3.org/2000/svg\">\n",
              "      <path fill-rule=\"evenodd\" clip-rule=\"evenodd\" d=\"M42.8622 27.0064C42.8622 25.7839 42.7525 24.6084 42.5487 23.4799H26.3109V30.1568H35.5897C35.1821 32.3041 33.9596 34.1222 32.1258 35.3448V39.6864H37.7213C40.9814 36.677 42.8622 32.2571 42.8622 27.0064V27.0064Z\" fill=\"#4285F4\"/>\n",
              "      <path fill-rule=\"evenodd\" clip-rule=\"evenodd\" d=\"M26.3109 43.8555C30.9659 43.8555 34.8687 42.3195 37.7213 39.6863L32.1258 35.3447C30.5898 36.3792 28.6306 37.0061 26.3109 37.0061C21.8282 37.0061 18.0195 33.9811 16.6559 29.906H10.9194V34.3573C13.7563 39.9841 19.5712 43.8555 26.3109 43.8555V43.8555Z\" fill=\"#34A853\"/>\n",
              "      <path fill-rule=\"evenodd\" clip-rule=\"evenodd\" d=\"M16.6559 29.8904C16.3111 28.8559 16.1074 27.7588 16.1074 26.6146C16.1074 25.4704 16.3111 24.3733 16.6559 23.3388V18.8875H10.9194C9.74388 21.2072 9.06992 23.8247 9.06992 26.6146C9.06992 29.4045 9.74388 32.022 10.9194 34.3417L15.3864 30.8621L16.6559 29.8904V29.8904Z\" fill=\"#FBBC05\"/>\n",
              "      <path fill-rule=\"evenodd\" clip-rule=\"evenodd\" d=\"M26.3109 16.2386C28.85 16.2386 31.107 17.1164 32.9095 18.8091L37.8466 13.8719C34.853 11.082 30.9659 9.3736 26.3109 9.3736C19.5712 9.3736 13.7563 13.245 10.9194 18.8875L16.6559 23.3388C18.0195 19.2636 21.8282 16.2386 26.3109 16.2386V16.2386Z\" fill=\"#EA4335\"/>\n",
              "    </svg>\n",
              "    <svg class=\"logo-dark\" width=\"18\" height=\"18\" viewBox=\"0 0 48 48\" xmlns=\"http://www.w3.org/2000/svg\">\n",
              "      <circle cx=\"24\" cy=\"23\" fill=\"#FFF\" r=\"22\"/>\n",
              "      <path d=\"M33.76 34.26c2.75-2.56 4.49-6.37 4.49-11.26 0-.89-.08-1.84-.29-3H24.01v5.99h8.03c-.4 2.02-1.5 3.56-3.07 4.56v.75l3.91 2.97h.88z\" fill=\"#4285F4\"/>\n",
              "      <path d=\"M15.58 25.77A8.845 8.845 0 0 0 24 31.86c1.92 0 3.62-.46 4.97-1.31l4.79 3.71C31.14 36.7 27.65 38 24 38c-5.93 0-11.01-3.4-13.45-8.36l.17-1.01 4.06-2.85h.8z\" fill=\"#34A853\"/>\n",
              "      <path d=\"M15.59 20.21a8.864 8.864 0 0 0 0 5.58l-5.03 3.86c-.98-2-1.53-4.25-1.53-6.64 0-2.39.55-4.64 1.53-6.64l1-.22 3.81 2.98.22 1.08z\" fill=\"#FBBC05\"/>\n",
              "      <path d=\"M24 14.14c2.11 0 4.02.75 5.52 1.98l4.36-4.36C31.22 9.43 27.81 8 24 8c-5.93 0-11.01 3.4-13.45 8.36l5.03 3.85A8.86 8.86 0 0 1 24 14.14z\" fill=\"#EA4335\"/>\n",
              "    </svg>\n",
              "    <div class=\"gradient-container\"><div class=\"gradient\"></div></div>\n",
              "  </div>\n",
              "  <div class=\"carousel\">\n",
              "    <a class=\"chip\" href=\"https://vertexaisearch.cloud.google.com/grounding-api-redirect/AQXblrxAHAsoF5nYuzRg3ZAxlvSFtpUoq5dn6c94CaJm39E_JIBnRfX4kIIBW8499AYO_WRheg3HEzou6aWkUBNMoMiQVcMxkorexk-_h5WtmoQ1NznwDw-OB7ro2EaQ18p4I38GuWOEVErUlCGRFm9Oe-PqrLAfuEdVxsv1DbH0_2j2mQcBPwKtulOLZLsXAv8TouMl8ztJkh2i4F5Pif7HvyATb78h61ruOI8m_65nSKWemYY=\">electric vehicle market share Europe 2024 2025</a>\n",
              "    <a class=\"chip\" href=\"https://vertexaisearch.cloud.google.com/grounding-api-redirect/AQXblrx0sNLEHDlV2ERr7ytRnh64ajC9Jm2qwlQ479BgovB-AQeoSpeS5DGuIaJmL-uVWuHDGjVRbgVZtNVLBEK1YO9zAybiplC-GyLG3qVg-RUTCu9PujHYj6OY4PorUKqlb5HUbkmGIZNraRYBAVDIszfZKSSEdwDVKJhrDcKdkwHOB9-wUNLf1HTACQjnh-naXwQ18k6zWJAsV-RgiPvgTLSfIlkcfBy9gMtwVMz1EtVVM-ChOe5o_URtG3U=\">electric vehicle market Europe major players 2024 2025</a>\n",
              "    <a class=\"chip\" href=\"https://vertexaisearch.cloud.google.com/grounding-api-redirect/AQXblrzN0a1xbbsJ1rHv4tZu_AcO6Idmfp0mbg4IFcTs9kwp0ScYjWG49rbK_agWDEZ_s5RSbMTcUMdBlCWxEJK0LFBwGD6376lo4rJ_2Cix3ET_bWXOBG0QWKdH6g6KNjaayyxk-LSqiaUGQ0eOdWwlVyhA_9eG49lcSP6WTBS6tL2NFRNonppHplO6LII0K2YQblvuo43lLmF1JQ8gcZOytYNwJ5PfrAy3Jx4HXV0SQP6XOtt8vEvV8ctTF0c=\">electric vehicle market growth trends Europe 2024 2025</a>\n",
              "  </div>\n",
              "</div>\n"
            ]
          },
          "metadata": {}
        }
      ]
    },
    {
      "cell_type": "markdown",
      "source": [
        "# Advanced Search Applications & Complicated Workflow\n"
      ],
      "metadata": {
        "id": "TKVAWkNA17Iz"
      }
    },
    {
      "cell_type": "code",
      "source": [
        "# @title ## 9a. Multi-stage Research Workflow with Progressive Refinement\n",
        "# This advanced workflow demonstrates a structured research process that builds insights progressively\n",
        "\n",
        "print(\"\\n--- 10. Multi-stage Research Workflow ---\")\n",
        "print(\"# This workflow demonstrates how to conduct in-depth research through multiple progressive stages\")\n",
        "\n",
        "def multi_stage_research(research_topic):\n",
        "    \"\"\"\n",
        "    Conduct a multi-stage research process with progressive refinement\n",
        "\n",
        "    Args:\n",
        "        research_topic (str): The main research topic or question\n",
        "\n",
        "    Returns:\n",
        "        List of responses from each stage\n",
        "    \"\"\"\n",
        "    # Create a new chat with search\n",
        "    research_chat = client.chats.create(model=MODEL, config={'tools': [search_tool]})\n",
        "\n",
        "    # Store responses for visualization\n",
        "    responses = []\n",
        "\n",
        "    # Stage 1: Initial broad exploration\n",
        "    print(f\"\\n📊 Stage 1: Initial exploration of '{research_topic}'\")\n",
        "    stage1_prompt = f\"\"\"\n",
        "    I'm conducting research on '{research_topic}'.\n",
        "    First, provide a broad overview of this topic covering:\n",
        "    1. Main concepts and terminology\n",
        "    2. Current state of development\n",
        "    3. Key players or contributors\n",
        "    4. Recent major developments\n",
        "\n",
        "    After providing this overview, identify 3-5 specific subtopics that would be most\n",
        "    interesting for further in-depth exploration.\n",
        "    \"\"\"\n",
        "\n",
        "    stage1_response = research_chat.send_message(stage1_prompt)\n",
        "    show_parts(stage1_response)\n",
        "    responses.append(stage1_response)\n",
        "    time.sleep(2)\n",
        "\n",
        "    # Stage 2: Extract subtopics for deeper investigation\n",
        "    print(f\"\\n📊 Stage 2: Identifying key subtopics for deeper investigation\")\n",
        "    stage2_prompt = \"\"\"\n",
        "    Based on your previous response, extract exactly 3 subtopics that would be most valuable\n",
        "    to explore further. For each subtopic:\n",
        "    1. Clearly name the subtopic\n",
        "    2. Explain why it's particularly significant\n",
        "    3. Identify specific aspects that need deeper research\n",
        "\n",
        "    Present these in a clear, structured format.\n",
        "    \"\"\"\n",
        "\n",
        "    stage2_response = research_chat.send_message(stage2_prompt)\n",
        "    show_parts(stage2_response)\n",
        "    responses.append(stage2_response)\n",
        "    time.sleep(2)\n",
        "\n",
        "    # Stage 3: Deep dive into first subtopic\n",
        "    print(f\"\\n📊 Stage 3: Deep dive into first subtopic\")\n",
        "    stage3_prompt = \"\"\"\n",
        "    Let's focus on the first subtopic you identified. Please conduct a comprehensive\n",
        "    deep dive into this specific area. Your analysis should include:\n",
        "\n",
        "    1. Latest research findings or developments\n",
        "    2. Key challenges or controversies\n",
        "    3. Notable innovations or breakthroughs\n",
        "    4. Future directions and potential impacts\n",
        "    5. Leading experts, organizations, or companies\n",
        "\n",
        "    Support your analysis with specific examples, data points, and citations\n",
        "    from your search results.\n",
        "    \"\"\"\n",
        "\n",
        "    stage3_response = research_chat.send_message(stage3_prompt)\n",
        "    show_parts(stage3_response)\n",
        "    responses.append(stage3_response)\n",
        "    time.sleep(2)\n",
        "\n",
        "    # Stage 4: Synthesis and insights\n",
        "    print(f\"\\n📊 Stage 4: Synthesizing insights and recommendations\")\n",
        "    stage4_prompt = \"\"\"\n",
        "    Based on all the research we've conducted so far, please:\n",
        "\n",
        "    1. Synthesize the key findings into 3-5 major insights\n",
        "    2. Identify emerging trends or patterns across the research\n",
        "    3. Note any gaps or contradictions in the current knowledge\n",
        "    4. Provide recommendations for practical applications of this knowledge\n",
        "    5. Suggest directions for future research\n",
        "\n",
        "    Structure this as an executive brief that could inform strategic decision-making.\n",
        "    \"\"\"\n",
        "\n",
        "    stage4_response = research_chat.send_message(stage4_prompt)\n",
        "    show_parts(stage4_response)\n",
        "    responses.append(stage4_response)\n",
        "\n",
        "    # Visualize search usage across the research stages\n",
        "    print(\"\\n📊 Research Stage Search Utilization:\")\n",
        "    visualize_search_usage(responses)\n",
        "\n",
        "    return responses\n",
        "\n",
        "# Run the multi-stage research on a complex topic\n",
        "research_topic = \"Quantum machine learning for drug discovery\"\n",
        "research_results = multi_stage_research(research_topic)\n",
        "\n",
        "print(\"\\n# This advanced workflow demonstrates how to break down complex research questions\")\n",
        "print(\"# into a structured process that builds deeper insights at each stage.\")\n",
        "print(\"# Note how the search tool is used differently at each stage of the research process.\")"
      ],
      "metadata": {
        "id": "z3HgbQ00Qr4A",
        "outputId": "4c32776b-17e7-46e4-e499-51794cce55bf",
        "colab": {
          "base_uri": "https://localhost:8080/",
          "height": 1000
        }
      },
      "execution_count": null,
      "outputs": [
        {
          "output_type": "stream",
          "name": "stdout",
          "text": [
            "\n",
            "--- 10. Multi-stage Research Workflow ---\n",
            "# This workflow demonstrates how to conduct in-depth research through multiple progressive stages\n",
            "\n",
            "📊 Stage 1: Initial exploration of 'Quantum machine learning for drug discovery'\n"
          ]
        },
        {
          "output_type": "display_data",
          "data": {
            "text/plain": [
              "<IPython.core.display.Markdown object>"
            ],
            "text/markdown": "Okay, I can provide you with an overview of \"Quantum Machine Learning for Drug Discovery\" and suggest some subtopics for further exploration.\n\n"
          },
          "metadata": {}
        },
        {
          "output_type": "display_data",
          "data": {
            "text/plain": [
              "<IPython.core.display.Markdown object>"
            ],
            "text/markdown": "Here's an overview of Quantum Machine Learning for Drug Discovery, covering the main concepts, current state, key players, and recent developments.\n\n### 1. Overview of Quantum Machine Learning for Drug Discovery\n\n**1. Main Concepts and Terminology**\n\n*   **Quantum Computing (QC):**  A type of computing that uses the principles of quantum mechanics, such as superposition and entanglement, to process information. It can handle complex simulations and optimization tasks more efficiently than classical computers.\n*   **Quantum Machine Learning (QML):** A field that combines quantum computing and machine learning to explore the benefits of using quantum computers for ML tasks. QML uses quantum algorithms to optimize the performance of machine learning models.\n*   **Qubit:** The basic unit of information in quantum computing, analogous to a bit in classical computing. Qubits can exist in a state of superposition, representing multiple values simultaneously.\n*   **Quantum Neural Networks (QNNs):** Machine learning models that leverage quantum computing to enhance existing AI techniques.\n*   **Variational Quantum Algorithms (VQAs):** A type of QML algorithm where the parameters of the quantum circuit are updated through classical optimization methods.\n*   **Quantum Circuit Born Machines (QCBMs):** Quantum generative models that leverage quantum circuits to learn complex probability distributions, enabling them to generate new samples resembling the training data.\n*   **Molecular Docking:**  Simulations to model molecular interactions, enhancing the efficiency and accuracy of drug design. Quantum molecular docking leverages the principles of quantum mechanics to enhance the precision and efficiency of drug development.\n*   **Virtual Screening:** High-throughput virtual screening of a vast library of chemical compounds is enabled by quantum machine learning.\n*   **Hybrid Quantum-Classical Approaches:** Combining classical algorithms with quantum algorithms to leverage the strengths of both.\n\n**2. Current State of Development**\n\n*   **Emerging Field:** QML is an emerging field gaining attention for potentially delivering superior performance over classical computers.\n*   **Early Stages:** Most QML applications in drug discovery are primarily focused on the initial stages of the drug discovery pipeline, particularly identifying novel drug-like molecules.\n*   **Limited Qubits:**  Due to the limited number of qubits available in current quantum computers, QML cannot be applied to real-world datasets at present. However, as quantum computers reach their maximum computational capacity, they are expected to process large amounts of data with unprecedented speed.\n*   **Hybrid Solutions Recommended:**  Comparison results reveal that QML algorithms are strong rivals to classical ones, and a hybrid solution is the currently recommended approach.\n*   **Integration with AI/ML:** Integration of quantum computing with artificial intelligence (AI) and machine learning (ML) is a growing trend. AI and ML can enhance the capabilities of quantum algorithms, providing more accurate predictions and insights for drug discovery and accelerate the drug development process.\n*   **Quantum Simulators:** Quantum simulators can model complex events, such as how molecules and atoms interact and how a new drug will behave when administered.\n\n**3. Key Players or Contributors**\n\n*   **IBM:** Was the first company to make quantum computing machines accessible through the cloud, enabling the pharmaceutical industry to use quantum computing to solve drug discovery problems. IBM is also using quantum systems to identify promising drug candidates by calculating properties such as molecular stability, binding affinity, and toxicity more efficiently than classical methods.\n*   **Google:** Has begun using quantum computing to simulate complex protein folding and interactions, a crucial aspect of drug development.\n*   **Microsoft:**\n*   **D-Wave Systems Inc.:**\n*   **Rigetti Computing Inc.:**\n*   **Atos:**  Has made significant advancements in quantum computing through its Quantum Learning Machine, a quantum simulator that allows researchers and developers to explore quantum algorithms.\n*   **Xanadu Quantum Technologies Inc.:**\n*   **1QB Information Technologies, Inc.:**\n*   **Qubit Pharmaceuticals:** A European quantum computing startup using the technology for drug discovery and offering a quantum computing platform called Atlas for drug discovery and development.\n*   **Aqemia:** A pharmatech company using quantum-inspired physics and machine learning to scale the process of drug discovery.\n*   **SpinQ:** Cooperated with BGI-Research to leverage quantum computing in the biomedical field, advancing genome assembly solutions.\n*   **Pasqal:** Collaborating with Qubit Pharmaceuticals to develop a hybrid quantum-classical approach for analyzing protein hydration.\n*   **NVIDIA:** Developing CUDA-Q quantum development platform for running multi-GPU accelerated simulations of QML workloads.\n*   **Moderna:** Reviewed how techniques from quantum machine learning may enhance drug discovery methods by better predicting molecular properties.\n*   **Yale:** Reviewed how techniques from quantum machine learning may enhance drug discovery methods by better predicting molecular properties.\n\n**4. Recent Major Developments**\n\n*   **Hybrid Quantum-Classical Models:** Development of hybrid quantum-classical models to design small molecules targeting proteins implicated in cancer.\n*   **Quantum Neural Networks:** Exploration of quantum neural networks on gate-based quantum computers within the context of drug discovery, including molecular property prediction and molecular generation.\n*   **Integration of QML with AI/ML:** The integration of quantum computing with AI and ML enhances the capabilities of quantum algorithms, providing more accurate predictions and insights for drug discovery and accelerating the drug development process.\n*   **Use of Quantum Simulators:** Increasing use of quantum simulations to model complex molecular structures and chemical reactions, providing detailed insights not possible with classical computing.\n*   **Predicting Molecular Properties:** Techniques from QML may enhance drug discovery methods by better predicting molecular properties.\n*   **Protein Hydration Analysis:** Development of hybrid quantum-classical approach for analyzing protein hydration.\n*   **Quantum Computing in Ligand-Protein Binding:**\n*   **Federated Quantum Machine Learning:** Integrating quantum computing with traditional high-performance systems improves data processing capabilities, accelerates research timelines, and optimizes the analysis of complex biological data, ultimately leading to more efficient and effective drug development processes.\n\n### Suggested Subtopics for Further Exploration\n\nBased on the overview, here are 3-5 specific subtopics that would be interesting for further in-depth exploration:\n\n1.  **Specific Quantum Algorithms for Drug Discovery:** A deep dive into specific quantum algorithms like VQE (Variational Quantum Eigensolver) or Quantum Monte Carlo methods and their application to problems like molecular dynamics simulations or binding affinity predictions. This would involve understanding the algorithm's mechanics, its potential speedup compared to classical methods, and its limitations in the context of drug discovery.\n\n2.  **Quantum Machine Learning for Target Identification and Validation:** Explore how QML can be used to improve the accuracy and efficiency of identifying and validating drug targets. This could include examining the use of QML for analyzing large biological datasets, predicting protein structures, and identifying potential drug binding sites.\n\n3.  **Hardware Limitations and Error Correction in QML for Drug Discovery:** A critical analysis of the current limitations of quantum hardware (e.g., qubit count, coherence time, error rates) and how these limitations affect the feasibility of QML for drug discovery. This should also cover the research efforts in quantum error correction and fault-tolerant quantum computing and their potential impact on the field.\n\n4.  **Ethical Considerations and Regulatory Aspects of QML in Drug Discovery:** Addressing the ethical considerations and regulatory aspects is essential to harness the full potential of this revolutionary approach.\n\nI hope this overview is helpful!\n"
          },
          "metadata": {}
        },
        {
          "output_type": "stream",
          "name": "stdout",
          "text": [
            "\n",
            "📊 Search Results Used:\n"
          ]
        },
        {
          "output_type": "display_data",
          "data": {
            "text/plain": [
              "<IPython.core.display.HTML object>"
            ],
            "text/html": [
              "<style>\n",
              ".container {\n",
              "  align-items: center;\n",
              "  border-radius: 8px;\n",
              "  display: flex;\n",
              "  font-family: Google Sans, Roboto, sans-serif;\n",
              "  font-size: 14px;\n",
              "  line-height: 20px;\n",
              "  padding: 8px 12px;\n",
              "}\n",
              ".chip {\n",
              "  display: inline-block;\n",
              "  border: solid 1px;\n",
              "  border-radius: 16px;\n",
              "  min-width: 14px;\n",
              "  padding: 5px 16px;\n",
              "  text-align: center;\n",
              "  user-select: none;\n",
              "  margin: 0 8px;\n",
              "  -webkit-tap-highlight-color: transparent;\n",
              "}\n",
              ".carousel {\n",
              "  overflow: auto;\n",
              "  scrollbar-width: none;\n",
              "  white-space: nowrap;\n",
              "  margin-right: -12px;\n",
              "}\n",
              ".headline {\n",
              "  display: flex;\n",
              "  margin-right: 4px;\n",
              "}\n",
              ".gradient-container {\n",
              "  position: relative;\n",
              "}\n",
              ".gradient {\n",
              "  position: absolute;\n",
              "  transform: translate(3px, -9px);\n",
              "  height: 36px;\n",
              "  width: 9px;\n",
              "}\n",
              "@media (prefers-color-scheme: light) {\n",
              "  .container {\n",
              "    background-color: #fafafa;\n",
              "    box-shadow: 0 0 0 1px #0000000f;\n",
              "  }\n",
              "  .headline-label {\n",
              "    color: #1f1f1f;\n",
              "  }\n",
              "  .chip {\n",
              "    background-color: #ffffff;\n",
              "    border-color: #d2d2d2;\n",
              "    color: #5e5e5e;\n",
              "    text-decoration: none;\n",
              "  }\n",
              "  .chip:hover {\n",
              "    background-color: #f2f2f2;\n",
              "  }\n",
              "  .chip:focus {\n",
              "    background-color: #f2f2f2;\n",
              "  }\n",
              "  .chip:active {\n",
              "    background-color: #d8d8d8;\n",
              "    border-color: #b6b6b6;\n",
              "  }\n",
              "  .logo-dark {\n",
              "    display: none;\n",
              "  }\n",
              "  .gradient {\n",
              "    background: linear-gradient(90deg, #fafafa 15%, #fafafa00 100%);\n",
              "  }\n",
              "}\n",
              "@media (prefers-color-scheme: dark) {\n",
              "  .container {\n",
              "    background-color: #1f1f1f;\n",
              "    box-shadow: 0 0 0 1px #ffffff26;\n",
              "  }\n",
              "  .headline-label {\n",
              "    color: #fff;\n",
              "  }\n",
              "  .chip {\n",
              "    background-color: #2c2c2c;\n",
              "    border-color: #3c4043;\n",
              "    color: #fff;\n",
              "    text-decoration: none;\n",
              "  }\n",
              "  .chip:hover {\n",
              "    background-color: #353536;\n",
              "  }\n",
              "  .chip:focus {\n",
              "    background-color: #353536;\n",
              "  }\n",
              "  .chip:active {\n",
              "    background-color: #464849;\n",
              "    border-color: #53575b;\n",
              "  }\n",
              "  .logo-light {\n",
              "    display: none;\n",
              "  }\n",
              "  .gradient {\n",
              "    background: linear-gradient(90deg, #1f1f1f 15%, #1f1f1f00 100%);\n",
              "  }\n",
              "}\n",
              "</style>\n",
              "<div class=\"container\">\n",
              "  <div class=\"headline\">\n",
              "    <svg class=\"logo-light\" width=\"18\" height=\"18\" viewBox=\"9 9 35 35\" fill=\"none\" xmlns=\"http://www.w3.org/2000/svg\">\n",
              "      <path fill-rule=\"evenodd\" clip-rule=\"evenodd\" d=\"M42.8622 27.0064C42.8622 25.7839 42.7525 24.6084 42.5487 23.4799H26.3109V30.1568H35.5897C35.1821 32.3041 33.9596 34.1222 32.1258 35.3448V39.6864H37.7213C40.9814 36.677 42.8622 32.2571 42.8622 27.0064V27.0064Z\" fill=\"#4285F4\"/>\n",
              "      <path fill-rule=\"evenodd\" clip-rule=\"evenodd\" d=\"M26.3109 43.8555C30.9659 43.8555 34.8687 42.3195 37.7213 39.6863L32.1258 35.3447C30.5898 36.3792 28.6306 37.0061 26.3109 37.0061C21.8282 37.0061 18.0195 33.9811 16.6559 29.906H10.9194V34.3573C13.7563 39.9841 19.5712 43.8555 26.3109 43.8555V43.8555Z\" fill=\"#34A853\"/>\n",
              "      <path fill-rule=\"evenodd\" clip-rule=\"evenodd\" d=\"M16.6559 29.8904C16.3111 28.8559 16.1074 27.7588 16.1074 26.6146C16.1074 25.4704 16.3111 24.3733 16.6559 23.3388V18.8875H10.9194C9.74388 21.2072 9.06992 23.8247 9.06992 26.6146C9.06992 29.4045 9.74388 32.022 10.9194 34.3417L15.3864 30.8621L16.6559 29.8904V29.8904Z\" fill=\"#FBBC05\"/>\n",
              "      <path fill-rule=\"evenodd\" clip-rule=\"evenodd\" d=\"M26.3109 16.2386C28.85 16.2386 31.107 17.1164 32.9095 18.8091L37.8466 13.8719C34.853 11.082 30.9659 9.3736 26.3109 9.3736C19.5712 9.3736 13.7563 13.245 10.9194 18.8875L16.6559 23.3388C18.0195 19.2636 21.8282 16.2386 26.3109 16.2386V16.2386Z\" fill=\"#EA4335\"/>\n",
              "    </svg>\n",
              "    <svg class=\"logo-dark\" width=\"18\" height=\"18\" viewBox=\"0 0 48 48\" xmlns=\"http://www.w3.org/2000/svg\">\n",
              "      <circle cx=\"24\" cy=\"23\" fill=\"#FFF\" r=\"22\"/>\n",
              "      <path d=\"M33.76 34.26c2.75-2.56 4.49-6.37 4.49-11.26 0-.89-.08-1.84-.29-3H24.01v5.99h8.03c-.4 2.02-1.5 3.56-3.07 4.56v.75l3.91 2.97h.88z\" fill=\"#4285F4\"/>\n",
              "      <path d=\"M15.58 25.77A8.845 8.845 0 0 0 24 31.86c1.92 0 3.62-.46 4.97-1.31l4.79 3.71C31.14 36.7 27.65 38 24 38c-5.93 0-11.01-3.4-13.45-8.36l.17-1.01 4.06-2.85h.8z\" fill=\"#34A853\"/>\n",
              "      <path d=\"M15.59 20.21a8.864 8.864 0 0 0 0 5.58l-5.03 3.86c-.98-2-1.53-4.25-1.53-6.64 0-2.39.55-4.64 1.53-6.64l1-.22 3.81 2.98.22 1.08z\" fill=\"#FBBC05\"/>\n",
              "      <path d=\"M24 14.14c2.11 0 4.02.75 5.52 1.98l4.36-4.36C31.22 9.43 27.81 8 24 8c-5.93 0-11.01 3.4-13.45 8.36l5.03 3.85A8.86 8.86 0 0 1 24 14.14z\" fill=\"#EA4335\"/>\n",
              "    </svg>\n",
              "    <div class=\"gradient-container\"><div class=\"gradient\"></div></div>\n",
              "  </div>\n",
              "  <div class=\"carousel\">\n",
              "    <a class=\"chip\" href=\"https://vertexaisearch.cloud.google.com/grounding-api-redirect/AQXblrzktY8F9x1CdKJh6OuTmJ2p0t-HN9jrRFq1BGRNqrQNNfEliX0-5KVjANTNE9-H3wR39IE1hKB6mYOKRDewVETjB7TEFaPzxHlKpMfaQb16YAdeZ9Fxc16mXdbTUyDkFB2jrRE2pCaPE7zF5rDM_9EWy_9V1MgujN2pEli0t62dvzKo7e4uyzyVO2lm1l988xVAZpQVhJkPKMSjhKxl7n5P8DRGlVMSu3QSES0BP2RZ9BJ9EKeoB6hQ-LA0u3OjLLqzQhh5JAUwA6ykMpk=\">Recent major developments in Quantum Machine Learning for Drug Discovery</a>\n",
              "    <a class=\"chip\" href=\"https://vertexaisearch.cloud.google.com/grounding-api-redirect/AQXblrx64SfB6lZ5nJtj652m-zxKWeyhzr3R-tH3ec2fxrGSa-bPa9fweD9a1p8jsVqNsN4CunQ3cIwWLucxhBtd-EtC9a2CGpsU8etxROc7zfp-pgnQEgEsIbfC_PuTWaFaSqVRdhFMkc-5A1k-vHXMBaUZETWjPVJZROekSAKbJCn71OIRCyP8zsNRudpDn3fNgNUsiFwMmQCkjrjFqxrRYrm6fz5YhL3tcvzCS1naYME7AjqgbRD_Y8d8Xx9amHbD\">Key players in Quantum Machine Learning for Drug Discovery</a>\n",
              "    <a class=\"chip\" href=\"https://vertexaisearch.cloud.google.com/grounding-api-redirect/AQXblrzUtGmTKzCQoE8e3ZwSJoZCcS4YytdJ7dUx-zcTH5Vh-pawdBhv9_Wb_-CfrES69yg60HgmntrE1pY9ebJDDjcXi_LleqFjvWFqyn-9a5P_eH6d-JL7Ty72e-vmBHYjQiFQvP8Q1sfayEOnCb-6HXi65QfumLdnuTrZwffo0oIlr5nlHCmBd8iU281-ZIJ0tz-3lGlbl1fKscQ0Sb6yLtp4WJYOiTQBnbB6vqom5aBG4zBzyLr0IPtDb0gV\">overview of Quantum Machine Learning for Drug Discovery</a>\n",
              "    <a class=\"chip\" href=\"https://vertexaisearch.cloud.google.com/grounding-api-redirect/AQXblrwpOEcjOMXlFEp3q_vleLXkE_XcSD6FclZDR9Xkho74B4g8sx5_VnFyuE2siYCKo3aGAYoDJV60rAcAXIrCwdIVp-WRhGZvdlPB-83uRPZ3R-mxtWuJLnVL2MblDYQ7lUvKxWzyjt7Zle2HyybHJdUvSHZ3SRkCNk9mzGgi3nvH4V-kiV8yUWtVKqB1ygnkQDlrCxaQHuKImGtSUK5mv6wor8o5fMHu6tjrjFYYRgek4Heeu4Z7cAxF03eMEia46RdDTiAO-EPGvHfhQG0=\">Current state of development Quantum Machine Learning for Drug Discovery</a>\n",
              "  </div>\n",
              "</div>\n"
            ]
          },
          "metadata": {}
        },
        {
          "output_type": "stream",
          "name": "stdout",
          "text": [
            "\n",
            "📊 Stage 2: Identifying key subtopics for deeper investigation\n"
          ]
        },
        {
          "output_type": "display_data",
          "data": {
            "text/plain": [
              "<IPython.core.display.Markdown object>"
            ],
            "text/markdown": "Okay, here are 3 subtopics extracted from the previous overview that would be valuable to explore further, presented in a structured format:\n\n**Subtopic 1: Specific Quantum Algorithms for Drug Discovery**\n\n1.  **Name:** Specific Quantum Algorithms for Drug Discovery\n2.  **Significance:** Understanding the mechanics, potential speedup, and limitations of specific quantum algorithms compared to classical methods in the context of drug discovery is crucial. This will provide insights into the realistic advantages and disadvantages of quantum computing for specific drug discovery tasks.\n3.  **Aspects for Deeper Research:**\n    *   **Detailed Analysis of VQE (Variational Quantum Eigensolver) for Molecular Simulations:** Conduct rigorous testing to compare the accuracy and efficiency of VQE with classical molecular dynamics simulations for predicting molecular properties and interactions.\n    *   **Investigation of Quantum Monte Carlo Methods for Binding Affinity Predictions:** Explore the potential of quantum Monte Carlo methods to improve the accuracy of binding affinity predictions and to handle complex molecular systems more efficiently than classical Monte Carlo methods.\n    *   **Benchmarking Quantum Algorithms on Noisy Intermediate-Scale Quantum (NISQ) Hardware:** Evaluate the performance of quantum algorithms on real NISQ devices to understand the impact of noise and decoherence on the accuracy and reliability of the results.\n\n**Subtopic 2: Quantum Machine Learning for Target Identification and Validation**\n\n1.  **Name:** Quantum Machine Learning for Target Identification and Validation\n2.  **Significance:** Identifying and validating drug targets are critical steps in drug discovery. Quantum machine learning (QML) can potentially enhance the speed and accuracy of these processes by analyzing large biological datasets and predicting protein structures more efficiently.\n3.  **Aspects for Deeper Research:**\n    *   **Application of QML to Analyze Large Biological Datasets:** Explore how QML algorithms can be used to identify potential drug targets by analyzing genomic, proteomic, and other biological datasets.\n    *   **Use of QML to Predict Protein Structures:** Investigate the potential of QML to improve the accuracy and speed of protein structure prediction, which is crucial for understanding protein function and identifying potential drug binding sites.\n    *   **QML for Identifying Potential Drug Binding Sites:** Investigate how QML can be used to identify potential drug binding sites on target proteins, enhancing the efficiency of structure-based drug design.\n\n**Subtopic 3: Hardware Limitations and Error Correction in QML for Drug Discovery**\n\n1.  **Name:** Hardware Limitations and Error Correction in QML for Drug Discovery\n2.  **Significance:** The current limitations of quantum hardware, such as qubit count, coherence time, and error rates, significantly impact the feasibility of QML for drug discovery. Understanding these limitations and the efforts to overcome them is crucial for assessing the near-term potential of QML in this field.\n3.  **Aspects for Deeper Research:**\n    *   **Analysis of the Impact of Qubit Count and Coherence Time on QML Algorithm Performance:** Conduct detailed simulations and experiments to understand how qubit count and coherence time affect the accuracy and efficiency of QML algorithms for drug discovery tasks.\n    *   **Evaluation of Quantum Error Correction and Fault-Tolerant Quantum Computing:** Investigate the latest advancements in quantum error correction and fault-tolerant quantum computing and their potential to mitigate the impact of noise and decoherence on QML calculations.\n    *   **Development of Noise-Aware QML Algorithms:** Explore the development of QML algorithms that are specifically designed to be robust to noise and decoherence, improving their performance on current and near-term quantum hardware.\n"
          },
          "metadata": {}
        },
        {
          "output_type": "stream",
          "name": "stdout",
          "text": [
            "\n",
            "📊 Stage 3: Deep dive into first subtopic\n"
          ]
        },
        {
          "output_type": "display_data",
          "data": {
            "text/plain": [
              "<IPython.core.display.Markdown object>"
            ],
            "text/markdown": "Okay, here's a deep dive into the subtopic \"Specific Quantum Algorithms for Drug Discovery,\" including recent research, challenges, innovations, future directions, and key players.\n\n**Subtopic: Specific Quantum Algorithms for Drug Discovery**\n\n**1. Latest Research Findings or Developments**\n\n*   **Variational Quantum Eigensolver (VQE) Advancements:** Recent studies focus on enhancing the VQE algorithm for more accurate molecular simulations. New parameterizations and optimization strategies are being developed to improve convergence and reduce computational costs. For example, researchers are exploring adaptive VQE methods that dynamically adjust the quantum circuit structure during the optimization process.\n*   **Quantum Generative Adversarial Networks (QGANs):** QGANs are being explored for de novo molecule design. Recent research demonstrates their ability to generate novel drug-like molecules with desired properties. These models leverage quantum circuits for generating molecular structures and use classical discriminators to assess the quality of the generated molecules.\n*   **Quantum Machine Learning (QML) Algorithms:** Quantum machine learning (QML) algorithms such as quantum neural networks (QNNs) and quantum support vector machines (QSVMs) are being applied to predict molecular properties and binding affinities. These algorithms have the potential to offer speedups compared to their classical counterparts.\n\n**2. Key Challenges or Controversies**\n\n*   **Hardware Limitations:** One of the biggest challenges is the limited number of qubits and coherence times in current quantum computers. This restricts the size and complexity of molecules that can be simulated accurately. The noise in quantum computations also introduces errors that can affect the reliability of the results.\n*   **Algorithm Scalability:** Many quantum algorithms have theoretical advantages in terms of computational complexity, but their actual performance on real-world drug discovery problems is still uncertain. Scalability remains a significant challenge, as the quantum resources required to solve complex problems can quickly exceed the capabilities of current quantum computers.\n*   **Data Encoding:** Efficiently encoding classical molecular data into quantum states is a non-trivial task. The choice of encoding scheme can significantly impact the performance of quantum algorithms. There is ongoing debate about the best ways to represent molecular structures and properties in quantum computers.\n\n**3. Notable Innovations or Breakthroughs**\n\n*   **Hybrid Quantum-Classical Algorithms:** The development of hybrid quantum-classical algorithms has been a significant breakthrough. These algorithms combine the strengths of both classical and quantum computing. For example, VQE uses a classical optimizer to adjust the parameters of a quantum circuit, allowing it to leverage the quantum computer for computationally intensive tasks while relying on classical computing for other calculations.\n*   **Quantum Simulation of Molecular Properties:** Quantum simulations are now capable of predicting molecular properties, such as binding affinities and electronic structures, with increasing accuracy. This is enabling researchers to explore new chemical compounds and materials more efficiently.\n*   **Development of Quantum Software Libraries:** The emergence of quantum software libraries and development tools is making it easier for researchers to design and implement quantum algorithms. These tools provide high-level abstractions that simplify the development process.\n\n**4. Future Directions and Potential Impacts**\n\n*   **Drug Discovery and Development:** The potential impacts include faster drug discovery and development by accelerating the identification of drug candidates, optimizing molecular structures, and predicting their properties with greater accuracy.\n*   **Materials Science:** The discovery of new materials with specific properties, such as high-temperature superconductors or lightweight structural materials.\n*   **Quantum-Enhanced Machine Learning:** The development of quantum-enhanced machine learning algorithms that can outperform classical algorithms in various tasks, such as image recognition and natural language processing.\n*   **Improved Molecular Modeling:** Quantum algorithms could provide more accurate and efficient methods for modeling molecular interactions, leading to better understanding of chemical and biological processes.\n*   **Personalized Medicine:** QML-driven insights into individual patient responses to drugs, enabling personalized treatment plans.\n\n**5. Leading Experts, Organizations, or Companies**\n\n*   **IBM:** IBM has been a leading player in quantum computing, with significant investments in quantum hardware and software. The company has developed quantum algorithms for molecular simulations and drug discovery.\n*   **Google:** Google is also heavily involved in quantum computing research and development. Google's quantum computers have been used to demonstrate quantum supremacy on specific computational tasks.\n*   **Rigetti Computing:** Rigetti Computing is a quantum computing company that provides quantum hardware and software solutions. The company is developing quantum algorithms for drug discovery and materials science.\n*   **Microsoft:** Microsoft is building Azure Quantum, a full-stack, open cloud ecosystem for quantum computing.\n*   **D-Wave Systems:** D-Wave Systems is a quantum computing company that specializes in quantum annealing. Quantum annealing can be used to solve optimization problems in drug discovery and materials science.\n*   **Qubit Pharmaceuticals:** A European quantum computing startup using the technology for drug discovery and offering a quantum computing platform called Atlas for drug discovery and development.\n*   **Aqemia:** A pharmatech company using quantum-inspired physics and machine learning to scale the process of drug discovery.\n*   **Researchers:** Leading experts in the field include those at universities and research institutions who are developing and testing new quantum algorithms for drug discovery.\n"
          },
          "metadata": {}
        },
        {
          "output_type": "stream",
          "name": "stdout",
          "text": [
            "\n",
            "📊 Stage 4: Synthesizing insights and recommendations\n"
          ]
        },
        {
          "output_type": "display_data",
          "data": {
            "text/plain": [
              "<IPython.core.display.Markdown object>"
            ],
            "text/markdown": "**Executive Brief: Quantum Machine Learning for Drug Discovery**\n\n**1. Key Insights**\n\n*   **Quantum Algorithms Show Promise but Are Limited by Hardware:** Specific quantum algorithms like VQE and QGANs offer potential speedups and improved accuracy for tasks such as molecular simulation and *de novo* molecule design. However, current quantum hardware's limitations in qubit count, coherence, and error rates significantly restrict their practical application to complex drug discovery problems.\n*   **Hybrid Quantum-Classical Approaches Are Currently the Most Viable Path:** Hybrid algorithms that combine classical computing for tasks like optimization and data processing with quantum computing for computationally intensive simulations represent the most practical near-term strategy. This allows leveraging the strengths of both classical and quantum resources.\n*   **Target Identification and Validation Could See Early Benefits:** QML has the potential to accelerate and improve the accuracy of identifying and validating drug targets by efficiently analyzing large biological datasets, predicting protein structures, and identifying potential drug binding sites.\n*   **Data Encoding and Algorithm Scalability Are Critical Bottlenecks:** Efficiently encoding classical molecular data into quantum states and ensuring algorithm scalability for real-world drug discovery problems remain major challenges that need to be addressed.\n\n**2. Emerging Trends**\n\n*   **Increased Focus on Hybrid Algorithms:** A growing trend is to develop hybrid quantum-classical algorithms that can run on current quantum hardware and provide tangible benefits for specific drug discovery tasks.\n*   **Integration with AI/ML:** More researchers are exploring the integration of quantum computing with AI and ML to enhance the capabilities of quantum algorithms, providing more accurate predictions and insights for drug discovery and accelerate the drug development process.\n*   **Quantum Computing in Ligand-Protein Binding:** Quantum computing and machine learning are being leveraged to predict ligand-protein binding affinities, essential for understanding molecular interactions and designing effective drugs.\n\n**3. Gaps and Contradictions**\n\n*   **Lack of Empirical Validation on Real-World Datasets:** While many studies demonstrate the theoretical potential of QML, there is a lack of empirical validation on real-world drug discovery datasets. More rigorous testing is needed to assess the practical benefits of QML in this field.\n*   **Uncertainty in Quantum Advantage:** It is still unclear whether quantum computers can provide a significant advantage over classical computers for many drug discovery tasks. More research is needed to identify specific problems where quantum algorithms can outperform classical algorithms.\n*   **Inconsistencies in Data Encoding Methods:** There is no consensus on the best way to encode classical molecular data into quantum states, leading to inconsistencies in the reported performance of different quantum algorithms.\n\n**4. Recommendations for Practical Applications**\n\n*   **Focus on Hybrid Quantum-Classical Workflows:** Invest in developing hybrid quantum-classical workflows for specific drug discovery tasks, such as molecular simulation, virtual screening, and target identification.\n*   **Collaborate with Quantum Computing Companies:** Partner with leading quantum computing companies like IBM, Google, and Rigetti to gain access to quantum hardware and software resources.\n*   **Develop Standardized Benchmarks and Datasets:** Create standardized benchmarks and datasets for evaluating the performance of quantum algorithms in drug discovery. This will enable researchers to compare different approaches and identify the most promising ones.\n*   **Invest in Quantum Software Development:** Invest in the development of quantum software tools and libraries that make it easier for drug discovery researchers to design and implement quantum algorithms.\n*   **Explore QML for Target Identification and Validation:** Focus on leveraging QML to improve the accuracy and efficiency of identifying and validating drug targets.\n\n**5. Directions for Future Research**\n\n*   **Development of Noise-Aware Quantum Algorithms:** Develop QML algorithms designed to be robust to noise and decoherence, improving their performance on current and near-term quantum hardware.\n*   **Exploration of Novel Quantum Algorithms:** Explore novel quantum algorithms that are specifically designed for drug discovery tasks, such as quantum reinforcement learning and quantum generative models.\n*   **Quantum Computing in Ligand-Protein Binding:** Apply QML algorithms to predict ligand-protein binding affinities, which is essential for understanding molecular interactions and designing effective drugs.\n*   **Investigation of Quantum Error Correction:** Investigate quantum error correction techniques to mitigate the effects of noise on quantum computations.\n*   **Ethical Considerations and Regulatory Aspects:** Investigate ethical considerations and regulatory aspects of using quantum computing in drug discovery to establish responsible and compliant practices.\n"
          },
          "metadata": {}
        },
        {
          "output_type": "stream",
          "name": "stdout",
          "text": [
            "\n",
            "📊 Research Stage Search Utilization:\n"
          ]
        },
        {
          "output_type": "display_data",
          "data": {
            "text/plain": [
              "<Figure size 1000x500 with 1 Axes>"
            ],
            "image/png": "[encoded data removed]"
          },
          "metadata": {}
        },
        {
          "output_type": "stream",
          "name": "stdout",
          "text": [
            "\n",
            "# This advanced workflow demonstrates how to break down complex research questions\n",
            "# into a structured process that builds deeper insights at each stage.\n",
            "# Note how the search tool is used differently at each stage of the research process.\n"
          ]
        }
      ]
    },
    {
      "cell_type": "code",
      "source": [
        "# @title ## 9b. Competitive Intelligence Framework\n",
        "#This workflow demonstrates how to use search for detailed competitive analysis\n",
        "\n",
        "print(\"\\n--- 11. Competitive Intelligence Framework ---\")\n",
        "print(\"# Using Gemini's search capabilities to conduct structured competitive analysis\")\n",
        "\n",
        "def competitive_intelligence_analysis(company_name, industry=None):\n",
        "    \"\"\"\n",
        "    Conduct a structured competitive intelligence analysis for a company\n",
        "\n",
        "    Args:\n",
        "        company_name (str): The target company to analyze\n",
        "        industry (str): Optional industry context\n",
        "\n",
        "    Returns:\n",
        "        List of responses from the analysis\n",
        "    \"\"\"\n",
        "    # Create a new chat with search\n",
        "    competitive_chat = client.chats.create(model=MODEL, config={'tools': [search_tool]})\n",
        "\n",
        "    # Store responses\n",
        "    responses = []\n",
        "\n",
        "    # Stage 1: Company profile and market position\n",
        "    print(f\"\\n📊 Stage 1: Company profile and market position for {company_name}\")\n",
        "    stage1_prompt = f\"\"\"\n",
        "    Conduct a comprehensive analysis of {company_name}{' in the ' + industry + ' industry' if industry else ''}.\n",
        "\n",
        "    Include:\n",
        "    1. Brief company overview (history, size, key offerings)\n",
        "    2. Current market position and market share if available\n",
        "    3. Recent financial performance and growth trends\n",
        "    4. Key executives and leadership changes\n",
        "    5. Recent strategic moves (acquisitions, partnerships, new product launches)\n",
        "\n",
        "    Focus on factual information from reliable sources. Include specific numbers\n",
        "    and metrics wherever possible.\n",
        "    \"\"\"\n",
        "\n",
        "    stage1_response = competitive_chat.send_message(stage1_prompt)\n",
        "    show_parts(stage1_response)\n",
        "    responses.append(stage1_response)\n",
        "    time.sleep(2)\n",
        "\n",
        "    # Stage 2: Competitor identification and comparison\n",
        "    print(f\"\\n📊 Stage 2: Competitor identification and analysis\")\n",
        "    stage2_prompt = f\"\"\"\n",
        "    Identify the top 3-5 direct competitors of {company_name}.\n",
        "\n",
        "    For each competitor:\n",
        "    1. Provide a brief company overview\n",
        "    2. Compare their market share and position to {company_name}\n",
        "    3. Analyze their key differentiators and competitive advantages\n",
        "    4. Describe their recent strategic moves\n",
        "    5. Evaluate their strengths and weaknesses relative to {company_name}\n",
        "\n",
        "    Present this in a structured comparative format.\n",
        "    \"\"\"\n",
        "\n",
        "    stage2_response = competitive_chat.send_message(stage2_prompt)\n",
        "    show_parts(stage2_response)\n",
        "    responses.append(stage2_response)\n",
        "    time.sleep(2)\n",
        "\n",
        "    # Stage 3: SWOT analysis\n",
        "    print(f\"\\n📊 Stage 3: SWOT analysis for {company_name}\")\n",
        "    stage3_prompt = f\"\"\"\n",
        "    Based on the information gathered, conduct a detailed SWOT analysis for {company_name}:\n",
        "\n",
        "    1. Strengths: Internal advantages and capabilities\n",
        "    2. Weaknesses: Internal disadvantages or limitations\n",
        "    3. Opportunities: External factors that could benefit the company\n",
        "    4. Threats: External factors that could negatively impact the company\n",
        "\n",
        "    For each category, provide 4-5 specific points with brief explanations supported by\n",
        "    the information you've gathered.\n",
        "    \"\"\"\n",
        "\n",
        "    stage3_response = competitive_chat.send_message(stage3_prompt)\n",
        "    show_parts(stage3_response)\n",
        "    responses.append(stage3_response)\n",
        "    time.sleep(2)\n",
        "\n",
        "    # Stage 4: Strategic recommendations\n",
        "    print(f\"\\n📊 Stage 4: Strategic recommendations\")\n",
        "    stage4_prompt = f\"\"\"\n",
        "    Based on all the competitive intelligence gathered, provide strategic recommendations for {company_name}.\n",
        "\n",
        "    Your recommendations should address:\n",
        "    1. How to leverage identified strengths\n",
        "    2. How to address or mitigate weaknesses\n",
        "    3. How to capitalize on market opportunities\n",
        "    4. How to defend against competitive threats\n",
        "    5. Potential areas for innovation or market disruption\n",
        "\n",
        "    Format these as actionable strategic recommendations that could be presented to executives.\n",
        "    \"\"\"\n",
        "\n",
        "    stage4_response = competitive_chat.send_message(stage4_prompt)\n",
        "    show_parts(stage4_response)\n",
        "    responses.append(stage4_response)\n",
        "\n",
        "    # Visualize search usage across the analysis stages\n",
        "    print(\"\\n📊 Competitive Analysis Search Utilization:\")\n",
        "    visualize_search_usage(responses)\n",
        "\n",
        "    return responses\n",
        "\n",
        "# Run the competitive intelligence analysis on a real company\n",
        "target_company = \"Rivian\"\n",
        "industry = \"Electric Vehicle Manufacturing\"\n",
        "competitive_results = competitive_intelligence_analysis(target_company, industry)\n",
        "\n",
        "print(\"\\n# This framework demonstrates how to use search capabilities for comprehensive competitive analysis\")\n",
        "print(\"# The structured approach ensures thorough coverage of all aspects of competitive intelligence\")\n",
        "print(\"# Notice how the search tool grounds the analysis in factual, up-to-date information\")"
      ],
      "metadata": {
        "id": "L39x2NvfQr6W",
        "outputId": "e466a112-447c-49b0-a02c-df91eb4c96ad",
        "colab": {
          "base_uri": "https://localhost:8080/",
          "height": 1000
        }
      },
      "execution_count": null,
      "outputs": [
        {
          "output_type": "stream",
          "name": "stdout",
          "text": [
            "\n",
            "--- 11. Competitive Intelligence Framework ---\n",
            "# Using Gemini's search capabilities to conduct structured competitive analysis\n",
            "\n",
            "📊 Stage 1: Company profile and market position for Rivian\n"
          ]
        },
        {
          "output_type": "display_data",
          "data": {
            "text/plain": [
              "<IPython.core.display.Markdown object>"
            ],
            "text/markdown": "Okay, here's a comprehensive analysis of Rivian in the Electric Vehicle Manufacturing industry, based on publicly available information:\n\n"
          },
          "metadata": {}
        },
        {
          "output_type": "display_data",
          "data": {
            "text/plain": [
              "<IPython.core.display.Markdown object>"
            ],
            "text/markdown": "Here's an analysis of Rivian in the Electric Vehicle Manufacturing industry:\n\n**1. Company Overview**\n\n*   **History:** Rivian was founded in 2009 by Robert \"RJ\" Scaringe. The company initially operated under the name Mainstream Motors. Rivian focused on developing electric SUVs and pickup trucks.\n*   **Size:** Rivian has thousands of employees. As of December 31, 2023, Rivian employed approximately 16,500 employees.\n*   **Key Offerings:** Rivian's primary offerings include:\n    *   R1T: An all-electric pickup truck.\n    *   R1S: An all-electric SUV.\n    *   Electric Delivery Van (EDV): Designed for commercial customers, particularly Amazon.\n    *   Rivian Adventure Network: A network of fast-charging stations.\n\n**2. Current Market Position and Market Share**\n\n*   **Market Position:** Rivian is considered a key player in the electric vehicle (EV) market, particularly in the electric truck and SUV segments.\n*   **Market Share:** Specific market share figures can fluctuate. In 2022, Rivian's market share in the US EV market was around 1.3%. Keep in mind that the overall EV market is dynamic, with Tesla holding the dominant share, followed by other established automakers and emerging players.\n\n**3. Recent Financial Performance and Growth Trends**\n\n*   **Financial Performance:**\n    *   In 2023, Rivian produced 57,232 vehicles and delivered 50,122 vehicles.\n    *   Rivian's revenue for the full year 2023 was $4.43 billion.\n    *   The company still experiences net losses. For 2023, Rivian reported a net loss of $5.43 billion.\n    *   Rivian is working towards profitability by increasing production efficiency and reducing costs.\n*   **Growth Trends:** Rivian's production and deliveries have been increasing. The company is focused on scaling production and expanding its product line to drive future growth.\n\n**4. Key Executives and Leadership Changes**\n\n*   **Key Executives:**\n    *   RJ Scaringe: Founder and CEO.\n*   It's important to check recent reports for any executive leadership changes.\n\n**5. Recent Strategic Moves**\n\n*   **Partnerships:**\n    *   Amazon: Rivian has a significant partnership with Amazon to develop and supply Electric Delivery Vans (EDVs).\n*   **New Product Launches:**\n    *   R2: In March 2024, Rivian revealed the R2, a smaller, more affordable SUV, slated for release in 2026.\n    *   R3: Rivian also unveiled the R3, a smaller crossover, derived from the R2 platform, with further details to come.\n*   **Production Expansion**:\n    *   Rivian is focused on ramping up production at its Normal, Illinois factory.\n*   **Cost Reduction:** The company is actively implementing cost-cutting measures to improve its financial performance.\n"
          },
          "metadata": {}
        },
        {
          "output_type": "stream",
          "name": "stdout",
          "text": [
            "\n",
            "📊 Stage 2: Competitor identification and analysis\n"
          ]
        },
        {
          "output_type": "display_data",
          "data": {
            "text/plain": [
              "<IPython.core.display.Markdown object>"
            ],
            "text/markdown": "Okay, here's a comparative analysis of Rivian's top competitors in the electric vehicle (EV) market:\n\n"
          },
          "metadata": {}
        },
        {
          "output_type": "display_data",
          "data": {
            "text/plain": [
              "<IPython.core.display.Markdown object>"
            ],
            "text/markdown": "Here's an analysis of Rivian's top competitors:\n\n**1. Tesla**\n\n*   **Company Overview:** Tesla is the leading manufacturer of electric vehicles, energy generation, and storage systems. Founded in 2003, Tesla has significantly shaped the EV market.\n*   **Market Share and Position:** Tesla has the largest market share in the EV market, although its share has been decreasing. In Q4 2024, Tesla held approximately 44% of the US EV market.\n*   **Key Differentiators and Competitive Advantages:**\n    *   Supercharger Network: Tesla's extensive and reliable Supercharger network is a significant advantage.\n    *   Technology: Tesla is known for its advanced technology, including its battery technology, autonomous driving features (Autopilot and Full Self-Driving).\n    *   Brand Recognition: Tesla has strong brand recognition and customer loyalty.\n*   **Recent Strategic Moves:**\n    *   Expansion of Gigafactories: Tesla continues to expand its production capacity globally.\n    *   New Models: Tesla is expected to release new models.\n    *   Software and Services: Tesla is focusing on generating revenue through software updates and services.\n*   **Strengths Relative to Rivian:**\n    *   Established Infrastructure: Tesla's charging infrastructure is far more developed.\n    *   Production Capacity: Tesla has significantly higher production capacity and economies of scale.\n    *   Brand Recognition: Higher brand recognition and customer loyalty.\n*   **Weaknesses Relative to Rivian:**\n    *   Vehicle Focus: Tesla currently doesn't have a direct competitor to Rivian's R1T (electric pickup truck), though the Cybertruck is now available.\n    *   Brand Image: Rivian targets a more outdoors/adventure-oriented customer base, potentially differentiating itself from Tesla's broader appeal.\n\n**2. Ford**\n\n*   **Company Overview:** Ford is a traditional automaker that is heavily investing in electric vehicles.\n*   **Market Share and Position:** Ford is among the top EV sellers in the US. In Q4 2024, Ford's EV sales grew.\n*   **Key Differentiators and Competitive Advantages:**\n    *   F-150 Lightning: Ford's F-150 Lightning has been a successful electric pickup truck.\n    *   Established Manufacturing: Ford has extensive manufacturing capabilities and experience.\n    *   Brand Loyalty: Ford has a loyal customer base, especially in the truck market.\n*   **Recent Strategic Moves:**\n    *   Electrification Strategy: Ford is focusing on electric commercial vans and pickup trucks.\n    *   Battery Sourcing: Ford is realigning its battery sourcing to reduce costs and improve efficiency.\n*   **Strengths Relative to Rivian:**\n    *   Manufacturing Expertise: Ford has a long history of mass production.\n    *   Existing Infrastructure: Ford has an established dealer network and service infrastructure.\n    *   Vehicle Variety: Ford provides a wider variety of vehicles beyond the truck and SUV markets that Rivian currently occupies.\n*   **Weaknesses Relative to Rivian:**\n    *   Brand Perception: Ford is still seen by some as a traditional automaker, which may not appeal to all EV buyers.\n    *   Technology: Ford's technology may not be perceived as cutting-edge as Rivian's.\n\n**3. General Motors (GM)**\n\n*   **Company Overview:** GM is a traditional automaker that is rapidly expanding its electric vehicle offerings.\n*   **Market Share and Position:** GM is the second-largest EV seller in the US. GM's EV sales increased significantly in 2024.\n*   **Key Differentiators and Competitive Advantages:**\n    *   Diverse EV Portfolio: GM is launching a range of EVs across different segments, including SUVs, trucks, and cars.\n    *   Ultium Platform: GM's Ultium battery platform is a key enabler for its EV strategy.\n*   **Recent Strategic Moves:**\n    *   EV Sales Growth: GM's EV sales have been increasing, driven by models like the Chevrolet Equinox EV and Cadillac Lyriq.\n*   **Strengths Relative to Rivian:**\n    *   Manufacturing Scale: GM has massive manufacturing capabilities.\n    *   Brand Portfolio: GM has a diverse portfolio of brands and vehicles.\n*   **Weaknesses Relative to Rivian:**\n    *   Brand Image: Similar to Ford, GM is transitioning from traditional vehicles to EVs.\n    *   Market Focus: Historically concentrated on more mainstream vehicle designs, versus Rivian's adventure/off-road branding.\n\n**4. Lucid Group**\n\n*   **Company Overview:** Lucid Motors is a manufacturer of luxury electric vehicles.\n*   **Key Differentiators and Competitive Advantages:**\n    *   Luxury Focus: Caters to the high-end EV market with luxurious design and advanced technology.\n*   **Recent Strategic Moves:**\n    *   Focus on expanding production and deliveries of Lucid Air models.\n*   **Strengths Relative to Rivian:**\n    *   Luxury brand positioning that appeals to a different customer segment.\n*   **Weaknesses Relative to Rivian:**\n    *   Does not currently offer trucks or more rugged SUV designs, limiting appeal to Rivian’s target audience.\n    *   Smaller production scale compared to Rivian.\n\n**Important Considerations:**\n\n*   **Market Dynamics:** The EV market is rapidly evolving, with new entrants and changing consumer preferences.\n*   **Technology Advancements:** Battery technology, charging infrastructure, and autonomous driving capabilities are key areas of competition.\n*   **Production Scaling:** The ability to scale production efficiently is crucial for success in the EV market.\n"
          },
          "metadata": {}
        },
        {
          "output_type": "stream",
          "name": "stdout",
          "text": [
            "\n",
            "📊 Search Results Used:\n"
          ]
        },
        {
          "output_type": "display_data",
          "data": {
            "text/plain": [
              "<IPython.core.display.HTML object>"
            ],
            "text/html": [
              "<style>\n",
              ".container {\n",
              "  align-items: center;\n",
              "  border-radius: 8px;\n",
              "  display: flex;\n",
              "  font-family: Google Sans, Roboto, sans-serif;\n",
              "  font-size: 14px;\n",
              "  line-height: 20px;\n",
              "  padding: 8px 12px;\n",
              "}\n",
              ".chip {\n",
              "  display: inline-block;\n",
              "  border: solid 1px;\n",
              "  border-radius: 16px;\n",
              "  min-width: 14px;\n",
              "  padding: 5px 16px;\n",
              "  text-align: center;\n",
              "  user-select: none;\n",
              "  margin: 0 8px;\n",
              "  -webkit-tap-highlight-color: transparent;\n",
              "}\n",
              ".carousel {\n",
              "  overflow: auto;\n",
              "  scrollbar-width: none;\n",
              "  white-space: nowrap;\n",
              "  margin-right: -12px;\n",
              "}\n",
              ".headline {\n",
              "  display: flex;\n",
              "  margin-right: 4px;\n",
              "}\n",
              ".gradient-container {\n",
              "  position: relative;\n",
              "}\n",
              ".gradient {\n",
              "  position: absolute;\n",
              "  transform: translate(3px, -9px);\n",
              "  height: 36px;\n",
              "  width: 9px;\n",
              "}\n",
              "@media (prefers-color-scheme: light) {\n",
              "  .container {\n",
              "    background-color: #fafafa;\n",
              "    box-shadow: 0 0 0 1px #0000000f;\n",
              "  }\n",
              "  .headline-label {\n",
              "    color: #1f1f1f;\n",
              "  }\n",
              "  .chip {\n",
              "    background-color: #ffffff;\n",
              "    border-color: #d2d2d2;\n",
              "    color: #5e5e5e;\n",
              "    text-decoration: none;\n",
              "  }\n",
              "  .chip:hover {\n",
              "    background-color: #f2f2f2;\n",
              "  }\n",
              "  .chip:focus {\n",
              "    background-color: #f2f2f2;\n",
              "  }\n",
              "  .chip:active {\n",
              "    background-color: #d8d8d8;\n",
              "    border-color: #b6b6b6;\n",
              "  }\n",
              "  .logo-dark {\n",
              "    display: none;\n",
              "  }\n",
              "  .gradient {\n",
              "    background: linear-gradient(90deg, #fafafa 15%, #fafafa00 100%);\n",
              "  }\n",
              "}\n",
              "@media (prefers-color-scheme: dark) {\n",
              "  .container {\n",
              "    background-color: #1f1f1f;\n",
              "    box-shadow: 0 0 0 1px #ffffff26;\n",
              "  }\n",
              "  .headline-label {\n",
              "    color: #fff;\n",
              "  }\n",
              "  .chip {\n",
              "    background-color: #2c2c2c;\n",
              "    border-color: #3c4043;\n",
              "    color: #fff;\n",
              "    text-decoration: none;\n",
              "  }\n",
              "  .chip:hover {\n",
              "    background-color: #353536;\n",
              "  }\n",
              "  .chip:focus {\n",
              "    background-color: #353536;\n",
              "  }\n",
              "  .chip:active {\n",
              "    background-color: #464849;\n",
              "    border-color: #53575b;\n",
              "  }\n",
              "  .logo-light {\n",
              "    display: none;\n",
              "  }\n",
              "  .gradient {\n",
              "    background: linear-gradient(90deg, #1f1f1f 15%, #1f1f1f00 100%);\n",
              "  }\n",
              "}\n",
              "</style>\n",
              "<div class=\"container\">\n",
              "  <div class=\"headline\">\n",
              "    <svg class=\"logo-light\" width=\"18\" height=\"18\" viewBox=\"9 9 35 35\" fill=\"none\" xmlns=\"http://www.w3.org/2000/svg\">\n",
              "      <path fill-rule=\"evenodd\" clip-rule=\"evenodd\" d=\"M42.8622 27.0064C42.8622 25.7839 42.7525 24.6084 42.5487 23.4799H26.3109V30.1568H35.5897C35.1821 32.3041 33.9596 34.1222 32.1258 35.3448V39.6864H37.7213C40.9814 36.677 42.8622 32.2571 42.8622 27.0064V27.0064Z\" fill=\"#4285F4\"/>\n",
              "      <path fill-rule=\"evenodd\" clip-rule=\"evenodd\" d=\"M26.3109 43.8555C30.9659 43.8555 34.8687 42.3195 37.7213 39.6863L32.1258 35.3447C30.5898 36.3792 28.6306 37.0061 26.3109 37.0061C21.8282 37.0061 18.0195 33.9811 16.6559 29.906H10.9194V34.3573C13.7563 39.9841 19.5712 43.8555 26.3109 43.8555V43.8555Z\" fill=\"#34A853\"/>\n",
              "      <path fill-rule=\"evenodd\" clip-rule=\"evenodd\" d=\"M16.6559 29.8904C16.3111 28.8559 16.1074 27.7588 16.1074 26.6146C16.1074 25.4704 16.3111 24.3733 16.6559 23.3388V18.8875H10.9194C9.74388 21.2072 9.06992 23.8247 9.06992 26.6146C9.06992 29.4045 9.74388 32.022 10.9194 34.3417L15.3864 30.8621L16.6559 29.8904V29.8904Z\" fill=\"#FBBC05\"/>\n",
              "      <path fill-rule=\"evenodd\" clip-rule=\"evenodd\" d=\"M26.3109 16.2386C28.85 16.2386 31.107 17.1164 32.9095 18.8091L37.8466 13.8719C34.853 11.082 30.9659 9.3736 26.3109 9.3736C19.5712 9.3736 13.7563 13.245 10.9194 18.8875L16.6559 23.3388C18.0195 19.2636 21.8282 16.2386 26.3109 16.2386V16.2386Z\" fill=\"#EA4335\"/>\n",
              "    </svg>\n",
              "    <svg class=\"logo-dark\" width=\"18\" height=\"18\" viewBox=\"0 0 48 48\" xmlns=\"http://www.w3.org/2000/svg\">\n",
              "      <circle cx=\"24\" cy=\"23\" fill=\"#FFF\" r=\"22\"/>\n",
              "      <path d=\"M33.76 34.26c2.75-2.56 4.49-6.37 4.49-11.26 0-.89-.08-1.84-.29-3H24.01v5.99h8.03c-.4 2.02-1.5 3.56-3.07 4.56v.75l3.91 2.97h.88z\" fill=\"#4285F4\"/>\n",
              "      <path d=\"M15.58 25.77A8.845 8.845 0 0 0 24 31.86c1.92 0 3.62-.46 4.97-1.31l4.79 3.71C31.14 36.7 27.65 38 24 38c-5.93 0-11.01-3.4-13.45-8.36l.17-1.01 4.06-2.85h.8z\" fill=\"#34A853\"/>\n",
              "      <path d=\"M15.59 20.21a8.864 8.864 0 0 0 0 5.58l-5.03 3.86c-.98-2-1.53-4.25-1.53-6.64 0-2.39.55-4.64 1.53-6.64l1-.22 3.81 2.98.22 1.08z\" fill=\"#FBBC05\"/>\n",
              "      <path d=\"M24 14.14c2.11 0 4.02.75 5.52 1.98l4.36-4.36C31.22 9.43 27.81 8 24 8c-5.93 0-11.01 3.4-13.45 8.36l5.03 3.85A8.86 8.86 0 0 1 24 14.14z\" fill=\"#EA4335\"/>\n",
              "    </svg>\n",
              "    <div class=\"gradient-container\"><div class=\"gradient\"></div></div>\n",
              "  </div>\n",
              "  <div class=\"carousel\">\n",
              "    <a class=\"chip\" href=\"https://vertexaisearch.cloud.google.com/grounding-api-redirect/AQXblrzcSrbwtXTasdYlU-2gXrewc25dqLXtkWpl9K7CsbwEe_BozXIqQFTN781-tJYqR01P2Pdq8Fl5i-ChkIxumseKFiKIznen0CLRDfN-OrMBaa8M9-qPukmnpnAb_CpDiKecKaQxirLWjnH4expBnXfUXk_1cw97lw9CABp_Oe8N5VaLM3QfIBYBwzskvhEfHoXmOWACyuIZ2Rgvbw==\">General Motors EV market</a>\n",
              "    <a class=\"chip\" href=\"https://vertexaisearch.cloud.google.com/grounding-api-redirect/AQXblrydRj-6HRmm0-slzcqa4nn8qRcv2FGs4iGXk2aaFuDKlfyZmqwDxd4KaFO4evfWakXQ8Xulnx22Zf9-IHoRMWwLAtMQDkvq8dc0Mk9Ok9v34oUiCU3kHlnl_RhZ7yTfPIdKkHgCRf_v-hjv558KFUJ4TJFH2NWuVlNKsY9WVDnvyZGXq0ctypsAirlKK4qrFHIY23ENneq5YQE6XPedwTq0Xw==\">Ford electric vehicle strategy</a>\n",
              "    <a class=\"chip\" href=\"https://vertexaisearch.cloud.google.com/grounding-api-redirect/AQXblry7f74bZVZV1v78PoXPPHt0KKG_bjJWQThxrX0tlhiUppkUAVwnhOgVvVeeWSmKbR25LeCD5Af45gV5yIQhkuUklnfKBfzp0TMwiC6jusW4Y04IsTwHq61kjsLFDtHg8zp9ZdTk8pLeAvEZryVwgbG0Jl5zUmguIGE0TaQ0VKncjsBF-KZ7BwVmkzKG28Zy2xjj7XF_t7q_6bkrhbpSQKlC\">Rivian competitors comparison</a>\n",
              "    <a class=\"chip\" href=\"https://vertexaisearch.cloud.google.com/grounding-api-redirect/AQXblrxYbjNwn20AABCtjL1aPzCc4OjeOP9OfLdBixLbIHLvg3StKoq4WVRUSZwGCKhseg9SbHic8gFooTVagG_vcEsdmrgt39YwDLAJEZf9isfvR3li0fN7KM3h5e20yJExNOfpqEEBJsoEwSqdl5EPkvPMLgjtdmAef992P0eqKiG4zCEflfk1uab7J5MAySGjYRkLkLU2H4IWWS0VEIzzUkg7hBhu2WOlZQ==\">Tesla market share electric vehicles</a>\n",
              "  </div>\n",
              "</div>\n"
            ]
          },
          "metadata": {}
        },
        {
          "output_type": "stream",
          "name": "stdout",
          "text": [
            "\n",
            "📊 Stage 3: SWOT analysis for Rivian\n"
          ]
        },
        {
          "output_type": "display_data",
          "data": {
            "text/plain": [
              "<IPython.core.display.Markdown object>"
            ],
            "text/markdown": "Okay, here's a detailed SWOT analysis for Rivian, based on the information gathered:\n\n**Rivian SWOT Analysis**\n\n**1. Strengths (Internal Advantages)**\n\n*   **Innovative Product Design:** Rivian's R1T and R1S are well-regarded for their design, features, and off-road capabilities, appealing to the adventure and outdoors market.\n    *   *Explanation:* Rivian has created distinctive vehicles that stand out in the EV market.\n*   **Partnership with Amazon:** The partnership to develop and supply Electric Delivery Vans (EDVs) provides a stable revenue stream and a valuable proving ground for Rivian's technology.\n    *   *Explanation:* The EDV contract with Amazon offers a guaranteed customer and supports production scaling.\n*   **Strong Brand Image (Adventure/Sustainability):** Rivian has cultivated a brand image associated with sustainability, adventure, and a premium outdoor lifestyle, which resonates with a specific customer segment.\n    *   *Explanation:* This image can command a premium price and foster customer loyalty.\n*   **Technology Focus:** Rivian is focused on developing advanced technology for its vehicles, including battery technology and software features.\n    *   *Explanation:* A strong technology base is essential for competing in the rapidly evolving EV market.\n*   **R2 Platform:** The announcement of the R2 platform targets a broader market with a more accessible price point.\n    *   *Explanation:* The R2 platform may allow Rivian to capture a larger customer base.\n\n**2. Weaknesses (Internal Disadvantages)**\n\n*   **Production Scaling Challenges:** Rivian has faced challenges in scaling up production to meet demand, which has impacted revenue and profitability.\n    *   *Explanation:* Production bottlenecks can limit sales and increase costs.\n*   **High Net Losses:** Rivian is currently operating at a significant net loss, which raises concerns about its long-term financial sustainability.\n    *   *Explanation:* Continued losses may require additional funding and could impact investor confidence.\n*   **Limited Service Infrastructure:** Compared to established automakers like Tesla and Ford, Rivian has a smaller service network, which could be a concern for customers.\n    *   *Explanation:* Limited service locations may impact customer satisfaction and brand perception.\n*   **Reliance on a Major Customer:** Rivian's reliance on Amazon for a significant portion of its revenue creates a risk if the partnership changes or Amazon reduces its orders.\n    *   *Explanation:* Diversifying the customer base is important for long-term stability.\n*   **New Entrant Status:** Rivian, being a relatively new company, lacks the established brand recognition and customer loyalty of legacy automakers.\n    *   *Explanation:* Building brand awareness and trust takes time and investment.\n\n**3. Opportunities (External Factors)**\n\n*   **Growing EV Market:** The global electric vehicle market is expanding rapidly, creating opportunities for Rivian to increase its sales and market share.\n    *   *Explanation:* The shift towards EVs is driven by environmental concerns, government incentives, and technological advancements.\n*   **Government Incentives and Regulations:** Government policies that support EV adoption, such as tax credits and emission regulations, can benefit Rivian.\n    *   *Explanation:* These policies can make EVs more affordable and attractive to consumers.\n*   **Expansion of Charging Infrastructure:** The expansion of public charging infrastructure will make EV ownership more convenient and reduce range anxiety.\n    *   *Explanation:* More charging stations will encourage more people to switch to EVs.\n*   **Technological Advancements:** Advances in battery technology, autonomous driving, and connectivity can enhance Rivian's products and attract new customers.\n    *   *Explanation:* Innovation is key to staying competitive in the EV market.\n*   **Untapped Market Segments:** There are still underserved segments in the EV market, such as commercial vehicles and off-road vehicles, which Rivian can target.\n    *   *Explanation:* Identifying and catering to specific needs can provide a competitive advantage.\n\n**4. Threats (External Factors)**\n\n*   **Intense Competition:** The electric vehicle market is becoming increasingly competitive, with established automakers and new entrants vying for market share.\n    *   *Explanation:* Rivian faces competition from Tesla, Ford, GM, and other EV manufacturers.\n*   **Supply Chain Disruptions:** Disruptions in the global supply chain, such as shortages of semiconductors or battery materials, can impact Rivian's production and costs.\n    *   *Explanation:* Supply chain issues can delay production and increase expenses.\n*   **Economic Downturn:** An economic recession or slowdown could reduce consumer spending on discretionary items like electric vehicles.\n    *   *Explanation:* Economic uncertainty can negatively impact demand for EVs.\n*   **Changing Government Regulations:** Changes in government regulations, such as the elimination of tax credits or stricter emission standards, could negatively impact the EV market.\n    *   *Explanation:* Policy changes can affect the affordability and attractiveness of EVs.\n*   **Raw Material Price Volatility:** Fluctuations in the prices of raw materials used in batteries, such as lithium and nickel, can impact Rivian's production costs.\n    *   *Explanation:* High material costs can reduce profitability.\n"
          },
          "metadata": {}
        },
        {
          "output_type": "stream",
          "name": "stdout",
          "text": [
            "\n",
            "📊 Stage 4: Strategic recommendations\n"
          ]
        },
        {
          "output_type": "display_data",
          "data": {
            "text/plain": [
              "<IPython.core.display.Markdown object>"
            ],
            "text/markdown": "Here are actionable strategic recommendations for Rivian, based on the competitive intelligence gathered:\n\n**Strategic Recommendations for Rivian Executives**\n\n**1. Leveraging Strengths:**\n\n*   **Recommendation:** *Amplify the Brand's \"Adventure\" Identity.*\n    *   **Action:** Invest in marketing campaigns that showcase the R1T and R1S in real-world adventure scenarios (e.g., off-roading, camping, outdoor activities). Partner with outdoor gear companies and influencers to create authentic content and experiences.\n    *   **Rationale:** Capitalizes on Rivian's strong brand image and differentiates it from competitors with a more mainstream or luxury focus.\n*   **Recommendation:** *Expand Value Added Services to Enhance Customer Loyalty.*\n    *   **Action:** Establish dedicated Rivian-owned service centers in key regions, while increasing the number of authorized third party service providers.\n    *   **Rationale:** Rivian's limited service infrastructure could be a barrier to entry. \n*   **Recommendation:** *Continue to refine the R2 platform, while taking advantage of government EV incentives.*\n    *   **Action:** Expand the targeted customer base with a more accessible price point.\n    *   **Rationale:** Captures a larger customer base.\n\n**2. Addressing Weaknesses:**\n\n*   **Recommendation:** *Aggressively Optimize Production Efficiency and Supply Chain Management.*\n    *   **Action:** Implement lean manufacturing principles, invest in automation, and diversify the supply base to reduce reliance on single suppliers. Secure long-term contracts for critical materials like battery components.\n    *   **Rationale:** Addresses production scaling challenges and reduces the risk of supply chain disruptions.\n*   **Recommendation:** *Implement Financial Discipline and Cost Controls.*\n    *   **Action:** Conduct a comprehensive review of all operating expenses and identify areas for cost reduction. Prioritize investments with the highest potential return.\n    *   **Rationale:** Mitigates high net losses and improves financial sustainability.\n*   **Recommendation:** *Expand Partnerships for Charging Infrastructure Access.*\n    *   **Action:** Collaborate with existing charging networks to offer Rivian customers seamless access to a wider network of charging stations. Consider developing strategic partnerships with companies that operate charging stations.\n    *   **Rationale:** Addresses the limited service infrastructure and makes EV ownership more convenient for customers.\n\n**3. Capitalizing on Market Opportunities:**\n\n*   **Recommendation:** *Accelerate Expansion into the Commercial Vehicle Market.*\n    *   **Action:** Leverage the Amazon partnership to further refine the Electric Delivery Van (EDV) and develop new commercial vehicle offerings for other customers.\n    *   **Rationale:** Expands the customer base beyond individual consumers and creates a more diversified revenue stream.\n*   **Recommendation:** *Monitor Government EV Incentives for the R2 platform.*\n    *   **Action:** Capitalize on government policies and incentives to increase sales.\n    *   **Rationale:** These policies can make EVs more affordable and attractive to consumers.\n\n**4. Defending Against Competitive Threats:**\n\n*   **Recommendation:** *Continuously Innovate and Differentiate Product Offerings.*\n    *   **Action:** Invest in R&D to develop new features, improve performance, and stay ahead of the competition. Focus on areas where Rivian has a competitive advantage, such as off-road capabilities and adventure-focused design.\n    *   **Rationale:** Deters competitive threats by creating unique and desirable products that are difficult to replicate.\n*   **Recommendation:** *Aggressively Monitor and Respond to Competitor Actions.*\n    *   **Action:** Conduct ongoing competitive analysis to track competitor product launches, pricing strategies, and marketing campaigns. Develop proactive strategies to counter competitor moves.\n    *   **Rationale:** Helps Rivian stay informed and adapt quickly to changes in the market.\n\n**5. Potential Areas for Innovation or Market Disruption:**\n\n*   **Recommendation:** *Develop a Subscription-Based Service for Vehicle Features and Updates.*\n    *   **Action:** Offer customers the option to subscribe to advanced features, such as enhanced autonomous driving capabilities, over-the-air software updates, and access to a curated library of adventure content.\n    *   **Rationale:** Creates a recurring revenue stream and provides customers with a more flexible and personalized ownership experience.\n*   **Recommendation:** *Explore Battery Technology Innovation to increase range, shorten charging times, and lower costs.*\n    *   **Action:** Invest in research and development of next-generation battery technologies.\n    *   **Rationale:** Battery technology is a key differentiator in the EV market.\n"
          },
          "metadata": {}
        },
        {
          "output_type": "stream",
          "name": "stdout",
          "text": [
            "\n",
            "📊 Competitive Analysis Search Utilization:\n"
          ]
        },
        {
          "output_type": "display_data",
          "data": {
            "text/plain": [
              "<Figure size 1000x500 with 1 Axes>"
            ],
            "image/png": "[encoded data removed]"
          },
          "metadata": {}
        },
        {
          "output_type": "stream",
          "name": "stdout",
          "text": [
            "\n",
            "# This framework demonstrates how to use search capabilities for comprehensive competitive analysis\n",
            "# The structured approach ensures thorough coverage of all aspects of competitive intelligence\n",
            "# Notice how the search tool grounds the analysis in factual, up-to-date information\n"
          ]
        }
      ]
    },
    {
      "cell_type": "code",
      "source": [
        "summary = \"\"\"\n",
        "## Workshop Summary\n",
        "\n",
        "In this comprehensive workshop, we've explored Gemini 2.0's advanced search capabilities:\n",
        "\n",
        "### Key Concepts Covered\n",
        "- Setting up the Google Gen AI SDK environment\n",
        "- Comparing responses with and without search\n",
        "- Maintaining context in search-based conversations\n",
        "- Creating data visualizations with search-sourced data\n",
        "- Combining search with multimodal inputs\n",
        "- Practical applications across various domains\n",
        "- Advanced search techniques and best practices\n",
        "- Integrating search with function calling\n",
        "\n",
        "### Next Steps for Your Learning Journey\n",
        "\n",
        "1. **Experiment with Different Models**\n",
        "   - Try both Flash and Pro models to understand their strengths\n",
        "   - Observe how different models utilize search resources\n",
        "\n",
        "2. **Build a Practical Project**\n",
        "   - Create a research assistant, market analyzer, or travel planner\n",
        "   - Combine search with other capabilities like code generation\n",
        "\n",
        "3. **Explore Advanced Features**\n",
        "   - Dive into multimodal capabilities with image analysis\n",
        "   - Experiment with combining function calling and search\n",
        "\n",
        "4. **Contribute to the Community**\n",
        "   - Share your findings and innovative applications\n",
        "   - Contribute examples to open-source Gemini projects\n",
        "\n",
        "5. **Stay Updated**\n",
        "   - Gemini models and capabilities are constantly evolving\n",
        "   - Check the official documentation for the latest features\n",
        "\n",
        "### Resources\n",
        "- Google Gen AI SDK Documentation: https://ai.google.dev/docs\n",
        "- Gemini API Cookbook: https://github.com/google-gemini/cookbook/\n",
        "- Google AI Studio: https://ai.google.dev/\n",
        "\"\"\"\n",
        "\n",
        "display(Markdown(summary))\n",
        "\n",
        "print(\"Thank you for participating in this workshop!\")\n",
        "print(\"We hope you're inspired to build amazing applications with Gemini 2.0's search capabilities.\")"
      ],
      "metadata": {
        "colab": {
          "base_uri": "https://localhost:8080/",
          "height": 767
        },
        "id": "PJCliD0U9OJu",
        "outputId": "d56012b9-dcc4-452e-d460-7f9776750e01"
      },
      "execution_count": null,
      "outputs": [
        {
          "output_type": "display_data",
          "data": {
            "text/plain": [
              "<IPython.core.display.Markdown object>"
            ],
            "text/markdown": "\n## Workshop Summary\n\nIn this comprehensive workshop, we've explored Gemini 2.0's advanced search capabilities:\n\n### Key Concepts Covered\n- Setting up the Google Gen AI SDK environment\n- Comparing responses with and without search\n- Maintaining context in search-based conversations\n- Creating data visualizations with search-sourced data\n- Combining search with multimodal inputs\n- Practical applications across various domains\n- Advanced search techniques and best practices\n- Integrating search with function calling\n\n### Next Steps for Your Learning Journey\n\n1. **Experiment with Different Models**\n   - Try both Flash and Pro models to understand their strengths\n   - Observe how different models utilize search resources\n\n2. **Build a Practical Project**\n   - Create a research assistant, market analyzer, or travel planner\n   - Combine search with other capabilities like code generation\n\n3. **Explore Advanced Features**\n   - Dive into multimodal capabilities with image analysis\n   - Experiment with combining function calling and search\n\n4. **Contribute to the Community**\n   - Share your findings and innovative applications\n   - Contribute examples to open-source Gemini projects\n\n5. **Stay Updated**\n   - Gemini models and capabilities are constantly evolving\n   - Check the official documentation for the latest features\n\n### Resources\n- Google Gen AI SDK Documentation: https://ai.google.dev/docs\n- Gemini API Cookbook: https://github.com/google-gemini/cookbook/\n- Google AI Studio: https://ai.google.dev/\n"
          },
          "metadata": {}
        },
        {
          "output_type": "stream",
          "name": "stdout",
          "text": [
            "Thank you for participating in this workshop!\n",
            "We hope you're inspired to build amazing applications with Gemini 2.0's search capabilities.\n"
          ]
        }
      ]
    },
    {
      "cell_type": "code",
      "source": [],
      "metadata": {
        "id": "DGXwPtenOT2z"
      },
      "execution_count": null,
      "outputs": []
    }
  ]
}