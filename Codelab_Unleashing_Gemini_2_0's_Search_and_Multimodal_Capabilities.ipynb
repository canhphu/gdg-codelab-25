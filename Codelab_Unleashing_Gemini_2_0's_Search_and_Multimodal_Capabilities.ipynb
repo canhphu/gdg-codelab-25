{
  "nbformat": 4,
  "nbformat_minor": 0,
  "metadata": {
    "colab": {
      "provenance": [],
      "toc_visible": true,
      "authorship_tag": "ABX9TyPLc6eAyZrUJzzgX9DCR/9z",
      "include_colab_link": true
    },
    "kernelspec": {
      "name": "python3",
      "display_name": "Python 3"
    },
    "language_info": {
      "name": "python"
    }
  },
  "cells": [
    {
      "cell_type": "markdown",
      "metadata": {
        "id": "view-in-github",
        "colab_type": "text"
      },
      "source": [
        "<a href=\"https://colab.research.google.com/github/linhkid/gdg-codelab-25/blob/main/Codelab_Unleashing_Gemini_2_0's_Search_and_Multimodal_Capabilities.ipynb\" target=\"_parent\"><img src=\"https://colab.research.google.com/assets/colab-badge.svg\" alt=\"Open In Colab\"/></a>"
      ]
    },
    {
      "cell_type": "markdown",
      "source": [
        "# Introduction"
      ],
      "metadata": {
        "id": "9aMNWK97jGlo"
      }
    },
    {
      "cell_type": "markdown",
      "source": [
        "Welcome to this Codelab! We'll explore how to leverage Gemini 2.0's built-in Google Search tool for real-time information retrieval, combine it with multimodal capabilities, and build practical applications with the Google Gen AI SDK.\n"
      ],
      "metadata": {
        "id": "qJf-4L8DxhJD"
      }
    },
    {
      "cell_type": "markdown",
      "source": [
        "# Setup Section\n",
        "\n",
        "## 1. Install Dependencies and Setup Environment\n",
        "\n",
        "### Install the Google Gen AI SDK\n",
        "### !pip install -U -q google-genai matplotlib pandas plotly python-dateutil"
      ],
      "metadata": {
        "id": "SpM7TwYpxrgg"
      }
    },
    {
      "cell_type": "code",
      "source": [
        "!pip install -U -q google-genai matplotlib pandas plotly python-dateutil"
      ],
      "metadata": {
        "colab": {
          "base_uri": "https://localhost:8080/"
        },
        "id": "8HgX5Rf68R_S",
        "outputId": "3b502dab-f9b0-419f-ba12-d3ee97a9f470"
      },
      "execution_count": 1,
      "outputs": [
        {
          "output_type": "stream",
          "name": "stdout",
          "text": [
            "\u001b[2K     \u001b[90m━━━━━━━━━━━━━━━━━━━━━━━━━━━━━━━━━━━━━━━━\u001b[0m \u001b[32m89.9/89.9 kB\u001b[0m \u001b[31m1.4 MB/s\u001b[0m eta \u001b[36m0:00:00\u001b[0m\n",
            "\u001b[2K   \u001b[90m━━━━━━━━━━━━━━━━━━━━━━━━━━━━━━━━━━━━━━━━\u001b[0m \u001b[32m144.7/144.7 kB\u001b[0m \u001b[31m5.8 MB/s\u001b[0m eta \u001b[36m0:00:00\u001b[0m\n",
            "\u001b[2K   \u001b[90m━━━━━━━━━━━━━━━━━━━━━━━━━━━━━━━━━━━━━━━━\u001b[0m \u001b[32m8.6/8.6 MB\u001b[0m \u001b[31m30.4 MB/s\u001b[0m eta \u001b[36m0:00:00\u001b[0m\n",
            "\u001b[2K   \u001b[90m━━━━━━━━━━━━━━━━━━━━━━━━━━━━━━━━━━━━━━━━\u001b[0m \u001b[32m13.1/13.1 MB\u001b[0m \u001b[31m25.5 MB/s\u001b[0m eta \u001b[36m0:00:00\u001b[0m\n",
            "\u001b[2K   \u001b[90m━━━━━━━━━━━━━━━━━━━━━━━━━━━━━━━━━━━━━━━━\u001b[0m \u001b[32m14.8/14.8 MB\u001b[0m \u001b[31m34.5 MB/s\u001b[0m eta \u001b[36m0:00:00\u001b[0m\n",
            "\u001b[2K   \u001b[90m━━━━━━━━━━━━━━━━━━━━━━━━━━━━━━━━━━━━━━━━\u001b[0m \u001b[32m229.9/229.9 kB\u001b[0m \u001b[31m9.3 MB/s\u001b[0m eta \u001b[36m0:00:00\u001b[0m\n",
            "\u001b[2K   \u001b[90m━━━━━━━━━━━━━━━━━━━━━━━━━━━━━━━━━━━━━━━━\u001b[0m \u001b[32m100.9/100.9 kB\u001b[0m \u001b[31m5.2 MB/s\u001b[0m eta \u001b[36m0:00:00\u001b[0m\n",
            "\u001b[?25h\u001b[31mERROR: pip's dependency resolver does not currently take into account all the packages that are installed. This behaviour is the source of the following dependency conflicts.\n",
            "google-colab 1.0.0 requires pandas==2.2.2, but you have pandas 2.2.3 which is incompatible.\n",
            "jupyter-server 1.24.0 requires anyio<4,>=3.1.0, but you have anyio 4.9.0 which is incompatible.\u001b[0m\u001b[31m\n",
            "\u001b[0m"
          ]
        }
      ]
    },
    {
      "cell_type": "code",
      "source": [
        "import os\n",
        "import json\n",
        "import time\n",
        "import numpy as np\n",
        "import pandas as pd\n",
        "import matplotlib.pyplot as plt\n",
        "from datetime import datetime, timedelta\n",
        "from IPython.display import display, HTML, Markdown\n",
        "from google.colab import userdata\n",
        "\n",
        "print(\"--- 1. Setting up environment ---\")\n",
        "print(\"# Required packages installed. Setting up your API key next.\")\n",
        "\n",
        "# Load the API key from Colab secrets\n",
        "# For security, we use Colab's userdata feature\n",
        "try:\n",
        "    # @markdown Make sure you have saved your Google AI API key as a Colab secret named 'GOOGLE_API_KEY'\n",
        "    os.environ['GOOGLE_API_KEY'] = userdata.get('GOOGLE_API_KEY')\n",
        "    print(\"✅ API key loaded successfully!\")\n",
        "except Exception as e:\n",
        "    print(f\"❌ Error loading API key: {e}\")\n",
        "    print(\"Please set up your API key by following these steps:\")\n",
        "    print(\"1. Go to https://ai.google.dev/ to get your API key\")\n",
        "    print(\"2. In Colab, go to 'Secrets' in the left sidebar\")\n",
        "    print(\"3. Add a new secret named 'GOOGLE_API_KEY' with your key as the value\")\n",
        "    print(\"4. Re-run this cell\")\n"
      ],
      "metadata": {
        "colab": {
          "base_uri": "https://localhost:8080/"
        },
        "id": "JMvkfvtUxzN5",
        "outputId": "055aafbe-601e-4ae6-aaae-a90bccd748b3"
      },
      "execution_count": 2,
      "outputs": [
        {
          "output_type": "stream",
          "name": "stdout",
          "text": [
            "--- 1. Setting up environment ---\n",
            "# Required packages installed. Setting up your API key next.\n",
            "✅ API key loaded successfully!\n"
          ]
        }
      ]
    },
    {
      "cell_type": "markdown",
      "source": [
        "# Gemini Model Initialization\n",
        "## 2. Initialize Gemini 2.0 Model"
      ],
      "metadata": {
        "id": "P_pNvSeAyB98"
      }
    },
    {
      "cell_type": "code",
      "source": [
        "from google import genai\n",
        "\n",
        "# Initialize the client with your API key\n",
        "client = genai.Client(api_key=os.environ['GOOGLE_API_KEY'],\n",
        "                     http_options={'api_version': 'v1alpha'})\n",
        "\n",
        "\n",
        "# Available models - uncomment the one you want to use\n",
        "MODEL = 'gemini-2.0-flash-exp'  # Fast, good for quick searches and responses\n",
        "# MODEL = 'gemini-2.0-pro'  # More capable but slower\n",
        "\n",
        "print(f\"✅ Using model: {MODEL}\")\n",
        "print(\"# Note: Different models have different capabilities and pricing.\")\n",
        "print(\"# The 'flash' model is faster while 'pro' is more capable.\")"
      ],
      "metadata": {
        "colab": {
          "base_uri": "https://localhost:8080/"
        },
        "id": "4fL7Us04yHRW",
        "outputId": "78abd91d-1bad-41d8-ae5f-77cfa8a8d9f5"
      },
      "execution_count": 4,
      "outputs": [
        {
          "output_type": "stream",
          "name": "stdout",
          "text": [
            "✅ Using model: gemini-2.0-flash-exp\n",
            "# Note: Different models have different capabilities and pricing.\n",
            "# The 'flash' model is faster while 'pro' is more capable.\n"
          ]
        }
      ]
    },
    {
      "cell_type": "markdown",
      "source": [
        "# Helper Functions\n",
        "## 3. Define Helper Functions for Response Display"
      ],
      "metadata": {
        "id": "f6fisRqryJTL"
      }
    },
    {
      "cell_type": "code",
      "source": [
        "def show_parts(response):\n",
        "    \"\"\"Display various parts of a Gemini response including text, code, and search results.\"\"\"\n",
        "    parts = response.candidates[0].content.parts\n",
        "\n",
        "    if parts is None:\n",
        "        finish_reason = response.candidates[0].finish_reason\n",
        "        print(f'Finish reason: {finish_reason}')\n",
        "        return\n",
        "\n",
        "    for part in response.candidates[0].content.parts:\n",
        "        if part.text:\n",
        "            display(Markdown(part.text))\n",
        "        elif hasattr(part, 'executable_code') and part.executable_code:\n",
        "            display(Markdown(f'```python\\n{part.executable_code.code}\\n```'))\n",
        "        else:\n",
        "            print(\"Other part type:\")\n",
        "            print(json.dumps(part.model_dump(exclude_none=True), indent=2))\n",
        "\n",
        "    # Display search results if any\n",
        "    grounding_metadata = response.candidates[0].grounding_metadata\n",
        "    if grounding_metadata and grounding_metadata.search_entry_point:\n",
        "        print(\"\\n📊 Search Results Used:\")\n",
        "        display(HTML(grounding_metadata.search_entry_point.rendered_content))"
      ],
      "metadata": {
        "id": "jZW-8UAxyOZZ"
      },
      "execution_count": 5,
      "outputs": []
    },
    {
      "cell_type": "code",
      "source": [
        "def visualize_search_usage(responses):\n",
        "    \"\"\"Create a visualization of how many searches were used in responses.\"\"\"\n",
        "    search_counts = []\n",
        "\n",
        "    # Process multiple responses to count search usage\n",
        "    for i, resp in enumerate(responses):\n",
        "        count = 0\n",
        "        if hasattr(resp.candidates[0], 'grounding_metadata') and resp.candidates[0].grounding_metadata:\n",
        "            meta = resp.candidates[0].grounding_metadata\n",
        "            if hasattr(meta, 'search_entry_point') and meta.search_entry_point:\n",
        "                # Count the number of search queries\n",
        "                count = len(meta.search_entry_point.references) if hasattr(meta.search_entry_point, 'references') else 1\n",
        "        search_counts.append(count)\n",
        "\n",
        "    # Create a simple bar chart\n",
        "    plt.figure(figsize=(10, 5))\n",
        "    plt.bar(range(len(search_counts)), search_counts, color='skyblue')\n",
        "    plt.xlabel('Query Number')\n",
        "    plt.ylabel('Number of Searches Used')\n",
        "    plt.title('Search Utilization per Query')\n",
        "    plt.xticks(range(len(search_counts)))\n",
        "    plt.grid(axis='y', linestyle='--', alpha=0.7)\n",
        "    plt.show()\n"
      ],
      "metadata": {
        "id": "p_uzGkQBySWk"
      },
      "execution_count": 6,
      "outputs": []
    },
    {
      "cell_type": "code",
      "source": [
        "print(\"✅ Helper functions defined for displaying responses and visualizing search usage\")\n",
        "print(\"# These functions will help us examine how Gemini uses search and processes information.\")"
      ],
      "metadata": {
        "colab": {
          "base_uri": "https://localhost:8080/"
        },
        "id": "QpTh5bCWyW23",
        "outputId": "54615fc4-b4c5-46c1-be85-19f8908694bd"
      },
      "execution_count": 7,
      "outputs": [
        {
          "output_type": "stream",
          "name": "stdout",
          "text": [
            "✅ Helper functions defined for displaying responses and visualizing search usage\n",
            "# These functions will help us examine how Gemini uses search and processes information.\n"
          ]
        }
      ]
    },
    {
      "cell_type": "markdown",
      "source": [
        "# Basic Search Example\n",
        "\n",
        "## 4. Comparing Responses With and Without Search\n",
        "\n"
      ],
      "metadata": {
        "id": "w7SgKf6iyVBJ"
      }
    },
    {
      "cell_type": "code",
      "source": [
        "print(\"\\n--- 4. Basic Search Comparison Demo ---\")\n",
        "print(\"# Let's compare how Gemini responds with and without search capabilities\")\n",
        "\n",
        "# Chat without search\n",
        "regular_chat = client.chats.create(model=MODEL)\n",
        "\n",
        "print(\"\\n📝 Query without search: 'What are the latest developments in quantum computing?'\")\n",
        "regular_response = regular_chat.send_message('What are the latest developments in quantum computing?')\n",
        "print(\"\\n🤖 Response WITHOUT search tool:\")\n",
        "show_parts(regular_response)\n",
        "\n",
        "# Wait a moment before next query\n",
        "time.sleep(2)\n",
        "\n",
        "# Chat with search enabled\n",
        "search_tool = {'google_search': {}}\n",
        "search_chat = client.chats.create(model=MODEL, config={'tools': [search_tool]})\n",
        "\n",
        "print(\"\\n📝 Same query WITH search: 'What are the latest developments in quantum computing?'\")\n",
        "search_response = search_chat.send_message('What are the latest developments in quantum computing?')\n",
        "print(\"\\n🤖 Response WITH search tool:\")\n",
        "show_parts(search_response)\n",
        "\n",
        "print(\"\\n# Notice the differences in specificity, recency, and detail between the two responses.\")\n",
        "print(\"# The search-enabled response can cite recent developments and specific breakthroughs.\")"
      ],
      "metadata": {
        "colab": {
          "base_uri": "https://localhost:8080/",
          "height": 1000
        },
        "id": "RYz80tuJyasd",
        "outputId": "87271e54-b35c-4a62-9447-e976efe91852"
      },
      "execution_count": 8,
      "outputs": [
        {
          "output_type": "stream",
          "name": "stdout",
          "text": [
            "\n",
            "--- 4. Basic Search Comparison Demo ---\n",
            "# Let's compare how Gemini responds with and without search capabilities\n",
            "\n",
            "📝 Query without search: 'What are the latest developments in quantum computing?'\n",
            "\n",
            "🤖 Response WITHOUT search tool:\n"
          ]
        },
        {
          "output_type": "display_data",
          "data": {
            "text/plain": [
              "<IPython.core.display.Markdown object>"
            ],
            "text/markdown": "Quantum computing is a rapidly evolving field, and there have been numerous exciting developments recently. Here's a breakdown of some of the latest happenings, grouped by area:\n\n**1. Hardware Advancements (Qubit Development):**\n\n*   **Increased Qubit Count and Connectivity:**  Companies like IBM, Google, and Quantinuum are consistently increasing the number of qubits in their processors.  While the raw number is important,  *connectivity* (how easily qubits can interact) and *coherence* (how long qubits maintain their quantum state) are equally crucial. The trend is towards denser, more connected architectures.\n*   **Improved Qubit Stability (Coherence Time):**  Researchers are making progress in extending the coherence time of qubits, allowing for more complex computations.  Techniques like improved shielding from environmental noise and better control mechanisms are being employed.\n*   **Diverse Qubit Technologies:**  While superconducting qubits are currently the most prevalent, there's intense research into other qubit technologies:\n    *   **Trapped Ions:**  Quantinuum's trapped ion systems continue to show high fidelity and long coherence times.\n    *   **Neutral Atoms:**  Companies like ColdQuanta are making strides with neutral atom qubits, which offer scalability and connectivity advantages.\n    *   **Silicon Qubits:**  These are attractive due to their compatibility with existing semiconductor manufacturing, potentially leading to more cost-effective and scalable quantum computers.\n    *   **Photonic Qubits:**  These use photons (light particles) to encode quantum information. They offer advantages in terms of coherence and communication, but building large-scale systems remains a challenge.\n    *   **Topological Qubits:** Microsoft continues to pursue topological qubits, which are theoretically more resistant to noise and errors. While progress has been slower than anticipated, the potential rewards are significant.\n\n**2. Software and Algorithm Development:**\n\n*   **Quantum Error Correction (QEC):**  QEC is crucial for building fault-tolerant quantum computers.  Significant research is focused on developing more efficient and practical QEC codes.  Progress includes both theoretical breakthroughs and experimental demonstrations of QEC techniques.\n*   **Quantum Algorithm Development:**  Researchers are continuously developing new quantum algorithms and improving existing ones to solve specific problems.  Areas of focus include:\n    *   **Quantum Machine Learning:** Developing algorithms that leverage quantum mechanics to enhance machine learning models.\n    *   **Quantum Chemistry:**  Simulating molecules and chemical reactions with greater accuracy than classical computers.  This has applications in drug discovery and materials science.\n    *   **Optimization:**  Solving complex optimization problems that are intractable for classical computers.\n    *   **Cryptography:**  Developing quantum-resistant cryptographic algorithms to protect data from future quantum attacks.\n*   **Quantum Programming Languages and Tools:**  The development of more user-friendly quantum programming languages and software tools is accelerating. Examples include:\n    *   **Qiskit (IBM):** An open-source software development kit for quantum computing.\n    *   **Cirq (Google):**  A Python library for writing, manipulating, and optimizing quantum circuits.\n    *   **PennyLane (Xanadu):**  A cross-platform Python library for quantum machine learning, differentiable programming, and quantum chemistry.\n    *   **Braket (Amazon):**  A cloud-based quantum computing service.\n\n**3. Industry and Applications:**\n\n*   **Increased Industry Investment:**  Significant private and public investment is flowing into quantum computing research and development.\n*   **Cloud-Based Quantum Computing Platforms:**  Cloud platforms like Amazon Braket, Azure Quantum, and IBM Quantum Experience provide access to quantum computers for researchers and developers.\n*   **Early Applications and Use Cases:**  While fully fault-tolerant quantum computers are still years away, researchers are exploring early applications of noisy intermediate-scale quantum (NISQ) computers. These include:\n    *   **Materials Science:**  Simulating the properties of new materials.\n    *   **Drug Discovery:**  Identifying potential drug candidates.\n    *   **Finance:**  Developing more accurate financial models.\n    *   **Logistics and Supply Chain Optimization:**  Improving the efficiency of supply chains.\n\n**4. Key Recent Events and Announcements:**\n\n*   **IBM's Osprey and Condor Processors:** IBM has released increasingly powerful quantum processors, including the Osprey (433 qubits) and the Condor (1121 qubits). They continue to release roadmaps for further scaling.\n*   **Google's Quantum Supremacy Claim:** While debated, Google's claim of achieving \"quantum supremacy\" (performing a calculation that is practically impossible for classical computers) has spurred further research and development.\n*   **Continued Investment and Funding:** Governments and private companies are announcing new initiatives and funding rounds to support quantum computing research and development.\n*   **Expansion of Quantum Computing Ecosystems:**  More universities and research institutions are establishing quantum computing programs, contributing to the growth of the talent pool.\n\n**Challenges and Future Outlook:**\n\nDespite the impressive progress, significant challenges remain:\n\n*   **Scalability:** Building quantum computers with a large number of qubits is a major hurdle.\n*   **Coherence:** Maintaining the quantum state of qubits for long enough to perform complex calculations is crucial.\n*   **Error Correction:**  Developing effective quantum error correction techniques is essential for building fault-tolerant quantum computers.\n*   **Software Development:**  Creating user-friendly quantum programming languages and tools is vital for wider adoption.\n*   **Talent Gap:**  There is a shortage of skilled quantum computing researchers and engineers.\n\nThe future of quantum computing is bright, but it will take continued research and development to overcome these challenges and realize the full potential of this transformative technology.  Keep an eye on announcements from the major players (IBM, Google, Quantinuum, Microsoft, Amazon, etc.) and follow leading quantum computing research journals and conferences for the latest updates.\n"
          },
          "metadata": {}
        },
        {
          "output_type": "stream",
          "name": "stdout",
          "text": [
            "\n",
            "📝 Same query WITH search: 'What are the latest developments in quantum computing?'\n",
            "\n",
            "🤖 Response WITH search tool:\n"
          ]
        },
        {
          "output_type": "display_data",
          "data": {
            "text/plain": [
              "<IPython.core.display.Markdown object>"
            ],
            "text/markdown": "Here's a summary of the recent developments in quantum computing:\n\n**General Trends:**\n\n*   **Expanding Beyond Computing:** While quantum computing gets a lot of attention, there's increasing focus on quantum sensing and quantum communication for more immediate applications.\n*   **From Experiments to Uses:** Quantum technologies are moving from experimental demonstrations to niche commercial products, particularly in areas like drug discovery, materials science, secure communications, and logistics.\n*   **Quantum Foundries:** Progress is expected in facilities designed for scalable production of qubits, which will reduce costs and standardize components.\n*   **Quantum Error Correction:** Significant progress is being made in quantum error correction, crucial for developing more stable quantum computers.\n*   **Hybrid Systems:** Hybrid quantum-classical systems are gaining traction to smooth the transition to full-scale quantum computing.\n*   **Quantum Cloud Services:** More companies are offering quantum cloud platforms, making the technology more accessible.\n*   **Logical Qubits:** Developers are shifting focus from physical qubits to logical qubits, which are protected from errors.\n\n**Hardware Advancements:**\n\n*   **Google's Willow Chip:** Google launched the Willow chip in 2024, designed to improve qubit coherence and reduce error rates. Willow has 105 qubits and is claimed to be able to perform a benchmark computation in under five minutes, a task that would take the world's second-fastest supercomputer about 10 septillion years.\n*   **IBM's Quantum Roadmap:** IBM aims to build a 1,000-qubit quantum computer by 2025. They demonstrated two quantum processing units working together.\n*   **IBM's Condor Processor:** IBM's Condor processor has 1,121 superconducting qubits.\n*   **Scalability:** Transferring quantum bits between microchips is improving, which is crucial for integrating multiple quantum systems and enhancing the scalability of quantum networks.\n\n**Software and Algorithms:**\n\n*   **Quantum Simulators:** New quantum computing simulators are being launched to make quantum learning more accessible.\n*   **Quantum Algorithms:** New algorithms are being developed to take advantage of quantum computing's capabilities, with potential applications in cryptography, materials science, and machine learning.\n*   **Shor's Algorithm:** Shor's algorithm for factoring large numbers continues to be important, and a new quantum algorithm has been introduced that may surpass it in efficiency.\n\n**Quantum Networks and Communication:**\n\n*   **Quantum Network Expansion:** Initiatives are underway to accelerate quantum software development and connect global innovators in the quantum space.\n*   **Secure Communication:** Secure communication through metropolitan-scale entangled quantum networks is predicted.\n\n**Error Correction:**\n\n*   **Reducing Error Rates:** Researchers are making progress in reducing computational error rates by increasing the number of qubits used for quantum error correction.\n*   **Improved Techniques:** Advancements are being made in error correction techniques, essential for stabilizing qubits.\n\n**Other Developments:**\n\n*   **Quantum Education Tools:** New tools are being launched to make quantum learning accessible to students and educators.\n*   **International Year of Quantum Science and Technology:** The United Nations has designated 2025 as the International Year of Quantum Science and Technology.\n\nOverall, the field of quantum computing is experiencing rapid growth, with advancements in hardware, software, and error correction techniques. While fully functional quantum computers are still under development, the progress made in recent years suggests that they may become a reality in the not-too-distant future.\n"
          },
          "metadata": {}
        },
        {
          "output_type": "stream",
          "name": "stdout",
          "text": [
            "\n",
            "📊 Search Results Used:\n"
          ]
        },
        {
          "output_type": "display_data",
          "data": {
            "text/plain": [
              "<IPython.core.display.HTML object>"
            ],
            "text/html": [
              "<style>\n",
              ".container {\n",
              "  align-items: center;\n",
              "  border-radius: 8px;\n",
              "  display: flex;\n",
              "  font-family: Google Sans, Roboto, sans-serif;\n",
              "  font-size: 14px;\n",
              "  line-height: 20px;\n",
              "  padding: 8px 12px;\n",
              "}\n",
              ".chip {\n",
              "  display: inline-block;\n",
              "  border: solid 1px;\n",
              "  border-radius: 16px;\n",
              "  min-width: 14px;\n",
              "  padding: 5px 16px;\n",
              "  text-align: center;\n",
              "  user-select: none;\n",
              "  margin: 0 8px;\n",
              "  -webkit-tap-highlight-color: transparent;\n",
              "}\n",
              ".carousel {\n",
              "  overflow: auto;\n",
              "  scrollbar-width: none;\n",
              "  white-space: nowrap;\n",
              "  margin-right: -12px;\n",
              "}\n",
              ".headline {\n",
              "  display: flex;\n",
              "  margin-right: 4px;\n",
              "}\n",
              ".gradient-container {\n",
              "  position: relative;\n",
              "}\n",
              ".gradient {\n",
              "  position: absolute;\n",
              "  transform: translate(3px, -9px);\n",
              "  height: 36px;\n",
              "  width: 9px;\n",
              "}\n",
              "@media (prefers-color-scheme: light) {\n",
              "  .container {\n",
              "    background-color: #fafafa;\n",
              "    box-shadow: 0 0 0 1px #0000000f;\n",
              "  }\n",
              "  .headline-label {\n",
              "    color: #1f1f1f;\n",
              "  }\n",
              "  .chip {\n",
              "    background-color: #ffffff;\n",
              "    border-color: #d2d2d2;\n",
              "    color: #5e5e5e;\n",
              "    text-decoration: none;\n",
              "  }\n",
              "  .chip:hover {\n",
              "    background-color: #f2f2f2;\n",
              "  }\n",
              "  .chip:focus {\n",
              "    background-color: #f2f2f2;\n",
              "  }\n",
              "  .chip:active {\n",
              "    background-color: #d8d8d8;\n",
              "    border-color: #b6b6b6;\n",
              "  }\n",
              "  .logo-dark {\n",
              "    display: none;\n",
              "  }\n",
              "  .gradient {\n",
              "    background: linear-gradient(90deg, #fafafa 15%, #fafafa00 100%);\n",
              "  }\n",
              "}\n",
              "@media (prefers-color-scheme: dark) {\n",
              "  .container {\n",
              "    background-color: #1f1f1f;\n",
              "    box-shadow: 0 0 0 1px #ffffff26;\n",
              "  }\n",
              "  .headline-label {\n",
              "    color: #fff;\n",
              "  }\n",
              "  .chip {\n",
              "    background-color: #2c2c2c;\n",
              "    border-color: #3c4043;\n",
              "    color: #fff;\n",
              "    text-decoration: none;\n",
              "  }\n",
              "  .chip:hover {\n",
              "    background-color: #353536;\n",
              "  }\n",
              "  .chip:focus {\n",
              "    background-color: #353536;\n",
              "  }\n",
              "  .chip:active {\n",
              "    background-color: #464849;\n",
              "    border-color: #53575b;\n",
              "  }\n",
              "  .logo-light {\n",
              "    display: none;\n",
              "  }\n",
              "  .gradient {\n",
              "    background: linear-gradient(90deg, #1f1f1f 15%, #1f1f1f00 100%);\n",
              "  }\n",
              "}\n",
              "</style>\n",
              "<div class=\"container\">\n",
              "  <div class=\"headline\">\n",
              "    <svg class=\"logo-light\" width=\"18\" height=\"18\" viewBox=\"9 9 35 35\" fill=\"none\" xmlns=\"http://www.w3.org/2000/svg\">\n",
              "      <path fill-rule=\"evenodd\" clip-rule=\"evenodd\" d=\"M42.8622 27.0064C42.8622 25.7839 42.7525 24.6084 42.5487 23.4799H26.3109V30.1568H35.5897C35.1821 32.3041 33.9596 34.1222 32.1258 35.3448V39.6864H37.7213C40.9814 36.677 42.8622 32.2571 42.8622 27.0064V27.0064Z\" fill=\"#4285F4\"/>\n",
              "      <path fill-rule=\"evenodd\" clip-rule=\"evenodd\" d=\"M26.3109 43.8555C30.9659 43.8555 34.8687 42.3195 37.7213 39.6863L32.1258 35.3447C30.5898 36.3792 28.6306 37.0061 26.3109 37.0061C21.8282 37.0061 18.0195 33.9811 16.6559 29.906H10.9194V34.3573C13.7563 39.9841 19.5712 43.8555 26.3109 43.8555V43.8555Z\" fill=\"#34A853\"/>\n",
              "      <path fill-rule=\"evenodd\" clip-rule=\"evenodd\" d=\"M16.6559 29.8904C16.3111 28.8559 16.1074 27.7588 16.1074 26.6146C16.1074 25.4704 16.3111 24.3733 16.6559 23.3388V18.8875H10.9194C9.74388 21.2072 9.06992 23.8247 9.06992 26.6146C9.06992 29.4045 9.74388 32.022 10.9194 34.3417L15.3864 30.8621L16.6559 29.8904V29.8904Z\" fill=\"#FBBC05\"/>\n",
              "      <path fill-rule=\"evenodd\" clip-rule=\"evenodd\" d=\"M26.3109 16.2386C28.85 16.2386 31.107 17.1164 32.9095 18.8091L37.8466 13.8719C34.853 11.082 30.9659 9.3736 26.3109 9.3736C19.5712 9.3736 13.7563 13.245 10.9194 18.8875L16.6559 23.3388C18.0195 19.2636 21.8282 16.2386 26.3109 16.2386V16.2386Z\" fill=\"#EA4335\"/>\n",
              "    </svg>\n",
              "    <svg class=\"logo-dark\" width=\"18\" height=\"18\" viewBox=\"0 0 48 48\" xmlns=\"http://www.w3.org/2000/svg\">\n",
              "      <circle cx=\"24\" cy=\"23\" fill=\"#FFF\" r=\"22\"/>\n",
              "      <path d=\"M33.76 34.26c2.75-2.56 4.49-6.37 4.49-11.26 0-.89-.08-1.84-.29-3H24.01v5.99h8.03c-.4 2.02-1.5 3.56-3.07 4.56v.75l3.91 2.97h.88z\" fill=\"#4285F4\"/>\n",
              "      <path d=\"M15.58 25.77A8.845 8.845 0 0 0 24 31.86c1.92 0 3.62-.46 4.97-1.31l4.79 3.71C31.14 36.7 27.65 38 24 38c-5.93 0-11.01-3.4-13.45-8.36l.17-1.01 4.06-2.85h.8z\" fill=\"#34A853\"/>\n",
              "      <path d=\"M15.59 20.21a8.864 8.864 0 0 0 0 5.58l-5.03 3.86c-.98-2-1.53-4.25-1.53-6.64 0-2.39.55-4.64 1.53-6.64l1-.22 3.81 2.98.22 1.08z\" fill=\"#FBBC05\"/>\n",
              "      <path d=\"M24 14.14c2.11 0 4.02.75 5.52 1.98l4.36-4.36C31.22 9.43 27.81 8 24 8c-5.93 0-11.01 3.4-13.45 8.36l5.03 3.85A8.86 8.86 0 0 1 24 14.14z\" fill=\"#EA4335\"/>\n",
              "    </svg>\n",
              "    <div class=\"gradient-container\"><div class=\"gradient\"></div></div>\n",
              "  </div>\n",
              "  <div class=\"carousel\">\n",
              "    <a class=\"chip\" href=\"https://vertexaisearch.cloud.google.com/grounding-api-redirect/AQXblrwCyuUP3Cr-1ZJDPrgDzVBB7tTlfIeTf1op-P7Dnkqd449gFEnYRrEXuN2CthFEVU7JJr0TuzzOHezdKgFk9uRkWC0AWxS-nBFwHsHLphrfpLHAPCMxpWFQEDBTDtdouvavs_-7bbULVWLPHS0Di77nK6THUx5kzEfcJOwvpo6Q9Ra1gp4T7Hhi0c3n5hSA-J2zMDn9aXXy6iFTISFeuA==\">quantum computing 2024 2025</a>\n",
              "    <a class=\"chip\" href=\"https://vertexaisearch.cloud.google.com/grounding-api-redirect/AQXblrxxQUtw9nER8EfT2tW9O07UQgoaXXXOTZUkhzuozm4uwXhGKrFWy_vvUNJHuwCZDCgWyIvNxpGTQVaA1FXcEzBxkKN6OUu12QbeGeVlYyyVMTHseUbAY4wt8AGXdCoYoHexKmCzW_gilg2KaM653XZypdNvXUyIEjVexOABAXzTfNUZCcl2pPoVbW60s05uXHpxvy1v4trbAVfRAKRvWiv4CC5wYD5MPytv1p4=\">latest advancements in quantum computing</a>\n",
              "  </div>\n",
              "</div>\n"
            ]
          },
          "metadata": {}
        },
        {
          "output_type": "stream",
          "name": "stdout",
          "text": [
            "\n",
            "# Notice the differences in specificity, recency, and detail between the two responses.\n",
            "# The search-enabled response can cite recent developments and specific breakthroughs.\n"
          ]
        }
      ]
    },
    {
      "cell_type": "markdown",
      "source": [
        "# Follow-up Questions Example\n",
        "## 5. Asking Follow-up Questions in a Search Context"
      ],
      "metadata": {
        "id": "wsywfUhgylVl"
      }
    },
    {
      "cell_type": "code",
      "source": [
        "print(\"\\n--- 5. Follow-up Questions with Search ---\")\n",
        "print(\"# Gemini can maintain context while using search for follow-up questions\")\n",
        "\n",
        "follow_up_chat = client.chats.create(model=MODEL, config={'tools': [search_tool]})\n",
        "\n",
        "# List to store responses for visualization\n",
        "follow_up_responses = []\n",
        "\n",
        "print(\"\\n📝 Initial Query: 'What are the top 3 electric vehicles with the longest range?'\")\n",
        "response1 = follow_up_chat.send_message('What are the top 3 electric vehicles with the longest range?')\n",
        "show_parts(response1)\n",
        "follow_up_responses.append(response1)\n",
        "\n",
        "time.sleep(2)\n",
        "\n",
        "print(\"\\n📝 Follow-up Query: 'How much do they cost?'\")\n",
        "response2 = follow_up_chat.send_message('How much do they cost?')\n",
        "show_parts(response2)\n",
        "follow_up_responses.append(response2)\n",
        "\n",
        "time.sleep(2)\n",
        "\n",
        "print(\"\\n📝 Another Follow-up: 'Compare their charging times'\")\n",
        "response3 = follow_up_chat.send_message('Compare their charging times')\n",
        "show_parts(response3)\n",
        "follow_up_responses.append(response3)\n",
        "\n",
        "# Visualize search usage across the conversation\n",
        "print(\"\\n📊 Search Usage Visualization:\")\n",
        "visualize_search_usage(follow_up_responses)\n",
        "\n",
        "print(\"\\n# Notice how Gemini maintains context about which vehicles we're discussing\")\n",
        "print(\"# while retrieving fresh information for each question.\")"
      ],
      "metadata": {
        "colab": {
          "base_uri": "https://localhost:8080/",
          "height": 1000
        },
        "id": "F8haY4-Nyt7q",
        "outputId": "d0a0963a-9985-4bc7-ee83-7b569659698e"
      },
      "execution_count": 9,
      "outputs": [
        {
          "output_type": "stream",
          "name": "stdout",
          "text": [
            "\n",
            "--- 5. Follow-up Questions with Search ---\n",
            "# Gemini can maintain context while using search for follow-up questions\n",
            "\n",
            "📝 Initial Query: 'What are the top 3 electric vehicles with the longest range?'\n"
          ]
        },
        {
          "output_type": "display_data",
          "data": {
            "text/plain": [
              "<IPython.core.display.Markdown object>"
            ],
            "text/markdown": "Based on currently available information, here are three of the top electric vehicles expected to have the longest range in 2025:\n\n1.  **Lucid Air:** The Lucid Air Grand Touring is expected to have the highest range, potentially reaching up to 512 miles.\n2.  **Chevrolet Silverado EV:** This pickup truck may achieve up to 460 miles of range.\n3.  **Rivian R1S:** This SUV is expected to reach a range of approximately 410 miles.\n\nIt's important to remember that these are EPA estimates, and real-world range can vary depending on driving conditions, weather, and other factors.\n"
          },
          "metadata": {}
        },
        {
          "output_type": "stream",
          "name": "stdout",
          "text": [
            "\n",
            "📊 Search Results Used:\n"
          ]
        },
        {
          "output_type": "display_data",
          "data": {
            "text/plain": [
              "<IPython.core.display.HTML object>"
            ],
            "text/html": [
              "<style>\n",
              ".container {\n",
              "  align-items: center;\n",
              "  border-radius: 8px;\n",
              "  display: flex;\n",
              "  font-family: Google Sans, Roboto, sans-serif;\n",
              "  font-size: 14px;\n",
              "  line-height: 20px;\n",
              "  padding: 8px 12px;\n",
              "}\n",
              ".chip {\n",
              "  display: inline-block;\n",
              "  border: solid 1px;\n",
              "  border-radius: 16px;\n",
              "  min-width: 14px;\n",
              "  padding: 5px 16px;\n",
              "  text-align: center;\n",
              "  user-select: none;\n",
              "  margin: 0 8px;\n",
              "  -webkit-tap-highlight-color: transparent;\n",
              "}\n",
              ".carousel {\n",
              "  overflow: auto;\n",
              "  scrollbar-width: none;\n",
              "  white-space: nowrap;\n",
              "  margin-right: -12px;\n",
              "}\n",
              ".headline {\n",
              "  display: flex;\n",
              "  margin-right: 4px;\n",
              "}\n",
              ".gradient-container {\n",
              "  position: relative;\n",
              "}\n",
              ".gradient {\n",
              "  position: absolute;\n",
              "  transform: translate(3px, -9px);\n",
              "  height: 36px;\n",
              "  width: 9px;\n",
              "}\n",
              "@media (prefers-color-scheme: light) {\n",
              "  .container {\n",
              "    background-color: #fafafa;\n",
              "    box-shadow: 0 0 0 1px #0000000f;\n",
              "  }\n",
              "  .headline-label {\n",
              "    color: #1f1f1f;\n",
              "  }\n",
              "  .chip {\n",
              "    background-color: #ffffff;\n",
              "    border-color: #d2d2d2;\n",
              "    color: #5e5e5e;\n",
              "    text-decoration: none;\n",
              "  }\n",
              "  .chip:hover {\n",
              "    background-color: #f2f2f2;\n",
              "  }\n",
              "  .chip:focus {\n",
              "    background-color: #f2f2f2;\n",
              "  }\n",
              "  .chip:active {\n",
              "    background-color: #d8d8d8;\n",
              "    border-color: #b6b6b6;\n",
              "  }\n",
              "  .logo-dark {\n",
              "    display: none;\n",
              "  }\n",
              "  .gradient {\n",
              "    background: linear-gradient(90deg, #fafafa 15%, #fafafa00 100%);\n",
              "  }\n",
              "}\n",
              "@media (prefers-color-scheme: dark) {\n",
              "  .container {\n",
              "    background-color: #1f1f1f;\n",
              "    box-shadow: 0 0 0 1px #ffffff26;\n",
              "  }\n",
              "  .headline-label {\n",
              "    color: #fff;\n",
              "  }\n",
              "  .chip {\n",
              "    background-color: #2c2c2c;\n",
              "    border-color: #3c4043;\n",
              "    color: #fff;\n",
              "    text-decoration: none;\n",
              "  }\n",
              "  .chip:hover {\n",
              "    background-color: #353536;\n",
              "  }\n",
              "  .chip:focus {\n",
              "    background-color: #353536;\n",
              "  }\n",
              "  .chip:active {\n",
              "    background-color: #464849;\n",
              "    border-color: #53575b;\n",
              "  }\n",
              "  .logo-light {\n",
              "    display: none;\n",
              "  }\n",
              "  .gradient {\n",
              "    background: linear-gradient(90deg, #1f1f1f 15%, #1f1f1f00 100%);\n",
              "  }\n",
              "}\n",
              "</style>\n",
              "<div class=\"container\">\n",
              "  <div class=\"headline\">\n",
              "    <svg class=\"logo-light\" width=\"18\" height=\"18\" viewBox=\"9 9 35 35\" fill=\"none\" xmlns=\"http://www.w3.org/2000/svg\">\n",
              "      <path fill-rule=\"evenodd\" clip-rule=\"evenodd\" d=\"M42.8622 27.0064C42.8622 25.7839 42.7525 24.6084 42.5487 23.4799H26.3109V30.1568H35.5897C35.1821 32.3041 33.9596 34.1222 32.1258 35.3448V39.6864H37.7213C40.9814 36.677 42.8622 32.2571 42.8622 27.0064V27.0064Z\" fill=\"#4285F4\"/>\n",
              "      <path fill-rule=\"evenodd\" clip-rule=\"evenodd\" d=\"M26.3109 43.8555C30.9659 43.8555 34.8687 42.3195 37.7213 39.6863L32.1258 35.3447C30.5898 36.3792 28.6306 37.0061 26.3109 37.0061C21.8282 37.0061 18.0195 33.9811 16.6559 29.906H10.9194V34.3573C13.7563 39.9841 19.5712 43.8555 26.3109 43.8555V43.8555Z\" fill=\"#34A853\"/>\n",
              "      <path fill-rule=\"evenodd\" clip-rule=\"evenodd\" d=\"M16.6559 29.8904C16.3111 28.8559 16.1074 27.7588 16.1074 26.6146C16.1074 25.4704 16.3111 24.3733 16.6559 23.3388V18.8875H10.9194C9.74388 21.2072 9.06992 23.8247 9.06992 26.6146C9.06992 29.4045 9.74388 32.022 10.9194 34.3417L15.3864 30.8621L16.6559 29.8904V29.8904Z\" fill=\"#FBBC05\"/>\n",
              "      <path fill-rule=\"evenodd\" clip-rule=\"evenodd\" d=\"M26.3109 16.2386C28.85 16.2386 31.107 17.1164 32.9095 18.8091L37.8466 13.8719C34.853 11.082 30.9659 9.3736 26.3109 9.3736C19.5712 9.3736 13.7563 13.245 10.9194 18.8875L16.6559 23.3388C18.0195 19.2636 21.8282 16.2386 26.3109 16.2386V16.2386Z\" fill=\"#EA4335\"/>\n",
              "    </svg>\n",
              "    <svg class=\"logo-dark\" width=\"18\" height=\"18\" viewBox=\"0 0 48 48\" xmlns=\"http://www.w3.org/2000/svg\">\n",
              "      <circle cx=\"24\" cy=\"23\" fill=\"#FFF\" r=\"22\"/>\n",
              "      <path d=\"M33.76 34.26c2.75-2.56 4.49-6.37 4.49-11.26 0-.89-.08-1.84-.29-3H24.01v5.99h8.03c-.4 2.02-1.5 3.56-3.07 4.56v.75l3.91 2.97h.88z\" fill=\"#4285F4\"/>\n",
              "      <path d=\"M15.58 25.77A8.845 8.845 0 0 0 24 31.86c1.92 0 3.62-.46 4.97-1.31l4.79 3.71C31.14 36.7 27.65 38 24 38c-5.93 0-11.01-3.4-13.45-8.36l.17-1.01 4.06-2.85h.8z\" fill=\"#34A853\"/>\n",
              "      <path d=\"M15.59 20.21a8.864 8.864 0 0 0 0 5.58l-5.03 3.86c-.98-2-1.53-4.25-1.53-6.64 0-2.39.55-4.64 1.53-6.64l1-.22 3.81 2.98.22 1.08z\" fill=\"#FBBC05\"/>\n",
              "      <path d=\"M24 14.14c2.11 0 4.02.75 5.52 1.98l4.36-4.36C31.22 9.43 27.81 8 24 8c-5.93 0-11.01 3.4-13.45 8.36l5.03 3.85A8.86 8.86 0 0 1 24 14.14z\" fill=\"#EA4335\"/>\n",
              "    </svg>\n",
              "    <div class=\"gradient-container\"><div class=\"gradient\"></div></div>\n",
              "  </div>\n",
              "  <div class=\"carousel\">\n",
              "    <a class=\"chip\" href=\"https://vertexaisearch.cloud.google.com/grounding-api-redirect/AQXblrzweCASzRfd6iVpQYdAYXTi8bEkeupnpujPC3OGehuB38jjcQdw9oL7EoFWNt2Hj7dGzH1DGlKYKF2vy0dqRU-Iop68uadgFyFBm2aaRQhut0YuJ3dd1bvqIjTAUb9g3G_dFwISfaYouLydVXuVflMFnalAqOxKjP1NfiG-icSkf2JW4uZQ0r_8EW7xA-thCbpEzSsyziZibf6rwI38s5Rx2t-is3p8sKHGeehH1g==\">top 3 electric vehicles longest range 2025</a>\n",
              "  </div>\n",
              "</div>\n"
            ]
          },
          "metadata": {}
        },
        {
          "output_type": "stream",
          "name": "stdout",
          "text": [
            "\n",
            "📝 Follow-up Query: 'How much do they cost?'\n"
          ]
        },
        {
          "output_type": "display_data",
          "data": {
            "text/plain": [
              "<IPython.core.display.Markdown object>"
            ],
            "text/markdown": "Here's an overview of the estimated pricing for the 2025 models of the electric vehicles you asked about:\n\n1.  **Lucid Air:** The Lucid Air has several trims, with varying prices. The base Pure model starts around \\$71,400, while the Grand Touring trim can reach \\$110,900.\n\n2.  **Chevrolet Silverado EV:** The 2025 Chevrolet Silverado EV has a starting price of around \\$58,995. However, the RST trim with extended range can cost around \\$97,895.\n\n3.  **Rivian R1S:** The base Dual-Motor model starts at \\$77,700, while the Tri-Motor Max Pack configuration begins at \\$107,700. A Quad-Motor Max Pack is estimated to cost \\$130,000.\n\nKeep in mind that these are starting prices, and the final cost can vary depending on the specific configuration, options, and any applicable incentives or tax credits.\n"
          },
          "metadata": {}
        },
        {
          "output_type": "stream",
          "name": "stdout",
          "text": [
            "\n",
            "📊 Search Results Used:\n"
          ]
        },
        {
          "output_type": "display_data",
          "data": {
            "text/plain": [
              "<IPython.core.display.HTML object>"
            ],
            "text/html": [
              "<style>\n",
              ".container {\n",
              "  align-items: center;\n",
              "  border-radius: 8px;\n",
              "  display: flex;\n",
              "  font-family: Google Sans, Roboto, sans-serif;\n",
              "  font-size: 14px;\n",
              "  line-height: 20px;\n",
              "  padding: 8px 12px;\n",
              "}\n",
              ".chip {\n",
              "  display: inline-block;\n",
              "  border: solid 1px;\n",
              "  border-radius: 16px;\n",
              "  min-width: 14px;\n",
              "  padding: 5px 16px;\n",
              "  text-align: center;\n",
              "  user-select: none;\n",
              "  margin: 0 8px;\n",
              "  -webkit-tap-highlight-color: transparent;\n",
              "}\n",
              ".carousel {\n",
              "  overflow: auto;\n",
              "  scrollbar-width: none;\n",
              "  white-space: nowrap;\n",
              "  margin-right: -12px;\n",
              "}\n",
              ".headline {\n",
              "  display: flex;\n",
              "  margin-right: 4px;\n",
              "}\n",
              ".gradient-container {\n",
              "  position: relative;\n",
              "}\n",
              ".gradient {\n",
              "  position: absolute;\n",
              "  transform: translate(3px, -9px);\n",
              "  height: 36px;\n",
              "  width: 9px;\n",
              "}\n",
              "@media (prefers-color-scheme: light) {\n",
              "  .container {\n",
              "    background-color: #fafafa;\n",
              "    box-shadow: 0 0 0 1px #0000000f;\n",
              "  }\n",
              "  .headline-label {\n",
              "    color: #1f1f1f;\n",
              "  }\n",
              "  .chip {\n",
              "    background-color: #ffffff;\n",
              "    border-color: #d2d2d2;\n",
              "    color: #5e5e5e;\n",
              "    text-decoration: none;\n",
              "  }\n",
              "  .chip:hover {\n",
              "    background-color: #f2f2f2;\n",
              "  }\n",
              "  .chip:focus {\n",
              "    background-color: #f2f2f2;\n",
              "  }\n",
              "  .chip:active {\n",
              "    background-color: #d8d8d8;\n",
              "    border-color: #b6b6b6;\n",
              "  }\n",
              "  .logo-dark {\n",
              "    display: none;\n",
              "  }\n",
              "  .gradient {\n",
              "    background: linear-gradient(90deg, #fafafa 15%, #fafafa00 100%);\n",
              "  }\n",
              "}\n",
              "@media (prefers-color-scheme: dark) {\n",
              "  .container {\n",
              "    background-color: #1f1f1f;\n",
              "    box-shadow: 0 0 0 1px #ffffff26;\n",
              "  }\n",
              "  .headline-label {\n",
              "    color: #fff;\n",
              "  }\n",
              "  .chip {\n",
              "    background-color: #2c2c2c;\n",
              "    border-color: #3c4043;\n",
              "    color: #fff;\n",
              "    text-decoration: none;\n",
              "  }\n",
              "  .chip:hover {\n",
              "    background-color: #353536;\n",
              "  }\n",
              "  .chip:focus {\n",
              "    background-color: #353536;\n",
              "  }\n",
              "  .chip:active {\n",
              "    background-color: #464849;\n",
              "    border-color: #53575b;\n",
              "  }\n",
              "  .logo-light {\n",
              "    display: none;\n",
              "  }\n",
              "  .gradient {\n",
              "    background: linear-gradient(90deg, #1f1f1f 15%, #1f1f1f00 100%);\n",
              "  }\n",
              "}\n",
              "</style>\n",
              "<div class=\"container\">\n",
              "  <div class=\"headline\">\n",
              "    <svg class=\"logo-light\" width=\"18\" height=\"18\" viewBox=\"9 9 35 35\" fill=\"none\" xmlns=\"http://www.w3.org/2000/svg\">\n",
              "      <path fill-rule=\"evenodd\" clip-rule=\"evenodd\" d=\"M42.8622 27.0064C42.8622 25.7839 42.7525 24.6084 42.5487 23.4799H26.3109V30.1568H35.5897C35.1821 32.3041 33.9596 34.1222 32.1258 35.3448V39.6864H37.7213C40.9814 36.677 42.8622 32.2571 42.8622 27.0064V27.0064Z\" fill=\"#4285F4\"/>\n",
              "      <path fill-rule=\"evenodd\" clip-rule=\"evenodd\" d=\"M26.3109 43.8555C30.9659 43.8555 34.8687 42.3195 37.7213 39.6863L32.1258 35.3447C30.5898 36.3792 28.6306 37.0061 26.3109 37.0061C21.8282 37.0061 18.0195 33.9811 16.6559 29.906H10.9194V34.3573C13.7563 39.9841 19.5712 43.8555 26.3109 43.8555V43.8555Z\" fill=\"#34A853\"/>\n",
              "      <path fill-rule=\"evenodd\" clip-rule=\"evenodd\" d=\"M16.6559 29.8904C16.3111 28.8559 16.1074 27.7588 16.1074 26.6146C16.1074 25.4704 16.3111 24.3733 16.6559 23.3388V18.8875H10.9194C9.74388 21.2072 9.06992 23.8247 9.06992 26.6146C9.06992 29.4045 9.74388 32.022 10.9194 34.3417L15.3864 30.8621L16.6559 29.8904V29.8904Z\" fill=\"#FBBC05\"/>\n",
              "      <path fill-rule=\"evenodd\" clip-rule=\"evenodd\" d=\"M26.3109 16.2386C28.85 16.2386 31.107 17.1164 32.9095 18.8091L37.8466 13.8719C34.853 11.082 30.9659 9.3736 26.3109 9.3736C19.5712 9.3736 13.7563 13.245 10.9194 18.8875L16.6559 23.3388C18.0195 19.2636 21.8282 16.2386 26.3109 16.2386V16.2386Z\" fill=\"#EA4335\"/>\n",
              "    </svg>\n",
              "    <svg class=\"logo-dark\" width=\"18\" height=\"18\" viewBox=\"0 0 48 48\" xmlns=\"http://www.w3.org/2000/svg\">\n",
              "      <circle cx=\"24\" cy=\"23\" fill=\"#FFF\" r=\"22\"/>\n",
              "      <path d=\"M33.76 34.26c2.75-2.56 4.49-6.37 4.49-11.26 0-.89-.08-1.84-.29-3H24.01v5.99h8.03c-.4 2.02-1.5 3.56-3.07 4.56v.75l3.91 2.97h.88z\" fill=\"#4285F4\"/>\n",
              "      <path d=\"M15.58 25.77A8.845 8.845 0 0 0 24 31.86c1.92 0 3.62-.46 4.97-1.31l4.79 3.71C31.14 36.7 27.65 38 24 38c-5.93 0-11.01-3.4-13.45-8.36l.17-1.01 4.06-2.85h.8z\" fill=\"#34A853\"/>\n",
              "      <path d=\"M15.59 20.21a8.864 8.864 0 0 0 0 5.58l-5.03 3.86c-.98-2-1.53-4.25-1.53-6.64 0-2.39.55-4.64 1.53-6.64l1-.22 3.81 2.98.22 1.08z\" fill=\"#FBBC05\"/>\n",
              "      <path d=\"M24 14.14c2.11 0 4.02.75 5.52 1.98l4.36-4.36C31.22 9.43 27.81 8 24 8c-5.93 0-11.01 3.4-13.45 8.36l5.03 3.85A8.86 8.86 0 0 1 24 14.14z\" fill=\"#EA4335\"/>\n",
              "    </svg>\n",
              "    <div class=\"gradient-container\"><div class=\"gradient\"></div></div>\n",
              "  </div>\n",
              "  <div class=\"carousel\">\n",
              "    <a class=\"chip\" href=\"https://vertexaisearch.cloud.google.com/grounding-api-redirect/AQXblrx34HQagT6a2AMuSFo_yjr-zsYpNxAqUCL78fLI-vx0BOYQXAZGhl9HyjgmPjBrmFqk6Hj2zu1wqm9D6Ufj6R4v-oBLIGv-eq-KsEAoz_sIcoasZUG1B5J80ovQAGIyNKLIL8bmdANAP6sL4QHliex0w1RuEERqjMawSzDsXDMtejhRZGO9sEzTbvA2aEu5uKdK1zH8dAfxMs6aLpwjhPpN3gOA\">Chevrolet Silverado EV price 2025</a>\n",
              "    <a class=\"chip\" href=\"https://vertexaisearch.cloud.google.com/grounding-api-redirect/AQXblrwRhvxMmC6tK1umWcYCVrM4INnkuM5oxAvGYtVianWDD-x5SgDRVuB0_CKaEg15geLtRF1c6cQsQ7jl0wWpQ19wrH4aZixC9FAWKW9H1iUoHAiMhSZoXsHePV8VkEt0JxkwapXJ4SVHByAj4-Zv_g0LJ1N8Ib9pxLjV7d72r1gpFZSIgnigsitmbn5AylxQBdshmO02RS3vaX8oxcrEMFRuGuCb2A==\">Lucid Air Grand Touring price 2025</a>\n",
              "    <a class=\"chip\" href=\"https://vertexaisearch.cloud.google.com/grounding-api-redirect/AQXblrwDCGO1LfpQ-ScQD8o3dzg8heKqj_3rauIIoLMXc40rcmfiVN8vxrYqeuPx42vB8TVew2OZ7CdBUw77kefAj_G7vVDtV9qFgxjzQT7ufGFaGrZISGIhirGDyXW0iOsRRO_ezO2LaEE7tVDPrgkZs94jOiF7zkhCSHaNzVmEtsQnlLDd6kUTcVYBnIh71JPcg7cWGr4-Jmrm\">Rivian R1S price 2025</a>\n",
              "  </div>\n",
              "</div>\n"
            ]
          },
          "metadata": {}
        },
        {
          "output_type": "stream",
          "name": "stdout",
          "text": [
            "\n",
            "📝 Another Follow-up: 'Compare their charging times'\n"
          ]
        },
        {
          "output_type": "display_data",
          "data": {
            "text/plain": [
              "<IPython.core.display.Markdown object>"
            ],
            "text/markdown": "Okay, here's a comparison of the charging times for the Lucid Air, Chevrolet Silverado EV, and Rivian R1S, considering different charging methods:\n\n**Lucid Air**\n\n*   **DC Fast Charging:** With a DC fast charging station, the Lucid Air Pure and Touring models have a maximum charging capacity of 200 kW, meaning it would take approximately 25 minutes to charge the Lucid Air Pure and 26 minutes to charge the Lucid Air Touring from 10 to 80 percent. The Lucid Air Grand Touring and Dream Editions have a maximum charging capacity of 300 kW, meaning it would take around 22 minutes to charge the Lucid Air Grand Touring and 23 minutes to charge the Lucid Air Dream from 10 to 80 percent.\n*   **Level 2 Charging (22 kW):** Using a standard AC charging station, all models of the Lucid Air have a maximum charging capacity of 22 kilowatts (kW), meaning it would take around 4 hours and 26 minutes to charge the Lucid Air Pure, 4 hours and 38 minutes to charge the Lucid Air Touring, 5 hours and 39 minutes to charge the Lucid Air Grand Touring, and 5 hours and 57 minutes to charge the Lucid Air Dream Editions P and R from 0 to 100 percent.\n*   **Level 2 Charging (7kW):** Charging the Lucid Motors Lucid Air Pure takes approximately 11 hours and 54 minutes to charge from zero to full using a typical 7kW home charging point.\n*   **Home Charging:** With the Lucid Connected Home Charging Station, you can get up to 80 miles of range per hour of charge.\n*   **Lucid's Wunderbox:** The Lucid Air's built-in Wunderbox is compatible with almost all public charging stations. With 900V+ architecture, it's able to fill up to 400 km of charge in about 15 minutes.\n\n**Chevrolet Silverado EV**\n\n*   **DC Fast Charging:** The Silverado EV supports DC fast charging up to 350 kW, allowing drivers to replenish 100 miles of range in just 10 minutes at public charging stations. A charging session from 10 to 80% SOC took over 40.5 minutes.\n*   **Level 2 Charging:** Expect the charging time to range from eight to 10 hours for a full charge.\n*   **Level 1 Charging:** It might extend the charging time to 24 to 48 hours.\n\n**Rivian R1S**\n\n*   **DC Fast Charging:** The vehicle is equipped with a DC fast-charging capacity that supports speeds of over 200 kW, delivering up to 140 miles of range in just 20 minutes. Rivian claims in the not-too-distant future, it will support DC speeds of 300 kW.\n*   **Level 2 Charging:** With an 11.5 kW capability for overnight charging that can deliver up to 16 miles of charge each hour from a 240V outlet. Using a 48-amp charger, Rivian vehicles will add about 25 miles of range per hour and fully recharge in about 12 hours.\n*   **Rivian Wall Charger:** Can charge as much as 25 miles per hour.\n"
          },
          "metadata": {}
        },
        {
          "output_type": "stream",
          "name": "stdout",
          "text": [
            "\n",
            "📊 Search Results Used:\n"
          ]
        },
        {
          "output_type": "display_data",
          "data": {
            "text/plain": [
              "<IPython.core.display.HTML object>"
            ],
            "text/html": [
              "<style>\n",
              ".container {\n",
              "  align-items: center;\n",
              "  border-radius: 8px;\n",
              "  display: flex;\n",
              "  font-family: Google Sans, Roboto, sans-serif;\n",
              "  font-size: 14px;\n",
              "  line-height: 20px;\n",
              "  padding: 8px 12px;\n",
              "}\n",
              ".chip {\n",
              "  display: inline-block;\n",
              "  border: solid 1px;\n",
              "  border-radius: 16px;\n",
              "  min-width: 14px;\n",
              "  padding: 5px 16px;\n",
              "  text-align: center;\n",
              "  user-select: none;\n",
              "  margin: 0 8px;\n",
              "  -webkit-tap-highlight-color: transparent;\n",
              "}\n",
              ".carousel {\n",
              "  overflow: auto;\n",
              "  scrollbar-width: none;\n",
              "  white-space: nowrap;\n",
              "  margin-right: -12px;\n",
              "}\n",
              ".headline {\n",
              "  display: flex;\n",
              "  margin-right: 4px;\n",
              "}\n",
              ".gradient-container {\n",
              "  position: relative;\n",
              "}\n",
              ".gradient {\n",
              "  position: absolute;\n",
              "  transform: translate(3px, -9px);\n",
              "  height: 36px;\n",
              "  width: 9px;\n",
              "}\n",
              "@media (prefers-color-scheme: light) {\n",
              "  .container {\n",
              "    background-color: #fafafa;\n",
              "    box-shadow: 0 0 0 1px #0000000f;\n",
              "  }\n",
              "  .headline-label {\n",
              "    color: #1f1f1f;\n",
              "  }\n",
              "  .chip {\n",
              "    background-color: #ffffff;\n",
              "    border-color: #d2d2d2;\n",
              "    color: #5e5e5e;\n",
              "    text-decoration: none;\n",
              "  }\n",
              "  .chip:hover {\n",
              "    background-color: #f2f2f2;\n",
              "  }\n",
              "  .chip:focus {\n",
              "    background-color: #f2f2f2;\n",
              "  }\n",
              "  .chip:active {\n",
              "    background-color: #d8d8d8;\n",
              "    border-color: #b6b6b6;\n",
              "  }\n",
              "  .logo-dark {\n",
              "    display: none;\n",
              "  }\n",
              "  .gradient {\n",
              "    background: linear-gradient(90deg, #fafafa 15%, #fafafa00 100%);\n",
              "  }\n",
              "}\n",
              "@media (prefers-color-scheme: dark) {\n",
              "  .container {\n",
              "    background-color: #1f1f1f;\n",
              "    box-shadow: 0 0 0 1px #ffffff26;\n",
              "  }\n",
              "  .headline-label {\n",
              "    color: #fff;\n",
              "  }\n",
              "  .chip {\n",
              "    background-color: #2c2c2c;\n",
              "    border-color: #3c4043;\n",
              "    color: #fff;\n",
              "    text-decoration: none;\n",
              "  }\n",
              "  .chip:hover {\n",
              "    background-color: #353536;\n",
              "  }\n",
              "  .chip:focus {\n",
              "    background-color: #353536;\n",
              "  }\n",
              "  .chip:active {\n",
              "    background-color: #464849;\n",
              "    border-color: #53575b;\n",
              "  }\n",
              "  .logo-light {\n",
              "    display: none;\n",
              "  }\n",
              "  .gradient {\n",
              "    background: linear-gradient(90deg, #1f1f1f 15%, #1f1f1f00 100%);\n",
              "  }\n",
              "}\n",
              "</style>\n",
              "<div class=\"container\">\n",
              "  <div class=\"headline\">\n",
              "    <svg class=\"logo-light\" width=\"18\" height=\"18\" viewBox=\"9 9 35 35\" fill=\"none\" xmlns=\"http://www.w3.org/2000/svg\">\n",
              "      <path fill-rule=\"evenodd\" clip-rule=\"evenodd\" d=\"M42.8622 27.0064C42.8622 25.7839 42.7525 24.6084 42.5487 23.4799H26.3109V30.1568H35.5897C35.1821 32.3041 33.9596 34.1222 32.1258 35.3448V39.6864H37.7213C40.9814 36.677 42.8622 32.2571 42.8622 27.0064V27.0064Z\" fill=\"#4285F4\"/>\n",
              "      <path fill-rule=\"evenodd\" clip-rule=\"evenodd\" d=\"M26.3109 43.8555C30.9659 43.8555 34.8687 42.3195 37.7213 39.6863L32.1258 35.3447C30.5898 36.3792 28.6306 37.0061 26.3109 37.0061C21.8282 37.0061 18.0195 33.9811 16.6559 29.906H10.9194V34.3573C13.7563 39.9841 19.5712 43.8555 26.3109 43.8555V43.8555Z\" fill=\"#34A853\"/>\n",
              "      <path fill-rule=\"evenodd\" clip-rule=\"evenodd\" d=\"M16.6559 29.8904C16.3111 28.8559 16.1074 27.7588 16.1074 26.6146C16.1074 25.4704 16.3111 24.3733 16.6559 23.3388V18.8875H10.9194C9.74388 21.2072 9.06992 23.8247 9.06992 26.6146C9.06992 29.4045 9.74388 32.022 10.9194 34.3417L15.3864 30.8621L16.6559 29.8904V29.8904Z\" fill=\"#FBBC05\"/>\n",
              "      <path fill-rule=\"evenodd\" clip-rule=\"evenodd\" d=\"M26.3109 16.2386C28.85 16.2386 31.107 17.1164 32.9095 18.8091L37.8466 13.8719C34.853 11.082 30.9659 9.3736 26.3109 9.3736C19.5712 9.3736 13.7563 13.245 10.9194 18.8875L16.6559 23.3388C18.0195 19.2636 21.8282 16.2386 26.3109 16.2386V16.2386Z\" fill=\"#EA4335\"/>\n",
              "    </svg>\n",
              "    <svg class=\"logo-dark\" width=\"18\" height=\"18\" viewBox=\"0 0 48 48\" xmlns=\"http://www.w3.org/2000/svg\">\n",
              "      <circle cx=\"24\" cy=\"23\" fill=\"#FFF\" r=\"22\"/>\n",
              "      <path d=\"M33.76 34.26c2.75-2.56 4.49-6.37 4.49-11.26 0-.89-.08-1.84-.29-3H24.01v5.99h8.03c-.4 2.02-1.5 3.56-3.07 4.56v.75l3.91 2.97h.88z\" fill=\"#4285F4\"/>\n",
              "      <path d=\"M15.58 25.77A8.845 8.845 0 0 0 24 31.86c1.92 0 3.62-.46 4.97-1.31l4.79 3.71C31.14 36.7 27.65 38 24 38c-5.93 0-11.01-3.4-13.45-8.36l.17-1.01 4.06-2.85h.8z\" fill=\"#34A853\"/>\n",
              "      <path d=\"M15.59 20.21a8.864 8.864 0 0 0 0 5.58l-5.03 3.86c-.98-2-1.53-4.25-1.53-6.64 0-2.39.55-4.64 1.53-6.64l1-.22 3.81 2.98.22 1.08z\" fill=\"#FBBC05\"/>\n",
              "      <path d=\"M24 14.14c2.11 0 4.02.75 5.52 1.98l4.36-4.36C31.22 9.43 27.81 8 24 8c-5.93 0-11.01 3.4-13.45 8.36l5.03 3.85A8.86 8.86 0 0 1 24 14.14z\" fill=\"#EA4335\"/>\n",
              "    </svg>\n",
              "    <div class=\"gradient-container\"><div class=\"gradient\"></div></div>\n",
              "  </div>\n",
              "  <div class=\"carousel\">\n",
              "    <a class=\"chip\" href=\"https://vertexaisearch.cloud.google.com/grounding-api-redirect/AQXblrxao_PdsmpB4Ac7cy-Y-xpEEN1akgO-La_qN-5qfZimv6GtobtImglIdQDiz6liYg_NrW2uiRfNkV1C2Aa6g4N3ODlb-jMdzYwne-ZVTrCNVjMZrfC6K-1MK6pFlgYoCZWcKde1ezxbucNr7i1p-A-tlg5nxUPHNAXxOJzPVgLasvDBatsGRpSMBxnw6HybQ0eW80B7xh5jpfaGRg==\">Rivian R1S charging time</a>\n",
              "    <a class=\"chip\" href=\"https://vertexaisearch.cloud.google.com/grounding-api-redirect/AQXblrzI2w3OCi5UXhNEIkHbtc_v0JHcQjSlcfmkpUAFiyEKfTtlEW-XUidzcqhkZ_ADVkWPwpvSxjs563EuEfOdoJfNZMIJsZ1iVOzC7E9npg22XSoOm-2DHEHhAjpYL2Xss2g9MYyC3E6dKOHQ38PHMMhQKnd3C44xwiFFyQAsxuFLrIQU8KPIEsiBDmHciqNLqeIx9NwRlp5ZL6Xa\">Lucid Air charging time</a>\n",
              "    <a class=\"chip\" href=\"https://vertexaisearch.cloud.google.com/grounding-api-redirect/AQXblrwu2Hp9H8CPHlchw8Ckaq-zATZoAYYMyNGMv-HoaWr_Xu2e3R3Rbo2DihmWyTeEddonMwvj1-wXaC71ktYH5rhc3ScONJf0A_N956GnWxNfixk9PIaDFE17ZCX70cBo2Tzy0YcDBwMrqrnJ4EDhLZ9mRPNL8M3AFC0fsySAFL33GTvqr-oRfF9cRdB8_xnU_eJdLD6JURHAyo9cAjnW1SNJFJBgQgRrvg==\">Chevrolet Silverado EV charging time</a>\n",
              "    <a class=\"chip\" href=\"https://vertexaisearch.cloud.google.com/grounding-api-redirect/AQXblrzzPCbQPyBX-F6Mtrt7WKH4tJFMaQvlkubDfGVaDpU8xRPS0x-Nce4L8P5c0CQNp5GbLzxLdBapqDXmFZNJE_6KJjcOMT_fHrKZsnj6Qy7UtArzVOexpNrUBVPMG6jsXfCuPO11DFABK63hvQhYgeDm4y2bZPRGBB2IS8TtkPwl3cLfNJRyTMcgs9CxtMY60_HGx1oTnrKbelcdMA==\">fastest charging EV 2025</a>\n",
              "  </div>\n",
              "</div>\n"
            ]
          },
          "metadata": {}
        },
        {
          "output_type": "stream",
          "name": "stdout",
          "text": [
            "\n",
            "📊 Search Usage Visualization:\n"
          ]
        },
        {
          "output_type": "display_data",
          "data": {
            "text/plain": [
              "<Figure size 1000x500 with 1 Axes>"
            ],
            "image/png": "[encoded data removed]"
          },
          "metadata": {}
        },
        {
          "output_type": "stream",
          "name": "stdout",
          "text": [
            "\n",
            "# Notice how Gemini maintains context about which vehicles we're discussing\n",
            "# while retrieving fresh information for each question.\n"
          ]
        }
      ]
    },
    {
      "cell_type": "markdown",
      "source": [
        "# Combining Search with Data Visualization\n",
        "## 6. Creating Data Visualizations with Search-Sourced Data"
      ],
      "metadata": {
        "id": "7pY6_atuyvQP"
      }
    },
    {
      "cell_type": "code",
      "source": [
        "print(\"\\n--- 6. Data Visualization with Search-Sourced Data ---\")\n",
        "print(\"# Gemini can use search to find data and generate code to visualize it\")\n",
        "\n",
        "# Create a new chat with search enabled for data visualization\n",
        "viz_chat = client.chats.create(model=MODEL, config={'tools': [search_tool]})\n",
        "\n",
        "# Explicitly ask for Python code to visualize the data\n",
        "viz_prompt = \"\"\"\n",
        "Find the GDP growth rates for the world's top 5 economies for the most recent year.\n",
        "Then write executable Python code that:\n",
        "1. Creates a pandas DataFrame with this data\n",
        "2. Uses matplotlib to generate a bar chart comparing the growth rates\n",
        "3. Includes proper labels, title, and color coding\n",
        "4. Formats the chart for clear visualization\n",
        "\n",
        "Make sure the code is complete and can be executed directly in a Jupyter notebook without modification.\n",
        "\"\"\"\n",
        "\n",
        "print(f\"\\n📝 Query: '{viz_prompt}'\")\n",
        "viz_response = viz_chat.send_message(viz_prompt)\n",
        "show_parts(viz_response)\n",
        "\n",
        "print(\"\\n# The code above can be copied into a code cell and executed to create the visualization.\")\n",
        "print(\"# Gemini has sourced recent economic data and created visualization code.\")"
      ],
      "metadata": {
        "colab": {
          "base_uri": "https://localhost:8080/",
          "height": 1000
        },
        "id": "ptmwb_5Oy0QM",
        "outputId": "defdc4f3-96bc-475f-b87e-8e43b86cbbf8"
      },
      "execution_count": 14,
      "outputs": [
        {
          "output_type": "stream",
          "name": "stdout",
          "text": [
            "\n",
            "--- 6. Data Visualization with Search-Sourced Data ---\n",
            "# Gemini can use search to find data and generate code to visualize it\n",
            "\n",
            "📝 Query: '\n",
            "Find the GDP growth rates for the world's top 5 economies for the most recent year.\n",
            "Then write executable Python code that:\n",
            "1. Creates a pandas DataFrame with this data\n",
            "2. Uses matplotlib to generate a bar chart comparing the growth rates\n",
            "3. Includes proper labels, title, and color coding\n",
            "4. Formats the chart for clear visualization\n",
            "\n",
            "Make sure the code is complete and can be executed directly in a Jupyter notebook without modification.\n",
            "'\n"
          ]
        },
        {
          "output_type": "display_data",
          "data": {
            "text/plain": [
              "<IPython.core.display.Markdown object>"
            ],
            "text/markdown": "Okay, I will find the GDP growth rates for the world's top 5 economies for the most recent year, create a Pandas DataFrame with the data, generate a bar chart comparing the growth rates using Matplotlib, and format the chart for clear visualization.\n\n"
          },
          "metadata": {}
        },
        {
          "output_type": "display_data",
          "data": {
            "text/plain": [
              "<IPython.core.display.Markdown object>"
            ],
            "text/markdown": "Based on the search results, here's the GDP growth data and the Python code to generate the visualization:\n\n**Top 5 Economies (Nominal GDP) and their GDP Growth Rates (Most Recent Available Data - 2024)**\n\nBased on multiple sources, the top 5 economies are:\n\n1.  **United States:**  GDP Growth for 2024: 2.5% (Source: Trading Economics, Dec/24)\n2.  **China:** GDP Growth for 2024: 5.4% (Source: Trading Economics, Dec/24)\n3.  **Germany:** GDP Growth for 2024: -0.2% (Source: Trading Economics, Dec/24)\n4.  **Japan:** GDP Growth for 2024: 1.2% (Source: Trading Economics, Dec/24)\n5.  **India:** GDP Growth for 2024: 6.2% (Source: Trading Economics, Dec/24)\n\nHere's the Python code to create the DataFrame and the bar chart:\n\n"
          },
          "metadata": {}
        },
        {
          "output_type": "display_data",
          "data": {
            "text/plain": [
              "<IPython.core.display.Markdown object>"
            ],
            "text/markdown": "```python\nimport pandas as pd\nimport matplotlib.pyplot as plt\nimport numpy as np\n\n# Data\ndata = {'Country': ['United States', 'China', 'Germany', 'Japan', 'India'],\n        'GDP Growth Rate': [2.5, 5.4, -0.2, 1.2, 6.2]}\n\n# Create Pandas DataFrame\ndf = pd.DataFrame(data)\n\n# Sort the DataFrame by GDP Growth Rate for better visualization\ndf = df.sort_values(by='GDP Growth Rate', ascending=False)\n\n# Create Bar Chart\nplt.figure(figsize=(10, 6))  # Adjust figure size for better readability\nbars = plt.bar(df['Country'], df['GDP Growth Rate'], color=['green', 'royalblue', 'red', 'darkorange', 'purple'])\n\n# Add labels and title\nplt.xlabel('Country', fontsize=12)\nplt.ylabel('GDP Growth Rate (%)', fontsize=12)\nplt.title('GDP Growth Rates of Top 5 Economies (2024)', fontsize=14)\nplt.xticks(rotation=45, ha='right')  # Rotate x-axis labels for better readability\n\n# Add value labels on top of the bars\nfor bar in bars:\n    yval = bar.get_height()\n    plt.text(bar.get_x() + bar.get_width()/2, yval, round(yval, 1), ha='center', va='bottom')\n\n# Add grid lines for better readability\nplt.grid(axis='y', linestyle='--')\n\n# Remove top and right spines\nplt.gca().spines['top'].set_visible(False)\nplt.gca().spines['right'].set_visible(False)\n\n# Adjust layout to prevent labels from being cut off\nplt.tight_layout()\n\n# Show the plot\nplt.show()\n```"
          },
          "metadata": {}
        },
        {
          "output_type": "display_data",
          "data": {
            "text/plain": [
              "<IPython.core.display.Markdown object>"
            ],
            "text/markdown": "\n\n**Explanation:**\n\n1.  **Import Libraries:** Imports `pandas` for creating a DataFrame and `matplotlib.pyplot` for plotting.\n2.  **Data:** Defines a dictionary containing the country names and their corresponding GDP growth rates.\n3.  **Create DataFrame:** Creates a Pandas DataFrame from the dictionary.\n4.  **Sort DataFrame:** Sorts the DataFrame by 'GDP Growth Rate' in descending order to display the highest growth rate first.\n5.  **Create Bar Chart:**\n    *   Creates a figure and axes using `plt.subplots()`.\n    *   Generates a bar chart using `plt.bar()`, specifying the countries as x-axis values and GDP growth rates as y-axis values.  Sets custom colors for each bar.\n6.  **Labels and Title:** Adds labels to the x and y axes and sets the title of the chart.  Rotates the x-axis labels for better readability.\n7.  **Value Labels:** Iterates through the bars and adds the GDP growth rate value on top of each bar using `plt.text()`.\n8.  **Grid Lines:** Adds horizontal grid lines to improve readability.\n9.  **Remove Spines:**  Removes the top and right spines to make the chart cleaner.\n10. **Layout Adjustment:** Uses `plt.tight_layout()` to adjust the plot layout and prevent labels from overlapping or being cut off.\n11. **Show Plot:** Displays the generated bar chart using `plt.show()`.\n\nThis code will produce a bar chart that visually compares the GDP growth rates of the top 5 economies, with clear labels, a title, and appropriate color-coding for enhanced clarity. The value labels on top of the bars provide precise growth rate figures.\n"
          },
          "metadata": {}
        },
        {
          "output_type": "stream",
          "name": "stdout",
          "text": [
            "\n",
            "📊 Search Results Used:\n"
          ]
        },
        {
          "output_type": "display_data",
          "data": {
            "text/plain": [
              "<IPython.core.display.HTML object>"
            ],
            "text/html": [
              "<style>\n",
              ".container {\n",
              "  align-items: center;\n",
              "  border-radius: 8px;\n",
              "  display: flex;\n",
              "  font-family: Google Sans, Roboto, sans-serif;\n",
              "  font-size: 14px;\n",
              "  line-height: 20px;\n",
              "  padding: 8px 12px;\n",
              "}\n",
              ".chip {\n",
              "  display: inline-block;\n",
              "  border: solid 1px;\n",
              "  border-radius: 16px;\n",
              "  min-width: 14px;\n",
              "  padding: 5px 16px;\n",
              "  text-align: center;\n",
              "  user-select: none;\n",
              "  margin: 0 8px;\n",
              "  -webkit-tap-highlight-color: transparent;\n",
              "}\n",
              ".carousel {\n",
              "  overflow: auto;\n",
              "  scrollbar-width: none;\n",
              "  white-space: nowrap;\n",
              "  margin-right: -12px;\n",
              "}\n",
              ".headline {\n",
              "  display: flex;\n",
              "  margin-right: 4px;\n",
              "}\n",
              ".gradient-container {\n",
              "  position: relative;\n",
              "}\n",
              ".gradient {\n",
              "  position: absolute;\n",
              "  transform: translate(3px, -9px);\n",
              "  height: 36px;\n",
              "  width: 9px;\n",
              "}\n",
              "@media (prefers-color-scheme: light) {\n",
              "  .container {\n",
              "    background-color: #fafafa;\n",
              "    box-shadow: 0 0 0 1px #0000000f;\n",
              "  }\n",
              "  .headline-label {\n",
              "    color: #1f1f1f;\n",
              "  }\n",
              "  .chip {\n",
              "    background-color: #ffffff;\n",
              "    border-color: #d2d2d2;\n",
              "    color: #5e5e5e;\n",
              "    text-decoration: none;\n",
              "  }\n",
              "  .chip:hover {\n",
              "    background-color: #f2f2f2;\n",
              "  }\n",
              "  .chip:focus {\n",
              "    background-color: #f2f2f2;\n",
              "  }\n",
              "  .chip:active {\n",
              "    background-color: #d8d8d8;\n",
              "    border-color: #b6b6b6;\n",
              "  }\n",
              "  .logo-dark {\n",
              "    display: none;\n",
              "  }\n",
              "  .gradient {\n",
              "    background: linear-gradient(90deg, #fafafa 15%, #fafafa00 100%);\n",
              "  }\n",
              "}\n",
              "@media (prefers-color-scheme: dark) {\n",
              "  .container {\n",
              "    background-color: #1f1f1f;\n",
              "    box-shadow: 0 0 0 1px #ffffff26;\n",
              "  }\n",
              "  .headline-label {\n",
              "    color: #fff;\n",
              "  }\n",
              "  .chip {\n",
              "    background-color: #2c2c2c;\n",
              "    border-color: #3c4043;\n",
              "    color: #fff;\n",
              "    text-decoration: none;\n",
              "  }\n",
              "  .chip:hover {\n",
              "    background-color: #353536;\n",
              "  }\n",
              "  .chip:focus {\n",
              "    background-color: #353536;\n",
              "  }\n",
              "  .chip:active {\n",
              "    background-color: #464849;\n",
              "    border-color: #53575b;\n",
              "  }\n",
              "  .logo-light {\n",
              "    display: none;\n",
              "  }\n",
              "  .gradient {\n",
              "    background: linear-gradient(90deg, #1f1f1f 15%, #1f1f1f00 100%);\n",
              "  }\n",
              "}\n",
              "</style>\n",
              "<div class=\"container\">\n",
              "  <div class=\"headline\">\n",
              "    <svg class=\"logo-light\" width=\"18\" height=\"18\" viewBox=\"9 9 35 35\" fill=\"none\" xmlns=\"http://www.w3.org/2000/svg\">\n",
              "      <path fill-rule=\"evenodd\" clip-rule=\"evenodd\" d=\"M42.8622 27.0064C42.8622 25.7839 42.7525 24.6084 42.5487 23.4799H26.3109V30.1568H35.5897C35.1821 32.3041 33.9596 34.1222 32.1258 35.3448V39.6864H37.7213C40.9814 36.677 42.8622 32.2571 42.8622 27.0064V27.0064Z\" fill=\"#4285F4\"/>\n",
              "      <path fill-rule=\"evenodd\" clip-rule=\"evenodd\" d=\"M26.3109 43.8555C30.9659 43.8555 34.8687 42.3195 37.7213 39.6863L32.1258 35.3447C30.5898 36.3792 28.6306 37.0061 26.3109 37.0061C21.8282 37.0061 18.0195 33.9811 16.6559 29.906H10.9194V34.3573C13.7563 39.9841 19.5712 43.8555 26.3109 43.8555V43.8555Z\" fill=\"#34A853\"/>\n",
              "      <path fill-rule=\"evenodd\" clip-rule=\"evenodd\" d=\"M16.6559 29.8904C16.3111 28.8559 16.1074 27.7588 16.1074 26.6146C16.1074 25.4704 16.3111 24.3733 16.6559 23.3388V18.8875H10.9194C9.74388 21.2072 9.06992 23.8247 9.06992 26.6146C9.06992 29.4045 9.74388 32.022 10.9194 34.3417L15.3864 30.8621L16.6559 29.8904V29.8904Z\" fill=\"#FBBC05\"/>\n",
              "      <path fill-rule=\"evenodd\" clip-rule=\"evenodd\" d=\"M26.3109 16.2386C28.85 16.2386 31.107 17.1164 32.9095 18.8091L37.8466 13.8719C34.853 11.082 30.9659 9.3736 26.3109 9.3736C19.5712 9.3736 13.7563 13.245 10.9194 18.8875L16.6559 23.3388C18.0195 19.2636 21.8282 16.2386 26.3109 16.2386V16.2386Z\" fill=\"#EA4335\"/>\n",
              "    </svg>\n",
              "    <svg class=\"logo-dark\" width=\"18\" height=\"18\" viewBox=\"0 0 48 48\" xmlns=\"http://www.w3.org/2000/svg\">\n",
              "      <circle cx=\"24\" cy=\"23\" fill=\"#FFF\" r=\"22\"/>\n",
              "      <path d=\"M33.76 34.26c2.75-2.56 4.49-6.37 4.49-11.26 0-.89-.08-1.84-.29-3H24.01v5.99h8.03c-.4 2.02-1.5 3.56-3.07 4.56v.75l3.91 2.97h.88z\" fill=\"#4285F4\"/>\n",
              "      <path d=\"M15.58 25.77A8.845 8.845 0 0 0 24 31.86c1.92 0 3.62-.46 4.97-1.31l4.79 3.71C31.14 36.7 27.65 38 24 38c-5.93 0-11.01-3.4-13.45-8.36l.17-1.01 4.06-2.85h.8z\" fill=\"#34A853\"/>\n",
              "      <path d=\"M15.59 20.21a8.864 8.864 0 0 0 0 5.58l-5.03 3.86c-.98-2-1.53-4.25-1.53-6.64 0-2.39.55-4.64 1.53-6.64l1-.22 3.81 2.98.22 1.08z\" fill=\"#FBBC05\"/>\n",
              "      <path d=\"M24 14.14c2.11 0 4.02.75 5.52 1.98l4.36-4.36C31.22 9.43 27.81 8 24 8c-5.93 0-11.01 3.4-13.45 8.36l5.03 3.85A8.86 8.86 0 0 1 24 14.14z\" fill=\"#EA4335\"/>\n",
              "    </svg>\n",
              "    <div class=\"gradient-container\"><div class=\"gradient\"></div></div>\n",
              "  </div>\n",
              "  <div class=\"carousel\">\n",
              "    <a class=\"chip\" href=\"https://vertexaisearch.cloud.google.com/grounding-api-redirect/AQXblrxdHmg6vfQhNY237AM0syUIyYKqUbHaz4YDlk4swcgkFUv-j3WoBIL-vR3sq_J9B1ofsmSlxxdUS6IsI8zvyUOZsl1zrCxwG1EpZp5-HlrxnulHXSb8QNnCnJ1_n09kCCGcoPm10_UXytxvsZ6ZC_ElRDMNPFq6CI6N0sJhQwzLQXvjqyxO8fxH9yBUXLiNu1aQ3h8S1F6dXEBxp81Uy2dHkhZkpTwyeWLxVeoAl0aduw==\">List of largest economies by GDP 2024 or 2023</a>\n",
              "    <a class=\"chip\" href=\"https://vertexaisearch.cloud.google.com/grounding-api-redirect/AQXblrymOie9_w1Ya3dIBEX7OyDzilHYTg0_TusoCvQe9KmWlvUrHkL6TJamOiVz2rvxLX18UMqScHVHppWQLTV46DNBQZrmduquVO05UEfk-ieWjeNpqpSP405LEq-b_VCpL2S5b0f7uDW0mJ6Lkl-CvTNKOICEcyxRGgSF83dfIOMZp-j-JVFgZLS3Yj_hgY2VG8LZl_A0iscE0VTPaDaD8xEyiB7Z8fmaiMM0OmjrgJ-JUOg1xxTHZCrZ\">GDP growth rates of top 5 economies most recent year</a>\n",
              "  </div>\n",
              "</div>\n"
            ]
          },
          "metadata": {}
        },
        {
          "output_type": "stream",
          "name": "stdout",
          "text": [
            "\n",
            "# The code above can be copied into a code cell and executed to create the visualization.\n",
            "# Gemini has sourced recent economic data and created visualization code.\n"
          ]
        }
      ]
    },
    {
      "cell_type": "code",
      "source": [
        "#Visualized the generated code\n",
        "\n",
        "import pandas as pd\n",
        "import matplotlib.pyplot as plt\n",
        "import numpy as np\n",
        "\n",
        "# Data\n",
        "data = {'Country': ['United States', 'China', 'Germany', 'Japan', 'India'],\n",
        "        'GDP Growth Rate': [2.5, 5.4, -0.2, 1.2, 6.2]}\n",
        "\n",
        "# Create Pandas DataFrame\n",
        "df = pd.DataFrame(data)\n",
        "\n",
        "# Sort the DataFrame by GDP Growth Rate for better visualization\n",
        "df = df.sort_values(by='GDP Growth Rate', ascending=False)\n",
        "\n",
        "# Create Bar Chart\n",
        "plt.figure(figsize=(10, 6))  # Adjust figure size for better readability\n",
        "bars = plt.bar(df['Country'], df['GDP Growth Rate'], color=['green', 'royalblue', 'red', 'darkorange', 'purple'])\n",
        "\n",
        "# Add labels and title\n",
        "plt.xlabel('Country', fontsize=12)\n",
        "plt.ylabel('GDP Growth Rate (%)', fontsize=12)\n",
        "plt.title('GDP Growth Rates of Top 5 Economies (2024)', fontsize=14)\n",
        "plt.xticks(rotation=45, ha='right')  # Rotate x-axis labels for better readability\n",
        "\n",
        "# Add value labels on top of the bars\n",
        "for bar in bars:\n",
        "    yval = bar.get_height()\n",
        "    plt.text(bar.get_x() + bar.get_width()/2, yval, round(yval, 1), ha='center', va='bottom')\n",
        "\n",
        "# Add grid lines for better readability\n",
        "plt.grid(axis='y', linestyle='--')\n",
        "\n",
        "# Remove top and right spines\n",
        "plt.gca().spines['top'].set_visible(False)\n",
        "plt.gca().spines['right'].set_visible(False)\n",
        "\n",
        "# Adjust layout to prevent labels from being cut off\n",
        "plt.tight_layout()\n",
        "\n",
        "# Show the plot\n",
        "plt.show()\n"
      ],
      "metadata": {
        "colab": {
          "base_uri": "https://localhost:8080/",
          "height": 457
        },
        "id": "l6gn_5g7eN8v",
        "outputId": "b0a4b2db-954d-4066-f2b8-99a5531610e5"
      },
      "execution_count": 15,
      "outputs": [
        {
          "output_type": "display_data",
          "data": {
            "text/plain": [
              "<Figure size 1000x600 with 1 Axes>"
            ],
            "image/png": "[encoded data removed]"
          },
          "metadata": {}
        }
      ]
    },
    {
      "cell_type": "markdown",
      "source": [
        "# Multimodal Search Example\n",
        "## 7. Combining Search with Multimodal Capabilities"
      ],
      "metadata": {
        "id": "KhO2BMLTy3ec"
      }
    },
    {
      "cell_type": "code",
      "source": [
        "print(\"\\n--- 7. Multimodal Search Exploration ---\")\n",
        "print(\"# Gemini 2.0 can combine search with analysis of uploaded images\")\n",
        "\n",
        "from IPython.display import display, Image\n",
        "from google.colab import files\n",
        "import base64\n",
        "import io\n",
        "\n",
        "def encode_image(image_path):\n",
        "    \"\"\"Encode image to base64 string\"\"\"\n",
        "    with open(image_path, \"rb\") as image_file:\n",
        "        return base64.b64encode(image_file.read()).decode('utf-8')\n",
        "\n",
        "def upload_and_analyze_image():\n",
        "    \"\"\"Upload an image and analyze it with Gemini + Search\"\"\"\n",
        "    print(\"Please upload an image (landmark, artwork, product, etc.)\")\n",
        "    uploaded = files.upload()\n",
        "\n",
        "    if not uploaded:\n",
        "        print(\"No image uploaded. Skipping image analysis.\")\n",
        "        return\n",
        "\n",
        "    # Get the first uploaded file\n",
        "    image_path = list(uploaded.keys())[0]\n",
        "\n",
        "    # Display the uploaded image\n",
        "    print(\"Uploaded image:\")\n",
        "    display(Image(filename=image_path))\n",
        "\n",
        "    # Encode the image to base64\n",
        "    base64_image = encode_image(image_path)\n",
        "\n",
        "    # Create a new multimodal message with the image\n",
        "    multimodal_chat = client.chats.create(model=MODEL, config={'tools': [search_tool]})\n",
        "\n",
        "    # First prompt to identify the image\n",
        "    identification_prompt = f\"\"\"\n",
        "    data:image/jpeg;base64,{base64_image}\n",
        "\n",
        "    What is shown in this image? Please identify the main subject and provide a brief description.\n",
        "    \"\"\"\n",
        "\n",
        "    print(\"\\n🔍 Analyzing image...\")\n",
        "    identification_response = multimodal_chat.send_message(identification_prompt)\n",
        "    show_parts(identification_response)\n",
        "\n",
        "    # Second prompt to get more detailed information with search\n",
        "    detail_prompt = \"Please search for more detailed information about this subject, including when it was created/built, its history, and interesting facts.\"\n",
        "\n",
        "    print(\"\\n🔍 Searching for detailed information...\")\n",
        "    detail_response = multimodal_chat.send_message(detail_prompt)\n",
        "    show_parts(detail_response)\n",
        "\n",
        "    return multimodal_chat\n",
        "\n",
        "# Explanation for workshop participants\n",
        "print(\"\\nIn this section, you'll upload an image and Gemini will:\")\n",
        "print(\"1. Analyze the visual content to identify what's in the image\")\n",
        "print(\"2. Use Google Search to find accurate, detailed information about the subject\")\n",
        "print(\"3. Allow you to ask follow-up questions in the same conversation context\")\n",
        "print(\"\\nThis demonstrates how Gemini combines visual understanding with search capabilities.\")\n",
        "\n",
        "# Run the interactive image upload and analysis\n",
        "print(\"\\n📸 Let's try this out!\")\n",
        "multimodal_chat = upload_and_analyze_image()\n",
        "\n",
        "# Provide instructions for follow-up questions\n",
        "if multimodal_chat:\n",
        "    print(\"\\n📝 You can now ask follow-up questions about the image!\")\n",
        "    print(\"Example follow-up questions:\")\n",
        "    print(\"- 'How does it compare to similar examples?'\")\n",
        "    print(\"- 'What are common misconceptions about it?'\")\n",
        "    print(\"- 'When was the last major renovation or change?'\")\n",
        "\n",
        "    # Option to ask a follow-up question\n",
        "    follow_up = input(\"Enter a follow-up question (or press Enter to skip): \")\n",
        "    if follow_up:\n",
        "        print(f\"\\n🔍 Searching for answer to: '{follow_up}'\")\n",
        "        follow_up_response = multimodal_chat.send_message(follow_up)\n",
        "        show_parts(follow_up_response)"
      ],
      "metadata": {
        "colab": {
          "base_uri": "https://localhost:8080/",
          "height": 1000
        },
        "id": "asBvKeVGy9Dm",
        "outputId": "80c772e3-44cc-4c2e-80ed-dd1af4ff0dd8"
      },
      "execution_count": 17,
      "outputs": [
        {
          "output_type": "stream",
          "name": "stdout",
          "text": [
            "\n",
            "--- 7. Multimodal Search Exploration ---\n",
            "# Gemini 2.0 can combine search with analysis of uploaded images\n",
            "\n",
            "In this section, you'll upload an image and Gemini will:\n",
            "1. Analyze the visual content to identify what's in the image\n",
            "2. Use Google Search to find accurate, detailed information about the subject\n",
            "3. Allow you to ask follow-up questions in the same conversation context\n",
            "\n",
            "This demonstrates how Gemini combines visual understanding with search capabilities.\n",
            "\n",
            "📸 Let's try this out!\n",
            "Please upload an image (landmark, artwork, product, etc.)\n"
          ]
        },
        {
          "output_type": "display_data",
          "data": {
            "text/plain": [
              "<IPython.core.display.HTML object>"
            ],
            "text/html": [
              "\n",
              "     <input type=\"file\" id=\"files-b5b8812d-ecff-442c-8f1a-b18a3d0e7505\" name=\"files[]\" multiple disabled\n",
              "        style=\"border:none\" />\n",
              "     <output id=\"result-b5b8812d-ecff-442c-8f1a-b18a3d0e7505\">\n",
              "      Upload widget is only available when the cell has been executed in the\n",
              "      current browser session. Please rerun this cell to enable.\n",
              "      </output>\n",
              "      <script>// Copyright 2017 Google LLC\n",
              "//\n",
              "// Licensed under the Apache License, Version 2.0 (the \"License\");\n",
              "// you may not use this file except in compliance with the License.\n",
              "// You may obtain a copy of the License at\n",
              "//\n",
              "//      http://www.apache.org/licenses/LICENSE-2.0\n",
              "//\n",
              "// Unless required by applicable law or agreed to in writing, software\n",
              "// distributed under the License is distributed on an \"AS IS\" BASIS,\n",
              "// WITHOUT WARRANTIES OR CONDITIONS OF ANY KIND, either express or implied.\n",
              "// See the License for the specific language governing permissions and\n",
              "// limitations under the License.\n",
              "\n",
              "/**\n",
              " * @fileoverview Helpers for google.colab Python module.\n",
              " */\n",
              "(function(scope) {\n",
              "function span(text, styleAttributes = {}) {\n",
              "  const element = document.createElement('span');\n",
              "  element.textContent = text;\n",
              "  for (const key of Object.keys(styleAttributes)) {\n",
              "    element.style[key] = styleAttributes[key];\n",
              "  }\n",
              "  return element;\n",
              "}\n",
              "\n",
              "// Max number of bytes which will be uploaded at a time.\n",
              "const MAX_PAYLOAD_SIZE = 100 * 1024;\n",
              "\n",
              "function _uploadFiles(inputId, outputId) {\n",
              "  const steps = uploadFilesStep(inputId, outputId);\n",
              "  const outputElement = document.getElementById(outputId);\n",
              "  // Cache steps on the outputElement to make it available for the next call\n",
              "  // to uploadFilesContinue from Python.\n",
              "  outputElement.steps = steps;\n",
              "\n",
              "  return _uploadFilesContinue(outputId);\n",
              "}\n",
              "\n",
              "// This is roughly an async generator (not supported in the browser yet),\n",
              "// where there are multiple asynchronous steps and the Python side is going\n",
              "// to poll for completion of each step.\n",
              "// This uses a Promise to block the python side on completion of each step,\n",
              "// then passes the result of the previous step as the input to the next step.\n",
              "function _uploadFilesContinue(outputId) {\n",
              "  const outputElement = document.getElementById(outputId);\n",
              "  const steps = outputElement.steps;\n",
              "\n",
              "  const next = steps.next(outputElement.lastPromiseValue);\n",
              "  return Promise.resolve(next.value.promise).then((value) => {\n",
              "    // Cache the last promise value to make it available to the next\n",
              "    // step of the generator.\n",
              "    outputElement.lastPromiseValue = value;\n",
              "    return next.value.response;\n",
              "  });\n",
              "}\n",
              "\n",
              "/**\n",
              " * Generator function which is called between each async step of the upload\n",
              " * process.\n",
              " * @param {string} inputId Element ID of the input file picker element.\n",
              " * @param {string} outputId Element ID of the output display.\n",
              " * @return {!Iterable<!Object>} Iterable of next steps.\n",
              " */\n",
              "function* uploadFilesStep(inputId, outputId) {\n",
              "  const inputElement = document.getElementById(inputId);\n",
              "  inputElement.disabled = false;\n",
              "\n",
              "  const outputElement = document.getElementById(outputId);\n",
              "  outputElement.innerHTML = '';\n",
              "\n",
              "  const pickedPromise = new Promise((resolve) => {\n",
              "    inputElement.addEventListener('change', (e) => {\n",
              "      resolve(e.target.files);\n",
              "    });\n",
              "  });\n",
              "\n",
              "  const cancel = document.createElement('button');\n",
              "  inputElement.parentElement.appendChild(cancel);\n",
              "  cancel.textContent = 'Cancel upload';\n",
              "  const cancelPromise = new Promise((resolve) => {\n",
              "    cancel.onclick = () => {\n",
              "      resolve(null);\n",
              "    };\n",
              "  });\n",
              "\n",
              "  // Wait for the user to pick the files.\n",
              "  const files = yield {\n",
              "    promise: Promise.race([pickedPromise, cancelPromise]),\n",
              "    response: {\n",
              "      action: 'starting',\n",
              "    }\n",
              "  };\n",
              "\n",
              "  cancel.remove();\n",
              "\n",
              "  // Disable the input element since further picks are not allowed.\n",
              "  inputElement.disabled = true;\n",
              "\n",
              "  if (!files) {\n",
              "    return {\n",
              "      response: {\n",
              "        action: 'complete',\n",
              "      }\n",
              "    };\n",
              "  }\n",
              "\n",
              "  for (const file of files) {\n",
              "    const li = document.createElement('li');\n",
              "    li.append(span(file.name, {fontWeight: 'bold'}));\n",
              "    li.append(span(\n",
              "        `(${file.type || 'n/a'}) - ${file.size} bytes, ` +\n",
              "        `last modified: ${\n",
              "            file.lastModifiedDate ? file.lastModifiedDate.toLocaleDateString() :\n",
              "                                    'n/a'} - `));\n",
              "    const percent = span('0% done');\n",
              "    li.appendChild(percent);\n",
              "\n",
              "    outputElement.appendChild(li);\n",
              "\n",
              "    const fileDataPromise = new Promise((resolve) => {\n",
              "      const reader = new FileReader();\n",
              "      reader.onload = (e) => {\n",
              "        resolve(e.target.result);\n",
              "      };\n",
              "      reader.readAsArrayBuffer(file);\n",
              "    });\n",
              "    // Wait for the data to be ready.\n",
              "    let fileData = yield {\n",
              "      promise: fileDataPromise,\n",
              "      response: {\n",
              "        action: 'continue',\n",
              "      }\n",
              "    };\n",
              "\n",
              "    // Use a chunked sending to avoid message size limits. See b/62115660.\n",
              "    let position = 0;\n",
              "    do {\n",
              "      const length = Math.min(fileData.byteLength - position, MAX_PAYLOAD_SIZE);\n",
              "      const chunk = new Uint8Array(fileData, position, length);\n",
              "      position += length;\n",
              "\n",
              "      const base64 = btoa(String.fromCharCode.apply(null, chunk));\n",
              "      yield {\n",
              "        response: {\n",
              "          action: 'append',\n",
              "          file: file.name,\n",
              "          data: base64,\n",
              "        },\n",
              "      };\n",
              "\n",
              "      let percentDone = fileData.byteLength === 0 ?\n",
              "          100 :\n",
              "          Math.round((position / fileData.byteLength) * 100);\n",
              "      percent.textContent = `${percentDone}% done`;\n",
              "\n",
              "    } while (position < fileData.byteLength);\n",
              "  }\n",
              "\n",
              "  // All done.\n",
              "  yield {\n",
              "    response: {\n",
              "      action: 'complete',\n",
              "    }\n",
              "  };\n",
              "}\n",
              "\n",
              "scope.google = scope.google || {};\n",
              "scope.google.colab = scope.google.colab || {};\n",
              "scope.google.colab._files = {\n",
              "  _uploadFiles,\n",
              "  _uploadFilesContinue,\n",
              "};\n",
              "})(self);\n",
              "</script> "
            ]
          },
          "metadata": {}
        },
        {
          "output_type": "stream",
          "name": "stdout",
          "text": [
            "Saving Dog_Breeds.jpg to Dog_Breeds.jpg\n",
            "Uploaded image:\n"
          ]
        },
        {
          "output_type": "display_data",
          "data": {
            "image/jpeg": "[encoded data removed]",
            "text/plain": [
              "<IPython.core.display.Image object>"
            ]
          },
          "metadata": {}
        },
        {
          "output_type": "stream",
          "name": "stdout",
          "text": [
            "\n",
            "🔍 Analyzing image...\n"
          ]
        },
        {
          "output_type": "display_data",
          "data": {
            "text/plain": [
              "<IPython.core.display.Markdown object>"
            ],
            "text/markdown": "Here's a breakdown of what I can see in the image:\n\n*   **Main Subject:** A portion of an economics or business-related examination.\n\n*   **Description:** The image shows a section of multiple choice economics or business management questions, likely from a test or quiz.\n\n"
          },
          "metadata": {}
        },
        {
          "output_type": "stream",
          "name": "stdout",
          "text": [
            "\n",
            "🔍 Searching for detailed information...\n"
          ]
        },
        {
          "output_type": "display_data",
          "data": {
            "text/plain": [
              "<IPython.core.display.Markdown object>"
            ],
            "text/markdown": "While a specific creation date for economics and business examinations is difficult to pinpoint, here's a general overview and interesting facts:\n\n**History and Evolution**\n\n*   **Early Forms:** The concept of assessing knowledge in economics and business-related fields has likely existed for centuries in various forms. Early forms of assessment would have been more informal, perhaps involving apprenticeships or oral examinations.\n*   **Formal Examinations:** As universities and business schools developed, so did more standardized forms of testing. Standardized tests became more common in the 19th and 20th centuries.\n*   **Evolution of Content:** The content of economics and business exams has evolved to reflect changes in economic theories, business practices, and the global landscape.\n*   **Modern Testing:** Modern economics and business exams often include a mix of multiple-choice questions, short-answer questions, essay questions, and case studies. Some exams also incorporate quantitative analysis and data interpretation.\n\n**Interesting Facts**\n\n*   **GMAT:** The Graduate Management Admission Test (GMAT) is specifically designed for graduate business programs and is a proven predictor of a student's ability to succeed in the classroom.\n*   **Skills tested:** Modern business school graduates need problem-solving, communication, and strategic thinking skills. The GMAT exam is designed to measure these skills.\n*   **Emphasis on Application:** Modern economics and business exams emphasize the application of theoretical knowledge to real-world scenarios.\n\n"
          },
          "metadata": {}
        },
        {
          "output_type": "stream",
          "name": "stdout",
          "text": [
            "\n",
            "📊 Search Results Used:\n"
          ]
        },
        {
          "output_type": "display_data",
          "data": {
            "text/plain": [
              "<IPython.core.display.HTML object>"
            ],
            "text/html": [
              "<style>\n",
              ".container {\n",
              "  align-items: center;\n",
              "  border-radius: 8px;\n",
              "  display: flex;\n",
              "  font-family: Google Sans, Roboto, sans-serif;\n",
              "  font-size: 14px;\n",
              "  line-height: 20px;\n",
              "  padding: 8px 12px;\n",
              "}\n",
              ".chip {\n",
              "  display: inline-block;\n",
              "  border: solid 1px;\n",
              "  border-radius: 16px;\n",
              "  min-width: 14px;\n",
              "  padding: 5px 16px;\n",
              "  text-align: center;\n",
              "  user-select: none;\n",
              "  margin: 0 8px;\n",
              "  -webkit-tap-highlight-color: transparent;\n",
              "}\n",
              ".carousel {\n",
              "  overflow: auto;\n",
              "  scrollbar-width: none;\n",
              "  white-space: nowrap;\n",
              "  margin-right: -12px;\n",
              "}\n",
              ".headline {\n",
              "  display: flex;\n",
              "  margin-right: 4px;\n",
              "}\n",
              ".gradient-container {\n",
              "  position: relative;\n",
              "}\n",
              ".gradient {\n",
              "  position: absolute;\n",
              "  transform: translate(3px, -9px);\n",
              "  height: 36px;\n",
              "  width: 9px;\n",
              "}\n",
              "@media (prefers-color-scheme: light) {\n",
              "  .container {\n",
              "    background-color: #fafafa;\n",
              "    box-shadow: 0 0 0 1px #0000000f;\n",
              "  }\n",
              "  .headline-label {\n",
              "    color: #1f1f1f;\n",
              "  }\n",
              "  .chip {\n",
              "    background-color: #ffffff;\n",
              "    border-color: #d2d2d2;\n",
              "    color: #5e5e5e;\n",
              "    text-decoration: none;\n",
              "  }\n",
              "  .chip:hover {\n",
              "    background-color: #f2f2f2;\n",
              "  }\n",
              "  .chip:focus {\n",
              "    background-color: #f2f2f2;\n",
              "  }\n",
              "  .chip:active {\n",
              "    background-color: #d8d8d8;\n",
              "    border-color: #b6b6b6;\n",
              "  }\n",
              "  .logo-dark {\n",
              "    display: none;\n",
              "  }\n",
              "  .gradient {\n",
              "    background: linear-gradient(90deg, #fafafa 15%, #fafafa00 100%);\n",
              "  }\n",
              "}\n",
              "@media (prefers-color-scheme: dark) {\n",
              "  .container {\n",
              "    background-color: #1f1f1f;\n",
              "    box-shadow: 0 0 0 1px #ffffff26;\n",
              "  }\n",
              "  .headline-label {\n",
              "    color: #fff;\n",
              "  }\n",
              "  .chip {\n",
              "    background-color: #2c2c2c;\n",
              "    border-color: #3c4043;\n",
              "    color: #fff;\n",
              "    text-decoration: none;\n",
              "  }\n",
              "  .chip:hover {\n",
              "    background-color: #353536;\n",
              "  }\n",
              "  .chip:focus {\n",
              "    background-color: #353536;\n",
              "  }\n",
              "  .chip:active {\n",
              "    background-color: #464849;\n",
              "    border-color: #53575b;\n",
              "  }\n",
              "  .logo-light {\n",
              "    display: none;\n",
              "  }\n",
              "  .gradient {\n",
              "    background: linear-gradient(90deg, #1f1f1f 15%, #1f1f1f00 100%);\n",
              "  }\n",
              "}\n",
              "</style>\n",
              "<div class=\"container\">\n",
              "  <div class=\"headline\">\n",
              "    <svg class=\"logo-light\" width=\"18\" height=\"18\" viewBox=\"9 9 35 35\" fill=\"none\" xmlns=\"http://www.w3.org/2000/svg\">\n",
              "      <path fill-rule=\"evenodd\" clip-rule=\"evenodd\" d=\"M42.8622 27.0064C42.8622 25.7839 42.7525 24.6084 42.5487 23.4799H26.3109V30.1568H35.5897C35.1821 32.3041 33.9596 34.1222 32.1258 35.3448V39.6864H37.7213C40.9814 36.677 42.8622 32.2571 42.8622 27.0064V27.0064Z\" fill=\"#4285F4\"/>\n",
              "      <path fill-rule=\"evenodd\" clip-rule=\"evenodd\" d=\"M26.3109 43.8555C30.9659 43.8555 34.8687 42.3195 37.7213 39.6863L32.1258 35.3447C30.5898 36.3792 28.6306 37.0061 26.3109 37.0061C21.8282 37.0061 18.0195 33.9811 16.6559 29.906H10.9194V34.3573C13.7563 39.9841 19.5712 43.8555 26.3109 43.8555V43.8555Z\" fill=\"#34A853\"/>\n",
              "      <path fill-rule=\"evenodd\" clip-rule=\"evenodd\" d=\"M16.6559 29.8904C16.3111 28.8559 16.1074 27.7588 16.1074 26.6146C16.1074 25.4704 16.3111 24.3733 16.6559 23.3388V18.8875H10.9194C9.74388 21.2072 9.06992 23.8247 9.06992 26.6146C9.06992 29.4045 9.74388 32.022 10.9194 34.3417L15.3864 30.8621L16.6559 29.8904V29.8904Z\" fill=\"#FBBC05\"/>\n",
              "      <path fill-rule=\"evenodd\" clip-rule=\"evenodd\" d=\"M26.3109 16.2386C28.85 16.2386 31.107 17.1164 32.9095 18.8091L37.8466 13.8719C34.853 11.082 30.9659 9.3736 26.3109 9.3736C19.5712 9.3736 13.7563 13.245 10.9194 18.8875L16.6559 23.3388C18.0195 19.2636 21.8282 16.2386 26.3109 16.2386V16.2386Z\" fill=\"#EA4335\"/>\n",
              "    </svg>\n",
              "    <svg class=\"logo-dark\" width=\"18\" height=\"18\" viewBox=\"0 0 48 48\" xmlns=\"http://www.w3.org/2000/svg\">\n",
              "      <circle cx=\"24\" cy=\"23\" fill=\"#FFF\" r=\"22\"/>\n",
              "      <path d=\"M33.76 34.26c2.75-2.56 4.49-6.37 4.49-11.26 0-.89-.08-1.84-.29-3H24.01v5.99h8.03c-.4 2.02-1.5 3.56-3.07 4.56v.75l3.91 2.97h.88z\" fill=\"#4285F4\"/>\n",
              "      <path d=\"M15.58 25.77A8.845 8.845 0 0 0 24 31.86c1.92 0 3.62-.46 4.97-1.31l4.79 3.71C31.14 36.7 27.65 38 24 38c-5.93 0-11.01-3.4-13.45-8.36l.17-1.01 4.06-2.85h.8z\" fill=\"#34A853\"/>\n",
              "      <path d=\"M15.59 20.21a8.864 8.864 0 0 0 0 5.58l-5.03 3.86c-.98-2-1.53-4.25-1.53-6.64 0-2.39.55-4.64 1.53-6.64l1-.22 3.81 2.98.22 1.08z\" fill=\"#FBBC05\"/>\n",
              "      <path d=\"M24 14.14c2.11 0 4.02.75 5.52 1.98l4.36-4.36C31.22 9.43 27.81 8 24 8c-5.93 0-11.01 3.4-13.45 8.36l5.03 3.85A8.86 8.86 0 0 1 24 14.14z\" fill=\"#EA4335\"/>\n",
              "    </svg>\n",
              "    <div class=\"gradient-container\"><div class=\"gradient\"></div></div>\n",
              "  </div>\n",
              "  <div class=\"carousel\">\n",
              "    <a class=\"chip\" href=\"https://vertexaisearch.cloud.google.com/grounding-api-redirect/AQXblrxKIFjjOoV_YQmiB-XW2awkh8boWXybOM4z9zs-D0qjxxORBJuDTPC8Ln_EgW2l-aj-ORcrNEAV0Pwjw7knGxiQ9DCNi3IKhj_VKuhKGJRSQ-Mhiahx9gULf5dLWPfbzBynotxfFnaQSPxCP5kPDRxca9Dnr-E3ltVZNIXYbOvV0T4dIiFmgRYSd817Ta3FAlxH7qDrSMXQHf4VcsKuLH0aaz2z\">business management tests history</a>\n",
              "    <a class=\"chip\" href=\"https://vertexaisearch.cloud.google.com/grounding-api-redirect/AQXblrxDSch0JJaadHPHVaOBNbyLTKiUlEuq2Rcw6fvfTQEdHc6y7faFdOR7iMEtrqY6XOJiU1VtdSD8bWPv285LDpcHFmjhTbObkwlXXo9CnZqeMZVE31e7EEIvmDcfDmci_i6Mwre_O5Y4fv8xncQCmuMTyG8z-DIF_uMIsDIkxSR3yqGQ1tK6oG13LFu7Kc15b4LkFakRkMHRFmc=\">economics tests history</a>\n",
              "    <a class=\"chip\" href=\"https://vertexaisearch.cloud.google.com/grounding-api-redirect/AQXblrzfzjedVvUxWNRYxVsRndd0TnAKWBYYNja6uzRxQ0RodFoRYhFKahMzJ-69Tm1TKIiYXgpZy1QaF5J8TvVGqHsxFb39AmzUJDFjRp20GIbzafFjWp5sB8_Gi5gKzme36SJHj56J4he7irYBA-PvTJ5Zo8LhWnMfP7mMScyFXiakzI72PVJU_36LC8n3KJ08nlR-fC6GWydTHK5tOWv5xI8=\">Economics examination history</a>\n",
              "    <a class=\"chip\" href=\"https://vertexaisearch.cloud.google.com/grounding-api-redirect/AQXblrxW85i6D0vNdU-Jd_14rIotTAaGatPkORI90am5j6s7I0Q-Nt6gtal3We93HWL9MIkeKwejWi22oDjrCsch20CHY7VVfqmvt9PAnXbNlXxLC0lJU1l5csMysug4SkRx88c9B6UuOgO2f1RVb_Aqp2ZVIVp8ujcGReJansjDxVnV4TQ8PLWbhxl2VPCzEC4Phgtl8PwQWD9pnUX-AQAz1g==\">Business examination history</a>\n",
              "    <a class=\"chip\" href=\"https://vertexaisearch.cloud.google.com/grounding-api-redirect/AQXblryp6Bz-hJVfLimxi3WhX2R50YPGp2hHR8L8xJK6EI3hUb1eIzUwjS1Y9inbQe9n9_nDbWdGeILwA_QdUz1e_2qsqHyJ-jjJaCzQWqKyrkvyYSg_cwyWZ6-EmHT-WpjzGd1_WhWjeWIO8jqvgkJPvj2r1YSs2A5BhEsxJCTIjYMm80y2dM1pCBfUmSaFoaLy4Ak78Sx0wkQtoDO2YZqxSgfSTShF7hrXC_sQ5Jp-NIWCQ8trpTWUs0OJ65FO\">Interesting facts about business management examinations</a>\n",
              "    <a class=\"chip\" href=\"https://vertexaisearch.cloud.google.com/grounding-api-redirect/AQXblrz8UtvUuqDOKmmNPlK_3-XhoU5AhQ4-IJXPsmVcKWpXwUY-kBCjff6c7uS7OOhoMAK6EqBW_ILchJF2USb-pbWeJ7DRqrynfXEOsSpSaFgTQZpWcP-C8_YVBoF2X3F3E4KanFh1G8pCLXWMMR3g5gaEwYJJYSifhdj6v4ht8gLTdB6NgwM0VIJyGOA36acj7z4SCRnk8cEwv0AhzgSxM11jY7qf-EZoNekOlRjcSZ8-xQ==\">Interesting facts about economics examinations</a>\n",
              "  </div>\n",
              "</div>\n"
            ]
          },
          "metadata": {}
        },
        {
          "output_type": "stream",
          "name": "stdout",
          "text": [
            "\n",
            "📝 You can now ask follow-up questions about the image!\n",
            "Example follow-up questions:\n",
            "- 'How does it compare to similar examples?'\n",
            "- 'What are common misconceptions about it?'\n",
            "- 'When was the last major renovation or change?'\n",
            "Enter a follow-up question (or press Enter to skip): That is a dog image,  can you check it again?\n",
            "\n",
            "🔍 Searching for answer to: 'That is a dog image,  can you check it again?'\n"
          ]
        },
        {
          "output_type": "display_data",
          "data": {
            "text/plain": [
              "<IPython.core.display.Markdown object>"
            ],
            "text/markdown": "I apologize for the error. You are absolutely correct; the image is indeed of a dog, not an economics exam. I am still learning to properly classify images.\n\nBased on the image, here is the description of the dog.\n\n*   **Main Subject:** Dog\n*   **Description:** It's a close-up, head-on shot of a dog. The breed isn't immediately clear, but it has a distinctive coat coloring.\n"
          },
          "metadata": {}
        }
      ]
    },
    {
      "cell_type": "markdown",
      "source": [
        "# Practical Applications\n",
        "\n",
        "## 8. Practical Applications of Search-Enabled AI"
      ],
      "metadata": {
        "id": "oim702B-y_SG"
      }
    },
    {
      "cell_type": "code",
      "source": [
        "print(\"\\n--- 8. Practical Applications Workshop ---\")\n",
        "print(\"# Let's explore practical real-world applications of search-enabled AI\")\n",
        "\n",
        "# Create a chat for practical applications\n",
        "practical_chat = client.chats.create(model=MODEL, config={'tools': [search_tool]})\n",
        "\n",
        "application_scenarios = [\n",
        "    \"Research Assistant: Gemini can help gather information, summarize findings, and cite sources for academic papers.\",\n",
        "    \"Market Analysis: Search for latest trends, competitors, and customer sentiment for business strategy.\",\n",
        "    \"Travel Planning: Get up-to-date information on destinations, travel requirements, and local recommendations.\",\n",
        "    \"Health Information: Find recent medical research and health guidelines (with appropriate disclaimers).\",\n",
        "    \"Educational Tool: Create learning materials with current facts, figures, and examples.\"\n",
        "]\n",
        "\n",
        "for i, scenario in enumerate(application_scenarios):\n",
        "    print(f\"\\n{i+1}. {scenario}\")\n",
        "\n",
        "# Example of market analysis application\n",
        "print(\"\\n📝 Market Analysis Example Query: 'Analyze the current state of the electric vehicle market in Europe. Include major players, market share, and growth trends.'\")\n",
        "market_response = practical_chat.send_message('Analyze the current state of the electric vehicle market in Europe. Include major players, market share, and growth trends.')\n",
        "show_parts(market_response)"
      ],
      "metadata": {
        "colab": {
          "base_uri": "https://localhost:8080/",
          "height": 1000
        },
        "id": "cnddSVe9y-yv",
        "outputId": "4317ea81-beb6-48e9-811c-8957b16c9348"
      },
      "execution_count": 12,
      "outputs": [
        {
          "output_type": "stream",
          "name": "stdout",
          "text": [
            "\n",
            "--- 8. Practical Applications Workshop ---\n",
            "# Let's explore practical real-world applications of search-enabled AI\n",
            "\n",
            "1. Research Assistant: Gemini can help gather information, summarize findings, and cite sources for academic papers.\n",
            "\n",
            "2. Market Analysis: Search for latest trends, competitors, and customer sentiment for business strategy.\n",
            "\n",
            "3. Travel Planning: Get up-to-date information on destinations, travel requirements, and local recommendations.\n",
            "\n",
            "4. Health Information: Find recent medical research and health guidelines (with appropriate disclaimers).\n",
            "\n",
            "5. Educational Tool: Create learning materials with current facts, figures, and examples.\n",
            "\n",
            "📝 Market Analysis Example Query: 'Analyze the current state of the electric vehicle market in Europe. Include major players, market share, and growth trends.'\n"
          ]
        },
        {
          "output_type": "display_data",
          "data": {
            "text/plain": [
              "<IPython.core.display.Markdown object>"
            ],
            "text/markdown": "Okay, here's an analysis of the current state of the electric vehicle market in Europe, including major players, market share, and growth trends. Because the market is constantly evolving, I will use current data to provide the most up-to-date information.\n\n"
          },
          "metadata": {}
        },
        {
          "output_type": "display_data",
          "data": {
            "text/plain": [
              "<IPython.core.display.Markdown object>"
            ],
            "text/markdown": "Here's an analysis of the current state of the electric vehicle market in Europe:\n\n**Overall Market**\n\n*   **Growth:** The European EV market is experiencing growth, although the pace has fluctuated. In early 2025, the market showed a solid start with approximately 50% growth in February compared to the previous year.\n*   **Sales Figures:** In 2023, new electric car registrations reached nearly 3.2 million, an increase of almost 20% compared to 2022. Within the European Union, sales amounted to 2.4 million, reflecting similar growth rates.\n*   **Projections:** EV sales in Western Europe, including the UK, are expected to rise by 40% in 2025, reaching 2.7 million vehicles. Battery-electric vehicles (BEVs) are projected to account for 22% of the total market share.\n*   **Market Share:** Battery electric vehicles (BEVs) made up 15% of the market share in January 2025, an increase from 10.9% in January 2024. In September 2024, plug-in vehicles reached a 26% share of the overall market, with BEVs alone representing 19%.\n*   **Vehicle Types:** While passenger cars are the focus of the EV revolution, electric trucks are also gaining traction. In 2023, electric truck sales surpassed electric bus sales for the first time.\n*   **Charging Infrastructure:** Europe has been expanding its charging infrastructure, with over 630,000 publicly available EV chargers in 2023.\n\n**Key Players**\n\n*   **Leading Brands:** Tesla has been a leading EV brand in Europe. In 2024, Tesla topped the European EV market for the third year in a row. The Tesla Model Y recorded 28,995 registrations in September 2024, leading the European EV market.\n*   **Top Manufacturers:** Other major players include Volkswagen Group, BMW, Mercedes-Benz, Renault, and Stellantis.\n*   **Market Share by Group:** Volkswagen Group has maintained a dominant position in the European market with a significant market share.\n*   **Chinese Manufacturers:** Chinese manufacturers like BYD are expanding into the European market, offering typically lower prices.\n\n**Trends and Factors**\n\n*   **BEV vs. PHEV:** Battery electric vehicles (BEVs) are generally leading the growth, although there are fluctuations. Sales of plug-in hybrid electric cars grew faster than BEVs in China in early 2024. In Europe, however, the BEV market is taking the \"lion's share\" of growth.\n*   **Government Regulations and Incentives:** Stricter CO2 regulations set for 2025 are influencing manufacturers' strategies. Changes to subsidy policies in countries like Germany have impacted EV sales.\n*   **Consumer Preferences:** There's a clear shift in consumer preferences towards EVs, with over half of new car buyers opting for vehicles with at least partial electric capability.\n*   **Competition:** Europe faces increasing competition from Chinese automakers, who are introducing more affordable models. The EU is considering additional tariffs on Chinese imports, which could impact market dynamics.\n*   **Regional Differences:** EV adoption rates vary across Europe. Norway, Sweden, and the Netherlands remain the largest European markets.\n\n**Challenges and Considerations**\n\n*   **Decelerating Sales:** EV sales in Europe have decelerated in recent months.\n*   **Subsidy Changes:** Declines in battery-electric-vehicle (BEV) subsidies have influenced the market.\n*   **Affordability:** Burgeoning consumer interest in affordable EVs is a key factor.\n*   **Infrastructure:** Ensuring sufficient charging infrastructure remains crucial for sustaining growth.\n*   **Market Saturation:** Increasing stock days in some markets point towards market saturation.\n"
          },
          "metadata": {}
        },
        {
          "output_type": "stream",
          "name": "stdout",
          "text": [
            "\n",
            "📊 Search Results Used:\n"
          ]
        },
        {
          "output_type": "display_data",
          "data": {
            "text/plain": [
              "<IPython.core.display.HTML object>"
            ],
            "text/html": [
              "<style>\n",
              ".container {\n",
              "  align-items: center;\n",
              "  border-radius: 8px;\n",
              "  display: flex;\n",
              "  font-family: Google Sans, Roboto, sans-serif;\n",
              "  font-size: 14px;\n",
              "  line-height: 20px;\n",
              "  padding: 8px 12px;\n",
              "}\n",
              ".chip {\n",
              "  display: inline-block;\n",
              "  border: solid 1px;\n",
              "  border-radius: 16px;\n",
              "  min-width: 14px;\n",
              "  padding: 5px 16px;\n",
              "  text-align: center;\n",
              "  user-select: none;\n",
              "  margin: 0 8px;\n",
              "  -webkit-tap-highlight-color: transparent;\n",
              "}\n",
              ".carousel {\n",
              "  overflow: auto;\n",
              "  scrollbar-width: none;\n",
              "  white-space: nowrap;\n",
              "  margin-right: -12px;\n",
              "}\n",
              ".headline {\n",
              "  display: flex;\n",
              "  margin-right: 4px;\n",
              "}\n",
              ".gradient-container {\n",
              "  position: relative;\n",
              "}\n",
              ".gradient {\n",
              "  position: absolute;\n",
              "  transform: translate(3px, -9px);\n",
              "  height: 36px;\n",
              "  width: 9px;\n",
              "}\n",
              "@media (prefers-color-scheme: light) {\n",
              "  .container {\n",
              "    background-color: #fafafa;\n",
              "    box-shadow: 0 0 0 1px #0000000f;\n",
              "  }\n",
              "  .headline-label {\n",
              "    color: #1f1f1f;\n",
              "  }\n",
              "  .chip {\n",
              "    background-color: #ffffff;\n",
              "    border-color: #d2d2d2;\n",
              "    color: #5e5e5e;\n",
              "    text-decoration: none;\n",
              "  }\n",
              "  .chip:hover {\n",
              "    background-color: #f2f2f2;\n",
              "  }\n",
              "  .chip:focus {\n",
              "    background-color: #f2f2f2;\n",
              "  }\n",
              "  .chip:active {\n",
              "    background-color: #d8d8d8;\n",
              "    border-color: #b6b6b6;\n",
              "  }\n",
              "  .logo-dark {\n",
              "    display: none;\n",
              "  }\n",
              "  .gradient {\n",
              "    background: linear-gradient(90deg, #fafafa 15%, #fafafa00 100%);\n",
              "  }\n",
              "}\n",
              "@media (prefers-color-scheme: dark) {\n",
              "  .container {\n",
              "    background-color: #1f1f1f;\n",
              "    box-shadow: 0 0 0 1px #ffffff26;\n",
              "  }\n",
              "  .headline-label {\n",
              "    color: #fff;\n",
              "  }\n",
              "  .chip {\n",
              "    background-color: #2c2c2c;\n",
              "    border-color: #3c4043;\n",
              "    color: #fff;\n",
              "    text-decoration: none;\n",
              "  }\n",
              "  .chip:hover {\n",
              "    background-color: #353536;\n",
              "  }\n",
              "  .chip:focus {\n",
              "    background-color: #353536;\n",
              "  }\n",
              "  .chip:active {\n",
              "    background-color: #464849;\n",
              "    border-color: #53575b;\n",
              "  }\n",
              "  .logo-light {\n",
              "    display: none;\n",
              "  }\n",
              "  .gradient {\n",
              "    background: linear-gradient(90deg, #1f1f1f 15%, #1f1f1f00 100%);\n",
              "  }\n",
              "}\n",
              "</style>\n",
              "<div class=\"container\">\n",
              "  <div class=\"headline\">\n",
              "    <svg class=\"logo-light\" width=\"18\" height=\"18\" viewBox=\"9 9 35 35\" fill=\"none\" xmlns=\"http://www.w3.org/2000/svg\">\n",
              "      <path fill-rule=\"evenodd\" clip-rule=\"evenodd\" d=\"M42.8622 27.0064C42.8622 25.7839 42.7525 24.6084 42.5487 23.4799H26.3109V30.1568H35.5897C35.1821 32.3041 33.9596 34.1222 32.1258 35.3448V39.6864H37.7213C40.9814 36.677 42.8622 32.2571 42.8622 27.0064V27.0064Z\" fill=\"#4285F4\"/>\n",
              "      <path fill-rule=\"evenodd\" clip-rule=\"evenodd\" d=\"M26.3109 43.8555C30.9659 43.8555 34.8687 42.3195 37.7213 39.6863L32.1258 35.3447C30.5898 36.3792 28.6306 37.0061 26.3109 37.0061C21.8282 37.0061 18.0195 33.9811 16.6559 29.906H10.9194V34.3573C13.7563 39.9841 19.5712 43.8555 26.3109 43.8555V43.8555Z\" fill=\"#34A853\"/>\n",
              "      <path fill-rule=\"evenodd\" clip-rule=\"evenodd\" d=\"M16.6559 29.8904C16.3111 28.8559 16.1074 27.7588 16.1074 26.6146C16.1074 25.4704 16.3111 24.3733 16.6559 23.3388V18.8875H10.9194C9.74388 21.2072 9.06992 23.8247 9.06992 26.6146C9.06992 29.4045 9.74388 32.022 10.9194 34.3417L15.3864 30.8621L16.6559 29.8904V29.8904Z\" fill=\"#FBBC05\"/>\n",
              "      <path fill-rule=\"evenodd\" clip-rule=\"evenodd\" d=\"M26.3109 16.2386C28.85 16.2386 31.107 17.1164 32.9095 18.8091L37.8466 13.8719C34.853 11.082 30.9659 9.3736 26.3109 9.3736C19.5712 9.3736 13.7563 13.245 10.9194 18.8875L16.6559 23.3388C18.0195 19.2636 21.8282 16.2386 26.3109 16.2386V16.2386Z\" fill=\"#EA4335\"/>\n",
              "    </svg>\n",
              "    <svg class=\"logo-dark\" width=\"18\" height=\"18\" viewBox=\"0 0 48 48\" xmlns=\"http://www.w3.org/2000/svg\">\n",
              "      <circle cx=\"24\" cy=\"23\" fill=\"#FFF\" r=\"22\"/>\n",
              "      <path d=\"M33.76 34.26c2.75-2.56 4.49-6.37 4.49-11.26 0-.89-.08-1.84-.29-3H24.01v5.99h8.03c-.4 2.02-1.5 3.56-3.07 4.56v.75l3.91 2.97h.88z\" fill=\"#4285F4\"/>\n",
              "      <path d=\"M15.58 25.77A8.845 8.845 0 0 0 24 31.86c1.92 0 3.62-.46 4.97-1.31l4.79 3.71C31.14 36.7 27.65 38 24 38c-5.93 0-11.01-3.4-13.45-8.36l.17-1.01 4.06-2.85h.8z\" fill=\"#34A853\"/>\n",
              "      <path d=\"M15.59 20.21a8.864 8.864 0 0 0 0 5.58l-5.03 3.86c-.98-2-1.53-4.25-1.53-6.64 0-2.39.55-4.64 1.53-6.64l1-.22 3.81 2.98.22 1.08z\" fill=\"#FBBC05\"/>\n",
              "      <path d=\"M24 14.14c2.11 0 4.02.75 5.52 1.98l4.36-4.36C31.22 9.43 27.81 8 24 8c-5.93 0-11.01 3.4-13.45 8.36l5.03 3.85A8.86 8.86 0 0 1 24 14.14z\" fill=\"#EA4335\"/>\n",
              "    </svg>\n",
              "    <div class=\"gradient-container\"><div class=\"gradient\"></div></div>\n",
              "  </div>\n",
              "  <div class=\"carousel\">\n",
              "    <a class=\"chip\" href=\"https://vertexaisearch.cloud.google.com/grounding-api-redirect/AQXblryh081J5R9vAZhmVpAdKPEraU3FOYnO9WvhLvrWcobmLhnbhLTj1K30qsaczKDX19ej4_I8fUqE9JlHHRshVaU7U42U4s-3Tk-X5tgZ8U2gyn0LWMLfO1le_uzgA8dhZiHcRHb7mZ2cHBFbRf4oY6s7thEyBJXD99R1h-7IlHCN-97bz5y_qma61bucgWn-DG286vdmf0UAmDxX\">EV growth trends Europe</a>\n",
              "    <a class=\"chip\" href=\"https://vertexaisearch.cloud.google.com/grounding-api-redirect/AQXblrzfF-g4XmmZAmmvCOoWv74BJUv7iuglHDbvqw-2fE36Vob5MpPv7hfuXpUiT-Wz0NN86F2tcOONcuE68ISPWRkUzU7gKGENZ4ZgGBLFbxa-r665Fv7W4e-ZgA0OhDpLlbg9EiumSSM74p9pYEX_PBGWMrDeMW96U_oG-U-zMw2S_VtzMTYg6vhft3_l1Zb4oHIQC0XZr3hVLblepbnRLSUIlvzV42LXFA==\">current state of EV market in Europe</a>\n",
              "    <a class=\"chip\" href=\"https://vertexaisearch.cloud.google.com/grounding-api-redirect/AQXblrxTVqBkj2NQqrJAA3V5Z2gZvQB_no0w97DGSj7dDV5FTffIVf-1FcfkeohBWtB-DWuTVpSn2w479IkyYWcFUBO8VnKCjuy3cPA1OWp79pjpWEihTfHlWnOLNtkDCqgUtIdIbjovvucPmgdCJFStsm8pZJVHEA7FkdLIrMXCNTM6xtx5gNgjRPHEJi-ubSTR6zSia23A_zF0bjySjsDGUgakoIl1Geh3q6doLLu9_A4agA8=\">electric vehicle market share Europe 2024 2025</a>\n",
              "    <a class=\"chip\" href=\"https://vertexaisearch.cloud.google.com/grounding-api-redirect/AQXblrxAGe4JYXCR9UELCCp57533Vnw2ISNulioj3CQ4prd-PHApWax249CVHoemRjjahEDvk4P-li4uUy_pjJN5dNn8sN3ka-_NUF2KOp9PcC273CKSpia91_BaGKQyzX5e_nLi0gxelknl9m8TYQUDhaij5Oso9svw6m0E_59ZXjnu13DOHUHIE4CR1GHqh75Ewz2p22sSR9U-t0yZbnPnjQ==\">top EV manufacturers Europe</a>\n",
              "  </div>\n",
              "</div>\n"
            ]
          },
          "metadata": {}
        }
      ]
    },
    {
      "cell_type": "markdown",
      "source": [
        "# Advanced Search Parameters\n",
        "## 9. Advanced Search Parameters and Techniques"
      ],
      "metadata": {
        "id": "TKVAWkNA17Iz"
      }
    },
    {
      "cell_type": "code",
      "source": [
        "print(\"\\n--- 9. Advanced Search Techniques ---\")\n",
        "print(\"# Exploring how to get more precise and controlled search results\")\n",
        "\n",
        "# Create a chat for advanced search techniques\n",
        "advanced_chat = client.chats.create(model=MODEL, config={'tools': [search_tool]})\n",
        "\n",
        "advanced_techniques = \"\"\"\n",
        "## Advanced Search Techniques\n",
        "\n",
        "When working with Gemini's search capability, consider these techniques:\n",
        "\n",
        "1. **Be Specific in Your Queries**\n",
        "   - Precise queries yield better search results\n",
        "   - Example: \"Latest NVIDIA GPU specs released in 2024\" vs. \"new graphics cards\"\n",
        "\n",
        "2. **Request Source Attribution**\n",
        "   - Ask Gemini to cite its sources\n",
        "   - Example: \"Provide information about X with citations to your sources\"\n",
        "\n",
        "3. **Control Search Depth vs. Speed**\n",
        "   - For quick facts, use simpler queries and flash models\n",
        "   - For comprehensive research, use more detailed queries and pro models\n",
        "\n",
        "4. **Iterative Refinement**\n",
        "   - Start broad, then use follow-up questions to narrow down\n",
        "   - Example: First ask about \"renewable energy trends\" then drill down to \"solar panel efficiency improvements\"\n",
        "\n",
        "5. **Explicitly Request Search When Needed**\n",
        "   - If you notice outdated information, explicitly ask for a search\n",
        "   - Example: \"Please search for the most recent data on X\"\n",
        "\"\"\"\n",
        "\n",
        "display(Markdown(advanced_techniques))\n",
        "\n",
        "# Example of a well-structured query\n",
        "print(\"\\n📝 Example of Well-Structured Query: 'Search for the latest breakthroughs in mRNA vaccine technology from 2023-2024, focusing on developments beyond COVID applications. Include names of key research institutions and potential timeline for clinical applications.'\")\n",
        "advanced_response = advanced_chat.send_message('Search for the latest breakthroughs in mRNA vaccine technology from 2023-2024, focusing on developments beyond COVID applications. Include names of key research institutions and potential timeline for clinical applications.')\n",
        "show_parts(advanced_response)\n"
      ],
      "metadata": {
        "colab": {
          "base_uri": "https://localhost:8080/",
          "height": 1000
        },
        "id": "rh_8IUiR1-mC",
        "outputId": "ffa2dcd3-6749-47a5-97d1-4c012c792d7d"
      },
      "execution_count": 13,
      "outputs": [
        {
          "output_type": "stream",
          "name": "stdout",
          "text": [
            "\n",
            "--- 9. Advanced Search Techniques ---\n",
            "# Exploring how to get more precise and controlled search results\n"
          ]
        },
        {
          "output_type": "display_data",
          "data": {
            "text/plain": [
              "<IPython.core.display.Markdown object>"
            ],
            "text/markdown": "\n## Advanced Search Techniques\n\nWhen working with Gemini's search capability, consider these techniques:\n\n1. **Be Specific in Your Queries**\n   - Precise queries yield better search results\n   - Example: \"Latest NVIDIA GPU specs released in 2024\" vs. \"new graphics cards\"\n\n2. **Request Source Attribution**\n   - Ask Gemini to cite its sources\n   - Example: \"Provide information about X with citations to your sources\"\n\n3. **Control Search Depth vs. Speed**\n   - For quick facts, use simpler queries and flash models\n   - For comprehensive research, use more detailed queries and pro models\n\n4. **Iterative Refinement**\n   - Start broad, then use follow-up questions to narrow down\n   - Example: First ask about \"renewable energy trends\" then drill down to \"solar panel efficiency improvements\"\n\n5. **Explicitly Request Search When Needed**\n   - If you notice outdated information, explicitly ask for a search\n   - Example: \"Please search for the most recent data on X\"\n"
          },
          "metadata": {}
        },
        {
          "output_type": "stream",
          "name": "stdout",
          "text": [
            "\n",
            "📝 Example of Well-Structured Query: 'Search for the latest breakthroughs in mRNA vaccine technology from 2023-2024, focusing on developments beyond COVID applications. Include names of key research institutions and potential timeline for clinical applications.'\n"
          ]
        },
        {
          "output_type": "display_data",
          "data": {
            "text/plain": [
              "<IPython.core.display.Markdown object>"
            ],
            "text/markdown": "The rapid development and deployment of mRNA vaccines for COVID-19 has spurred significant advancements in mRNA vaccine technology and expanded its potential applications beyond infectious diseases. Here's a summary of the latest breakthroughs from 2023-2024:\n\n**Key Breakthroughs and Trends:**\n\n*   **Next-generation mRNA vaccines:** Evolution from linear mRNA vaccines to self-amplifying RNA (saRNA) and circular RNA (circRNA) technologies. These next-generation technologies address the limitations of linear mRNA vaccines, such as the need for high doses and short-term immunity.\n    *   **saRNA:** Adds a \"photocopier gene\" to mRNA vaccines, potentially leading to longer-lasting immune responses and reduced side effects. Preclinical data suggests saRNA vaccines can achieve long-lasting immunity from a single, low dose.\n    *   **circRNA:** Possesses a closed-loop structure, offering high pharmaceutical and biostability compared to linear mRNA.\n*   **Improved T-cell vaccines:** Development of more effective T-cell vaccines and advancements in assays for T cells. Work is underway to develop vaccines that efficiently amplify T-cell immunity.\n*   **Advancements in delivery technologies:** Innovations in delivery technologies like lipid nanoparticles (LNPs) enhance the stability and precision of mRNA therapeutics, improving targeting and reducing immunogenicity issues. LNPs are the only drug delivery system that has demonstrated clinical effectiveness and received approval for human use.\n*   **Personalized cancer vaccines:** mRNA vaccines are being developed to target neoantigens unique to a patient's tumor, stimulating a robust immune response that specifically targets cancer cells while sparing healthy tissue.\n*   **Combination vaccines:** The development of combination vaccines, including those for COVID-19, influenza, and RSV, is ongoing.\n\n**Applications Beyond COVID-19:**\n\n*   **Infectious Diseases:** mRNA vaccines are being explored for a wide range of infectious diseases, including:\n    *   Influenza\n    *   RSV (Respiratory Syncytial Virus)\n    *   HIV\n    *   Zika virus\n    *   CMV (Cytomegalovirus)\n    *   Epstein-Barr virus\n    *   Hepatitis B and C\n    *   Malaria\n*   **Cancer Therapy:** mRNA vaccines are being developed for various types of cancer, including:\n    *   Pancreatic cancer\n    *   Ovarian cancer\n    *   Melanoma\n*   **Other Therapeutic Areas:**\n    *   Regenerative medicine\n    *   Immunotherapy\n    *   Genetic disorders\n    *   Autoimmune diseases\n\n**Key Research Institutions and Companies:**\n\n*   **Universities:**\n    *   Harvard University\n    *   University of California System\n    *   Harvard Medical School\n    *   University of Pennsylvania\n    *   University Medical Center Groningen\n    *   Imperial College London\n*   **Hospitals and Research Centers:**\n    *   Memorial Sloan Kettering Cancer Center\n    *   National Institutes of Health (NIH)\n    *   National Institute of Allergy and Infectious Disease (NIAID)\n*   **Companies:**\n    *   Moderna\n    *   BioNTech (Pfizer)\n    *   CureVac\n    *   Arcturus Therapeutics\n    *   Sanofi\n    *   Regeneron Pharmaceuticals\n\n**Timeline for Clinical Applications:**\n\n*   mRNA vaccines against influenza, HIV, tuberculosis, cancer, food, and environmental allergies are already in clinical trials or ready for clinical application.\n*   In the 2010s, early-phase clinical trials for personalized cancer vaccines targeting melanoma and other cancers were initiated.\n*   Combination vaccines for COVID-19, influenza, and RSV are in the mRNA vaccines pipeline.\n*   It takes at least 1 year for a phase I clinical trial to be complete, a few years for phase III clinical trials to be complete, and around 10 years for the whole process of vaccine development to licensure.\n"
          },
          "metadata": {}
        },
        {
          "output_type": "stream",
          "name": "stdout",
          "text": [
            "\n",
            "📊 Search Results Used:\n"
          ]
        },
        {
          "output_type": "display_data",
          "data": {
            "text/plain": [
              "<IPython.core.display.HTML object>"
            ],
            "text/html": [
              "<style>\n",
              ".container {\n",
              "  align-items: center;\n",
              "  border-radius: 8px;\n",
              "  display: flex;\n",
              "  font-family: Google Sans, Roboto, sans-serif;\n",
              "  font-size: 14px;\n",
              "  line-height: 20px;\n",
              "  padding: 8px 12px;\n",
              "}\n",
              ".chip {\n",
              "  display: inline-block;\n",
              "  border: solid 1px;\n",
              "  border-radius: 16px;\n",
              "  min-width: 14px;\n",
              "  padding: 5px 16px;\n",
              "  text-align: center;\n",
              "  user-select: none;\n",
              "  margin: 0 8px;\n",
              "  -webkit-tap-highlight-color: transparent;\n",
              "}\n",
              ".carousel {\n",
              "  overflow: auto;\n",
              "  scrollbar-width: none;\n",
              "  white-space: nowrap;\n",
              "  margin-right: -12px;\n",
              "}\n",
              ".headline {\n",
              "  display: flex;\n",
              "  margin-right: 4px;\n",
              "}\n",
              ".gradient-container {\n",
              "  position: relative;\n",
              "}\n",
              ".gradient {\n",
              "  position: absolute;\n",
              "  transform: translate(3px, -9px);\n",
              "  height: 36px;\n",
              "  width: 9px;\n",
              "}\n",
              "@media (prefers-color-scheme: light) {\n",
              "  .container {\n",
              "    background-color: #fafafa;\n",
              "    box-shadow: 0 0 0 1px #0000000f;\n",
              "  }\n",
              "  .headline-label {\n",
              "    color: #1f1f1f;\n",
              "  }\n",
              "  .chip {\n",
              "    background-color: #ffffff;\n",
              "    border-color: #d2d2d2;\n",
              "    color: #5e5e5e;\n",
              "    text-decoration: none;\n",
              "  }\n",
              "  .chip:hover {\n",
              "    background-color: #f2f2f2;\n",
              "  }\n",
              "  .chip:focus {\n",
              "    background-color: #f2f2f2;\n",
              "  }\n",
              "  .chip:active {\n",
              "    background-color: #d8d8d8;\n",
              "    border-color: #b6b6b6;\n",
              "  }\n",
              "  .logo-dark {\n",
              "    display: none;\n",
              "  }\n",
              "  .gradient {\n",
              "    background: linear-gradient(90deg, #fafafa 15%, #fafafa00 100%);\n",
              "  }\n",
              "}\n",
              "@media (prefers-color-scheme: dark) {\n",
              "  .container {\n",
              "    background-color: #1f1f1f;\n",
              "    box-shadow: 0 0 0 1px #ffffff26;\n",
              "  }\n",
              "  .headline-label {\n",
              "    color: #fff;\n",
              "  }\n",
              "  .chip {\n",
              "    background-color: #2c2c2c;\n",
              "    border-color: #3c4043;\n",
              "    color: #fff;\n",
              "    text-decoration: none;\n",
              "  }\n",
              "  .chip:hover {\n",
              "    background-color: #353536;\n",
              "  }\n",
              "  .chip:focus {\n",
              "    background-color: #353536;\n",
              "  }\n",
              "  .chip:active {\n",
              "    background-color: #464849;\n",
              "    border-color: #53575b;\n",
              "  }\n",
              "  .logo-light {\n",
              "    display: none;\n",
              "  }\n",
              "  .gradient {\n",
              "    background: linear-gradient(90deg, #1f1f1f 15%, #1f1f1f00 100%);\n",
              "  }\n",
              "}\n",
              "</style>\n",
              "<div class=\"container\">\n",
              "  <div class=\"headline\">\n",
              "    <svg class=\"logo-light\" width=\"18\" height=\"18\" viewBox=\"9 9 35 35\" fill=\"none\" xmlns=\"http://www.w3.org/2000/svg\">\n",
              "      <path fill-rule=\"evenodd\" clip-rule=\"evenodd\" d=\"M42.8622 27.0064C42.8622 25.7839 42.7525 24.6084 42.5487 23.4799H26.3109V30.1568H35.5897C35.1821 32.3041 33.9596 34.1222 32.1258 35.3448V39.6864H37.7213C40.9814 36.677 42.8622 32.2571 42.8622 27.0064V27.0064Z\" fill=\"#4285F4\"/>\n",
              "      <path fill-rule=\"evenodd\" clip-rule=\"evenodd\" d=\"M26.3109 43.8555C30.9659 43.8555 34.8687 42.3195 37.7213 39.6863L32.1258 35.3447C30.5898 36.3792 28.6306 37.0061 26.3109 37.0061C21.8282 37.0061 18.0195 33.9811 16.6559 29.906H10.9194V34.3573C13.7563 39.9841 19.5712 43.8555 26.3109 43.8555V43.8555Z\" fill=\"#34A853\"/>\n",
              "      <path fill-rule=\"evenodd\" clip-rule=\"evenodd\" d=\"M16.6559 29.8904C16.3111 28.8559 16.1074 27.7588 16.1074 26.6146C16.1074 25.4704 16.3111 24.3733 16.6559 23.3388V18.8875H10.9194C9.74388 21.2072 9.06992 23.8247 9.06992 26.6146C9.06992 29.4045 9.74388 32.022 10.9194 34.3417L15.3864 30.8621L16.6559 29.8904V29.8904Z\" fill=\"#FBBC05\"/>\n",
              "      <path fill-rule=\"evenodd\" clip-rule=\"evenodd\" d=\"M26.3109 16.2386C28.85 16.2386 31.107 17.1164 32.9095 18.8091L37.8466 13.8719C34.853 11.082 30.9659 9.3736 26.3109 9.3736C19.5712 9.3736 13.7563 13.245 10.9194 18.8875L16.6559 23.3388C18.0195 19.2636 21.8282 16.2386 26.3109 16.2386V16.2386Z\" fill=\"#EA4335\"/>\n",
              "    </svg>\n",
              "    <svg class=\"logo-dark\" width=\"18\" height=\"18\" viewBox=\"0 0 48 48\" xmlns=\"http://www.w3.org/2000/svg\">\n",
              "      <circle cx=\"24\" cy=\"23\" fill=\"#FFF\" r=\"22\"/>\n",
              "      <path d=\"M33.76 34.26c2.75-2.56 4.49-6.37 4.49-11.26 0-.89-.08-1.84-.29-3H24.01v5.99h8.03c-.4 2.02-1.5 3.56-3.07 4.56v.75l3.91 2.97h.88z\" fill=\"#4285F4\"/>\n",
              "      <path d=\"M15.58 25.77A8.845 8.845 0 0 0 24 31.86c1.92 0 3.62-.46 4.97-1.31l4.79 3.71C31.14 36.7 27.65 38 24 38c-5.93 0-11.01-3.4-13.45-8.36l.17-1.01 4.06-2.85h.8z\" fill=\"#34A853\"/>\n",
              "      <path d=\"M15.59 20.21a8.864 8.864 0 0 0 0 5.58l-5.03 3.86c-.98-2-1.53-4.25-1.53-6.64 0-2.39.55-4.64 1.53-6.64l1-.22 3.81 2.98.22 1.08z\" fill=\"#FBBC05\"/>\n",
              "      <path d=\"M24 14.14c2.11 0 4.02.75 5.52 1.98l4.36-4.36C31.22 9.43 27.81 8 24 8c-5.93 0-11.01 3.4-13.45 8.36l5.03 3.85A8.86 8.86 0 0 1 24 14.14z\" fill=\"#EA4335\"/>\n",
              "    </svg>\n",
              "    <div class=\"gradient-container\"><div class=\"gradient\"></div></div>\n",
              "  </div>\n",
              "  <div class=\"carousel\">\n",
              "    <a class=\"chip\" href=\"https://vertexaisearch.cloud.google.com/grounding-api-redirect/AQXblrxpwnyo7hgmtYfAYrrxHmEAWUpx7gDAPI80fL-x2qTdu9gxuj1obzHEfuRt_mKLEOnKdX5hcxzMXGrxJRDlvHqIDOv1p2OAXYQ-NHvCkBbP5nJ4Pev10n-Sy88MQqqQxwVLzHi_LSzix-e378Pf1o-FpGWYI3K8E5ToXvnmeCdm8KGcEhr_90D3SxHZPwdI2BeuMo3iuVBjnHKmR79zEilxuBP3Eq0EHPQaftnPA9GD7YWtAU3drtWCD8bNZEl5bw8=\">mRNA vaccine clinical trials timeline non covid applications</a>\n",
              "    <a class=\"chip\" href=\"https://vertexaisearch.cloud.google.com/grounding-api-redirect/AQXblrzs44HcGCd2pPuSA-1ykW8dwS2bB-TODK_R66L4xEaA28TmVaroLOlNGCRRutOcIP5NuWXFisgh1poCeIvewS7zTRzIrIRpQYHSESAsWs57N7-kKKjx8bqGphe0rk8oI4TejGy38fGHRy5OY0Oq1tP9mC1SCY94MP8fCQgSY3ZezLAiPX6-cBPttTaWObBPq1NQIhtKXiTS4O9AxHPlcTm_s1_nKkfLFa1uosWSGWcNCjE2SDQdXFmQTEawRMM=\">mRNA vaccine technology breakthroughs 2023-2024 non covid</a>\n",
              "    <a class=\"chip\" href=\"https://vertexaisearch.cloud.google.com/grounding-api-redirect/AQXblrwoAvsgGojQ5sP2vObH3m-n_pameLmxlJoRxPt1fs8u0wScdk885ySmbeE6ycFLNy1_rcSZGyKuQduHltL9ReFPAccBnyqP3ZfeJF5BHERIDM8L8AoDJUK5UUtG24BNrOIhqWRhGOJIeHlzfnNyrjE_0yJ08yFhLUbdlY4RZzEXTaBlYjMKLlKjZ4Qht9wmHj4HAR5jqaqH0QMfWReZW1xgK1lROwSh8Q4yqHQUa_6kn-d8cQanZMMg3gs=\">mRNA vaccine research institutions non covid 2023-2024</a>\n",
              "  </div>\n",
              "</div>\n"
            ]
          },
          "metadata": {}
        }
      ]
    },
    {
      "cell_type": "code",
      "source": [
        "summary = \"\"\"\n",
        "## Workshop Summary\n",
        "\n",
        "In this comprehensive workshop, we've explored Gemini 2.0's advanced search capabilities:\n",
        "\n",
        "### Key Concepts Covered\n",
        "- Setting up the Google Gen AI SDK environment\n",
        "- Comparing responses with and without search\n",
        "- Maintaining context in search-based conversations\n",
        "- Creating data visualizations with search-sourced data\n",
        "- Combining search with multimodal inputs\n",
        "- Practical applications across various domains\n",
        "- Advanced search techniques and best practices\n",
        "- Integrating search with function calling\n",
        "\n",
        "### Next Steps for Your Learning Journey\n",
        "\n",
        "1. **Experiment with Different Models**\n",
        "   - Try both Flash and Pro models to understand their strengths\n",
        "   - Observe how different models utilize search resources\n",
        "\n",
        "2. **Build a Practical Project**\n",
        "   - Create a research assistant, market analyzer, or travel planner\n",
        "   - Combine search with other capabilities like code generation\n",
        "\n",
        "3. **Explore Advanced Features**\n",
        "   - Dive into multimodal capabilities with image analysis\n",
        "   - Experiment with combining function calling and search\n",
        "\n",
        "4. **Contribute to the Community**\n",
        "   - Share your findings and innovative applications\n",
        "   - Contribute examples to open-source Gemini projects\n",
        "\n",
        "5. **Stay Updated**\n",
        "   - Gemini models and capabilities are constantly evolving\n",
        "   - Check the official documentation for the latest features\n",
        "\n",
        "### Resources\n",
        "- Google Gen AI SDK Documentation: https://ai.google.dev/docs\n",
        "- Gemini API Cookbook: https://github.com/google-gemini/cookbook/\n",
        "- Google AI Studio: https://ai.google.dev/\n",
        "\"\"\"\n",
        "\n",
        "display(Markdown(summary))\n",
        "\n",
        "print(\"Thank you for participating in this workshop!\")\n",
        "print(\"We hope you're inspired to build amazing applications with Gemini 2.0's search capabilities.\")"
      ],
      "metadata": {
        "colab": {
          "base_uri": "https://localhost:8080/",
          "height": 787
        },
        "id": "PJCliD0U9OJu",
        "outputId": "e142a091-93c4-4325-f470-bc1969b53158"
      },
      "execution_count": 19,
      "outputs": [
        {
          "output_type": "display_data",
          "data": {
            "text/plain": [
              "<IPython.core.display.Markdown object>"
            ],
            "text/markdown": "\n## Workshop Summary\n\nIn this comprehensive workshop, we've explored Gemini 2.0's advanced search capabilities:\n\n### Key Concepts Covered\n- Setting up the Google Gen AI SDK environment\n- Comparing responses with and without search\n- Maintaining context in search-based conversations\n- Creating data visualizations with search-sourced data\n- Combining search with multimodal inputs\n- Practical applications across various domains\n- Advanced search techniques and best practices\n- Integrating search with function calling\n\n### Next Steps for Your Learning Journey\n\n1. **Experiment with Different Models**\n   - Try both Flash and Pro models to understand their strengths\n   - Observe how different models utilize search resources\n\n2. **Build a Practical Project**\n   - Create a research assistant, market analyzer, or travel planner\n   - Combine search with other capabilities like code generation\n\n3. **Explore Advanced Features**\n   - Dive into multimodal capabilities with image analysis\n   - Experiment with combining function calling and search\n\n4. **Contribute to the Community**\n   - Share your findings and innovative applications\n   - Contribute examples to open-source Gemini projects\n\n5. **Stay Updated**\n   - Gemini models and capabilities are constantly evolving\n   - Check the official documentation for the latest features\n\n### Resources\n- Google Gen AI SDK Documentation: https://ai.google.dev/docs\n- Gemini API Cookbook: https://github.com/google-gemini/cookbook/\n- Google AI Studio: https://ai.google.dev/\n"
          },
          "metadata": {}
        },
        {
          "output_type": "stream",
          "name": "stdout",
          "text": [
            "Thank you for participating in this workshop!\n",
            "We hope you're inspired to build amazing applications with Gemini 2.0's search capabilities.\n"
          ]
        }
      ]
    },
    {
      "cell_type": "code",
      "source": [],
      "metadata": {
        "id": "OIHn-f77gdbz"
      },
      "execution_count": null,
      "outputs": []
    }
  ]
}