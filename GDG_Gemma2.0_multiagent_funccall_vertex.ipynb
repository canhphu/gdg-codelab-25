{
  "nbformat": 4,
  "nbformat_minor": 0,
  "metadata": {
    "colab": {
      "provenance": [],
      "authorship_tag": "ABX9TyMV2eGpciWVUIstI5M3J3Ph",
      "include_colab_link": true
    },
    "kernelspec": {
      "name": "python3",
      "display_name": "Python 3"
    },
    "language_info": {
      "name": "python"
    }
  },
  "cells": [
    {
      "cell_type": "markdown",
      "metadata": {
        "id": "view-in-github",
        "colab_type": "text"
      },
      "source": [
        "<a href=\"https://colab.research.google.com/github/linhkid/gdg-codelab-25/blob/main/GDG_Gemma2.0_multiagent_funccall_vertex.ipynb\" target=\"_parent\"><img src=\"https://colab.research.google.com/assets/colab-badge.svg\" alt=\"Open In Colab\"/></a>"
      ]
    },
    {
      "cell_type": "markdown",
      "source": [
        "# Codelab: Build your first agentic AI with Gemma 2.0 and Vertex AI"
      ],
      "metadata": {
        "id": "a7gUpn3TTtrH"
      }
    },
    {
      "cell_type": "markdown",
      "source": [
        "# Step 1: Setup and Authentication"
      ],
      "metadata": {
        "id": "PSl0HXChUPla"
      }
    },
    {
      "cell_type": "code",
      "execution_count": 41,
      "metadata": {
        "id": "9JbTdORvTMCa",
        "outputId": "4277fe14-9780-4f65-9b1d-b394c21b86c8",
        "colab": {
          "base_uri": "https://localhost:8080/"
        }
      },
      "outputs": [
        {
          "output_type": "stream",
          "name": "stdout",
          "text": [
            "✅ Required packages installed. Authenticating with Vertex AI...\n",
            "\n"
          ]
        }
      ],
      "source": [
        "# Install dependencies and authenticate with Vertex AI\n",
        "\n",
        "# @markdown This cell will install required packages and help you authenticate with Google Cloud.\n",
        "\n",
        "!pip install -q -U google-cloud-aiplatform\n",
        "!pip install -q matplotlib pandas numpy\n",
        "\n",
        "from google.colab import auth\n",
        "import os\n",
        "import json\n",
        "import time\n",
        "import pandas as pd\n",
        "import numpy as np\n",
        "import matplotlib.pyplot as plt\n",
        "from IPython.display import display, HTML, Markdown\n",
        "\n",
        "# Authenticate to Google Cloud\n",
        "auth.authenticate_user()\n",
        "\n",
        "print(\"✅ Required packages installed. Authenticating with Vertex AI...\\n\")"
      ]
    },
    {
      "cell_type": "markdown",
      "source": [
        "# Step 2: Initialize Vertex AI for Gemma 2.0"
      ],
      "metadata": {
        "id": "7KS6lKbjUT0x"
      }
    },
    {
      "cell_type": "code",
      "source": [
        "# Initialize Vertex AI and Gemma 2.0\n",
        "# @markdown Configure your project and set up Gemma 2.0 via Vertex AI\n",
        "\n",
        "import vertexai\n",
        "from vertexai.generative_models import GenerationConfig, GenerativeModel\n",
        "\n",
        "# Set your project ID\n",
        "PROJECT_ID = \"gdg-codelab-12thMay\"  # @param {type: \"string\", placeholder: \"[your-project-id]\", isTemplate: true}\n",
        "if not PROJECT_ID or PROJECT_ID == \"[your-project-id]\":\n",
        "    try:\n",
        "        # Try to retrieve project ID from environment variable\n",
        "        PROJECT_ID = os.environ.get(\"GOOGLE_CLOUD_PROJECT\")\n",
        "        print(f\"Using project ID from environment: {PROJECT_ID}\")\n",
        "    except:\n",
        "        print(\"❌ Please set your Google Cloud project ID\")\n",
        "\n",
        "# Set location\n",
        "LOCATION = \"asia-southeast1\"  # Vertex AI region\n",
        "\n",
        "# Initialize Vertex AI\n",
        "vertexai.init(project=PROJECT_ID, location=LOCATION)\n",
        "\n",
        "# Gemma 2.0 model setup\n",
        "MODEL_NAME = \"gemma-2-2b-it-1742823574849\"  # Instruction-tuned Gemma 2.0 model\n",
        "\n",
        "try:\n",
        "    # Load the Gemma 2.0 model from Vertex AI\n",
        "    model = GenerativeModel(MODEL_NAME)\n",
        "    print(f\"✅ Successfully initialized {MODEL_NAME} on Vertex AI\")\n",
        "except Exception as e:\n",
        "    print(f\"❌ Error initializing model: {e}\")\n",
        "    print(\"Please check your project configuration and model availability in Vertex AI\")\n",
        "\n",
        "# Helper function for generating responses\n",
        "def generate_response(prompt, temperature=0.2, max_output_tokens=1024, top_p=0.8):\n",
        "    \"\"\"Generate a response from Gemma 2.0 on Vertex AI\"\"\"\n",
        "    try:\n",
        "        generation_config = GenerationConfig(\n",
        "            temperature=temperature,\n",
        "            max_output_tokens=max_output_tokens,\n",
        "            top_p=top_p\n",
        "        )\n",
        "\n",
        "        response = model.generate_content(\n",
        "            prompt,\n",
        "            generation_config=generation_config\n",
        "        )\n",
        "\n",
        "        return response.text\n",
        "    except Exception as e:\n",
        "        print(f\"Error generating response: {e}\")\n",
        "        return \"Error generating response.\"\n",
        "\n",
        "print(\"✅ Helper functions defined\")\n"
      ],
      "metadata": {
        "id": "vKOrujaVUj26",
        "outputId": "6423343f-8d08-47b2-fc6c-1b286e4066b3",
        "colab": {
          "base_uri": "https://localhost:8080/"
        }
      },
      "execution_count": 42,
      "outputs": [
        {
          "output_type": "stream",
          "name": "stdout",
          "text": [
            "✅ Successfully initialized gemma-2-2b-it-1742823574849 on Vertex AI\n",
            "✅ Helper functions defined\n"
          ]
        }
      ]
    },
    {
      "cell_type": "markdown",
      "source": [
        "## Application 1: Structured Information Extraction"
      ],
      "metadata": {
        "id": "e39NwB54UpZw"
      }
    },
    {
      "cell_type": "code",
      "source": [
        "# @markdown Extract structured data from text using Gemma 2.0 on Vertex AI\n",
        "\n",
        "def extract_structured_info(text, schema_description):\n",
        "    \"\"\"\n",
        "    Extract structured information from text based on a schema\n",
        "\n",
        "    Args:\n",
        "        text (str): Text to extract information from\n",
        "        schema_description (str): Description of the schema to extract\n",
        "\n",
        "    Returns:\n",
        "        dict: Extracted structured information\n",
        "    \"\"\"\n",
        "    prompt = f\"\"\"I need to extract structured information from the following text.\n",
        "\n",
        "Text: \"{text}\"\n",
        "\n",
        "Please extract the following information:\n",
        "{schema_description}\n",
        "\n",
        "Return your answer as a valid JSON object only. No additional explanation needed.\n",
        "\"\"\"\n",
        "\n",
        "    response = generate_response(prompt, temperature=0.1)\n",
        "\n",
        "    # Extract JSON from response\n",
        "    try:\n",
        "        # Find JSON-like structure in response\n",
        "        start_idx = response.find('{')\n",
        "        end_idx = response.rfind('}')\n",
        "\n",
        "        if start_idx != -1 and end_idx != -1:\n",
        "            json_str = response[start_idx:end_idx+1]\n",
        "            return json.loads(json_str)\n",
        "        else:\n",
        "            # If no JSON markers found, try parsing the whole response\n",
        "            return json.loads(response)\n",
        "    except json.JSONDecodeError:\n",
        "        return {\"error\": \"Invalid JSON in response\", \"raw_response\": response}\n",
        "\n",
        "# Example: Extract event details\n",
        "event_text = \"\"\"\n",
        "GDG DevFest Hanoi 2024 will be held on December 14th at the National Convention Center.\n",
        "The Google Developer Groups are organizing this technology conference focusing on AI,\n",
        "Mobile, Web, and Cloud technologies. Expected attendance is approximately 1,200\n",
        "developers and tech enthusiasts from across the region. Registration is open until\n",
        "December 1st, with tickets priced at $50 for regular admission and $25 for students.\n",
        "\"\"\"\n",
        "\n",
        "event_schema = \"\"\"\n",
        "- event_name: The name of the event\n",
        "- date: When the event will occur\n",
        "- location: Where the event will take place\n",
        "- organizer: Who is organizing the event\n",
        "- focus_areas: Technologies or topics covered\n",
        "- ticket_info: Pricing and registration details\n",
        "- attendees: Expected number or type of attendees\n",
        "\"\"\"\n",
        "\n",
        "print(\"\\n📊 Structured Information Extraction Example:\")\n",
        "print(\"Extracting event details using Gemma 2.0 on Vertex AI...\\n\")\n",
        "\n",
        "event_details = extract_structured_info(event_text, event_schema)\n",
        "print(\"Extracted Event Details:\")\n",
        "print(json.dumps(event_details, indent=2))\n"
      ],
      "metadata": {
        "id": "vCqZFPVfUyoa",
        "outputId": "19b75687-7cc2-4538-bbf4-e5e5f6a02c15",
        "colab": {
          "base_uri": "https://localhost:8080/"
        }
      },
      "execution_count": 43,
      "outputs": [
        {
          "output_type": "stream",
          "name": "stdout",
          "text": [
            "\n",
            "📊 Structured Information Extraction Example:\n",
            "Extracting event details using Gemma 2.0 on Vertex AI...\n",
            "\n",
            "Error generating response: 403 POST https://asia-southeast1-aiplatform.googleapis.com/v1/projects/gdg-codelab-12thMay/locations/asia-southeast1/publishers/google/models/gemma-2-2b-it-1742823574849:generateContent?%24alt=json%3Benum-encoding%3Dint: Permission denied on resource project gdg-codelab-12thMay. [{'@type': 'type.googleapis.com/google.rpc.ErrorInfo', 'reason': 'CONSUMER_INVALID', 'domain': 'googleapis.com', 'metadata': {'service': 'aiplatform.googleapis.com', 'consumer': 'projects/gdg-codelab-12thMay', 'containerInfo': 'gdg-codelab-12thMay'}}, {'@type': 'type.googleapis.com/google.rpc.LocalizedMessage', 'locale': 'en-US', 'message': 'Permission denied on resource project gdg-codelab-12thMay.'}, {'@type': 'type.googleapis.com/google.rpc.Help', 'links': [{'description': 'Google developers console', 'url': 'https://console.developers.google.com'}]}]\n",
            "Extracted Event Details:\n",
            "{\n",
            "  \"error\": \"Invalid JSON in response\",\n",
            "  \"raw_response\": \"Error generating response.\"\n",
            "}\n"
          ]
        }
      ]
    },
    {
      "cell_type": "markdown",
      "source": [
        "## Application 2: Multi-agent Research System powered by Gemma 2.0"
      ],
      "metadata": {
        "id": "QBEdmIV8U5rS"
      }
    }
  ]
}