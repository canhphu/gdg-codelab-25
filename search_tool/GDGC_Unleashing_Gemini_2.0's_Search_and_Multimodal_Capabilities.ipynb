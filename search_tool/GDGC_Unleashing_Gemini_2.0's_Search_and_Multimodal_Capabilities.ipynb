{
  "nbformat": 4,
  "nbformat_minor": 0,
  "metadata": {
    "colab": {
      "provenance": [],
      "toc_visible": true,
      "authorship_tag": "ABX9TyOE4nEq2oQzQt1hJGiNxy59",
      "include_colab_link": true
    },
    "kernelspec": {
      "name": "python3",
      "display_name": "Python 3"
    },
    "language_info": {
      "name": "python"
    }
  },
  "cells": [
    {
      "cell_type": "markdown",
      "metadata": {
        "id": "view-in-github",
        "colab_type": "text"
      },
      "source": [
        "<a href=\"https://colab.research.google.com/github/linhkid/gdg-codelab-25/blob/main/search_tool/GDGC_Unleashing_Gemini_2.0's_Search_and_Multimodal_Capabilities.ipynb\" target=\"_parent\"><img src=\"https://colab.research.google.com/assets/colab-badge.svg\" alt=\"Open In Colab\"/></a>"
      ]
    },
    {
      "cell_type": "markdown",
      "source": [
        "# Introduction"
      ],
      "metadata": {
        "id": "9aMNWK97jGlo"
      }
    },
    {
      "cell_type": "markdown",
      "source": [
        "Welcome to this Codelab! We'll explore how to leverage Gemini 2.0's built-in Google Search tool for real-time information retrieval, combine it with multimodal capabilities, and build practical applications with the Google Gen AI SDK.\n"
      ],
      "metadata": {
        "id": "qJf-4L8DxhJD"
      }
    },
    {
      "cell_type": "markdown",
      "source": [
        "# Setup Section\n",
        "\n",
        "## 1. Install Dependencies and Setup Environment\n",
        "\n",
        "### Install the Google Gen AI SDK\n",
        "### !pip install -U -q google-genai matplotlib pandas plotly python-dateutil"
      ],
      "metadata": {
        "id": "SpM7TwYpxrgg"
      }
    },
    {
      "cell_type": "code",
      "source": [
        "!pip install -U -q google-genai matplotlib pandas plotly python-dateutil"
      ],
      "metadata": {
        "id": "8HgX5Rf68R_S",
        "outputId": "ae3665d7-7d60-4284-dc55-f2b0f74a0695",
        "colab": {
          "base_uri": "https://localhost:8080/"
        }
      },
      "execution_count": 2,
      "outputs": [
        {
          "metadata": {
            "tags": null
          },
          "name": "stdout",
          "output_type": "stream",
          "text": [
            "\u001b[2K     \u001b[90m━━━━━━━━━━━━━━━━━━━━━━━━━━━━━━━━━━━━━━━━\u001b[0m \u001b[32m89.9/89.9 kB\u001b[0m \u001b[31m1.6 MB/s\u001b[0m eta \u001b[36m0:00:00\u001b[0m\n",
            "\u001b[2K   \u001b[90m━━━━━━━━━━━━━━━━━━━━━━━━━━━━━━━━━━━━━━━━\u001b[0m \u001b[32m149.6/149.6 kB\u001b[0m \u001b[31m6.1 MB/s\u001b[0m eta \u001b[36m0:00:00\u001b[0m\n",
            "\u001b[2K   \u001b[90m━━━━━━━━━━━━━━━━━━━━━━━━━━━━━━━━━━━━━━━━\u001b[0m \u001b[32m8.6/8.6 MB\u001b[0m \u001b[31m22.6 MB/s\u001b[0m eta \u001b[36m0:00:00\u001b[0m\n",
            "\u001b[2K   \u001b[90m━━━━━━━━━━━━━━━━━━━━━━━━━━━━━━━━━━━━━━━━\u001b[0m \u001b[32m13.1/13.1 MB\u001b[0m \u001b[31m43.2 MB/s\u001b[0m eta \u001b[36m0:00:00\u001b[0m\n",
            "\u001b[2K   \u001b[90m━━━━━━━━━━━━━━━━━━━━━━━━━━━━━━━━━━━━━━━━\u001b[0m \u001b[32m14.8/14.8 MB\u001b[0m \u001b[31m21.4 MB/s\u001b[0m eta \u001b[36m0:00:00\u001b[0m\n",
            "\u001b[2K   \u001b[90m━━━━━━━━━━━━━━━━━━━━━━━━━━━━━━━━━━━━━━━━\u001b[0m \u001b[32m229.9/229.9 kB\u001b[0m \u001b[31m7.1 MB/s\u001b[0m eta \u001b[36m0:00:00\u001b[0m\n",
            "\u001b[?25h\u001b[31mERROR: pip's dependency resolver does not currently take into account all the packages that are installed. This behaviour is the source of the following dependency conflicts.\n",
            "google-colab 1.0.0 requires pandas==2.2.2, but you have pandas 2.2.3 which is incompatible.\u001b[0m\u001b[31m\n",
            "\u001b[0m"
          ]
        }
      ]
    },
    {
      "cell_type": "code",
      "source": [
        "import os\n",
        "import json\n",
        "import time\n",
        "import numpy as np\n",
        "import pandas as pd\n",
        "import matplotlib.pyplot as plt\n",
        "from datetime import datetime, timedelta\n",
        "from IPython.display import display, HTML, Markdown\n",
        "from google.colab import userdata\n",
        "\n",
        "print(\"--- 1. Setting up environment ---\")\n",
        "print(\"# Required packages installed. Setting up your API key next.\")\n",
        "\n",
        "# Load the API key from Colab secrets\n",
        "# For security, we use Colab's userdata feature\n",
        "try:\n",
        "    # @markdown Make sure you have saved your Google AI API key as a Colab secret named 'GOOGLE_API_KEY'\n",
        "    os.environ['GOOGLE_API_KEY'] = userdata.get('GOOGLE_API_KEY')\n",
        "    print(\"✅ API key loaded successfully!\")\n",
        "except Exception as e:\n",
        "    print(f\"❌ Error loading API key: {e}\")\n",
        "    print(\"Please set up your API key by following these steps:\")\n",
        "    print(\"1. Go to https://ai.google.dev/ to get your API key\")\n",
        "    print(\"2. In Colab, go to 'Secrets' in the left sidebar\")\n",
        "    print(\"3. Add a new secret named 'GOOGLE_API_KEY' with your key as the value\")\n",
        "    print(\"4. Re-run this cell\")\n"
      ],
      "metadata": {
        "colab": {
          "base_uri": "https://localhost:8080/"
        },
        "id": "JMvkfvtUxzN5",
        "outputId": "2c7a9a53-8a58-4e47-f70a-3fb674b0720f"
      },
      "execution_count": 8,
      "outputs": [
        {
          "output_type": "stream",
          "name": "stdout",
          "text": [
            "--- 1. Setting up environment ---\n",
            "# Required packages installed. Setting up your API key next.\n",
            "✅ API key loaded successfully!\n"
          ]
        }
      ]
    },
    {
      "cell_type": "markdown",
      "source": [
        "# Gemini Model Initialization\n",
        "## 2. Initialize Gemini 2.0 Model"
      ],
      "metadata": {
        "id": "P_pNvSeAyB98"
      }
    },
    {
      "cell_type": "code",
      "source": [
        "from google import genai\n",
        "\n",
        "# Initialize the client with your API key\n",
        "client = genai.Client(api_key=os.environ['GOOGLE_API_KEY'],\n",
        "                     http_options={'api_version': 'v1alpha'})\n",
        "\n",
        "\n",
        "# Available models - uncomment the one you want to use\n",
        "MODEL = 'gemini-2.0-flash'  # Fast, good for quick searches and responses\n",
        "MODEL_PRO = 'gemini-2.5-pro-exp-03-25'  # More capable but slower, and often being overloaded\n",
        "#MODEL = 'gemini-2.0-flash-thinking-exp-01-21'\n",
        "\n",
        "print(f\"✅ Using model: {MODEL}\")\n",
        "print(\"# Note: Different models have different capabilities and pricing.\")\n",
        "print(\"# The 'flash' model is faster while 'pro' is more capable.\")"
      ],
      "metadata": {
        "colab": {
          "base_uri": "https://localhost:8080/"
        },
        "id": "4fL7Us04yHRW",
        "outputId": "521cb72d-9b81-486e-c8d4-5976d01c8966"
      },
      "execution_count": 20,
      "outputs": [
        {
          "output_type": "stream",
          "name": "stdout",
          "text": [
            "✅ Using model: gemini-2.0-flash\n",
            "# Note: Different models have different capabilities and pricing.\n",
            "# The 'flash' model is faster while 'pro' is more capable.\n"
          ]
        }
      ]
    },
    {
      "cell_type": "markdown",
      "source": [
        "# Helper Functions\n",
        "## 3. Define Helper Functions for Response Display"
      ],
      "metadata": {
        "id": "f6fisRqryJTL"
      }
    },
    {
      "cell_type": "code",
      "source": [
        "def show_parts(response):\n",
        "    \"\"\"Display various parts of a Gemini response including text, code, and search results.\"\"\"\n",
        "    parts = response.candidates[0].content.parts\n",
        "\n",
        "    if parts is None:\n",
        "        finish_reason = response.candidates[0].finish_reason\n",
        "        print(f'Finish reason: {finish_reason}')\n",
        "        return\n",
        "\n",
        "    for part in response.candidates[0].content.parts:\n",
        "        if part.text:\n",
        "            display(Markdown(part.text))\n",
        "        elif hasattr(part, 'executable_code') and part.executable_code:\n",
        "            display(Markdown(f'```python\\n{part.executable_code.code}\\n```'))\n",
        "        else:\n",
        "            print(\"Other part type:\")\n",
        "            print(json.dumps(part.model_dump(exclude_none=True), indent=2))\n",
        "\n",
        "    # Display search results if any\n",
        "    grounding_metadata = response.candidates[0].grounding_metadata\n",
        "    if grounding_metadata and grounding_metadata.search_entry_point:\n",
        "        print(\"\\n📊 Search Results Used:\")\n",
        "        display(HTML(grounding_metadata.search_entry_point.rendered_content))"
      ],
      "metadata": {
        "id": "jZW-8UAxyOZZ"
      },
      "execution_count": 10,
      "outputs": []
    },
    {
      "cell_type": "code",
      "source": [
        "def visualize_search_usage(responses):\n",
        "    \"\"\"Create a visualization of how many searches were used in responses.\"\"\"\n",
        "    search_counts = []\n",
        "\n",
        "    # Process multiple responses to count search usage\n",
        "    for i, resp in enumerate(responses):\n",
        "        count = 0\n",
        "        if hasattr(resp.candidates[0], 'grounding_metadata') and resp.candidates[0].grounding_metadata:\n",
        "            meta = resp.candidates[0].grounding_metadata\n",
        "            if hasattr(meta, 'search_entry_point') and meta.search_entry_point:\n",
        "                # Count the number of search queries\n",
        "                count = len(meta.search_entry_point.references) if hasattr(meta.search_entry_point, 'references') else 1\n",
        "        search_counts.append(count)\n",
        "\n",
        "    # Create a simple bar chart\n",
        "    plt.figure(figsize=(10, 5))\n",
        "    plt.bar(range(len(search_counts)), search_counts, color='skyblue')\n",
        "    plt.xlabel('Query Number')\n",
        "    plt.ylabel('Number of Searches Used')\n",
        "    plt.title('Search Utilization per Query')\n",
        "    plt.xticks(range(len(search_counts)))\n",
        "    plt.grid(axis='y', linestyle='--', alpha=0.7)\n",
        "    plt.show()\n"
      ],
      "metadata": {
        "id": "p_uzGkQBySWk"
      },
      "execution_count": 11,
      "outputs": []
    },
    {
      "cell_type": "code",
      "source": [
        "print(\"✅ Helper functions defined for displaying responses and visualizing search usage\")\n",
        "print(\"# These functions will help us examine how Gemini uses search and processes information.\")"
      ],
      "metadata": {
        "colab": {
          "base_uri": "https://localhost:8080/"
        },
        "id": "QpTh5bCWyW23",
        "outputId": "8a89b248-2920-46d3-ae89-9a0108a974fd"
      },
      "execution_count": 12,
      "outputs": [
        {
          "output_type": "stream",
          "name": "stdout",
          "text": [
            "✅ Helper functions defined for displaying responses and visualizing search usage\n",
            "# These functions will help us examine how Gemini uses search and processes information.\n"
          ]
        }
      ]
    },
    {
      "cell_type": "markdown",
      "source": [
        "# Basic Search Example\n",
        "\n",
        "## 4. Comparing Responses With and Without Search\n",
        "\n"
      ],
      "metadata": {
        "id": "w7SgKf6iyVBJ"
      }
    },
    {
      "cell_type": "code",
      "source": [
        "print(\"\\n--- 4. Basic Search Comparison Demo ---\")\n",
        "print(\"# Let's compare how Gemini responds with and without search capabilities\")\n",
        "\n",
        "# Chat without search\n",
        "regular_chat = client.chats.create(model=MODEL)\n",
        "\n",
        "q4 = \"What are the latest developments in quantum computing?\"\n",
        "print(\"\\n📝 Query without search: '{}'\".format(q4))\n",
        "regular_response = regular_chat.send_message(q4)\n",
        "print(\"\\n🤖 Response WITHOUT search tool:\")\n",
        "show_parts(regular_response)\n",
        "\n",
        "# Wait a moment before next query\n",
        "time.sleep(2)\n",
        "\n",
        "# Chat with search enabled\n",
        "search_tool = {'google_search': {}}\n",
        "search_chat = client.chats.create(model=MODEL, config={'tools': [search_tool]})\n",
        "\n",
        "print(\"\\n📝 Same query WITH search: '{}'\".format(q4))\n",
        "search_response = search_chat.send_message(q4)\n",
        "print(\"\\n🤖 Response WITH search tool:\")\n",
        "show_parts(search_response)\n",
        "\n",
        "print(\"\\n# Notice the differences in specificity, recency, and detail between the two responses.\")\n",
        "print(\"# The search-enabled response can cite recent developments and specific breakthroughs.\")"
      ],
      "metadata": {
        "colab": {
          "base_uri": "https://localhost:8080/",
          "height": 1000
        },
        "id": "RYz80tuJyasd",
        "outputId": "672ca592-1963-49a5-a047-dedf4f9eca43"
      },
      "execution_count": 15,
      "outputs": [
        {
          "output_type": "stream",
          "name": "stdout",
          "text": [
            "\n",
            "--- 4. Basic Search Comparison Demo ---\n",
            "# Let's compare how Gemini responds with and without search capabilities\n",
            "\n",
            "📝 Query without search: 'What are the latest developments in quantum computing?'\n",
            "\n",
            "🤖 Response WITHOUT search tool:\n"
          ]
        },
        {
          "output_type": "display_data",
          "data": {
            "text/plain": [
              "<IPython.core.display.Markdown object>"
            ],
            "text/markdown": "Quantum computing is a rapidly evolving field, so the \"latest developments\" change frequently. Here's a summary of some key areas of progress and recent highlights:\n\n**1. Hardware Advancements:**\n\n*   **Increasing Qubit Counts:** This is still a major focus. Companies are constantly striving to create processors with more qubits, which are the fundamental units of quantum information. While simply increasing qubit count doesn't guarantee better performance (qubit quality is crucial), it's a necessary step toward tackling more complex problems. Recent developments include:\n    *   **IBM:** They announced their \"Condor\" processor with 1,121 qubits in 2022.  They're constantly improving their architecture and are working towards their quantum-centric supercomputer vision.\n    *   **Google:**  While specifics are often kept confidential, Google continues to advance their superconducting qubit technology, pushing for improved coherence and control.\n    *   **Quantinuum:**  They focus on trapped-ion technology, which generally offers better coherence times than superconducting qubits.  They've been making strides in increasing qubit connectivity and fidelity.\n    *   **Other Architectures:**  There's a lot of exciting work happening with other qubit modalities like photonic qubits (Xanadu), neutral atoms (ColdQuanta, Atom Computing), and topological qubits (Microsoft). Microsoft's topological qubit approach is a longer-term bet, but if successful, it could lead to more stable and robust quantum computers.\n\n*   **Improved Qubit Fidelity and Coherence:**  It's not just about the number of qubits; it's about how well they work.  Fidelity refers to the accuracy of quantum operations. Coherence refers to how long qubits can maintain their quantum state before decoherence (loss of quantum information) occurs. Recent progress involves:\n    *   **Materials Science:**  Researchers are exploring new materials and fabrication techniques to minimize noise and imperfections in qubit devices.\n    *   **Control Electronics:** Developing more precise and stable control systems to manipulate qubits accurately.\n    *   **Error Mitigation and Error Correction:** Error mitigation techniques aim to reduce the impact of errors in near-term quantum computations.  Error correction is the holy grail – schemes to actively detect and correct errors during computation, allowing for fault-tolerant quantum computing. Significant progress is being made in developing and testing error correction codes.\n\n*   **Quantum Networking:**  Connecting quantum computers together via quantum communication channels to form a quantum internet.  This would enable distributed quantum computing, secure quantum communication, and access to specialized quantum resources. Key developments include:\n    *   **Quantum Repeaters:** Devices that can extend the range of quantum communication by overcoming losses in transmission.\n    *   **Quantum Key Distribution (QKD):**  Secure communication protocols based on the laws of quantum physics.\n    *   **Standardization Efforts:** Developing standards for quantum communication protocols and hardware.\n\n**2. Software and Algorithms:**\n\n*   **Quantum Algorithm Development:**  Researchers are constantly discovering and refining quantum algorithms that can outperform classical algorithms for specific problems.  Notable areas include:\n    *   **Optimization:** Quantum algorithms for solving optimization problems, relevant to logistics, finance, and machine learning.  The Quantum Approximate Optimization Algorithm (QAOA) and variational quantum eigensolver (VQE) are actively researched.\n    *   **Quantum Machine Learning:** Developing quantum algorithms for machine learning tasks, such as classification, clustering, and generative modeling.\n    *   **Quantum Simulation:** Simulating quantum systems, such as molecules and materials, which is a promising application for quantum computers in chemistry, materials science, and drug discovery.\n    *   **Shor's Algorithm (Factoring):** Remains a key focus due to its implications for cryptography.  While a full-scale implementation is still far off, there's ongoing work on optimizing it and developing post-quantum cryptography to defend against potential attacks.\n    *   **Grover's Algorithm (Search):**  Provides a quadratic speedup for searching unsorted databases.\n\n*   **Quantum Software Development Tools:**  Creating programming languages, compilers, and development environments that make it easier to write and run quantum programs. Examples include:\n    *   **Qiskit (IBM):** A popular open-source quantum computing software development kit.\n    *   **Cirq (Google):** Another open-source framework for writing, manipulating, and optimizing quantum circuits.\n    *   **PennyLane (Xanadu):** Focuses on quantum machine learning and integration with popular machine learning libraries.\n    *   **Q# (Microsoft):**  Microsoft's quantum programming language.\n\n*   **Quantum Compilers:**  Tools that translate high-level quantum programs into the specific instructions that can be executed on a particular quantum computer.  This involves optimizing the program to minimize errors and take into account the limitations of the hardware.\n\n**3. Applications and Industry Adoption:**\n\n*   **Quantum Chemistry and Materials Science:**  Simulating molecules and materials to discover new drugs, design new materials with desired properties, and optimize chemical processes.\n*   **Finance:**  Developing quantum algorithms for portfolio optimization, risk management, and fraud detection.\n*   **Logistics and Supply Chain:**  Using quantum algorithms to optimize routing, scheduling, and resource allocation.\n*   **Drug Discovery:**  Simulating drug-target interactions to accelerate the drug discovery process.\n*   **Cybersecurity:** Developing post-quantum cryptography to protect against attacks from future quantum computers.\n*   **Quantum Sensing:**  Using quantum phenomena to create highly sensitive sensors for a variety of applications, such as medical imaging, environmental monitoring, and navigation.\n\n**4. Key Trends and Challenges:**\n\n*   **NISQ Era (Noisy Intermediate-Scale Quantum):**  We're currently in the NISQ era, where quantum computers are still relatively small and noisy.  Researchers are focused on developing algorithms and techniques that can be used to solve problems on these limited devices.\n*   **Fault-Tolerance:** Achieving fault-tolerant quantum computing, where errors can be reliably detected and corrected, is a major challenge. This requires significant improvements in qubit quality, control, and error correction techniques.\n*   **Scalability:** Scaling up quantum computers to thousands or millions of qubits is another major challenge. This requires developing new architectures, fabrication techniques, and control systems.\n*   **Quantum Supremacy/Advantage:** Demonstrating that a quantum computer can solve a problem that is impossible for any classical computer. While there have been claims of quantum supremacy, these are often controversial and the problems solved are not necessarily useful in practice.  The focus is now shifting towards demonstrating *quantum advantage*, where quantum computers can solve *practical* problems faster or more efficiently than classical computers.\n*   **The talent gap:**  There's a shortage of skilled quantum computing scientists and engineers.  Universities and companies are investing in education and training programs to address this gap.\n\n**Staying Updated:**\n\nDue to the rapid pace of development, it's essential to stay up-to-date with the latest research and news.  Here are some good resources:\n\n*   **Scientific Journals:** *Nature*, *Science*, *Physical Review Letters*, *Quantum*, *npj Quantum Information*\n*   **Preprint Servers:** arXiv (especially the quant-ph section)\n*   **Quantum Computing News Websites:** Quantum Computing Report, Inside Quantum Technology\n*   **Company Websites:** IBM Quantum, Google AI Quantum, Quantinuum, Xanadu, Microsoft Quantum, etc.\n*   **Conferences:**  American Physical Society (APS) March Meeting, Quantum Computing and Engineering (QCE), etc.\n\nKeep in mind that many claims in the field are often forward-looking and speculative. It's important to critically evaluate the information and understand the limitations of current quantum computers.\n"
          },
          "metadata": {}
        },
        {
          "output_type": "stream",
          "name": "stdout",
          "text": [
            "\n",
            "📝 Same query WITH search: 'What are the latest developments in quantum computing?'\n",
            "\n",
            "🤖 Response WITH search tool:\n"
          ]
        },
        {
          "output_type": "display_data",
          "data": {
            "text/plain": [
              "<IPython.core.display.Markdown object>"
            ],
            "text/markdown": "The latest developments in quantum computing encompass advancements in hardware, algorithms, and practical applications. Here's a summary of key areas:\n\n**1. Quantum Hardware Advancements:**\n*   **Hypercube Network Technologies:** These enhance the scalability and performance of quantum systems by improving communication between qubits.\n*   **Integrated Photonics:** Combining advanced photonic components with ion traps paves the way for more compact and efficient quantum devices.\n*   **Materials for Quantum Hardware:** Development of innovative materials like germanium and GeSn-based quantum well lasers aims to improve the efficiency and performance of nanoscale quantum devices.\n*   **New Qubit Architectures:** Novel qubit architectures are being developed to change quantum computing, such as a new architecture from Brookhaven National Laboratory.\n*   **Modular Quantum Computers:** IBM has introduced modular quantum computer technology that makes it simpler to scale and expand the capabilities of quantum computing.\n*   **Topological Qubits:** Researchers have achieved the first-ever topological qubit, a step toward fault-tolerant quantum computing.\n\n**2. Post-Quantum Cryptography:**\n*   **Development of Algorithms:** Due to the threat quantum computers pose to classical cryptographic methods, there's an emphasis on developing post-quantum cryptographic algorithms to secure sensitive data.\n\n**3. Quantum Machine Learning Integration:**\n*   **Deep Learning Techniques:** Frameworks are enabling the application of deep learning techniques in quantum systems.\n\n**4. Error Correction:**\n*   **Quantum Error Correction Advances:** Significant progress has been made in quantum error correction, with more efficient surface codes and improved alternate approaches like Cat Qubits.\n*   **Logical Qubits:** There is a shift in focus from physical qubits to logical qubits, which are arrangements of physical qubits that encode information in a way that protects against errors.\n\n**5. Quantum Computing Industry Trends:**\n*   **Quantum Cloud Services:** More companies are offering quantum cloud platforms, making quantum computing resources accessible without expensive hardware.\n*   **Hybrid Quantum-Classical Systems:** Systems combining classical and quantum computing are gaining traction to leverage the strengths of both technologies.\n*   **Quantum Foundries:** Facilities designed for the scalable production of qubits will reduce costs and standardize components, catalyzing hardware commercialization.\n*   **Quantum Security:** Post-quantum cryptography is evolving from theoretical constructs to practical applications, with potential rollouts in finance, defense, and critical infrastructure.\n\n**6. Quantum Sensors:**\n*   **Diamond Quantum Sensors:** Heteroepitaxial growth technology has enabled the creation of larger diamond substrates, opening opportunities for industrial-scale production of diamond quantum sensors.\n\n**7. Quantum Communication:**\n*   **Ultra-Secure Quantum Satellite Link:** Scientists have established the world's longest intercontinental ultra-secure quantum satellite link, spanning 12,900 km.\n\n**8. Key Players:**\n*   **Google:** Unveiled its new quantum chip, Willow, designed to overcome previous limitations and has demonstrated a quantum memory with below-threshold error rates.\n*   **IBM:** Aims to build a 1,000-qubit quantum computer by 2025.\n*   **Microsoft:** Expanding its Quantum Network and has entangled 12 logical qubits.\n*   **SpinQ:** Launched new quantum computing simulators to make quantum learning accessible.\n*   **Quantinuum:** Accelerated roadmap to achieve universal, fully fault-tolerant quantum computing by 2030.\n"
          },
          "metadata": {}
        },
        {
          "output_type": "stream",
          "name": "stdout",
          "text": [
            "\n",
            "📊 Search Results Used:\n"
          ]
        },
        {
          "output_type": "display_data",
          "data": {
            "text/plain": [
              "<IPython.core.display.HTML object>"
            ],
            "text/html": [
              "<style>\n",
              ".container {\n",
              "  align-items: center;\n",
              "  border-radius: 8px;\n",
              "  display: flex;\n",
              "  font-family: Google Sans, Roboto, sans-serif;\n",
              "  font-size: 14px;\n",
              "  line-height: 20px;\n",
              "  padding: 8px 12px;\n",
              "}\n",
              ".chip {\n",
              "  display: inline-block;\n",
              "  border: solid 1px;\n",
              "  border-radius: 16px;\n",
              "  min-width: 14px;\n",
              "  padding: 5px 16px;\n",
              "  text-align: center;\n",
              "  user-select: none;\n",
              "  margin: 0 8px;\n",
              "  -webkit-tap-highlight-color: transparent;\n",
              "}\n",
              ".carousel {\n",
              "  overflow: auto;\n",
              "  scrollbar-width: none;\n",
              "  white-space: nowrap;\n",
              "  margin-right: -12px;\n",
              "}\n",
              ".headline {\n",
              "  display: flex;\n",
              "  margin-right: 4px;\n",
              "}\n",
              ".gradient-container {\n",
              "  position: relative;\n",
              "}\n",
              ".gradient {\n",
              "  position: absolute;\n",
              "  transform: translate(3px, -9px);\n",
              "  height: 36px;\n",
              "  width: 9px;\n",
              "}\n",
              "@media (prefers-color-scheme: light) {\n",
              "  .container {\n",
              "    background-color: #fafafa;\n",
              "    box-shadow: 0 0 0 1px #0000000f;\n",
              "  }\n",
              "  .headline-label {\n",
              "    color: #1f1f1f;\n",
              "  }\n",
              "  .chip {\n",
              "    background-color: #ffffff;\n",
              "    border-color: #d2d2d2;\n",
              "    color: #5e5e5e;\n",
              "    text-decoration: none;\n",
              "  }\n",
              "  .chip:hover {\n",
              "    background-color: #f2f2f2;\n",
              "  }\n",
              "  .chip:focus {\n",
              "    background-color: #f2f2f2;\n",
              "  }\n",
              "  .chip:active {\n",
              "    background-color: #d8d8d8;\n",
              "    border-color: #b6b6b6;\n",
              "  }\n",
              "  .logo-dark {\n",
              "    display: none;\n",
              "  }\n",
              "  .gradient {\n",
              "    background: linear-gradient(90deg, #fafafa 15%, #fafafa00 100%);\n",
              "  }\n",
              "}\n",
              "@media (prefers-color-scheme: dark) {\n",
              "  .container {\n",
              "    background-color: #1f1f1f;\n",
              "    box-shadow: 0 0 0 1px #ffffff26;\n",
              "  }\n",
              "  .headline-label {\n",
              "    color: #fff;\n",
              "  }\n",
              "  .chip {\n",
              "    background-color: #2c2c2c;\n",
              "    border-color: #3c4043;\n",
              "    color: #fff;\n",
              "    text-decoration: none;\n",
              "  }\n",
              "  .chip:hover {\n",
              "    background-color: #353536;\n",
              "  }\n",
              "  .chip:focus {\n",
              "    background-color: #353536;\n",
              "  }\n",
              "  .chip:active {\n",
              "    background-color: #464849;\n",
              "    border-color: #53575b;\n",
              "  }\n",
              "  .logo-light {\n",
              "    display: none;\n",
              "  }\n",
              "  .gradient {\n",
              "    background: linear-gradient(90deg, #1f1f1f 15%, #1f1f1f00 100%);\n",
              "  }\n",
              "}\n",
              "</style>\n",
              "<div class=\"container\">\n",
              "  <div class=\"headline\">\n",
              "    <svg class=\"logo-light\" width=\"18\" height=\"18\" viewBox=\"9 9 35 35\" fill=\"none\" xmlns=\"http://www.w3.org/2000/svg\">\n",
              "      <path fill-rule=\"evenodd\" clip-rule=\"evenodd\" d=\"M42.8622 27.0064C42.8622 25.7839 42.7525 24.6084 42.5487 23.4799H26.3109V30.1568H35.5897C35.1821 32.3041 33.9596 34.1222 32.1258 35.3448V39.6864H37.7213C40.9814 36.677 42.8622 32.2571 42.8622 27.0064V27.0064Z\" fill=\"#4285F4\"/>\n",
              "      <path fill-rule=\"evenodd\" clip-rule=\"evenodd\" d=\"M26.3109 43.8555C30.9659 43.8555 34.8687 42.3195 37.7213 39.6863L32.1258 35.3447C30.5898 36.3792 28.6306 37.0061 26.3109 37.0061C21.8282 37.0061 18.0195 33.9811 16.6559 29.906H10.9194V34.3573C13.7563 39.9841 19.5712 43.8555 26.3109 43.8555V43.8555Z\" fill=\"#34A853\"/>\n",
              "      <path fill-rule=\"evenodd\" clip-rule=\"evenodd\" d=\"M16.6559 29.8904C16.3111 28.8559 16.1074 27.7588 16.1074 26.6146C16.1074 25.4704 16.3111 24.3733 16.6559 23.3388V18.8875H10.9194C9.74388 21.2072 9.06992 23.8247 9.06992 26.6146C9.06992 29.4045 9.74388 32.022 10.9194 34.3417L15.3864 30.8621L16.6559 29.8904V29.8904Z\" fill=\"#FBBC05\"/>\n",
              "      <path fill-rule=\"evenodd\" clip-rule=\"evenodd\" d=\"M26.3109 16.2386C28.85 16.2386 31.107 17.1164 32.9095 18.8091L37.8466 13.8719C34.853 11.082 30.9659 9.3736 26.3109 9.3736C19.5712 9.3736 13.7563 13.245 10.9194 18.8875L16.6559 23.3388C18.0195 19.2636 21.8282 16.2386 26.3109 16.2386V16.2386Z\" fill=\"#EA4335\"/>\n",
              "    </svg>\n",
              "    <svg class=\"logo-dark\" width=\"18\" height=\"18\" viewBox=\"0 0 48 48\" xmlns=\"http://www.w3.org/2000/svg\">\n",
              "      <circle cx=\"24\" cy=\"23\" fill=\"#FFF\" r=\"22\"/>\n",
              "      <path d=\"M33.76 34.26c2.75-2.56 4.49-6.37 4.49-11.26 0-.89-.08-1.84-.29-3H24.01v5.99h8.03c-.4 2.02-1.5 3.56-3.07 4.56v.75l3.91 2.97h.88z\" fill=\"#4285F4\"/>\n",
              "      <path d=\"M15.58 25.77A8.845 8.845 0 0 0 24 31.86c1.92 0 3.62-.46 4.97-1.31l4.79 3.71C31.14 36.7 27.65 38 24 38c-5.93 0-11.01-3.4-13.45-8.36l.17-1.01 4.06-2.85h.8z\" fill=\"#34A853\"/>\n",
              "      <path d=\"M15.59 20.21a8.864 8.864 0 0 0 0 5.58l-5.03 3.86c-.98-2-1.53-4.25-1.53-6.64 0-2.39.55-4.64 1.53-6.64l1-.22 3.81 2.98.22 1.08z\" fill=\"#FBBC05\"/>\n",
              "      <path d=\"M24 14.14c2.11 0 4.02.75 5.52 1.98l4.36-4.36C31.22 9.43 27.81 8 24 8c-5.93 0-11.01 3.4-13.45 8.36l5.03 3.85A8.86 8.86 0 0 1 24 14.14z\" fill=\"#EA4335\"/>\n",
              "    </svg>\n",
              "    <div class=\"gradient-container\"><div class=\"gradient\"></div></div>\n",
              "  </div>\n",
              "  <div class=\"carousel\">\n",
              "    <a class=\"chip\" href=\"https://vertexaisearch.cloud.google.com/grounding-api-redirect/AWQVqALtzxxZHrDZ17hCzfpS7Dq-SjD9Ty02pR8rUvBkfN4s1A3HbVPwrHpJ4CN7pIqbMEViTMN9aczWb0CN8a_xL9FwPziA--rQcBxReS9y84ooM2KJIvn8X3-WvytC-ZjkfpRJJtNijHqLJRB-9TfGMddog4pxNYHUtflrvC_GwADOrEc8VxiYDnwZaBjN81vBeMoLVIPn7UZUG0m1WdI62pZZygxVa6x5uNXR8A==\">quantum computing advancements 2024 2025</a>\n",
              "    <a class=\"chip\" href=\"https://vertexaisearch.cloud.google.com/grounding-api-redirect/AWQVqAJU6i5BWDzwyCNeaO4v9DCq-HKAzzKqIEMSjcb8X4Atp4xXOa4X8vVlcn98RIdnktPNPqr_3zt8PV0efGd90M6ueS9Om7ZcmOmnuAURUZ-vT_M5Hsnuhl3_OPSnNc58mpyDRhLZUt__bcy231neqbUZ0P4gGLt8o-mt1OuikHpIg0bT3Nn6kk9Miii3wb_rt1u5cTHRN2IZpxPONIEWpAU7va_eA9mOQw==\">latest quantum computing developments</a>\n",
              "  </div>\n",
              "</div>\n"
            ]
          },
          "metadata": {}
        },
        {
          "output_type": "stream",
          "name": "stdout",
          "text": [
            "\n",
            "# Notice the differences in specificity, recency, and detail between the two responses.\n",
            "# The search-enabled response can cite recent developments and specific breakthroughs.\n"
          ]
        }
      ]
    },
    {
      "cell_type": "markdown",
      "source": [
        "# Follow-up Questions Example\n",
        "## 5. Asking Follow-up Questions in a Search Context"
      ],
      "metadata": {
        "id": "wsywfUhgylVl"
      }
    },
    {
      "cell_type": "code",
      "source": [
        "print(\"\\n--- 5. Follow-up Questions with Search ---\")\n",
        "print(\"# Gemini can maintain context while using search for follow-up questions\")\n",
        "\n",
        "follow_up_chat = client.chats.create(model=MODEL, config={'tools': [search_tool]})\n",
        "\n",
        "# List to store responses for visualization\n",
        "follow_up_responses = []\n",
        "q5_1 = \"What are the top 3 electric vehicles with the longest range?\"\n",
        "print(\"\\n📝 Initial Query: '{}'\".format(q5_1))\n",
        "response1 = follow_up_chat.send_message(q5_1)\n",
        "show_parts(response1)\n",
        "follow_up_responses.append(response1)\n",
        "\n",
        "time.sleep(2)\n",
        "\n",
        "q5_2 = \"How much do they cost?\"\n",
        "print(\"\\n📝 Follow-up Query: '{}'\".format(q5_2))\n",
        "response2 = follow_up_chat.send_message(q5_2)\n",
        "show_parts(response2)\n",
        "follow_up_responses.append(response2)\n",
        "\n",
        "time.sleep(2)\n",
        "\n",
        "q5_3 = \"Compare their charging time\"\n",
        "print(\"\\n📝 Another Follow-up: '{}'\".format(q5_3))\n",
        "response3 = follow_up_chat.send_message(q5_3)\n",
        "show_parts(response3)\n",
        "follow_up_responses.append(response3)\n",
        "\n",
        "# Visualize search usage across the conversation\n",
        "print(\"\\n📊 Search Usage Visualization:\")\n",
        "visualize_search_usage(follow_up_responses)\n",
        "\n",
        "print(\"\\n# Notice how Gemini maintains context about which vehicles we're discussing\")\n",
        "print(\"# while retrieving fresh information for each question.\")"
      ],
      "metadata": {
        "colab": {
          "base_uri": "https://localhost:8080/",
          "height": 1000
        },
        "id": "F8haY4-Nyt7q",
        "outputId": "7b8b29db-2e03-4575-fbc6-7adc73335893"
      },
      "execution_count": 17,
      "outputs": [
        {
          "output_type": "stream",
          "name": "stdout",
          "text": [
            "\n",
            "--- 5. Follow-up Questions with Search ---\n",
            "# Gemini can maintain context while using search for follow-up questions\n",
            "\n",
            "📝 Initial Query: 'What are the top 3 electric vehicles with the longest range?'\n"
          ]
        },
        {
          "output_type": "display_data",
          "data": {
            "text/plain": [
              "<IPython.core.display.Markdown object>"
            ],
            "text/markdown": "Based on the search results, here are the top 3 electric vehicles with the longest range as of April 1, 2025:\n\n1.  **Lucid Air:** Up to 512 miles\n2.  **Chevrolet Silverado EV:** Up to 460 miles\n3.  **Rivian R1S:** Up to 410 miles\n"
          },
          "metadata": {}
        },
        {
          "output_type": "stream",
          "name": "stdout",
          "text": [
            "\n",
            "📊 Search Results Used:\n"
          ]
        },
        {
          "output_type": "display_data",
          "data": {
            "text/plain": [
              "<IPython.core.display.HTML object>"
            ],
            "text/html": [
              "<style>\n",
              ".container {\n",
              "  align-items: center;\n",
              "  border-radius: 8px;\n",
              "  display: flex;\n",
              "  font-family: Google Sans, Roboto, sans-serif;\n",
              "  font-size: 14px;\n",
              "  line-height: 20px;\n",
              "  padding: 8px 12px;\n",
              "}\n",
              ".chip {\n",
              "  display: inline-block;\n",
              "  border: solid 1px;\n",
              "  border-radius: 16px;\n",
              "  min-width: 14px;\n",
              "  padding: 5px 16px;\n",
              "  text-align: center;\n",
              "  user-select: none;\n",
              "  margin: 0 8px;\n",
              "  -webkit-tap-highlight-color: transparent;\n",
              "}\n",
              ".carousel {\n",
              "  overflow: auto;\n",
              "  scrollbar-width: none;\n",
              "  white-space: nowrap;\n",
              "  margin-right: -12px;\n",
              "}\n",
              ".headline {\n",
              "  display: flex;\n",
              "  margin-right: 4px;\n",
              "}\n",
              ".gradient-container {\n",
              "  position: relative;\n",
              "}\n",
              ".gradient {\n",
              "  position: absolute;\n",
              "  transform: translate(3px, -9px);\n",
              "  height: 36px;\n",
              "  width: 9px;\n",
              "}\n",
              "@media (prefers-color-scheme: light) {\n",
              "  .container {\n",
              "    background-color: #fafafa;\n",
              "    box-shadow: 0 0 0 1px #0000000f;\n",
              "  }\n",
              "  .headline-label {\n",
              "    color: #1f1f1f;\n",
              "  }\n",
              "  .chip {\n",
              "    background-color: #ffffff;\n",
              "    border-color: #d2d2d2;\n",
              "    color: #5e5e5e;\n",
              "    text-decoration: none;\n",
              "  }\n",
              "  .chip:hover {\n",
              "    background-color: #f2f2f2;\n",
              "  }\n",
              "  .chip:focus {\n",
              "    background-color: #f2f2f2;\n",
              "  }\n",
              "  .chip:active {\n",
              "    background-color: #d8d8d8;\n",
              "    border-color: #b6b6b6;\n",
              "  }\n",
              "  .logo-dark {\n",
              "    display: none;\n",
              "  }\n",
              "  .gradient {\n",
              "    background: linear-gradient(90deg, #fafafa 15%, #fafafa00 100%);\n",
              "  }\n",
              "}\n",
              "@media (prefers-color-scheme: dark) {\n",
              "  .container {\n",
              "    background-color: #1f1f1f;\n",
              "    box-shadow: 0 0 0 1px #ffffff26;\n",
              "  }\n",
              "  .headline-label {\n",
              "    color: #fff;\n",
              "  }\n",
              "  .chip {\n",
              "    background-color: #2c2c2c;\n",
              "    border-color: #3c4043;\n",
              "    color: #fff;\n",
              "    text-decoration: none;\n",
              "  }\n",
              "  .chip:hover {\n",
              "    background-color: #353536;\n",
              "  }\n",
              "  .chip:focus {\n",
              "    background-color: #353536;\n",
              "  }\n",
              "  .chip:active {\n",
              "    background-color: #464849;\n",
              "    border-color: #53575b;\n",
              "  }\n",
              "  .logo-light {\n",
              "    display: none;\n",
              "  }\n",
              "  .gradient {\n",
              "    background: linear-gradient(90deg, #1f1f1f 15%, #1f1f1f00 100%);\n",
              "  }\n",
              "}\n",
              "</style>\n",
              "<div class=\"container\">\n",
              "  <div class=\"headline\">\n",
              "    <svg class=\"logo-light\" width=\"18\" height=\"18\" viewBox=\"9 9 35 35\" fill=\"none\" xmlns=\"http://www.w3.org/2000/svg\">\n",
              "      <path fill-rule=\"evenodd\" clip-rule=\"evenodd\" d=\"M42.8622 27.0064C42.8622 25.7839 42.7525 24.6084 42.5487 23.4799H26.3109V30.1568H35.5897C35.1821 32.3041 33.9596 34.1222 32.1258 35.3448V39.6864H37.7213C40.9814 36.677 42.8622 32.2571 42.8622 27.0064V27.0064Z\" fill=\"#4285F4\"/>\n",
              "      <path fill-rule=\"evenodd\" clip-rule=\"evenodd\" d=\"M26.3109 43.8555C30.9659 43.8555 34.8687 42.3195 37.7213 39.6863L32.1258 35.3447C30.5898 36.3792 28.6306 37.0061 26.3109 37.0061C21.8282 37.0061 18.0195 33.9811 16.6559 29.906H10.9194V34.3573C13.7563 39.9841 19.5712 43.8555 26.3109 43.8555V43.8555Z\" fill=\"#34A853\"/>\n",
              "      <path fill-rule=\"evenodd\" clip-rule=\"evenodd\" d=\"M16.6559 29.8904C16.3111 28.8559 16.1074 27.7588 16.1074 26.6146C16.1074 25.4704 16.3111 24.3733 16.6559 23.3388V18.8875H10.9194C9.74388 21.2072 9.06992 23.8247 9.06992 26.6146C9.06992 29.4045 9.74388 32.022 10.9194 34.3417L15.3864 30.8621L16.6559 29.8904V29.8904Z\" fill=\"#FBBC05\"/>\n",
              "      <path fill-rule=\"evenodd\" clip-rule=\"evenodd\" d=\"M26.3109 16.2386C28.85 16.2386 31.107 17.1164 32.9095 18.8091L37.8466 13.8719C34.853 11.082 30.9659 9.3736 26.3109 9.3736C19.5712 9.3736 13.7563 13.245 10.9194 18.8875L16.6559 23.3388C18.0195 19.2636 21.8282 16.2386 26.3109 16.2386V16.2386Z\" fill=\"#EA4335\"/>\n",
              "    </svg>\n",
              "    <svg class=\"logo-dark\" width=\"18\" height=\"18\" viewBox=\"0 0 48 48\" xmlns=\"http://www.w3.org/2000/svg\">\n",
              "      <circle cx=\"24\" cy=\"23\" fill=\"#FFF\" r=\"22\"/>\n",
              "      <path d=\"M33.76 34.26c2.75-2.56 4.49-6.37 4.49-11.26 0-.89-.08-1.84-.29-3H24.01v5.99h8.03c-.4 2.02-1.5 3.56-3.07 4.56v.75l3.91 2.97h.88z\" fill=\"#4285F4\"/>\n",
              "      <path d=\"M15.58 25.77A8.845 8.845 0 0 0 24 31.86c1.92 0 3.62-.46 4.97-1.31l4.79 3.71C31.14 36.7 27.65 38 24 38c-5.93 0-11.01-3.4-13.45-8.36l.17-1.01 4.06-2.85h.8z\" fill=\"#34A853\"/>\n",
              "      <path d=\"M15.59 20.21a8.864 8.864 0 0 0 0 5.58l-5.03 3.86c-.98-2-1.53-4.25-1.53-6.64 0-2.39.55-4.64 1.53-6.64l1-.22 3.81 2.98.22 1.08z\" fill=\"#FBBC05\"/>\n",
              "      <path d=\"M24 14.14c2.11 0 4.02.75 5.52 1.98l4.36-4.36C31.22 9.43 27.81 8 24 8c-5.93 0-11.01 3.4-13.45 8.36l5.03 3.85A8.86 8.86 0 0 1 24 14.14z\" fill=\"#EA4335\"/>\n",
              "    </svg>\n",
              "    <div class=\"gradient-container\"><div class=\"gradient\"></div></div>\n",
              "  </div>\n",
              "  <div class=\"carousel\">\n",
              "    <a class=\"chip\" href=\"https://vertexaisearch.cloud.google.com/grounding-api-redirect/AWQVqAKOGucQ6KBK3gi8v3xEI0Thw6OcejgP6IxLRnB1B_A9phj3uzAjtIBr1y_-0DR3NS1B3LvJQ2w7MT4RpGhYs6uxq-z8f9ZOjeVYc1nJGkgr4yioQmHNx2is_ooDFDj6bEh2-DhVet1ejmfVpn-Oslb55HJtbqC15FMGhH9OpvlAoRr7-39Ceo_IptdFlpDgNpRH8MVDcmYOR9tZ0Jqygbdf2slsYH5qbg==\">top 3 electric vehicles longest range</a>\n",
              "  </div>\n",
              "</div>\n"
            ]
          },
          "metadata": {}
        },
        {
          "output_type": "stream",
          "name": "stdout",
          "text": [
            "\n",
            "📝 Follow-up Query: 'How much do they cost?'\n"
          ]
        },
        {
          "output_type": "display_data",
          "data": {
            "text/plain": [
              "<IPython.core.display.Markdown object>"
            ],
            "text/markdown": "Here's a breakdown of the approximate starting costs for each of the top 3 EVs with the longest range:\n\n1.  **Lucid Air:** The 2025 Lucid Air starts around \\$71,400 for the Pure trim and can reach \\$250,500 for the Sapphire model.\n2.  **Chevrolet Silverado EV:** The 2025 Chevrolet Silverado EV has a starting price of \\$57,095, with the price going up to \\$97,895 depending on the trim and options selected.\n3.  **Rivian R1S:** The 2025 Rivian R1S starts at \\$77,700 and can go up to \\$130,000, depending on the motor configuration and battery pack.\n"
          },
          "metadata": {}
        },
        {
          "output_type": "stream",
          "name": "stdout",
          "text": [
            "\n",
            "📊 Search Results Used:\n"
          ]
        },
        {
          "output_type": "display_data",
          "data": {
            "text/plain": [
              "<IPython.core.display.HTML object>"
            ],
            "text/html": [
              "<style>\n",
              ".container {\n",
              "  align-items: center;\n",
              "  border-radius: 8px;\n",
              "  display: flex;\n",
              "  font-family: Google Sans, Roboto, sans-serif;\n",
              "  font-size: 14px;\n",
              "  line-height: 20px;\n",
              "  padding: 8px 12px;\n",
              "}\n",
              ".chip {\n",
              "  display: inline-block;\n",
              "  border: solid 1px;\n",
              "  border-radius: 16px;\n",
              "  min-width: 14px;\n",
              "  padding: 5px 16px;\n",
              "  text-align: center;\n",
              "  user-select: none;\n",
              "  margin: 0 8px;\n",
              "  -webkit-tap-highlight-color: transparent;\n",
              "}\n",
              ".carousel {\n",
              "  overflow: auto;\n",
              "  scrollbar-width: none;\n",
              "  white-space: nowrap;\n",
              "  margin-right: -12px;\n",
              "}\n",
              ".headline {\n",
              "  display: flex;\n",
              "  margin-right: 4px;\n",
              "}\n",
              ".gradient-container {\n",
              "  position: relative;\n",
              "}\n",
              ".gradient {\n",
              "  position: absolute;\n",
              "  transform: translate(3px, -9px);\n",
              "  height: 36px;\n",
              "  width: 9px;\n",
              "}\n",
              "@media (prefers-color-scheme: light) {\n",
              "  .container {\n",
              "    background-color: #fafafa;\n",
              "    box-shadow: 0 0 0 1px #0000000f;\n",
              "  }\n",
              "  .headline-label {\n",
              "    color: #1f1f1f;\n",
              "  }\n",
              "  .chip {\n",
              "    background-color: #ffffff;\n",
              "    border-color: #d2d2d2;\n",
              "    color: #5e5e5e;\n",
              "    text-decoration: none;\n",
              "  }\n",
              "  .chip:hover {\n",
              "    background-color: #f2f2f2;\n",
              "  }\n",
              "  .chip:focus {\n",
              "    background-color: #f2f2f2;\n",
              "  }\n",
              "  .chip:active {\n",
              "    background-color: #d8d8d8;\n",
              "    border-color: #b6b6b6;\n",
              "  }\n",
              "  .logo-dark {\n",
              "    display: none;\n",
              "  }\n",
              "  .gradient {\n",
              "    background: linear-gradient(90deg, #fafafa 15%, #fafafa00 100%);\n",
              "  }\n",
              "}\n",
              "@media (prefers-color-scheme: dark) {\n",
              "  .container {\n",
              "    background-color: #1f1f1f;\n",
              "    box-shadow: 0 0 0 1px #ffffff26;\n",
              "  }\n",
              "  .headline-label {\n",
              "    color: #fff;\n",
              "  }\n",
              "  .chip {\n",
              "    background-color: #2c2c2c;\n",
              "    border-color: #3c4043;\n",
              "    color: #fff;\n",
              "    text-decoration: none;\n",
              "  }\n",
              "  .chip:hover {\n",
              "    background-color: #353536;\n",
              "  }\n",
              "  .chip:focus {\n",
              "    background-color: #353536;\n",
              "  }\n",
              "  .chip:active {\n",
              "    background-color: #464849;\n",
              "    border-color: #53575b;\n",
              "  }\n",
              "  .logo-light {\n",
              "    display: none;\n",
              "  }\n",
              "  .gradient {\n",
              "    background: linear-gradient(90deg, #1f1f1f 15%, #1f1f1f00 100%);\n",
              "  }\n",
              "}\n",
              "</style>\n",
              "<div class=\"container\">\n",
              "  <div class=\"headline\">\n",
              "    <svg class=\"logo-light\" width=\"18\" height=\"18\" viewBox=\"9 9 35 35\" fill=\"none\" xmlns=\"http://www.w3.org/2000/svg\">\n",
              "      <path fill-rule=\"evenodd\" clip-rule=\"evenodd\" d=\"M42.8622 27.0064C42.8622 25.7839 42.7525 24.6084 42.5487 23.4799H26.3109V30.1568H35.5897C35.1821 32.3041 33.9596 34.1222 32.1258 35.3448V39.6864H37.7213C40.9814 36.677 42.8622 32.2571 42.8622 27.0064V27.0064Z\" fill=\"#4285F4\"/>\n",
              "      <path fill-rule=\"evenodd\" clip-rule=\"evenodd\" d=\"M26.3109 43.8555C30.9659 43.8555 34.8687 42.3195 37.7213 39.6863L32.1258 35.3447C30.5898 36.3792 28.6306 37.0061 26.3109 37.0061C21.8282 37.0061 18.0195 33.9811 16.6559 29.906H10.9194V34.3573C13.7563 39.9841 19.5712 43.8555 26.3109 43.8555V43.8555Z\" fill=\"#34A853\"/>\n",
              "      <path fill-rule=\"evenodd\" clip-rule=\"evenodd\" d=\"M16.6559 29.8904C16.3111 28.8559 16.1074 27.7588 16.1074 26.6146C16.1074 25.4704 16.3111 24.3733 16.6559 23.3388V18.8875H10.9194C9.74388 21.2072 9.06992 23.8247 9.06992 26.6146C9.06992 29.4045 9.74388 32.022 10.9194 34.3417L15.3864 30.8621L16.6559 29.8904V29.8904Z\" fill=\"#FBBC05\"/>\n",
              "      <path fill-rule=\"evenodd\" clip-rule=\"evenodd\" d=\"M26.3109 16.2386C28.85 16.2386 31.107 17.1164 32.9095 18.8091L37.8466 13.8719C34.853 11.082 30.9659 9.3736 26.3109 9.3736C19.5712 9.3736 13.7563 13.245 10.9194 18.8875L16.6559 23.3388C18.0195 19.2636 21.8282 16.2386 26.3109 16.2386V16.2386Z\" fill=\"#EA4335\"/>\n",
              "    </svg>\n",
              "    <svg class=\"logo-dark\" width=\"18\" height=\"18\" viewBox=\"0 0 48 48\" xmlns=\"http://www.w3.org/2000/svg\">\n",
              "      <circle cx=\"24\" cy=\"23\" fill=\"#FFF\" r=\"22\"/>\n",
              "      <path d=\"M33.76 34.26c2.75-2.56 4.49-6.37 4.49-11.26 0-.89-.08-1.84-.29-3H24.01v5.99h8.03c-.4 2.02-1.5 3.56-3.07 4.56v.75l3.91 2.97h.88z\" fill=\"#4285F4\"/>\n",
              "      <path d=\"M15.58 25.77A8.845 8.845 0 0 0 24 31.86c1.92 0 3.62-.46 4.97-1.31l4.79 3.71C31.14 36.7 27.65 38 24 38c-5.93 0-11.01-3.4-13.45-8.36l.17-1.01 4.06-2.85h.8z\" fill=\"#34A853\"/>\n",
              "      <path d=\"M15.59 20.21a8.864 8.864 0 0 0 0 5.58l-5.03 3.86c-.98-2-1.53-4.25-1.53-6.64 0-2.39.55-4.64 1.53-6.64l1-.22 3.81 2.98.22 1.08z\" fill=\"#FBBC05\"/>\n",
              "      <path d=\"M24 14.14c2.11 0 4.02.75 5.52 1.98l4.36-4.36C31.22 9.43 27.81 8 24 8c-5.93 0-11.01 3.4-13.45 8.36l5.03 3.85A8.86 8.86 0 0 1 24 14.14z\" fill=\"#EA4335\"/>\n",
              "    </svg>\n",
              "    <div class=\"gradient-container\"><div class=\"gradient\"></div></div>\n",
              "  </div>\n",
              "  <div class=\"carousel\">\n",
              "    <a class=\"chip\" href=\"https://vertexaisearch.cloud.google.com/grounding-api-redirect/AWQVqAJft2113KJq1RxEKDqCvVBNOOQiNCU5aiZgkZFFAHqeksk5UqVT3xO6CD-Kof9JEbzKb8gtSi-QbxJDoyseO319cwsggmZqP2jkEaqcCb08pM1fW3EmTM_YMJ7Rdj3nqtfEBdg8Dwb-alPRv_cH696_hwSnOzIoiAufSuQPtJ1CHh97KWDXUrTmpOGJf4WBmt4IdgY9NpAsgSkQN1QPFDMIPsZ-\">Chevrolet Silverado EV price 2025</a>\n",
              "    <a class=\"chip\" href=\"https://vertexaisearch.cloud.google.com/grounding-api-redirect/AWQVqALWtv8-KxcGnDdy6eyQkZ9brT7r-dH0jg-gWYN2mnHrNygzsXP6SHWIlB2D2pbe4DK6jp-tFKoyaqkHgcPnsABjlYXaO05KZYrygsPOQaPdh9ZcVPHikX_ZxzkZUIlJYemk4S5OH4CHoZadi2TczUe5E8A4-CInv0iUn0NECI3u53uyBZRi4bVT5bjBCJuZ3-mnWQDtCVI=\">Lucid Air price 2025</a>\n",
              "    <a class=\"chip\" href=\"https://vertexaisearch.cloud.google.com/grounding-api-redirect/AWQVqAIF8mKz8RfYJGr1ta8eApqNKFjV99z1d6Q9CLGtBlzmQrMuUTU0sDP-rJ3VTx_z2x_XADvx8KWhkd66Jmv5uV__UCWjqVYTvVJZvV9ecHI6DDglxgetjprYIwc0w0hcYZg4gQcFTuSe2gIMcAIN6BLIej_IgbUtY7QQPF-TRK1dif-DFW4451vo3Jcy2hbcnFfRtm7IpEth\">Rivian R1S price 2025</a>\n",
              "  </div>\n",
              "</div>\n"
            ]
          },
          "metadata": {}
        },
        {
          "output_type": "stream",
          "name": "stdout",
          "text": [
            "\n",
            "📝 Another Follow-up: 'Compare their charging time'\n"
          ]
        },
        {
          "output_type": "display_data",
          "data": {
            "text/plain": [
              "<IPython.core.display.Markdown object>"
            ],
            "text/markdown": "It's important to note that charging times can vary significantly based on factors like the battery's state of charge, the charging station's power output, and even the temperature. Here's a general comparison:\n\n1.  **Lucid Air:** With its 900V+ architecture and \"Wunderbox\" charging system, the Lucid Air is designed for fast charging.\n\n    *   **DC Fast Charging:** Can gain up to 250 miles of range in about 22-26 minutes at a 300kW DC fast charging station (10-80% charge). Some tests show charging from 10-90% in 46 minutes.\n    *   **Level 2 Charging:** A full charge using a 22kW AC charging station takes roughly 4.5 to 6 hours. Using a 7kW home charging point, a full charge would take around 12 hours.\n\n2.  **Chevrolet Silverado EV:** The Silverado EV also boasts impressive charging capabilities.\n\n    *   **DC Fast Charging:** Can add approximately 100 miles of range in 10 minutes at a 350kW DC fast charging station. A 10-80% charge can be achieved in around 40 minutes. In one test, it averaged 198kW while charging from 10-90% in 58 minutes.\n    *   **Level 2 Charging:** With a professionally installed Level 2 system, a full charge typically takes 8-10 hours.\n\n3.  **Rivian R1S:**\n\n    *   **DC Fast Charging:** Can add up to 140 miles of range in about 20 minutes at a fast-charging station. Charging from 10-80% can take approximately 30-41 minutes.\n    *   **Level 2 Charging:** Can deliver up to 16 miles of charge per hour from a 240V outlet.\n\nIn summary, the Lucid Air and Chevrolet Silverado EV appear to have an edge in DC fast charging speeds, while Level 2 charging times are fairly comparable across all three models.\n"
          },
          "metadata": {}
        },
        {
          "output_type": "stream",
          "name": "stdout",
          "text": [
            "\n",
            "📊 Search Results Used:\n"
          ]
        },
        {
          "output_type": "display_data",
          "data": {
            "text/plain": [
              "<IPython.core.display.HTML object>"
            ],
            "text/html": [
              "<style>\n",
              ".container {\n",
              "  align-items: center;\n",
              "  border-radius: 8px;\n",
              "  display: flex;\n",
              "  font-family: Google Sans, Roboto, sans-serif;\n",
              "  font-size: 14px;\n",
              "  line-height: 20px;\n",
              "  padding: 8px 12px;\n",
              "}\n",
              ".chip {\n",
              "  display: inline-block;\n",
              "  border: solid 1px;\n",
              "  border-radius: 16px;\n",
              "  min-width: 14px;\n",
              "  padding: 5px 16px;\n",
              "  text-align: center;\n",
              "  user-select: none;\n",
              "  margin: 0 8px;\n",
              "  -webkit-tap-highlight-color: transparent;\n",
              "}\n",
              ".carousel {\n",
              "  overflow: auto;\n",
              "  scrollbar-width: none;\n",
              "  white-space: nowrap;\n",
              "  margin-right: -12px;\n",
              "}\n",
              ".headline {\n",
              "  display: flex;\n",
              "  margin-right: 4px;\n",
              "}\n",
              ".gradient-container {\n",
              "  position: relative;\n",
              "}\n",
              ".gradient {\n",
              "  position: absolute;\n",
              "  transform: translate(3px, -9px);\n",
              "  height: 36px;\n",
              "  width: 9px;\n",
              "}\n",
              "@media (prefers-color-scheme: light) {\n",
              "  .container {\n",
              "    background-color: #fafafa;\n",
              "    box-shadow: 0 0 0 1px #0000000f;\n",
              "  }\n",
              "  .headline-label {\n",
              "    color: #1f1f1f;\n",
              "  }\n",
              "  .chip {\n",
              "    background-color: #ffffff;\n",
              "    border-color: #d2d2d2;\n",
              "    color: #5e5e5e;\n",
              "    text-decoration: none;\n",
              "  }\n",
              "  .chip:hover {\n",
              "    background-color: #f2f2f2;\n",
              "  }\n",
              "  .chip:focus {\n",
              "    background-color: #f2f2f2;\n",
              "  }\n",
              "  .chip:active {\n",
              "    background-color: #d8d8d8;\n",
              "    border-color: #b6b6b6;\n",
              "  }\n",
              "  .logo-dark {\n",
              "    display: none;\n",
              "  }\n",
              "  .gradient {\n",
              "    background: linear-gradient(90deg, #fafafa 15%, #fafafa00 100%);\n",
              "  }\n",
              "}\n",
              "@media (prefers-color-scheme: dark) {\n",
              "  .container {\n",
              "    background-color: #1f1f1f;\n",
              "    box-shadow: 0 0 0 1px #ffffff26;\n",
              "  }\n",
              "  .headline-label {\n",
              "    color: #fff;\n",
              "  }\n",
              "  .chip {\n",
              "    background-color: #2c2c2c;\n",
              "    border-color: #3c4043;\n",
              "    color: #fff;\n",
              "    text-decoration: none;\n",
              "  }\n",
              "  .chip:hover {\n",
              "    background-color: #353536;\n",
              "  }\n",
              "  .chip:focus {\n",
              "    background-color: #353536;\n",
              "  }\n",
              "  .chip:active {\n",
              "    background-color: #464849;\n",
              "    border-color: #53575b;\n",
              "  }\n",
              "  .logo-light {\n",
              "    display: none;\n",
              "  }\n",
              "  .gradient {\n",
              "    background: linear-gradient(90deg, #1f1f1f 15%, #1f1f1f00 100%);\n",
              "  }\n",
              "}\n",
              "</style>\n",
              "<div class=\"container\">\n",
              "  <div class=\"headline\">\n",
              "    <svg class=\"logo-light\" width=\"18\" height=\"18\" viewBox=\"9 9 35 35\" fill=\"none\" xmlns=\"http://www.w3.org/2000/svg\">\n",
              "      <path fill-rule=\"evenodd\" clip-rule=\"evenodd\" d=\"M42.8622 27.0064C42.8622 25.7839 42.7525 24.6084 42.5487 23.4799H26.3109V30.1568H35.5897C35.1821 32.3041 33.9596 34.1222 32.1258 35.3448V39.6864H37.7213C40.9814 36.677 42.8622 32.2571 42.8622 27.0064V27.0064Z\" fill=\"#4285F4\"/>\n",
              "      <path fill-rule=\"evenodd\" clip-rule=\"evenodd\" d=\"M26.3109 43.8555C30.9659 43.8555 34.8687 42.3195 37.7213 39.6863L32.1258 35.3447C30.5898 36.3792 28.6306 37.0061 26.3109 37.0061C21.8282 37.0061 18.0195 33.9811 16.6559 29.906H10.9194V34.3573C13.7563 39.9841 19.5712 43.8555 26.3109 43.8555V43.8555Z\" fill=\"#34A853\"/>\n",
              "      <path fill-rule=\"evenodd\" clip-rule=\"evenodd\" d=\"M16.6559 29.8904C16.3111 28.8559 16.1074 27.7588 16.1074 26.6146C16.1074 25.4704 16.3111 24.3733 16.6559 23.3388V18.8875H10.9194C9.74388 21.2072 9.06992 23.8247 9.06992 26.6146C9.06992 29.4045 9.74388 32.022 10.9194 34.3417L15.3864 30.8621L16.6559 29.8904V29.8904Z\" fill=\"#FBBC05\"/>\n",
              "      <path fill-rule=\"evenodd\" clip-rule=\"evenodd\" d=\"M26.3109 16.2386C28.85 16.2386 31.107 17.1164 32.9095 18.8091L37.8466 13.8719C34.853 11.082 30.9659 9.3736 26.3109 9.3736C19.5712 9.3736 13.7563 13.245 10.9194 18.8875L16.6559 23.3388C18.0195 19.2636 21.8282 16.2386 26.3109 16.2386V16.2386Z\" fill=\"#EA4335\"/>\n",
              "    </svg>\n",
              "    <svg class=\"logo-dark\" width=\"18\" height=\"18\" viewBox=\"0 0 48 48\" xmlns=\"http://www.w3.org/2000/svg\">\n",
              "      <circle cx=\"24\" cy=\"23\" fill=\"#FFF\" r=\"22\"/>\n",
              "      <path d=\"M33.76 34.26c2.75-2.56 4.49-6.37 4.49-11.26 0-.89-.08-1.84-.29-3H24.01v5.99h8.03c-.4 2.02-1.5 3.56-3.07 4.56v.75l3.91 2.97h.88z\" fill=\"#4285F4\"/>\n",
              "      <path d=\"M15.58 25.77A8.845 8.845 0 0 0 24 31.86c1.92 0 3.62-.46 4.97-1.31l4.79 3.71C31.14 36.7 27.65 38 24 38c-5.93 0-11.01-3.4-13.45-8.36l.17-1.01 4.06-2.85h.8z\" fill=\"#34A853\"/>\n",
              "      <path d=\"M15.59 20.21a8.864 8.864 0 0 0 0 5.58l-5.03 3.86c-.98-2-1.53-4.25-1.53-6.64 0-2.39.55-4.64 1.53-6.64l1-.22 3.81 2.98.22 1.08z\" fill=\"#FBBC05\"/>\n",
              "      <path d=\"M24 14.14c2.11 0 4.02.75 5.52 1.98l4.36-4.36C31.22 9.43 27.81 8 24 8c-5.93 0-11.01 3.4-13.45 8.36l5.03 3.85A8.86 8.86 0 0 1 24 14.14z\" fill=\"#EA4335\"/>\n",
              "    </svg>\n",
              "    <div class=\"gradient-container\"><div class=\"gradient\"></div></div>\n",
              "  </div>\n",
              "  <div class=\"carousel\">\n",
              "    <a class=\"chip\" href=\"https://vertexaisearch.cloud.google.com/grounding-api-redirect/AWQVqALAX6Qbg5Q42193o_ElXGQSP7EytjYyUG3TFB4doCe2jEBcbXIX2Pj3S6DgGliJP0DhOvnf7xHNMZF9LE_JgiMFtAGabBoPLDfznKz2HPk3qEEUgAQTBSxB81fD8Vp9IoDjNaW-EJnAeIYWvI0jobgnm2bayb6IiGGGLFEwAiXg-dAgC6RrxMC21XxirWMTqA-8zWab5RXrsFnAdA==\">Rivian R1S charging time</a>\n",
              "    <a class=\"chip\" href=\"https://vertexaisearch.cloud.google.com/grounding-api-redirect/AWQVqAKE_C7XivPCOrQJ-Ezk2YApBl6j8eSz-kNKeUvDslvLeaEacIlnJptHgcy6aBKriv42esd9ohOiy2hX6f8fENT8QKDm3BAgnOKiUycyUcbRlrI-QBNmVtFpR8FxS0ZLS2FzS1tPEPlSWQFgy2u5gflBeuXMjjze04I9cnguVaxyHXgS43fhTvMSaII07pSc-ytOt19K8t3sx1tU\">Lucid Air charging time</a>\n",
              "    <a class=\"chip\" href=\"https://vertexaisearch.cloud.google.com/grounding-api-redirect/AWQVqALEyW_hEifyGbvKv0VfSBGq4Wy_86O9sHy91XrOqOuxhSI__1F11CftSXovNMUjvh51_8wbaBhY3fpMlFWmIKmrPu0DKhNm0v07nC2GqmrI72nWUMgelYu67WIKpAn4zjbkSvErzwoMAmkFBUweyzKl6O1a8hOr7-C1qwL4131GqJJzVrT6vCdHXjIy2P1nf0JX2EfCvMHRC6RqSv71o5keFKN1jnIqnA==\">Chevrolet Silverado EV charging time</a>\n",
              "  </div>\n",
              "</div>\n"
            ]
          },
          "metadata": {}
        },
        {
          "output_type": "stream",
          "name": "stdout",
          "text": [
            "\n",
            "📊 Search Usage Visualization:\n"
          ]
        },
        {
          "output_type": "display_data",
          "data": {
            "text/plain": [
              "<Figure size 1000x500 with 1 Axes>"
            ],
            "image/png": "[encoded data removed]"
          },
          "metadata": {}
        },
        {
          "output_type": "stream",
          "name": "stdout",
          "text": [
            "\n",
            "# Notice how Gemini maintains context about which vehicles we're discussing\n",
            "# while retrieving fresh information for each question.\n"
          ]
        }
      ]
    },
    {
      "cell_type": "markdown",
      "source": [
        "# Combining Search with Data Visualization\n",
        "## 6. Creating Data Visualizations with Search-Sourced Data"
      ],
      "metadata": {
        "id": "7pY6_atuyvQP"
      }
    },
    {
      "cell_type": "code",
      "source": [
        "print(\"\\n--- 6. Data Visualization with Search-Sourced Data ---\")\n",
        "print(\"# Gemini can use search to find data and generate code to visualize it\")\n",
        "\n",
        "# Create a new chat with search enabled for data visualization\n",
        "viz_chat = client.chats.create(model=MODEL, config={'tools': [search_tool]})\n",
        "\n",
        "# Explicitly ask for Python code to visualize the data\n",
        "viz_prompt = \"\"\"\n",
        "Find the GDP growth rates for the world's top 5 economies for the most recent year.\n",
        "Then write executable Python code that:\n",
        "1. Creates a pandas DataFrame with this data\n",
        "2. Uses matplotlib to generate a bar chart comparing the growth rates\n",
        "3. Includes proper labels, title, and color coding\n",
        "4. Formats the chart for clear visualization\n",
        "\n",
        "Make sure the code is complete and can be executed directly in a Jupyter notebook without modification.\n",
        "\"\"\"\n",
        "\n",
        "print(\"\\n📝 Query: '{}'\".format(viz_prompt))\n",
        "viz_response = viz_chat.send_message(viz_prompt)\n",
        "show_parts(viz_response)\n",
        "\n",
        "print(\"\\n# The code above can be copied into a code cell and executed to create the visualization.\")\n",
        "print(\"# Gemini has sourced recent economic data and created visualization code.\")"
      ],
      "metadata": {
        "colab": {
          "base_uri": "https://localhost:8080/",
          "height": 1000
        },
        "id": "ptmwb_5Oy0QM",
        "outputId": "615801d6-ab3d-4592-c374-fe5017b0c0b6"
      },
      "execution_count": 18,
      "outputs": [
        {
          "output_type": "stream",
          "name": "stdout",
          "text": [
            "\n",
            "--- 6. Data Visualization with Search-Sourced Data ---\n",
            "# Gemini can use search to find data and generate code to visualize it\n",
            "\n",
            "📝 Query: '\n",
            "Find the GDP growth rates for the world's top 5 economies for the most recent year.\n",
            "Then write executable Python code that:\n",
            "1. Creates a pandas DataFrame with this data\n",
            "2. Uses matplotlib to generate a bar chart comparing the growth rates\n",
            "3. Includes proper labels, title, and color coding\n",
            "4. Formats the chart for clear visualization\n",
            "\n",
            "Make sure the code is complete and can be executed directly in a Jupyter notebook without modification.\n",
            "'\n"
          ]
        },
        {
          "output_type": "display_data",
          "data": {
            "text/plain": [
              "<IPython.core.display.Markdown object>"
            ],
            "text/markdown": "Okay, I can help you with that. First, I need to find the GDP growth rates for the top 5 economies in the world for the most recent year available. I'll use search queries to get this information. Then, I will write the Python code to generate the bar chart as requested.\n\n"
          },
          "metadata": {}
        },
        {
          "output_type": "display_data",
          "data": {
            "text/plain": [
              "<IPython.core.display.Markdown object>"
            ],
            "text/markdown": "Based on the search results, here's the information I've gathered:\n\n*   **Top 5 Economies (GDP):** The top 5 economies in the world are the United States, China, Germany, Japan, and India.\n*   **GDP Growth Rates (2024):** According to the IMF World Economic Outlook (October 2024), the GDP growth rates for these countries are:\n\n    *   United States: 2.8%\n    *   China: 4.8%\n    *   Japan: 0.3%\n    *   Germany: 0.8%\n    *   India: 7%\n\nNow, here is the Python code to create the DataFrame and generate the bar chart:\n\n"
          },
          "metadata": {}
        },
        {
          "output_type": "display_data",
          "data": {
            "text/plain": [
              "<IPython.core.display.Markdown object>"
            ],
            "text/markdown": "```python\nimport pandas as pd\nimport matplotlib.pyplot as plt\nimport numpy as np\n\n# Data\ndata = {'Country': ['United States', 'China', 'Japan', 'Germany', 'India'],\n        'GDP Growth Rate': [2.8, 4.8, 0.3, 0.8, 7.0]}\n\n# Create DataFrame\ndf = pd.DataFrame(data)\n\n# Sort the DataFrame by GDP Growth Rate in descending order\ndf = df.sort_values(by='GDP Growth Rate', ascending=False)\n\n# Colors for the bars\ncolors = ['green', 'skyblue', 'orange', 'red', 'purple']\n\n# Create bar chart\nplt.figure(figsize=(12, 6))  # Adjust figure size for better readability\nbars = plt.bar(df['Country'], df['GDP Growth Rate'], color=colors)\n\n# Add labels and title\nplt.xlabel('Country', fontsize=12)\nplt.ylabel('GDP Growth Rate (%)', fontsize=12)\nplt.title('GDP Growth Rates of Top 5 Economies (2024)', fontsize=14)\nplt.xticks(rotation=45, ha='right')  # Rotate x-axis labels for readability\n\n# Add value labels on top of the bars\nfor bar in bars:\n    yval = bar.get_height()\n    plt.text(bar.get_x() + bar.get_width()/2, yval, round(yval, 1), ha='center', va='bottom')\n\n# Add grid lines for better readability\nplt.grid(axis='y', linestyle='--')\n\n# Remove spines\nplt.gca().spines['top'].set_visible(False)\nplt.gca().spines['right'].set_visible(False)\n\nplt.tight_layout() # Adjust layout to prevent labels from overlapping\nplt.show()\n```"
          },
          "metadata": {}
        },
        {
          "output_type": "display_data",
          "data": {
            "text/plain": [
              "<IPython.core.display.Markdown object>"
            ],
            "text/markdown": "\n\nThis code will:\n\n1.  **Import necessary libraries:** `pandas` for creating the DataFrame and `matplotlib.pyplot` for creating the bar chart. `numpy` is imported but not explicitly used; it's often included as a general-purpose numerical computing library.\n2.  **Create a DataFrame:** A pandas DataFrame is created from the provided data.\n3.  **Sort the DataFrame:** Sort the DataFrame by 'GDP Growth Rate' in descending order to display the highest growth rate first.\n4.  **Define colors:** A list of colors is defined for the bars in the chart.\n5.  **Create a bar chart:** A bar chart is created using `plt.bar()`.\n6.  **Add labels and title:** The chart is labeled with appropriate x and y-axis labels and a title. The x-axis labels are rotated for better readability.\n7.  **Add value labels:**  The code iterates through the bars and adds the value (GDP Growth Rate) on top of each bar for better readability.  The values are rounded to one decimal place.\n8.  **Add grid lines:** Horizontal grid lines are added to the chart for better readability.\n9.  **Remove Spines:** Top and right spines are removed for a cleaner look.\n10. **Adjust Layout:** `plt.tight_layout()` is used to adjust subplot parameters to provide sufficient space for labels and titles, preventing them from overlapping.\n11. **Display the chart:** The chart is displayed using `plt.show()`.\n\nThis complete code can be directly executed in a Jupyter Notebook. It will generate a bar chart showing the GDP growth rates of the top 5 economies, with proper labels, title, color coding, and clear visualization.\n"
          },
          "metadata": {}
        },
        {
          "output_type": "stream",
          "name": "stdout",
          "text": [
            "\n",
            "📊 Search Results Used:\n"
          ]
        },
        {
          "output_type": "display_data",
          "data": {
            "text/plain": [
              "<IPython.core.display.HTML object>"
            ],
            "text/html": [
              "<style>\n",
              ".container {\n",
              "  align-items: center;\n",
              "  border-radius: 8px;\n",
              "  display: flex;\n",
              "  font-family: Google Sans, Roboto, sans-serif;\n",
              "  font-size: 14px;\n",
              "  line-height: 20px;\n",
              "  padding: 8px 12px;\n",
              "}\n",
              ".chip {\n",
              "  display: inline-block;\n",
              "  border: solid 1px;\n",
              "  border-radius: 16px;\n",
              "  min-width: 14px;\n",
              "  padding: 5px 16px;\n",
              "  text-align: center;\n",
              "  user-select: none;\n",
              "  margin: 0 8px;\n",
              "  -webkit-tap-highlight-color: transparent;\n",
              "}\n",
              ".carousel {\n",
              "  overflow: auto;\n",
              "  scrollbar-width: none;\n",
              "  white-space: nowrap;\n",
              "  margin-right: -12px;\n",
              "}\n",
              ".headline {\n",
              "  display: flex;\n",
              "  margin-right: 4px;\n",
              "}\n",
              ".gradient-container {\n",
              "  position: relative;\n",
              "}\n",
              ".gradient {\n",
              "  position: absolute;\n",
              "  transform: translate(3px, -9px);\n",
              "  height: 36px;\n",
              "  width: 9px;\n",
              "}\n",
              "@media (prefers-color-scheme: light) {\n",
              "  .container {\n",
              "    background-color: #fafafa;\n",
              "    box-shadow: 0 0 0 1px #0000000f;\n",
              "  }\n",
              "  .headline-label {\n",
              "    color: #1f1f1f;\n",
              "  }\n",
              "  .chip {\n",
              "    background-color: #ffffff;\n",
              "    border-color: #d2d2d2;\n",
              "    color: #5e5e5e;\n",
              "    text-decoration: none;\n",
              "  }\n",
              "  .chip:hover {\n",
              "    background-color: #f2f2f2;\n",
              "  }\n",
              "  .chip:focus {\n",
              "    background-color: #f2f2f2;\n",
              "  }\n",
              "  .chip:active {\n",
              "    background-color: #d8d8d8;\n",
              "    border-color: #b6b6b6;\n",
              "  }\n",
              "  .logo-dark {\n",
              "    display: none;\n",
              "  }\n",
              "  .gradient {\n",
              "    background: linear-gradient(90deg, #fafafa 15%, #fafafa00 100%);\n",
              "  }\n",
              "}\n",
              "@media (prefers-color-scheme: dark) {\n",
              "  .container {\n",
              "    background-color: #1f1f1f;\n",
              "    box-shadow: 0 0 0 1px #ffffff26;\n",
              "  }\n",
              "  .headline-label {\n",
              "    color: #fff;\n",
              "  }\n",
              "  .chip {\n",
              "    background-color: #2c2c2c;\n",
              "    border-color: #3c4043;\n",
              "    color: #fff;\n",
              "    text-decoration: none;\n",
              "  }\n",
              "  .chip:hover {\n",
              "    background-color: #353536;\n",
              "  }\n",
              "  .chip:focus {\n",
              "    background-color: #353536;\n",
              "  }\n",
              "  .chip:active {\n",
              "    background-color: #464849;\n",
              "    border-color: #53575b;\n",
              "  }\n",
              "  .logo-light {\n",
              "    display: none;\n",
              "  }\n",
              "  .gradient {\n",
              "    background: linear-gradient(90deg, #1f1f1f 15%, #1f1f1f00 100%);\n",
              "  }\n",
              "}\n",
              "</style>\n",
              "<div class=\"container\">\n",
              "  <div class=\"headline\">\n",
              "    <svg class=\"logo-light\" width=\"18\" height=\"18\" viewBox=\"9 9 35 35\" fill=\"none\" xmlns=\"http://www.w3.org/2000/svg\">\n",
              "      <path fill-rule=\"evenodd\" clip-rule=\"evenodd\" d=\"M42.8622 27.0064C42.8622 25.7839 42.7525 24.6084 42.5487 23.4799H26.3109V30.1568H35.5897C35.1821 32.3041 33.9596 34.1222 32.1258 35.3448V39.6864H37.7213C40.9814 36.677 42.8622 32.2571 42.8622 27.0064V27.0064Z\" fill=\"#4285F4\"/>\n",
              "      <path fill-rule=\"evenodd\" clip-rule=\"evenodd\" d=\"M26.3109 43.8555C30.9659 43.8555 34.8687 42.3195 37.7213 39.6863L32.1258 35.3447C30.5898 36.3792 28.6306 37.0061 26.3109 37.0061C21.8282 37.0061 18.0195 33.9811 16.6559 29.906H10.9194V34.3573C13.7563 39.9841 19.5712 43.8555 26.3109 43.8555V43.8555Z\" fill=\"#34A853\"/>\n",
              "      <path fill-rule=\"evenodd\" clip-rule=\"evenodd\" d=\"M16.6559 29.8904C16.3111 28.8559 16.1074 27.7588 16.1074 26.6146C16.1074 25.4704 16.3111 24.3733 16.6559 23.3388V18.8875H10.9194C9.74388 21.2072 9.06992 23.8247 9.06992 26.6146C9.06992 29.4045 9.74388 32.022 10.9194 34.3417L15.3864 30.8621L16.6559 29.8904V29.8904Z\" fill=\"#FBBC05\"/>\n",
              "      <path fill-rule=\"evenodd\" clip-rule=\"evenodd\" d=\"M26.3109 16.2386C28.85 16.2386 31.107 17.1164 32.9095 18.8091L37.8466 13.8719C34.853 11.082 30.9659 9.3736 26.3109 9.3736C19.5712 9.3736 13.7563 13.245 10.9194 18.8875L16.6559 23.3388C18.0195 19.2636 21.8282 16.2386 26.3109 16.2386V16.2386Z\" fill=\"#EA4335\"/>\n",
              "    </svg>\n",
              "    <svg class=\"logo-dark\" width=\"18\" height=\"18\" viewBox=\"0 0 48 48\" xmlns=\"http://www.w3.org/2000/svg\">\n",
              "      <circle cx=\"24\" cy=\"23\" fill=\"#FFF\" r=\"22\"/>\n",
              "      <path d=\"M33.76 34.26c2.75-2.56 4.49-6.37 4.49-11.26 0-.89-.08-1.84-.29-3H24.01v5.99h8.03c-.4 2.02-1.5 3.56-3.07 4.56v.75l3.91 2.97h.88z\" fill=\"#4285F4\"/>\n",
              "      <path d=\"M15.58 25.77A8.845 8.845 0 0 0 24 31.86c1.92 0 3.62-.46 4.97-1.31l4.79 3.71C31.14 36.7 27.65 38 24 38c-5.93 0-11.01-3.4-13.45-8.36l.17-1.01 4.06-2.85h.8z\" fill=\"#34A853\"/>\n",
              "      <path d=\"M15.59 20.21a8.864 8.864 0 0 0 0 5.58l-5.03 3.86c-.98-2-1.53-4.25-1.53-6.64 0-2.39.55-4.64 1.53-6.64l1-.22 3.81 2.98.22 1.08z\" fill=\"#FBBC05\"/>\n",
              "      <path d=\"M24 14.14c2.11 0 4.02.75 5.52 1.98l4.36-4.36C31.22 9.43 27.81 8 24 8c-5.93 0-11.01 3.4-13.45 8.36l5.03 3.85A8.86 8.86 0 0 1 24 14.14z\" fill=\"#EA4335\"/>\n",
              "    </svg>\n",
              "    <div class=\"gradient-container\"><div class=\"gradient\"></div></div>\n",
              "  </div>\n",
              "  <div class=\"carousel\">\n",
              "    <a class=\"chip\" href=\"https://vertexaisearch.cloud.google.com/grounding-api-redirect/AWQVqAI6MyvrvWoaO9v7XCL7b6trLqgX-GVFzAVETtMxpEblvWxVLWSbbeZE-pDyg1ectztYxKf1ze5Zkx9HLReBqDk8ZvCNXhwwhU_7H6VSRBIZND9kedkgXxJ3417AWfK6Jt5UpAsQWYhngctTZ_VEwJBRLSpOToy5haPbU1zRRStnXwmtOKxf9juJfOHm5iXej1SgFN5GssZC8ByV2yD2_1MvaVW90I66rQ4=\">List of largest economies by GDP 2024</a>\n",
              "    <a class=\"chip\" href=\"https://vertexaisearch.cloud.google.com/grounding-api-redirect/AWQVqAIoGsscQ-G0oNzH9Gp6ewO2-U2PospiIigyo0Utw2lfjdswXRDZt0SSW-CIr56uo1cXQHyu5GfOjN3enUt__jWBGojtAked_-41GXOhxQSAmIpPokw0TuZo3UgcUg0x0a6GynvfzcgBetMkR-IEjzOwHj1nDumfbsEAjxqvNhDFArpSyfwByhINJi6FqB7OxX6RzbIe0G5vRRd8a1LdQpueAlafhsPg4PU=\">GDP growth rates 2024 top 5 economies</a>\n",
              "  </div>\n",
              "</div>\n"
            ]
          },
          "metadata": {}
        },
        {
          "output_type": "stream",
          "name": "stdout",
          "text": [
            "\n",
            "# The code above can be copied into a code cell and executed to create the visualization.\n",
            "# Gemini has sourced recent economic data and created visualization code.\n"
          ]
        }
      ]
    },
    {
      "cell_type": "code",
      "source": [
        "#Visualized the generated code\n",
        "\n",
        "import pandas as pd\n",
        "import matplotlib.pyplot as plt\n",
        "import numpy as np\n",
        "\n",
        "# Data\n",
        "data = {'Country': ['United States', 'China', 'Germany', 'Japan', 'India'],\n",
        "        'GDP Growth Rate': [2.5, 5.4, -0.2, 1.2, 6.2]}\n",
        "\n",
        "df = pd.DataFrame(data)\n",
        "\n",
        "# Plotting\n",
        "plt.figure(figsize=(10, 6))  # Adjust figure size for better visualization\n",
        "colors = ['skyblue', 'lightgreen', 'lightcoral', 'lightsalmon', 'lightseagreen']  # Define colors\n",
        "\n",
        "bars = plt.bar(df['Country'], df['GDP Growth Rate'], color=colors)\n",
        "\n",
        "# Adding labels and title\n",
        "plt.xlabel('Country', fontsize=12)\n",
        "plt.ylabel('GDP Growth Rate (%)', fontsize=12)\n",
        "plt.title('GDP Growth Rates of Top 5 Economies (2024)', fontsize=14)\n",
        "plt.ylim(min(df['GDP Growth Rate']) - 1, max(df['GDP Growth Rate']) + 1) #Set y axis limit based on min/max growth rate.\n",
        "\n",
        "# Adding value labels on top of bars\n",
        "for bar in bars:\n",
        "    yval = bar.get_height()\n",
        "    plt.text(bar.get_x() + bar.get_width()/2, yval, round(yval, 1), ha='center', va='bottom')\n",
        "\n",
        "plt.xticks(rotation=45, ha='right')  # Rotate x-axis labels for readability\n",
        "plt.tight_layout()  # Adjust layout to prevent labels from overlapping\n",
        "plt.grid(axis='y', linestyle='--')  # Add a grid for better readability\n",
        "\n",
        "# Show plot\n",
        "plt.show()"
      ],
      "metadata": {
        "colab": {
          "base_uri": "https://localhost:8080/",
          "height": 607
        },
        "id": "l6gn_5g7eN8v",
        "outputId": "117e086c-6272-4c43-fe14-83befe6935f9"
      },
      "execution_count": 19,
      "outputs": [
        {
          "output_type": "display_data",
          "data": {
            "text/plain": [
              "<Figure size 1000x600 with 1 Axes>"
            ],
            "image/png": "[encoded data removed]"
          },
          "metadata": {}
        }
      ]
    },
    {
      "cell_type": "markdown",
      "source": [
        "# Multimodal Search Example\n",
        "## 7. Combining Search with Multimodal Capabilities"
      ],
      "metadata": {
        "id": "KhO2BMLTy3ec"
      }
    },
    {
      "cell_type": "code",
      "source": [
        "print(\"\\n--- 7. Multimodal Search Exploration ---\")\n",
        "print(\"# Gemini 2.0 can combine search with analysis of uploaded images\")\n",
        "\n",
        "from IPython.display import display, Image\n",
        "from google.colab import files\n",
        "import base64\n",
        "import io\n",
        "\n",
        "def encode_image(image_path):\n",
        "    \"\"\"Encode image to base64 string\"\"\"\n",
        "    with open(image_path, \"rb\") as image_file:\n",
        "        return base64.b64encode(image_file.read()).decode('utf-8')\n",
        "\n",
        "def upload_and_analyze_image():\n",
        "    \"\"\"Upload an image and analyze it with Gemini + Search\"\"\"\n",
        "    print(\"Please upload an image (landmark, artwork, product, etc.)\")\n",
        "    uploaded = files.upload()\n",
        "\n",
        "    if not uploaded:\n",
        "        print(\"No image uploaded. Skipping image analysis.\")\n",
        "        return\n",
        "\n",
        "    # Get the first uploaded file\n",
        "    image_path = list(uploaded.keys())[0]\n",
        "\n",
        "    # Display the uploaded image\n",
        "    print(\"Uploaded image:\")\n",
        "    display(Image(filename=image_path))\n",
        "\n",
        "    # Encode the image to base64\n",
        "    base64_image = encode_image(image_path)\n",
        "\n",
        "    # Create a new multimodal message with the image\n",
        "    multimodal_chat = client.chats.create(model=MODEL_PRO, config={'tools': [search_tool]})\n",
        "\n",
        "    # First prompt to identify the image\n",
        "    identification_prompt = f\"\"\"\n",
        "    data:image/jpeg;base64,{base64_image}\n",
        "\n",
        "    What is shown in this image? Please identify the main subject and provide a brief description.\n",
        "    \"\"\"\n",
        "\n",
        "    print(\"\\n🔍 Analyzing image...\")\n",
        "    identification_response = multimodal_chat.send_message(identification_prompt)\n",
        "    show_parts(identification_response)\n",
        "\n",
        "    # Second prompt to get more detailed information with search\n",
        "    detail_prompt = \"Please search for more detailed information about this subject, including when it was created/built, its history, and interesting facts.\"\n",
        "\n",
        "    print(\"\\n🔍 Searching for detailed information...\")\n",
        "    detail_response = multimodal_chat.send_message(detail_prompt)\n",
        "    show_parts(detail_response)\n",
        "\n",
        "    return multimodal_chat\n",
        "\n",
        "# Explanation for workshop participants\n",
        "print(\"\\nIn this section, you'll upload an image and Gemini will:\")\n",
        "print(\"1. Analyze the visual content to identify what's in the image\")\n",
        "print(\"2. Use Google Search to find accurate, detailed information about the subject\")\n",
        "print(\"3. Allow you to ask follow-up questions in the same conversation context\")\n",
        "print(\"\\nThis demonstrates how Gemini combines visual understanding with search capabilities.\")\n",
        "\n",
        "# Run the interactive image upload and analysis\n",
        "print(\"\\n📸 Let's try this out!\")\n",
        "multimodal_chat = upload_and_analyze_image()\n",
        "\n",
        "# Provide instructions for follow-up questions\n",
        "if multimodal_chat:\n",
        "    print(\"\\n📝 You can now ask follow-up questions about the image!\")\n",
        "    print(\"Example follow-up questions:\")\n",
        "    print(\"- 'How does it compare to similar examples?'\")\n",
        "    print(\"- 'What are common misconceptions about it?'\")\n",
        "    print(\"- 'When was the last major renovation or change?'\")\n",
        "\n",
        "    # Option to ask a follow-up question\n",
        "    follow_up = input(\"Enter a follow-up question (or press Enter to skip): \")\n",
        "    if follow_up:\n",
        "        print(f\"\\n🔍 Searching for answer to: '{follow_up}'\")\n",
        "        follow_up_response = multimodal_chat.send_message(follow_up)\n",
        "        show_parts(follow_up_response)"
      ],
      "metadata": {
        "colab": {
          "base_uri": "https://localhost:8080/",
          "height": 1000
        },
        "id": "asBvKeVGy9Dm",
        "outputId": "3a53df50-694e-4b79-d276-f483f8218df1"
      },
      "execution_count": 23,
      "outputs": [
        {
          "output_type": "stream",
          "name": "stdout",
          "text": [
            "\n",
            "--- 7. Multimodal Search Exploration ---\n",
            "# Gemini 2.0 can combine search with analysis of uploaded images\n",
            "\n",
            "In this section, you'll upload an image and Gemini will:\n",
            "1. Analyze the visual content to identify what's in the image\n",
            "2. Use Google Search to find accurate, detailed information about the subject\n",
            "3. Allow you to ask follow-up questions in the same conversation context\n",
            "\n",
            "This demonstrates how Gemini combines visual understanding with search capabilities.\n",
            "\n",
            "📸 Let's try this out!\n",
            "Please upload an image (landmark, artwork, product, etc.)\n"
          ]
        },
        {
          "output_type": "display_data",
          "data": {
            "text/plain": [
              "<IPython.core.display.HTML object>"
            ],
            "text/html": [
              "\n",
              "     <input type=\"file\" id=\"files-8c7febc0-ec54-4995-9256-f23265079ac9\" name=\"files[]\" multiple disabled\n",
              "        style=\"border:none\" />\n",
              "     <output id=\"result-8c7febc0-ec54-4995-9256-f23265079ac9\">\n",
              "      Upload widget is only available when the cell has been executed in the\n",
              "      current browser session. Please rerun this cell to enable.\n",
              "      </output>\n",
              "      <script>// Copyright 2017 Google LLC\n",
              "//\n",
              "// Licensed under the Apache License, Version 2.0 (the \"License\");\n",
              "// you may not use this file except in compliance with the License.\n",
              "// You may obtain a copy of the License at\n",
              "//\n",
              "//      http://www.apache.org/licenses/LICENSE-2.0\n",
              "//\n",
              "// Unless required by applicable law or agreed to in writing, software\n",
              "// distributed under the License is distributed on an \"AS IS\" BASIS,\n",
              "// WITHOUT WARRANTIES OR CONDITIONS OF ANY KIND, either express or implied.\n",
              "// See the License for the specific language governing permissions and\n",
              "// limitations under the License.\n",
              "\n",
              "/**\n",
              " * @fileoverview Helpers for google.colab Python module.\n",
              " */\n",
              "(function(scope) {\n",
              "function span(text, styleAttributes = {}) {\n",
              "  const element = document.createElement('span');\n",
              "  element.textContent = text;\n",
              "  for (const key of Object.keys(styleAttributes)) {\n",
              "    element.style[key] = styleAttributes[key];\n",
              "  }\n",
              "  return element;\n",
              "}\n",
              "\n",
              "// Max number of bytes which will be uploaded at a time.\n",
              "const MAX_PAYLOAD_SIZE = 100 * 1024;\n",
              "\n",
              "function _uploadFiles(inputId, outputId) {\n",
              "  const steps = uploadFilesStep(inputId, outputId);\n",
              "  const outputElement = document.getElementById(outputId);\n",
              "  // Cache steps on the outputElement to make it available for the next call\n",
              "  // to uploadFilesContinue from Python.\n",
              "  outputElement.steps = steps;\n",
              "\n",
              "  return _uploadFilesContinue(outputId);\n",
              "}\n",
              "\n",
              "// This is roughly an async generator (not supported in the browser yet),\n",
              "// where there are multiple asynchronous steps and the Python side is going\n",
              "// to poll for completion of each step.\n",
              "// This uses a Promise to block the python side on completion of each step,\n",
              "// then passes the result of the previous step as the input to the next step.\n",
              "function _uploadFilesContinue(outputId) {\n",
              "  const outputElement = document.getElementById(outputId);\n",
              "  const steps = outputElement.steps;\n",
              "\n",
              "  const next = steps.next(outputElement.lastPromiseValue);\n",
              "  return Promise.resolve(next.value.promise).then((value) => {\n",
              "    // Cache the last promise value to make it available to the next\n",
              "    // step of the generator.\n",
              "    outputElement.lastPromiseValue = value;\n",
              "    return next.value.response;\n",
              "  });\n",
              "}\n",
              "\n",
              "/**\n",
              " * Generator function which is called between each async step of the upload\n",
              " * process.\n",
              " * @param {string} inputId Element ID of the input file picker element.\n",
              " * @param {string} outputId Element ID of the output display.\n",
              " * @return {!Iterable<!Object>} Iterable of next steps.\n",
              " */\n",
              "function* uploadFilesStep(inputId, outputId) {\n",
              "  const inputElement = document.getElementById(inputId);\n",
              "  inputElement.disabled = false;\n",
              "\n",
              "  const outputElement = document.getElementById(outputId);\n",
              "  outputElement.innerHTML = '';\n",
              "\n",
              "  const pickedPromise = new Promise((resolve) => {\n",
              "    inputElement.addEventListener('change', (e) => {\n",
              "      resolve(e.target.files);\n",
              "    });\n",
              "  });\n",
              "\n",
              "  const cancel = document.createElement('button');\n",
              "  inputElement.parentElement.appendChild(cancel);\n",
              "  cancel.textContent = 'Cancel upload';\n",
              "  const cancelPromise = new Promise((resolve) => {\n",
              "    cancel.onclick = () => {\n",
              "      resolve(null);\n",
              "    };\n",
              "  });\n",
              "\n",
              "  // Wait for the user to pick the files.\n",
              "  const files = yield {\n",
              "    promise: Promise.race([pickedPromise, cancelPromise]),\n",
              "    response: {\n",
              "      action: 'starting',\n",
              "    }\n",
              "  };\n",
              "\n",
              "  cancel.remove();\n",
              "\n",
              "  // Disable the input element since further picks are not allowed.\n",
              "  inputElement.disabled = true;\n",
              "\n",
              "  if (!files) {\n",
              "    return {\n",
              "      response: {\n",
              "        action: 'complete',\n",
              "      }\n",
              "    };\n",
              "  }\n",
              "\n",
              "  for (const file of files) {\n",
              "    const li = document.createElement('li');\n",
              "    li.append(span(file.name, {fontWeight: 'bold'}));\n",
              "    li.append(span(\n",
              "        `(${file.type || 'n/a'}) - ${file.size} bytes, ` +\n",
              "        `last modified: ${\n",
              "            file.lastModifiedDate ? file.lastModifiedDate.toLocaleDateString() :\n",
              "                                    'n/a'} - `));\n",
              "    const percent = span('0% done');\n",
              "    li.appendChild(percent);\n",
              "\n",
              "    outputElement.appendChild(li);\n",
              "\n",
              "    const fileDataPromise = new Promise((resolve) => {\n",
              "      const reader = new FileReader();\n",
              "      reader.onload = (e) => {\n",
              "        resolve(e.target.result);\n",
              "      };\n",
              "      reader.readAsArrayBuffer(file);\n",
              "    });\n",
              "    // Wait for the data to be ready.\n",
              "    let fileData = yield {\n",
              "      promise: fileDataPromise,\n",
              "      response: {\n",
              "        action: 'continue',\n",
              "      }\n",
              "    };\n",
              "\n",
              "    // Use a chunked sending to avoid message size limits. See b/62115660.\n",
              "    let position = 0;\n",
              "    do {\n",
              "      const length = Math.min(fileData.byteLength - position, MAX_PAYLOAD_SIZE);\n",
              "      const chunk = new Uint8Array(fileData, position, length);\n",
              "      position += length;\n",
              "\n",
              "      const base64 = btoa(String.fromCharCode.apply(null, chunk));\n",
              "      yield {\n",
              "        response: {\n",
              "          action: 'append',\n",
              "          file: file.name,\n",
              "          data: base64,\n",
              "        },\n",
              "      };\n",
              "\n",
              "      let percentDone = fileData.byteLength === 0 ?\n",
              "          100 :\n",
              "          Math.round((position / fileData.byteLength) * 100);\n",
              "      percent.textContent = `${percentDone}% done`;\n",
              "\n",
              "    } while (position < fileData.byteLength);\n",
              "  }\n",
              "\n",
              "  // All done.\n",
              "  yield {\n",
              "    response: {\n",
              "      action: 'complete',\n",
              "    }\n",
              "  };\n",
              "}\n",
              "\n",
              "scope.google = scope.google || {};\n",
              "scope.google.colab = scope.google.colab || {};\n",
              "scope.google.colab._files = {\n",
              "  _uploadFiles,\n",
              "  _uploadFilesContinue,\n",
              "};\n",
              "})(self);\n",
              "</script> "
            ]
          },
          "metadata": {}
        },
        {
          "output_type": "stream",
          "name": "stdout",
          "text": [
            "Saving pexels-photo-2071882.jpeg to pexels-photo-2071882.jpeg\n",
            "Uploaded image:\n"
          ]
        },
        {
          "output_type": "display_data",
          "data": {
            "image/jpeg": "[encoded data removed]",
            "text/plain": [
              "<IPython.core.display.Image object>"
            ]
          },
          "metadata": {}
        },
        {
          "output_type": "stream",
          "name": "stdout",
          "text": [
            "\n",
            "🔍 Analyzing image...\n"
          ]
        },
        {
          "output_type": "display_data",
          "data": {
            "text/plain": [
              "<IPython.core.display.Markdown object>"
            ],
            "text/markdown": "Okay, let's analyze the image.\n"
          },
          "metadata": {}
        },
        {
          "output_type": "display_data",
          "data": {
            "text/plain": [
              "<IPython.core.display.Markdown object>"
            ],
            "text/markdown": "The image shows the **Palau de les Arts Reina Sofía** (Queen Sofía Palace of the Arts) in Valencia, Spain.\n\nHere's a brief description:\n\n*   **Main Subject:** It's a striking, futuristic opera house and performing arts center designed by the renowned Valencian architect Santiago Calatrava.\n*   **Architecture:** The building is characterized by its majestic, highly symbolic sculpted form, featuring large, curved, white concrete shells flanking an elevated, metallic structure often described as a \"plume\" or \"feather\" roof. The exterior is notable for its use of white concrete and shimmering white mosaic tiles (trencadís).\n*   **Setting:** It's situated at the northwest end of the City of Arts and Sciences complex, surrounded by large, shallow reflecting pools which create dramatic reflections, as seen prominently in the image. The building appears to float or emerge from the water."
          },
          "metadata": {}
        },
        {
          "output_type": "stream",
          "name": "stdout",
          "text": [
            "\n",
            "📊 Search Results Used:\n"
          ]
        },
        {
          "output_type": "display_data",
          "data": {
            "text/plain": [
              "<IPython.core.display.HTML object>"
            ],
            "text/html": [
              "<style>\n",
              ".container {\n",
              "  align-items: center;\n",
              "  border-radius: 8px;\n",
              "  display: flex;\n",
              "  font-family: Google Sans, Roboto, sans-serif;\n",
              "  font-size: 14px;\n",
              "  line-height: 20px;\n",
              "  padding: 8px 12px;\n",
              "}\n",
              ".chip {\n",
              "  display: inline-block;\n",
              "  border: solid 1px;\n",
              "  border-radius: 16px;\n",
              "  min-width: 14px;\n",
              "  padding: 5px 16px;\n",
              "  text-align: center;\n",
              "  user-select: none;\n",
              "  margin: 0 8px;\n",
              "  -webkit-tap-highlight-color: transparent;\n",
              "}\n",
              ".carousel {\n",
              "  overflow: auto;\n",
              "  scrollbar-width: none;\n",
              "  white-space: nowrap;\n",
              "  margin-right: -12px;\n",
              "}\n",
              ".headline {\n",
              "  display: flex;\n",
              "  margin-right: 4px;\n",
              "}\n",
              ".gradient-container {\n",
              "  position: relative;\n",
              "}\n",
              ".gradient {\n",
              "  position: absolute;\n",
              "  transform: translate(3px, -9px);\n",
              "  height: 36px;\n",
              "  width: 9px;\n",
              "}\n",
              "@media (prefers-color-scheme: light) {\n",
              "  .container {\n",
              "    background-color: #fafafa;\n",
              "    box-shadow: 0 0 0 1px #0000000f;\n",
              "  }\n",
              "  .headline-label {\n",
              "    color: #1f1f1f;\n",
              "  }\n",
              "  .chip {\n",
              "    background-color: #ffffff;\n",
              "    border-color: #d2d2d2;\n",
              "    color: #5e5e5e;\n",
              "    text-decoration: none;\n",
              "  }\n",
              "  .chip:hover {\n",
              "    background-color: #f2f2f2;\n",
              "  }\n",
              "  .chip:focus {\n",
              "    background-color: #f2f2f2;\n",
              "  }\n",
              "  .chip:active {\n",
              "    background-color: #d8d8d8;\n",
              "    border-color: #b6b6b6;\n",
              "  }\n",
              "  .logo-dark {\n",
              "    display: none;\n",
              "  }\n",
              "  .gradient {\n",
              "    background: linear-gradient(90deg, #fafafa 15%, #fafafa00 100%);\n",
              "  }\n",
              "}\n",
              "@media (prefers-color-scheme: dark) {\n",
              "  .container {\n",
              "    background-color: #1f1f1f;\n",
              "    box-shadow: 0 0 0 1px #ffffff26;\n",
              "  }\n",
              "  .headline-label {\n",
              "    color: #fff;\n",
              "  }\n",
              "  .chip {\n",
              "    background-color: #2c2c2c;\n",
              "    border-color: #3c4043;\n",
              "    color: #fff;\n",
              "    text-decoration: none;\n",
              "  }\n",
              "  .chip:hover {\n",
              "    background-color: #353536;\n",
              "  }\n",
              "  .chip:focus {\n",
              "    background-color: #353536;\n",
              "  }\n",
              "  .chip:active {\n",
              "    background-color: #464849;\n",
              "    border-color: #53575b;\n",
              "  }\n",
              "  .logo-light {\n",
              "    display: none;\n",
              "  }\n",
              "  .gradient {\n",
              "    background: linear-gradient(90deg, #1f1f1f 15%, #1f1f1f00 100%);\n",
              "  }\n",
              "}\n",
              "</style>\n",
              "<div class=\"container\">\n",
              "  <div class=\"headline\">\n",
              "    <svg class=\"logo-light\" width=\"18\" height=\"18\" viewBox=\"9 9 35 35\" fill=\"none\" xmlns=\"http://www.w3.org/2000/svg\">\n",
              "      <path fill-rule=\"evenodd\" clip-rule=\"evenodd\" d=\"M42.8622 27.0064C42.8622 25.7839 42.7525 24.6084 42.5487 23.4799H26.3109V30.1568H35.5897C35.1821 32.3041 33.9596 34.1222 32.1258 35.3448V39.6864H37.7213C40.9814 36.677 42.8622 32.2571 42.8622 27.0064V27.0064Z\" fill=\"#4285F4\"/>\n",
              "      <path fill-rule=\"evenodd\" clip-rule=\"evenodd\" d=\"M26.3109 43.8555C30.9659 43.8555 34.8687 42.3195 37.7213 39.6863L32.1258 35.3447C30.5898 36.3792 28.6306 37.0061 26.3109 37.0061C21.8282 37.0061 18.0195 33.9811 16.6559 29.906H10.9194V34.3573C13.7563 39.9841 19.5712 43.8555 26.3109 43.8555V43.8555Z\" fill=\"#34A853\"/>\n",
              "      <path fill-rule=\"evenodd\" clip-rule=\"evenodd\" d=\"M16.6559 29.8904C16.3111 28.8559 16.1074 27.7588 16.1074 26.6146C16.1074 25.4704 16.3111 24.3733 16.6559 23.3388V18.8875H10.9194C9.74388 21.2072 9.06992 23.8247 9.06992 26.6146C9.06992 29.4045 9.74388 32.022 10.9194 34.3417L15.3864 30.8621L16.6559 29.8904V29.8904Z\" fill=\"#FBBC05\"/>\n",
              "      <path fill-rule=\"evenodd\" clip-rule=\"evenodd\" d=\"M26.3109 16.2386C28.85 16.2386 31.107 17.1164 32.9095 18.8091L37.8466 13.8719C34.853 11.082 30.9659 9.3736 26.3109 9.3736C19.5712 9.3736 13.7563 13.245 10.9194 18.8875L16.6559 23.3388C18.0195 19.2636 21.8282 16.2386 26.3109 16.2386V16.2386Z\" fill=\"#EA4335\"/>\n",
              "    </svg>\n",
              "    <svg class=\"logo-dark\" width=\"18\" height=\"18\" viewBox=\"0 0 48 48\" xmlns=\"http://www.w3.org/2000/svg\">\n",
              "      <circle cx=\"24\" cy=\"23\" fill=\"#FFF\" r=\"22\"/>\n",
              "      <path d=\"M33.76 34.26c2.75-2.56 4.49-6.37 4.49-11.26 0-.89-.08-1.84-.29-3H24.01v5.99h8.03c-.4 2.02-1.5 3.56-3.07 4.56v.75l3.91 2.97h.88z\" fill=\"#4285F4\"/>\n",
              "      <path d=\"M15.58 25.77A8.845 8.845 0 0 0 24 31.86c1.92 0 3.62-.46 4.97-1.31l4.79 3.71C31.14 36.7 27.65 38 24 38c-5.93 0-11.01-3.4-13.45-8.36l.17-1.01 4.06-2.85h.8z\" fill=\"#34A853\"/>\n",
              "      <path d=\"M15.59 20.21a8.864 8.864 0 0 0 0 5.58l-5.03 3.86c-.98-2-1.53-4.25-1.53-6.64 0-2.39.55-4.64 1.53-6.64l1-.22 3.81 2.98.22 1.08z\" fill=\"#FBBC05\"/>\n",
              "      <path d=\"M24 14.14c2.11 0 4.02.75 5.52 1.98l4.36-4.36C31.22 9.43 27.81 8 24 8c-5.93 0-11.01 3.4-13.45 8.36l5.03 3.85A8.86 8.86 0 0 1 24 14.14z\" fill=\"#EA4335\"/>\n",
              "    </svg>\n",
              "    <div class=\"gradient-container\"><div class=\"gradient\"></div></div>\n",
              "  </div>\n",
              "  <div class=\"carousel\">\n",
              "    <a class=\"chip\" href=\"https://vertexaisearch.cloud.google.com/grounding-api-redirect/AWQVqAJ5y8_z1oK_iGhfd37BaN0SjnwHOquCXdpRzLnyfBRpuU3yTd3DvUIOQONtZwluoVTx-amze_E-sAq5qhUUEkaHyFeBgCvXxchzeY8R0obrpe8J5FTcdejdTB9Ei56eg3LKQLn8FYLUCw85EhVvxxzfFEBfwieTctrbbxO9ht2YXNNsRYAl8odQNnn4Xlxr45iyR0SkH8PMM2xDa1vP-9sA0CAWMRV3PXVsdjpSWOwCGCke8g==\">Palau de les Arts Reina Sofía Valencia building</a>\n",
              "    <a class=\"chip\" href=\"https://vertexaisearch.cloud.google.com/grounding-api-redirect/AWQVqAIlD8_Zx3n-kvh7jCbvLauDFxqatN5UWOF6cVB1LEZQ58c4O763Ou7noOpPh2pQQY5UnL0bKnBljqLGOkl0bsWVfqY1uTjShlu9HL2XXIwnWiIs35CrJ8E17XjxMBZ9Wan6kfwk9gItxbtaImbPOan_aUBmGfkIek1qFBiXThWBKG6xKmQxz4cyXt2oA9fZgKI-hgNaPEY8AAfi-lSIlkoiqKEUJJqhnw7txdhYsQ==\">what building is white curved on water valencia</a>\n",
              "  </div>\n",
              "</div>\n"
            ]
          },
          "metadata": {}
        },
        {
          "output_type": "stream",
          "name": "stdout",
          "text": [
            "\n",
            "🔍 Searching for detailed information...\n"
          ]
        },
        {
          "output_type": "display_data",
          "data": {
            "text/plain": [
              "<IPython.core.display.Markdown object>"
            ],
            "text/markdown": "Based on the search results, here's more detailed information about the Palau de les Arts Reina Sofía:\n\n**Creation/Construction:**\n\n*   **Architect:** Designed by the internationally renowned, Valencia-born architect Santiago Calatrava.\n*   **Concept:** It was conceived as the final, anchoring element of the vast City of Arts and Sciences (Ciutat de les Arts i les Ciències) complex, a project initiated in 1995. Calatrava was commissioned for the site development in 1992.\n*   **Construction Start:** The City of Arts and Sciences project began construction in July 1996. Construction on the Palau specifically started later, likely in the late 90s or early 2000s.\n*   **Official Opening:** The Palau de les Arts Reina Sofía was officially opened by Queen Sofía of Spain on October 8, 2005.\n*   **First Performance:** The first opera staged was Beethoven's *Fidelio* on October 25, 2006. The first full season began in 2006-2007.\n*   **Completion Year:** Often cited as 2005 for the opening, though some sources mention 2006, likely referring to when it became fully operational for performances.\n\n**History:**\n\n*   **Purpose:** Designed to be a major international opera house and performing arts center, serving as a cultural hub and an urban landmark for Valencia. It aimed to link the city center with the sea along the former riverbed of the Turia River.\n*   **Part of a Larger Complex:** It's integrated into the City of Arts and Sciences, which also includes structures like the Hemisfèric (IMAX/Planetarium), the Príncipe Felipe Science Museum, the Umbracle (promenade/parking), and the Oceanogràfic (aquarium).\n*   **Artistic Direction:** Helga Schmidt, formerly of London's Royal Opera House, served as the General Director from its inception until early 2015.\n*   **Notable Collaborations:** Tenor and conductor Plácido Domingo has had a strong relationship with the Palau since its founding, establishing a prestigious young singers' training program (Centre de Perfeccionament Plácido Domingo) there and performing regularly. Conductor Zubin Mehta also led an annual festival there, the Festival del Mediterráneo.\n*   **Cost Issues:** The City of Arts and Sciences complex significantly exceeded its original budget. Initially budgeted at €300 million in 1991 for three structures, the final cost for the expanded complex reportedly swelled to over €1 billion by 2005. Calatrava was paid approximately €94 million for the entire complex project. The opera house alone was estimated to cost around €100-120 million, though some reports mention figures as high as €478-500 million, likely encompassing broader project costs or including later repairs.\n*   **Structural Problems & Controversies:** The building has faced several issues since opening:\n    *   A main stage platform collapsed shortly after opening in 2006.\n    *   Flooding affected lower levels in 2007, damaging equipment.\n    *   Issues with acoustics were reported in one hall.\n    *   About 150-200 seats were found to have obstructed views.\n    *   In late 2013/early 2014, sections of the *trencadís* (broken tile mosaic) facade began falling off due to high winds and reported issues with materials, design, or execution (specifically related to differential thermal expansion between the metal shell and the ceramic). This led to the temporary closure of the building, removal of the damaged mosaic, legal action against Calatrava, and costly repairs.\n\n**Interesting Facts:**\n\n*   **Design:** Calatrava intended the building to have the iconographic character of a monumental sculpture. Its form is often described variously as resembling a ship, a spacecraft, a fish, a prehistoric trilobite, or a giant warrior's helmet (specifically a Spartan helmet).\n*   **Tallest Opera House:** Rising 75 meters (246 ft) with 14 stories above ground and 3 below, it is cited as the tallest opera house in the world.\n*   **Size:** The building covers approximately 40,000 square meters (431,000 sq ft). The signature curved steel roof or \"plume\" is 230 meters (755 ft) long.\n*   **Venues:** It houses four main auditoriums:\n    *   Sala Principal (Main Hall): Seats around 1,470, primarily for opera but adaptable. Features the third-largest orchestra pit in the world (space for 120 musicians).\n    *   Auditorium: Seats 1,420, used for concerts.\n    *   Aula Magistral: Seats around 380-400, for chamber music, conferences, etc.\n    *   Martí i Soler Theatre: Seats 400, for experimental theatre, dance, and training.\n*   **Materials:** Notable for its use of white concrete and the *trencadís* mosaic tile finish on the outer shells (though much of the exterior mosaic was later removed due to the problems).\n*   **Surroundings:** Set within the City of Arts and Sciences, it's surrounded by large reflecting pools (11,000 sq meters) and extensive gardens and pathways (over 60,000 sq meters).\n*   **Advanced Technology:** Equipped with modern stage technology, including portable platforms, interchangeable sets, and screens in seats for simultaneous translation.\n*   **Accessibility:** Designed to be accessible, with panoramic lifts and staircases within the metal sides providing access to different levels. Parts of the building, like garden terraces and cafes, are intended for public access."
          },
          "metadata": {}
        },
        {
          "output_type": "stream",
          "name": "stdout",
          "text": [
            "\n",
            "📊 Search Results Used:\n"
          ]
        },
        {
          "output_type": "display_data",
          "data": {
            "text/plain": [
              "<IPython.core.display.HTML object>"
            ],
            "text/html": [
              "<style>\n",
              ".container {\n",
              "  align-items: center;\n",
              "  border-radius: 8px;\n",
              "  display: flex;\n",
              "  font-family: Google Sans, Roboto, sans-serif;\n",
              "  font-size: 14px;\n",
              "  line-height: 20px;\n",
              "  padding: 8px 12px;\n",
              "}\n",
              ".chip {\n",
              "  display: inline-block;\n",
              "  border: solid 1px;\n",
              "  border-radius: 16px;\n",
              "  min-width: 14px;\n",
              "  padding: 5px 16px;\n",
              "  text-align: center;\n",
              "  user-select: none;\n",
              "  margin: 0 8px;\n",
              "  -webkit-tap-highlight-color: transparent;\n",
              "}\n",
              ".carousel {\n",
              "  overflow: auto;\n",
              "  scrollbar-width: none;\n",
              "  white-space: nowrap;\n",
              "  margin-right: -12px;\n",
              "}\n",
              ".headline {\n",
              "  display: flex;\n",
              "  margin-right: 4px;\n",
              "}\n",
              ".gradient-container {\n",
              "  position: relative;\n",
              "}\n",
              ".gradient {\n",
              "  position: absolute;\n",
              "  transform: translate(3px, -9px);\n",
              "  height: 36px;\n",
              "  width: 9px;\n",
              "}\n",
              "@media (prefers-color-scheme: light) {\n",
              "  .container {\n",
              "    background-color: #fafafa;\n",
              "    box-shadow: 0 0 0 1px #0000000f;\n",
              "  }\n",
              "  .headline-label {\n",
              "    color: #1f1f1f;\n",
              "  }\n",
              "  .chip {\n",
              "    background-color: #ffffff;\n",
              "    border-color: #d2d2d2;\n",
              "    color: #5e5e5e;\n",
              "    text-decoration: none;\n",
              "  }\n",
              "  .chip:hover {\n",
              "    background-color: #f2f2f2;\n",
              "  }\n",
              "  .chip:focus {\n",
              "    background-color: #f2f2f2;\n",
              "  }\n",
              "  .chip:active {\n",
              "    background-color: #d8d8d8;\n",
              "    border-color: #b6b6b6;\n",
              "  }\n",
              "  .logo-dark {\n",
              "    display: none;\n",
              "  }\n",
              "  .gradient {\n",
              "    background: linear-gradient(90deg, #fafafa 15%, #fafafa00 100%);\n",
              "  }\n",
              "}\n",
              "@media (prefers-color-scheme: dark) {\n",
              "  .container {\n",
              "    background-color: #1f1f1f;\n",
              "    box-shadow: 0 0 0 1px #ffffff26;\n",
              "  }\n",
              "  .headline-label {\n",
              "    color: #fff;\n",
              "  }\n",
              "  .chip {\n",
              "    background-color: #2c2c2c;\n",
              "    border-color: #3c4043;\n",
              "    color: #fff;\n",
              "    text-decoration: none;\n",
              "  }\n",
              "  .chip:hover {\n",
              "    background-color: #353536;\n",
              "  }\n",
              "  .chip:focus {\n",
              "    background-color: #353536;\n",
              "  }\n",
              "  .chip:active {\n",
              "    background-color: #464849;\n",
              "    border-color: #53575b;\n",
              "  }\n",
              "  .logo-light {\n",
              "    display: none;\n",
              "  }\n",
              "  .gradient {\n",
              "    background: linear-gradient(90deg, #1f1f1f 15%, #1f1f1f00 100%);\n",
              "  }\n",
              "}\n",
              "</style>\n",
              "<div class=\"container\">\n",
              "  <div class=\"headline\">\n",
              "    <svg class=\"logo-light\" width=\"18\" height=\"18\" viewBox=\"9 9 35 35\" fill=\"none\" xmlns=\"http://www.w3.org/2000/svg\">\n",
              "      <path fill-rule=\"evenodd\" clip-rule=\"evenodd\" d=\"M42.8622 27.0064C42.8622 25.7839 42.7525 24.6084 42.5487 23.4799H26.3109V30.1568H35.5897C35.1821 32.3041 33.9596 34.1222 32.1258 35.3448V39.6864H37.7213C40.9814 36.677 42.8622 32.2571 42.8622 27.0064V27.0064Z\" fill=\"#4285F4\"/>\n",
              "      <path fill-rule=\"evenodd\" clip-rule=\"evenodd\" d=\"M26.3109 43.8555C30.9659 43.8555 34.8687 42.3195 37.7213 39.6863L32.1258 35.3447C30.5898 36.3792 28.6306 37.0061 26.3109 37.0061C21.8282 37.0061 18.0195 33.9811 16.6559 29.906H10.9194V34.3573C13.7563 39.9841 19.5712 43.8555 26.3109 43.8555V43.8555Z\" fill=\"#34A853\"/>\n",
              "      <path fill-rule=\"evenodd\" clip-rule=\"evenodd\" d=\"M16.6559 29.8904C16.3111 28.8559 16.1074 27.7588 16.1074 26.6146C16.1074 25.4704 16.3111 24.3733 16.6559 23.3388V18.8875H10.9194C9.74388 21.2072 9.06992 23.8247 9.06992 26.6146C9.06992 29.4045 9.74388 32.022 10.9194 34.3417L15.3864 30.8621L16.6559 29.8904V29.8904Z\" fill=\"#FBBC05\"/>\n",
              "      <path fill-rule=\"evenodd\" clip-rule=\"evenodd\" d=\"M26.3109 16.2386C28.85 16.2386 31.107 17.1164 32.9095 18.8091L37.8466 13.8719C34.853 11.082 30.9659 9.3736 26.3109 9.3736C19.5712 9.3736 13.7563 13.245 10.9194 18.8875L16.6559 23.3388C18.0195 19.2636 21.8282 16.2386 26.3109 16.2386V16.2386Z\" fill=\"#EA4335\"/>\n",
              "    </svg>\n",
              "    <svg class=\"logo-dark\" width=\"18\" height=\"18\" viewBox=\"0 0 48 48\" xmlns=\"http://www.w3.org/2000/svg\">\n",
              "      <circle cx=\"24\" cy=\"23\" fill=\"#FFF\" r=\"22\"/>\n",
              "      <path d=\"M33.76 34.26c2.75-2.56 4.49-6.37 4.49-11.26 0-.89-.08-1.84-.29-3H24.01v5.99h8.03c-.4 2.02-1.5 3.56-3.07 4.56v.75l3.91 2.97h.88z\" fill=\"#4285F4\"/>\n",
              "      <path d=\"M15.58 25.77A8.845 8.845 0 0 0 24 31.86c1.92 0 3.62-.46 4.97-1.31l4.79 3.71C31.14 36.7 27.65 38 24 38c-5.93 0-11.01-3.4-13.45-8.36l.17-1.01 4.06-2.85h.8z\" fill=\"#34A853\"/>\n",
              "      <path d=\"M15.59 20.21a8.864 8.864 0 0 0 0 5.58l-5.03 3.86c-.98-2-1.53-4.25-1.53-6.64 0-2.39.55-4.64 1.53-6.64l1-.22 3.81 2.98.22 1.08z\" fill=\"#FBBC05\"/>\n",
              "      <path d=\"M24 14.14c2.11 0 4.02.75 5.52 1.98l4.36-4.36C31.22 9.43 27.81 8 24 8c-5.93 0-11.01 3.4-13.45 8.36l5.03 3.85A8.86 8.86 0 0 1 24 14.14z\" fill=\"#EA4335\"/>\n",
              "    </svg>\n",
              "    <div class=\"gradient-container\"><div class=\"gradient\"></div></div>\n",
              "  </div>\n",
              "  <div class=\"carousel\">\n",
              "    <a class=\"chip\" href=\"https://vertexaisearch.cloud.google.com/grounding-api-redirect/AWQVqAI77nFCjjBU4isxa7uZyaRt7fNSk27B7lh4ji5-qOTcg71yLDeYsbrdIUNi7AgX-1dY161pE-68jPcbJ08_9AFT5OejyvBObdtxsyvs-Bz5iXP_5Z2E3cOs_5Mjyi6NwHaC3vJ8QtDjWZnYKSfx8BKJitc3loV9-x0SdH8EkD3U8gh-w4hZxR91uwtzfhEVZyQbbWt8349ud6b7DbQ7XMOOOztl-Uw=\">Palau de les Arts Reina Sofía cost</a>\n",
              "    <a class=\"chip\" href=\"https://vertexaisearch.cloud.google.com/grounding-api-redirect/AWQVqAJXyCGGUqrm8NvaLNr5G3zkC4f_S2Kgj88oWk71twTwvfqzgzCWwWZ3xSK85F81ButG5StqrRPNKFN4kgy02FRy7WjLAO6nqjPVg7vivxm9g4cYWHibX2LFdGcxs4AovHKAwsw-dvXIx-Cx4UGj21aADCXJQzZK8a2Gk3kdT6SHnHhQsjM7kuOAhcyEUjW1GX0HQcpD94dZcIzHDBlOpe5N3ye505GbfqLogVX4rzeoJM-s_Q==\">Interesting facts Palau de les Arts Reina Sofía</a>\n",
              "    <a class=\"chip\" href=\"https://vertexaisearch.cloud.google.com/grounding-api-redirect/AWQVqAKT5qL7FgqIyAuTsMzF7ClxR4uV4aHIK0WdkdVxXQ2LlWew9EMR1QWPZEmOqqyJ7fGx2OiekXDOMeZy29uoM8M_XoNKgQxTC0c-KlzTftaBOM9Cgt8PNtgBYLvsrSfQlX73R06jHmBlXHR1tSFop_eFlC06G2Sann-fz3X41PlOrLTQpjKge-UzDH2ziMXnTvnd7E6b3F6EA86g7bvISmPcHrnClQw0AhM2Qcn_8Am0YOmHim7ZxwU=\">When was the Palau de les Arts Reina Sofía built?</a>\n",
              "    <a class=\"chip\" href=\"https://vertexaisearch.cloud.google.com/grounding-api-redirect/AWQVqAI7-0XcFFOUZe8gFJZuwZFz3RGN0wBqyVg0FcQ8pghUEdLymxwFQ6B5-1oQzyJVEcj4A6kr3uSdefp1oniTiZlCdi2-bCYAjVziDYRwKjNNFNH06BPTJD14WjcoSuOtghqwSEhYPlHugFi140ezmiW_RMF9JEZhYnqVXAtTJfw6N1b4TpyDhbOnxCtaKRiMyDhnqd6fmgLCzBo8hhYXF6XK84csVx9nwvQTDGFffM9rS1y6bl_H\">History of Palau de les Arts Reina Sofía Valencia</a>\n",
              "    <a class=\"chip\" href=\"https://vertexaisearch.cloud.google.com/grounding-api-redirect/AWQVqAIa5OnANPnFR7s1VyoXejtOucdiBqlaZXRCde6icFyk9gewBAyga96xrZK3wYoZTApZQrB27RpWyLI-R5XYSHj5NgUzlhokc-F7vbhOoxON0B2TNwHeao_R3mqjcXkJiP46fwSvUNtxbqZzRBwRxd3yQAV8mlObH0BedbfN7sTeX3L06MITEfNZ0daT74JiP-1Lce5cRuKw2rBvZ97AMPS3ZACL8EdsBEhDEbbU4_mIvE7nUWErtNM=\">Palau de les Arts Reina Sofía construction problems</a>\n",
              "    <a class=\"chip\" href=\"https://vertexaisearch.cloud.google.com/grounding-api-redirect/AWQVqAL546tI7F483qSQU-8FkHDtpU0X7QHZ2hH4ea9MCg9NW9yTuBGoGLSAjuFI69fcet4s69EHptx4ptzDmBjNf-eiRbWVwNn_qkEUwCFskeMcBqk4Vvqifu84WZtC5wQJESUSZK2-fJjLkcmC5BIE-i7ahWMTeRhK8O3AWXJrzt9lKDVl1ThmT7zOC8BB75RDg8RXmnQ8YqBVqXTJtlF7QdaZ47ayE0_SAgxiCO-hWA==\">Palau de les Arts Reina Sofía opening date</a>\n",
              "    <a class=\"chip\" href=\"https://vertexaisearch.cloud.google.com/grounding-api-redirect/AWQVqAJIAlIvtttAcll0ArkPCxCfLuyJEwoEsq0P50VU4VA_BVqwpclFuBxshHeHFiRdztNn_q-4HVDbxcAx6sIr5XdZQv_LIWvn-TFFMekv9XBnBV9MR0njLTnMohnMCXyzmrTw0igElOsb3egqpAJqJBm-x-qG5l1fcDbORVhopOp5q_587T0q07X1kK2XN5PqYPP-DcTyFhg-4y0kSVRdJ2v1eY3HxR5MuM-12w==\">Palau de les Arts Reina Sofía architect</a>\n",
              "  </div>\n",
              "</div>\n"
            ]
          },
          "metadata": {}
        },
        {
          "output_type": "stream",
          "name": "stdout",
          "text": [
            "\n",
            "📝 You can now ask follow-up questions about the image!\n",
            "Example follow-up questions:\n",
            "- 'How does it compare to similar examples?'\n",
            "- 'What are common misconceptions about it?'\n",
            "- 'When was the last major renovation or change?'\n",
            "Enter a follow-up question (or press Enter to skip): isnt this an image about a cat?\n",
            "\n",
            "🔍 Searching for answer to: 'isnt this an image about a cat?'\n"
          ]
        },
        {
          "output_type": "display_data",
          "data": {
            "text/plain": [
              "<IPython.core.display.Markdown object>"
            ],
            "text/markdown": "You are correct to question my previous response if you were expecting an image of a cat!\n\nMy apologies, but the image you provided in the first prompt is definitely **not** of a cat.\n\nThe image clearly shows the **Palau de les Arts Reina Sofía**, the opera house in Valencia, Spain, as described in the detailed information. It's a large, modern white building with distinctive curved architecture, reflected in water.\n\nPerhaps there was a mix-up with the image upload, or maybe you intended to ask about a different image? The image provided shows the building I identified."
          },
          "metadata": {}
        }
      ]
    },
    {
      "cell_type": "markdown",
      "source": [
        "# Practical Applications\n",
        "\n",
        "## 8. Practical Applications of Search-Enabled AI"
      ],
      "metadata": {
        "id": "oim702B-y_SG"
      }
    },
    {
      "cell_type": "code",
      "source": [
        "print(\"\\n--- 8. Practical Applications Workshop ---\")\n",
        "print(\"# Let's explore practical real-world applications of search-enabled AI\")\n",
        "\n",
        "# Create a chat for practical applications\n",
        "practical_chat = client.chats.create(model=MODEL, config={'tools': [search_tool]})\n",
        "\n",
        "application_scenarios = [\n",
        "    \"Research Assistant: Gemini can help gather information, summarize findings, and cite sources for academic papers.\",\n",
        "    \"Market Analysis: Search for latest trends, competitors, and customer sentiment for business strategy.\",\n",
        "    \"Travel Planning: Get up-to-date information on destinations, travel requirements, and local recommendations.\",\n",
        "    \"Health Information: Find recent medical research and health guidelines (with appropriate disclaimers).\",\n",
        "    \"Educational Tool: Create learning materials with current facts, figures, and examples.\"\n",
        "]\n",
        "\n",
        "for i, scenario in enumerate(application_scenarios):\n",
        "    print(f\"\\n{i+1}. {scenario}\")\n",
        "\n",
        "# Example of market analysis application\n",
        "q8 = \"Analyze the current state of the electric vehicle market in Europe. Include major players, market share, and growth trends.\"\n",
        "print(\"\\n📝 Market Analysis Example Query: '{}'\".format(q8))\n",
        "market_response = practical_chat.send_message(q8)\n",
        "show_parts(market_response)"
      ],
      "metadata": {
        "colab": {
          "base_uri": "https://localhost:8080/",
          "height": 1000
        },
        "id": "cnddSVe9y-yv",
        "outputId": "07761ac8-20c8-4d84-ca4a-d42d29687beb"
      },
      "execution_count": 24,
      "outputs": [
        {
          "output_type": "stream",
          "name": "stdout",
          "text": [
            "\n",
            "--- 8. Practical Applications Workshop ---\n",
            "# Let's explore practical real-world applications of search-enabled AI\n",
            "\n",
            "1. Research Assistant: Gemini can help gather information, summarize findings, and cite sources for academic papers.\n",
            "\n",
            "2. Market Analysis: Search for latest trends, competitors, and customer sentiment for business strategy.\n",
            "\n",
            "3. Travel Planning: Get up-to-date information on destinations, travel requirements, and local recommendations.\n",
            "\n",
            "4. Health Information: Find recent medical research and health guidelines (with appropriate disclaimers).\n",
            "\n",
            "5. Educational Tool: Create learning materials with current facts, figures, and examples.\n",
            "\n",
            "📝 Market Analysis Example Query: 'Analyze the current state of the electric vehicle market in Europe. Include major players, market share, and growth trends.'\n"
          ]
        },
        {
          "output_type": "display_data",
          "data": {
            "text/plain": [
              "<IPython.core.display.Markdown object>"
            ],
            "text/markdown": "Okay, here's an analysis of the current state of the electric vehicle (EV) market in Europe, covering major players, market share, and growth trends.\n\n"
          },
          "metadata": {}
        },
        {
          "output_type": "display_data",
          "data": {
            "text/plain": [
              "<IPython.core.display.Markdown object>"
            ],
            "text/markdown": "Here's an analysis of the current state of the EV market in Europe:\n\n**Overall Market**\n\n*   **Growth:** The European EV market continues to grow, although the pace has fluctuated. In 2023, new electric car registrations reached nearly 3.2 million, an increase of almost 20% compared to 2022. The first quarter of 2024 saw a year-on-year growth of over 5%. However, in October 2024, the market experienced a more modest 2% year-over-year increase in plug-in vehicle registrations.\n*   **Projections:** Sales are projected to reach around 3.5 million units in 2024, representing modest growth of less than 10% compared to 2023.\n*   **Market Share:** Battery electric vehicles (BEVs) accounted for 15% of the EU market share in January 2025, up from 10.9% in January 2024. In February 2025, BEVs accounted for 15.2% of the total EU market share.\n*   **Vehicle Types:** BEVs are driving market growth, while plug-in hybrid (PHEV) sales have shown signs of decline in some periods.\n*   **Impact of Subsidies:** Changes in EV subsidies have impacted sales in some countries. For example, the end of subsidies in Germany led to a decrease in the electric car sales share from 30% in 2022 to 25% in 2023.\n*   **Used EV Market:** The market for used electric vehicles is growing, making EVs more accessible.\n\n**Key Players and Brands**\n\n*   **Top Performers:** In October 2024, the Skoda Enyaq was the top-selling EV, followed by the Tesla Model Y and Volkswagen ID.4.\n*   **Volkswagen Group:** Volkswagen Group has demonstrated a strong ability to capture market share across segments.\n*   **Manufacturer Pools:** In January 2025, the KG Mobility manufacturer pool had the highest BEV share, followed by Mercedes-Benz and BMW.\n\n**Country-Specific Trends**\n\n*   **Leading Markets:** Norway continues to lead in EV adoption, with approximately 95% of all cars sold being electric. Other leading markets include Sweden and the Netherlands.\n*   **Growth Variations:** Performance varies across member states. In September 2024, the UK saw strong BEV sales, while Germany's EV market showed resilience despite challenges.\n*   **Specific Examples:**\n    *   Germany: EV market shows resilience, supported by local manufacturing and charging infrastructure.\n    *   UK: Strong company car incentives and consumer demand boost EV sales.\n    *   France: BEV adoption is strengthening, supported by policy measures and social leasing schemes.\n    *   Spain: Accelerating BEV growth.\n*   **Regional Shares (January 2025):** Norway (97%), Denmark (66%), Sweden (51%), and the Netherlands (50%) all had combined BEV and PHEV shares at or above 50%.\n\n**Factors Influencing the Market**\n\n*   **Government Regulations and Incentives:** Government policies, subsidies, and emission targets play a significant role in driving EV adoption.\n*   **Charging Infrastructure:** The expansion of charging infrastructure is crucial for supporting EV growth. It seems that most European countries already met their public charging infrastructure targets for 2024.\n*   **Consumer Acceptance:** Increasing consumer awareness and acceptance of EVs are driving volume growth.\n*   **Technological Advancements:** Improvements in battery technology, range, and charging speeds are making EVs more attractive to consumers.\n\n**Growth Trends**\n\n*   **Overall Increase:** Despite some fluctuations, the long-term trend indicates continued growth in the European EV market.\n*   **BEV Dominance:** BEVs are expected to continue to dominate the market.\n*   **Light Commercial Vehicles:** Electric light commercial vehicles (LCVs) are experiencing considerable growth.\n*   **Charging Infrastructure Expansion:** The number of publicly available EV chargers is increasing.\n\n**Predictions**\n\n*   **Sales Forecast for Western Europe:** EV sales in Western Europe, including the UK, are expected to rise 40% to 2.7 million vehicles in 2025.\n*   **BEV Market Share:** The share of battery-electric vehicles (BEVs) is expected to reach 22% of the total market in Western Europe in 2025.\n*   **Germany's EV Market:** Approximately 873,000 electric cars are expected to be newly registered in Germany in 2025, marking a 53% increase compared to 2024.\n\nIn summary, the European EV market is dynamic and evolving, with continued growth expected. BEVs are leading the charge, and government policies, infrastructure development, and consumer acceptance are key drivers.\n"
          },
          "metadata": {}
        },
        {
          "output_type": "stream",
          "name": "stdout",
          "text": [
            "\n",
            "📊 Search Results Used:\n"
          ]
        },
        {
          "output_type": "display_data",
          "data": {
            "text/plain": [
              "<IPython.core.display.HTML object>"
            ],
            "text/html": [
              "<style>\n",
              ".container {\n",
              "  align-items: center;\n",
              "  border-radius: 8px;\n",
              "  display: flex;\n",
              "  font-family: Google Sans, Roboto, sans-serif;\n",
              "  font-size: 14px;\n",
              "  line-height: 20px;\n",
              "  padding: 8px 12px;\n",
              "}\n",
              ".chip {\n",
              "  display: inline-block;\n",
              "  border: solid 1px;\n",
              "  border-radius: 16px;\n",
              "  min-width: 14px;\n",
              "  padding: 5px 16px;\n",
              "  text-align: center;\n",
              "  user-select: none;\n",
              "  margin: 0 8px;\n",
              "  -webkit-tap-highlight-color: transparent;\n",
              "}\n",
              ".carousel {\n",
              "  overflow: auto;\n",
              "  scrollbar-width: none;\n",
              "  white-space: nowrap;\n",
              "  margin-right: -12px;\n",
              "}\n",
              ".headline {\n",
              "  display: flex;\n",
              "  margin-right: 4px;\n",
              "}\n",
              ".gradient-container {\n",
              "  position: relative;\n",
              "}\n",
              ".gradient {\n",
              "  position: absolute;\n",
              "  transform: translate(3px, -9px);\n",
              "  height: 36px;\n",
              "  width: 9px;\n",
              "}\n",
              "@media (prefers-color-scheme: light) {\n",
              "  .container {\n",
              "    background-color: #fafafa;\n",
              "    box-shadow: 0 0 0 1px #0000000f;\n",
              "  }\n",
              "  .headline-label {\n",
              "    color: #1f1f1f;\n",
              "  }\n",
              "  .chip {\n",
              "    background-color: #ffffff;\n",
              "    border-color: #d2d2d2;\n",
              "    color: #5e5e5e;\n",
              "    text-decoration: none;\n",
              "  }\n",
              "  .chip:hover {\n",
              "    background-color: #f2f2f2;\n",
              "  }\n",
              "  .chip:focus {\n",
              "    background-color: #f2f2f2;\n",
              "  }\n",
              "  .chip:active {\n",
              "    background-color: #d8d8d8;\n",
              "    border-color: #b6b6b6;\n",
              "  }\n",
              "  .logo-dark {\n",
              "    display: none;\n",
              "  }\n",
              "  .gradient {\n",
              "    background: linear-gradient(90deg, #fafafa 15%, #fafafa00 100%);\n",
              "  }\n",
              "}\n",
              "@media (prefers-color-scheme: dark) {\n",
              "  .container {\n",
              "    background-color: #1f1f1f;\n",
              "    box-shadow: 0 0 0 1px #ffffff26;\n",
              "  }\n",
              "  .headline-label {\n",
              "    color: #fff;\n",
              "  }\n",
              "  .chip {\n",
              "    background-color: #2c2c2c;\n",
              "    border-color: #3c4043;\n",
              "    color: #fff;\n",
              "    text-decoration: none;\n",
              "  }\n",
              "  .chip:hover {\n",
              "    background-color: #353536;\n",
              "  }\n",
              "  .chip:focus {\n",
              "    background-color: #353536;\n",
              "  }\n",
              "  .chip:active {\n",
              "    background-color: #464849;\n",
              "    border-color: #53575b;\n",
              "  }\n",
              "  .logo-light {\n",
              "    display: none;\n",
              "  }\n",
              "  .gradient {\n",
              "    background: linear-gradient(90deg, #1f1f1f 15%, #1f1f1f00 100%);\n",
              "  }\n",
              "}\n",
              "</style>\n",
              "<div class=\"container\">\n",
              "  <div class=\"headline\">\n",
              "    <svg class=\"logo-light\" width=\"18\" height=\"18\" viewBox=\"9 9 35 35\" fill=\"none\" xmlns=\"http://www.w3.org/2000/svg\">\n",
              "      <path fill-rule=\"evenodd\" clip-rule=\"evenodd\" d=\"M42.8622 27.0064C42.8622 25.7839 42.7525 24.6084 42.5487 23.4799H26.3109V30.1568H35.5897C35.1821 32.3041 33.9596 34.1222 32.1258 35.3448V39.6864H37.7213C40.9814 36.677 42.8622 32.2571 42.8622 27.0064V27.0064Z\" fill=\"#4285F4\"/>\n",
              "      <path fill-rule=\"evenodd\" clip-rule=\"evenodd\" d=\"M26.3109 43.8555C30.9659 43.8555 34.8687 42.3195 37.7213 39.6863L32.1258 35.3447C30.5898 36.3792 28.6306 37.0061 26.3109 37.0061C21.8282 37.0061 18.0195 33.9811 16.6559 29.906H10.9194V34.3573C13.7563 39.9841 19.5712 43.8555 26.3109 43.8555V43.8555Z\" fill=\"#34A853\"/>\n",
              "      <path fill-rule=\"evenodd\" clip-rule=\"evenodd\" d=\"M16.6559 29.8904C16.3111 28.8559 16.1074 27.7588 16.1074 26.6146C16.1074 25.4704 16.3111 24.3733 16.6559 23.3388V18.8875H10.9194C9.74388 21.2072 9.06992 23.8247 9.06992 26.6146C9.06992 29.4045 9.74388 32.022 10.9194 34.3417L15.3864 30.8621L16.6559 29.8904V29.8904Z\" fill=\"#FBBC05\"/>\n",
              "      <path fill-rule=\"evenodd\" clip-rule=\"evenodd\" d=\"M26.3109 16.2386C28.85 16.2386 31.107 17.1164 32.9095 18.8091L37.8466 13.8719C34.853 11.082 30.9659 9.3736 26.3109 9.3736C19.5712 9.3736 13.7563 13.245 10.9194 18.8875L16.6559 23.3388C18.0195 19.2636 21.8282 16.2386 26.3109 16.2386V16.2386Z\" fill=\"#EA4335\"/>\n",
              "    </svg>\n",
              "    <svg class=\"logo-dark\" width=\"18\" height=\"18\" viewBox=\"0 0 48 48\" xmlns=\"http://www.w3.org/2000/svg\">\n",
              "      <circle cx=\"24\" cy=\"23\" fill=\"#FFF\" r=\"22\"/>\n",
              "      <path d=\"M33.76 34.26c2.75-2.56 4.49-6.37 4.49-11.26 0-.89-.08-1.84-.29-3H24.01v5.99h8.03c-.4 2.02-1.5 3.56-3.07 4.56v.75l3.91 2.97h.88z\" fill=\"#4285F4\"/>\n",
              "      <path d=\"M15.58 25.77A8.845 8.845 0 0 0 24 31.86c1.92 0 3.62-.46 4.97-1.31l4.79 3.71C31.14 36.7 27.65 38 24 38c-5.93 0-11.01-3.4-13.45-8.36l.17-1.01 4.06-2.85h.8z\" fill=\"#34A853\"/>\n",
              "      <path d=\"M15.59 20.21a8.864 8.864 0 0 0 0 5.58l-5.03 3.86c-.98-2-1.53-4.25-1.53-6.64 0-2.39.55-4.64 1.53-6.64l1-.22 3.81 2.98.22 1.08z\" fill=\"#FBBC05\"/>\n",
              "      <path d=\"M24 14.14c2.11 0 4.02.75 5.52 1.98l4.36-4.36C31.22 9.43 27.81 8 24 8c-5.93 0-11.01 3.4-13.45 8.36l5.03 3.85A8.86 8.86 0 0 1 24 14.14z\" fill=\"#EA4335\"/>\n",
              "    </svg>\n",
              "    <div class=\"gradient-container\"><div class=\"gradient\"></div></div>\n",
              "  </div>\n",
              "  <div class=\"carousel\">\n",
              "    <a class=\"chip\" href=\"https://vertexaisearch.cloud.google.com/grounding-api-redirect/AWQVqAJtjiA1NU8Y303ygHLckRIb5DVKwbgR1sRVfYuzV_0aAn0EqS6mOr5Rurnp18fH_wd3RHEHPcPtlDM3gD_G8S3Zvdzj70N_2zgfo14xx6dFfudCpkvm_eSnm5btkO9cbcNu_iiY_Hxbl0HM7ZXs0ihPxaY4McQdxIclaRxnEZPHGDm5hmg7EHlelOIljqK3DgDXWiB8cYTWdSQA\">EV growth trends Europe</a>\n",
              "    <a class=\"chip\" href=\"https://vertexaisearch.cloud.google.com/grounding-api-redirect/AWQVqAIKGGXm1Z1MUqZ2J5GSNuMQfwB6iI6kRrlFzETsUhM4Ce5NTmjTB-F_hfR-ql7UG8e6Rq2Q7CtpEhGpeWyGJaY5-bJWr5VKM13lN3LzTM5FJ_fgurTByuB6Ch56RcJ9oRyjWOTVQ2WXuAUqMD6rE0zWrW9cKGUzFOF5iVeQpec7k5kHdgl6UyYv1M9SC8TI5ehZlKsFrCyMI2gCy6lpeVcaDnSRyJjTiwL6yo4ecA2p9iYv\">electric vehicle market in Europe current state</a>\n",
              "    <a class=\"chip\" href=\"https://vertexaisearch.cloud.google.com/grounding-api-redirect/AWQVqAK3jc0JO4zDdYRSza32VjGRFQjP05iz-VfHz3UMriaMGiViUzhReztN6e5tkzJ_Obnwpy7EpL6OjJ2HTIJyuZLOQ8SQT2BdLwB-dla2Lzn_MlQjKMdXgmq03vabvLNic66ckitCQ_WeozgivJqdjOhfscUE_YLxvJb4ucIUijr8Z2yE6JJ4SaQM9PiRBiOMA8JhXPATVqoC7-gKVwlm4gWiVs829enW6t7CX-YcOKbm4qQ=\">Europe electric vehicle market share 2024-2025</a>\n",
              "  </div>\n",
              "</div>\n"
            ]
          },
          "metadata": {}
        }
      ]
    },
    {
      "cell_type": "markdown",
      "source": [
        "# Advanced Search Applications & Complicated Workflow\n"
      ],
      "metadata": {
        "id": "TKVAWkNA17Iz"
      }
    },
    {
      "cell_type": "code",
      "source": [
        "# @title ## 9a. Multi-stage Research Workflow with Progressive Refinement\n",
        "# This advanced workflow demonstrates a structured research process that builds insights progressively\n",
        "\n",
        "print(\"\\n--- 9a. Multi-stage Research Workflow ---\")\n",
        "print(\"# This workflow demonstrates how to conduct in-depth research through multiple progressive stages\")\n",
        "\n",
        "def multi_stage_research(research_topic):\n",
        "    \"\"\"\n",
        "    Conduct a multi-stage research process with progressive refinement\n",
        "\n",
        "    Args:\n",
        "        research_topic (str): The main research topic or question\n",
        "\n",
        "    Returns:\n",
        "        List of responses from each stage\n",
        "    \"\"\"\n",
        "    # Create a new chat with search\n",
        "    research_chat = client.chats.create(model=MODEL, config={'tools': [search_tool]})\n",
        "\n",
        "    # Store responses for visualization\n",
        "    responses = []\n",
        "\n",
        "    # Stage 1: Initial broad exploration\n",
        "    print(f\"\\n📊 Stage 1: Initial exploration of '{research_topic}'\")\n",
        "    stage1_prompt = f\"\"\"\n",
        "    I'm conducting research on '{research_topic}'.\n",
        "    First, provide a broad overview of this topic covering:\n",
        "    1. Main concepts and terminology\n",
        "    2. Current state of development\n",
        "    3. Key players or contributors\n",
        "    4. Recent major developments\n",
        "\n",
        "    After providing this overview, identify 3-5 specific subtopics that would be most\n",
        "    interesting for further in-depth exploration.\n",
        "    \"\"\"\n",
        "\n",
        "    stage1_response = research_chat.send_message(stage1_prompt)\n",
        "    show_parts(stage1_response)\n",
        "    responses.append(stage1_response)\n",
        "    time.sleep(2)\n",
        "\n",
        "    # Stage 2: Extract subtopics for deeper investigation\n",
        "    print(f\"\\n📊 Stage 2: Identifying key subtopics for deeper investigation\")\n",
        "    stage2_prompt = \"\"\"\n",
        "    Based on your previous response, extract exactly 3 subtopics that would be most valuable\n",
        "    to explore further. For each subtopic:\n",
        "    1. Clearly name the subtopic\n",
        "    2. Explain why it's particularly significant\n",
        "    3. Identify specific aspects that need deeper research\n",
        "\n",
        "    Present these in a clear, structured format.\n",
        "    \"\"\"\n",
        "\n",
        "    stage2_response = research_chat.send_message(stage2_prompt)\n",
        "    show_parts(stage2_response)\n",
        "    responses.append(stage2_response)\n",
        "    time.sleep(2)\n",
        "\n",
        "    # Stage 3: Deep dive into first subtopic\n",
        "    print(f\"\\n📊 Stage 3: Deep dive into first subtopic\")\n",
        "    stage3_prompt = \"\"\"\n",
        "    Let's focus on the first subtopic you identified. Please conduct a comprehensive\n",
        "    deep dive into this specific area. Your analysis should include:\n",
        "\n",
        "    1. Latest research findings or developments\n",
        "    2. Key challenges or controversies\n",
        "    3. Notable innovations or breakthroughs\n",
        "    4. Future directions and potential impacts\n",
        "    5. Leading experts, organizations, or companies\n",
        "\n",
        "    Support your analysis with specific examples, data points, and citations\n",
        "    from your search results.\n",
        "    \"\"\"\n",
        "\n",
        "    stage3_response = research_chat.send_message(stage3_prompt)\n",
        "    show_parts(stage3_response)\n",
        "    responses.append(stage3_response)\n",
        "    time.sleep(2)\n",
        "\n",
        "    # Stage 4: Synthesis and insights\n",
        "    print(f\"\\n📊 Stage 4: Synthesizing insights and recommendations\")\n",
        "    stage4_prompt = \"\"\"\n",
        "    Based on all the research we've conducted so far, please:\n",
        "\n",
        "    1. Synthesize the key findings into 3-5 major insights\n",
        "    2. Identify emerging trends or patterns across the research\n",
        "    3. Note any gaps or contradictions in the current knowledge\n",
        "    4. Provide recommendations for practical applications of this knowledge\n",
        "    5. Suggest directions for future research\n",
        "\n",
        "    Structure this as an executive brief that could inform strategic decision-making.\n",
        "    \"\"\"\n",
        "\n",
        "    stage4_response = research_chat.send_message(stage4_prompt)\n",
        "    show_parts(stage4_response)\n",
        "    responses.append(stage4_response)\n",
        "\n",
        "    # Visualize search usage across the research stages\n",
        "    print(\"\\n📊 Research Stage Search Utilization:\")\n",
        "    visualize_search_usage(responses)\n",
        "\n",
        "    return responses\n",
        "\n",
        "# Run the multi-stage research on a complex topic\n",
        "research_topic = \"Quantum machine learning for drug discovery\"\n",
        "research_results = multi_stage_research(research_topic)\n",
        "\n",
        "print(\"\\n# This advanced workflow demonstrates how to break down complex research questions\")\n",
        "print(\"# into a structured process that builds deeper insights at each stage.\")\n",
        "print(\"# Note how the search tool is used differently at each stage of the research process.\")"
      ],
      "metadata": {
        "id": "z3HgbQ00Qr4A",
        "outputId": "c1e83695-1e1a-44af-ce2e-a9dafd248a0e",
        "colab": {
          "base_uri": "https://localhost:8080/",
          "height": 1000
        }
      },
      "execution_count": 25,
      "outputs": [
        {
          "output_type": "stream",
          "name": "stdout",
          "text": [
            "\n",
            "--- 9a. Multi-stage Research Workflow ---\n",
            "# This workflow demonstrates how to conduct in-depth research through multiple progressive stages\n",
            "\n",
            "📊 Stage 1: Initial exploration of 'Quantum machine learning for drug discovery'\n"
          ]
        },
        {
          "output_type": "display_data",
          "data": {
            "text/plain": [
              "<IPython.core.display.Markdown object>"
            ],
            "text/markdown": "Okay, I can provide you with an overview of Quantum Machine Learning for Drug Discovery and then suggest some subtopics for further exploration.\n\n"
          },
          "metadata": {}
        },
        {
          "output_type": "display_data",
          "data": {
            "text/plain": [
              "<IPython.core.display.Markdown object>"
            ],
            "text/markdown": "Here's an overview of Quantum Machine Learning for Drug Discovery:\n\n**1. Main Concepts and Terminology:**\n\n*   **Quantum Computing (QC):** Utilizes the principles of quantum mechanics, such as superposition and entanglement, to perform computations that are impossible or impractical for classical computers. [1, 5, 6, 11, 12]\n*   **Qubit:** The basic unit of information in a quantum computer, analogous to a bit in a classical computer. Qubits can exist in a state of superposition, representing 0, 1, or both simultaneously. [1, 11]\n*   **Quantum Machine Learning (QML):** A field that combines quantum computing and machine learning to develop new algorithms and improve existing ones. QML leverages quantum phenomena to enhance the speed, efficiency, and accuracy of machine learning tasks. [1, 3, 6, 11]\n*   **Variational Quantum Algorithms (VQAs):** A type of QML algorithm where the parameters of a quantum circuit are updated through classical optimization methods. [2, 6]\n*   **Hybrid Quantum-Classical Approaches:** Algorithms that combine quantum and classical computing resources to solve problems, leveraging the strengths of both. [5, 7, 14]\n*   **Molecular Docking:** A computational technique used to predict the binding affinity and interactions between a drug molecule and its target protein. Quantum molecular docking uses quantum mechanics to improve the accuracy of these predictions. [13]\n*   **Virtual Screening:** A computational technique used to screen large libraries of chemical compounds to identify potential drug candidates. QML can accelerate and improve the accuracy of virtual screening. [1, 2, 13]\n*   **Molecular Simulation:** Using computational methods to simulate the behavior of molecules and their interactions. Quantum computing can enable more accurate and efficient molecular simulations. [1, 8, 12]\n*   **Molecular Property Prediction:** Using machine learning to predict the properties of molecules, such as their activity, toxicity, and stability. QML can improve the accuracy and speed of molecular property prediction. [4, 5, 7]\n*   **Molecular Generation:** Using machine learning to generate new molecules with desired properties. QML can be used to design novel drug candidates with improved efficacy and safety. [5, 7, 14]\n*   **Cheminformatics:** The application of computational and informatics techniques to solve problems in chemistry, particularly in drug discovery. [2]\n*   **Fingerprint Descriptors:** Numerical representations of molecular structures used in cheminformatics and machine learning. [2]\n\n**2. Current State of Development:**\n\n*   **Early Stage:** QML for drug discovery is still in its early stages of development, but it has shown promising results in various applications. [2]\n*   **Focus on Initial Stages:** The majority of QML applications in drug discovery are focused on the initial stages of the drug discovery pipeline, such as target identification and virtual screening. [6]\n*   **Hardware Limitations:** Current quantum computers have limited qubit numbers and are prone to errors, which limits the size and complexity of the problems that can be solved. [1, 6]\n*   **Hybrid Approaches:** Hybrid quantum-classical algorithms are currently the most practical approach, leveraging the strengths of both quantum and classical computing resources. [5, 6, 14]\n*   **Algorithm Development:** Researchers are actively developing new QML algorithms and adapting existing classical algorithms for quantum computers. [2, 6]\n*   **GPU Acceleration:** GPU-accelerated simulation of quantum algorithms is a key tool for exploring QML methods and enhancing drug discovery. [3, 4]\n*   **Integration with AI/ML:** The integration of quantum computing with AI and ML is a growing trend, enhancing the capabilities of quantum algorithms and accelerating the drug development process. [3, 10]\n*   **Personalized Medicine:** The trend toward personalized medicine is driving the adoption of quantum computing in drug discovery, helping to develop tailored treatments. [10]\n*   **Increasing Research:** There is a significant increase in research focused on quantum computing applications in drug discovery, with academic institutions and research organizations investing in exploring new quantum algorithms and techniques. [10]\n\n**3. Key Players or Contributors:**\n\n*   **Pharmaceutical Companies:** Moderna. [4]\n*   **Technology Companies:** IBM, Google, Microsoft, D-Wave Systems, Rigetti Computing, Xanadu Quantum Technologies, Fujitsu, Intel, Atos, NVIDIA, Accenture, 1QBit. [8, 9, 10]\n*   **Startups:** Qubit Pharmaceuticals, Aqemia. [8, 9]\n*   **Academic Institutions:** Yale, Oxford, Cambridge, ENS/CNRS (France), North Carolina State University. [4, 9, 16]\n\n**4. Recent Major Developments:**\n\n*   **Hybrid Quantum-Classical Models:** Development of hybrid quantum-classical models for drug design, demonstrating the potential of combining quantum and classical computational tools. [14]\n*   **KRAS Protein Targeting:** Successful design of small molecules targeting the KRAS protein, a key player in cancer biology, using a hybrid quantum-classical model. [14]\n*   **Quantum Neural Networks:** Research on how future quantum neural networks can use quantum computing to enhance existing AI techniques and streamline complex tasks in drug discovery. [4, 5, 7]\n*   **CUDA-Q Platform:** NVIDIA's CUDA-Q quantum development platform provides a unique tool for running multi-GPU accelerated simulations of QML workloads. [4]\n*   **Federated Quantum Machine Learning:** Exploration of Federated Learning (FL) and Quantum Federated Learning (QFL) in facilitating collaborative research while preserving data privacy. [16]\n*   **Molecular Property Prediction:** Advancements in QML algorithms for predicting molecular properties and optimizing drug candidates. [4, 5, 7]\n*   **Quantum Simulations:** Increasing use of quantum simulations to model complex molecular structures and chemical reactions, providing detailed insights that are not possible with classical computing. [10, 12]\n*   **Improved Accuracy and Efficiency:** Quantum computing enables faster data generation, which feeds into machine learning models for drug discovery, improving simulation accuracy and efficiency. [8]\n*   **Drug Candidate Identification:** Using quantum systems to identify the most promising drug candidates by calculating properties such as molecular stability, binding affinity, and toxicity more efficiently than classical methods. [8]\n\n**Subtopics for Further In-Depth Exploration:**\n\nBased on the overview, here are some specific subtopics that would be interesting for further exploration:\n\n1.  **Quantum Algorithms for Specific Drug Discovery Tasks:** Delve into specific quantum algorithms being developed or adapted for tasks like virtual screening, molecular docking, or ADMET (absorption, distribution, metabolism, excretion, and toxicity) prediction. This could include a comparison of different algorithms and their performance on relevant datasets.\n2.  **Hardware Requirements and Error Correction:** A deeper dive into the specific hardware requirements for QML in drug discovery, including the number of qubits, qubit coherence times, and gate fidelities. Also, explore the current state of quantum error correction and its impact on the feasibility of QML for drug discovery. [1]\n3.  **Hybrid Quantum-Classical Algorithms:** Investigate specific examples of hybrid quantum-classical algorithms used in drug discovery, analyzing how they combine the strengths of both quantum and classical computing. This could include a focus on variational quantum algorithms (VQAs) and their applications. [5, 6, 14]\n4.  **Data Encoding Strategies for Quantum Machine Learning:** Explore different methods for encoding classical molecular data into quantum states, analyzing their impact on the performance of QML algorithms. This is a critical aspect of QML, as the choice of encoding can significantly affect the algorithm's ability to learn and generalize. [5, 7]\n5.  **Near-Term Applications and Benchmarking:** Focus on near-term applications of QML in drug discovery that can be implemented on existing or near-future quantum hardware. This could involve benchmarking QML algorithms against classical methods on relevant drug discovery datasets to assess their potential for quantum advantage. [2]\n"
          },
          "metadata": {}
        },
        {
          "output_type": "stream",
          "name": "stdout",
          "text": [
            "\n",
            "📊 Search Results Used:\n"
          ]
        },
        {
          "output_type": "display_data",
          "data": {
            "text/plain": [
              "<IPython.core.display.HTML object>"
            ],
            "text/html": [
              "<style>\n",
              ".container {\n",
              "  align-items: center;\n",
              "  border-radius: 8px;\n",
              "  display: flex;\n",
              "  font-family: Google Sans, Roboto, sans-serif;\n",
              "  font-size: 14px;\n",
              "  line-height: 20px;\n",
              "  padding: 8px 12px;\n",
              "}\n",
              ".chip {\n",
              "  display: inline-block;\n",
              "  border: solid 1px;\n",
              "  border-radius: 16px;\n",
              "  min-width: 14px;\n",
              "  padding: 5px 16px;\n",
              "  text-align: center;\n",
              "  user-select: none;\n",
              "  margin: 0 8px;\n",
              "  -webkit-tap-highlight-color: transparent;\n",
              "}\n",
              ".carousel {\n",
              "  overflow: auto;\n",
              "  scrollbar-width: none;\n",
              "  white-space: nowrap;\n",
              "  margin-right: -12px;\n",
              "}\n",
              ".headline {\n",
              "  display: flex;\n",
              "  margin-right: 4px;\n",
              "}\n",
              ".gradient-container {\n",
              "  position: relative;\n",
              "}\n",
              ".gradient {\n",
              "  position: absolute;\n",
              "  transform: translate(3px, -9px);\n",
              "  height: 36px;\n",
              "  width: 9px;\n",
              "}\n",
              "@media (prefers-color-scheme: light) {\n",
              "  .container {\n",
              "    background-color: #fafafa;\n",
              "    box-shadow: 0 0 0 1px #0000000f;\n",
              "  }\n",
              "  .headline-label {\n",
              "    color: #1f1f1f;\n",
              "  }\n",
              "  .chip {\n",
              "    background-color: #ffffff;\n",
              "    border-color: #d2d2d2;\n",
              "    color: #5e5e5e;\n",
              "    text-decoration: none;\n",
              "  }\n",
              "  .chip:hover {\n",
              "    background-color: #f2f2f2;\n",
              "  }\n",
              "  .chip:focus {\n",
              "    background-color: #f2f2f2;\n",
              "  }\n",
              "  .chip:active {\n",
              "    background-color: #d8d8d8;\n",
              "    border-color: #b6b6b6;\n",
              "  }\n",
              "  .logo-dark {\n",
              "    display: none;\n",
              "  }\n",
              "  .gradient {\n",
              "    background: linear-gradient(90deg, #fafafa 15%, #fafafa00 100%);\n",
              "  }\n",
              "}\n",
              "@media (prefers-color-scheme: dark) {\n",
              "  .container {\n",
              "    background-color: #1f1f1f;\n",
              "    box-shadow: 0 0 0 1px #ffffff26;\n",
              "  }\n",
              "  .headline-label {\n",
              "    color: #fff;\n",
              "  }\n",
              "  .chip {\n",
              "    background-color: #2c2c2c;\n",
              "    border-color: #3c4043;\n",
              "    color: #fff;\n",
              "    text-decoration: none;\n",
              "  }\n",
              "  .chip:hover {\n",
              "    background-color: #353536;\n",
              "  }\n",
              "  .chip:focus {\n",
              "    background-color: #353536;\n",
              "  }\n",
              "  .chip:active {\n",
              "    background-color: #464849;\n",
              "    border-color: #53575b;\n",
              "  }\n",
              "  .logo-light {\n",
              "    display: none;\n",
              "  }\n",
              "  .gradient {\n",
              "    background: linear-gradient(90deg, #1f1f1f 15%, #1f1f1f00 100%);\n",
              "  }\n",
              "}\n",
              "</style>\n",
              "<div class=\"container\">\n",
              "  <div class=\"headline\">\n",
              "    <svg class=\"logo-light\" width=\"18\" height=\"18\" viewBox=\"9 9 35 35\" fill=\"none\" xmlns=\"http://www.w3.org/2000/svg\">\n",
              "      <path fill-rule=\"evenodd\" clip-rule=\"evenodd\" d=\"M42.8622 27.0064C42.8622 25.7839 42.7525 24.6084 42.5487 23.4799H26.3109V30.1568H35.5897C35.1821 32.3041 33.9596 34.1222 32.1258 35.3448V39.6864H37.7213C40.9814 36.677 42.8622 32.2571 42.8622 27.0064V27.0064Z\" fill=\"#4285F4\"/>\n",
              "      <path fill-rule=\"evenodd\" clip-rule=\"evenodd\" d=\"M26.3109 43.8555C30.9659 43.8555 34.8687 42.3195 37.7213 39.6863L32.1258 35.3447C30.5898 36.3792 28.6306 37.0061 26.3109 37.0061C21.8282 37.0061 18.0195 33.9811 16.6559 29.906H10.9194V34.3573C13.7563 39.9841 19.5712 43.8555 26.3109 43.8555V43.8555Z\" fill=\"#34A853\"/>\n",
              "      <path fill-rule=\"evenodd\" clip-rule=\"evenodd\" d=\"M16.6559 29.8904C16.3111 28.8559 16.1074 27.7588 16.1074 26.6146C16.1074 25.4704 16.3111 24.3733 16.6559 23.3388V18.8875H10.9194C9.74388 21.2072 9.06992 23.8247 9.06992 26.6146C9.06992 29.4045 9.74388 32.022 10.9194 34.3417L15.3864 30.8621L16.6559 29.8904V29.8904Z\" fill=\"#FBBC05\"/>\n",
              "      <path fill-rule=\"evenodd\" clip-rule=\"evenodd\" d=\"M26.3109 16.2386C28.85 16.2386 31.107 17.1164 32.9095 18.8091L37.8466 13.8719C34.853 11.082 30.9659 9.3736 26.3109 9.3736C19.5712 9.3736 13.7563 13.245 10.9194 18.8875L16.6559 23.3388C18.0195 19.2636 21.8282 16.2386 26.3109 16.2386V16.2386Z\" fill=\"#EA4335\"/>\n",
              "    </svg>\n",
              "    <svg class=\"logo-dark\" width=\"18\" height=\"18\" viewBox=\"0 0 48 48\" xmlns=\"http://www.w3.org/2000/svg\">\n",
              "      <circle cx=\"24\" cy=\"23\" fill=\"#FFF\" r=\"22\"/>\n",
              "      <path d=\"M33.76 34.26c2.75-2.56 4.49-6.37 4.49-11.26 0-.89-.08-1.84-.29-3H24.01v5.99h8.03c-.4 2.02-1.5 3.56-3.07 4.56v.75l3.91 2.97h.88z\" fill=\"#4285F4\"/>\n",
              "      <path d=\"M15.58 25.77A8.845 8.845 0 0 0 24 31.86c1.92 0 3.62-.46 4.97-1.31l4.79 3.71C31.14 36.7 27.65 38 24 38c-5.93 0-11.01-3.4-13.45-8.36l.17-1.01 4.06-2.85h.8z\" fill=\"#34A853\"/>\n",
              "      <path d=\"M15.59 20.21a8.864 8.864 0 0 0 0 5.58l-5.03 3.86c-.98-2-1.53-4.25-1.53-6.64 0-2.39.55-4.64 1.53-6.64l1-.22 3.81 2.98.22 1.08z\" fill=\"#FBBC05\"/>\n",
              "      <path d=\"M24 14.14c2.11 0 4.02.75 5.52 1.98l4.36-4.36C31.22 9.43 27.81 8 24 8c-5.93 0-11.01 3.4-13.45 8.36l5.03 3.85A8.86 8.86 0 0 1 24 14.14z\" fill=\"#EA4335\"/>\n",
              "    </svg>\n",
              "    <div class=\"gradient-container\"><div class=\"gradient\"></div></div>\n",
              "  </div>\n",
              "  <div class=\"carousel\">\n",
              "    <a class=\"chip\" href=\"https://vertexaisearch.cloud.google.com/grounding-api-redirect/AWQVqAIsMv0FzS1LtInJ6XUSsxUYQf9cTsfIcmzoth6ol9yNH_BRavk3gZHDvjCamgZwC9ClXCi7CzaFDx2txJM4lKUtywZmIHTcqH1bt-LmMZM9tL5C1eOMTSQ5tZco7fYqk1337VtimMjQW5OUzf3mVEt5TzMIq_FL1sTOQi2PmHjo8-1WJ7iVGZjMOQgQ3iirkOBcgSlN-rL5U0t1N9khSsWx7Aq4p8l5AVG5AAyaDZ_1zt2HIZKMr3sCqV7Cqq7Cxk9nivy_DcfxsqVjnQ==\">quantum machine learning for drug discovery current state of development</a>\n",
              "    <a class=\"chip\" href=\"https://vertexaisearch.cloud.google.com/grounding-api-redirect/AWQVqAL3I2sFFtEO5yHJi21ufWwdHt-wqKjMu5sbzcGMTjtab_dJse0NzWgXQ5zLgp2I13LbrnIciJjL1WGYtETTh33U81mInDJtyaH9d639dIyeKylwz1o_FdhEHUPRsRaJjwnFz-YTvqm9JtmnJ3OMHJB4otpbv_N-shnqkCwgAqdWfcXyRAbytHyarwH5s_bBUOAceN0r5DlHWDsETpYVEckXdEa3k4vP0oZtPNln2U20sjH25JD4boM=\">quantum machine learning for drug discovery overview</a>\n",
              "    <a class=\"chip\" href=\"https://vertexaisearch.cloud.google.com/grounding-api-redirect/AWQVqAKTWz-TwL81cfotgWVGXGNsEo5L24w17Yt_d3927F_l-X_dQR3vX05WPJv5ksL_Yuod6_cJ10kvHUXaxC28cIr8RIElPxJww48C8IlcLhGM423Zi4KYGmv0RN1wOn2B9e_9e7YpneXQwf_WcqbOFVkqlqsJnEz9ZR_hd4Wkedko77qz-blzPg4RWwlSa52_jIVP3dGfa97DuSEF_clRCG5DQvBSDtIVZm7MgNKu1tuv4oVxfboGamVCyA8=\">quantum machine learning for drug discovery key players</a>\n",
              "    <a class=\"chip\" href=\"https://vertexaisearch.cloud.google.com/grounding-api-redirect/AWQVqAKhKqWuedkeHpGffgxZziDW2QU0Ov2-kVkQTDRGMjzBZuw6rCh8pqPNG9g-eaL5SuyQAktiLUmXwS4JOU8fyaWuoBjy9u4OFi71fnw9Rf_Y8ErHSDA5QRrDkb1EeV-6ZgeqGi5EOEpn_q2O84HNTxP4H4oZbE1aikXgZOEejyGQzb-gt0f1sNeZtDwemGSS7nYaBF1bFfWaZ07alEt9dGaA61nPCAPxza3uomZds7PciY3iMNzw9PdGgOAGfZuivli24dPXjZ5tkg==\">quantum machine learning for drug discovery recent major developments</a>\n",
              "  </div>\n",
              "</div>\n"
            ]
          },
          "metadata": {}
        },
        {
          "output_type": "stream",
          "name": "stdout",
          "text": [
            "\n",
            "📊 Stage 2: Identifying key subtopics for deeper investigation\n"
          ]
        },
        {
          "output_type": "display_data",
          "data": {
            "text/plain": [
              "<IPython.core.display.Markdown object>"
            ],
            "text/markdown": "Okay, here are 3 subtopics from my previous response that would be most valuable to explore further, presented in a structured format:\n\n**1. Subtopic: Hybrid Quantum-Classical Algorithms**\n\n*   **Significance:** Hybrid quantum-classical algorithms represent the most practical path forward for QML in drug discovery in the near term. Current quantum hardware limitations (e.g., limited qubit count, noise) prevent the execution of fully quantum algorithms for complex problems. By combining classical computational resources with quantum coprocessors, these hybrid approaches can leverage the potential benefits of quantum computing while mitigating its limitations. This makes them crucial for realizing tangible progress in the field. Additionally, understanding how to best partition computational tasks between quantum and classical resources is essential for optimizing performance.\n*   **Specific Aspects for Deeper Research:**\n    *   **Performance Benchmarking:** Rigorous benchmarking of specific hybrid algorithms (e.g., VQE for molecular energy calculations, quantum-enhanced Monte Carlo for virtual screening) against state-of-the-art classical methods on relevant drug discovery datasets (e.g., protein-ligand binding affinity prediction, ADMET property prediction). This should include careful consideration of metrics such as accuracy, speed, and scalability.\n    *   **Algorithm Optimization:** Development of novel optimization strategies tailored to hybrid algorithms. This includes exploring different classical optimizers, quantum circuit architectures, and encoding methods to maximize performance and minimize the impact of noise.\n    *   **Resource Allocation Strategies:** Investigation of optimal strategies for allocating computational tasks between quantum and classical resources. This includes identifying the types of calculations that are best suited for quantum processing and developing methods for efficiently transferring data between quantum and classical systems.\n    *   **Error Mitigation Techniques:** Implementation and evaluation of error mitigation techniques specific to hybrid algorithms. This includes exploring methods such as zero-noise extrapolation, probabilistic error cancellation, and error-aware optimization to reduce the impact of noise on the accuracy of the results.\n\n**2. Subtopic: Data Encoding Strategies for Quantum Machine Learning**\n\n*   **Significance:** The way classical molecular data is encoded into quantum states has a profound impact on the performance of QML algorithms. Efficient and expressive encoding methods are critical for capturing the relevant features of molecules and enabling quantum algorithms to learn effectively. Poor encoding strategies can limit the algorithm's ability to represent complex molecular structures and relationships, hindering its performance. Furthermore, the choice of encoding scheme can influence the computational cost of the quantum algorithm.\n*   **Specific Aspects for Deeper Research:**\n    *   **Comparative Analysis of Encoding Methods:** A systematic comparison of different encoding methods (e.g., amplitude encoding, angle encoding, basis encoding, Hamiltonian encoding, problem-inspired encoding) in terms of their expressivity, computational cost, and suitability for different drug discovery tasks. This includes analyzing the ability of each encoding method to represent relevant molecular features and the resources required to implement the encoding circuit.\n    *   **Feature Selection and Dimensionality Reduction:** Exploration of feature selection and dimensionality reduction techniques to identify the most relevant molecular descriptors for quantum encoding. This can help to reduce the computational cost of the quantum algorithm and improve its ability to generalize.\n    *   **Development of Novel Encoding Strategies:** Development of new encoding strategies that are specifically tailored to the unique characteristics of molecular data and the capabilities of quantum computers. This could involve exploring the use of quantum feature maps, kernel methods, or other techniques to create more expressive and efficient encodings.\n    *   **Encoding for Specific QML Algorithms:** Tailoring encoding strategies to specific QML algorithms. Different algorithms may benefit from different encoding schemes, so understanding these relationships is crucial for optimizing performance.\n\n**3. Subtopic: Hardware Requirements and Error Correction**\n\n*   **Significance:** The development and advancement of quantum hardware are critical to realizing the full potential of QML in drug discovery. Current quantum computers are limited in terms of qubit count, coherence times, and gate fidelities. These limitations restrict the size and complexity of the problems that can be solved. Quantum error correction is essential for mitigating the impact of noise on quantum computations, enabling more accurate and reliable results. Understanding the hardware requirements for specific drug discovery tasks and developing effective error correction strategies are crucial for making QML a practical tool for drug discovery.\n*   **Specific Aspects for Deeper Research:**\n    *   **Estimating Resource Requirements:** Estimating the specific hardware resources (e.g., number of qubits, gate depth, coherence time) required to achieve quantum advantage for specific drug discovery tasks. This includes developing models to predict the performance of QML algorithms as a function of hardware parameters.\n    *   **Error Correction Codes for QML:** Investigating the suitability of different quantum error correction codes for QML algorithms. This includes analyzing the overhead associated with different codes and their ability to protect against different types of noise.\n    *   **Fault-Tolerant Quantum Computing:** Exploring the requirements for achieving fault-tolerant quantum computing in the context of drug discovery. This includes understanding the threshold error rates required for fault tolerance and developing strategies for building fault-tolerant quantum computers.\n    *   **Noise-Aware Algorithm Design:** Developing QML algorithms that are inherently robust to noise or can be adapted to mitigate the impact of noise. This includes exploring techniques such as error-aware optimization and noise-adaptive control.\n"
          },
          "metadata": {}
        },
        {
          "output_type": "stream",
          "name": "stdout",
          "text": [
            "\n",
            "📊 Stage 3: Deep dive into first subtopic\n"
          ]
        },
        {
          "output_type": "display_data",
          "data": {
            "text/plain": [
              "<IPython.core.display.Markdown object>"
            ],
            "text/markdown": "Okay, let's conduct a comprehensive deep dive into the subtopic of **Hybrid Quantum-Classical Algorithms** for Drug Discovery.\n\n**1. Latest Research Findings or Developments:**\n\n*   **KRAS Targeting:** One of the most notable recent developments is the successful use of hybrid quantum-classical models to design small molecules targeting the KRAS protein, a key player in cancer biology. This research demonstrates the potential of combining quantum and classical computational tools to tackle challenging drug discovery problems [14].\n*   **Variational Quantum Eigensolver (VQE) Applications:** VQE continues to be a popular algorithm for molecular energy calculations. Researchers are exploring new ansatze (trial wavefunctions) and optimization techniques to improve the accuracy and efficiency of VQE for larger molecular systems. For example, research focuses on using VQE for electronic structure calculations, a fundamental step in understanding molecular properties and interactions [5, 6].\n*   **Quantum Machine Learning (QML) for Property Prediction:** Hybrid approaches are being explored to predict molecular properties more accurately. QML models, trained on quantum-computed features or integrated with classical machine learning workflows, show promise in improving prediction accuracy compared to purely classical models [5, 7].\n*   **Quantum-Classical Federated Learning (QCFL):** Researchers are investigating Federated Learning (FL) and Quantum Federated Learning (QFL) to facilitate collaborative research while preserving data privacy. QCFL enables the development of more reliable and accurate models due to the efficient extraction of feature data from multiple distributed sources. [16]\n\n**2. Key Challenges or Controversies:**\n\n*   **Quantum Advantage:** A major challenge is demonstrating a clear quantum advantage over classical algorithms for relevant drug discovery tasks. While QML algorithms have shown promising results in some cases, it is often difficult to definitively prove that they outperform the best classical methods, especially given the limitations of current quantum hardware.\n*   **Scalability:** Many QML algorithms struggle to scale to the size and complexity of real-world drug discovery problems. The number of qubits required to represent large molecules and simulate complex interactions can quickly exceed the capabilities of current quantum computers.\n*   **Noise and Error Correction:** Quantum computers are inherently noisy, which can significantly degrade the accuracy of QML algorithms. Developing effective quantum error correction and mitigation techniques is crucial for obtaining reliable results, but this remains a significant challenge. Error mitigation strategies are essential to reduce the impact of noise on the accuracy of results. [1, 6]\n*   **Encoding Molecular Data:** Efficiently encoding classical molecular data into quantum states is a non-trivial problem. The choice of encoding scheme can significantly impact the performance of the QML algorithm, and finding the optimal encoding for a given task can be challenging. There is a controversy around the optimal representation of molecular information for quantum algorithms [5, 7].\n*   **Algorithm Selection:** The choice of the appropriate hybrid algorithm for a specific drug discovery task remains complex. Different algorithms have different strengths and weaknesses, and there are no clear guidelines for selecting the best algorithm for a given problem.\n\n**3. Notable Innovations or Breakthroughs:**\n\n*   **Variational Quantum Eigensolver (VQE):** VQE has emerged as a leading hybrid algorithm for molecular energy calculations. It has been successfully applied to calculate the ground state energies of small molecules and has the potential to be extended to larger systems with improved hardware and algorithms [5, 6].\n*   **Quantum Neural Networks (QNNs):** QNNs are gaining traction as a promising approach for QML. While still in early stages, QNNs have shown potential for improving the accuracy and efficiency of machine learning tasks in drug discovery. The development of quantum neural networks and their integration with classical machine learning workflows provide a novel approach for property prediction [4, 5, 7].\n*   **Quantum Computing in the Cloud:** The availability of quantum computing resources in the cloud has made it easier for researchers to access and experiment with QML algorithms. This has accelerated the pace of research and development in the field [8, 9].\n*   **CUDA-Q Platform by NVIDIA:** The CUDA-Q quantum development platform by NVIDIA provides a unique tool for running multi-GPU accelerated simulations of QML workloads. [4]\n\n**4. Future Directions and Potential Impacts:**\n\n*   **Improved Quantum Hardware:** The development of more powerful and stable quantum computers with a larger number of qubits and longer coherence times will be crucial for advancing QML in drug discovery.\n*   **Algorithm Development:** Continued development of new and improved hybrid quantum-classical algorithms tailored to specific drug discovery tasks will be essential. This includes exploring new ansatze for VQE, developing more efficient quantum optimization algorithms, and designing novel quantum machine learning models.\n*   **Integration with AI/ML:** The integration of quantum computing with AI and ML is a growing trend. Future QML algorithms will likely be tightly integrated with classical AI/ML techniques to leverage the strengths of both approaches [3, 10].\n*   **Personalized Medicine:** QML has the potential to accelerate the development of personalized medicines by enabling more accurate modeling of individual patient responses to drugs [10].\n*   **Drug Repurposing:** Hybrid algorithms could accelerate drug repurposing efforts by identifying existing drugs that may be effective against new targets or diseases.\n\n**5. Leading Experts, Organizations, or Companies:**\n\n*   **Pharmaceutical Companies:** Moderna is actively involved in research and development efforts. [4]\n*   **Technology Companies:** IBM, Google, Microsoft, D-Wave Systems, Rigetti Computing, Xanadu Quantum Technologies, Fujitsu, Intel, Atos, NVIDIA, Accenture, and 1QBit are key players in the development of quantum computing hardware and software [8, 9, 10].\n*   **Startups:** Qubit Pharmaceuticals and Aqemia are startups focused on applying quantum computing to drug discovery [8, 9].\n*   **Academic Institutions:** Yale, Oxford, Cambridge, ENS/CNRS (France), and North Carolina State University are actively involved in QML research [4, 9, 16].\n\nThis deep dive provides a comprehensive overview of the current state, challenges, and future directions of hybrid quantum-classical algorithms for drug discovery. The combination of quantum and classical computing offers a promising pathway to accelerate the drug discovery process and develop new and more effective treatments.\n"
          },
          "metadata": {}
        },
        {
          "output_type": "stream",
          "name": "stdout",
          "text": [
            "\n",
            "📊 Stage 4: Synthesizing insights and recommendations\n"
          ]
        },
        {
          "output_type": "display_data",
          "data": {
            "text/plain": [
              "<IPython.core.display.Markdown object>"
            ],
            "text/markdown": "## Executive Brief: Quantum Machine Learning for Drug Discovery\n\n**Subject:** Strategic Assessment of Quantum Machine Learning (QML) for Drug Discovery\n\n**Date:** April 1, 2025\n\n**1. Key Insights:**\n\n*   **Hybrid Quantum-Classical Algorithms are the Near-Term Path:** Fully quantum solutions are currently limited by hardware constraints. Hybrid algorithms that strategically combine quantum and classical computational resources are the most viable approach for near-term progress. Algorithms like VQE are showing promise in molecular property prediction.\n*   **Encoding Matters Critically:** The method used to encode molecular data into quantum states profoundly impacts algorithm performance. Finding efficient and expressive encoding strategies is crucial for capturing relevant molecular features and enabling effective learning by quantum algorithms.\n*   **Hardware Limitations Remain a Significant Hurdle:** Current quantum computers are constrained by limited qubit counts, short coherence times, and high error rates. Advances in quantum hardware and error correction are essential for unlocking the full potential of QML in drug discovery. Demonstration of quantum advantage over classical methods remains a challenge.\n\n**2. Emerging Trends and Patterns:**\n\n*   **Increased Investment and Collaboration:** Growing interest and investment from pharmaceutical companies, technology firms, startups, and academic institutions are driving the field forward. Collaborative efforts are becoming increasingly common.\n*   **Focus on Early-Stage Drug Discovery:** Current QML applications are primarily focused on early-stage tasks such as target identification, virtual screening, and molecular property prediction. There is a trend toward integrating quantum computing with AI and ML to enhance existing techniques.\n*   **Cloud-Based Quantum Computing:** The increasing availability of quantum computing resources in the cloud is democratizing access to the technology and accelerating research and development. Platforms like NVIDIA's CUDA-Q are streamlining QML workload simulations.\n*   **Data Privacy:** The exploration of Federated Learning (FL) and Quantum Federated Learning (QFL) is a growing trend to facilitate collaborative research while preserving data privacy.\n\n**3. Gaps and Contradictions:**\n\n*   **Quantum Advantage Uncertainty:** While QML algorithms show promise, definitive proof of quantum advantage over classical methods for practical drug discovery tasks remains elusive. Demonstrating a clear and quantifiable advantage is crucial for justifying the investment in QML research.\n*   **Scalability Challenges:** Many QML algorithms struggle to scale to the size and complexity of real-world drug discovery problems. Further research is needed to develop scalable algorithms that can handle large molecular systems and complex interactions.\n*   **Encoding Inconsistencies:** There's a lack of consensus on the optimal encoding strategies for different QML algorithms and drug discovery tasks. More systematic research is needed to identify the best encoding methods for specific applications.\n\n**4. Recommendations for Practical Applications:**\n\n*   **Focus on Hybrid Algorithm Development:** Prioritize research and development efforts on hybrid quantum-classical algorithms that can be implemented on near-term quantum hardware.\n*   **Invest in Benchmarking and Validation:** Conduct rigorous benchmarking of QML algorithms against state-of-the-art classical methods on relevant drug discovery datasets to assess their potential for quantum advantage.\n*   **Explore Cloud-Based Quantum Computing:** Leverage cloud-based quantum computing platforms to accelerate algorithm development and experimentation.\n*   **Foster Collaboration:** Encourage collaboration between pharmaceutical companies, technology firms, startups, and academic institutions to share expertise and resources.\n\n**5. Directions for Future Research:**\n\n*   **Hardware Advancement:** Invest in research and development efforts aimed at improving quantum hardware, including increasing qubit counts, extending coherence times, and reducing error rates.\n*   **Encoding Optimization:** Conduct systematic studies to optimize data encoding strategies for QML algorithms, exploring different encoding methods and feature selection techniques.\n*   **Error Mitigation Strategies:** Develop and implement advanced quantum error correction and mitigation techniques to improve the accuracy and reliability of QML algorithms.\n*   **Targeted Algorithm Development:** Develop QML algorithms tailored to specific drug discovery tasks, such as molecular docking, virtual screening, and ADMET property prediction.\n*   **Long-Term Impact Assessment:** Study the long-term impacts of QML on the drug discovery process, including its potential to accelerate drug development timelines, reduce costs, and improve drug efficacy and safety.\n"
          },
          "metadata": {}
        },
        {
          "output_type": "stream",
          "name": "stdout",
          "text": [
            "\n",
            "📊 Research Stage Search Utilization:\n"
          ]
        },
        {
          "output_type": "display_data",
          "data": {
            "text/plain": [
              "<Figure size 1000x500 with 1 Axes>"
            ],
            "image/png": "[encoded data removed]"
          },
          "metadata": {}
        },
        {
          "output_type": "stream",
          "name": "stdout",
          "text": [
            "\n",
            "# This advanced workflow demonstrates how to break down complex research questions\n",
            "# into a structured process that builds deeper insights at each stage.\n",
            "# Note how the search tool is used differently at each stage of the research process.\n"
          ]
        }
      ]
    },
    {
      "cell_type": "code",
      "source": [
        "# @title ## 9b. Competitive Intelligence Framework\n",
        "#This workflow demonstrates how to use search for detailed competitive analysis\n",
        "\n",
        "print(\"\\n--- 9b. Competitive Intelligence Framework ---\")\n",
        "print(\"# Using Gemini's search capabilities to conduct structured competitive analysis\")\n",
        "\n",
        "def competitive_intelligence_analysis(company_name, industry=None):\n",
        "    \"\"\"\n",
        "    Conduct a structured competitive intelligence analysis for a company\n",
        "\n",
        "    Args:\n",
        "        company_name (str): The target company to analyze\n",
        "        industry (str): Optional industry context\n",
        "\n",
        "    Returns:\n",
        "        List of responses from the analysis\n",
        "    \"\"\"\n",
        "    # Create a new chat with search\n",
        "    competitive_chat = client.chats.create(model=MODEL, config={'tools': [search_tool]})\n",
        "\n",
        "    # Store responses\n",
        "    responses = []\n",
        "\n",
        "    # Stage 1: Company profile and market position\n",
        "    print(f\"\\n📊 Stage 1: Company profile and market position for {company_name}\")\n",
        "    stage1_prompt = f\"\"\"\n",
        "    Conduct a comprehensive analysis of {company_name}{' in the ' + industry + ' industry' if industry else ''}.\n",
        "\n",
        "    Include:\n",
        "    1. Brief company overview (history, size, key offerings)\n",
        "    2. Current market position and market share if available\n",
        "    3. Recent financial performance and growth trends\n",
        "    4. Key executives and leadership changes\n",
        "    5. Recent strategic moves (acquisitions, partnerships, new product launches)\n",
        "\n",
        "    Focus on factual information from reliable sources. Include specific numbers\n",
        "    and metrics wherever possible.\n",
        "    \"\"\"\n",
        "\n",
        "    stage1_response = competitive_chat.send_message(stage1_prompt)\n",
        "    show_parts(stage1_response)\n",
        "    responses.append(stage1_response)\n",
        "    time.sleep(2)\n",
        "\n",
        "    # Stage 2: Competitor identification and comparison\n",
        "    print(f\"\\n📊 Stage 2: Competitor identification and analysis\")\n",
        "    stage2_prompt = f\"\"\"\n",
        "    Identify the top 3-5 direct competitors of {company_name}.\n",
        "\n",
        "    For each competitor:\n",
        "    1. Provide a brief company overview\n",
        "    2. Compare their market share and position to {company_name}\n",
        "    3. Analyze their key differentiators and competitive advantages\n",
        "    4. Describe their recent strategic moves\n",
        "    5. Evaluate their strengths and weaknesses relative to {company_name}\n",
        "\n",
        "    Present this in a structured comparative format.\n",
        "    \"\"\"\n",
        "\n",
        "    stage2_response = competitive_chat.send_message(stage2_prompt)\n",
        "    show_parts(stage2_response)\n",
        "    responses.append(stage2_response)\n",
        "    time.sleep(2)\n",
        "\n",
        "    # Stage 3: SWOT analysis\n",
        "    print(f\"\\n📊 Stage 3: SWOT analysis for {company_name}\")\n",
        "    stage3_prompt = f\"\"\"\n",
        "    Based on the information gathered, conduct a detailed SWOT analysis for {company_name}:\n",
        "\n",
        "    1. Strengths: Internal advantages and capabilities\n",
        "    2. Weaknesses: Internal disadvantages or limitations\n",
        "    3. Opportunities: External factors that could benefit the company\n",
        "    4. Threats: External factors that could negatively impact the company\n",
        "\n",
        "    For each category, provide 4-5 specific points with brief explanations supported by\n",
        "    the information you've gathered.\n",
        "    \"\"\"\n",
        "\n",
        "    stage3_response = competitive_chat.send_message(stage3_prompt)\n",
        "    show_parts(stage3_response)\n",
        "    responses.append(stage3_response)\n",
        "    time.sleep(2)\n",
        "\n",
        "    # Stage 4: Strategic recommendations\n",
        "    print(f\"\\n📊 Stage 4: Strategic recommendations\")\n",
        "    stage4_prompt = f\"\"\"\n",
        "    Based on all the competitive intelligence gathered, provide strategic recommendations for {company_name}.\n",
        "\n",
        "    Your recommendations should address:\n",
        "    1. How to leverage identified strengths\n",
        "    2. How to address or mitigate weaknesses\n",
        "    3. How to capitalize on market opportunities\n",
        "    4. How to defend against competitive threats\n",
        "    5. Potential areas for innovation or market disruption\n",
        "\n",
        "    Format these as actionable strategic recommendations that could be presented to executives.\n",
        "    \"\"\"\n",
        "\n",
        "    stage4_response = competitive_chat.send_message(stage4_prompt)\n",
        "    show_parts(stage4_response)\n",
        "    responses.append(stage4_response)\n",
        "\n",
        "    # Visualize search usage across the analysis stages\n",
        "    print(\"\\n📊 Competitive Analysis Search Utilization:\")\n",
        "    visualize_search_usage(responses)\n",
        "\n",
        "    return responses\n",
        "\n",
        "# Run the competitive intelligence analysis on a real company\n",
        "target_company = \"Rivian\"\n",
        "industry = \"Electric Vehicle Manufacturing\"\n",
        "competitive_results = competitive_intelligence_analysis(target_company, industry)\n",
        "\n",
        "print(\"\\n# This framework demonstrates how to use search capabilities for comprehensive competitive analysis\")\n",
        "print(\"# The structured approach ensures thorough coverage of all aspects of competitive intelligence\")\n",
        "print(\"# Notice how the search tool grounds the analysis in factual, up-to-date information\")"
      ],
      "metadata": {
        "id": "L39x2NvfQr6W",
        "outputId": "144b99a1-d30a-4e01-93a7-e82449a32d26",
        "colab": {
          "base_uri": "https://localhost:8080/",
          "height": 1000
        }
      },
      "execution_count": 26,
      "outputs": [
        {
          "output_type": "stream",
          "name": "stdout",
          "text": [
            "\n",
            "--- 9b. Competitive Intelligence Framework ---\n",
            "# Using Gemini's search capabilities to conduct structured competitive analysis\n",
            "\n",
            "📊 Stage 1: Company profile and market position for Rivian\n"
          ]
        },
        {
          "output_type": "display_data",
          "data": {
            "text/plain": [
              "<IPython.core.display.Markdown object>"
            ],
            "text/markdown": "Okay, I will conduct a comprehensive analysis of Rivian in the Electric Vehicle Manufacturing industry, covering the requested points using factual information from reliable sources.\n\n"
          },
          "metadata": {}
        },
        {
          "output_type": "display_data",
          "data": {
            "text/plain": [
              "<IPython.core.display.Markdown object>"
            ],
            "text/markdown": "Here's a comprehensive analysis of Rivian in the Electric Vehicle Manufacturing industry, based on the information gathered from the provided search results:\n\n**1. Company Overview**\n\n*   **History:** Rivian Automotive, Inc. was founded in 2009 by Robert \"RJ\" Scaringe, initially as Mainstream Motors. The name was later changed to Avera Automotive and finally to Rivian Automotive in 2011.\n*   **Size:** As of December 2023, Rivian had 16,790 employees.\n*   **Key Offerings:** Rivian designs, develops, manufactures, and sells electric vehicles, accessories, software, and services. Their primary products include:\n    *   R1T: A two-row, five-passenger electric pickup truck.\n    *   R1S: A three-row, seven-passenger electric SUV.\n    *   EDV (Electric Delivery Van): Designed and engineered in collaboration with Amazon.\n    *   FleetOS: A centralized fleet management subscription platform.\n*   **Facilities:** Rivian is based in Irvine, California. Its primary manufacturing facility is in Normal, Illinois, acquired in 2017. They also have facilities in Palo Alto and Carson, California; Plymouth, Michigan; Burnaby, British Columbia; Wittmann, Arizona; Woking, England; and Belgrade, Serbia. A new $5 billion factory is planned for Georgia, with an expected annual production capacity of 400,000 units.\n\n**2. Current Market Position and Market Share**\n\n*   **Market Position:** Rivian is considered a competitor to Tesla. In Q1 2024, Rivian was the 5th largest EV seller in the US, surpassing BMW, Mercedes-Benz, Chevrolet, and Audi.\n*   **Market Share:**\n    *   In Q4 2024, the U.S. EV market share was 8.7%. Tesla held 44% of the EV market share in America during this period.\n    *   It's important to note that market share is calculated based on total revenue.\n\n**3. Recent Financial Performance and Growth Trends**\n\n*   **Revenue:**\n    *   2023: Total revenue was $4.43 billion.\n    *   Q4 2024: Revenue reached $1.73 billion, exceeding expectations. This included $299 million from regulatory credits and $214 million from software and services.\n*   **Gross Profit/Loss:**\n    *   Q4 2024: Rivian reported a gross profit of $170 million.\n    *   2023: Negative gross profit of $(2.030) billion, an improvement from $(3.123) billion in 2022.\n*   **Net Loss:**\n    *   Q4 2023: Net loss was $(1.521) billion.\n    *   2023: Net loss was $(5.432) billion, compared to $(6.752) billion in 2022.\n    *   Q4 2024: Net loss was $743 million (or 70 cents per share), a significant improvement from the $1.52 billion loss in the same period the previous year.\n    *   2024: Rivian posted a $4.75 billion loss.\n*   **Production & Deliveries:**\n    *   2023: Rivian produced 57,232 vehicles.\n    *   2024: Produced 49,476 vehicles and delivered 51,579 vehicles.\n    *   Q4 2024: Produced 12,727 and delivered 14,183 vehicles.\n*   **Growth Trends:**\n    * Rivian's gross margin has increased by 47% YoY and by 44% from the previous quarter.\n    * Rivian's gross profit has increased by 41% YoY and by 39% QoQ.\n*   **Cash Reserves:** Rivian ended Q4 2023 with $9.368 million in cash, cash equivalents, and short-term investments.\n*   **2025 Outlook:** Rivian anticipates lower sales for 2025, forecasting deliveries between 46,000 to 51,000 units. Adjusted losses are expected to narrow to between $1.7 billion and $1.9 billion for 2025, down from a $2.69 billion loss in the previous quarter.\n*   **Analyst Expectations:** Analyst predict just 8.3% revenue growth anticipated for 2025, but foresee a potential growth spike in 2026 with the release of mass market vehicles.\n\n**4. Key Executives and Leadership Changes**\n\n*   **Key People:**\n    *   RJ Scaringe: Founder and CEO\n    *   Claire McDonough: Chief Financial Officer\n    *   Javier Varela: Chief Operating Officer (since May 2024)\n    *   Jeffrey R Baker: Chief Accounting Officer\n    *   Sarah O'Brien: Chief Communications Officer\n*   **Leadership Changes:**\n    *   Kjell Gruner, Chief Commercial Officer, resigned in July 2024. Dagan Mishoulam was promoted to SVP of commercial.\n    *   Jennifer Prenner was hired to lead marketing efforts in 2024.\n    *   Javier Varela succeeded Frank Klein as COO in May 2024.\n    *   RJ Scaringe assumed direct responsibility for all product functions in November 2023.\n    *   Richard Farquhar moved to a new role as SVP of future R&D.\n    * Jeffrey Baker, chief accounting officer, resigned in July 2024. Rivian CFO Claire McDonough is serving as the company's interim principal accounting officer.\n\n**5. Recent Strategic Moves**\n\n*   **Partnership with Volkswagen Group:**\n    *   In June 2024, Volkswagen Group announced its intention to invest up to $5 billion in Rivian.\n    *   The companies launched a joint venture, \"Rivian and VW Group Technology, LLC,\" to develop next-generation electrical architecture and software technology. The total deal size is up to $5.8 billion.\n*   **New Product Launches:**\n    *   R2 SUV: Unveiled in March 2024, with an expected starting price of around $45,000 and deliveries slated to begin in the first half of 2026.\n    *   R3 and R3X: Smaller, more affordable vehicles on the same platform as the R2, with R3 production expected to begin in 2028.\n*   **Acquisitions:**\n    *   Iternio (A Better Routeplanner - ABRP): Acquired in June 2023 to enhance EV trip planning capabilities.\n    *   Manufacturing facility in Normal, Illinois: Acquired in January 2017.\n*   **Charging Network:** Plans to build an exclusive charging network in the United States and Canada. As of December 2023, Rivian had 42 service centers.\n*   **Charging Standard Adoption:** Rivian will incorporate Tesla's North American Charging System (NACS) into its vehicles in 2025.\n*   **Commercial Agreements:** Agreement with Amazon to design, produce, and purchase 100,000 electric delivery vehicles (EDVs).\n* **New Company Launch:** Rivian has launched a new company called Also, focused on small electric vehicles like bikes and scooters. The first product is expected to be unveiled in the fall of 2025, with US and European deliveries to follow in 2026.\nI have tried to provide the most up-to-date and comprehensive information available as of today, April 1, 2025.\n"
          },
          "metadata": {}
        },
        {
          "output_type": "stream",
          "name": "stdout",
          "text": [
            "\n",
            "📊 Search Results Used:\n"
          ]
        },
        {
          "output_type": "display_data",
          "data": {
            "text/plain": [
              "<IPython.core.display.HTML object>"
            ],
            "text/html": [
              "<style>\n",
              ".container {\n",
              "  align-items: center;\n",
              "  border-radius: 8px;\n",
              "  display: flex;\n",
              "  font-family: Google Sans, Roboto, sans-serif;\n",
              "  font-size: 14px;\n",
              "  line-height: 20px;\n",
              "  padding: 8px 12px;\n",
              "}\n",
              ".chip {\n",
              "  display: inline-block;\n",
              "  border: solid 1px;\n",
              "  border-radius: 16px;\n",
              "  min-width: 14px;\n",
              "  padding: 5px 16px;\n",
              "  text-align: center;\n",
              "  user-select: none;\n",
              "  margin: 0 8px;\n",
              "  -webkit-tap-highlight-color: transparent;\n",
              "}\n",
              ".carousel {\n",
              "  overflow: auto;\n",
              "  scrollbar-width: none;\n",
              "  white-space: nowrap;\n",
              "  margin-right: -12px;\n",
              "}\n",
              ".headline {\n",
              "  display: flex;\n",
              "  margin-right: 4px;\n",
              "}\n",
              ".gradient-container {\n",
              "  position: relative;\n",
              "}\n",
              ".gradient {\n",
              "  position: absolute;\n",
              "  transform: translate(3px, -9px);\n",
              "  height: 36px;\n",
              "  width: 9px;\n",
              "}\n",
              "@media (prefers-color-scheme: light) {\n",
              "  .container {\n",
              "    background-color: #fafafa;\n",
              "    box-shadow: 0 0 0 1px #0000000f;\n",
              "  }\n",
              "  .headline-label {\n",
              "    color: #1f1f1f;\n",
              "  }\n",
              "  .chip {\n",
              "    background-color: #ffffff;\n",
              "    border-color: #d2d2d2;\n",
              "    color: #5e5e5e;\n",
              "    text-decoration: none;\n",
              "  }\n",
              "  .chip:hover {\n",
              "    background-color: #f2f2f2;\n",
              "  }\n",
              "  .chip:focus {\n",
              "    background-color: #f2f2f2;\n",
              "  }\n",
              "  .chip:active {\n",
              "    background-color: #d8d8d8;\n",
              "    border-color: #b6b6b6;\n",
              "  }\n",
              "  .logo-dark {\n",
              "    display: none;\n",
              "  }\n",
              "  .gradient {\n",
              "    background: linear-gradient(90deg, #fafafa 15%, #fafafa00 100%);\n",
              "  }\n",
              "}\n",
              "@media (prefers-color-scheme: dark) {\n",
              "  .container {\n",
              "    background-color: #1f1f1f;\n",
              "    box-shadow: 0 0 0 1px #ffffff26;\n",
              "  }\n",
              "  .headline-label {\n",
              "    color: #fff;\n",
              "  }\n",
              "  .chip {\n",
              "    background-color: #2c2c2c;\n",
              "    border-color: #3c4043;\n",
              "    color: #fff;\n",
              "    text-decoration: none;\n",
              "  }\n",
              "  .chip:hover {\n",
              "    background-color: #353536;\n",
              "  }\n",
              "  .chip:focus {\n",
              "    background-color: #353536;\n",
              "  }\n",
              "  .chip:active {\n",
              "    background-color: #464849;\n",
              "    border-color: #53575b;\n",
              "  }\n",
              "  .logo-light {\n",
              "    display: none;\n",
              "  }\n",
              "  .gradient {\n",
              "    background: linear-gradient(90deg, #1f1f1f 15%, #1f1f1f00 100%);\n",
              "  }\n",
              "}\n",
              "</style>\n",
              "<div class=\"container\">\n",
              "  <div class=\"headline\">\n",
              "    <svg class=\"logo-light\" width=\"18\" height=\"18\" viewBox=\"9 9 35 35\" fill=\"none\" xmlns=\"http://www.w3.org/2000/svg\">\n",
              "      <path fill-rule=\"evenodd\" clip-rule=\"evenodd\" d=\"M42.8622 27.0064C42.8622 25.7839 42.7525 24.6084 42.5487 23.4799H26.3109V30.1568H35.5897C35.1821 32.3041 33.9596 34.1222 32.1258 35.3448V39.6864H37.7213C40.9814 36.677 42.8622 32.2571 42.8622 27.0064V27.0064Z\" fill=\"#4285F4\"/>\n",
              "      <path fill-rule=\"evenodd\" clip-rule=\"evenodd\" d=\"M26.3109 43.8555C30.9659 43.8555 34.8687 42.3195 37.7213 39.6863L32.1258 35.3447C30.5898 36.3792 28.6306 37.0061 26.3109 37.0061C21.8282 37.0061 18.0195 33.9811 16.6559 29.906H10.9194V34.3573C13.7563 39.9841 19.5712 43.8555 26.3109 43.8555V43.8555Z\" fill=\"#34A853\"/>\n",
              "      <path fill-rule=\"evenodd\" clip-rule=\"evenodd\" d=\"M16.6559 29.8904C16.3111 28.8559 16.1074 27.7588 16.1074 26.6146C16.1074 25.4704 16.3111 24.3733 16.6559 23.3388V18.8875H10.9194C9.74388 21.2072 9.06992 23.8247 9.06992 26.6146C9.06992 29.4045 9.74388 32.022 10.9194 34.3417L15.3864 30.8621L16.6559 29.8904V29.8904Z\" fill=\"#FBBC05\"/>\n",
              "      <path fill-rule=\"evenodd\" clip-rule=\"evenodd\" d=\"M26.3109 16.2386C28.85 16.2386 31.107 17.1164 32.9095 18.8091L37.8466 13.8719C34.853 11.082 30.9659 9.3736 26.3109 9.3736C19.5712 9.3736 13.7563 13.245 10.9194 18.8875L16.6559 23.3388C18.0195 19.2636 21.8282 16.2386 26.3109 16.2386V16.2386Z\" fill=\"#EA4335\"/>\n",
              "    </svg>\n",
              "    <svg class=\"logo-dark\" width=\"18\" height=\"18\" viewBox=\"0 0 48 48\" xmlns=\"http://www.w3.org/2000/svg\">\n",
              "      <circle cx=\"24\" cy=\"23\" fill=\"#FFF\" r=\"22\"/>\n",
              "      <path d=\"M33.76 34.26c2.75-2.56 4.49-6.37 4.49-11.26 0-.89-.08-1.84-.29-3H24.01v5.99h8.03c-.4 2.02-1.5 3.56-3.07 4.56v.75l3.91 2.97h.88z\" fill=\"#4285F4\"/>\n",
              "      <path d=\"M15.58 25.77A8.845 8.845 0 0 0 24 31.86c1.92 0 3.62-.46 4.97-1.31l4.79 3.71C31.14 36.7 27.65 38 24 38c-5.93 0-11.01-3.4-13.45-8.36l.17-1.01 4.06-2.85h.8z\" fill=\"#34A853\"/>\n",
              "      <path d=\"M15.59 20.21a8.864 8.864 0 0 0 0 5.58l-5.03 3.86c-.98-2-1.53-4.25-1.53-6.64 0-2.39.55-4.64 1.53-6.64l1-.22 3.81 2.98.22 1.08z\" fill=\"#FBBC05\"/>\n",
              "      <path d=\"M24 14.14c2.11 0 4.02.75 5.52 1.98l4.36-4.36C31.22 9.43 27.81 8 24 8c-5.93 0-11.01 3.4-13.45 8.36l5.03 3.85A8.86 8.86 0 0 1 24 14.14z\" fill=\"#EA4335\"/>\n",
              "    </svg>\n",
              "    <div class=\"gradient-container\"><div class=\"gradient\"></div></div>\n",
              "  </div>\n",
              "  <div class=\"carousel\">\n",
              "    <a class=\"chip\" href=\"https://vertexaisearch.cloud.google.com/grounding-api-redirect/AWQVqAJwjN9Pc7y7CSFpOXXVON6VxZwdhnYGeC9FrdZujlr9PaKLDnFOQGtd6cJiqRfl7rUveOdyg0cVjPXD0gOCVqyKR1eMpKXRtuO_pPFmizxM8MUZTdfmdBdSMcUDyTxwz-Uaz6XTsGDqXWyK2Cm9lhDew7Chhe0qOJvBLDPOIpEHMQl82A1W5Tgv1rEtMI5Rl0ROrXGKUPk=\">Rivian acquisitions</a>\n",
              "    <a class=\"chip\" href=\"https://vertexaisearch.cloud.google.com/grounding-api-redirect/AWQVqALjZzTrc6MQSQziExLiIuSPTmq_L6G5Gu_1ZLu7qxiOSqEDWaaQvJ23oqllfTcxFqmHSgjjmCLFmcGjX4N0XdWUrkfjDmo2ncjDTJF8gtgaPZmve4fPMNAUfSmAMvIEVUCBeeSVyloUAlQORZld2ZOkNECCk_7ZWWnT4NZOctiZ9hR8trc5NIcBp2jnJmhm7iOkg0_2foHNOAqxvOTftEUe9TcSJOxw\">Rivian recent financial performance</a>\n",
              "    <a class=\"chip\" href=\"https://vertexaisearch.cloud.google.com/grounding-api-redirect/AWQVqALTjAR_8uJ2reO5jmC62bxpW8fAqBDtDS4YzKhcY1kHaz7WM2cIjJB-giRoeDrnJFtFb5nOBMT86PDFmbUf95ACXOrYT4KGAv9QxLONukjN_VGMeL4IUFjzhufFBD3O9zISAocskHIHmjfI-O8eho9zYGTwkqkwePuGw7zC5EV4LObjy8Ga--ym3WbSnI5ID7MerKgTSEQ=\">Rivian market share</a>\n",
              "    <a class=\"chip\" href=\"https://vertexaisearch.cloud.google.com/grounding-api-redirect/AWQVqAJJtpwJ5HTzBHzwUv0HTivC0fItAgLPwufGPHE6YuNgXaaJr1gNhlK-5VqTh8q-_K1sfSKKQ9bU9YflQovrskgzoMe8lixIqzjpLfYZ-nO-FfQd-We74jy5hIWvtG6HYaH9pLTMvEu8KiMScDt0XXJ9ngJIKWMpDLjhdwBmrrgXj71FFNMplUujiFQJQJRQBKCxx8-KPer2KOZU\">Rivian company overview</a>\n",
              "    <a class=\"chip\" href=\"https://vertexaisearch.cloud.google.com/grounding-api-redirect/AWQVqAL0NUhjP3Pugh-UWKTBW7OwIUGCSsvHyAfDU820T-n2qExTzq6QLug_MLCZOfKVe9kIy3vxS5STfvGF4TlLd_UmbROI2WTt9u7zhXN49tBRNkFlkKc2xcIFHeQ1YjQK6u_VO2iJPC6ggyV4iBJtNvV4ICctfrpkfxTJZ6kmw6U46AYAHANkIEoIP338l1BVOlB3-2vp2LpuhE4=\">Rivian market position</a>\n",
              "    <a class=\"chip\" href=\"https://vertexaisearch.cloud.google.com/grounding-api-redirect/AWQVqAJ9u7zI0UCxign-97QWN4WqZuPXozGgjkHIajzvN_8gL7PmoIcH9HkLmNJ0xzsVoRKTeLZDUL-Hqrj6gH_N7dGZJfvpdwFBcJhd-5gywdOkWCYyu7L9mih4Oe0Z94Q5kDl0esCPPB0m7HT4DIfCJOs-bYrMI-gonCkRZSvWN2NlY_5NykpD4Yfc00iWe7o_E8R88XOdXXfV\">Rivian growth trends</a>\n",
              "    <a class=\"chip\" href=\"https://vertexaisearch.cloud.google.com/grounding-api-redirect/AWQVqAKyiSbAQkx0PedeiRil4E0C3JexyeoaJ2fw_yk3K_yAdjsNDHfpYItmRSuLxDdaUfbc9Z6fUIl8TQFo--_mlPJ0PfKOlnyqjzFVAzmp3Pgps-JqfpWcZI3hdis3TGxpLJn6nzhaDJ2icivo1WjdQ0jd8z92UHLUi4NLq6r6Or6fMIYriylzeKobKRhwQUZTcL5xqgSF8MEn5A==\">Rivian key executives</a>\n",
              "    <a class=\"chip\" href=\"https://vertexaisearch.cloud.google.com/grounding-api-redirect/AWQVqAIIX3F5Aifuzp-GTeDOQJ4VnzB3vPZOQYF_qYHhLWOwq4hu-Mf5KF5VZfJ4KuAdCZ9MDL9i7mrbmkDhM7iPPZSG65jsb7KDVrdvhIkeJR2UmxDj5vX648IFQ2Xv0bVnTj5BlOZwFTPd6AELFHtjh1rZ4MeYB6Kr7Gpfjn80D5RGlaElj1ioQXnRxt-d79DI0QFUjdSQXL43MMCy17E=\">Rivian leadership changes</a>\n",
              "    <a class=\"chip\" href=\"https://vertexaisearch.cloud.google.com/grounding-api-redirect/AWQVqAKdaaJaheUklDPOsEw0CsGSIHoDBNNYbTI0p_h2Zoqi2pt2QYXPEJ5Yb-WXK1aHLAetwzCYMjGWEJe8hKzezwm_0_8b9WFNHWnTtlgvHcLCorrXqJ6BJPvILvkbZ_RW-slQHyTg-QSs_mMRylSjX6GE7vh0kmENLG7hyLtRuVhihD8QecNyDVFHkm60CB97T0SKOqfaV0Ubx46fd3pyLA==\">Rivian new product launches</a>\n",
              "    <a class=\"chip\" href=\"https://vertexaisearch.cloud.google.com/grounding-api-redirect/AWQVqAKvShN7azaBfV7sQxmiKNidRPMYyoL1T-39HJ7Tbt0GDJGhLA6HUhCjOJ-y7DJD8mu_M3CaVmDQObH6kfOzW9oa4bt8IJt2jysbuq8gOGMSkEvMsBx1SUhTiOQSb2boUxUUGqgizn1KColErwID-rVeRuyFkgdgW0kHMUHnseoRtcpGGfg364_MFu4si48ysY7-zraAE2A=\">Rivian partnerships</a>\n",
              "  </div>\n",
              "</div>\n"
            ]
          },
          "metadata": {}
        },
        {
          "output_type": "stream",
          "name": "stdout",
          "text": [
            "\n",
            "📊 Stage 2: Competitor identification and analysis\n"
          ]
        },
        {
          "output_type": "display_data",
          "data": {
            "text/plain": [
              "<IPython.core.display.Markdown object>"
            ],
            "text/markdown": "Okay, I will identify the top 3-5 direct competitors of Rivian and present a structured comparison based on the information available.\n\nHere's a comparative analysis of Rivian's top competitors:\n\n**Top Competitors:**\n\n1.  **Tesla**\n2.  **Ford (with F-150 Lightning)**\n3.  **General Motors (with Hummer EV and Silverado EV)**\n4.  **Lucid Motors**\n\n**Comparative Analysis:**\n\n| Feature                     | Rivian                                                                                                                                                 | Tesla                                                                                                                                                                                             | Ford (F-150 Lightning)                                                                                                                                  | General Motors (Hummer EV & Silverado EV)                                                                                                                                                                                              | Lucid Motors                                                                                                                                             |\n| :-------------------------- | :----------------------------------------------------------------------------------------------------------------------------------------------------- | :------------------------------------------------------------------------------------------------------------------------------------------------------------------------------------------------ | :-------------------------------------------------------------------------------------------------------------------------------------------------------- | :--------------------------------------------------------------------------------------------------------------------------------------------------------------------------------------------------------------------------------------- | :------------------------------------------------------------------------------------------------------------------------------------------------------- |\n| **1. Company Overview**      | Founded in 2009, focuses on electric adventure vehicles (R1T, R1S) and commercial EVs (EDV).                                                         | Founded in 2003, leader in electric vehicles and energy solutions.                                                                                                                            | Traditional automaker, now heavily invested in EVs, including the electric F-150 Lightning.                                                              | Legacy automaker transitioning to EVs, with models like the Hummer EV and Silverado EV.                                                                                                                                                | Founded in 2007, focuses on luxury electric vehicles.                                                                                                    |\n| **2. Market Share & Position** | Emerging player, focused on capturing the premium electric truck/SUV market. Q1 2024 was the 5th largest EV seller in the US.                       | Dominant market share in EVs, strong brand recognition. Holds 44% of the EV market share in America as of Q4 2024.                                                                               | Significant early sales of F-150 Lightning, leverages existing truck customer base.                                                                   | Growing presence in the electric truck market, leveraging the Hummer and Silverado brands.                                                                                                                                           | Niche player in the luxury EV market, seeking to establish itself with high-performance vehicles.                                                        |\n| **3. Key Differentiators**   | Adventure-focused vehicles, unique design, strong focus on off-road capabilities, partnership with Amazon for EDVs.                                  | Brand recognition, Supercharger network, advanced technology (Autopilot, AI), vertical integration (battery production).                                                                         | Brand recognition (F-150), established dealer network, affordability (compared to Rivian and Hummer EV).                                               | Brand recognition (Hummer, Silverado), extensive dealer network, Ultium battery platform.                                                                                                                                        | Luxury positioning, focus on range and performance, innovative battery technology.                                                                     |\n| **4. Recent Strategic Moves**  | Partnership with Volkswagen Group (JV for electrical architecture), launching R2 and R3 models, NACS adoption, acquisition of Iternio (ABRP). Also company launch focused on smaller electric vehicles. | Expanding production capacity (Gigafactories), launching new models (Cybertruck), continued development of autonomous driving technology, NACS adoption. | Scaling up F-150 Lightning production, investing in battery manufacturing, exploring new EV platforms.                                                | Scaling up Hummer EV and Silverado EV production, investing in Ultium battery platform, developing new EV models across various segments.                                                                                            | Focusing on expanding production capacity, launching new models (Gravity SUV), enhancing charging infrastructure.                                       |\n| **5. Strengths vs. Rivian**   | N/A                                                                                                                                                    | Brand recognition, established infrastructure, economies of scale, wider product portfolio.                                                                                                       | Established customer base, extensive dealer network, brand loyalty, more affordable options.                                                              | Brand recognition, established manufacturing and distribution network, diverse product portfolio, Ultium platform.                                                                                                                 | High performance, advanced technology, luxury positioning, superior range capabilities.                                                              |\n| **Weaknesses vs. Rivian**  | N/A                                                                                                                                                    | Less focused on adventure vehicles, perceived quality issues, reliance on a single CEO, controversial leadership.                                                                                   | Slower transition to EVs, legacy costs, reliance on traditional dealer model, less agile than pure EV players.                                         | Slower transition to EVs, legacy costs, dependence on dealer network, some design choices seen as polarizing (Hummer EV).                                                                                                     | Limited brand recognition, higher price point, smaller scale production.                                                                           |\n\n**Elaborations and Additional Points:**\n\n*   **Tesla:** Tesla's primary advantage remains its established brand, Supercharger network, and economies of scale. Tesla has a wider range of models and price points, making it accessible to a broader customer base. However, Tesla is not directly targeting the adventure vehicle segment as specifically as Rivian.\n*   **Ford (F-150 Lightning):** The F-150 Lightning leverages Ford's existing F-150 customer base and dealer network. It offers a more affordable entry point into the electric truck market than Rivian's R1T. However, the Lightning is not as focused on off-road capabilities or the \"adventure\" lifestyle as Rivian.\n*   **General Motors (Hummer EV & Silverado EV):** GM is leveraging its iconic Hummer and Silverado brands to enter the electric truck market. The Hummer EV is a premium, high-performance vehicle, while the Silverado EV aims for a broader customer base. GM's Ultium battery platform is a key competitive advantage.\n*   **Lucid Motors:** Lucid is focused on the luxury EV market, competing with Tesla's Model S and potentially the higher-end versions of Rivian's R1S. Lucid's strengths lie in its range and performance, but it faces challenges in scaling production and building brand awareness.\n* **Rivian's New Company (Also):** It will be in direct competition with Bird, Lime, and Superpedestrian.\n\nThis comparison provides a structured overview of Rivian's competitive landscape. The EV market is dynamic, and these positions may shift as new models are launched, production scales, and consumer preferences evolve.\n"
          },
          "metadata": {}
        },
        {
          "output_type": "stream",
          "name": "stdout",
          "text": [
            "\n",
            "📊 Stage 3: SWOT analysis for Rivian\n"
          ]
        },
        {
          "output_type": "display_data",
          "data": {
            "text/plain": [
              "<IPython.core.display.Markdown object>"
            ],
            "text/markdown": "Okay, I will conduct a detailed SWOT analysis for Rivian based on the information gathered, covering the points you specified.\n\n**Rivian SWOT Analysis:**\n\n**1. Strengths:** Internal advantages and capabilities\n\n*   **Unique Brand Positioning:** Rivian has successfully carved out a niche in the \"adventure vehicle\" market, differentiating itself from mainstream EV manufacturers like Tesla. This is evident in the design and capabilities of the R1T and R1S.\n*   **Partnership with Amazon:** The collaboration with Amazon for the Electric Delivery Van (EDV) provides a stable revenue stream and valuable real-world testing and development data. This contract guarantees a significant volume of sales.\n*   **Innovative Vehicle Design and Technology:** Rivian's vehicles are known for their unique design, robust engineering, and off-road capabilities. The \"tank turn\" feature on the R1T is a prime example of this innovation.\n*   **Strong Leadership (Visionary CEO):** RJ Scaringe's vision and leadership have been crucial in attracting investment, building a strong team, and guiding the company's strategic direction.\n*   **Increasing Gross Profit Margin:** Rivian's gross profit margin has increased by 47% YoY and by 44% from the previous quarter.\n\n**2. Weaknesses:** Internal disadvantages or limitations\n\n*   **Production Constraints and Scalability Challenges:** While production is increasing, Rivian still faces challenges in scaling up production to meet demand and achieve profitability. The initial production ramp-up has been slower than anticipated.\n*   **High Cash Burn Rate and Financial Losses:** Rivian is still operating at a significant net loss, and its cash burn rate remains high. This requires the company to continue raising capital, which could dilute shareholder value. Rivian posted a $4.75 billion loss in 2024.\n*   **Limited Service Infrastructure:** Rivian's service network is still relatively small compared to established automakers like Ford and GM. This could be a disadvantage in terms of customer support and maintenance. Rivian had 42 service centers as of December 2023.\n*   **Dependence on Key Suppliers:** Rivian relies on external suppliers for critical components like batteries, which could be a vulnerability if those suppliers face disruptions.\n*   **Limited Model Lineup:** Currently, Rivian's product portfolio is limited to the R1T, R1S, and EDV. This limits its ability to appeal to a broader range of customers compared to companies like Tesla or GM.\n\n**3. Opportunities:** External factors that could benefit the company\n\n*   **Growing Demand for Electric Vehicles:** The overall demand for EVs is increasing rapidly, driven by government incentives, environmental concerns, and technological advancements. This provides a large and growing market for Rivian's products.\n*   **Expansion into New Markets:** Rivian has the opportunity to expand its sales and operations into new international markets, such as Europe and Asia, to further diversify its revenue streams.\n*   **Development of New Products and Services:** Rivian can leverage its technology and brand to develop new products and services, such as battery storage solutions, charging infrastructure, and subscription-based services. Launching of Also indicates a move towards new products, specifically smaller electric vehicles.\n*   **Government Incentives and Regulations:** Government policies that promote EV adoption, such as tax credits and emissions regulations, can create a more favorable business environment for Rivian.\n*   **Partnerships and Collaborations:** Rivian can further strengthen its position by forming partnerships with other companies, such as technology providers, battery manufacturers, or energy companies. Partnership with Volkswagen Group.\n\n**4. Threats:** External factors that could negatively impact the company\n\n*   **Intense Competition:** The EV market is becoming increasingly competitive, with established automakers and new entrants vying for market share. Tesla, Ford, GM, and other companies are all investing heavily in EVs.\n*   **Supply Chain Disruptions:** Global supply chain disruptions, such as shortages of semiconductors or battery materials, could impact Rivian's production and profitability.\n*   **Economic Downturn:** An economic recession could reduce consumer spending on discretionary items like vehicles, negatively impacting Rivian's sales.\n*   **Changing Government Regulations:** Changes in government policies, such as the reduction or elimination of EV incentives, could reduce demand for Rivian's products.\n*   **Technological Advancements by Competitors:** Rapid technological advancements by competitors, such as the development of superior battery technology or autonomous driving systems, could erode Rivian's competitive advantage.\n"
          },
          "metadata": {}
        },
        {
          "output_type": "stream",
          "name": "stdout",
          "text": [
            "\n",
            "📊 Stage 4: Strategic recommendations\n"
          ]
        },
        {
          "output_type": "display_data",
          "data": {
            "text/plain": [
              "<IPython.core.display.Markdown object>"
            ],
            "text/markdown": "Okay, based on the competitive intelligence gathered, here are strategic recommendations for Rivian, formatted as actionable items that could be presented to executives:\n\n**Strategic Recommendations for Rivian:**\n\n**1. Leverage Identified Strengths:**\n\n*   **Recommendation 1: Amplify Adventure Brand Positioning:** Invest further in marketing and content that reinforces Rivian's \"adventure vehicle\" brand. Showcase real-world use cases of the R1T and R1S in outdoor activities, off-roading, and exploration.\n    *   **Action:** Develop a series of branded content campaigns featuring influencers and customers using Rivian vehicles in adventure settings.\n*   **Recommendation 2: Deepen Amazon Partnership & Explore New Commercial Opportunities:** Continue to deliver on the EDV contract with Amazon while also exploring opportunities to adapt the EDV platform for other commercial applications (e.g., delivery services, utilities).\n    *   **Action:** Conduct market research to identify potential commercial applications for the EDV platform beyond Amazon.\n*   **Recommendation 3: Invest in Differentiating Technology & Features:** Prioritize R&D investments in features that set Rivian apart, such as advanced off-road capabilities, innovative storage solutions, and user-friendly software interfaces.\n    *   **Action:** Establish a dedicated innovation team to focus on developing and implementing differentiating technologies and features.\n*   **Recommendation 4: Capitalize on Growing Gross Profit Margin:** Rivian can use this momentum to improve operating efficiencies and ensure long-term financial health.\n    *   **Action:** Focus on optimizing product processes to continue increasing margins.\n\n**2. Address or Mitigate Weaknesses:**\n\n*   **Recommendation 5: Aggressively Scale Production and Improve Efficiency:** Focus on increasing production capacity at the Normal, Illinois plant and the planned Georgia facility. Implement lean manufacturing principles and optimize the supply chain to reduce costs and improve efficiency.\n    *   **Action:** Set specific, measurable, achievable, relevant, and time-bound (SMART) goals for production volume and cost reduction.\n*   **Recommendation 6: Secure Additional Funding and Manage Cash Flow:** Explore opportunities to secure additional funding through strategic partnerships, debt financing, or equity offerings. Closely manage cash flow and prioritize investments with the highest potential return.\n    *   **Action:** Develop a detailed financial plan outlining funding needs, cash flow projections, and investment priorities.\n*   **Recommendation 7: Expand Service Infrastructure Proactively:** Expand the service network by establishing new service centers, mobile service units, and partnerships with independent repair shops. Prioritize areas with high concentrations of Rivian owners.\n    *   **Action:** Develop a service network expansion plan based on customer density and demand.\n*   **Recommendation 8: Diversify Supply Chain and Build Redundancy:** Identify alternative suppliers for critical components and build redundancy into the supply chain to mitigate the risk of disruptions. Consider vertical integration for key components like battery manufacturing.\n    *   **Action:** Conduct a comprehensive supply chain risk assessment and develop mitigation strategies.\n*   **Recommendation 9: Broaden Product Lineup:** Accelerate the development and launch of the R2 and R3 models to appeal to a wider range of customers. Consider offering different battery pack options and trim levels to expand the addressable market.\n    *   **Action:** Develop a detailed product roadmap outlining the launch timeline and target market for each new model.\n\n**3. Capitalize on Market Opportunities:**\n\n*   **Recommendation 10: Accelerate International Expansion:** Prioritize expansion into key international markets, such as Europe and Asia, by establishing local sales and service operations. Adapt the product lineup to meet local regulations and consumer preferences.\n    *   **Action:** Conduct market research to identify the most promising international markets for Rivian.\n*   **Recommendation 11: Develop Integrated Energy Solutions:** Leverage Rivian's expertise in batteries and charging technology to develop integrated energy solutions for homes and businesses. Offer solar panel installation, energy storage systems, and smart charging solutions.\n    *   **Action:** Establish a dedicated business unit focused on developing and marketing integrated energy solutions.\n*   **Recommendation 12: Offer Subscription-Based Services:** Develop subscription-based services for features like advanced driver-assistance systems (ADAS), over-the-air software updates, and vehicle maintenance.\n    *   **Action:** Conduct market research to identify the most appealing subscription-based service offerings for Rivian customers.\n\n**4. Defend Against Competitive Threats:**\n\n*   **Recommendation 13: Monitor Competitor Activities and Differentiate Product Offerings:** Continuously monitor the activities of competitors like Tesla, Ford, and GM and differentiate Rivian's product offerings through unique design, performance, and features.\n    *   **Action:** Establish a competitive intelligence team to track competitor activities and identify opportunities for differentiation.\n*   **Recommendation 14: Strengthen Brand Loyalty and Customer Advocacy:** Invest in building strong relationships with customers and fostering brand loyalty through exceptional customer service, exclusive events, and online communities.\n    *   **Action:** Develop a comprehensive customer relationship management (CRM) program to enhance customer engagement and loyalty.\n*   **Recommendation 15: Advocate for Favorable Government Policies:** Actively engage with government policymakers to advocate for policies that support EV adoption, such as tax credits, infrastructure investments, and emissions regulations.\n    *   **Action:** Establish a government relations team to represent Rivian's interests and advocate for favorable policies.\n\n**5. Potential Areas for Innovation or Market Disruption:**\n\n*   **Recommendation 16: Develop Advanced Battery Technology:** Invest in research and development of advanced battery technology to improve range, charging speed, and energy density. Explore solid-state batteries and other next-generation technologies.\n    *   **Action:** Establish a dedicated battery research and development team.\n*   **Recommendation 17: Explore Autonomous Driving Capabilities:** Develop advanced autonomous driving capabilities to enhance safety, convenience, and efficiency. Partner with technology companies or develop proprietary solutions.\n    *   **Action:** Establish a dedicated autonomous driving development team.\n*   **Recommendation 18: Focus on the \"Last Mile\" Electric Transportation Solutions:** Expand into new market by continuing the Also company launch to develop \"last mile\" EV products. Focus on providing smaller electric vehicles to address delivery demand.\n    *   **Action:** Focus on small electric vehicles such as bikes and scooters.\n\nThese strategic recommendations provide a comprehensive roadmap for Rivian to leverage its strengths, address its weaknesses, capitalize on market opportunities, and defend against competitive threats. By implementing these recommendations, Rivian can strengthen its position in the rapidly evolving EV market and achieve long-term success.\n"
          },
          "metadata": {}
        },
        {
          "output_type": "stream",
          "name": "stdout",
          "text": [
            "\n",
            "📊 Competitive Analysis Search Utilization:\n"
          ]
        },
        {
          "output_type": "display_data",
          "data": {
            "text/plain": [
              "<Figure size 1000x500 with 1 Axes>"
            ],
            "image/png": "[encoded data removed]"
          },
          "metadata": {}
        },
        {
          "output_type": "stream",
          "name": "stdout",
          "text": [
            "\n",
            "# This framework demonstrates how to use search capabilities for comprehensive competitive analysis\n",
            "# The structured approach ensures thorough coverage of all aspects of competitive intelligence\n",
            "# Notice how the search tool grounds the analysis in factual, up-to-date information\n"
          ]
        }
      ]
    },
    {
      "cell_type": "code",
      "source": [
        "summary = \"\"\"\n",
        "## Workshop Summary\n",
        "\n",
        "In this comprehensive workshop, we've explored Gemini 2.0's advanced search capabilities:\n",
        "\n",
        "### Key Concepts Covered\n",
        "- Setting up the Google Gen AI SDK environment\n",
        "- Comparing responses with and without search\n",
        "- Maintaining context in search-based conversations\n",
        "- Creating data visualizations with search-sourced data\n",
        "- Combining search with multimodal inputs\n",
        "- Practical applications across various domains\n",
        "- Advanced search techniques and best practices\n",
        "- Integrating search with function calling\n",
        "\n",
        "### Next Steps for Your Learning Journey\n",
        "\n",
        "1. **Experiment with Different Models**\n",
        "   - Try both Flash and Pro models to understand their strengths\n",
        "   - Observe how different models utilize search resources\n",
        "\n",
        "2. **Build a Practical Project**\n",
        "   - Create a research assistant, market analyzer, or travel planner\n",
        "   - Combine search with other capabilities like code generation\n",
        "\n",
        "3. **Explore Advanced Features**\n",
        "   - Dive into multimodal capabilities with image analysis\n",
        "   - Experiment with combining function calling and search\n",
        "\n",
        "4. **Contribute to the Community**\n",
        "   - Share your findings and innovative applications\n",
        "   - Contribute examples to open-source Gemini projects\n",
        "\n",
        "5. **Stay Updated**\n",
        "   - Gemini models and capabilities are constantly evolving\n",
        "   - Check the official documentation for the latest features\n",
        "\n",
        "### Resources\n",
        "- Google Gen AI SDK Documentation: https://ai.google.dev/docs\n",
        "- Gemini API Cookbook: https://github.com/google-gemini/cookbook/\n",
        "- Google AI Studio: https://ai.google.dev/\n",
        "\"\"\"\n",
        "\n",
        "display(Markdown(summary))\n",
        "\n",
        "print(\"Thank you for participating in this workshop!\")\n",
        "print(\"We hope you're inspired to build amazing applications with Gemini 2.0's search capabilities.\")"
      ],
      "metadata": {
        "colab": {
          "base_uri": "https://localhost:8080/",
          "height": 767
        },
        "id": "PJCliD0U9OJu",
        "outputId": "8524b242-fbca-4329-fa03-5515f743ef68"
      },
      "execution_count": 27,
      "outputs": [
        {
          "output_type": "display_data",
          "data": {
            "text/plain": [
              "<IPython.core.display.Markdown object>"
            ],
            "text/markdown": "\n## Workshop Summary\n\nIn this comprehensive workshop, we've explored Gemini 2.0's advanced search capabilities:\n\n### Key Concepts Covered\n- Setting up the Google Gen AI SDK environment\n- Comparing responses with and without search\n- Maintaining context in search-based conversations\n- Creating data visualizations with search-sourced data\n- Combining search with multimodal inputs\n- Practical applications across various domains\n- Advanced search techniques and best practices\n- Integrating search with function calling\n\n### Next Steps for Your Learning Journey\n\n1. **Experiment with Different Models**\n   - Try both Flash and Pro models to understand their strengths\n   - Observe how different models utilize search resources\n\n2. **Build a Practical Project**\n   - Create a research assistant, market analyzer, or travel planner\n   - Combine search with other capabilities like code generation\n\n3. **Explore Advanced Features**\n   - Dive into multimodal capabilities with image analysis\n   - Experiment with combining function calling and search\n\n4. **Contribute to the Community**\n   - Share your findings and innovative applications\n   - Contribute examples to open-source Gemini projects\n\n5. **Stay Updated**\n   - Gemini models and capabilities are constantly evolving\n   - Check the official documentation for the latest features\n\n### Resources\n- Google Gen AI SDK Documentation: https://ai.google.dev/docs\n- Gemini API Cookbook: https://github.com/google-gemini/cookbook/\n- Google AI Studio: https://ai.google.dev/\n"
          },
          "metadata": {}
        },
        {
          "output_type": "stream",
          "name": "stdout",
          "text": [
            "Thank you for participating in this workshop!\n",
            "We hope you're inspired to build amazing applications with Gemini 2.0's search capabilities.\n"
          ]
        }
      ]
    },
    {
      "cell_type": "code",
      "source": [],
      "metadata": {
        "id": "DGXwPtenOT2z"
      },
      "execution_count": null,
      "outputs": []
    }
  ]
}