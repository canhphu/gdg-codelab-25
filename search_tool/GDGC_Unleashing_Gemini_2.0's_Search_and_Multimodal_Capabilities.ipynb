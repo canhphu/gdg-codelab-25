{
  "nbformat": 4,
  "nbformat_minor": 0,
  "metadata": {
    "colab": {
      "provenance": [],
      "toc_visible": true,
      "authorship_tag": "ABX9TyPU6zKZvxlJvngWX+1oM108",
      "include_colab_link": true
    },
    "kernelspec": {
      "name": "python3",
      "display_name": "Python 3"
    },
    "language_info": {
      "name": "python"
    }
  },
  "cells": [
    {
      "cell_type": "markdown",
      "metadata": {
        "id": "view-in-github",
        "colab_type": "text"
      },
      "source": [
        "<a href=\"https://colab.research.google.com/github/linhkid/gdg-codelab-25/blob/main/search_tool/GDGC_Unleashing_Gemini_2.0's_Search_and_Multimodal_Capabilities.ipynb\" target=\"_parent\"><img src=\"https://colab.research.google.com/assets/colab-badge.svg\" alt=\"Open In Colab\"/></a>"
      ]
    },
    {
      "cell_type": "markdown",
      "source": [
        "# Introduction"
      ],
      "metadata": {
        "id": "9aMNWK97jGlo"
      }
    },
    {
      "cell_type": "markdown",
      "source": [
        "Welcome to this Codelab! We'll explore how to leverage Gemini 2.0's built-in Google Search tool for real-time information retrieval, combine it with multimodal capabilities, and build practical applications with the Google Gen AI SDK.\n"
      ],
      "metadata": {
        "id": "qJf-4L8DxhJD"
      }
    },
    {
      "cell_type": "markdown",
      "source": [
        "# Setup Section\n",
        "\n",
        "## 1. Install Dependencies and Setup Environment\n",
        "\n",
        "### Install the Google Gen AI SDK\n",
        "### !pip install -U -q google-genai matplotlib pandas plotly python-dateutil"
      ],
      "metadata": {
        "id": "SpM7TwYpxrgg"
      }
    },
    {
      "cell_type": "code",
      "source": [
        "!pip install -U -q google-genai matplotlib pandas plotly python-dateutil"
      ],
      "metadata": {
        "id": "8HgX5Rf68R_S",
        "outputId": "6401724b-0430-42d3-eaed-8ceaeec8e094",
        "colab": {
          "base_uri": "https://localhost:8080/"
        }
      },
      "execution_count": 1,
      "outputs": [
        {
          "output_type": "stream",
          "name": "stdout",
          "text": [
            "\u001b[2K     \u001b[90m━━━━━━━━━━━━━━━━━━━━━━━━━━━━━━━━━━━━━━━━\u001b[0m \u001b[32m89.9/89.9 kB\u001b[0m \u001b[31m865.0 kB/s\u001b[0m eta \u001b[36m0:00:00\u001b[0m\n",
            "\u001b[2K   \u001b[90m━━━━━━━━━━━━━━━━━━━━━━━━━━━━━━━━━━━━━━━━\u001b[0m \u001b[32m149.6/149.6 kB\u001b[0m \u001b[31m4.4 MB/s\u001b[0m eta \u001b[36m0:00:00\u001b[0m\n",
            "\u001b[2K   \u001b[90m━━━━━━━━━━━━━━━━━━━━━━━━━━━━━━━━━━━━━━━━\u001b[0m \u001b[32m8.6/8.6 MB\u001b[0m \u001b[31m27.8 MB/s\u001b[0m eta \u001b[36m0:00:00\u001b[0m\n",
            "\u001b[2K   \u001b[90m━━━━━━━━━━━━━━━━━━━━━━━━━━━━━━━━━━━━━━━━\u001b[0m \u001b[32m13.1/13.1 MB\u001b[0m \u001b[31m30.1 MB/s\u001b[0m eta \u001b[36m0:00:00\u001b[0m\n",
            "\u001b[2K   \u001b[90m━━━━━━━━━━━━━━━━━━━━━━━━━━━━━━━━━━━━━━━━\u001b[0m \u001b[32m14.8/14.8 MB\u001b[0m \u001b[31m17.5 MB/s\u001b[0m eta \u001b[36m0:00:00\u001b[0m\n",
            "\u001b[2K   \u001b[90m━━━━━━━━━━━━━━━━━━━━━━━━━━━━━━━━━━━━━━━━\u001b[0m \u001b[32m229.9/229.9 kB\u001b[0m \u001b[31m4.7 MB/s\u001b[0m eta \u001b[36m0:00:00\u001b[0m\n",
            "\u001b[?25h\u001b[31mERROR: pip's dependency resolver does not currently take into account all the packages that are installed. This behaviour is the source of the following dependency conflicts.\n",
            "google-colab 1.0.0 requires pandas==2.2.2, but you have pandas 2.2.3 which is incompatible.\u001b[0m\u001b[31m\n",
            "\u001b[0m"
          ]
        }
      ]
    },
    {
      "cell_type": "code",
      "source": [
        "import os\n",
        "import json\n",
        "import time\n",
        "import numpy as np\n",
        "import pandas as pd\n",
        "import matplotlib.pyplot as plt\n",
        "from datetime import datetime, timedelta\n",
        "from IPython.display import display, HTML, Markdown\n",
        "from google.colab import userdata\n",
        "\n",
        "print(\"--- 1. Setting up environment ---\")\n",
        "print(\"# Required packages installed. Setting up your API key next.\")\n",
        "\n",
        "# Load the API key from Colab secrets\n",
        "# For security, we use Colab's userdata feature\n",
        "try:\n",
        "    # @markdown Make sure you have saved your Google AI API key as a Colab secret named 'GOOGLE_API_KEY'\n",
        "    os.environ['GOOGLE_API_KEY'] = userdata.get('GOOGLE_API_KEY')\n",
        "    print(\"✅ API key loaded successfully!\")\n",
        "except Exception as e:\n",
        "    print(f\"❌ Error loading API key: {e}\")\n",
        "    print(\"Please set up your API key by following these steps:\")\n",
        "    print(\"1. Go to https://ai.google.dev/ to get your API key\")\n",
        "    print(\"2. In Colab, go to 'Secrets' in the left sidebar\")\n",
        "    print(\"3. Add a new secret named 'GOOGLE_API_KEY' with your key as the value\")\n",
        "    print(\"4. Re-run this cell\")\n"
      ],
      "metadata": {
        "colab": {
          "base_uri": "https://localhost:8080/"
        },
        "id": "JMvkfvtUxzN5",
        "outputId": "fb87d084-a683-423a-c2cc-9b8453e41c48"
      },
      "execution_count": 2,
      "outputs": [
        {
          "output_type": "stream",
          "name": "stdout",
          "text": [
            "--- 1. Setting up environment ---\n",
            "# Required packages installed. Setting up your API key next.\n",
            "✅ API key loaded successfully!\n"
          ]
        }
      ]
    },
    {
      "cell_type": "markdown",
      "source": [
        "# Gemini Model Initialization\n",
        "## 2. Initialize Gemini 2.0 Model"
      ],
      "metadata": {
        "id": "P_pNvSeAyB98"
      }
    },
    {
      "cell_type": "code",
      "source": [
        "from google import genai\n",
        "\n",
        "# Initialize the client with your API key\n",
        "client = genai.Client(api_key=os.environ['GOOGLE_API_KEY'],\n",
        "                     http_options={'api_version': 'v1alpha'})\n",
        "\n",
        "\n",
        "# Available models - uncomment the one you want to use\n",
        "MODEL = 'gemini-2.0-flash'  # Fast, good for quick searches and responses\n",
        "MODEL_PRO = 'gemini-2.5-pro-exp-03-25'  # More capable but slower, and often being overloaded\n",
        "#MODEL = 'gemini-2.0-flash-thinking-exp-01-21'\n",
        "\n",
        "print(f\"✅ Using model: {MODEL}\")\n",
        "print(\"# Note: Different models have different capabilities and pricing.\")\n",
        "print(\"# The 'flash' model is faster while 'pro' is more capable.\")"
      ],
      "metadata": {
        "colab": {
          "base_uri": "https://localhost:8080/"
        },
        "id": "4fL7Us04yHRW",
        "outputId": "bce51428-c5d6-4a00-c488-192f795b526b"
      },
      "execution_count": 3,
      "outputs": [
        {
          "output_type": "stream",
          "name": "stdout",
          "text": [
            "✅ Using model: gemini-2.0-flash\n",
            "# Note: Different models have different capabilities and pricing.\n",
            "# The 'flash' model is faster while 'pro' is more capable.\n"
          ]
        }
      ]
    },
    {
      "cell_type": "markdown",
      "source": [
        "# Helper Functions\n",
        "## 3. Define Helper Functions for Response Display"
      ],
      "metadata": {
        "id": "f6fisRqryJTL"
      }
    },
    {
      "cell_type": "code",
      "source": [
        "def show_parts(response):\n",
        "    \"\"\"Display various parts of a Gemini response including text, code, and search results.\"\"\"\n",
        "    parts = response.candidates[0].content.parts\n",
        "\n",
        "    if parts is None:\n",
        "        finish_reason = response.candidates[0].finish_reason\n",
        "        print(f'Finish reason: {finish_reason}')\n",
        "        return\n",
        "\n",
        "    for part in response.candidates[0].content.parts:\n",
        "        if part.text:\n",
        "            display(Markdown(part.text))\n",
        "        elif hasattr(part, 'executable_code') and part.executable_code:\n",
        "            display(Markdown(f'```python\\n{part.executable_code.code}\\n```'))\n",
        "        else:\n",
        "            print(\"Other part type:\")\n",
        "            print(json.dumps(part.model_dump(exclude_none=True), indent=2))\n",
        "\n",
        "    # Display search results if any\n",
        "    grounding_metadata = response.candidates[0].grounding_metadata\n",
        "    if grounding_metadata and grounding_metadata.search_entry_point:\n",
        "        print(\"\\n📊 Search Results Used:\")\n",
        "        display(HTML(grounding_metadata.search_entry_point.rendered_content))"
      ],
      "metadata": {
        "id": "jZW-8UAxyOZZ"
      },
      "execution_count": 4,
      "outputs": []
    },
    {
      "cell_type": "code",
      "source": [
        "def visualize_search_usage(responses):\n",
        "    \"\"\"Create a visualization of how many searches were used in responses.\"\"\"\n",
        "    search_counts = []\n",
        "\n",
        "    # Process multiple responses to count search usage\n",
        "    for i, resp in enumerate(responses):\n",
        "        count = 0\n",
        "        if hasattr(resp.candidates[0], 'grounding_metadata') and resp.candidates[0].grounding_metadata:\n",
        "            meta = resp.candidates[0].grounding_metadata\n",
        "            if hasattr(meta, 'search_entry_point') and meta.search_entry_point:\n",
        "                # Count the number of search queries\n",
        "                count = len(meta.search_entry_point.references) if hasattr(meta.search_entry_point, 'references') else 1\n",
        "        search_counts.append(count)\n",
        "\n",
        "    # Create a simple bar chart\n",
        "    plt.figure(figsize=(10, 5))\n",
        "    plt.bar(range(len(search_counts)), search_counts, color='skyblue')\n",
        "    plt.xlabel('Query Number')\n",
        "    plt.ylabel('Number of Searches Used')\n",
        "    plt.title('Search Utilization per Query')\n",
        "    plt.xticks(range(len(search_counts)))\n",
        "    plt.grid(axis='y', linestyle='--', alpha=0.7)\n",
        "    plt.show()\n"
      ],
      "metadata": {
        "id": "p_uzGkQBySWk"
      },
      "execution_count": 5,
      "outputs": []
    },
    {
      "cell_type": "code",
      "source": [
        "print(\"✅ Helper functions defined for displaying responses and visualizing search usage\")\n",
        "print(\"# These functions will help us examine how Gemini uses search and processes information.\")"
      ],
      "metadata": {
        "colab": {
          "base_uri": "https://localhost:8080/"
        },
        "id": "QpTh5bCWyW23",
        "outputId": "500608d8-0d3c-4284-bbb9-80b39a5645dc"
      },
      "execution_count": 6,
      "outputs": [
        {
          "output_type": "stream",
          "name": "stdout",
          "text": [
            "✅ Helper functions defined for displaying responses and visualizing search usage\n",
            "# These functions will help us examine how Gemini uses search and processes information.\n"
          ]
        }
      ]
    },
    {
      "cell_type": "markdown",
      "source": [
        "# Basic Search Example\n",
        "\n",
        "## 4. Comparing Responses With and Without Search\n",
        "\n"
      ],
      "metadata": {
        "id": "w7SgKf6iyVBJ"
      }
    },
    {
      "cell_type": "code",
      "source": [
        "print(\"\\n--- 4. Basic Search Comparison Demo ---\")\n",
        "print(\"# Let's compare how Gemini responds with and without search capabilities\")\n",
        "\n",
        "# Chat without search\n",
        "regular_chat = client.chats.create(model=MODEL)\n",
        "\n",
        "q4 = \"What are the latest developments in quantum computing?\"\n",
        "print(\"\\n📝 Query without search: '{}'\".format(q4))\n",
        "regular_response = regular_chat.send_message(q4)\n",
        "print(\"\\n🤖 Response WITHOUT search tool:\")\n",
        "show_parts(regular_response)\n",
        "\n",
        "# Wait a moment before next query\n",
        "time.sleep(2)\n",
        "\n",
        "# Chat with search enabled\n",
        "search_tool = {'google_search': {}}\n",
        "search_chat = client.chats.create(model=MODEL, config={'tools': [search_tool]})\n",
        "\n",
        "print(\"\\n📝 Same query WITH search: '{}'\".format(q4))\n",
        "search_response = search_chat.send_message(q4)\n",
        "print(\"\\n🤖 Response WITH search tool:\")\n",
        "show_parts(search_response)\n",
        "\n",
        "print(\"\\n# Notice the differences in specificity, recency, and detail between the two responses.\")\n",
        "print(\"# The search-enabled response can cite recent developments and specific breakthroughs.\")"
      ],
      "metadata": {
        "colab": {
          "base_uri": "https://localhost:8080/",
          "height": 1000
        },
        "id": "RYz80tuJyasd",
        "outputId": "352f2c32-87db-49ce-d2b3-f5aa9397319a"
      },
      "execution_count": 7,
      "outputs": [
        {
          "output_type": "stream",
          "name": "stdout",
          "text": [
            "\n",
            "--- 4. Basic Search Comparison Demo ---\n",
            "# Let's compare how Gemini responds with and without search capabilities\n",
            "\n",
            "📝 Query without search: 'What are the latest developments in quantum computing?'\n",
            "\n",
            "🤖 Response WITHOUT search tool:\n"
          ]
        },
        {
          "output_type": "display_data",
          "data": {
            "text/plain": [
              "<IPython.core.display.Markdown object>"
            ],
            "text/markdown": "Quantum computing is a rapidly evolving field, with breakthroughs happening constantly. Here's a summary of some of the latest developments, broken down into key areas:\n\n**1. Hardware Advancements:**\n\n*   **Increased Qubit Count and Connectivity:** Companies like IBM, Google, Quantinuum, and IonQ are continuously increasing the number of qubits in their processors. More importantly, they're focusing on improving connectivity between qubits, which is crucial for running complex algorithms. IBM recently unveiled the Condor quantum processor which contains 1,121 qubits.\n*   **Improved Qubit Coherence and Fidelity:**  Longer coherence times (how long qubits can maintain their quantum state) and higher fidelity (how accurate the operations on qubits are) are critical for practical quantum computation. There's significant progress in materials science, control systems, and error mitigation techniques to address these challenges.\n*   **Diverse Qubit Technologies:**  Beyond superconducting qubits (the dominant technology), other promising platforms are gaining traction:\n    *   **Trapped Ions:** Known for high fidelity and long coherence times.  IonQ is commercially available, and other companies are actively developing trapped-ion systems.\n    *   **Neutral Atoms:** Scalable and potentially high fidelity. Companies like ColdQuanta are making strides in this area.\n    *   **Photonic Qubits:**  Good for long-distance quantum communication and potentially fault-tolerant computation.  Companies like Xanadu are developing photonic quantum computers.\n    *   **Silicon Qubits:** Leveraging existing semiconductor manufacturing infrastructure, potentially offering scalability.\n    *   **Topological Qubits:**  Theoretically highly resistant to noise, but still in early stages of development.\n*   **Cryogenic Infrastructure Improvements:**  Quantum computers require extremely low temperatures. Advances in cryogenics are making it easier to cool and control large quantum systems.\n\n**2. Software and Algorithm Development:**\n\n*   **Quantum Error Correction (QEC):** A critical area.  Researchers are developing and testing error correction codes to protect quantum information from noise. Significant progress is being made in understanding the overhead required for QEC and developing more efficient codes. Fault-tolerant quantum computing relies on effective QEC.\n*   **Quantum Algorithm Development:** Research continues on developing new and improving existing quantum algorithms for various applications, including:\n    *   **Quantum Chemistry:** Simulating molecules for drug discovery and materials science.\n    *   **Optimization:** Solving complex optimization problems in logistics, finance, and other areas.\n    *   **Machine Learning:** Developing quantum machine learning algorithms that can outperform classical algorithms for certain tasks.\n    *   **Cryptography:** Exploring post-quantum cryptography to protect data from future quantum attacks.\n*   **Quantum Software Development Kits (SDKs):**  Companies are providing more user-friendly SDKs (e.g., Qiskit from IBM, Cirq from Google, PennyLane from Xanadu) to make it easier for developers to write and run quantum programs.  These SDKs are becoming more powerful and accessible.\n*   **Quantum Compilers:** Improvements in quantum compilers are making it possible to translate high-level quantum programs into machine code that can be executed on quantum hardware more efficiently.\n\n**3. Applications and Use Cases:**\n\n*   **Quantum Chemistry and Materials Science:** This remains a leading application area.  Researchers are using quantum computers to simulate the properties of molecules and materials, with the goal of discovering new drugs, catalysts, and other materials.\n*   **Financial Modeling:**  Exploring the use of quantum computers for portfolio optimization, risk management, and fraud detection.\n*   **Logistics and Supply Chain Optimization:**  Quantum algorithms are being investigated for optimizing routing, scheduling, and resource allocation in complex supply chains.\n*   **Drug Discovery:** Quantum computing is being used to simulate molecular interactions and identify potential drug candidates.\n*   **Quantum Sensing:** Leveraging quantum phenomena for highly sensitive sensors with applications in medical imaging, environmental monitoring, and navigation.\n\n**4.  Quantum Cloud Services and Accessibility:**\n\n*   **Quantum Cloud Platforms:**  Major companies (IBM, Amazon, Microsoft, Google, etc.) offer quantum computing resources through the cloud, making it accessible to a wider range of users.\n*   **Hybrid Quantum-Classical Computing:**  Integrating quantum processors with classical computers to leverage the strengths of both.  This is seen as a crucial step towards practical quantum computing.  Many applications will likely involve hybrid approaches.\n\n**Key Trends and Challenges:**\n\n*   **Scalability:** Building larger and more powerful quantum computers with more qubits remains a major challenge.\n*   **Error Correction:** Achieving fault-tolerant quantum computing through effective error correction is essential for running complex algorithms.\n*   **Algorithm Development:**  Developing quantum algorithms that can demonstrably outperform classical algorithms for real-world problems is crucial.\n*   **Quantum Skills Gap:** There's a shortage of skilled quantum computing researchers, developers, and engineers.\n*   **Standardization:** The lack of standardized programming languages, hardware interfaces, and performance metrics hinders the development of the quantum computing ecosystem.\n*   **Commercialization:**  Transitioning from research to commercial applications is a key focus.\n\n**Recent Specific Examples (within the last few months):**\n\n*   **Improved Error Mitigation Techniques:** Researchers are consistently developing new methods to mitigate the effects of noise on quantum computations, even without full error correction.\n*   **Advancements in Quantum Simulation:** More complex molecular simulations are being run on quantum hardware, pushing the boundaries of what's possible.\n*   **New Quantum Algorithms:** Novel quantum algorithms are being proposed and tested for specific applications, such as solving linear systems of equations or performing certain machine learning tasks.\n*   **Increased Investment:** Government and private sector investment in quantum computing continues to grow, fueling further research and development.\n\n**In Summary:**\n\nQuantum computing is advancing at a rapid pace, with progress being made on multiple fronts. While fully fault-tolerant, universal quantum computers are still years away, the field is making steady progress toward that goal. The focus is now on building more robust and scalable systems, developing better algorithms, and exploring practical applications that can demonstrate the potential of quantum computing. It's an exciting area to watch, with the potential to revolutionize many aspects of science, technology, and society.\n"
          },
          "metadata": {}
        },
        {
          "output_type": "stream",
          "name": "stdout",
          "text": [
            "\n",
            "📝 Same query WITH search: 'What are the latest developments in quantum computing?'\n",
            "\n",
            "🤖 Response WITH search tool:\n"
          ]
        },
        {
          "output_type": "display_data",
          "data": {
            "text/plain": [
              "<IPython.core.display.Markdown object>"
            ],
            "text/markdown": "Here are some of the latest developments in quantum computing:\n\n**Quantum Processors and Hardware**\n*   **New Quantum Computing Chip:** Amazon unveiled its first quantum computing chip, Ocelot, which uses scalable architecture to reduce the costs of implementing quantum error correction.\n*   **Advancements in Qubit Technology:** There are improvements in the development of more stable qubits, such as topological qubits. An international team has also begun to use magnets to entangle qubits.\n*   **Topological Quantum Processor:** Physicists have unveiled an eight-qubit topological quantum processor.\n*   **Quantum Dot Discovery:** Quantum dot discovery for LEDs, which could lead to brighter and more eco-friendly displays.\n\n**Error Correction and Stability**\n*   **Error Correction Techniques:** Notable advancements in error correction techniques, essential for stabilizing qubits and reducing errors during quantum computations.\n*   **Cat Qubits:** Ocelot's architecture uses a “cat qubit,” which suppresses certain forms of errors and minimizes the resources required to correct these errors.\n\n**Quantum Algorithms and Software**\n\n*   **Quantum Algorithms:** New algorithms designed to take advantage of quantum computing's unique capabilities are being developed, offering the potential to solve problems in fields such as cryptography, materials science, and machine learning more efficiently than ever before.\n*   **New Computational Tool:** A new computational tool has been developed to describe how the atoms within quantum materials behave when they absorb and emit light.\n\n**Quantum Applications**\n\n*   **Materials Science:** Quantum computing could help in the discovery of a new material that can \"heal\" itself, repairing cracks in bridges or airplane parts.\n*   **Chemical Processes:** Quantum computing can make chemical processes more efficient and safer through simulating chemical reactions. For example, it could reduce the emissions from ammonia manufacturing.\n*   **Drug Discovery:** Quantum computers can revolutionize drug discovery by simulating molecular interactions with unprecedented accuracy.\n*   **Weather Forecasting:** Albert Einstein Hospital in São Paulo Launches Quantum Initiative for Medicine and Extreme Weather Forecasting.\n\n**Quantum Cloud Services**\n\n*   **Commercial Quantum Cloud Services:** Quantum computing is gradually becoming more accessible, thanks to the expansion of quantum cloud services offered by tech giants such as IBM, Google, and Amazon.\n\n**Quantum-Classical Hybrid Systems**\n\n*   **Quantum-Classical Hybrid Systems:** Development of quantum-classical hybrid systems, combining the strengths of classical computing with the unique capabilities of quantum processors, allowing for more efficient problem-solving.\n"
          },
          "metadata": {}
        },
        {
          "output_type": "stream",
          "name": "stdout",
          "text": [
            "\n",
            "📊 Search Results Used:\n"
          ]
        },
        {
          "output_type": "display_data",
          "data": {
            "text/plain": [
              "<IPython.core.display.HTML object>"
            ],
            "text/html": [
              "<style>\n",
              ".container {\n",
              "  align-items: center;\n",
              "  border-radius: 8px;\n",
              "  display: flex;\n",
              "  font-family: Google Sans, Roboto, sans-serif;\n",
              "  font-size: 14px;\n",
              "  line-height: 20px;\n",
              "  padding: 8px 12px;\n",
              "}\n",
              ".chip {\n",
              "  display: inline-block;\n",
              "  border: solid 1px;\n",
              "  border-radius: 16px;\n",
              "  min-width: 14px;\n",
              "  padding: 5px 16px;\n",
              "  text-align: center;\n",
              "  user-select: none;\n",
              "  margin: 0 8px;\n",
              "  -webkit-tap-highlight-color: transparent;\n",
              "}\n",
              ".carousel {\n",
              "  overflow: auto;\n",
              "  scrollbar-width: none;\n",
              "  white-space: nowrap;\n",
              "  margin-right: -12px;\n",
              "}\n",
              ".headline {\n",
              "  display: flex;\n",
              "  margin-right: 4px;\n",
              "}\n",
              ".gradient-container {\n",
              "  position: relative;\n",
              "}\n",
              ".gradient {\n",
              "  position: absolute;\n",
              "  transform: translate(3px, -9px);\n",
              "  height: 36px;\n",
              "  width: 9px;\n",
              "}\n",
              "@media (prefers-color-scheme: light) {\n",
              "  .container {\n",
              "    background-color: #fafafa;\n",
              "    box-shadow: 0 0 0 1px #0000000f;\n",
              "  }\n",
              "  .headline-label {\n",
              "    color: #1f1f1f;\n",
              "  }\n",
              "  .chip {\n",
              "    background-color: #ffffff;\n",
              "    border-color: #d2d2d2;\n",
              "    color: #5e5e5e;\n",
              "    text-decoration: none;\n",
              "  }\n",
              "  .chip:hover {\n",
              "    background-color: #f2f2f2;\n",
              "  }\n",
              "  .chip:focus {\n",
              "    background-color: #f2f2f2;\n",
              "  }\n",
              "  .chip:active {\n",
              "    background-color: #d8d8d8;\n",
              "    border-color: #b6b6b6;\n",
              "  }\n",
              "  .logo-dark {\n",
              "    display: none;\n",
              "  }\n",
              "  .gradient {\n",
              "    background: linear-gradient(90deg, #fafafa 15%, #fafafa00 100%);\n",
              "  }\n",
              "}\n",
              "@media (prefers-color-scheme: dark) {\n",
              "  .container {\n",
              "    background-color: #1f1f1f;\n",
              "    box-shadow: 0 0 0 1px #ffffff26;\n",
              "  }\n",
              "  .headline-label {\n",
              "    color: #fff;\n",
              "  }\n",
              "  .chip {\n",
              "    background-color: #2c2c2c;\n",
              "    border-color: #3c4043;\n",
              "    color: #fff;\n",
              "    text-decoration: none;\n",
              "  }\n",
              "  .chip:hover {\n",
              "    background-color: #353536;\n",
              "  }\n",
              "  .chip:focus {\n",
              "    background-color: #353536;\n",
              "  }\n",
              "  .chip:active {\n",
              "    background-color: #464849;\n",
              "    border-color: #53575b;\n",
              "  }\n",
              "  .logo-light {\n",
              "    display: none;\n",
              "  }\n",
              "  .gradient {\n",
              "    background: linear-gradient(90deg, #1f1f1f 15%, #1f1f1f00 100%);\n",
              "  }\n",
              "}\n",
              "</style>\n",
              "<div class=\"container\">\n",
              "  <div class=\"headline\">\n",
              "    <svg class=\"logo-light\" width=\"18\" height=\"18\" viewBox=\"9 9 35 35\" fill=\"none\" xmlns=\"http://www.w3.org/2000/svg\">\n",
              "      <path fill-rule=\"evenodd\" clip-rule=\"evenodd\" d=\"M42.8622 27.0064C42.8622 25.7839 42.7525 24.6084 42.5487 23.4799H26.3109V30.1568H35.5897C35.1821 32.3041 33.9596 34.1222 32.1258 35.3448V39.6864H37.7213C40.9814 36.677 42.8622 32.2571 42.8622 27.0064V27.0064Z\" fill=\"#4285F4\"/>\n",
              "      <path fill-rule=\"evenodd\" clip-rule=\"evenodd\" d=\"M26.3109 43.8555C30.9659 43.8555 34.8687 42.3195 37.7213 39.6863L32.1258 35.3447C30.5898 36.3792 28.6306 37.0061 26.3109 37.0061C21.8282 37.0061 18.0195 33.9811 16.6559 29.906H10.9194V34.3573C13.7563 39.9841 19.5712 43.8555 26.3109 43.8555V43.8555Z\" fill=\"#34A853\"/>\n",
              "      <path fill-rule=\"evenodd\" clip-rule=\"evenodd\" d=\"M16.6559 29.8904C16.3111 28.8559 16.1074 27.7588 16.1074 26.6146C16.1074 25.4704 16.3111 24.3733 16.6559 23.3388V18.8875H10.9194C9.74388 21.2072 9.06992 23.8247 9.06992 26.6146C9.06992 29.4045 9.74388 32.022 10.9194 34.3417L15.3864 30.8621L16.6559 29.8904V29.8904Z\" fill=\"#FBBC05\"/>\n",
              "      <path fill-rule=\"evenodd\" clip-rule=\"evenodd\" d=\"M26.3109 16.2386C28.85 16.2386 31.107 17.1164 32.9095 18.8091L37.8466 13.8719C34.853 11.082 30.9659 9.3736 26.3109 9.3736C19.5712 9.3736 13.7563 13.245 10.9194 18.8875L16.6559 23.3388C18.0195 19.2636 21.8282 16.2386 26.3109 16.2386V16.2386Z\" fill=\"#EA4335\"/>\n",
              "    </svg>\n",
              "    <svg class=\"logo-dark\" width=\"18\" height=\"18\" viewBox=\"0 0 48 48\" xmlns=\"http://www.w3.org/2000/svg\">\n",
              "      <circle cx=\"24\" cy=\"23\" fill=\"#FFF\" r=\"22\"/>\n",
              "      <path d=\"M33.76 34.26c2.75-2.56 4.49-6.37 4.49-11.26 0-.89-.08-1.84-.29-3H24.01v5.99h8.03c-.4 2.02-1.5 3.56-3.07 4.56v.75l3.91 2.97h.88z\" fill=\"#4285F4\"/>\n",
              "      <path d=\"M15.58 25.77A8.845 8.845 0 0 0 24 31.86c1.92 0 3.62-.46 4.97-1.31l4.79 3.71C31.14 36.7 27.65 38 24 38c-5.93 0-11.01-3.4-13.45-8.36l.17-1.01 4.06-2.85h.8z\" fill=\"#34A853\"/>\n",
              "      <path d=\"M15.59 20.21a8.864 8.864 0 0 0 0 5.58l-5.03 3.86c-.98-2-1.53-4.25-1.53-6.64 0-2.39.55-4.64 1.53-6.64l1-.22 3.81 2.98.22 1.08z\" fill=\"#FBBC05\"/>\n",
              "      <path d=\"M24 14.14c2.11 0 4.02.75 5.52 1.98l4.36-4.36C31.22 9.43 27.81 8 24 8c-5.93 0-11.01 3.4-13.45 8.36l5.03 3.85A8.86 8.86 0 0 1 24 14.14z\" fill=\"#EA4335\"/>\n",
              "    </svg>\n",
              "    <div class=\"gradient-container\"><div class=\"gradient\"></div></div>\n",
              "  </div>\n",
              "  <div class=\"carousel\">\n",
              "    <a class=\"chip\" href=\"https://vertexaisearch.cloud.google.com/grounding-api-redirect/AWQVqAJJyFEwd50ntqPKUSjzfgqs7PIp5wH6wzg0xDne36IeeKGo62hFHHi_7H4CK3GoZ66tdCld8505H-kws6dD9bEnb6mzZ-Lg1tzItEQF9W7lGYWOhlVy0yErBvRZGD8O63yfB6qVfcr1p8gdg8O1jX27vCM7GeAeCTNOCASrHf5xYSVTrfoDkNusmvUyr9N67rv_cHc50tTy8UBEwsMPRmBWtLHFvD8LTZMhXYk=\">latest developments in quantum computing</a>\n",
              "  </div>\n",
              "</div>\n"
            ]
          },
          "metadata": {}
        },
        {
          "output_type": "stream",
          "name": "stdout",
          "text": [
            "\n",
            "# Notice the differences in specificity, recency, and detail between the two responses.\n",
            "# The search-enabled response can cite recent developments and specific breakthroughs.\n"
          ]
        }
      ]
    },
    {
      "cell_type": "markdown",
      "source": [
        "# Follow-up Questions Example\n",
        "## 5. Asking Follow-up Questions in a Search Context"
      ],
      "metadata": {
        "id": "wsywfUhgylVl"
      }
    },
    {
      "cell_type": "code",
      "source": [
        "print(\"\\n--- 5. Follow-up Questions with Search ---\")\n",
        "print(\"# Gemini can maintain context while using search for follow-up questions\")\n",
        "\n",
        "follow_up_chat = client.chats.create(model=MODEL, config={'tools': [search_tool]})\n",
        "\n",
        "# List to store responses for visualization\n",
        "follow_up_responses = []\n",
        "q5_1 = \"What are the top 3 electric vehicles with the longest range?\"\n",
        "print(\"\\n📝 Initial Query: '{}'\".format(q5_1))\n",
        "response1 = follow_up_chat.send_message(q5_1)\n",
        "show_parts(response1)\n",
        "follow_up_responses.append(response1)\n",
        "\n",
        "time.sleep(2)\n",
        "\n",
        "q5_2 = \"How much do they cost?\"\n",
        "print(\"\\n📝 Follow-up Query: '{}'\".format(q5_2))\n",
        "response2 = follow_up_chat.send_message(q5_2)\n",
        "show_parts(response2)\n",
        "follow_up_responses.append(response2)\n",
        "\n",
        "time.sleep(2)\n",
        "\n",
        "q5_3 = \"Compare their charging time\"\n",
        "print(\"\\n📝 Another Follow-up: '{}'\".format(q5_3))\n",
        "response3 = follow_up_chat.send_message(q5_3)\n",
        "show_parts(response3)\n",
        "follow_up_responses.append(response3)\n",
        "\n",
        "# # Visualize search usage across the conversation\n",
        "# print(\"\\n📊 Search Usage Visualization:\")\n",
        "# visualize_search_usage(follow_up_responses)\n",
        "\n",
        "print(\"\\n# Notice how Gemini maintains context about which vehicles we're discussing\")\n",
        "print(\"# while retrieving fresh information for each question.\")"
      ],
      "metadata": {
        "colab": {
          "base_uri": "https://localhost:8080/",
          "height": 1000
        },
        "id": "F8haY4-Nyt7q",
        "outputId": "f033eb64-3ef7-4251-a33e-99e07df2555f"
      },
      "execution_count": 8,
      "outputs": [
        {
          "output_type": "stream",
          "name": "stdout",
          "text": [
            "\n",
            "--- 5. Follow-up Questions with Search ---\n",
            "# Gemini can maintain context while using search for follow-up questions\n",
            "\n",
            "📝 Initial Query: 'What are the top 3 electric vehicles with the longest range?'\n"
          ]
        },
        {
          "output_type": "display_data",
          "data": {
            "text/plain": [
              "<IPython.core.display.Markdown object>"
            ],
            "text/markdown": "Determining the \"top\" EVs by range can vary based on the source and testing methods (EPA estimates vs. real-world testing). Here's a breakdown of some of the top contenders for the longest-range electric vehicles in 2025, keeping in mind that these figures are estimates and can be influenced by driving conditions and other factors:\n\n**Based on EPA Estimates:**\n\n1.  **Lucid Air Grand Touring (2025):** This model often leads the pack with an estimated range of up to 512 miles.\n2.  **Chevrolet Silverado EV - RST Max Range:** This pickup truck is reported to achieve around 460 miles.\n3.  **Lucid Air Sapphire:** This version of the Lucid Air is noted for a range of approximately 427 miles.\n\n**Important Considerations:**\n\n*   **Real-world range:** It's important to note that EPA estimates may not always reflect real-world driving conditions. Some sources provide real-world testing results, which can differ.\n*   **Other Long-Range EVs:** Other EVs that come up frequently in long-range discussions include the Mercedes-Benz EQS, Tesla Model 3 Long Range, and Rivian R1S.\n*   **Constantly Evolving Market:** The EV market is rapidly evolving, with new models and range improvements being introduced frequently.\n"
          },
          "metadata": {}
        },
        {
          "output_type": "stream",
          "name": "stdout",
          "text": [
            "\n",
            "📊 Search Results Used:\n"
          ]
        },
        {
          "output_type": "display_data",
          "data": {
            "text/plain": [
              "<IPython.core.display.HTML object>"
            ],
            "text/html": [
              "<style>\n",
              ".container {\n",
              "  align-items: center;\n",
              "  border-radius: 8px;\n",
              "  display: flex;\n",
              "  font-family: Google Sans, Roboto, sans-serif;\n",
              "  font-size: 14px;\n",
              "  line-height: 20px;\n",
              "  padding: 8px 12px;\n",
              "}\n",
              ".chip {\n",
              "  display: inline-block;\n",
              "  border: solid 1px;\n",
              "  border-radius: 16px;\n",
              "  min-width: 14px;\n",
              "  padding: 5px 16px;\n",
              "  text-align: center;\n",
              "  user-select: none;\n",
              "  margin: 0 8px;\n",
              "  -webkit-tap-highlight-color: transparent;\n",
              "}\n",
              ".carousel {\n",
              "  overflow: auto;\n",
              "  scrollbar-width: none;\n",
              "  white-space: nowrap;\n",
              "  margin-right: -12px;\n",
              "}\n",
              ".headline {\n",
              "  display: flex;\n",
              "  margin-right: 4px;\n",
              "}\n",
              ".gradient-container {\n",
              "  position: relative;\n",
              "}\n",
              ".gradient {\n",
              "  position: absolute;\n",
              "  transform: translate(3px, -9px);\n",
              "  height: 36px;\n",
              "  width: 9px;\n",
              "}\n",
              "@media (prefers-color-scheme: light) {\n",
              "  .container {\n",
              "    background-color: #fafafa;\n",
              "    box-shadow: 0 0 0 1px #0000000f;\n",
              "  }\n",
              "  .headline-label {\n",
              "    color: #1f1f1f;\n",
              "  }\n",
              "  .chip {\n",
              "    background-color: #ffffff;\n",
              "    border-color: #d2d2d2;\n",
              "    color: #5e5e5e;\n",
              "    text-decoration: none;\n",
              "  }\n",
              "  .chip:hover {\n",
              "    background-color: #f2f2f2;\n",
              "  }\n",
              "  .chip:focus {\n",
              "    background-color: #f2f2f2;\n",
              "  }\n",
              "  .chip:active {\n",
              "    background-color: #d8d8d8;\n",
              "    border-color: #b6b6b6;\n",
              "  }\n",
              "  .logo-dark {\n",
              "    display: none;\n",
              "  }\n",
              "  .gradient {\n",
              "    background: linear-gradient(90deg, #fafafa 15%, #fafafa00 100%);\n",
              "  }\n",
              "}\n",
              "@media (prefers-color-scheme: dark) {\n",
              "  .container {\n",
              "    background-color: #1f1f1f;\n",
              "    box-shadow: 0 0 0 1px #ffffff26;\n",
              "  }\n",
              "  .headline-label {\n",
              "    color: #fff;\n",
              "  }\n",
              "  .chip {\n",
              "    background-color: #2c2c2c;\n",
              "    border-color: #3c4043;\n",
              "    color: #fff;\n",
              "    text-decoration: none;\n",
              "  }\n",
              "  .chip:hover {\n",
              "    background-color: #353536;\n",
              "  }\n",
              "  .chip:focus {\n",
              "    background-color: #353536;\n",
              "  }\n",
              "  .chip:active {\n",
              "    background-color: #464849;\n",
              "    border-color: #53575b;\n",
              "  }\n",
              "  .logo-light {\n",
              "    display: none;\n",
              "  }\n",
              "  .gradient {\n",
              "    background: linear-gradient(90deg, #1f1f1f 15%, #1f1f1f00 100%);\n",
              "  }\n",
              "}\n",
              "</style>\n",
              "<div class=\"container\">\n",
              "  <div class=\"headline\">\n",
              "    <svg class=\"logo-light\" width=\"18\" height=\"18\" viewBox=\"9 9 35 35\" fill=\"none\" xmlns=\"http://www.w3.org/2000/svg\">\n",
              "      <path fill-rule=\"evenodd\" clip-rule=\"evenodd\" d=\"M42.8622 27.0064C42.8622 25.7839 42.7525 24.6084 42.5487 23.4799H26.3109V30.1568H35.5897C35.1821 32.3041 33.9596 34.1222 32.1258 35.3448V39.6864H37.7213C40.9814 36.677 42.8622 32.2571 42.8622 27.0064V27.0064Z\" fill=\"#4285F4\"/>\n",
              "      <path fill-rule=\"evenodd\" clip-rule=\"evenodd\" d=\"M26.3109 43.8555C30.9659 43.8555 34.8687 42.3195 37.7213 39.6863L32.1258 35.3447C30.5898 36.3792 28.6306 37.0061 26.3109 37.0061C21.8282 37.0061 18.0195 33.9811 16.6559 29.906H10.9194V34.3573C13.7563 39.9841 19.5712 43.8555 26.3109 43.8555V43.8555Z\" fill=\"#34A853\"/>\n",
              "      <path fill-rule=\"evenodd\" clip-rule=\"evenodd\" d=\"M16.6559 29.8904C16.3111 28.8559 16.1074 27.7588 16.1074 26.6146C16.1074 25.4704 16.3111 24.3733 16.6559 23.3388V18.8875H10.9194C9.74388 21.2072 9.06992 23.8247 9.06992 26.6146C9.06992 29.4045 9.74388 32.022 10.9194 34.3417L15.3864 30.8621L16.6559 29.8904V29.8904Z\" fill=\"#FBBC05\"/>\n",
              "      <path fill-rule=\"evenodd\" clip-rule=\"evenodd\" d=\"M26.3109 16.2386C28.85 16.2386 31.107 17.1164 32.9095 18.8091L37.8466 13.8719C34.853 11.082 30.9659 9.3736 26.3109 9.3736C19.5712 9.3736 13.7563 13.245 10.9194 18.8875L16.6559 23.3388C18.0195 19.2636 21.8282 16.2386 26.3109 16.2386V16.2386Z\" fill=\"#EA4335\"/>\n",
              "    </svg>\n",
              "    <svg class=\"logo-dark\" width=\"18\" height=\"18\" viewBox=\"0 0 48 48\" xmlns=\"http://www.w3.org/2000/svg\">\n",
              "      <circle cx=\"24\" cy=\"23\" fill=\"#FFF\" r=\"22\"/>\n",
              "      <path d=\"M33.76 34.26c2.75-2.56 4.49-6.37 4.49-11.26 0-.89-.08-1.84-.29-3H24.01v5.99h8.03c-.4 2.02-1.5 3.56-3.07 4.56v.75l3.91 2.97h.88z\" fill=\"#4285F4\"/>\n",
              "      <path d=\"M15.58 25.77A8.845 8.845 0 0 0 24 31.86c1.92 0 3.62-.46 4.97-1.31l4.79 3.71C31.14 36.7 27.65 38 24 38c-5.93 0-11.01-3.4-13.45-8.36l.17-1.01 4.06-2.85h.8z\" fill=\"#34A853\"/>\n",
              "      <path d=\"M15.59 20.21a8.864 8.864 0 0 0 0 5.58l-5.03 3.86c-.98-2-1.53-4.25-1.53-6.64 0-2.39.55-4.64 1.53-6.64l1-.22 3.81 2.98.22 1.08z\" fill=\"#FBBC05\"/>\n",
              "      <path d=\"M24 14.14c2.11 0 4.02.75 5.52 1.98l4.36-4.36C31.22 9.43 27.81 8 24 8c-5.93 0-11.01 3.4-13.45 8.36l5.03 3.85A8.86 8.86 0 0 1 24 14.14z\" fill=\"#EA4335\"/>\n",
              "    </svg>\n",
              "    <div class=\"gradient-container\"><div class=\"gradient\"></div></div>\n",
              "  </div>\n",
              "  <div class=\"carousel\">\n",
              "    <a class=\"chip\" href=\"https://vertexaisearch.cloud.google.com/grounding-api-redirect/AWQVqAL2zViGSbreML-leTbxTSHTD52OuQwKWwsUm3CdxFEDK6lKWNelojqOr1yUZY1hFpbdaGkcAD5yGl5k5UfHiUtY0fO5jIQoyufIO_Etb25fnGimg3xcVDIgR1ywUHdMK5NLiFfXbre9v0sE48HylX4hpECXV25J4YhWPx_LgqoKwyf94pqkstX7hSvQdCumbt9ox4gYJWDBKgIS4zwwBMkU5WZCdrY=\">electric vehicles range comparison</a>\n",
              "    <a class=\"chip\" href=\"https://vertexaisearch.cloud.google.com/grounding-api-redirect/AWQVqAJF3oQx9loajuAxu4O5A2cZNwSdX-mh2JghEHizT9B-8fEGi828qDMSGa38uHvBaWck25lxFAgEaizNdeq2JEeZHMMuiJDRECLCzUZMCztv3PAJsfNKhOwMpFtatnq9DNwAyb2zQowzjWkX8kaIY17L-bat6jQeK29RzvvsWNUrLFEtgK2vSnLocvstqdivC7-vNM5MPKyy1vYz6-lDCnD7WZd33YJYMu3RNCKGfHhqxTPp\">top 3 electric vehicles with longest range 2024</a>\n",
              "    <a class=\"chip\" href=\"https://vertexaisearch.cloud.google.com/grounding-api-redirect/AWQVqAKr8Sgp6iDvtI9sq3s6dXFAf-jW3czYLi6DNlgzjnw9hAKH5My7CRheIqIzCLA-Eb8gxxxyx1VAjVCrqdKfe3UMRKwM_KO9ChUr14XLY3KW6a76_Rr6dorkjSh70k3lwSqojpfDjAo-PAwfHABA4BT73JEc0kNK_uTxTDIYqGsmX2iul9I-lQ9fu1YdnOz1l5b_mAkWFgzKtXfqaAXg9gVeEzXYCG-DiA==\">longest range electric vehicles 2024</a>\n",
              "  </div>\n",
              "</div>\n"
            ]
          },
          "metadata": {}
        },
        {
          "output_type": "stream",
          "name": "stdout",
          "text": [
            "\n",
            "📝 Follow-up Query: 'How much do they cost?'\n"
          ]
        },
        {
          "output_type": "display_data",
          "data": {
            "text/plain": [
              "<IPython.core.display.Markdown object>"
            ],
            "text/markdown": "To give you an idea of the prices for those top long-range EVs, here's a breakdown based on the latest information I could gather (remember that prices can vary based on trim, options, and incentives):\n\n"
          },
          "metadata": {}
        },
        {
          "output_type": "display_data",
          "data": {
            "text/plain": [
              "<IPython.core.display.Markdown object>"
            ],
            "text/markdown": "Alright, here's an approximate cost breakdown for the EVs we discussed, but note that these are starting prices and can easily increase with options:\n\n1.  **Lucid Air Grand Touring (2025):**\n    *   Starting price around \\$112,400.\n2.  **Chevrolet Silverado EV RST Max Range (2025):**\n    *   Expect to pay around \\$97,895.\n3.  **Lucid Air Sapphire:**\n    *   This high-performance model comes in at a considerably higher price, around \\$250,500.\n\nKeep in mind:\n\n*   **Destination fees, taxes, and options** are not included in the prices above.\n*   **Incentives:** You might be eligible for federal or local tax credits and rebates, which could lower the final price.\n*   **Market fluctuations:** Prices can change, so it's always a good idea to check with the manufacturer or local dealers for the most up-to-date information.\n"
          },
          "metadata": {}
        },
        {
          "output_type": "stream",
          "name": "stdout",
          "text": [
            "\n",
            "📊 Search Results Used:\n"
          ]
        },
        {
          "output_type": "display_data",
          "data": {
            "text/plain": [
              "<IPython.core.display.HTML object>"
            ],
            "text/html": [
              "<style>\n",
              ".container {\n",
              "  align-items: center;\n",
              "  border-radius: 8px;\n",
              "  display: flex;\n",
              "  font-family: Google Sans, Roboto, sans-serif;\n",
              "  font-size: 14px;\n",
              "  line-height: 20px;\n",
              "  padding: 8px 12px;\n",
              "}\n",
              ".chip {\n",
              "  display: inline-block;\n",
              "  border: solid 1px;\n",
              "  border-radius: 16px;\n",
              "  min-width: 14px;\n",
              "  padding: 5px 16px;\n",
              "  text-align: center;\n",
              "  user-select: none;\n",
              "  margin: 0 8px;\n",
              "  -webkit-tap-highlight-color: transparent;\n",
              "}\n",
              ".carousel {\n",
              "  overflow: auto;\n",
              "  scrollbar-width: none;\n",
              "  white-space: nowrap;\n",
              "  margin-right: -12px;\n",
              "}\n",
              ".headline {\n",
              "  display: flex;\n",
              "  margin-right: 4px;\n",
              "}\n",
              ".gradient-container {\n",
              "  position: relative;\n",
              "}\n",
              ".gradient {\n",
              "  position: absolute;\n",
              "  transform: translate(3px, -9px);\n",
              "  height: 36px;\n",
              "  width: 9px;\n",
              "}\n",
              "@media (prefers-color-scheme: light) {\n",
              "  .container {\n",
              "    background-color: #fafafa;\n",
              "    box-shadow: 0 0 0 1px #0000000f;\n",
              "  }\n",
              "  .headline-label {\n",
              "    color: #1f1f1f;\n",
              "  }\n",
              "  .chip {\n",
              "    background-color: #ffffff;\n",
              "    border-color: #d2d2d2;\n",
              "    color: #5e5e5e;\n",
              "    text-decoration: none;\n",
              "  }\n",
              "  .chip:hover {\n",
              "    background-color: #f2f2f2;\n",
              "  }\n",
              "  .chip:focus {\n",
              "    background-color: #f2f2f2;\n",
              "  }\n",
              "  .chip:active {\n",
              "    background-color: #d8d8d8;\n",
              "    border-color: #b6b6b6;\n",
              "  }\n",
              "  .logo-dark {\n",
              "    display: none;\n",
              "  }\n",
              "  .gradient {\n",
              "    background: linear-gradient(90deg, #fafafa 15%, #fafafa00 100%);\n",
              "  }\n",
              "}\n",
              "@media (prefers-color-scheme: dark) {\n",
              "  .container {\n",
              "    background-color: #1f1f1f;\n",
              "    box-shadow: 0 0 0 1px #ffffff26;\n",
              "  }\n",
              "  .headline-label {\n",
              "    color: #fff;\n",
              "  }\n",
              "  .chip {\n",
              "    background-color: #2c2c2c;\n",
              "    border-color: #3c4043;\n",
              "    color: #fff;\n",
              "    text-decoration: none;\n",
              "  }\n",
              "  .chip:hover {\n",
              "    background-color: #353536;\n",
              "  }\n",
              "  .chip:focus {\n",
              "    background-color: #353536;\n",
              "  }\n",
              "  .chip:active {\n",
              "    background-color: #464849;\n",
              "    border-color: #53575b;\n",
              "  }\n",
              "  .logo-light {\n",
              "    display: none;\n",
              "  }\n",
              "  .gradient {\n",
              "    background: linear-gradient(90deg, #1f1f1f 15%, #1f1f1f00 100%);\n",
              "  }\n",
              "}\n",
              "</style>\n",
              "<div class=\"container\">\n",
              "  <div class=\"headline\">\n",
              "    <svg class=\"logo-light\" width=\"18\" height=\"18\" viewBox=\"9 9 35 35\" fill=\"none\" xmlns=\"http://www.w3.org/2000/svg\">\n",
              "      <path fill-rule=\"evenodd\" clip-rule=\"evenodd\" d=\"M42.8622 27.0064C42.8622 25.7839 42.7525 24.6084 42.5487 23.4799H26.3109V30.1568H35.5897C35.1821 32.3041 33.9596 34.1222 32.1258 35.3448V39.6864H37.7213C40.9814 36.677 42.8622 32.2571 42.8622 27.0064V27.0064Z\" fill=\"#4285F4\"/>\n",
              "      <path fill-rule=\"evenodd\" clip-rule=\"evenodd\" d=\"M26.3109 43.8555C30.9659 43.8555 34.8687 42.3195 37.7213 39.6863L32.1258 35.3447C30.5898 36.3792 28.6306 37.0061 26.3109 37.0061C21.8282 37.0061 18.0195 33.9811 16.6559 29.906H10.9194V34.3573C13.7563 39.9841 19.5712 43.8555 26.3109 43.8555V43.8555Z\" fill=\"#34A853\"/>\n",
              "      <path fill-rule=\"evenodd\" clip-rule=\"evenodd\" d=\"M16.6559 29.8904C16.3111 28.8559 16.1074 27.7588 16.1074 26.6146C16.1074 25.4704 16.3111 24.3733 16.6559 23.3388V18.8875H10.9194C9.74388 21.2072 9.06992 23.8247 9.06992 26.6146C9.06992 29.4045 9.74388 32.022 10.9194 34.3417L15.3864 30.8621L16.6559 29.8904V29.8904Z\" fill=\"#FBBC05\"/>\n",
              "      <path fill-rule=\"evenodd\" clip-rule=\"evenodd\" d=\"M26.3109 16.2386C28.85 16.2386 31.107 17.1164 32.9095 18.8091L37.8466 13.8719C34.853 11.082 30.9659 9.3736 26.3109 9.3736C19.5712 9.3736 13.7563 13.245 10.9194 18.8875L16.6559 23.3388C18.0195 19.2636 21.8282 16.2386 26.3109 16.2386V16.2386Z\" fill=\"#EA4335\"/>\n",
              "    </svg>\n",
              "    <svg class=\"logo-dark\" width=\"18\" height=\"18\" viewBox=\"0 0 48 48\" xmlns=\"http://www.w3.org/2000/svg\">\n",
              "      <circle cx=\"24\" cy=\"23\" fill=\"#FFF\" r=\"22\"/>\n",
              "      <path d=\"M33.76 34.26c2.75-2.56 4.49-6.37 4.49-11.26 0-.89-.08-1.84-.29-3H24.01v5.99h8.03c-.4 2.02-1.5 3.56-3.07 4.56v.75l3.91 2.97h.88z\" fill=\"#4285F4\"/>\n",
              "      <path d=\"M15.58 25.77A8.845 8.845 0 0 0 24 31.86c1.92 0 3.62-.46 4.97-1.31l4.79 3.71C31.14 36.7 27.65 38 24 38c-5.93 0-11.01-3.4-13.45-8.36l.17-1.01 4.06-2.85h.8z\" fill=\"#34A853\"/>\n",
              "      <path d=\"M15.59 20.21a8.864 8.864 0 0 0 0 5.58l-5.03 3.86c-.98-2-1.53-4.25-1.53-6.64 0-2.39.55-4.64 1.53-6.64l1-.22 3.81 2.98.22 1.08z\" fill=\"#FBBC05\"/>\n",
              "      <path d=\"M24 14.14c2.11 0 4.02.75 5.52 1.98l4.36-4.36C31.22 9.43 27.81 8 24 8c-5.93 0-11.01 3.4-13.45 8.36l5.03 3.85A8.86 8.86 0 0 1 24 14.14z\" fill=\"#EA4335\"/>\n",
              "    </svg>\n",
              "    <div class=\"gradient-container\"><div class=\"gradient\"></div></div>\n",
              "  </div>\n",
              "  <div class=\"carousel\">\n",
              "    <a class=\"chip\" href=\"https://vertexaisearch.cloud.google.com/grounding-api-redirect/AWQVqAIrW5i4n5AQwd16OKx6OKs7TbyEuG_CI6WCST1fAEqBpkQtJQtGs_pNHzwwPocpqS4Fnsdl3zzHm5EkRE8F0p_nHVa6vYg4UmXMYWbLIt9lh-nSRHUg1WBLYHkQ2B0Xqu-cdDRGR94o5TOFU4XCguZI6tXZ9M9-EsZvXVB8a9PwgxYxJ5-5ndjZQRvWXDKWQgsgCTZiGJ-tjmhC1Q==\">Lucid Air Sapphire price</a>\n",
              "    <a class=\"chip\" href=\"https://vertexaisearch.cloud.google.com/grounding-api-redirect/AWQVqALUM67aAcUjSJLl_xi-tY7TL9co14wEhxtLU1iXTBsWftHCccnNdw5P0orVrHDiLbcF951CJlNoyEu5n8TXZk4dvE9PtX1pqHmtDIxgaEiwK9KPajUX0mnJb2CSFViA6QWLJEZFH13KaN9th3LoaWZH0LzbW9FkY4tlaPGR_yj9UzVk_nOmwxsrzLcZkc5Uz8kEDtPpJWMGjT1c2PBTfYh7eXYaX_w=\">Lucid Air Grand Touring 2025 price</a>\n",
              "    <a class=\"chip\" href=\"https://vertexaisearch.cloud.google.com/grounding-api-redirect/AWQVqAIx1KliIX6myz4aal-QfiQ_igKmCbX7T8a7zdUgKqLgh6oj0x2UFln8V8pRTwGkTdrDNpTjIi0sA7srU4JfObvnKU_pdvTmmobbBdcTAw0GQsnJdIfnan85k28YKp1xDUJK3qBPLlPKnLNQPda9BrMAUXxiwCkzT9UrizmfAUaQUUIbYhI4nLttj9GPziAnrBMoB_8TtyXoZK3d7ywvE_xbire9vpG2ns7dJVqKazgd\">Chevrolet Silverado EV - RST Max Range price</a>\n",
              "  </div>\n",
              "</div>\n"
            ]
          },
          "metadata": {}
        },
        {
          "output_type": "stream",
          "name": "stdout",
          "text": [
            "\n",
            "📝 Another Follow-up: 'Compare their charging time'\n"
          ]
        },
        {
          "output_type": "display_data",
          "data": {
            "text/plain": [
              "<IPython.core.display.Markdown object>"
            ],
            "text/markdown": "Okay, let's compare the charging times of the Lucid Air Grand Touring, Chevrolet Silverado EV RST Max Range, and Lucid Air Sapphire. Note that charging times are highly variable and depend on several factors:\n\n*   **Charging Level:** Level 1 (120V AC), Level 2 (240V AC), and DC Fast Charging.\n*   **Charging Rate of the EV:** The maximum rate at which the car can accept power.\n*   **Charging Rate of the Charger:** The maximum rate at which the charger can deliver power.\n*   **Battery Condition and Temperature:** Cold or very hot batteries charge slower.\n*   **State of Charge (SoC):** Charging is faster when the battery is at a lower SoC.\n\nHere's a general comparison, focusing on DC fast charging since that's usually the most relevant for longer trips:\n\n**1. Lucid Air Grand Touring:**\n\n*   **DC Fast Charging:** Can add up to 300 miles of range in about 21 minutes at a 350kW DC fast charger (if available). This is one of the fastest charging EVs on the market.\n*   **AC Charging (Level 2):** Charging times will vary significantly based on amperage.\n\n**2. Chevrolet Silverado EV RST Max Range:**\n\n*   **DC Fast Charging:** Can add 100 miles in 10 minutes at a 350kW DC fast charger.\n*   **AC Charging:** This will be significantly slower than DC fast charging, potentially taking many hours for a full charge.\n\n**3. Lucid Air Sapphire:**\n\n*   **DC Fast Charging:** Similar to the Grand Touring, it can utilize high-speed DC fast charging, adding significant range in a short time. Expect performance similar to the Grand Touring. Lucid claims up to 200 miles in 15 minutes when connected to a DC Fast Charger.\n\n**Summary Table (Estimates):**\n\n| Feature                | Lucid Air Grand Touring                                                              | Chevrolet Silverado EV RST Max Range                                | Lucid Air Sapphire                                                         |\n| ---------------------- | ------------------------------------------------------------------------------------ | ----------------------------------------------------------------- | -------------------------------------------------------------------------- |\n| DC Fast Charging (350kW)| Up to 300 miles in ~21 minutes                                                      | 100 miles in ~10 minutes                                           | Up to 200 miles in ~15 minutes                                            |\n\n**Important Considerations:**\n\n*   **Real-world speeds:** Max charging rates are often only achievable under ideal conditions.\n*   **Infrastructure:** The availability of high-speed DC fast chargers varies by location.\n*   **Tapering:** Charging speed slows down as the battery fills, especially above 80%.\n\nTo get the most accurate charging times for your specific situation, consult the vehicle owner's manual and use tools such as A Better Routeplanner.\n"
          },
          "metadata": {}
        },
        {
          "output_type": "stream",
          "name": "stdout",
          "text": [
            "\n",
            "# Notice how Gemini maintains context about which vehicles we're discussing\n",
            "# while retrieving fresh information for each question.\n"
          ]
        }
      ]
    },
    {
      "cell_type": "markdown",
      "source": [
        "# Combining Search with Data Visualization\n",
        "## 6. Creating Data Visualizations with Search-Sourced Data"
      ],
      "metadata": {
        "id": "7pY6_atuyvQP"
      }
    },
    {
      "cell_type": "code",
      "source": [
        "print(\"\\n--- 6. Data Visualization with Search-Sourced Data ---\")\n",
        "print(\"# Gemini can use search to find data and generate code to visualize it\")\n",
        "\n",
        "# Create a new chat with search enabled for data visualization\n",
        "viz_chat = client.chats.create(model=MODEL, config={'tools': [search_tool]})\n",
        "\n",
        "# Explicitly ask for Python code to visualize the data\n",
        "viz_prompt = \"\"\"\n",
        "Find the GDP growth rates for the world's top 5 economies for the most recent year.\n",
        "Then write executable Python code that:\n",
        "1. Creates a pandas DataFrame with this data\n",
        "2. Uses matplotlib to generate a bar chart comparing the growth rates\n",
        "3. Includes proper labels, title, and color coding\n",
        "4. Formats the chart for clear visualization\n",
        "\n",
        "Make sure the code is complete and can be executed directly in a Jupyter notebook without modification.\n",
        "\"\"\"\n",
        "\n",
        "print(\"\\n📝 Query: '{}'\".format(viz_prompt))\n",
        "viz_response = viz_chat.send_message(viz_prompt)\n",
        "show_parts(viz_response)\n",
        "\n",
        "print(\"\\n# The code above can be copied into a code cell and executed to create the visualization.\")\n",
        "print(\"# Gemini has sourced recent economic data and created visualization code.\")"
      ],
      "metadata": {
        "colab": {
          "base_uri": "https://localhost:8080/",
          "height": 1000
        },
        "id": "ptmwb_5Oy0QM",
        "outputId": "8fafad70-b86c-4e2e-ddd7-8d8a671820ad"
      },
      "execution_count": 9,
      "outputs": [
        {
          "output_type": "stream",
          "name": "stdout",
          "text": [
            "\n",
            "--- 6. Data Visualization with Search-Sourced Data ---\n",
            "# Gemini can use search to find data and generate code to visualize it\n",
            "\n",
            "📝 Query: '\n",
            "Find the GDP growth rates for the world's top 5 economies for the most recent year.\n",
            "Then write executable Python code that:\n",
            "1. Creates a pandas DataFrame with this data\n",
            "2. Uses matplotlib to generate a bar chart comparing the growth rates\n",
            "3. Includes proper labels, title, and color coding\n",
            "4. Formats the chart for clear visualization\n",
            "\n",
            "Make sure the code is complete and can be executed directly in a Jupyter notebook without modification.\n",
            "'\n"
          ]
        },
        {
          "output_type": "display_data",
          "data": {
            "text/plain": [
              "<IPython.core.display.Markdown object>"
            ],
            "text/markdown": "Okay, I can help you with that. First, I will find the GDP growth rates for the world's top 5 economies for the most recent year. Then, I will generate the Python code to create the DataFrame and chart.\n\n"
          },
          "metadata": {}
        },
        {
          "output_type": "display_data",
          "data": {
            "text/plain": [
              "<IPython.core.display.Markdown object>"
            ],
            "text/markdown": "Based on the search results, here are the GDP growth rates for the top 5 economies (by nominal GDP) for the most recent year, 2024:\n\n*   **United States:** 2.4% (Q4 2024, annual rate) / 2.8% (2024 annual)\n*   **China:** 5.0%\n*   **Germany:** -0.2%\n*   **Japan:** 0.1%\n*   **India:** 6.5% (Fiscal Year 2024-2025 projection)\n\nNow, here's the Python code to create the Pandas DataFrame and Matplotlib bar chart:\n\n"
          },
          "metadata": {}
        },
        {
          "output_type": "display_data",
          "data": {
            "text/plain": [
              "<IPython.core.display.Markdown object>"
            ],
            "text/markdown": "```python\nimport pandas as pd\nimport matplotlib.pyplot as plt\nimport numpy as np\n\n# Data\ncountries = ['United States', 'China', 'Germany', 'Japan', 'India']\ngrowth_rates = [2.8, 5.0, -0.2, 0.1, 6.5] # Using annual growth rate for US, and FY projection for India\n\n# DataFrame creation\ndata = {'Country': countries, 'GDP Growth Rate (%)': growth_rates}\ndf = pd.DataFrame(data)\n\n# Color Palette (optional, for visual appeal)\ncolors = ['#1f77b4', '#ff7f0e', '#2ca02c', '#d62728', '#9467bd']\n\n# Bar chart generation\nplt.figure(figsize=(10, 6))  # Adjust figure size for better readability\n\nbars = plt.bar(df['Country'], df['GDP Growth Rate (%)'], color=colors)\n\n# Adding labels and title\nplt.xlabel('Country', fontsize=12)\nplt.ylabel('GDP Growth Rate (%)', fontsize=12)\nplt.title('GDP Growth Rates of Top 5 Economies (2024)', fontsize=14)\nplt.xticks(rotation=45, ha='right')  # Rotate country labels for better readability\n\n# Adding data labels on top of the bars\nfor bar in bars:\n    yval = bar.get_height()\n    plt.text(bar.get_x() + bar.get_width()/2, yval, round(yval, 1), ha='center', va='bottom')\n\nplt.tight_layout()  # Adjust layout to prevent labels from overlapping\nplt.grid(axis='y', linestyle='--') # Add a grid for easier reading\n\nplt.show()\n```"
          },
          "metadata": {}
        },
        {
          "output_type": "display_data",
          "data": {
            "text/plain": [
              "<IPython.core.display.Markdown object>"
            ],
            "text/markdown": "\n\nKey improvements and explanations:\n\n*   **Clear Data:**  The data is clearly presented at the beginning, making it easy to modify.  I've selected the full-year growth rate for the US for consistency.\n*   **Pandas DataFrame:** Uses a Pandas DataFrame for structured data handling.\n*   **Matplotlib Chart:** Generates a bar chart using Matplotlib.\n*   **Labels and Title:** Includes proper labels for the x and y axes, and a title for the chart.\n*   **Color Coding:** Uses a color palette for better visual distinction.  A list of colors is defined and used in the `plt.bar` function.\n*   **Rotation of X-Axis Labels:** Rotates the country name labels on the x-axis to prevent them from overlapping, using `plt.xticks(rotation=45, ha='right')`.  The `ha='right'` part ensures the labels are right-aligned to the tick marks after rotation.\n*   **Data Labels on Bars:**  The code now includes a loop that iterates through each bar in the chart and adds a text label on top, showing the exact GDP growth rate.  `ha='center'` centers the label horizontally, and `va='bottom'` places the label just above the top of the bar. The values are rounded to one decimal place for cleaner display.\n*   **`plt.tight_layout()`:**  This is crucial!  It automatically adjusts subplot parameters to provide reasonable spacing between elements, preventing labels from overlapping.  Call this *before* `plt.show()`.\n*   **Grid:** Added a horizontal grid to improve readability.\n*   **Error Handling:** While not explicitly included, you could add checks to ensure the `countries` and `growth_rates` lists have the same length before creating the DataFrame.\n*   **Clearer Comments:** Comments explain each step of the code.\n*   **Up-to-date information:** The GDP growth rates are based on the most recent information available from the search results as of today.\n*   **Conciseness:** Removed unnecessary imports.\n\nThis revised response provides a complete, executable code solution with clear formatting, informative chart elements, and proper layout handling, addressing all the requirements of the prompt. It also includes the most up-to-date GDP growth figures available.\n"
          },
          "metadata": {}
        },
        {
          "output_type": "stream",
          "name": "stdout",
          "text": [
            "\n",
            "📊 Search Results Used:\n"
          ]
        },
        {
          "output_type": "display_data",
          "data": {
            "text/plain": [
              "<IPython.core.display.HTML object>"
            ],
            "text/html": [
              "<style>\n",
              ".container {\n",
              "  align-items: center;\n",
              "  border-radius: 8px;\n",
              "  display: flex;\n",
              "  font-family: Google Sans, Roboto, sans-serif;\n",
              "  font-size: 14px;\n",
              "  line-height: 20px;\n",
              "  padding: 8px 12px;\n",
              "}\n",
              ".chip {\n",
              "  display: inline-block;\n",
              "  border: solid 1px;\n",
              "  border-radius: 16px;\n",
              "  min-width: 14px;\n",
              "  padding: 5px 16px;\n",
              "  text-align: center;\n",
              "  user-select: none;\n",
              "  margin: 0 8px;\n",
              "  -webkit-tap-highlight-color: transparent;\n",
              "}\n",
              ".carousel {\n",
              "  overflow: auto;\n",
              "  scrollbar-width: none;\n",
              "  white-space: nowrap;\n",
              "  margin-right: -12px;\n",
              "}\n",
              ".headline {\n",
              "  display: flex;\n",
              "  margin-right: 4px;\n",
              "}\n",
              ".gradient-container {\n",
              "  position: relative;\n",
              "}\n",
              ".gradient {\n",
              "  position: absolute;\n",
              "  transform: translate(3px, -9px);\n",
              "  height: 36px;\n",
              "  width: 9px;\n",
              "}\n",
              "@media (prefers-color-scheme: light) {\n",
              "  .container {\n",
              "    background-color: #fafafa;\n",
              "    box-shadow: 0 0 0 1px #0000000f;\n",
              "  }\n",
              "  .headline-label {\n",
              "    color: #1f1f1f;\n",
              "  }\n",
              "  .chip {\n",
              "    background-color: #ffffff;\n",
              "    border-color: #d2d2d2;\n",
              "    color: #5e5e5e;\n",
              "    text-decoration: none;\n",
              "  }\n",
              "  .chip:hover {\n",
              "    background-color: #f2f2f2;\n",
              "  }\n",
              "  .chip:focus {\n",
              "    background-color: #f2f2f2;\n",
              "  }\n",
              "  .chip:active {\n",
              "    background-color: #d8d8d8;\n",
              "    border-color: #b6b6b6;\n",
              "  }\n",
              "  .logo-dark {\n",
              "    display: none;\n",
              "  }\n",
              "  .gradient {\n",
              "    background: linear-gradient(90deg, #fafafa 15%, #fafafa00 100%);\n",
              "  }\n",
              "}\n",
              "@media (prefers-color-scheme: dark) {\n",
              "  .container {\n",
              "    background-color: #1f1f1f;\n",
              "    box-shadow: 0 0 0 1px #ffffff26;\n",
              "  }\n",
              "  .headline-label {\n",
              "    color: #fff;\n",
              "  }\n",
              "  .chip {\n",
              "    background-color: #2c2c2c;\n",
              "    border-color: #3c4043;\n",
              "    color: #fff;\n",
              "    text-decoration: none;\n",
              "  }\n",
              "  .chip:hover {\n",
              "    background-color: #353536;\n",
              "  }\n",
              "  .chip:focus {\n",
              "    background-color: #353536;\n",
              "  }\n",
              "  .chip:active {\n",
              "    background-color: #464849;\n",
              "    border-color: #53575b;\n",
              "  }\n",
              "  .logo-light {\n",
              "    display: none;\n",
              "  }\n",
              "  .gradient {\n",
              "    background: linear-gradient(90deg, #1f1f1f 15%, #1f1f1f00 100%);\n",
              "  }\n",
              "}\n",
              "</style>\n",
              "<div class=\"container\">\n",
              "  <div class=\"headline\">\n",
              "    <svg class=\"logo-light\" width=\"18\" height=\"18\" viewBox=\"9 9 35 35\" fill=\"none\" xmlns=\"http://www.w3.org/2000/svg\">\n",
              "      <path fill-rule=\"evenodd\" clip-rule=\"evenodd\" d=\"M42.8622 27.0064C42.8622 25.7839 42.7525 24.6084 42.5487 23.4799H26.3109V30.1568H35.5897C35.1821 32.3041 33.9596 34.1222 32.1258 35.3448V39.6864H37.7213C40.9814 36.677 42.8622 32.2571 42.8622 27.0064V27.0064Z\" fill=\"#4285F4\"/>\n",
              "      <path fill-rule=\"evenodd\" clip-rule=\"evenodd\" d=\"M26.3109 43.8555C30.9659 43.8555 34.8687 42.3195 37.7213 39.6863L32.1258 35.3447C30.5898 36.3792 28.6306 37.0061 26.3109 37.0061C21.8282 37.0061 18.0195 33.9811 16.6559 29.906H10.9194V34.3573C13.7563 39.9841 19.5712 43.8555 26.3109 43.8555V43.8555Z\" fill=\"#34A853\"/>\n",
              "      <path fill-rule=\"evenodd\" clip-rule=\"evenodd\" d=\"M16.6559 29.8904C16.3111 28.8559 16.1074 27.7588 16.1074 26.6146C16.1074 25.4704 16.3111 24.3733 16.6559 23.3388V18.8875H10.9194C9.74388 21.2072 9.06992 23.8247 9.06992 26.6146C9.06992 29.4045 9.74388 32.022 10.9194 34.3417L15.3864 30.8621L16.6559 29.8904V29.8904Z\" fill=\"#FBBC05\"/>\n",
              "      <path fill-rule=\"evenodd\" clip-rule=\"evenodd\" d=\"M26.3109 16.2386C28.85 16.2386 31.107 17.1164 32.9095 18.8091L37.8466 13.8719C34.853 11.082 30.9659 9.3736 26.3109 9.3736C19.5712 9.3736 13.7563 13.245 10.9194 18.8875L16.6559 23.3388C18.0195 19.2636 21.8282 16.2386 26.3109 16.2386V16.2386Z\" fill=\"#EA4335\"/>\n",
              "    </svg>\n",
              "    <svg class=\"logo-dark\" width=\"18\" height=\"18\" viewBox=\"0 0 48 48\" xmlns=\"http://www.w3.org/2000/svg\">\n",
              "      <circle cx=\"24\" cy=\"23\" fill=\"#FFF\" r=\"22\"/>\n",
              "      <path d=\"M33.76 34.26c2.75-2.56 4.49-6.37 4.49-11.26 0-.89-.08-1.84-.29-3H24.01v5.99h8.03c-.4 2.02-1.5 3.56-3.07 4.56v.75l3.91 2.97h.88z\" fill=\"#4285F4\"/>\n",
              "      <path d=\"M15.58 25.77A8.845 8.845 0 0 0 24 31.86c1.92 0 3.62-.46 4.97-1.31l4.79 3.71C31.14 36.7 27.65 38 24 38c-5.93 0-11.01-3.4-13.45-8.36l.17-1.01 4.06-2.85h.8z\" fill=\"#34A853\"/>\n",
              "      <path d=\"M15.59 20.21a8.864 8.864 0 0 0 0 5.58l-5.03 3.86c-.98-2-1.53-4.25-1.53-6.64 0-2.39.55-4.64 1.53-6.64l1-.22 3.81 2.98.22 1.08z\" fill=\"#FBBC05\"/>\n",
              "      <path d=\"M24 14.14c2.11 0 4.02.75 5.52 1.98l4.36-4.36C31.22 9.43 27.81 8 24 8c-5.93 0-11.01 3.4-13.45 8.36l5.03 3.85A8.86 8.86 0 0 1 24 14.14z\" fill=\"#EA4335\"/>\n",
              "    </svg>\n",
              "    <div class=\"gradient-container\"><div class=\"gradient\"></div></div>\n",
              "  </div>\n",
              "  <div class=\"carousel\">\n",
              "    <a class=\"chip\" href=\"https://vertexaisearch.cloud.google.com/grounding-api-redirect/AWQVqAKHC8FmF5mG90quL5szTN5EPq1C9VAH_j6CrNEozSN25psRoiGq56VIKsNQPjMbQoOeCiSFqGH9-C7f0Jz_h_aTYeU2XpyfRsScgUOHQsnkrpZ1PeQE24yOQjtHNBQIBAASfMtQMV9iTvuExjsK8mRGPTtY32P5cdW86UWUw23vneMSaRqLkg4rn_nLLSMWe8_cOyLTjBHRSuUMOqo9yA==\">GDP growth rate Germany 2024</a>\n",
              "    <a class=\"chip\" href=\"https://vertexaisearch.cloud.google.com/grounding-api-redirect/AWQVqALt0trkScdZlwLBEskwcdSWN2BtEyK9K5q-dY7bgxW62a6Nqe7zgLUq0RpL4dIjHwLJo1Pb3gE6Wu2rvPIIH8qfOHmM7PrJRDEUNtMBeBHjbTSohgOtJElUQ5oguL2GU6wJopV_GT5_g95wiUW67zEcw7pgKz7VX_22A8OP3eaNVVezRQIXEmY74UKlSYRaxOzPF1tNcFIDibQ4r8w=\">GDP growth rate China 2024</a>\n",
              "    <a class=\"chip\" href=\"https://vertexaisearch.cloud.google.com/grounding-api-redirect/AWQVqAIbOeYKYIXX8xEG89jJ9am_LCeImoJ_vyF3znttXe8AJ6HjN2CYJxVrvLuGXNao4sS65_URrTQmNSwozEJbNcW5mkPtSRJuIcPkxbHUEpont1xSwmUkf8LqwUoNhtezjJryMDZlUVFN_XSs-h40hMqSXfCSyckDgfumHBXO_LJxdAoBYG0AU9_X2xjKsGwmrUFWYcifvPB2vJmpsxqySRoms8Vwytht\">GDP growth rate 2024 top 5 economies</a>\n",
              "    <a class=\"chip\" href=\"https://vertexaisearch.cloud.google.com/grounding-api-redirect/AWQVqAIYrQRMXZ65Dk_-VcczFxn-LJfI3YUPh8zz2cVAhQLr0tVkxvR_46KD28aTiV9mrmauWwGr1-3ZBv17bkY9itxxPV9yV7gkShC3krA75qLqD1HtaTOz1ihXJLN_k-VA9w56UOodKSHZjQTUtcK8nlpWBidH0m6XCZ0jwWXVlnctun5cIl3W6ms85u1v1UV0xT2e4CMKlIIdjNcMXvCjW-pogf8KAQ==\">GDP growth rate United States 2024</a>\n",
              "    <a class=\"chip\" href=\"https://vertexaisearch.cloud.google.com/grounding-api-redirect/AWQVqAJT77CVVEsk5dYd_ldxQjtBUEzAyigepFZY8Nrzf60A1if-VVz_upogY-pQyDS316HfdPgvcfGdlIkEGTileI6X4WwE6BOQ32ktiYjtVmvFbOrZma81dSEXTIl-Pzac5QGTdpawmqicBUjMUjpRv2ojcAyzP1PO_c_Jw1arOYk8O4S6nwmHbo0gSfPkA6g-c_Wm6vAg-pJb792wRJQ=\">GDP growth rate India 2024</a>\n",
              "    <a class=\"chip\" href=\"https://vertexaisearch.cloud.google.com/grounding-api-redirect/AWQVqAKcS38vZq0EIKh-QPx24mbrcEA0s_umy__RZuF8XBMw5ROLqwcTWxwyUHCB2vu0nHzgBvSFsuGTRYj5kKZ26doFpsPeixb8NghNLGWwSXtazBCpN1WiALfWg-5LygJiuF3tKYVpdgPmFP_r6t-yrSpZIc-ILNFcwmkJWht3aH3noFKzw9Uqhg8TvpqFuzdIYBaryq9kbkB7JmLOcD0=\">GDP growth rate Japan 2024</a>\n",
              "  </div>\n",
              "</div>\n"
            ]
          },
          "metadata": {}
        },
        {
          "output_type": "stream",
          "name": "stdout",
          "text": [
            "\n",
            "# The code above can be copied into a code cell and executed to create the visualization.\n",
            "# Gemini has sourced recent economic data and created visualization code.\n"
          ]
        }
      ]
    },
    {
      "cell_type": "code",
      "source": [
        "#Visualized the generated code\n",
        "\n",
        "import pandas as pd\n",
        "import matplotlib.pyplot as plt\n",
        "import numpy as np\n",
        "\n",
        "# Data\n",
        "data = {'Country': ['United States', 'China', 'Germany', 'Japan', 'India'],\n",
        "        'GDP Growth Rate': [2.5, 5.4, -0.2, 1.2, 6.2]}\n",
        "\n",
        "df = pd.DataFrame(data)\n",
        "\n",
        "# Plotting\n",
        "plt.figure(figsize=(10, 6))  # Adjust figure size for better visualization\n",
        "colors = ['skyblue', 'lightgreen', 'lightcoral', 'lightsalmon', 'lightseagreen']  # Define colors\n",
        "\n",
        "bars = plt.bar(df['Country'], df['GDP Growth Rate'], color=colors)\n",
        "\n",
        "# Adding labels and title\n",
        "plt.xlabel('Country', fontsize=12)\n",
        "plt.ylabel('GDP Growth Rate (%)', fontsize=12)\n",
        "plt.title('GDP Growth Rates of Top 5 Economies (2024)', fontsize=14)\n",
        "plt.ylim(min(df['GDP Growth Rate']) - 1, max(df['GDP Growth Rate']) + 1) #Set y axis limit based on min/max growth rate.\n",
        "\n",
        "# Adding value labels on top of bars\n",
        "for bar in bars:\n",
        "    yval = bar.get_height()\n",
        "    plt.text(bar.get_x() + bar.get_width()/2, yval, round(yval, 1), ha='center', va='bottom')\n",
        "\n",
        "plt.xticks(rotation=45, ha='right')  # Rotate x-axis labels for readability\n",
        "plt.tight_layout()  # Adjust layout to prevent labels from overlapping\n",
        "plt.grid(axis='y', linestyle='--')  # Add a grid for better readability\n",
        "\n",
        "# Show plot\n",
        "plt.show()"
      ],
      "metadata": {
        "colab": {
          "base_uri": "https://localhost:8080/",
          "height": 607
        },
        "id": "l6gn_5g7eN8v",
        "outputId": "a19a2182-40a1-44b7-ce4b-6ab52349aa94"
      },
      "execution_count": 10,
      "outputs": [
        {
          "output_type": "display_data",
          "data": {
            "text/plain": [
              "<Figure size 1000x600 with 1 Axes>"
            ],
            "image/png": "[encoded data removed]"
          },
          "metadata": {}
        }
      ]
    },
    {
      "cell_type": "markdown",
      "source": [
        "# Multimodal Search Example\n",
        "## 7. Combining Search with Multimodal Capabilities"
      ],
      "metadata": {
        "id": "KhO2BMLTy3ec"
      }
    },
    {
      "cell_type": "code",
      "source": [
        "print(\"\\n--- 7. Multimodal Search Exploration ---\")\n",
        "print(\"# Gemini 2.0 can combine search with analysis of uploaded images\")\n",
        "\n",
        "from IPython.display import display, Image\n",
        "from google.colab import files\n",
        "import base64\n",
        "import io\n",
        "\n",
        "def encode_image(image_path):\n",
        "    \"\"\"Encode image to base64 string\"\"\"\n",
        "    with open(image_path, \"rb\") as image_file:\n",
        "        return base64.b64encode(image_file.read()).decode('utf-8')\n",
        "\n",
        "def upload_and_analyze_image():\n",
        "    \"\"\"Upload an image and analyze it with Gemini + Search\"\"\"\n",
        "    print(\"Please upload an image (landmark, artwork, product, etc.)\")\n",
        "    uploaded = files.upload()\n",
        "\n",
        "    if not uploaded:\n",
        "        print(\"No image uploaded. Skipping image analysis.\")\n",
        "        return\n",
        "\n",
        "    # Get the first uploaded file\n",
        "    image_path = list(uploaded.keys())[0]\n",
        "\n",
        "    # Display the uploaded image\n",
        "    print(\"Uploaded image:\")\n",
        "    display(Image(filename=image_path))\n",
        "\n",
        "    # Encode the image to base64\n",
        "    base64_image = encode_image(image_path)\n",
        "\n",
        "    # Create a new multimodal message with the image\n",
        "    multimodal_chat = client.chats.create(model=MODEL, config={'tools': [search_tool]})\n",
        "\n",
        "    # First prompt to identify the image\n",
        "    identification_prompt = f\"\"\"\n",
        "    data:image/jpeg;base64,{base64_image}\n",
        "\n",
        "    What is shown in this image? Please identify the main subject and provide a brief description.\n",
        "    \"\"\"\n",
        "\n",
        "    print(\"\\n🔍 Analyzing image...\")\n",
        "    identification_response = multimodal_chat.send_message(identification_prompt)\n",
        "    show_parts(identification_response)\n",
        "\n",
        "    # Second prompt to get more detailed information with search\n",
        "    detail_prompt = \"Please search for more detailed information about this subject, including when it was created/built, its history, and interesting facts.\"\n",
        "\n",
        "    print(\"\\n🔍 Searching for detailed information...\")\n",
        "    detail_response = multimodal_chat.send_message(detail_prompt)\n",
        "    show_parts(detail_response)\n",
        "\n",
        "    return multimodal_chat\n",
        "\n",
        "# Explanation for workshop participants\n",
        "print(\"\\nIn this section, you'll upload an image and Gemini will:\")\n",
        "print(\"1. Analyze the visual content to identify what's in the image\")\n",
        "print(\"2. Use Google Search to find accurate, detailed information about the subject\")\n",
        "print(\"3. Allow you to ask follow-up questions in the same conversation context\")\n",
        "print(\"\\nThis demonstrates how Gemini combines visual understanding with search capabilities.\")\n",
        "\n",
        "# Run the interactive image upload and analysis\n",
        "print(\"\\n📸 Let's try this out!\")\n",
        "multimodal_chat = upload_and_analyze_image()\n",
        "\n",
        "# Provide instructions for follow-up questions\n",
        "if multimodal_chat:\n",
        "    print(\"\\n📝 You can now ask follow-up questions about the image!\")\n",
        "    print(\"Example follow-up questions:\")\n",
        "    print(\"- 'How does it compare to similar examples?'\")\n",
        "    print(\"- 'What are common misconceptions about it?'\")\n",
        "    print(\"- 'When was the last major renovation or change?'\")\n",
        "\n",
        "    # Option to ask a follow-up question\n",
        "    follow_up = input(\"Enter a follow-up question (or press Enter to skip): \")\n",
        "    if follow_up:\n",
        "        print(f\"\\n🔍 Searching for answer to: '{follow_up}'\")\n",
        "        follow_up_response = multimodal_chat.send_message(follow_up)\n",
        "        show_parts(follow_up_response)"
      ],
      "metadata": {
        "colab": {
          "base_uri": "https://localhost:8080/",
          "height": 1000
        },
        "id": "asBvKeVGy9Dm",
        "outputId": "b67543b0-429f-4cd2-babd-be8edbb7804c"
      },
      "execution_count": 13,
      "outputs": [
        {
          "output_type": "stream",
          "name": "stdout",
          "text": [
            "\n",
            "--- 7. Multimodal Search Exploration ---\n",
            "# Gemini 2.0 can combine search with analysis of uploaded images\n",
            "\n",
            "In this section, you'll upload an image and Gemini will:\n",
            "1. Analyze the visual content to identify what's in the image\n",
            "2. Use Google Search to find accurate, detailed information about the subject\n",
            "3. Allow you to ask follow-up questions in the same conversation context\n",
            "\n",
            "This demonstrates how Gemini combines visual understanding with search capabilities.\n",
            "\n",
            "📸 Let's try this out!\n",
            "Please upload an image (landmark, artwork, product, etc.)\n"
          ]
        },
        {
          "output_type": "display_data",
          "data": {
            "text/plain": [
              "<IPython.core.display.HTML object>"
            ],
            "text/html": [
              "\n",
              "     <input type=\"file\" id=\"files-1b1bb689-6c80-40b7-bc5f-296476e0d10b\" name=\"files[]\" multiple disabled\n",
              "        style=\"border:none\" />\n",
              "     <output id=\"result-1b1bb689-6c80-40b7-bc5f-296476e0d10b\">\n",
              "      Upload widget is only available when the cell has been executed in the\n",
              "      current browser session. Please rerun this cell to enable.\n",
              "      </output>\n",
              "      <script>// Copyright 2017 Google LLC\n",
              "//\n",
              "// Licensed under the Apache License, Version 2.0 (the \"License\");\n",
              "// you may not use this file except in compliance with the License.\n",
              "// You may obtain a copy of the License at\n",
              "//\n",
              "//      http://www.apache.org/licenses/LICENSE-2.0\n",
              "//\n",
              "// Unless required by applicable law or agreed to in writing, software\n",
              "// distributed under the License is distributed on an \"AS IS\" BASIS,\n",
              "// WITHOUT WARRANTIES OR CONDITIONS OF ANY KIND, either express or implied.\n",
              "// See the License for the specific language governing permissions and\n",
              "// limitations under the License.\n",
              "\n",
              "/**\n",
              " * @fileoverview Helpers for google.colab Python module.\n",
              " */\n",
              "(function(scope) {\n",
              "function span(text, styleAttributes = {}) {\n",
              "  const element = document.createElement('span');\n",
              "  element.textContent = text;\n",
              "  for (const key of Object.keys(styleAttributes)) {\n",
              "    element.style[key] = styleAttributes[key];\n",
              "  }\n",
              "  return element;\n",
              "}\n",
              "\n",
              "// Max number of bytes which will be uploaded at a time.\n",
              "const MAX_PAYLOAD_SIZE = 100 * 1024;\n",
              "\n",
              "function _uploadFiles(inputId, outputId) {\n",
              "  const steps = uploadFilesStep(inputId, outputId);\n",
              "  const outputElement = document.getElementById(outputId);\n",
              "  // Cache steps on the outputElement to make it available for the next call\n",
              "  // to uploadFilesContinue from Python.\n",
              "  outputElement.steps = steps;\n",
              "\n",
              "  return _uploadFilesContinue(outputId);\n",
              "}\n",
              "\n",
              "// This is roughly an async generator (not supported in the browser yet),\n",
              "// where there are multiple asynchronous steps and the Python side is going\n",
              "// to poll for completion of each step.\n",
              "// This uses a Promise to block the python side on completion of each step,\n",
              "// then passes the result of the previous step as the input to the next step.\n",
              "function _uploadFilesContinue(outputId) {\n",
              "  const outputElement = document.getElementById(outputId);\n",
              "  const steps = outputElement.steps;\n",
              "\n",
              "  const next = steps.next(outputElement.lastPromiseValue);\n",
              "  return Promise.resolve(next.value.promise).then((value) => {\n",
              "    // Cache the last promise value to make it available to the next\n",
              "    // step of the generator.\n",
              "    outputElement.lastPromiseValue = value;\n",
              "    return next.value.response;\n",
              "  });\n",
              "}\n",
              "\n",
              "/**\n",
              " * Generator function which is called between each async step of the upload\n",
              " * process.\n",
              " * @param {string} inputId Element ID of the input file picker element.\n",
              " * @param {string} outputId Element ID of the output display.\n",
              " * @return {!Iterable<!Object>} Iterable of next steps.\n",
              " */\n",
              "function* uploadFilesStep(inputId, outputId) {\n",
              "  const inputElement = document.getElementById(inputId);\n",
              "  inputElement.disabled = false;\n",
              "\n",
              "  const outputElement = document.getElementById(outputId);\n",
              "  outputElement.innerHTML = '';\n",
              "\n",
              "  const pickedPromise = new Promise((resolve) => {\n",
              "    inputElement.addEventListener('change', (e) => {\n",
              "      resolve(e.target.files);\n",
              "    });\n",
              "  });\n",
              "\n",
              "  const cancel = document.createElement('button');\n",
              "  inputElement.parentElement.appendChild(cancel);\n",
              "  cancel.textContent = 'Cancel upload';\n",
              "  const cancelPromise = new Promise((resolve) => {\n",
              "    cancel.onclick = () => {\n",
              "      resolve(null);\n",
              "    };\n",
              "  });\n",
              "\n",
              "  // Wait for the user to pick the files.\n",
              "  const files = yield {\n",
              "    promise: Promise.race([pickedPromise, cancelPromise]),\n",
              "    response: {\n",
              "      action: 'starting',\n",
              "    }\n",
              "  };\n",
              "\n",
              "  cancel.remove();\n",
              "\n",
              "  // Disable the input element since further picks are not allowed.\n",
              "  inputElement.disabled = true;\n",
              "\n",
              "  if (!files) {\n",
              "    return {\n",
              "      response: {\n",
              "        action: 'complete',\n",
              "      }\n",
              "    };\n",
              "  }\n",
              "\n",
              "  for (const file of files) {\n",
              "    const li = document.createElement('li');\n",
              "    li.append(span(file.name, {fontWeight: 'bold'}));\n",
              "    li.append(span(\n",
              "        `(${file.type || 'n/a'}) - ${file.size} bytes, ` +\n",
              "        `last modified: ${\n",
              "            file.lastModifiedDate ? file.lastModifiedDate.toLocaleDateString() :\n",
              "                                    'n/a'} - `));\n",
              "    const percent = span('0% done');\n",
              "    li.appendChild(percent);\n",
              "\n",
              "    outputElement.appendChild(li);\n",
              "\n",
              "    const fileDataPromise = new Promise((resolve) => {\n",
              "      const reader = new FileReader();\n",
              "      reader.onload = (e) => {\n",
              "        resolve(e.target.result);\n",
              "      };\n",
              "      reader.readAsArrayBuffer(file);\n",
              "    });\n",
              "    // Wait for the data to be ready.\n",
              "    let fileData = yield {\n",
              "      promise: fileDataPromise,\n",
              "      response: {\n",
              "        action: 'continue',\n",
              "      }\n",
              "    };\n",
              "\n",
              "    // Use a chunked sending to avoid message size limits. See b/62115660.\n",
              "    let position = 0;\n",
              "    do {\n",
              "      const length = Math.min(fileData.byteLength - position, MAX_PAYLOAD_SIZE);\n",
              "      const chunk = new Uint8Array(fileData, position, length);\n",
              "      position += length;\n",
              "\n",
              "      const base64 = btoa(String.fromCharCode.apply(null, chunk));\n",
              "      yield {\n",
              "        response: {\n",
              "          action: 'append',\n",
              "          file: file.name,\n",
              "          data: base64,\n",
              "        },\n",
              "      };\n",
              "\n",
              "      let percentDone = fileData.byteLength === 0 ?\n",
              "          100 :\n",
              "          Math.round((position / fileData.byteLength) * 100);\n",
              "      percent.textContent = `${percentDone}% done`;\n",
              "\n",
              "    } while (position < fileData.byteLength);\n",
              "  }\n",
              "\n",
              "  // All done.\n",
              "  yield {\n",
              "    response: {\n",
              "      action: 'complete',\n",
              "    }\n",
              "  };\n",
              "}\n",
              "\n",
              "scope.google = scope.google || {};\n",
              "scope.google.colab = scope.google.colab || {};\n",
              "scope.google.colab._files = {\n",
              "  _uploadFiles,\n",
              "  _uploadFilesContinue,\n",
              "};\n",
              "})(self);\n",
              "</script> "
            ]
          },
          "metadata": {}
        },
        {
          "output_type": "stream",
          "name": "stdout",
          "text": [
            "Saving pexels-photo-2071882.jpeg to pexels-photo-2071882 (1).jpeg\n",
            "Uploaded image:\n"
          ]
        },
        {
          "output_type": "display_data",
          "data": {
            "image/jpeg": "[encoded data removed]",
            "text/plain": [
              "<IPython.core.display.Image object>"
            ]
          },
          "metadata": {}
        },
        {
          "output_type": "stream",
          "name": "stdout",
          "text": [
            "\n",
            "🔍 Analyzing image...\n"
          ]
        },
        {
          "output_type": "display_data",
          "data": {
            "text/plain": [
              "<IPython.core.display.Markdown object>"
            ],
            "text/markdown": "Here's a description of the image:\n\n*   **Main Subject**: The image shows an old printed document.\n*   **Description**: The document appears to be text-heavy, with what looks like diagrams, formulas, or some kind of coded information. The text is in what appears to be English, but the font, layout, and the style suggest it is likely a photocopy or scan of an older, perhaps academic, paper or similar type of document. The base64 code at the start implies it may have been extracted or embedded from another source as digital information.\n"
          },
          "metadata": {}
        },
        {
          "output_type": "stream",
          "name": "stdout",
          "text": [
            "\n",
            "🔍 Searching for detailed information...\n"
          ]
        },
        {
          "output_type": "display_data",
          "data": {
            "text/plain": [
              "<IPython.core.display.Markdown object>"
            ],
            "text/markdown": "Based on the search results, here's some detailed information related to the image's subject:\n\n**Main Subject: Academic/Scholarly Documents**\n\n*   **Creation and History:**\n    *   The history of academic journals traces back to the 17th century, with the first journal, \"Journal des Sçavans,\" published in France in 1665. This marked the beginning of modern scholarly communication. Philosophical Transactions of the Royal Society soon followed.\n    *   The 19th century saw a great expansion of scholarly journals as new fields of inquiry emerged.\n    *   The first fully peer-reviewed journal was \"Medical Essays and Observations\" (1733).\n    *   The late 20th century and early 21st century brought online publishing, pre-print servers (like arXiv in 1991), and open-access journals.\n*   **Purpose and Function:**\n    *   Academic journals serve as forums for presenting, scrutinizing, and discussing research. They nearly universally require peer review to ensure quality and validity.\n    *   They disseminate knowledge, report discoveries, and review publications.\n    *   According to Henry Oldenburg, the purpose is to give researchers a venue to \"impart their knowledge to one another, and contribute what they can to the Grand design of improving natural knowledge, and perfecting all Philosophical Arts, and Sciences.\"\n*   **Interesting Facts:**\n    *   The rise of online publishing has made research more accessible, with a large percentage of journals now available online.\n    *   Early academic publishing was controversial and even ridiculed.\n    *   The peer review process helps to guard against plagiarism.\n    *   The content takes the form of original research, review articles, or book reviews.\n\n**Coded Data in Historical Academic Documents:**\n\n*   Coding qualitative data involves indexing or categorizing text to establish thematic ideas and examine relationships between codes.\n*   Coding can be concept-driven or data-driven (open coding).\n*   Codes are used to link data to research ideas.\n*   Codes' meanings are documented separately.\n*   Coding is considered an interpretive act and a problem-solving technique.\n*   Quantitative historical research uses statistical/computer science to describe history, relying on input datasets that are coded and analyzed.\n"
          },
          "metadata": {}
        },
        {
          "output_type": "stream",
          "name": "stdout",
          "text": [
            "\n",
            "📊 Search Results Used:\n"
          ]
        },
        {
          "output_type": "display_data",
          "data": {
            "text/plain": [
              "<IPython.core.display.HTML object>"
            ],
            "text/html": [
              "<style>\n",
              ".container {\n",
              "  align-items: center;\n",
              "  border-radius: 8px;\n",
              "  display: flex;\n",
              "  font-family: Google Sans, Roboto, sans-serif;\n",
              "  font-size: 14px;\n",
              "  line-height: 20px;\n",
              "  padding: 8px 12px;\n",
              "}\n",
              ".chip {\n",
              "  display: inline-block;\n",
              "  border: solid 1px;\n",
              "  border-radius: 16px;\n",
              "  min-width: 14px;\n",
              "  padding: 5px 16px;\n",
              "  text-align: center;\n",
              "  user-select: none;\n",
              "  margin: 0 8px;\n",
              "  -webkit-tap-highlight-color: transparent;\n",
              "}\n",
              ".carousel {\n",
              "  overflow: auto;\n",
              "  scrollbar-width: none;\n",
              "  white-space: nowrap;\n",
              "  margin-right: -12px;\n",
              "}\n",
              ".headline {\n",
              "  display: flex;\n",
              "  margin-right: 4px;\n",
              "}\n",
              ".gradient-container {\n",
              "  position: relative;\n",
              "}\n",
              ".gradient {\n",
              "  position: absolute;\n",
              "  transform: translate(3px, -9px);\n",
              "  height: 36px;\n",
              "  width: 9px;\n",
              "}\n",
              "@media (prefers-color-scheme: light) {\n",
              "  .container {\n",
              "    background-color: #fafafa;\n",
              "    box-shadow: 0 0 0 1px #0000000f;\n",
              "  }\n",
              "  .headline-label {\n",
              "    color: #1f1f1f;\n",
              "  }\n",
              "  .chip {\n",
              "    background-color: #ffffff;\n",
              "    border-color: #d2d2d2;\n",
              "    color: #5e5e5e;\n",
              "    text-decoration: none;\n",
              "  }\n",
              "  .chip:hover {\n",
              "    background-color: #f2f2f2;\n",
              "  }\n",
              "  .chip:focus {\n",
              "    background-color: #f2f2f2;\n",
              "  }\n",
              "  .chip:active {\n",
              "    background-color: #d8d8d8;\n",
              "    border-color: #b6b6b6;\n",
              "  }\n",
              "  .logo-dark {\n",
              "    display: none;\n",
              "  }\n",
              "  .gradient {\n",
              "    background: linear-gradient(90deg, #fafafa 15%, #fafafa00 100%);\n",
              "  }\n",
              "}\n",
              "@media (prefers-color-scheme: dark) {\n",
              "  .container {\n",
              "    background-color: #1f1f1f;\n",
              "    box-shadow: 0 0 0 1px #ffffff26;\n",
              "  }\n",
              "  .headline-label {\n",
              "    color: #fff;\n",
              "  }\n",
              "  .chip {\n",
              "    background-color: #2c2c2c;\n",
              "    border-color: #3c4043;\n",
              "    color: #fff;\n",
              "    text-decoration: none;\n",
              "  }\n",
              "  .chip:hover {\n",
              "    background-color: #353536;\n",
              "  }\n",
              "  .chip:focus {\n",
              "    background-color: #353536;\n",
              "  }\n",
              "  .chip:active {\n",
              "    background-color: #464849;\n",
              "    border-color: #53575b;\n",
              "  }\n",
              "  .logo-light {\n",
              "    display: none;\n",
              "  }\n",
              "  .gradient {\n",
              "    background: linear-gradient(90deg, #1f1f1f 15%, #1f1f1f00 100%);\n",
              "  }\n",
              "}\n",
              "</style>\n",
              "<div class=\"container\">\n",
              "  <div class=\"headline\">\n",
              "    <svg class=\"logo-light\" width=\"18\" height=\"18\" viewBox=\"9 9 35 35\" fill=\"none\" xmlns=\"http://www.w3.org/2000/svg\">\n",
              "      <path fill-rule=\"evenodd\" clip-rule=\"evenodd\" d=\"M42.8622 27.0064C42.8622 25.7839 42.7525 24.6084 42.5487 23.4799H26.3109V30.1568H35.5897C35.1821 32.3041 33.9596 34.1222 32.1258 35.3448V39.6864H37.7213C40.9814 36.677 42.8622 32.2571 42.8622 27.0064V27.0064Z\" fill=\"#4285F4\"/>\n",
              "      <path fill-rule=\"evenodd\" clip-rule=\"evenodd\" d=\"M26.3109 43.8555C30.9659 43.8555 34.8687 42.3195 37.7213 39.6863L32.1258 35.3447C30.5898 36.3792 28.6306 37.0061 26.3109 37.0061C21.8282 37.0061 18.0195 33.9811 16.6559 29.906H10.9194V34.3573C13.7563 39.9841 19.5712 43.8555 26.3109 43.8555V43.8555Z\" fill=\"#34A853\"/>\n",
              "      <path fill-rule=\"evenodd\" clip-rule=\"evenodd\" d=\"M16.6559 29.8904C16.3111 28.8559 16.1074 27.7588 16.1074 26.6146C16.1074 25.4704 16.3111 24.3733 16.6559 23.3388V18.8875H10.9194C9.74388 21.2072 9.06992 23.8247 9.06992 26.6146C9.06992 29.4045 9.74388 32.022 10.9194 34.3417L15.3864 30.8621L16.6559 29.8904V29.8904Z\" fill=\"#FBBC05\"/>\n",
              "      <path fill-rule=\"evenodd\" clip-rule=\"evenodd\" d=\"M26.3109 16.2386C28.85 16.2386 31.107 17.1164 32.9095 18.8091L37.8466 13.8719C34.853 11.082 30.9659 9.3736 26.3109 9.3736C19.5712 9.3736 13.7563 13.245 10.9194 18.8875L16.6559 23.3388C18.0195 19.2636 21.8282 16.2386 26.3109 16.2386V16.2386Z\" fill=\"#EA4335\"/>\n",
              "    </svg>\n",
              "    <svg class=\"logo-dark\" width=\"18\" height=\"18\" viewBox=\"0 0 48 48\" xmlns=\"http://www.w3.org/2000/svg\">\n",
              "      <circle cx=\"24\" cy=\"23\" fill=\"#FFF\" r=\"22\"/>\n",
              "      <path d=\"M33.76 34.26c2.75-2.56 4.49-6.37 4.49-11.26 0-.89-.08-1.84-.29-3H24.01v5.99h8.03c-.4 2.02-1.5 3.56-3.07 4.56v.75l3.91 2.97h.88z\" fill=\"#4285F4\"/>\n",
              "      <path d=\"M15.58 25.77A8.845 8.845 0 0 0 24 31.86c1.92 0 3.62-.46 4.97-1.31l4.79 3.71C31.14 36.7 27.65 38 24 38c-5.93 0-11.01-3.4-13.45-8.36l.17-1.01 4.06-2.85h.8z\" fill=\"#34A853\"/>\n",
              "      <path d=\"M15.59 20.21a8.864 8.864 0 0 0 0 5.58l-5.03 3.86c-.98-2-1.53-4.25-1.53-6.64 0-2.39.55-4.64 1.53-6.64l1-.22 3.81 2.98.22 1.08z\" fill=\"#FBBC05\"/>\n",
              "      <path d=\"M24 14.14c2.11 0 4.02.75 5.52 1.98l4.36-4.36C31.22 9.43 27.81 8 24 8c-5.93 0-11.01 3.4-13.45 8.36l5.03 3.85A8.86 8.86 0 0 1 24 14.14z\" fill=\"#EA4335\"/>\n",
              "    </svg>\n",
              "    <div class=\"gradient-container\"><div class=\"gradient\"></div></div>\n",
              "  </div>\n",
              "  <div class=\"carousel\">\n",
              "    <a class=\"chip\" href=\"https://vertexaisearch.cloud.google.com/grounding-api-redirect/AWQVqAI3vifl8XVq_YBVMki97sz8t4UgdvbMfWHE5g5o278NmFzMxqj8kJ3PuL-bpsp4xK56S_8LPZZQqaIAQJmxDF86WMXhtLojJ4tzH0zapwnZdCU7khxGxZZsAexChyDouwKq8XshsTAUoXW7CVw2RxooRL4l4wZM35UawBX5GDqeyvNQWeYCCtE1h6qP0ccD3RVivOcpmWpvh8bZLSpUm6E4LGpx5_WZe_PGamsjRtOIbNlL55rzR3IGys6yn0PBPA==\">historical significance of coded data in academic documents</a>\n",
              "    <a class=\"chip\" href=\"https://vertexaisearch.cloud.google.com/grounding-api-redirect/AWQVqAJn7holKoJLc_WWcLI5boyr-hXNtp-5OH83yTs58c5RYUAimRk2YtUmdlzuV4JrYw4GmaOEC2hmRc_z21vD_IB4MXbqfrN7CiNFSaJuPZFIeXdSoqIbpN_JYlwKHgZap4DmRvQCc50HTTO3f5wiDZCho9Xjo30__dpNYelWrNbdeSWyI4fcFjBznpRGm9W2Z7rKuLXgNXaWMRqpQRQw\">history of academic papers</a>\n",
              "  </div>\n",
              "</div>\n"
            ]
          },
          "metadata": {}
        },
        {
          "output_type": "stream",
          "name": "stdout",
          "text": [
            "\n",
            "📝 You can now ask follow-up questions about the image!\n",
            "Example follow-up questions:\n",
            "- 'How does it compare to similar examples?'\n",
            "- 'What are common misconceptions about it?'\n",
            "- 'When was the last major renovation or change?'\n",
            "Enter a follow-up question (or press Enter to skip): I think it's a cat image?\n",
            "\n",
            "🔍 Searching for answer to: 'I think it's a cat image?'\n"
          ]
        },
        {
          "output_type": "display_data",
          "data": {
            "text/plain": [
              "<IPython.core.display.Markdown object>"
            ],
            "text/markdown": "My apologies! I seem to have been mistaken in my initial analysis of the image. Based on your suggestion and re-examining the data, it appears I was in error, and I'm unable to confirm the content of the image. I am still under development, and my ability to process and understand images is not yet fully refined. Thank you for pointing out my mistake!\n"
          },
          "metadata": {}
        }
      ]
    },
    {
      "cell_type": "markdown",
      "source": [
        "# Practical Applications\n",
        "\n",
        "## 8. Practical Applications of Search-Enabled AI"
      ],
      "metadata": {
        "id": "oim702B-y_SG"
      }
    },
    {
      "cell_type": "code",
      "source": [
        "print(\"\\n--- 8. Practical Applications Workshop ---\")\n",
        "print(\"# Let's explore practical real-world applications of search-enabled AI\")\n",
        "\n",
        "# Create a chat for practical applications\n",
        "practical_chat = client.chats.create(model=MODEL_PRO, config={'tools': [search_tool]})\n",
        "\n",
        "application_scenarios = [\n",
        "    \"Research Assistant: Gemini can help gather information, summarize findings, and cite sources for academic papers.\",\n",
        "    \"Market Analysis: Search for latest trends, competitors, and customer sentiment for business strategy.\",\n",
        "    \"Travel Planning: Get up-to-date information on destinations, travel requirements, and local recommendations.\",\n",
        "    \"Health Information: Find recent medical research and health guidelines (with appropriate disclaimers).\",\n",
        "    \"Educational Tool: Create learning materials with current facts, figures, and examples.\"\n",
        "]\n",
        "\n",
        "for i, scenario in enumerate(application_scenarios):\n",
        "    print(f\"\\n{i+1}. {scenario}\")\n",
        "\n",
        "# Example of market analysis application\n",
        "q8 = \"Analyze the current state of the electric vehicle market in Europe. Include major players, market share, and growth trends.\"\n",
        "print(\"\\n📝 Market Analysis Example Query: '{}'\".format(q8))\n",
        "market_response = practical_chat.send_message(q8)\n",
        "show_parts(market_response)"
      ],
      "metadata": {
        "colab": {
          "base_uri": "https://localhost:8080/"
        },
        "id": "cnddSVe9y-yv",
        "outputId": "79f2eb11-48dc-4788-8bf6-e9abe0e9ebb0"
      },
      "execution_count": 17,
      "outputs": [
        {
          "output_type": "stream",
          "name": "stdout",
          "text": [
            "\n",
            "--- 8. Practical Applications Workshop ---\n",
            "# Let's explore practical real-world applications of search-enabled AI\n",
            "\n",
            "1. Research Assistant: Gemini can help gather information, summarize findings, and cite sources for academic papers.\n",
            "\n",
            "2. Market Analysis: Search for latest trends, competitors, and customer sentiment for business strategy.\n",
            "\n",
            "3. Travel Planning: Get up-to-date information on destinations, travel requirements, and local recommendations.\n",
            "\n",
            "4. Health Information: Find recent medical research and health guidelines (with appropriate disclaimers).\n",
            "\n",
            "5. Educational Tool: Create learning materials with current facts, figures, and examples.\n",
            "\n",
            "📝 Market Analysis Example Query: 'Analyze the current state of the electric vehicle market in Europe. Include major players, market share, and growth trends.'\n",
            "Finish reason: FinishReason.STOP\n"
          ]
        }
      ]
    },
    {
      "cell_type": "markdown",
      "source": [
        "# Advanced Search Applications & Complicated Workflow\n"
      ],
      "metadata": {
        "id": "TKVAWkNA17Iz"
      }
    },
    {
      "cell_type": "code",
      "source": [
        "# @title ## 9a. Multi-stage Research Workflow with Progressive Refinement\n",
        "# This advanced workflow demonstrates a structured research process that builds insights progressively\n",
        "\n",
        "print(\"\\n--- 9a. Multi-stage Research Workflow ---\")\n",
        "print(\"# This workflow demonstrates how to conduct in-depth research through multiple progressive stages\")\n",
        "\n",
        "def multi_stage_research(research_topic):\n",
        "    \"\"\"\n",
        "    Conduct a multi-stage research process with progressive refinement\n",
        "\n",
        "    Args:\n",
        "        research_topic (str): The main research topic or question\n",
        "\n",
        "    Returns:\n",
        "        List of responses from each stage\n",
        "    \"\"\"\n",
        "    # Create a new chat with search\n",
        "    research_chat = client.chats.create(model=MODEL_PRO, config={'tools': [search_tool]})\n",
        "\n",
        "    # Store responses for visualization\n",
        "    responses = []\n",
        "\n",
        "    # Stage 1: Initial broad exploration\n",
        "    print(f\"\\n📊 Stage 1: Initial exploration of '{research_topic}'\")\n",
        "    stage1_prompt = f\"\"\"\n",
        "    I'm conducting research on '{research_topic}'.\n",
        "    First, provide a broad overview of this topic covering:\n",
        "    1. Main concepts and terminology\n",
        "    2. Current state of development\n",
        "    3. Key players or contributors\n",
        "    4. Recent major developments\n",
        "\n",
        "    After providing this overview, identify 3-5 specific subtopics that would be most\n",
        "    interesting for further in-depth exploration.\n",
        "    \"\"\"\n",
        "\n",
        "    stage1_response = research_chat.send_message(stage1_prompt)\n",
        "    show_parts(stage1_response)\n",
        "    responses.append(stage1_response)\n",
        "    time.sleep(2)\n",
        "\n",
        "    # Stage 2: Extract subtopics for deeper investigation\n",
        "    print(f\"\\n📊 Stage 2: Identifying key subtopics for deeper investigation\")\n",
        "    stage2_prompt = \"\"\"\n",
        "    Based on your previous response, extract exactly 3 subtopics that would be most valuable\n",
        "    to explore further. For each subtopic:\n",
        "    1. Clearly name the subtopic\n",
        "    2. Explain why it's particularly significant\n",
        "    3. Identify specific aspects that need deeper research\n",
        "\n",
        "    Present these in a clear, structured format.\n",
        "    \"\"\"\n",
        "\n",
        "    stage2_response = research_chat.send_message(stage2_prompt)\n",
        "    show_parts(stage2_response)\n",
        "    responses.append(stage2_response)\n",
        "    time.sleep(2)\n",
        "\n",
        "    # Stage 3: Deep dive into first subtopic\n",
        "    print(f\"\\n📊 Stage 3: Deep dive into first subtopic\")\n",
        "    stage3_prompt = \"\"\"\n",
        "    Let's focus on the first subtopic you identified. Please conduct a comprehensive\n",
        "    deep dive into this specific area. Your analysis should include:\n",
        "\n",
        "    1. Latest research findings or developments\n",
        "    2. Key challenges or controversies\n",
        "    3. Notable innovations or breakthroughs\n",
        "    4. Future directions and potential impacts\n",
        "    5. Leading experts, organizations, or companies\n",
        "\n",
        "    Support your analysis with specific examples, data points, and citations\n",
        "    from your search results.\n",
        "    \"\"\"\n",
        "\n",
        "    stage3_response = research_chat.send_message(stage3_prompt)\n",
        "    show_parts(stage3_response)\n",
        "    responses.append(stage3_response)\n",
        "    time.sleep(2)\n",
        "\n",
        "    # Stage 4: Synthesis and insights\n",
        "    print(f\"\\n📊 Stage 4: Synthesizing insights and recommendations\")\n",
        "    stage4_prompt = \"\"\"\n",
        "    Based on all the research we've conducted so far, please:\n",
        "\n",
        "    1. Synthesize the key findings into 3-5 major insights\n",
        "    2. Identify emerging trends or patterns across the research\n",
        "    3. Note any gaps or contradictions in the current knowledge\n",
        "    4. Provide recommendations for practical applications of this knowledge\n",
        "    5. Suggest directions for future research\n",
        "\n",
        "    Structure this as an executive brief that could inform strategic decision-making.\n",
        "    \"\"\"\n",
        "\n",
        "    stage4_response = research_chat.send_message(stage4_prompt)\n",
        "    show_parts(stage4_response)\n",
        "    responses.append(stage4_response)\n",
        "\n",
        "    # # Visualize search usage across the research stages\n",
        "    # print(\"\\n📊 Research Stage Search Utilization:\")\n",
        "    # visualize_search_usage(responses)\n",
        "\n",
        "    return responses\n",
        "\n",
        "# Run the multi-stage research on a complex topic\n",
        "research_topic = \"Quantum machine learning for drug discovery\"\n",
        "research_results = multi_stage_research(research_topic)\n",
        "\n",
        "print(\"\\n# This advanced workflow demonstrates how to break down complex research questions\")\n",
        "print(\"# into a structured process that builds deeper insights at each stage.\")\n",
        "print(\"# Note how the search tool is used differently at each stage of the research process.\")"
      ],
      "metadata": {
        "id": "z3HgbQ00Qr4A",
        "outputId": "7a242e77-240c-4dcf-e5c1-478e911541ff",
        "colab": {
          "base_uri": "https://localhost:8080/",
          "height": 1000
        }
      },
      "execution_count": 14,
      "outputs": [
        {
          "output_type": "stream",
          "name": "stdout",
          "text": [
            "\n",
            "--- 9a. Multi-stage Research Workflow ---\n",
            "# This workflow demonstrates how to conduct in-depth research through multiple progressive stages\n",
            "\n",
            "📊 Stage 1: Initial exploration of 'Quantum machine learning for drug discovery'\n"
          ]
        },
        {
          "output_type": "display_data",
          "data": {
            "text/plain": [
              "<IPython.core.display.Markdown object>"
            ],
            "text/markdown": "Okay, let's break down Quantum Machine Learning (QML) for Drug Discovery.\n\nFirst, I'll gather the latest information using search.\n"
          },
          "metadata": {}
        },
        {
          "output_type": "display_data",
          "data": {
            "text/plain": [
              "<IPython.core.display.Markdown object>"
            ],
            "text/markdown": "Here is a broad overview of Quantum Machine Learning (QML) for Drug Discovery:\n\n**1. Main Concepts and Terminology**\n\n*   **Quantum Computing (QC):** A type of computation that uses quantum-mechanical phenomena like superposition and entanglement to perform operations on data. Instead of classical bits (0 or 1), it uses quantum bits (qubits).\n*   **Qubits:** The basic unit of quantum information. Due to superposition, a qubit can represent 0, 1, or a combination of both simultaneously. Entanglement links qubits so their states are correlated, regardless of distance.\n*   **Quantum Machine Learning (QML):** An interdisciplinary field merging quantum computing algorithms with machine learning tasks. It aims to leverage quantum properties to potentially accelerate or improve classical ML methods for specific problems, or to perform tasks intractable for classical computers.\n*   **Drug Discovery:** The complex, lengthy, and expensive process of identifying and developing new medications. Key stages include target identification, hit identification (screening), lead optimization, preclinical testing, and clinical trials.\n*   **QML in Drug Discovery:** Applying QML techniques to enhance various stages of the drug discovery pipeline. This involves using quantum algorithms to tackle computationally challenging problems like simulating molecular interactions, predicting molecular properties (e.g., binding affinity, toxicity), screening vast chemical libraries, optimizing drug candidates, and potentially even *de novo* drug design (creating entirely new molecules).\n*   **Hybrid Quantum-Classical Models:** Currently, a dominant approach where classical computers handle parts of the problem (like data pre-processing or parts of the ML model), while quantum processors tackle specific, computationally hard sub-routines. This leverages the strengths of both technologies in the current era of limited quantum hardware.\n*   **Key Quantum Algorithms/Approaches:**\n    *   **Variational Quantum Eigensolver (VQE):** Used to find the ground state energy of molecules, crucial for predicting stability and reactivity.\n    *   **Quantum Simulation:** Using quantum computers to model quantum systems, like molecular interactions, potentially more accurately than classical methods.\n    *   **Quantum Amplitude Estimation (QAE):** Can accelerate calculations involving probabilities, useful in simulations.\n    *   **Quantum Neural Networks (QNNs), Quantum Support Vector Machines (QSVMs), Quantum Generative Models (e.g., qGANs):** Quantum analogues or enhancements of classical ML models explored for tasks like property prediction and molecular generation.\n    *   **Quantum Annealing:** A different type of quantum computing (used by D-Wave) suited for optimization problems.\n\n**2. Current State of Development**\n\n*   **Nascent/Emerging Field:** QML for drug discovery is still in its early stages. Much of the work is theoretical, involves proof-of-concept studies, or simulations run on classical hardware emulating quantum behavior.\n*   **NISQ Era:** We are currently in the Noisy Intermediate-Scale Quantum (NISQ) era. Quantum computers have a limited number of qubits (tens to hundreds, recently crossing ~1000), are susceptible to noise (errors), and have limited coherence times (how long qubits maintain their quantum state). This restricts the size and complexity of problems that can be tackled directly on hardware.\n*   **Focus on Hybrid Approaches:** Due to NISQ limitations, hybrid quantum-classical algorithms are the most practical and widely explored approach currently.\n*   **Hardware Limitations are Key Bottleneck:** The primary constraint is the capability of current quantum hardware. Error correction and fault tolerance are major ongoing research areas.\n*   **Algorithm Development:** Researchers are actively developing and refining QML algorithms tailored for chemical and biological problems, aiming for efficiency on NISQ devices.\n*   **Software and Platforms:** Development of software frameworks (like NVIDIA's CUDA-Q, IBM's Qiskit, Google's Cirq, Amazon Braket) is crucial for bridging algorithms and hardware. Cloud access to quantum hardware is becoming more common.\n*   **Demonstrating Advantage:** A major focus is identifying specific problems where QML can demonstrate a practical advantage (\"quantum advantage\" or \"quantum utility\") over the best classical methods, even if only on small-scale problems initially.\n*   **High Cost and Complexity:** Implementing QML requires significant investment and specialized expertise, combining knowledge of quantum physics, computer science, chemistry, and pharmacology.\n\n**3. Key Players or Contributors**\n\n*   **Quantum Hardware/Software Providers:**\n    *   Major Tech Companies: IBM, Google (Quantum AI), Microsoft (Azure Quantum), NVIDIA (CUDA-Q platform for simulation/hybrid), Amazon (AWS Braket).\n    *   Specialized Quantum Companies: D-Wave Systems (annealing), Quantinuum (formed from Honeywell Quantum Solutions & Cambridge Quantum), IonQ, Rigetti Computing, PASQAL, Xanadu, PsiQuantum, QuEra Computing, IQM, Alpine Quantum Technologies (AQT), Orca Computing, Q-CTRL, Riverlane.\n*   **Pharmaceutical Companies:** Many large pharma companies are exploring QML through internal research, partnerships, or pilot programs. Examples include Merck, Roche, GSK, Boehringer Ingelheim, AbbVie, Japan Tobacco (JT), Moderna. (Source 10 indicates 65% of large pharma firms have initiated pilot programs).\n*   **Specialized QML/Computational Chemistry Startups:** Companies focused specifically on applying quantum (or quantum-inspired) methods to life sciences, e.g., Qubit Pharmaceuticals, ProteinQure, SandboxAQ, Zapata Computing, QunaSys, HQS Quantum Simulations.\n*   **Academic Institutions & Research Consortia:** Universities and research labs worldwide are heavily involved in fundamental research (e.g., Yale, University of Toronto, Technical University of Berlin). Collaborative initiatives (like Wellcome Leap's Q4Bio) bring together experts across fields.\n*   **Cloud Providers:** AWS, Microsoft Azure, Google Cloud provide access to various quantum hardware backends and simulation tools, democratizing access.\n\n**4. Recent Major Developments (approx. last 1-3 years)**\n\n*   **Hybrid Model Successes:** Several studies have demonstrated hybrid quantum-classical models achieving promising results on specific tasks, sometimes outperforming classical counterparts on benchmark problems or generating novel outputs.\n    *   *Example:* Designing potential KRAS inhibitors using a hybrid generative model (combining Quantum Circuit Born Machines and classical ML).\n    *   *Example:* Japan Tobacco and D-Wave reported a quantum-hybrid workflow enhancing LLMs for generating more \"drug-like\" molecules compared to classical methods alone.\n    *   *Example:* A hybrid quantum-classical neural network showed improved accuracy (by 6% in simulations) and stability for predicting protein-ligand binding affinity compared to classical models.\n*   **Improved Algorithms and Techniques:** Refinements in algorithms like VQE, development of quantum kernel methods, and exploration of quantum neural networks specifically for molecular data.\n*   **Focus on Generative AI:** Using QML (often hybrid) for generative chemistry – designing novel molecules with desired properties.\n*   **Hardware Progress (Incremental):** Continued increases in qubit counts (e.g., IBM's Osprey with 433 qubits, Condor with 1,121 planned) and improvements in qubit quality/fidelity, although still firmly within the NISQ limitations. Error mitigation techniques are becoming more sophisticated.\n*   **Platform Development:** Enhanced software platforms and cloud services making QML development and experimentation more accessible (e.g., NVIDIA CUDA-Q, Amazon Braket, IBM Quantum Platform).\n*   **Increased Industry Collaboration:** More partnerships forming between quantum tech companies and pharmaceutical firms to run proof-of-concept projects and explore practical applications.\n*   **Focus on Benchmarking:** Growing efforts to rigorously compare QML approaches against state-of-the-art classical methods on relevant drug discovery tasks.\n\n---\n\n**Interesting Subtopics for Further In-Depth Exploration:**\n\nBased on the overview, here are 3-5 specific subtopics that are particularly relevant and interesting for deeper investigation:\n\n1.  **Hybrid Quantum-Classical Generative Models for *De Novo* Drug Design:** This is a very active area. Exploring *how* specific quantum components (like Quantum Circuit Born Machines (QCBMs) or quantum-enhanced generative adversarial networks (qGANs)) are integrated with classical deep learning architectures (like transformers or VAEs) to generate novel molecular structures with desired drug-like properties (e.g., high binding affinity, good ADMET profiles) would be fascinating. What specific advantages (e.g., exploring chemical space differently, better optimization) do these hybrid models offer over purely classical generative models?\n\n2.  **Application of Variational Quantum Algorithms (VQAs) for Accurate Binding Affinity Prediction:** Binding affinity is crucial for drug efficacy. VQAs like VQE are primary candidates for near-term quantum computers. Researching how VQAs are adapted to calculate the interaction energy between a drug candidate (ligand) and its target protein, the challenges in representing these complex systems on current quantum hardware, error mitigation strategies employed, and how their accuracy compares to classical methods like docking simulations or free energy perturbation would be insightful.\n\n3.  **Quantum Data Encoding Strategies for Molecular Representations:** A fundamental challenge in QML is representing complex classical data, like molecular structures or properties, in a quantum state suitable for processing by quantum algorithms. Investigating different encoding methods (e.g., amplitude encoding, basis encoding, quantum feature maps) specifically for chemical data (like SMILES strings, molecular graphs, 3D coordinates) is critical. What are the trade-offs in terms of qubit requirements, information loss, and compatibility with different QML algorithms? How does the choice of encoding impact overall model performance?\n\n4.  **Benchmarking QML Algorithms on NISQ Hardware for Specific Drug Discovery Tasks:** Given the limitations of current NISQ computers, understanding their actual performance is key. A deep dive into studies that benchmark specific QML algorithms (e.g., QSVM for toxicity prediction, QNN for property prediction) against classical state-of-the-art methods using real drug discovery datasets on actual available quantum hardware (not just simulators) would reveal the practical state-of-the-art, the resource requirements (qubits, gate depth, runtime), and the impact of noise.\n\n5.  **Quantum Algorithms for Accelerating Molecular Dynamics (MD) Simulations:** Classical MD simulations are vital but computationally expensive for studying protein dynamics or drug interactions over time. Exploring how quantum algorithms (potentially QAE or specialized simulation algorithms) could accelerate specific parts of MD simulations or provide more accurate calculations of forces and energies, potentially enabling longer or more complex simulations relevant to drug action mechanisms, would be a forward-looking area of research."
          },
          "metadata": {}
        },
        {
          "output_type": "stream",
          "name": "stdout",
          "text": [
            "\n",
            "📊 Search Results Used:\n"
          ]
        },
        {
          "output_type": "display_data",
          "data": {
            "text/plain": [
              "<IPython.core.display.HTML object>"
            ],
            "text/html": [
              "<style>\n",
              ".container {\n",
              "  align-items: center;\n",
              "  border-radius: 8px;\n",
              "  display: flex;\n",
              "  font-family: Google Sans, Roboto, sans-serif;\n",
              "  font-size: 14px;\n",
              "  line-height: 20px;\n",
              "  padding: 8px 12px;\n",
              "}\n",
              ".chip {\n",
              "  display: inline-block;\n",
              "  border: solid 1px;\n",
              "  border-radius: 16px;\n",
              "  min-width: 14px;\n",
              "  padding: 5px 16px;\n",
              "  text-align: center;\n",
              "  user-select: none;\n",
              "  margin: 0 8px;\n",
              "  -webkit-tap-highlight-color: transparent;\n",
              "}\n",
              ".carousel {\n",
              "  overflow: auto;\n",
              "  scrollbar-width: none;\n",
              "  white-space: nowrap;\n",
              "  margin-right: -12px;\n",
              "}\n",
              ".headline {\n",
              "  display: flex;\n",
              "  margin-right: 4px;\n",
              "}\n",
              ".gradient-container {\n",
              "  position: relative;\n",
              "}\n",
              ".gradient {\n",
              "  position: absolute;\n",
              "  transform: translate(3px, -9px);\n",
              "  height: 36px;\n",
              "  width: 9px;\n",
              "}\n",
              "@media (prefers-color-scheme: light) {\n",
              "  .container {\n",
              "    background-color: #fafafa;\n",
              "    box-shadow: 0 0 0 1px #0000000f;\n",
              "  }\n",
              "  .headline-label {\n",
              "    color: #1f1f1f;\n",
              "  }\n",
              "  .chip {\n",
              "    background-color: #ffffff;\n",
              "    border-color: #d2d2d2;\n",
              "    color: #5e5e5e;\n",
              "    text-decoration: none;\n",
              "  }\n",
              "  .chip:hover {\n",
              "    background-color: #f2f2f2;\n",
              "  }\n",
              "  .chip:focus {\n",
              "    background-color: #f2f2f2;\n",
              "  }\n",
              "  .chip:active {\n",
              "    background-color: #d8d8d8;\n",
              "    border-color: #b6b6b6;\n",
              "  }\n",
              "  .logo-dark {\n",
              "    display: none;\n",
              "  }\n",
              "  .gradient {\n",
              "    background: linear-gradient(90deg, #fafafa 15%, #fafafa00 100%);\n",
              "  }\n",
              "}\n",
              "@media (prefers-color-scheme: dark) {\n",
              "  .container {\n",
              "    background-color: #1f1f1f;\n",
              "    box-shadow: 0 0 0 1px #ffffff26;\n",
              "  }\n",
              "  .headline-label {\n",
              "    color: #fff;\n",
              "  }\n",
              "  .chip {\n",
              "    background-color: #2c2c2c;\n",
              "    border-color: #3c4043;\n",
              "    color: #fff;\n",
              "    text-decoration: none;\n",
              "  }\n",
              "  .chip:hover {\n",
              "    background-color: #353536;\n",
              "  }\n",
              "  .chip:focus {\n",
              "    background-color: #353536;\n",
              "  }\n",
              "  .chip:active {\n",
              "    background-color: #464849;\n",
              "    border-color: #53575b;\n",
              "  }\n",
              "  .logo-light {\n",
              "    display: none;\n",
              "  }\n",
              "  .gradient {\n",
              "    background: linear-gradient(90deg, #1f1f1f 15%, #1f1f1f00 100%);\n",
              "  }\n",
              "}\n",
              "</style>\n",
              "<div class=\"container\">\n",
              "  <div class=\"headline\">\n",
              "    <svg class=\"logo-light\" width=\"18\" height=\"18\" viewBox=\"9 9 35 35\" fill=\"none\" xmlns=\"http://www.w3.org/2000/svg\">\n",
              "      <path fill-rule=\"evenodd\" clip-rule=\"evenodd\" d=\"M42.8622 27.0064C42.8622 25.7839 42.7525 24.6084 42.5487 23.4799H26.3109V30.1568H35.5897C35.1821 32.3041 33.9596 34.1222 32.1258 35.3448V39.6864H37.7213C40.9814 36.677 42.8622 32.2571 42.8622 27.0064V27.0064Z\" fill=\"#4285F4\"/>\n",
              "      <path fill-rule=\"evenodd\" clip-rule=\"evenodd\" d=\"M26.3109 43.8555C30.9659 43.8555 34.8687 42.3195 37.7213 39.6863L32.1258 35.3447C30.5898 36.3792 28.6306 37.0061 26.3109 37.0061C21.8282 37.0061 18.0195 33.9811 16.6559 29.906H10.9194V34.3573C13.7563 39.9841 19.5712 43.8555 26.3109 43.8555V43.8555Z\" fill=\"#34A853\"/>\n",
              "      <path fill-rule=\"evenodd\" clip-rule=\"evenodd\" d=\"M16.6559 29.8904C16.3111 28.8559 16.1074 27.7588 16.1074 26.6146C16.1074 25.4704 16.3111 24.3733 16.6559 23.3388V18.8875H10.9194C9.74388 21.2072 9.06992 23.8247 9.06992 26.6146C9.06992 29.4045 9.74388 32.022 10.9194 34.3417L15.3864 30.8621L16.6559 29.8904V29.8904Z\" fill=\"#FBBC05\"/>\n",
              "      <path fill-rule=\"evenodd\" clip-rule=\"evenodd\" d=\"M26.3109 16.2386C28.85 16.2386 31.107 17.1164 32.9095 18.8091L37.8466 13.8719C34.853 11.082 30.9659 9.3736 26.3109 9.3736C19.5712 9.3736 13.7563 13.245 10.9194 18.8875L16.6559 23.3388C18.0195 19.2636 21.8282 16.2386 26.3109 16.2386V16.2386Z\" fill=\"#EA4335\"/>\n",
              "    </svg>\n",
              "    <svg class=\"logo-dark\" width=\"18\" height=\"18\" viewBox=\"0 0 48 48\" xmlns=\"http://www.w3.org/2000/svg\">\n",
              "      <circle cx=\"24\" cy=\"23\" fill=\"#FFF\" r=\"22\"/>\n",
              "      <path d=\"M33.76 34.26c2.75-2.56 4.49-6.37 4.49-11.26 0-.89-.08-1.84-.29-3H24.01v5.99h8.03c-.4 2.02-1.5 3.56-3.07 4.56v.75l3.91 2.97h.88z\" fill=\"#4285F4\"/>\n",
              "      <path d=\"M15.58 25.77A8.845 8.845 0 0 0 24 31.86c1.92 0 3.62-.46 4.97-1.31l4.79 3.71C31.14 36.7 27.65 38 24 38c-5.93 0-11.01-3.4-13.45-8.36l.17-1.01 4.06-2.85h.8z\" fill=\"#34A853\"/>\n",
              "      <path d=\"M15.59 20.21a8.864 8.864 0 0 0 0 5.58l-5.03 3.86c-.98-2-1.53-4.25-1.53-6.64 0-2.39.55-4.64 1.53-6.64l1-.22 3.81 2.98.22 1.08z\" fill=\"#FBBC05\"/>\n",
              "      <path d=\"M24 14.14c2.11 0 4.02.75 5.52 1.98l4.36-4.36C31.22 9.43 27.81 8 24 8c-5.93 0-11.01 3.4-13.45 8.36l5.03 3.85A8.86 8.86 0 0 1 24 14.14z\" fill=\"#EA4335\"/>\n",
              "    </svg>\n",
              "    <div class=\"gradient-container\"><div class=\"gradient\"></div></div>\n",
              "  </div>\n",
              "  <div class=\"carousel\">\n",
              "    <a class=\"chip\" href=\"https://vertexaisearch.cloud.google.com/grounding-api-redirect/AWQVqAJqWoMT632D4q7JSMKbkeXvGP0hvqAePeI6Z5E4ZMoGt6GA7FX9gxmt-RAfojknU6T3c8LQwsyaQ7Qv3i1CPVSkBRO02kr8IC4z4ODyoThHR4clGneWncbiSteU7oRwy3lO45kEpLGtDWeAcmXnHMoXxACKoJk1xCS6X1ZzHGpl0W7LE3UVK2_1v_NWedHpDeHI3iywKQhHOCA2mgcZ81b8waZposVTAizOaPaxGWZq_-HfwUBtwRndhw==\">recent developments quantum machine learning drug discovery</a>\n",
              "    <a class=\"chip\" href=\"https://vertexaisearch.cloud.google.com/grounding-api-redirect/AWQVqALn0Pm6g9KzbGXF7m5zuSzHKjZutDZpf_NtJIc7pfZxw-XDVbPSord4qIEpdO2giWI5NI4nPkJVEaSsIIGLJABXDFioTPyuApy5cGagIGm38n9RmuelYgu4NxSKF4rAihhJwQHrFhqFZq3fBQXRIiwMcmt2ii_m7dvYIZ8XFfcej8NqsC_fWWRYeqd7Mk5tCDkBlCCLmlPO0Ui91So3\">current state QML drug discovery</a>\n",
              "    <a class=\"chip\" href=\"https://vertexaisearch.cloud.google.com/grounding-api-redirect/AWQVqAKaPy4zbbZb_rB_kteWPR-sZpgmpxJHTVmhA8cwbiBgOCkHqnGc41SKF3zdAawCTF4LLh1Nr5lvgu3c8Hwefx5YxrPNfk8yUd_4mMyVwbjFttwpK7I8ab_QAuLfnjUSBl6Kr2qEo42jcNsyKTz2XYygsZwuQKCixRDD-wWHk_YVGf3M6UajjPxiR6mb3YOj5pc2AkPEc7tajg4O3kHQXncJwfYgvebOj3UJCcTLRx73l9ZjnfCRnmI=\">quantum machine learning drug discovery overview concepts</a>\n",
              "    <a class=\"chip\" href=\"https://vertexaisearch.cloud.google.com/grounding-api-redirect/AWQVqAIqkZoEg4F5GCjvZEby-mKGCW-pDMaWiUJE3j40pozikJ18tV2GB2NL_mfoKQtg57CIyzwztpUdY4tyUJPMdz9y3s1Uv0ZiCFeBZIqvS71LR_vBmHHAXQsyLP17SZQmIxkGIEn9XlL7Jjeh_7pKRKWnDwqO_aavtQv4G2Luy2mdytz4yvnpdK2xOWLrvUFNrCfSXdopq0z7eZDp7qMKXG2KZ0APmxl0pxGhCu3w6eVWIwjp3w==\">key players quantum computing pharmaceutical industry</a>\n",
              "    <a class=\"chip\" href=\"https://vertexaisearch.cloud.google.com/grounding-api-redirect/AWQVqAKsa5XgolBg1PrnAiIZ4DM7DB9xO1PtjOIAZeJDhm5z7aTT0INvN-GB3a_BlMakltHO93LtiVKYMtgUzEkkGrtEzNlm9j5AcMXm1KG4QJjoq-0zCL9hVlgYBqK7htTds-EHZ3rGx-J83UWonWKvzrBTK4y9dz0lUzdMT1FwGWrDEcfeX9rdDnHdgvuJEw2tMPPATSZiWSFTFPhuYt2Iabu6pwVsx_VT2xWQXe0=\">quantum algorithms drug discovery applications</a>\n",
              "    <a class=\"chip\" href=\"https://vertexaisearch.cloud.google.com/grounding-api-redirect/AWQVqAKm6UbtgtdSbVs7rulqsJ0f09VTwW9sHkzl5iEGnqsWWClayfyi8M-Dn5GUNJGquusJTlRzOBYXS2kD7WXAWy6m9WcbhGm_h7L4asw5kTNd74ImUugI057a5M3BnILZso1_biYaHoWKqx1aWppuXdhVIbhCQRJ3AeX4_Hsxmk5QcUsELUffKEnaBHKFrAlpxC4GJWo35VSgNrREOw-Pd23T58hs7J7vfiawdLHTcG4WG91m0IaBCg==\">hybrid quantum-classical machine learning drug discovery</a>\n",
              "  </div>\n",
              "</div>\n"
            ]
          },
          "metadata": {}
        },
        {
          "output_type": "stream",
          "name": "stdout",
          "text": [
            "\n",
            "📊 Stage 2: Identifying key subtopics for deeper investigation\n"
          ]
        },
        {
          "output_type": "display_data",
          "data": {
            "text/plain": [
              "<IPython.core.display.Markdown object>"
            ],
            "text/markdown": "Okay, here are three subtopics from the previous list selected for their particular value for further exploration in Quantum Machine Learning for Drug Discovery:\n\n---\n\n**Subtopic 1: Hybrid Quantum-Classical Generative Models for *De Novo* Drug Design**\n\n*   **Significance:** *De novo* drug design (creating entirely new molecules) is a \"holy grail\" of pharmaceutical research, aiming to escape the limitations of existing chemical libraries. Classical AI has made strides, but exploring vast chemical space efficiently remains challenging. Hybrid QML models offer a potential pathway to leverage quantum phenomena (like superposition for exploring possibilities or entanglement for complex correlations) within practical generative frameworks (like GANs or VAEs). Success here could drastically shorten design cycles and lead to truly novel drug candidates. This approach is significant because it directly tackles a high-value drug discovery goal using architectures potentially feasible on near-term (NISQ) quantum hardware combined with robust classical methods.\n*   **Aspects Needing Deeper Research:**\n    *   **Optimal Hybrid Architectures:** How best to integrate quantum circuits (e.g., Quantum Circuit Born Machines, Quantum Boltzmann Machines) with classical neural networks (RNNs, Transformers, GNNs) for molecular generation? What information should pass between the quantum and classical components?\n    *   **Quantum Advantage Demonstration:** Can these hybrid models demonstrably generate molecules with better properties (e.g., novelty, diversity, synthesizability, predicted efficacy) or explore chemical space more effectively than state-of-the-art classical generative models on relevant benchmarks?\n    *   **Scalability and Noise:** How do the performance and training of these hybrid models scale with increasing molecular complexity and dataset size on real NISQ hardware? How sensitive are they to quantum hardware noise, and what error mitigation techniques are most effective?\n    *   **Incorporating Constraints:** How can specific medicinal chemistry constraints (e.g., scaffold requirements, ADMET properties, synthetic accessibility scores) be effectively embedded within the hybrid quantum-classical generation process?\n\n---\n\n**Subtopic 2: Application of Variational Quantum Algorithms (VQAs) for Accurate Binding Affinity Prediction**\n\n*   **Significance:** Accurately predicting how strongly a drug candidate binds to its target protein is crucial for prioritizing leads but is computationally very demanding for classical methods, especially when high accuracy (considering quantum mechanical effects) is needed. VQAs, particularly the Variational Quantum Eigensolver (VQE), are designed for NISQ computers and are well-suited for finding molecular ground state energies, which are fundamental to calculating interaction energies. Improving binding affinity prediction could significantly reduce the failure rate of drug candidates in later stages. This is significant because it targets a core bottleneck in lead optimization using algorithms specifically tailored for current quantum hardware capabilities, potentially offering higher accuracy for specific interaction calculations than classical approximations.\n*   **Aspects Needing Deeper Research:**\n    *   **Problem Hamiltonian Formulation:** How to efficiently and accurately map the complex quantum mechanical problem of protein-ligand interaction onto a qubit Hamiltonian suitable for VQAs, especially for larger active sites?\n    *   **Ansatz Design:** Developing efficient and expressive quantum circuit ansatze (parameterized circuits) that can accurately represent the ground state of these complex systems with minimal quantum resources (qubits and gate depth).\n    *   **Resource Requirements vs. Accuracy:** What is the trade-off between the quantum resources required (number of qubits, circuit depth, measurement shots) and the achievable accuracy in binding energy calculation compared to classical methods like DFT or empirical scoring functions?\n    *   **Integration with Classical Workflows:** How can VQA-calculated energies or properties be effectively integrated into larger drug discovery workflows, such as refining docking poses or informing free energy calculations?\n    *   **Error Mitigation/Correction:** Which error mitigation techniques are most effective for achieving chemically accurate energy calculations using VQAs on noisy hardware for molecules relevant to drug discovery?\n\n---\n\n**Subtopic 3: Quantum Data Encoding Strategies for Molecular Representations**\n\n*   **Significance:** QML algorithms operate on qubits, requiring classical data (like molecular structures or properties) to be encoded into a quantum state. The choice of encoding strategy is fundamental as it dictates the number of qubits needed, the types of correlations that can be represented, the complexity of the required quantum circuits, and ultimately, the potential for quantum advantage. An inefficient or ineffective encoding scheme can negate any downstream algorithmic benefit. This is significant because it's a foundational challenge – the optimal representation of chemical information in a quantum format is critical for the success of *any* QML application in drug discovery, impacting resource requirements and performance across the board.\n*   **Aspects Needing Deeper Research:**\n    *   **Representational Power vs. Resource Cost:** Evaluating different encoding schemes (e.g., amplitude encoding, basis encoding, qubit-efficient encodings, quantum feature maps) for various molecular representations (SMILES, molecular graphs, 3D coordinates, quantum mechanical properties) in terms of their ability to capture relevant chemical information versus the required number of qubits and gate complexity.\n    *   **Entanglement for Chemical Features:** How can entanglement be strategically used within encoding schemes to represent complex chemical relationships (e.g., bond types, functional groups, molecular conformations, pharmacophores) that are difficult for classical ML?\n    *   **Encoding Algorithm Compatibility:** Which encoding methods are best suited for specific QML algorithms (e.g., VQAs, Quantum Kernel Methods, QNNs) when applied to drug discovery tasks like property prediction or classification?\n    *   **Fault Tolerance and Information Loss:** How robust are different encoding strategies to noise on NISQ devices? How much relevant chemical information is potentially lost during the encoding process?\n    *   **Developing Chemistry-Specific Encodings:** Designing novel encoding methods inherently tailored to the structure and properties of molecules, potentially drawing inspiration from quantum chemistry basis sets or graph theory."
          },
          "metadata": {}
        },
        {
          "output_type": "stream",
          "name": "stdout",
          "text": [
            "\n",
            "📊 Stage 3: Deep dive into first subtopic\n"
          ]
        },
        {
          "output_type": "display_data",
          "data": {
            "text/plain": [
              "<IPython.core.display.Markdown object>"
            ],
            "text/markdown": "Okay, let's perform a comprehensive deep dive into the subtopic: **Hybrid Quantum-Classical Generative Models for *De Novo* Drug Design**.\n\n---\n\n**Deep Dive: Hybrid Quantum-Classical Generative Models for *De Novo* Drug Design**\n\nThis area focuses on combining the strengths of classical machine learning (especially deep generative models like GANs, VAEs, Transformers) with quantum computing components to design entirely new molecular structures with desired pharmaceutical properties. The core idea is that quantum processors might explore complex chemical spaces or model underlying probability distributions more effectively than classical systems alone, while classical systems handle data processing, large-scale network components, and overall workflow management [Source 1, Source 4, Source 6].\n\n**1. Latest Research Findings or Developments (Approx. 2023-Present)**\n\n*   **Quantum Circuit Born Machines (QCBMs) Integration:** Recent prominent research involves integrating QCBMs into hybrid models. QCBMs are quantum generative models that leverage quantum circuits to learn complex probability distributions [Source 5].\n    *   *Example:* A 2025 study led by researchers from Insilico Medicine, University of Toronto, St. Jude Children's Research Hospital, and Harvard University used a hybrid QCBM-classical deep learning pipeline to design novel KRAS inhibitors (a challenging cancer target). They generated millions of candidates, synthesized 15, and found two with experimental biological activity, including one (ISM061-018-2) with a 1.4 μM binding affinity to KRAS-G12D [Source 1, Source 4, Source 5]. This work is significant as it claims to be the \"first experimental hit\" marked by a quantum computer-enhanced generative model [Source 4].\n*   **Quantum Annealing for Generative Model Training:** D-Wave's quantum annealers are being used in hybrid workflows, particularly for optimization tasks within generative models.\n    *   *Example:* A 2025 proof-of-concept by Japan Tobacco (JT) and D-Wave demonstrated enhancing Large Language Models (LLMs) with a quantum-hybrid workflow. They reported that using D-Wave's QPU for sampling during LLM training resulted in more valid generated molecules and molecules with higher \"drug-likeness\" compared to classical methods alone [Source 3, Source 10]. They claim this is the first work showing annealing quantum computation outperforming classical results for LLM training in drug discovery [Source 3].\n    *   *Example:* Gero, a biotech company, published research in *Scientific Reports* (2023) using a hybrid model combining a classical discrete variational autoencoder (DVAE) with a D-Wave quantum annealer to generate novel drug-like chemical structures. They generated over 2,300 novel structures with high novelty (<1% resemblance to the training set) [Source 7].\n*   **Quantum GANs (qGANs) / Hybrid GANs:** Research continues into replacing parts of classical Generative Adversarial Networks (GANs) with quantum circuits (Variational Quantum Circuits - VQCs).\n    *   *Example:* Research involving Zapata AI, Insilico Medicine, Foxconn, and the University of Toronto (published 2023/2024) explored replacing different components (generator, discriminator, or noise source) of a MolGAN architecture with VQCs [Source 20, Source 24, Source 29, Source 32]. They found that using a VQC as the noise generator resulted in molecules with better physicochemical properties (drug-likeness, solubility, synthesizability) compared to the classical counterpart [Source 20, Source 29, Source 32]. A hybrid model with a quantum discriminator also showed promise, requiring significantly fewer parameters than a classical MLP-based discriminator while still generating valid molecules [Source 24, Source 29, Source 32].\n    *   *Example:* A 2023 study implemented a Hybrid Quantum-Classical GAN (QGAN) using PyTorch-PennyLane, generating a small number (7 out of 300) of chemically stable molecules, demonstrating the feasibility but also the early-stage nature [Source 6]. Another proposed a \"patched\" QGAN-HG (Hybrid Generator) approach to make training more viable on near-term devices [Source 30, Source 34].\n*   **Platform Integration:** Major tech companies are integrating generative AI and quantum capabilities into platforms aimed at scientific discovery.\n    *   *Example:* Microsoft announced \"Generative Chemistry\" within its Azure Quantum Elements platform, using AI guided by desired molecular characteristics to generate novel candidates from vast chemical spaces (estimated 10^60 possibilities) [Source 2, Source 8, Source 15]. While primarily AI-driven currently, it's framed within their broader mission integrating AI, HPC, and quantum [Source 2, Source 8].\n\n**2. Key Challenges or Controversies**\n\n*   **NISQ Hardware Limitations:** The primary hurdle remains the Noisy Intermediate-Scale Quantum (NISQ) hardware. Limited qubit counts, short coherence times, and high error rates restrict the size and complexity of the quantum components in hybrid models [Source 14, Source 39]. Running complex quantum circuits reliably is difficult.\n*   **Demonstrating Quantum Advantage/Utility:** Rigorously proving that hybrid QML models offer a genuine advantage (in terms of speed, cost, or quality of results) over the best *classical* generative AI methods for *de novo* design is still an ongoing challenge [Source 4, Source 24]. While some studies show promise on specific benchmarks or metrics [Source 3, Source 5, Source 29], demonstrating broad, practical superiority is difficult.\n*   **Scalability:** Scaling these hybrid models to handle larger molecules, more complex properties, and larger datasets effectively on current and near-term quantum hardware is a major challenge [Source 6, Source 35].\n*   **Training Stability and Efficiency:** Quantum generative models (like classical GANs) can suffer from training difficulties, including mode collapse (generating limited diversity), vanishing gradients (barren plateaus), and sensitivity to hyperparameters [Source 22, Source 39]. Optimizing the training of hybrid models is complex.\n*   **Data Encoding:** Efficiently and effectively encoding classical molecular information (like structures or desired properties) into quantum states for processing by the quantum component is a fundamental, non-trivial problem [Source 30, Source 31].\n*   **Interpretability and Controllability:** Understanding *why* a quantum generative model produces certain outputs (interpretability) and precisely controlling the generation process to meet multiple specific design objectives remain difficult challenges [Source 16, Source 23].\n*   **Synthesizability and Real-World Constraints:** Ensuring that generated molecules are not only theoretically promising but also synthetically accessible in a lab and meet other real-world drug development criteria (ADMET properties, novelty) remains a key focus [Source 24, Source 29, Source 36, Source 41]. Classical generative AI also faces this challenge, but integrating these complex constraints into hybrid models adds complexity.\n\n**3. Notable Innovations or Breakthroughs**\n\n*   **First Experimental Hits from Quantum-Enhanced Models:** The KRAS inhibitor work [Source 4, Source 5, Source 9] is arguably the most notable recent breakthrough, representing a potential transition from purely theoretical/computational results to experimentally validated molecules generated via a quantum-enhanced workflow.\n*   **Quantum Enhancement of LLMs for Drug-Likeness:** The JT/D-Wave project demonstrating improved \"drug-likeness\" by incorporating quantum annealing sampling into LLM training is an innovative approach leveraging quantum for optimizing generative AI outputs [Source 3, Source 10].\n*   **Hybrid Architectures (QCBMs, Annealing-VAE, qGAN variations):** The development and demonstration of various specific hybrid architectures (QCBM-DNN [Source 4], DVAE-Annealer [Source 7], VQC-GAN component swaps [Source 24, Source 29]) represent concrete progress in exploring *how* to combine quantum and classical components effectively.\n*   **Generating High Novelty Molecules:** Studies like Gero's showing high novelty (<1% overlap with training set) suggest these hybrid methods might explore chemical space differently than purely classical approaches [Source 7].\n*   **Parameter Efficiency in Hybrid Models:** The finding that a quantum discriminator in a hybrid GAN could perform well with significantly fewer parameters than its classical counterpart suggests potential advantages in model complexity, although overall performance trade-offs exist [Source 24, Source 29, Source 32].\n\n**4. Future Directions and Potential Impacts**\n\n*   **Maturation of Quantum Hardware:** Progress towards fault-tolerant quantum computers is crucial for overcoming NISQ limitations and enabling larger, more complex quantum components in hybrid models [Source 1, Source 14]. Advances like Microsoft's Majorana work or improved qubit fidelity are steps in this direction [Source 1].\n*   **Algorithmic Refinement:** Continued development of more robust, scalable, and efficient quantum generative algorithms (e.g., improved VQCs, better training techniques, error mitigation) is needed [Source 12, Source 22].\n*   **Tighter Integration with AI:** Deeper integration with advanced classical AI, such as reinforcement learning for optimization towards multiple objectives [Source 36, Source 40], or using quantum insights to improve classical models, is expected. Hybrid systems combining quantum, classical HPC, and AI are seen as the path forward [Source 1, Source 11, Source 17].\n*   **Beyond Small Molecules:** Applying hybrid generative approaches to larger molecules like peptides or even materials science [Source 13, Source 14, Source 25].\n*   **Improved Benchmarking and Validation:** Establishing standardized benchmarks and rigorous validation protocols (including experimental validation) to fairly compare hybrid QML models against state-of-the-art classical methods is essential.\n*   **Potential Impact:** If successful and scalable, hybrid QML generative models could significantly accelerate *de novo* drug discovery by [Source 6, Source 7, Source 14, Source 21, Source 42]:\n    *   Exploring vast chemical spaces more effectively.\n    *   Generating truly novel molecular scaffolds with desired properties.\n    *   Reducing the time and cost associated with identifying promising hit/lead compounds.\n    *   Tackling previously \"undruggable\" targets [Source 9].\n\n**5. Leading Experts, Organizations, or Companies**\n\n*   **Quantum Computing Providers (Hardware & Platforms):** IBM [Source 4, Source 19, Source 21], D-Wave Systems [Source 3, Source 7, Source 10], Google Quantum AI, Microsoft (Azure Quantum Elements) [Source 2, Source 8], Quantinuum [Source 8, Source 25], PASQAL [Source 21]. Cloud providers like AWS are also key enablers [Source 19].\n*   **Specialized QML/AI Drug Discovery Companies:** Insilico Medicine [Source 1, Source 5, Source 9, Source 20, Source 32], Zapata AI (formerly Zapata Computing) [Source 9, Source 20, Source 32], Qubit Pharmaceuticals [Source 19, Source 21], Aqemia [Source 19], ProteinQure [Source 14], Gero [Source 7], Good Chemistry [Source 17], Menten AI [Source 19], Polaris Quantum Biotech [Source 19].\n*   **Pharmaceutical Companies (Exploring/Partnering):** Japan Tobacco (JT) [Source 3, Source 10], Merck, Roche [Source 31], GSK, Boehringer Ingelheim, Pfizer [Source 7, Source 31], AbbVie, PharmCADD [Source 19]. Many large pharma companies are engaging via pilot programs or collaborations [Source 1, Source 14].\n*   **Academic Research Groups/Institutions:** University of Toronto (e.g., groups of Alán Aspuru-Guzik, Mohammad Ghazi Vakili) [Source 1, Source 4, Source 9, Source 20, Source 32], Harvard University (e.g., Christoph Gorgulla) [Source 4], St. Jude Children's Research Hospital [Source 4, Source 9], Leiden University [Source 12], and numerous others contributing to fundamental QML and generative chemistry research.\n*   **Technology & Consulting Companies:** Accenture [Source 19], Atos [Source 19], Fujitsu [Source 19] are also involved, often in integration and application development.\n\n---\n\nIn summary, hybrid quantum-classical generative models represent a frontier in *de novo* drug design, showing early promise exemplified by recent experimental validations like the KRAS inhibitor study. However, the field is heavily constrained by current NISQ hardware limitations and the ongoing challenge of proving definitive quantum advantage. Future progress hinges on both hardware maturation and continued algorithmic innovation, with significant potential impact on accelerating the discovery of novel therapeutics if these hurdles can be overcome."
          },
          "metadata": {}
        },
        {
          "output_type": "stream",
          "name": "stdout",
          "text": [
            "\n",
            "📊 Search Results Used:\n"
          ]
        },
        {
          "output_type": "display_data",
          "data": {
            "text/plain": [
              "<IPython.core.display.HTML object>"
            ],
            "text/html": [
              "<style>\n",
              ".container {\n",
              "  align-items: center;\n",
              "  border-radius: 8px;\n",
              "  display: flex;\n",
              "  font-family: Google Sans, Roboto, sans-serif;\n",
              "  font-size: 14px;\n",
              "  line-height: 20px;\n",
              "  padding: 8px 12px;\n",
              "}\n",
              ".chip {\n",
              "  display: inline-block;\n",
              "  border: solid 1px;\n",
              "  border-radius: 16px;\n",
              "  min-width: 14px;\n",
              "  padding: 5px 16px;\n",
              "  text-align: center;\n",
              "  user-select: none;\n",
              "  margin: 0 8px;\n",
              "  -webkit-tap-highlight-color: transparent;\n",
              "}\n",
              ".carousel {\n",
              "  overflow: auto;\n",
              "  scrollbar-width: none;\n",
              "  white-space: nowrap;\n",
              "  margin-right: -12px;\n",
              "}\n",
              ".headline {\n",
              "  display: flex;\n",
              "  margin-right: 4px;\n",
              "}\n",
              ".gradient-container {\n",
              "  position: relative;\n",
              "}\n",
              ".gradient {\n",
              "  position: absolute;\n",
              "  transform: translate(3px, -9px);\n",
              "  height: 36px;\n",
              "  width: 9px;\n",
              "}\n",
              "@media (prefers-color-scheme: light) {\n",
              "  .container {\n",
              "    background-color: #fafafa;\n",
              "    box-shadow: 0 0 0 1px #0000000f;\n",
              "  }\n",
              "  .headline-label {\n",
              "    color: #1f1f1f;\n",
              "  }\n",
              "  .chip {\n",
              "    background-color: #ffffff;\n",
              "    border-color: #d2d2d2;\n",
              "    color: #5e5e5e;\n",
              "    text-decoration: none;\n",
              "  }\n",
              "  .chip:hover {\n",
              "    background-color: #f2f2f2;\n",
              "  }\n",
              "  .chip:focus {\n",
              "    background-color: #f2f2f2;\n",
              "  }\n",
              "  .chip:active {\n",
              "    background-color: #d8d8d8;\n",
              "    border-color: #b6b6b6;\n",
              "  }\n",
              "  .logo-dark {\n",
              "    display: none;\n",
              "  }\n",
              "  .gradient {\n",
              "    background: linear-gradient(90deg, #fafafa 15%, #fafafa00 100%);\n",
              "  }\n",
              "}\n",
              "@media (prefers-color-scheme: dark) {\n",
              "  .container {\n",
              "    background-color: #1f1f1f;\n",
              "    box-shadow: 0 0 0 1px #ffffff26;\n",
              "  }\n",
              "  .headline-label {\n",
              "    color: #fff;\n",
              "  }\n",
              "  .chip {\n",
              "    background-color: #2c2c2c;\n",
              "    border-color: #3c4043;\n",
              "    color: #fff;\n",
              "    text-decoration: none;\n",
              "  }\n",
              "  .chip:hover {\n",
              "    background-color: #353536;\n",
              "  }\n",
              "  .chip:focus {\n",
              "    background-color: #353536;\n",
              "  }\n",
              "  .chip:active {\n",
              "    background-color: #464849;\n",
              "    border-color: #53575b;\n",
              "  }\n",
              "  .logo-light {\n",
              "    display: none;\n",
              "  }\n",
              "  .gradient {\n",
              "    background: linear-gradient(90deg, #1f1f1f 15%, #1f1f1f00 100%);\n",
              "  }\n",
              "}\n",
              "</style>\n",
              "<div class=\"container\">\n",
              "  <div class=\"headline\">\n",
              "    <svg class=\"logo-light\" width=\"18\" height=\"18\" viewBox=\"9 9 35 35\" fill=\"none\" xmlns=\"http://www.w3.org/2000/svg\">\n",
              "      <path fill-rule=\"evenodd\" clip-rule=\"evenodd\" d=\"M42.8622 27.0064C42.8622 25.7839 42.7525 24.6084 42.5487 23.4799H26.3109V30.1568H35.5897C35.1821 32.3041 33.9596 34.1222 32.1258 35.3448V39.6864H37.7213C40.9814 36.677 42.8622 32.2571 42.8622 27.0064V27.0064Z\" fill=\"#4285F4\"/>\n",
              "      <path fill-rule=\"evenodd\" clip-rule=\"evenodd\" d=\"M26.3109 43.8555C30.9659 43.8555 34.8687 42.3195 37.7213 39.6863L32.1258 35.3447C30.5898 36.3792 28.6306 37.0061 26.3109 37.0061C21.8282 37.0061 18.0195 33.9811 16.6559 29.906H10.9194V34.3573C13.7563 39.9841 19.5712 43.8555 26.3109 43.8555V43.8555Z\" fill=\"#34A853\"/>\n",
              "      <path fill-rule=\"evenodd\" clip-rule=\"evenodd\" d=\"M16.6559 29.8904C16.3111 28.8559 16.1074 27.7588 16.1074 26.6146C16.1074 25.4704 16.3111 24.3733 16.6559 23.3388V18.8875H10.9194C9.74388 21.2072 9.06992 23.8247 9.06992 26.6146C9.06992 29.4045 9.74388 32.022 10.9194 34.3417L15.3864 30.8621L16.6559 29.8904V29.8904Z\" fill=\"#FBBC05\"/>\n",
              "      <path fill-rule=\"evenodd\" clip-rule=\"evenodd\" d=\"M26.3109 16.2386C28.85 16.2386 31.107 17.1164 32.9095 18.8091L37.8466 13.8719C34.853 11.082 30.9659 9.3736 26.3109 9.3736C19.5712 9.3736 13.7563 13.245 10.9194 18.8875L16.6559 23.3388C18.0195 19.2636 21.8282 16.2386 26.3109 16.2386V16.2386Z\" fill=\"#EA4335\"/>\n",
              "    </svg>\n",
              "    <svg class=\"logo-dark\" width=\"18\" height=\"18\" viewBox=\"0 0 48 48\" xmlns=\"http://www.w3.org/2000/svg\">\n",
              "      <circle cx=\"24\" cy=\"23\" fill=\"#FFF\" r=\"22\"/>\n",
              "      <path d=\"M33.76 34.26c2.75-2.56 4.49-6.37 4.49-11.26 0-.89-.08-1.84-.29-3H24.01v5.99h8.03c-.4 2.02-1.5 3.56-3.07 4.56v.75l3.91 2.97h.88z\" fill=\"#4285F4\"/>\n",
              "      <path d=\"M15.58 25.77A8.845 8.845 0 0 0 24 31.86c1.92 0 3.62-.46 4.97-1.31l4.79 3.71C31.14 36.7 27.65 38 24 38c-5.93 0-11.01-3.4-13.45-8.36l.17-1.01 4.06-2.85h.8z\" fill=\"#34A853\"/>\n",
              "      <path d=\"M15.59 20.21a8.864 8.864 0 0 0 0 5.58l-5.03 3.86c-.98-2-1.53-4.25-1.53-6.64 0-2.39.55-4.64 1.53-6.64l1-.22 3.81 2.98.22 1.08z\" fill=\"#FBBC05\"/>\n",
              "      <path d=\"M24 14.14c2.11 0 4.02.75 5.52 1.98l4.36-4.36C31.22 9.43 27.81 8 24 8c-5.93 0-11.01 3.4-13.45 8.36l5.03 3.85A8.86 8.86 0 0 1 24 14.14z\" fill=\"#EA4335\"/>\n",
              "    </svg>\n",
              "    <div class=\"gradient-container\"><div class=\"gradient\"></div></div>\n",
              "  </div>\n",
              "  <div class=\"carousel\">\n",
              "    <a class=\"chip\" href=\"https://vertexaisearch.cloud.google.com/grounding-api-redirect/AWQVqALzQDFiDNGPWXD3MzrVFBEgOJ2i2tXl1y9rbNI8G6VFsy2zyzhlowxVagoK2nW6Di5RxD-7Pkowlwqj-kUqEkcFtekojQg4S5nayCALyrB7HJzNvxCmgpHlUWJkLzxmK5b5i2PpFRBFNd6f9BLRyFwo7uQpRThqkOrHbMt4rhp7x99ppCAR1tLm7r1xt8oQVcDub-6FsZ16\">qGAN drug design examples</a>\n",
              "    <a class=\"chip\" href=\"https://vertexaisearch.cloud.google.com/grounding-api-redirect/AWQVqAIC1DvUF9ZMi33g6tFrEmusDh-rILxVZVrtDwORJp08kSbn_HYf1ZaCRulDX1uQHq-9wdS9WbnkbJv7vdV6GO3KwgLIstvKI9_fotCGvyZiCXVG8T8FDr-VxSyZ_Lzorn9t_HG2nQQN_QKAInQKtzn46nT9ySEGx3H_IkO_Bb8w1sAfuQ-ETG4lVwblFNfS_zx05YiJnXIyLl9Kkysu5C55ZyLU73L9\">innovations quantum generative chemistry</a>\n",
              "    <a class=\"chip\" href=\"https://vertexaisearch.cloud.google.com/grounding-api-redirect/AWQVqAIxChsYdZ4vo8GyIiUaPrEuresA7jJ1Cx4PhbvmdsZtt6A8wQtfjKdh9IZDHFlsvRqTF6-qXxY-BhoeK4hm1mooIHJ_mpCTxtD63wiJHnuw7Qw_6QZRoFF9txdZYZb_a2P0h6GpQb_8kJPfkH7VyDJG5aaEn9XroFiebjGZgpwKdOjuVs8DphCSfI_zwZeBGu96lWhfp8NGJv6GYGo-nguQd76CSj_d2QcmkdZ6xUeaLnIwWoP9m7EXaMGJQYvO9OSUjKFarciSZlbO6PE=\">latest developments hybrid quantum-classical generative models drug discovery</a>\n",
              "    <a class=\"chip\" href=\"https://vertexaisearch.cloud.google.com/grounding-api-redirect/AWQVqAL3Lei9WwpFZeMgizKF7Sj5zE3RDNtdDX__tU1PVr1Al2XHTVSEOAYXgXVTIaUIIlCLp0XYNZIbyfr36xZnffS0OefjAWItvxmitFWuE3H3tHFHipEEoDnFS8Of2o_tV2pZtqHkiDyskHMbGfSLdQ3WGiqJ34bOCrI7FbOW36RgOhFzfKWcy3_c4vonm-5cp6G32bIdRGv-CT3TXumRbH7pzJY5bJTEh0Wwx-l5caaN7g8f9jhEYNlQYAb1D3QQ\">challenges hybrid quantum generative models de novo drug design</a>\n",
              "    <a class=\"chip\" href=\"https://vertexaisearch.cloud.google.com/grounding-api-redirect/AWQVqAIXIry1tnC5Vwi2cCE2xvTZAdETis2DMXVYXETjx_gvx3vdsa6ov04r5yGuyMgHZdJoUWWAXsBpJxD5B38Uvb3M3uBuhd71Oi1MzXfENZD-v4zQLWOF8kyMtVym685TXjC-yHBPytupu5Zm91swKFH5kHohMsW7e_Pk5UDBSQ36791ufBYSLNAccpB-yjfF6RluseObzwdUIoTjIuA_y-u30tpRX0TtPV-R99cMBnJPssxkTB1pD9a4EmFrBYQ=\">leading researchers companies quantum generative models pharma</a>\n",
              "    <a class=\"chip\" href=\"https://vertexaisearch.cloud.google.com/grounding-api-redirect/AWQVqALKKNZ_k2ORR7U-9la8z1li2DMoCLEhCg077vc_W4BEQzAImAqC9CzgSUO-AvWIThodSqraxbieJ06_YHX8FDu9bRryftb1hTupQBac-d1P8f0RSZiDvCx384mvYPkfFEzvHVr-KjlccrIIwYT4OdL5pwTHtkUkqY1xDd0sXVduNW0gxsKJiRm3q3sPIC5FaPH25Q6zLZFXvYfkMF1shpQ4DCSwAKt55P1_V8nKqX0OyGLlLIRGKNNRNZkzhl3hxJh0\">hybrid quantum classical generative models drug discovery research</a>\n",
              "    <a class=\"chip\" href=\"https://vertexaisearch.cloud.google.com/grounding-api-redirect/AWQVqALnKepUZLZ5xfL4HTbr0qlCTXQ1bxLm0QBwF_5El0XIzd2SPFjYMXVUCuDfyWVed4CrZ9UA_ildgQS5aaBTJ7F-c4Oi8oQQ9Ba3TAHiKK_0W4bJVMMgU8kOtYxjOoYMWqXn7jt3vaEg3KOPFH-nUV8QM-S8WrRDXCJVPCtAJMIJgGk3-oU96I0rd7r_JVfWU62Qf010WGtjpjY8Lnrg7bkEUHkVB_xMwmfl1ayXRzA9Gro=\">future potential hybrid QML generating novel drugs</a>\n",
              "    <a class=\"chip\" href=\"https://vertexaisearch.cloud.google.com/grounding-api-redirect/AWQVqAKh8EuWYocgKl5W5v-GP5bX-1QkncV_izNBmCvWgeJZz7wzz9Cb93S7L3nUzXu-fqztOEX98XbybaceJGdv77k1Hq56AShm2Pbh_i_JWybT0Gl9EVDHajoKVWNGm79osPai7QKgQ-Owll9SLyEoTGe2HnxLyGraVU-4c0do_hC9eKw2jzmwhG4ZtUPeW5kwLicgsgMHID8mfIT3_imTpTi8eUY8V2hQp6Cl_KuXeyFKqh9CmKY=\">quantum generative chemistry challenges controversies</a>\n",
              "    <a class=\"chip\" href=\"https://vertexaisearch.cloud.google.com/grounding-api-redirect/AWQVqAKmrrRkNr8Z_SurJlEjHwdjt6sfSGuUCDplCl1HPiK7nT_KqYVn8WSFD701LWN6HeGLdsobyw37Dy4RmubfwoFTodCFWHadzAqW_YIf4MMRV0gM8SIUePlTBdl6Jiot6GdJLtwvcGYdrTm0WOUw6OfTlo9WUtZSh833TACDfNXxB5PzT_3N_ONtc9h2OA61X4vR7-xnkN5i-7CH3yrCVGe7VKs=\">quantum utility generative chemistry</a>\n",
              "    <a class=\"chip\" href=\"https://vertexaisearch.cloud.google.com/grounding-api-redirect/AWQVqALOKLuSsaZUZ7z15ChomAznPziZlkS-Va-HqVOalFk9o0UEx4cpsfi6n9i5TGoNM4iUO79gIWrlyaGU3ye9F7XC-6U0AgW8bv1eVQY0myfGXV3moyYjy6pYN7q56Ysbm1u9-zFqWg6ZNSgFHym_mCHtFsROH_f85n7GSEDs0YeHtOFFhHKo2rwud6CwpDLg8H2X7IAIRQo=\">QCBM de novo drug design</a>\n",
              "  </div>\n",
              "</div>\n"
            ]
          },
          "metadata": {}
        },
        {
          "output_type": "stream",
          "name": "stdout",
          "text": [
            "\n",
            "📊 Stage 4: Synthesizing insights and recommendations\n"
          ]
        },
        {
          "output_type": "display_data",
          "data": {
            "text/plain": [
              "<IPython.core.display.Markdown object>"
            ],
            "text/markdown": "Okay, here is an executive brief synthesizing the research findings on Quantum Machine Learning (QML) for Drug Discovery, aimed at informing strategic decision-making.\n\n---\n\n**Executive Brief: Quantum Machine Learning (QML) in Drug Discovery**\n\n**Subject:** Strategic Assessment of Quantum Machine Learning for Accelerating Pharmaceutical R&D\n\n**Date:** April 2, 2025\n\n**1. Key Findings & Major Insights**\n\n*   **Nascent but High-Potential Field:** QML for drug discovery is in its early, experimental stages, primarily constrained by current Noisy Intermediate-Scale Quantum (NISQ) hardware limitations (qubit count, noise, coherence). However, it holds significant theoretical potential to tackle computationally intractable problems in chemistry and biology relevant to drug R&D.\n*   **Hybrid Models Dominate Near-Term Strategy:** The most practical and researched approach currently involves hybrid quantum-classical models. These leverage classical computers/AI for data handling and large parts of algorithms, while offloading specific, complex calculations (e.g., energy estimation, sampling complex distributions) to quantum processors (QPUs). Examples include QCBM-DNNs and Quantum Annealing enhanced VAEs/LLMs.\n*   **Focus on High-Value Computational Bottlenecks:** Current efforts concentrate on areas where classical methods face significant challenges:\n    *   ***De Novo* Drug Design:** Using hybrid generative models (e.g., quantum-enhanced GANs, VAEs, QCBMs) to explore chemical space and design novel molecules with desired properties (e.g., KRAS inhibitor example).\n    *   **Property Prediction:** Applying techniques like Variational Quantum Algorithms (VQAs) for more accurate calculation of molecular properties, particularly protein-ligand binding affinity.\n*   **Early Successes Signal Potential, Quantum Advantage Unproven Broadly:** While promising proof-of-concept studies exist (e.g., Insilico/partners' experimentally validated KRAS inhibitor, JT/D-Wave's enhanced molecular generation), demonstrating consistent, practical quantum advantage over state-of-the-art classical algorithms on relevant, large-scale drug discovery problems remains largely elusive and a key research focus.\n\n**2. Emerging Trends & Patterns**\n\n*   **Shift Towards Experimental Validation:** Moving beyond theoretical work and simulations to implementing hybrid models and validating generated candidates through lab experiments.\n*   **Integration with Advanced Classical AI:** Increasing use of QML components to enhance sophisticated classical AI models (e.g., LLMs, Transformers) rather than attempting to build purely quantum solutions.\n*   **Platformization and Accessibility:** Major cloud providers (AWS, Azure, Google) and quantum hardware vendors (IBM, D-Wave, Quantinuum, etc.) are developing platforms (e.g., Azure Quantum Elements, CUDA-Q) to lower the barrier for experimentation.\n*   **Growing Industry Collaboration:** Increased partnerships between pharmaceutical companies and quantum technology providers to conduct pilot studies targeting specific drug discovery challenges.\n*   **Focus on Error Mitigation:** Significant research effort is dedicated to developing techniques to extract meaningful results from current noisy quantum hardware.\n\n**3. Gaps & Contradictions**\n\n*   **Scalability Demonstration:** Lack of clear evidence showing how current hybrid QML approaches perform and scale when applied to realistic, large-scale drug discovery problems on actual NISQ hardware.\n*   **Standardized Benchmarking:** Absence of widely accepted, rigorous benchmarks for fairly comparing QML vs. best-in-class classical methods on relevant drug discovery tasks, making claims of \"advantage\" difficult to objectively assess.\n*   **Hardware Development Uncertainty:** The timeline and specific pathway towards fault-tolerant quantum computing, which would unlock more complex QML applications, remain uncertain, complicating long-term strategic planning.\n*   **Optimal Chemical Data Encoding:** Ongoing research and lack of consensus on the most effective and resource-efficient ways to represent complex molecular information in quantum states.\n*   **Hype vs. Reality Tension:** Significant industry investment and media attention contrast with the substantial technical hurdles still faced by current quantum hardware and algorithms.\n\n**4. Recommendations for Practical Application**\n\n*   **Invest in Hybrid Expertise:** Develop or acquire interdisciplinary talent knowledgeable in both state-of-the-art classical computational chemistry/AI *and* quantum computing principles to effectively evaluate and implement hybrid solutions.\n*   **Engage in Targeted Pilot Projects:** Collaborate with quantum vendors/platforms on well-defined, computationally hard sub-problems within the drug discovery pipeline (e.g., refining binding energy calculations for specific targets, exploring novel generative approaches for constrained chemical spaces). Use these pilots for learning, capability building, and internal benchmarking against classical methods.\n*   **Monitor Ecosystem Developments:** Actively track advancements in quantum hardware (qubit quality, count, error correction), algorithms, software platforms, and cloud offerings. Be prepared to adapt strategies as the technology matures.\n*   **Explore Quantum-Inspired Classical Improvements:** Investigate if concepts or algorithms developed in QML research (e.g., novel sampling or optimization techniques) can be adapted to enhance existing *classical* computational tools, yielding near-term benefits even without quantum hardware.\n\n**5. Suggested Directions for Future Research**\n\n*   **Develop Robust Drug Discovery Benchmarks for QML:** Create standardized datasets, tasks, and metrics specifically designed for rigorous comparison between QML and classical approaches in a drug discovery context.\n*   **Co-design NISQ Algorithms and Applications:** Focus R&D on QML algorithms explicitly tailored for NISQ limitations (error mitigation, low circuit depth) and targeted at specific chemical/biological problems where near-term quantum utility is plausible.\n*   **Advance Chemical Data Encoding Methods:** Research novel quantum encoding techniques that efficiently capture relevant chemical features and are compatible with leading QML algorithms and NISQ hardware constraints.\n*   **Scale Hybrid Models & Prioritize Experimental Validation:** Systematically push the complexity limits of hybrid QML models for drug discovery tasks and rigorously validate computational predictions through experimental testing.\n*   **Prepare for Fault Tolerance:** Continue theoretical research into QML algorithms (e.g., for large-scale quantum simulation) that can leverage the power of future fault-tolerant quantum computers for problems currently beyond reach.\n\n**Conclusion:** QML presents a potentially transformative, long-term opportunity for drug discovery but remains a high-risk, early-stage technology. A pragmatic strategy involves building foundational knowledge, engaging in targeted pilot projects using hybrid approaches, closely monitoring technological progress, and focusing R&D on overcoming key challenges like scalability, benchmarking, and demonstrating practical quantum utility.\n\n---"
          },
          "metadata": {}
        },
        {
          "output_type": "stream",
          "name": "stdout",
          "text": [
            "\n",
            "# This advanced workflow demonstrates how to break down complex research questions\n",
            "# into a structured process that builds deeper insights at each stage.\n",
            "# Note how the search tool is used differently at each stage of the research process.\n"
          ]
        }
      ]
    },
    {
      "cell_type": "code",
      "source": [
        "# @title ## 9b. Competitive Intelligence Framework\n",
        "#This workflow demonstrates how to use search for detailed competitive analysis\n",
        "\n",
        "print(\"\\n--- 9b. Competitive Intelligence Framework ---\")\n",
        "print(\"# Using Gemini's search capabilities to conduct structured competitive analysis\")\n",
        "\n",
        "def competitive_intelligence_analysis(company_name, industry=None):\n",
        "    \"\"\"\n",
        "    Conduct a structured competitive intelligence analysis for a company\n",
        "\n",
        "    Args:\n",
        "        company_name (str): The target company to analyze\n",
        "        industry (str): Optional industry context\n",
        "\n",
        "    Returns:\n",
        "        List of responses from the analysis\n",
        "    \"\"\"\n",
        "    # Create a new chat with search\n",
        "    competitive_chat = client.chats.create(model=MODEL, config={'tools': [search_tool]})\n",
        "\n",
        "    # Store responses\n",
        "    responses = []\n",
        "\n",
        "    # Stage 1: Company profile and market position\n",
        "    print(f\"\\n📊 Stage 1: Company profile and market position for {company_name}\")\n",
        "    stage1_prompt = f\"\"\"\n",
        "    Conduct a comprehensive analysis of {company_name}{' in the ' + industry + ' industry' if industry else ''}.\n",
        "\n",
        "    Include:\n",
        "    1. Brief company overview (history, size, key offerings)\n",
        "    2. Current market position and market share if available\n",
        "    3. Recent financial performance and growth trends\n",
        "    4. Key executives and leadership changes\n",
        "    5. Recent strategic moves (acquisitions, partnerships, new product launches)\n",
        "\n",
        "    Focus on factual information from reliable sources. Include specific numbers\n",
        "    and metrics wherever possible.\n",
        "    \"\"\"\n",
        "\n",
        "    stage1_response = competitive_chat.send_message(stage1_prompt)\n",
        "    show_parts(stage1_response)\n",
        "    responses.append(stage1_response)\n",
        "    time.sleep(2)\n",
        "\n",
        "    # Stage 2: Competitor identification and comparison\n",
        "    print(f\"\\n📊 Stage 2: Competitor identification and analysis\")\n",
        "    stage2_prompt = f\"\"\"\n",
        "    Identify the top 3-5 direct competitors of {company_name}.\n",
        "\n",
        "    For each competitor:\n",
        "    1. Provide a brief company overview\n",
        "    2. Compare their market share and position to {company_name}\n",
        "    3. Analyze their key differentiators and competitive advantages\n",
        "    4. Describe their recent strategic moves\n",
        "    5. Evaluate their strengths and weaknesses relative to {company_name}\n",
        "\n",
        "    Present this in a structured comparative format.\n",
        "    \"\"\"\n",
        "\n",
        "    stage2_response = competitive_chat.send_message(stage2_prompt)\n",
        "    show_parts(stage2_response)\n",
        "    responses.append(stage2_response)\n",
        "    time.sleep(2)\n",
        "\n",
        "    # Stage 3: SWOT analysis\n",
        "    print(f\"\\n📊 Stage 3: SWOT analysis for {company_name}\")\n",
        "    stage3_prompt = f\"\"\"\n",
        "    Based on the information gathered, conduct a detailed SWOT analysis for {company_name}:\n",
        "\n",
        "    1. Strengths: Internal advantages and capabilities\n",
        "    2. Weaknesses: Internal disadvantages or limitations\n",
        "    3. Opportunities: External factors that could benefit the company\n",
        "    4. Threats: External factors that could negatively impact the company\n",
        "\n",
        "    For each category, provide 4-5 specific points with brief explanations supported by\n",
        "    the information you've gathered.\n",
        "    \"\"\"\n",
        "\n",
        "    stage3_response = competitive_chat.send_message(stage3_prompt)\n",
        "    show_parts(stage3_response)\n",
        "    responses.append(stage3_response)\n",
        "    time.sleep(2)\n",
        "\n",
        "    # Stage 4: Strategic recommendations\n",
        "    print(f\"\\n📊 Stage 4: Strategic recommendations\")\n",
        "    stage4_prompt = f\"\"\"\n",
        "    Based on all the competitive intelligence gathered, provide strategic recommendations for {company_name}.\n",
        "\n",
        "    Your recommendations should address:\n",
        "    1. How to leverage identified strengths\n",
        "    2. How to address or mitigate weaknesses\n",
        "    3. How to capitalize on market opportunities\n",
        "    4. How to defend against competitive threats\n",
        "    5. Potential areas for innovation or market disruption\n",
        "\n",
        "    Format these as actionable strategic recommendations that could be presented to executives.\n",
        "    \"\"\"\n",
        "\n",
        "    stage4_response = competitive_chat.send_message(stage4_prompt)\n",
        "    show_parts(stage4_response)\n",
        "    responses.append(stage4_response)\n",
        "\n",
        "    # # Visualize search usage across the analysis stages\n",
        "    # print(\"\\n📊 Competitive Analysis Search Utilization:\")\n",
        "    # visualize_search_usage(responses)\n",
        "\n",
        "    return responses\n",
        "\n",
        "# Run the competitive intelligence analysis on a real company\n",
        "target_company = \"Rivian\"\n",
        "industry = \"Electric Vehicle Manufacturing\"\n",
        "competitive_results = competitive_intelligence_analysis(target_company, industry)\n",
        "\n",
        "print(\"\\n# This framework demonstrates how to use search capabilities for comprehensive competitive analysis\")\n",
        "print(\"# The structured approach ensures thorough coverage of all aspects of competitive intelligence\")\n",
        "print(\"# Notice how the search tool grounds the analysis in factual, up-to-date information\")"
      ],
      "metadata": {
        "id": "L39x2NvfQr6W",
        "outputId": "916f7c39-4f4a-40ee-8d8d-14965f801e7c",
        "colab": {
          "base_uri": "https://localhost:8080/",
          "height": 1000
        }
      },
      "execution_count": 15,
      "outputs": [
        {
          "output_type": "stream",
          "name": "stdout",
          "text": [
            "\n",
            "--- 9b. Competitive Intelligence Framework ---\n",
            "# Using Gemini's search capabilities to conduct structured competitive analysis\n",
            "\n",
            "📊 Stage 1: Company profile and market position for Rivian\n"
          ]
        },
        {
          "output_type": "display_data",
          "data": {
            "text/plain": [
              "<IPython.core.display.Markdown object>"
            ],
            "text/markdown": "Here's a comprehensive analysis of Rivian in the Electric Vehicle Manufacturing industry, based on the provided search results:\n\n**1. Company Overview**\n\n*   **History:** Rivian Automotive, Inc. was founded in 2009. Initially, Rivian focused on autonomous and electric vehicles before settling on Rivian Automotive in 2011.\n*   **Key People:**\n    *   Founder and CEO: R. J. Scaringe.\n    *   Chief Financial Officer: Claire McDonough.\n    *   Chief Operations Officer: Javier Varela.\n    *   Chief Accounting Officer: Sreela Venkataratnam (appointed in 2025).\n*   **Size:**\n    *   As of December 2023, Rivian had 16,790 employees.\n    *   In Q4 2024, Rivian's market share was 0.23%.\n*   **Key Offerings:**\n    *   R1T: A two-row, five-passenger electric pickup truck.\n    *   R1S: A three-row, seven-passenger electric SUV.\n    *   Electric Delivery Van (EDV):  Rivian Commercial Van platform for Electric Delivery Van with collaboration with Amazon.com, Inc.\n    *   Software and services:  Remarketing, vehicle repair and maintenance services, and vehicle electrical architecture and software development services.\n    *   Rivian Adventure Network: Direct Current fast chargers.\n    *   FleetOS:  A proprietary, end-to-end centralized fleet management subscription platform.\n    *   Batteries\n*   **Manufacturing Facilities:**\n    *   Normal, Illinois (primary manufacturing plant).\n    *   Plans to build another US$5 billion factory in the US state of Georgia, in Social Circle, Georgia.\n\n**2. Current Market Position and Market Share**\n\n*   **Market Share:** As of Q4 2024, Rivian's market share was approximately 0.23%. Another source states Rivian improved its overall company market share to approximately 1.14% due to strong revenue growth of 31.86%.\n*   **Competitors:**  Key competitors include Tesla, Ford, General Motors, BYD and BMW.\n*   **Stock Performance:** As of April 1, 2025, Rivian's stock price increased by 6.50% to $12.41.\n*   **Deliveries:** Delivered 51,779 units in 2024.\n*   **Production:** In the fourth quarter of 2024, Rivian produced 12,727 vehicles.\n*   **Market Capitalization:** As of April 2, 2025, Rivian has a market capitalization of $15 Billion.\n\n**3. Recent Financial Performance and Growth Trends**\n\n*   **Revenue:**\n    *   2024: $4.97 billion, a 12% increase from the previous year.\n    *   Q4 2024: $1.73 billion, surpassing expectations of $1.4 billion.\n*   **Gross Profit:**\n    *   Q4 2024: Achieved a gross profit of $170 million, the first-ever gross quarterly profit.\n*   **Net Loss:**\n    *   2024: $4.75 billion loss.\n    *   Q4 2024: Net loss of $743 million (or 70 cents per share), an improvement from the $1.52 billion loss in the same period the previous year.\n*   **Free Cash Flow:** Substantial $1.18 billion free cash flow.\n*   **Cash Reserves:**  Accumulated $5.29 billion in cash.\n*   **Sales Forecast for 2025:** Expects to sell between 46,000 and 51,000 EVs, which is below the 51,779 units delivered in 2024.\n*   **Losses Forecast for 2025:** Expects adjusted losses to be between $1.7 billion and $1.9 billion for 2025, down from a $2.69 billion loss in the previous quarter.\n*   **Capital Expenditures:** Plans to increase capital expenditures from $1.6 billion to $1.7 billion in 2025 to prepare for the launch of its new “R2” midsize vehicles in 2026.\n*   **Profitability Target:** Targets positive adjusted EBITDA by 2027.\n\n**4. Key Executives and Leadership Changes**\n\n*   **Key Executives:**\n    *   CEO: R. J. Scaringe\n    *   CFO: Claire McDonough\n    *   COO: Javier Varela\n    *   Chief Accounting Officer: Sreela Venkataratnam\n*   **Recent Leadership Changes:**\n    *   Sreela Venkataratnam appointed as Chief Accounting Officer (2025).\n    *   Kjell Gruner, Chief Commercial Officer, resigned in July 2024. Dagan Mishoulam was promoted to SVP of commercial.\n    *   Jeffrey Baker, chief accounting officer, resigned in July 2024.\n    *   Tim Fallon, VP of manufacturing operations, left in August 2024.\n    *   Jennifer Prenner hired to lead marketing efforts (2024).\n    *   Jonas Reinke hired as VP of product management in January 2024.\n    *   Richard Farquhar moved to the role of senior vice president of future R&D (2023).\n    *   Paul Frey assumed responsibility for battery development (2023).\n\n**5. Recent Strategic Moves**\n\n*   **Partnerships:**\n    *   Volkswagen Group:  Intends to invest up to $5 billion in Rivian.\n    *   Amazon:  Collaboration on Electric Delivery Van.\n*   **New Product Launches:**\n    *   R2 SUV: Launch expected in 2026, with a starting price of $45,000.\n    *   R3:  A more affordable vehicle than the R2.\n*   **Spinoff:** Spun off its micromobility business into a new venture, Also, Inc., with $105 million investment from Eclipse Ventures, while maintaining a minority stake.\n*   **Factory Retooling:** The Normal, Illinois plant is expected to be idled for retooling during the second half of 2025.\n*   **Commercial EV Sales:** Opened orders for its commercial vans to small and large fleets in the U.S. (February 2025).\n*   **Charging Network:**  Rivian planned to build an exclusive charging network in the United States and Canada by the end of 2023.\n\nThis analysis provides a snapshot of Rivian's current standing in the EV industry based on the latest available information.\n"
          },
          "metadata": {}
        },
        {
          "output_type": "stream",
          "name": "stdout",
          "text": [
            "\n",
            "📊 Search Results Used:\n"
          ]
        },
        {
          "output_type": "display_data",
          "data": {
            "text/plain": [
              "<IPython.core.display.HTML object>"
            ],
            "text/html": [
              "<style>\n",
              ".container {\n",
              "  align-items: center;\n",
              "  border-radius: 8px;\n",
              "  display: flex;\n",
              "  font-family: Google Sans, Roboto, sans-serif;\n",
              "  font-size: 14px;\n",
              "  line-height: 20px;\n",
              "  padding: 8px 12px;\n",
              "}\n",
              ".chip {\n",
              "  display: inline-block;\n",
              "  border: solid 1px;\n",
              "  border-radius: 16px;\n",
              "  min-width: 14px;\n",
              "  padding: 5px 16px;\n",
              "  text-align: center;\n",
              "  user-select: none;\n",
              "  margin: 0 8px;\n",
              "  -webkit-tap-highlight-color: transparent;\n",
              "}\n",
              ".carousel {\n",
              "  overflow: auto;\n",
              "  scrollbar-width: none;\n",
              "  white-space: nowrap;\n",
              "  margin-right: -12px;\n",
              "}\n",
              ".headline {\n",
              "  display: flex;\n",
              "  margin-right: 4px;\n",
              "}\n",
              ".gradient-container {\n",
              "  position: relative;\n",
              "}\n",
              ".gradient {\n",
              "  position: absolute;\n",
              "  transform: translate(3px, -9px);\n",
              "  height: 36px;\n",
              "  width: 9px;\n",
              "}\n",
              "@media (prefers-color-scheme: light) {\n",
              "  .container {\n",
              "    background-color: #fafafa;\n",
              "    box-shadow: 0 0 0 1px #0000000f;\n",
              "  }\n",
              "  .headline-label {\n",
              "    color: #1f1f1f;\n",
              "  }\n",
              "  .chip {\n",
              "    background-color: #ffffff;\n",
              "    border-color: #d2d2d2;\n",
              "    color: #5e5e5e;\n",
              "    text-decoration: none;\n",
              "  }\n",
              "  .chip:hover {\n",
              "    background-color: #f2f2f2;\n",
              "  }\n",
              "  .chip:focus {\n",
              "    background-color: #f2f2f2;\n",
              "  }\n",
              "  .chip:active {\n",
              "    background-color: #d8d8d8;\n",
              "    border-color: #b6b6b6;\n",
              "  }\n",
              "  .logo-dark {\n",
              "    display: none;\n",
              "  }\n",
              "  .gradient {\n",
              "    background: linear-gradient(90deg, #fafafa 15%, #fafafa00 100%);\n",
              "  }\n",
              "}\n",
              "@media (prefers-color-scheme: dark) {\n",
              "  .container {\n",
              "    background-color: #1f1f1f;\n",
              "    box-shadow: 0 0 0 1px #ffffff26;\n",
              "  }\n",
              "  .headline-label {\n",
              "    color: #fff;\n",
              "  }\n",
              "  .chip {\n",
              "    background-color: #2c2c2c;\n",
              "    border-color: #3c4043;\n",
              "    color: #fff;\n",
              "    text-decoration: none;\n",
              "  }\n",
              "  .chip:hover {\n",
              "    background-color: #353536;\n",
              "  }\n",
              "  .chip:focus {\n",
              "    background-color: #353536;\n",
              "  }\n",
              "  .chip:active {\n",
              "    background-color: #464849;\n",
              "    border-color: #53575b;\n",
              "  }\n",
              "  .logo-light {\n",
              "    display: none;\n",
              "  }\n",
              "  .gradient {\n",
              "    background: linear-gradient(90deg, #1f1f1f 15%, #1f1f1f00 100%);\n",
              "  }\n",
              "}\n",
              "</style>\n",
              "<div class=\"container\">\n",
              "  <div class=\"headline\">\n",
              "    <svg class=\"logo-light\" width=\"18\" height=\"18\" viewBox=\"9 9 35 35\" fill=\"none\" xmlns=\"http://www.w3.org/2000/svg\">\n",
              "      <path fill-rule=\"evenodd\" clip-rule=\"evenodd\" d=\"M42.8622 27.0064C42.8622 25.7839 42.7525 24.6084 42.5487 23.4799H26.3109V30.1568H35.5897C35.1821 32.3041 33.9596 34.1222 32.1258 35.3448V39.6864H37.7213C40.9814 36.677 42.8622 32.2571 42.8622 27.0064V27.0064Z\" fill=\"#4285F4\"/>\n",
              "      <path fill-rule=\"evenodd\" clip-rule=\"evenodd\" d=\"M26.3109 43.8555C30.9659 43.8555 34.8687 42.3195 37.7213 39.6863L32.1258 35.3447C30.5898 36.3792 28.6306 37.0061 26.3109 37.0061C21.8282 37.0061 18.0195 33.9811 16.6559 29.906H10.9194V34.3573C13.7563 39.9841 19.5712 43.8555 26.3109 43.8555V43.8555Z\" fill=\"#34A853\"/>\n",
              "      <path fill-rule=\"evenodd\" clip-rule=\"evenodd\" d=\"M16.6559 29.8904C16.3111 28.8559 16.1074 27.7588 16.1074 26.6146C16.1074 25.4704 16.3111 24.3733 16.6559 23.3388V18.8875H10.9194C9.74388 21.2072 9.06992 23.8247 9.06992 26.6146C9.06992 29.4045 9.74388 32.022 10.9194 34.3417L15.3864 30.8621L16.6559 29.8904V29.8904Z\" fill=\"#FBBC05\"/>\n",
              "      <path fill-rule=\"evenodd\" clip-rule=\"evenodd\" d=\"M26.3109 16.2386C28.85 16.2386 31.107 17.1164 32.9095 18.8091L37.8466 13.8719C34.853 11.082 30.9659 9.3736 26.3109 9.3736C19.5712 9.3736 13.7563 13.245 10.9194 18.8875L16.6559 23.3388C18.0195 19.2636 21.8282 16.2386 26.3109 16.2386V16.2386Z\" fill=\"#EA4335\"/>\n",
              "    </svg>\n",
              "    <svg class=\"logo-dark\" width=\"18\" height=\"18\" viewBox=\"0 0 48 48\" xmlns=\"http://www.w3.org/2000/svg\">\n",
              "      <circle cx=\"24\" cy=\"23\" fill=\"#FFF\" r=\"22\"/>\n",
              "      <path d=\"M33.76 34.26c2.75-2.56 4.49-6.37 4.49-11.26 0-.89-.08-1.84-.29-3H24.01v5.99h8.03c-.4 2.02-1.5 3.56-3.07 4.56v.75l3.91 2.97h.88z\" fill=\"#4285F4\"/>\n",
              "      <path d=\"M15.58 25.77A8.845 8.845 0 0 0 24 31.86c1.92 0 3.62-.46 4.97-1.31l4.79 3.71C31.14 36.7 27.65 38 24 38c-5.93 0-11.01-3.4-13.45-8.36l.17-1.01 4.06-2.85h.8z\" fill=\"#34A853\"/>\n",
              "      <path d=\"M15.59 20.21a8.864 8.864 0 0 0 0 5.58l-5.03 3.86c-.98-2-1.53-4.25-1.53-6.64 0-2.39.55-4.64 1.53-6.64l1-.22 3.81 2.98.22 1.08z\" fill=\"#FBBC05\"/>\n",
              "      <path d=\"M24 14.14c2.11 0 4.02.75 5.52 1.98l4.36-4.36C31.22 9.43 27.81 8 24 8c-5.93 0-11.01 3.4-13.45 8.36l5.03 3.85A8.86 8.86 0 0 1 24 14.14z\" fill=\"#EA4335\"/>\n",
              "    </svg>\n",
              "    <div class=\"gradient-container\"><div class=\"gradient\"></div></div>\n",
              "  </div>\n",
              "  <div class=\"carousel\">\n",
              "    <a class=\"chip\" href=\"https://vertexaisearch.cloud.google.com/grounding-api-redirect/AWQVqAKRJ8Lq0RGzDKvQEL9Xi3diFcUOd84ehGY8QQCC_UrArm3s0K0QeBnc9H-Qd4iLW_fUUGlJjw8c0FolpPhJLJCtW4QYmM4ETBixc7tLRPsZH1QbQjcCZ2iS7PBKB7b0bDtxROvPi9Bvmrfkqmy7UlGinViDJON_vxq4GXY7yPL9rckB8BHoGDInpilbKXTNVuWqO5xK0BeT0gIwgW7Vw6Q6t5FqoJm1bwEzBHFL27k=\">Rivian current market position market share</a>\n",
              "    <a class=\"chip\" href=\"https://vertexaisearch.cloud.google.com/grounding-api-redirect/AWQVqAJJlzFA5oqbOPN-r-7zvW5QiW9L8X_Yjd8EQRfSUqFtacF1BLmaGWu0HVRkTQ2uvpgxrXuMYXI97V2jqbAXXOB-YBi1kCJaU_nKCofs3gN12kxstuJwRaUUCtRC6Kzsu0_VFll4KG4IjYYAFlRrPI14T4GeuLEbgMoA4QjP16FaMpGPMhTQKXpRySr3OQWyPjmvIJz4As_m-393mNaXW_QQ6RZtGEB7xlqo6jUFd9wIq0pj7fF5aA==\">Rivian company overview history size key offerings</a>\n",
              "    <a class=\"chip\" href=\"https://vertexaisearch.cloud.google.com/grounding-api-redirect/AWQVqAJsoey1kH5J4SK7-fXgfZR6h59G37ZVR6YWtq5qtM3RQfy1M040S_1DgsVDUwUNJ2BN0oBWtlQvwabPHel1fC4PnQ6vgxtNCVfZdngwIhyS5qtE_QQc1QByU7qYacHW1MLeNw4CBAIIvJDS61YWF-ZGJueFNbXrv603wuEjQBPAyj5SeXg2Fo1FmX7br3jziyz-U3vYfOSeuMCh6yvzelW8BUCtKqB0xpv68Ui5GaxuMCskJw4=\">Rivian recent financial performance growth trends</a>\n",
              "    <a class=\"chip\" href=\"https://vertexaisearch.cloud.google.com/grounding-api-redirect/AWQVqAL3-fTzjMrzgg3PdadkrZuNni2-pEzN4C9Dep5IJBtxezXhpuf1Mc5ng9HJI20R92cvj0Py9vvyK1IRKSqojAFZ6pWXSdHfLxT7x_buZP8FXpRmtlZ0hvIvXN4WyY1zOhjGheL3yCAWjSOvz5Ha80p97QbJ7AmF75ZE8aN3U4RiV_wdx_-NNHSNsBNuX6wxfddnBNuDN1urnabO45Lu6RX9CE79RzbfEc-KhsEbS64OyexylwxET9nkh9ylm1Y-AB3b3cl_S4iPgCOrxTaj3XDZ\">Rivian recent strategic moves acquisitions partnerships new product launches</a>\n",
              "    <a class=\"chip\" href=\"https://vertexaisearch.cloud.google.com/grounding-api-redirect/AWQVqAK54zS3loafANIJqmAYwhM05ybIQGA7bi966xGco3IK_ZB5tsijkFEwmZWrzliOm8gCQboGYZMoHfhZkxKFOQZzM_pf8Bgqki443hGAl6SpBosDx9V2dN2H45636MVcGfyD3vr2j68oweZVwACnCwqr7T-DtBm-yI_qDhvLwWZXLZoX3bwPXuLBp_OwBZ2xcwxVUVClsJiLa_YPj4ogDCR82uWnL4dK1WcCvYaVmkI=\">Rivian automotive market analysis 2024 2025</a>\n",
              "    <a class=\"chip\" href=\"https://vertexaisearch.cloud.google.com/grounding-api-redirect/AWQVqAL39Uz22q_z3RugeHm9Kj4DwH3UItknNSmbVA5fQ2oENVxaFVhzbilM86dmq2Wf50dkhXnaWjMkKwcqW57Cxx47Rl1LvbB4xwpHdNZObc7gOBNBkoWn-tC7XsMeU_P0cPAb5d93g6-7B-B67WNR1JM5qWsAg73iPiIXMCm_LjP6uP-Gcmzsz_tP_z6jq-xMOnza0NQvuJ-y6GyKnWgot2U3zjXzNsKdw-HxOr0=\">Rivian key executives leadership changes</a>\n",
              "  </div>\n",
              "</div>\n"
            ]
          },
          "metadata": {}
        },
        {
          "output_type": "stream",
          "name": "stdout",
          "text": [
            "\n",
            "📊 Stage 2: Competitor identification and analysis\n"
          ]
        },
        {
          "output_type": "display_data",
          "data": {
            "text/plain": [
              "<IPython.core.display.Markdown object>"
            ],
            "text/markdown": "Here's an analysis of Rivian's top competitors, presented in a structured comparative format:\n\n**Competitor Analysis: Rivian Automotive**\n\n| **Competitor** | **Tesla**                                                                                                                                                                                                                                                                              | **Ford (Electric Vehicle Division)**                                                                                                                                                                                                  | **General Motors (Electric Vehicle Division)**                                                                                                                                                              | **BMW (Electric Vehicle Division)**                                                                                                                                                              |\n| :------------- | :------------------------------------------------------------------------------------------------------------------------------------------------------------------------------------------------------------------------------------------------------------------------------------- | :---------------------------------------------------------------------------------------------------------------------------------------------------------------------------------------------------------------------------------- | :-------------------------------------------------------------------------------------------------------------------------------------------------------------------------------------------------------- | :--------------------------------------------------------------------------------------------------------------------------------------------------------------------------------------------------- |\n| **1. Overview** | Tesla, Inc. designs, develops, manufactures, sells, and leases electric vehicles, and energy generation and storage systems globally. Sells vehicles under the Tesla brand, and energy products under the Tesla Energy brand (e.g., solar panels, solar roof, and batteries). | Ford Motor Company is a global automotive manufacturer, with a growing electric vehicle division. Sells electric vehicles under the Ford brand.                                                                                    | General Motors Company is a global automotive manufacturer, with a growing electric vehicle division. Sells electric vehicles under the GM brand.                                                         | BMW Group is a global automotive manufacturer, with a growing electric vehicle division. Sells electric vehicles under the BMW brand.                                                                    |\n| **2. Market Share & Position vs. Rivian** | Dominates the EV market by a considerable margin. Holds the largest global market share in the EV sector. Tesla's market share is significantly higher than Rivian's (approximately 0.23% as of Q4 2024).                                                  | Ford has a significant presence in the EV market, particularly with models like the Mustang Mach-E and F-150 Lightning. Ford's EV market share is larger than Rivian's but still significantly smaller than Tesla's.               | GM is aggressively expanding its EV portfolio with models like the Chevrolet Bolt, Hummer EV, and Cadillac Lyriq. GM's EV market share is growing and exceeds Rivian's.                                   | BMW is expanding its EV portfolio with models like the i4 and iX. BMW's EV market share is smaller than Tesla's and Ford's but larger than Rivian's.                                                         |\n| **3. Key Differentiators & Advantages** | Brand recognition, Supercharger network, advanced technology (Autopilot, AI), economies of scale in manufacturing. Vertically integrated supply chain, large production capacity.                                                                       | Established brand reputation, extensive dealer network, expertise in truck manufacturing (F-150 Lightning), government fleet sales, access to traditional automotive supply chains.                                             | Extensive dealer network, established brand reputation, diverse model lineup, government fleet sales, Ultium battery platform.                                                                             | Premium brand image, focus on driving dynamics and performance, established global presence, advanced technology (e.g., electric drivetrains, battery technology).                                                 |\n| **4. Recent Strategic Moves** | Investing in Gigafactories globally, expanding Supercharger network, developing new battery technology, launching new models (e.g., Cybertruck), focusing on AI and autonomous driving.                                                                           | Investing heavily in EV production and battery manufacturing, developing new EV models, forming partnerships for battery supply, scaling production of existing EV models (Mustang Mach-E, F-150 Lightning).                    | Investing heavily in EV production, developing Ultium battery platform, launching new EV models (Hummer EV, Cadillac Lyriq, Chevrolet Silverado EV), forming partnerships for battery technology.           | Expanding EV model lineup (i4, iX), investing in battery technology and manufacturing, partnering with companies for raw material supply, focusing on luxury EV market.                                    |\n| **5. Strengths & Weaknesses vs. Rivian** | **Strengths:** Massive scale, established infrastructure, superior brand recognition, technological leadership.                                                                                                                                        | **Strengths:** Brand recognition, extensive dealer network, truck expertise, manufacturing capacity. **Weaknesses:** Transitioning from traditional vehicles, less advanced EV technology compared to Tesla, slower to adapt. | **Strengths:** Brand recognition, dealer network, diverse model lineup, battery technology. **Weaknesses:** Transitioning from traditional vehicles, slower to innovate, complex organizational structure. | **Strengths:** Premium brand, global presence, driving dynamics, technology. **Weaknesses:** Higher price points, limited EV models compared to Tesla and GM, less aggressive EV strategy.               |\n|                                          | **Weaknesses:** Manufacturing quality issues, volatile leadership, high price points, focus on high-volume vehicles.                                                                                                                                        |                                                                                                                                                                                                                                  |                                                                                                                                                                                                          |                                                                                                                                                                                                          |\n"
          },
          "metadata": {}
        },
        {
          "output_type": "stream",
          "name": "stdout",
          "text": [
            "\n",
            "📊 Stage 3: SWOT analysis for Rivian\n"
          ]
        },
        {
          "output_type": "display_data",
          "data": {
            "text/plain": [
              "<IPython.core.display.Markdown object>"
            ],
            "text/markdown": "Here's a detailed SWOT analysis for Rivian based on the information gathered:\n\n**Rivian SWOT Analysis**\n\n**1. Strengths (Internal Advantages and Capabilities):**\n\n*   **Innovative Product Design and Technology:** Rivian's R1T and R1S vehicles have garnered positive reviews for their unique design, off-road capabilities, and innovative features, setting them apart from traditional trucks and SUVs.\n*   **Strong Brand Image (Adventure/Sustainability Focus):** Rivian has successfully cultivated a brand image centered around adventure, sustainability, and environmental consciousness, appealing to a specific niche of environmentally conscious consumers.\n*   **Amazon Partnership (Electric Delivery Van):** The partnership with Amazon provides a guaranteed revenue stream and allows Rivian to leverage Amazon's logistics expertise and infrastructure for the electric delivery van program.\n*   **First Mover Advantage (Electric Adventure Vehicles):** Rivian was among the first to market with an electric pickup truck and SUV focused on the adventure/outdoor segment, establishing an early foothold in this niche.\n*   **Growing Revenue:** Rivian's revenue has shown an increasing trend, with the company reporting $4.97 billion for 2024, a 12% increase from the previous year.\n\n**2. Weaknesses (Internal Disadvantages or Limitations):**\n\n*   **Limited Production Capacity and Scalability:** Despite increasing production, Rivian's production capacity remains relatively low compared to established automakers like Tesla, Ford, and GM, limiting its ability to meet demand and achieve economies of scale.\n*   **High Cash Burn Rate and Net Losses:** Rivian continues to experience significant net losses. While losses are decreasing, Rivian's high cash burn rate raises concerns about its long-term financial sustainability and reliance on external funding.\n*   **Dependence on External Funding:** Rivian's reliance on external funding to support its operations and expansion plans makes it vulnerable to changes in investor sentiment and market conditions.\n*   **Supply Chain Constraints:** Like many automakers, Rivian faces ongoing supply chain constraints, particularly related to semiconductors and battery components, which can disrupt production and increase costs.\n*   **Newcomer Status (Lack of Established Brand Loyalty):** As a relatively new company, Rivian lacks the established brand loyalty and reputation of legacy automakers, making it challenging to compete on brand recognition alone.\n\n**3. Opportunities (External Factors That Could Benefit the Company):**\n\n*   **Growing Demand for Electric Vehicles:** The increasing consumer demand for electric vehicles, driven by environmental concerns and government incentives, provides a favorable market environment for Rivian's products.\n*   **Expansion into New Markets and Vehicle Segments:** Rivian has the opportunity to expand its product lineup beyond pickup trucks and SUVs and enter new markets globally to increase its customer base and revenue streams, namely launching R2 and R3 models.\n*   **Government Incentives and Regulations Supporting EVs:** Government incentives, subsidies, and regulations promoting the adoption of electric vehicles, such as tax credits and emission standards, can further boost demand for Rivian's products.\n*   **Advancements in Battery Technology:** Advancements in battery technology, such as increased energy density and reduced costs, can improve the performance, range, and affordability of Rivian's vehicles.\n*   **Strategic Partnerships and Collaborations:** Rivian can leverage strategic partnerships and collaborations with other companies, such as Volkswagen and Amazon, to access new technologies, resources, and markets.\n\n**4. Threats (External Factors That Could Negatively Impact the Company):**\n\n*   **Intense Competition in the EV Market:** The electric vehicle market is becoming increasingly competitive, with established automakers and new entrants vying for market share, putting pressure on Rivian's pricing, margins, and market position.\n*   **Economic Downturn and Recession Risks:** An economic downturn or recession could dampen consumer demand for high-priced electric vehicles like Rivian's, impacting sales and profitability.\n*   **Fluctuations in Raw Material Prices:** Fluctuations in raw material prices, particularly for battery components like lithium and cobalt, can increase production costs and erode Rivian's profit margins.\n*   **Changes in Government Regulations and Incentives:** Changes in government regulations and incentives related to electric vehicles, such as reduced tax credits or stricter emission standards, could negatively impact demand for Rivian's products.\n*   **Technological Disruptions:** Rapid technological advancements in the automotive industry, such as the development of solid-state batteries or autonomous driving systems, could render Rivian's technology obsolete or require significant investments to stay competitive.\n"
          },
          "metadata": {}
        },
        {
          "output_type": "stream",
          "name": "stdout",
          "text": [
            "\n",
            "📊 Stage 4: Strategic recommendations\n"
          ]
        },
        {
          "output_type": "display_data",
          "data": {
            "text/plain": [
              "<IPython.core.display.Markdown object>"
            ],
            "text/markdown": "Here are actionable strategic recommendations for Rivian, based on the competitive intelligence gathered, designed to address strengths, weaknesses, opportunities, and threats:\n\n**Strategic Recommendations for Rivian Executives**\n\n**1. Leveraging Strengths:**\n\n*   **Recommendation:** *Amplify Rivian's brand narrative of adventure and sustainability.*\n\n    *   **Action:** Invest in marketing campaigns that showcase Rivian vehicles in real-world adventure scenarios, highlighting their off-road capabilities and environmental benefits. Partner with outdoor influencers and organizations to further amplify the brand message.\n    *   **Rationale:** Reinforces a unique selling proposition, attracting eco-conscious consumers and differentiating Rivian from competitors focused solely on performance or luxury.\n*   **Recommendation:** *Expand on Rivian's Technology*.\n\n    *   **Action:** Invest in research and development to improve the technology on the vehicle, batteries, and charging capabilities. Increase software capabilities with over the air updates, and increase the functionality and customer experience.\n    *   **Rationale:** This expands on Rivian's unique advantage to push technology forward, drawing in customers that value cutting edge technology.\n*   **Recommendation:** *Optimize and expand the Amazon Partnership*.\n\n    *   **Action:** Collaborate with Amazon to refine the EDV design and performance based on real-world feedback. Explore opportunities to expand the partnership beyond delivery vans to other areas, such as logistics and charging infrastructure.\n    *   **Rationale:** Secures a reliable revenue stream and provides valuable insights into commercial vehicle operations. Optimize EDV to be as efficient and effective to increase order volume, with a goal to expand operations and offerings.\n\n**2. Addressing Weaknesses:**\n\n*   **Recommendation:** *Aggressively pursue cost optimization and manufacturing efficiencies.*\n\n    *   **Action:** Implement lean manufacturing principles, negotiate favorable contracts with suppliers, and streamline internal processes to reduce production costs. Explore opportunities for vertical integration in key areas like battery production.\n    *   **Rationale:** Improves profitability, reduces reliance on external funding, and enables Rivian to compete more effectively on price.\n*   **Recommendation:** *Secure Long-Term Battery Supply Chain*.\n\n    *   **Action:** Diversify battery suppliers, invest in battery technology development, and explore strategic partnerships with battery manufacturers to ensure a reliable and cost-effective supply of battery cells.\n    *   **Rationale:** Mitigates supply chain risks, reduces reliance on single suppliers, and positions Rivian for long-term growth in the EV market.\n*   **Recommendation:** *Phased and Data-Driven Capacity Expansion*.\n\n    *   **Action:** Carefully manage production capacity expansion based on demand forecasts and market conditions. Use data analytics to optimize production schedules and inventory levels.\n    *   **Rationale:** Prevents overinvestment in production capacity, minimizes financial risks, and ensures that production aligns with market demand.\n\n**3. Capitalizing on Market Opportunities:**\n\n*   **Recommendation:** *Accelerate Expansion into New Vehicle Segments (R2/R3)*\n\n    *   **Action:** Expedite the development and launch of the R2 and R3 models to target a broader range of consumers and compete in high-volume EV segments.\n    *   **Rationale:** Broadens Rivian's customer base, increases revenue streams, and reduces dependence on niche markets.\n*   **Recommendation:** *Strategic International Expansion*\n\n    *   **Action:** Prioritize expansion into key international markets with strong EV adoption rates, such as Europe and China. Adapt vehicle designs and features to meet local market preferences and regulations.\n    *   **Rationale:** Captures growth opportunities in rapidly expanding EV markets and diversifies revenue streams.\n*   **Recommendation:** *Expand charging infrastructure investments.*\n\n    *   **Action:** Continue to build out the Rivian Adventure Network in strategic locations, and partner with other charging networks to expand access for Rivian owners.\n    *   **Rationale:** Enhances customer experience, reduces range anxiety, and positions Rivian as a leader in EV infrastructure.\n\n**4. Defending Against Competitive Threats:**\n\n*   **Recommendation:** *Differentiate through superior technology and customer experience.*\n\n    *   **Action:** Invest in advanced technologies like autonomous driving, over-the-air software updates, and personalized in-car experiences to differentiate Rivian vehicles from competitors.\n    *   **Rationale:** Creates a loyal customer base, increases brand value, and justifies premium pricing.\n*   **Recommendation:** *Monitor competitor pricing and product strategies.*\n\n    *   **Action:** Closely track competitor pricing, product features, and marketing campaigns to identify potential threats and adjust Rivian's strategies accordingly.\n    *   **Rationale:** Enables proactive responses to competitive pressures and helps maintain a competitive edge.\n*   **Recommendation:** *Focus on building brand loyalty and advocacy.*\n\n    *   **Action:** Implement customer loyalty programs, engage with Rivian owners through online communities and events, and provide exceptional customer service to foster brand advocacy.\n    *   **Rationale:** Retains existing customers, attracts new customers through word-of-mouth referrals, and strengthens brand resilience against competitive attacks.\n\n**5. Potential Areas for Innovation or Market Disruption:**\n\n*   **Recommendation:** *Develop advanced battery technology with enhanced range and charging speed.*\n\n    *   **Action:** Invest in solid-state battery research and development to achieve breakthroughs in energy density, charging time, and safety.\n    *   **Rationale:** Creates a significant competitive advantage, addresses range anxiety, and positions Rivian as a technology leader in the EV market.\n*   **Recommendation:** *Explore subscription-based services and revenue models.*\n\n    *   **Action:** Offer subscription-based services for features like autonomous driving, over-the-air software updates, and access to Rivian charging networks to generate recurring revenue streams.\n    *   **Rationale:** Enhances customer value, creates recurring revenue streams, and shifts from a traditional product-based business model to a service-oriented model.\n\nBy implementing these strategic recommendations, Rivian can leverage its strengths, address its weaknesses, capitalize on market opportunities, and defend against competitive threats, ultimately positioning itself for long-term success in the rapidly evolving electric vehicle market.\n"
          },
          "metadata": {}
        },
        {
          "output_type": "stream",
          "name": "stdout",
          "text": [
            "\n",
            "# This framework demonstrates how to use search capabilities for comprehensive competitive analysis\n",
            "# The structured approach ensures thorough coverage of all aspects of competitive intelligence\n",
            "# Notice how the search tool grounds the analysis in factual, up-to-date information\n"
          ]
        }
      ]
    },
    {
      "cell_type": "code",
      "source": [
        "summary = \"\"\"\n",
        "## Workshop Summary\n",
        "\n",
        "In this comprehensive workshop, we've explored Gemini 2.0's advanced search capabilities:\n",
        "\n",
        "### Key Concepts Covered\n",
        "- Setting up the Google Gen AI SDK environment\n",
        "- Comparing responses with and without search\n",
        "- Maintaining context in search-based conversations\n",
        "- Creating data visualizations with search-sourced data\n",
        "- Combining search with multimodal inputs\n",
        "- Practical applications across various domains\n",
        "- Advanced search techniques and best practices\n",
        "- Integrating search with function calling\n",
        "\n",
        "### Next Steps for Your Learning Journey\n",
        "\n",
        "1. **Experiment with Different Models**\n",
        "   - Try both Flash and Pro models to understand their strengths\n",
        "   - Observe how different models utilize search resources\n",
        "\n",
        "2. **Build a Practical Project**\n",
        "   - Create a research assistant, market analyzer, or travel planner\n",
        "   - Combine search with other capabilities like code generation\n",
        "\n",
        "3. **Explore Advanced Features**\n",
        "   - Dive into multimodal capabilities with image analysis\n",
        "   - Experiment with combining function calling and search\n",
        "\n",
        "4. **Contribute to the Community**\n",
        "   - Share your findings and innovative applications\n",
        "   - Contribute examples to open-source Gemini projects\n",
        "\n",
        "5. **Stay Updated**\n",
        "   - Gemini models and capabilities are constantly evolving\n",
        "   - Check the official documentation for the latest features\n",
        "\n",
        "### Resources\n",
        "- Google Gen AI SDK Documentation: https://ai.google.dev/docs\n",
        "- Gemini API Cookbook: https://github.com/google-gemini/cookbook/\n",
        "- Google AI Studio: https://ai.google.dev/\n",
        "\"\"\"\n",
        "\n",
        "display(Markdown(summary))\n",
        "\n",
        "print(\"Thank you for participating in this workshop!\")\n",
        "print(\"We hope you're inspired to build amazing applications with Gemini 2.0's search capabilities.\")"
      ],
      "metadata": {
        "colab": {
          "base_uri": "https://localhost:8080/",
          "height": 767
        },
        "id": "PJCliD0U9OJu",
        "outputId": "ae9af64e-8aa0-4839-f4b2-6474f6b19cb9"
      },
      "execution_count": 16,
      "outputs": [
        {
          "output_type": "display_data",
          "data": {
            "text/plain": [
              "<IPython.core.display.Markdown object>"
            ],
            "text/markdown": "\n## Workshop Summary\n\nIn this comprehensive workshop, we've explored Gemini 2.0's advanced search capabilities:\n\n### Key Concepts Covered\n- Setting up the Google Gen AI SDK environment\n- Comparing responses with and without search\n- Maintaining context in search-based conversations\n- Creating data visualizations with search-sourced data\n- Combining search with multimodal inputs\n- Practical applications across various domains\n- Advanced search techniques and best practices\n- Integrating search with function calling\n\n### Next Steps for Your Learning Journey\n\n1. **Experiment with Different Models**\n   - Try both Flash and Pro models to understand their strengths\n   - Observe how different models utilize search resources\n\n2. **Build a Practical Project**\n   - Create a research assistant, market analyzer, or travel planner\n   - Combine search with other capabilities like code generation\n\n3. **Explore Advanced Features**\n   - Dive into multimodal capabilities with image analysis\n   - Experiment with combining function calling and search\n\n4. **Contribute to the Community**\n   - Share your findings and innovative applications\n   - Contribute examples to open-source Gemini projects\n\n5. **Stay Updated**\n   - Gemini models and capabilities are constantly evolving\n   - Check the official documentation for the latest features\n\n### Resources\n- Google Gen AI SDK Documentation: https://ai.google.dev/docs\n- Gemini API Cookbook: https://github.com/google-gemini/cookbook/\n- Google AI Studio: https://ai.google.dev/\n"
          },
          "metadata": {}
        },
        {
          "output_type": "stream",
          "name": "stdout",
          "text": [
            "Thank you for participating in this workshop!\n",
            "We hope you're inspired to build amazing applications with Gemini 2.0's search capabilities.\n"
          ]
        }
      ]
    },
    {
      "cell_type": "code",
      "source": [],
      "metadata": {
        "id": "DGXwPtenOT2z"
      },
      "execution_count": 17,
      "outputs": []
    }
  ]
}